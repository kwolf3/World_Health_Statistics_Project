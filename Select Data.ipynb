{
 "cells": [
  {
   "cell_type": "code",
   "execution_count": 1,
   "metadata": {},
   "outputs": [],
   "source": [
    "import pandas as pd\n",
    "import pathlib"
   ]
  },
  {
   "cell_type": "code",
   "execution_count": 2,
   "metadata": {},
   "outputs": [],
   "source": [
    "dataset_path = pathlib.Path.cwd()/'Datasets'\n",
    "WHS_path = dataset_path/'World_Health_Statistics_archive'"
   ]
  },
  {
   "cell_type": "markdown",
   "metadata": {},
   "source": [
    "## Cancer"
   ]
  },
  {
   "cell_type": "code",
   "execution_count": 3,
   "metadata": {},
   "outputs": [],
   "source": [
    "cancer_data = pd.read_csv(WHS_path/'30-70cancerChdEtc.csv')"
   ]
  },
  {
   "cell_type": "code",
   "execution_count": 4,
   "metadata": {},
   "outputs": [
    {
     "data": {
      "text/html": [
       "<div>\n",
       "<style scoped>\n",
       "    .dataframe tbody tr th:only-of-type {\n",
       "        vertical-align: middle;\n",
       "    }\n",
       "\n",
       "    .dataframe tbody tr th {\n",
       "        vertical-align: top;\n",
       "    }\n",
       "\n",
       "    .dataframe thead th {\n",
       "        text-align: right;\n",
       "    }\n",
       "</style>\n",
       "<table border=\"1\" class=\"dataframe\">\n",
       "  <thead>\n",
       "    <tr style=\"text-align: right;\">\n",
       "      <th></th>\n",
       "      <th>Location</th>\n",
       "      <th>Period</th>\n",
       "      <th>Indicator</th>\n",
       "      <th>Dim1</th>\n",
       "      <th>First Tooltip</th>\n",
       "    </tr>\n",
       "  </thead>\n",
       "  <tbody>\n",
       "    <tr>\n",
       "      <th>0</th>\n",
       "      <td>Afghanistan</td>\n",
       "      <td>2016</td>\n",
       "      <td>Probability (%) of dying between age 30 and ex...</td>\n",
       "      <td>Both sexes</td>\n",
       "      <td>29.8</td>\n",
       "    </tr>\n",
       "    <tr>\n",
       "      <th>1</th>\n",
       "      <td>Afghanistan</td>\n",
       "      <td>2016</td>\n",
       "      <td>Probability (%) of dying between age 30 and ex...</td>\n",
       "      <td>Male</td>\n",
       "      <td>31.8</td>\n",
       "    </tr>\n",
       "    <tr>\n",
       "      <th>2</th>\n",
       "      <td>Afghanistan</td>\n",
       "      <td>2016</td>\n",
       "      <td>Probability (%) of dying between age 30 and ex...</td>\n",
       "      <td>Female</td>\n",
       "      <td>27.7</td>\n",
       "    </tr>\n",
       "    <tr>\n",
       "      <th>3</th>\n",
       "      <td>Afghanistan</td>\n",
       "      <td>2015</td>\n",
       "      <td>Probability (%) of dying between age 30 and ex...</td>\n",
       "      <td>Both sexes</td>\n",
       "      <td>29.8</td>\n",
       "    </tr>\n",
       "    <tr>\n",
       "      <th>4</th>\n",
       "      <td>Afghanistan</td>\n",
       "      <td>2015</td>\n",
       "      <td>Probability (%) of dying between age 30 and ex...</td>\n",
       "      <td>Male</td>\n",
       "      <td>31.9</td>\n",
       "    </tr>\n",
       "    <tr>\n",
       "      <th>...</th>\n",
       "      <td>...</td>\n",
       "      <td>...</td>\n",
       "      <td>...</td>\n",
       "      <td>...</td>\n",
       "      <td>...</td>\n",
       "    </tr>\n",
       "    <tr>\n",
       "      <th>2740</th>\n",
       "      <td>Zimbabwe</td>\n",
       "      <td>2005</td>\n",
       "      <td>Probability (%) of dying between age 30 and ex...</td>\n",
       "      <td>Male</td>\n",
       "      <td>22.1</td>\n",
       "    </tr>\n",
       "    <tr>\n",
       "      <th>2741</th>\n",
       "      <td>Zimbabwe</td>\n",
       "      <td>2005</td>\n",
       "      <td>Probability (%) of dying between age 30 and ex...</td>\n",
       "      <td>Female</td>\n",
       "      <td>22.9</td>\n",
       "    </tr>\n",
       "    <tr>\n",
       "      <th>2742</th>\n",
       "      <td>Zimbabwe</td>\n",
       "      <td>2000</td>\n",
       "      <td>Probability (%) of dying between age 30 and ex...</td>\n",
       "      <td>Both sexes</td>\n",
       "      <td>21.6</td>\n",
       "    </tr>\n",
       "    <tr>\n",
       "      <th>2743</th>\n",
       "      <td>Zimbabwe</td>\n",
       "      <td>2000</td>\n",
       "      <td>Probability (%) of dying between age 30 and ex...</td>\n",
       "      <td>Male</td>\n",
       "      <td>21.6</td>\n",
       "    </tr>\n",
       "    <tr>\n",
       "      <th>2744</th>\n",
       "      <td>Zimbabwe</td>\n",
       "      <td>2000</td>\n",
       "      <td>Probability (%) of dying between age 30 and ex...</td>\n",
       "      <td>Female</td>\n",
       "      <td>21.7</td>\n",
       "    </tr>\n",
       "  </tbody>\n",
       "</table>\n",
       "<p>2745 rows × 5 columns</p>\n",
       "</div>"
      ],
      "text/plain": [
       "         Location  Period                                          Indicator  \\\n",
       "0     Afghanistan    2016  Probability (%) of dying between age 30 and ex...   \n",
       "1     Afghanistan    2016  Probability (%) of dying between age 30 and ex...   \n",
       "2     Afghanistan    2016  Probability (%) of dying between age 30 and ex...   \n",
       "3     Afghanistan    2015  Probability (%) of dying between age 30 and ex...   \n",
       "4     Afghanistan    2015  Probability (%) of dying between age 30 and ex...   \n",
       "...           ...     ...                                                ...   \n",
       "2740     Zimbabwe    2005  Probability (%) of dying between age 30 and ex...   \n",
       "2741     Zimbabwe    2005  Probability (%) of dying between age 30 and ex...   \n",
       "2742     Zimbabwe    2000  Probability (%) of dying between age 30 and ex...   \n",
       "2743     Zimbabwe    2000  Probability (%) of dying between age 30 and ex...   \n",
       "2744     Zimbabwe    2000  Probability (%) of dying between age 30 and ex...   \n",
       "\n",
       "            Dim1  First Tooltip  \n",
       "0     Both sexes           29.8  \n",
       "1           Male           31.8  \n",
       "2         Female           27.7  \n",
       "3     Both sexes           29.8  \n",
       "4           Male           31.9  \n",
       "...          ...            ...  \n",
       "2740        Male           22.1  \n",
       "2741      Female           22.9  \n",
       "2742  Both sexes           21.6  \n",
       "2743        Male           21.6  \n",
       "2744      Female           21.7  \n",
       "\n",
       "[2745 rows x 5 columns]"
      ]
     },
     "execution_count": 4,
     "metadata": {},
     "output_type": "execute_result"
    }
   ],
   "source": [
    "cancer_data"
   ]
  },
  {
   "cell_type": "markdown",
   "metadata": {},
   "source": [
    "There is no nulls in this dataset"
   ]
  },
  {
   "cell_type": "code",
   "execution_count": 5,
   "metadata": {},
   "outputs": [
    {
     "data": {
      "text/plain": [
       "Location         2745\n",
       "Period           2745\n",
       "Indicator        2745\n",
       "Dim1             2745\n",
       "First Tooltip    2745\n",
       "dtype: int64"
      ]
     },
     "execution_count": 5,
     "metadata": {},
     "output_type": "execute_result"
    }
   ],
   "source": [
    "cancer_data.isnull().count()"
   ]
  },
  {
   "cell_type": "code",
   "execution_count": 191,
   "metadata": {},
   "outputs": [
    {
     "data": {
      "text/plain": [
       "Location         0\n",
       "Period           0\n",
       "Indicator        0\n",
       "Dim1             0\n",
       "First Tooltip    0\n",
       "dtype: int64"
      ]
     },
     "execution_count": 191,
     "metadata": {},
     "output_type": "execute_result"
    }
   ],
   "source": [
    "cancer_data[cancer_data['First Tooltip'] == 0.0].count()"
   ]
  },
  {
   "cell_type": "markdown",
   "metadata": {},
   "source": [
    "The years in this dataset are 2000, 2005, 2010, 2015, and 2016. It appears to be every 5 years except in regards to 2016."
   ]
  },
  {
   "cell_type": "code",
   "execution_count": 6,
   "metadata": {},
   "outputs": [
    {
     "data": {
      "text/plain": [
       "array([2016, 2015, 2010, 2005, 2000])"
      ]
     },
     "execution_count": 6,
     "metadata": {},
     "output_type": "execute_result"
    }
   ],
   "source": [
    "cancer_data['Period'].unique()"
   ]
  },
  {
   "cell_type": "markdown",
   "metadata": {},
   "source": [
    "All counts are the same for each year, so any year is a great choice."
   ]
  },
  {
   "cell_type": "code",
   "execution_count": 7,
   "metadata": {},
   "outputs": [
    {
     "data": {
      "text/plain": [
       "Location         549\n",
       "Period           549\n",
       "Indicator        549\n",
       "Dim1             549\n",
       "First Tooltip    549\n",
       "dtype: int64"
      ]
     },
     "execution_count": 7,
     "metadata": {},
     "output_type": "execute_result"
    }
   ],
   "source": [
    "cancer_data[cancer_data['Period'] == 2016].count()"
   ]
  },
  {
   "cell_type": "code",
   "execution_count": 8,
   "metadata": {},
   "outputs": [
    {
     "data": {
      "text/plain": [
       "Location         549\n",
       "Period           549\n",
       "Indicator        549\n",
       "Dim1             549\n",
       "First Tooltip    549\n",
       "dtype: int64"
      ]
     },
     "execution_count": 8,
     "metadata": {},
     "output_type": "execute_result"
    }
   ],
   "source": [
    "cancer_data[cancer_data['Period'] == 2015].count()"
   ]
  },
  {
   "cell_type": "code",
   "execution_count": 9,
   "metadata": {},
   "outputs": [
    {
     "data": {
      "text/plain": [
       "Location         549\n",
       "Period           549\n",
       "Indicator        549\n",
       "Dim1             549\n",
       "First Tooltip    549\n",
       "dtype: int64"
      ]
     },
     "execution_count": 9,
     "metadata": {},
     "output_type": "execute_result"
    }
   ],
   "source": [
    "cancer_data[cancer_data['Period'] == 2010].count()"
   ]
  },
  {
   "cell_type": "code",
   "execution_count": 10,
   "metadata": {},
   "outputs": [
    {
     "data": {
      "text/plain": [
       "Location         549\n",
       "Period           549\n",
       "Indicator        549\n",
       "Dim1             549\n",
       "First Tooltip    549\n",
       "dtype: int64"
      ]
     },
     "execution_count": 10,
     "metadata": {},
     "output_type": "execute_result"
    }
   ],
   "source": [
    "cancer_data[cancer_data['Period'] == 2005].count()"
   ]
  },
  {
   "cell_type": "code",
   "execution_count": 11,
   "metadata": {},
   "outputs": [
    {
     "data": {
      "text/plain": [
       "Location         549\n",
       "Period           549\n",
       "Indicator        549\n",
       "Dim1             549\n",
       "First Tooltip    549\n",
       "dtype: int64"
      ]
     },
     "execution_count": 11,
     "metadata": {},
     "output_type": "execute_result"
    }
   ],
   "source": [
    "cancer_data[cancer_data['Period'] == 2000].count()"
   ]
  },
  {
   "cell_type": "markdown",
   "metadata": {},
   "source": [
    "All data is about dying between the age 30 and 70 from cardiovascular disease, cancer, diabetes, or a chronic respiratory disease."
   ]
  },
  {
   "cell_type": "code",
   "execution_count": 12,
   "metadata": {},
   "outputs": [
    {
     "data": {
      "text/plain": [
       "array(['Probability (%) of dying between age 30 and exact age 70 from any of cardiovascular disease, cancer, diabetes, or chronic respiratory disease'],\n",
       "      dtype=object)"
      ]
     },
     "execution_count": 12,
     "metadata": {},
     "output_type": "execute_result"
    }
   ],
   "source": [
    "cancer_data['Indicator'].unique()"
   ]
  },
  {
   "cell_type": "code",
   "execution_count": 13,
   "metadata": {},
   "outputs": [],
   "source": [
    "#cancer_data['Dim1'].str.contains(\"Both Sexes\").count()"
   ]
  },
  {
   "cell_type": "code",
   "execution_count": 14,
   "metadata": {
    "scrolled": true
   },
   "outputs": [],
   "source": [
    "#cancer_data.iloc[[0]]"
   ]
  },
  {
   "cell_type": "code",
   "execution_count": 15,
   "metadata": {},
   "outputs": [
    {
     "data": {
      "text/html": [
       "<div>\n",
       "<style scoped>\n",
       "    .dataframe tbody tr th:only-of-type {\n",
       "        vertical-align: middle;\n",
       "    }\n",
       "\n",
       "    .dataframe tbody tr th {\n",
       "        vertical-align: top;\n",
       "    }\n",
       "\n",
       "    .dataframe thead th {\n",
       "        text-align: right;\n",
       "    }\n",
       "</style>\n",
       "<table border=\"1\" class=\"dataframe\">\n",
       "  <thead>\n",
       "    <tr style=\"text-align: right;\">\n",
       "      <th></th>\n",
       "      <th>Location</th>\n",
       "      <th>Period</th>\n",
       "      <th>Indicator</th>\n",
       "      <th>Dim1</th>\n",
       "      <th>First Tooltip</th>\n",
       "    </tr>\n",
       "  </thead>\n",
       "  <tbody>\n",
       "    <tr>\n",
       "      <th>0</th>\n",
       "      <td>Afghanistan</td>\n",
       "      <td>2016</td>\n",
       "      <td>Probability (%) of dying between age 30 and ex...</td>\n",
       "      <td>Both sexes</td>\n",
       "      <td>29.8</td>\n",
       "    </tr>\n",
       "    <tr>\n",
       "      <th>3</th>\n",
       "      <td>Afghanistan</td>\n",
       "      <td>2015</td>\n",
       "      <td>Probability (%) of dying between age 30 and ex...</td>\n",
       "      <td>Both sexes</td>\n",
       "      <td>29.8</td>\n",
       "    </tr>\n",
       "    <tr>\n",
       "      <th>6</th>\n",
       "      <td>Afghanistan</td>\n",
       "      <td>2010</td>\n",
       "      <td>Probability (%) of dying between age 30 and ex...</td>\n",
       "      <td>Both sexes</td>\n",
       "      <td>31.7</td>\n",
       "    </tr>\n",
       "    <tr>\n",
       "      <th>9</th>\n",
       "      <td>Afghanistan</td>\n",
       "      <td>2005</td>\n",
       "      <td>Probability (%) of dying between age 30 and ex...</td>\n",
       "      <td>Both sexes</td>\n",
       "      <td>34.1</td>\n",
       "    </tr>\n",
       "    <tr>\n",
       "      <th>12</th>\n",
       "      <td>Afghanistan</td>\n",
       "      <td>2000</td>\n",
       "      <td>Probability (%) of dying between age 30 and ex...</td>\n",
       "      <td>Both sexes</td>\n",
       "      <td>34.4</td>\n",
       "    </tr>\n",
       "    <tr>\n",
       "      <th>...</th>\n",
       "      <td>...</td>\n",
       "      <td>...</td>\n",
       "      <td>...</td>\n",
       "      <td>...</td>\n",
       "      <td>...</td>\n",
       "    </tr>\n",
       "    <tr>\n",
       "      <th>2730</th>\n",
       "      <td>Zimbabwe</td>\n",
       "      <td>2016</td>\n",
       "      <td>Probability (%) of dying between age 30 and ex...</td>\n",
       "      <td>Both sexes</td>\n",
       "      <td>19.3</td>\n",
       "    </tr>\n",
       "    <tr>\n",
       "      <th>2733</th>\n",
       "      <td>Zimbabwe</td>\n",
       "      <td>2015</td>\n",
       "      <td>Probability (%) of dying between age 30 and ex...</td>\n",
       "      <td>Both sexes</td>\n",
       "      <td>19.4</td>\n",
       "    </tr>\n",
       "    <tr>\n",
       "      <th>2736</th>\n",
       "      <td>Zimbabwe</td>\n",
       "      <td>2010</td>\n",
       "      <td>Probability (%) of dying between age 30 and ex...</td>\n",
       "      <td>Both sexes</td>\n",
       "      <td>21.1</td>\n",
       "    </tr>\n",
       "    <tr>\n",
       "      <th>2739</th>\n",
       "      <td>Zimbabwe</td>\n",
       "      <td>2005</td>\n",
       "      <td>Probability (%) of dying between age 30 and ex...</td>\n",
       "      <td>Both sexes</td>\n",
       "      <td>22.5</td>\n",
       "    </tr>\n",
       "    <tr>\n",
       "      <th>2742</th>\n",
       "      <td>Zimbabwe</td>\n",
       "      <td>2000</td>\n",
       "      <td>Probability (%) of dying between age 30 and ex...</td>\n",
       "      <td>Both sexes</td>\n",
       "      <td>21.6</td>\n",
       "    </tr>\n",
       "  </tbody>\n",
       "</table>\n",
       "<p>915 rows × 5 columns</p>\n",
       "</div>"
      ],
      "text/plain": [
       "         Location  Period                                          Indicator  \\\n",
       "0     Afghanistan    2016  Probability (%) of dying between age 30 and ex...   \n",
       "3     Afghanistan    2015  Probability (%) of dying between age 30 and ex...   \n",
       "6     Afghanistan    2010  Probability (%) of dying between age 30 and ex...   \n",
       "9     Afghanistan    2005  Probability (%) of dying between age 30 and ex...   \n",
       "12    Afghanistan    2000  Probability (%) of dying between age 30 and ex...   \n",
       "...           ...     ...                                                ...   \n",
       "2730     Zimbabwe    2016  Probability (%) of dying between age 30 and ex...   \n",
       "2733     Zimbabwe    2015  Probability (%) of dying between age 30 and ex...   \n",
       "2736     Zimbabwe    2010  Probability (%) of dying between age 30 and ex...   \n",
       "2739     Zimbabwe    2005  Probability (%) of dying between age 30 and ex...   \n",
       "2742     Zimbabwe    2000  Probability (%) of dying between age 30 and ex...   \n",
       "\n",
       "            Dim1  First Tooltip  \n",
       "0     Both sexes           29.8  \n",
       "3     Both sexes           29.8  \n",
       "6     Both sexes           31.7  \n",
       "9     Both sexes           34.1  \n",
       "12    Both sexes           34.4  \n",
       "...          ...            ...  \n",
       "2730  Both sexes           19.3  \n",
       "2733  Both sexes           19.4  \n",
       "2736  Both sexes           21.1  \n",
       "2739  Both sexes           22.5  \n",
       "2742  Both sexes           21.6  \n",
       "\n",
       "[915 rows x 5 columns]"
      ]
     },
     "execution_count": 15,
     "metadata": {},
     "output_type": "execute_result"
    }
   ],
   "source": [
    "cancer_both_sex = cancer_data[cancer_data['Dim1'] == 'Both sexes']\n",
    "cancer_both_sex"
   ]
  },
  {
   "cell_type": "markdown",
   "metadata": {},
   "source": [
    "## This dataframe will need to be exported."
   ]
  },
  {
   "cell_type": "code",
   "execution_count": 16,
   "metadata": {},
   "outputs": [
    {
     "data": {
      "text/html": [
       "<div>\n",
       "<style scoped>\n",
       "    .dataframe tbody tr th:only-of-type {\n",
       "        vertical-align: middle;\n",
       "    }\n",
       "\n",
       "    .dataframe tbody tr th {\n",
       "        vertical-align: top;\n",
       "    }\n",
       "\n",
       "    .dataframe thead th {\n",
       "        text-align: right;\n",
       "    }\n",
       "</style>\n",
       "<table border=\"1\" class=\"dataframe\">\n",
       "  <thead>\n",
       "    <tr style=\"text-align: right;\">\n",
       "      <th></th>\n",
       "      <th>Location</th>\n",
       "      <th>Period</th>\n",
       "      <th>Indicator</th>\n",
       "      <th>Dim1</th>\n",
       "      <th>First Tooltip</th>\n",
       "    </tr>\n",
       "  </thead>\n",
       "  <tbody>\n",
       "    <tr>\n",
       "      <th>0</th>\n",
       "      <td>Afghanistan</td>\n",
       "      <td>2016</td>\n",
       "      <td>Probability (%) of dying between age 30 and ex...</td>\n",
       "      <td>Both sexes</td>\n",
       "      <td>29.8</td>\n",
       "    </tr>\n",
       "    <tr>\n",
       "      <th>15</th>\n",
       "      <td>Albania</td>\n",
       "      <td>2016</td>\n",
       "      <td>Probability (%) of dying between age 30 and ex...</td>\n",
       "      <td>Both sexes</td>\n",
       "      <td>17.0</td>\n",
       "    </tr>\n",
       "    <tr>\n",
       "      <th>30</th>\n",
       "      <td>Algeria</td>\n",
       "      <td>2016</td>\n",
       "      <td>Probability (%) of dying between age 30 and ex...</td>\n",
       "      <td>Both sexes</td>\n",
       "      <td>14.2</td>\n",
       "    </tr>\n",
       "    <tr>\n",
       "      <th>45</th>\n",
       "      <td>Angola</td>\n",
       "      <td>2016</td>\n",
       "      <td>Probability (%) of dying between age 30 and ex...</td>\n",
       "      <td>Both sexes</td>\n",
       "      <td>16.5</td>\n",
       "    </tr>\n",
       "    <tr>\n",
       "      <th>60</th>\n",
       "      <td>Antigua and Barbuda</td>\n",
       "      <td>2016</td>\n",
       "      <td>Probability (%) of dying between age 30 and ex...</td>\n",
       "      <td>Both sexes</td>\n",
       "      <td>22.6</td>\n",
       "    </tr>\n",
       "    <tr>\n",
       "      <th>...</th>\n",
       "      <td>...</td>\n",
       "      <td>...</td>\n",
       "      <td>...</td>\n",
       "      <td>...</td>\n",
       "      <td>...</td>\n",
       "    </tr>\n",
       "    <tr>\n",
       "      <th>2670</th>\n",
       "      <td>Venezuela (Bolivarian Republic of)</td>\n",
       "      <td>2016</td>\n",
       "      <td>Probability (%) of dying between age 30 and ex...</td>\n",
       "      <td>Both sexes</td>\n",
       "      <td>18.1</td>\n",
       "    </tr>\n",
       "    <tr>\n",
       "      <th>2685</th>\n",
       "      <td>Viet Nam</td>\n",
       "      <td>2016</td>\n",
       "      <td>Probability (%) of dying between age 30 and ex...</td>\n",
       "      <td>Both sexes</td>\n",
       "      <td>17.1</td>\n",
       "    </tr>\n",
       "    <tr>\n",
       "      <th>2700</th>\n",
       "      <td>Yemen</td>\n",
       "      <td>2016</td>\n",
       "      <td>Probability (%) of dying between age 30 and ex...</td>\n",
       "      <td>Both sexes</td>\n",
       "      <td>30.6</td>\n",
       "    </tr>\n",
       "    <tr>\n",
       "      <th>2715</th>\n",
       "      <td>Zambia</td>\n",
       "      <td>2016</td>\n",
       "      <td>Probability (%) of dying between age 30 and ex...</td>\n",
       "      <td>Both sexes</td>\n",
       "      <td>17.9</td>\n",
       "    </tr>\n",
       "    <tr>\n",
       "      <th>2730</th>\n",
       "      <td>Zimbabwe</td>\n",
       "      <td>2016</td>\n",
       "      <td>Probability (%) of dying between age 30 and ex...</td>\n",
       "      <td>Both sexes</td>\n",
       "      <td>19.3</td>\n",
       "    </tr>\n",
       "  </tbody>\n",
       "</table>\n",
       "<p>183 rows × 5 columns</p>\n",
       "</div>"
      ],
      "text/plain": [
       "                                Location  Period  \\\n",
       "0                            Afghanistan    2016   \n",
       "15                               Albania    2016   \n",
       "30                               Algeria    2016   \n",
       "45                                Angola    2016   \n",
       "60                   Antigua and Barbuda    2016   \n",
       "...                                  ...     ...   \n",
       "2670  Venezuela (Bolivarian Republic of)    2016   \n",
       "2685                            Viet Nam    2016   \n",
       "2700                               Yemen    2016   \n",
       "2715                              Zambia    2016   \n",
       "2730                            Zimbabwe    2016   \n",
       "\n",
       "                                              Indicator        Dim1  \\\n",
       "0     Probability (%) of dying between age 30 and ex...  Both sexes   \n",
       "15    Probability (%) of dying between age 30 and ex...  Both sexes   \n",
       "30    Probability (%) of dying between age 30 and ex...  Both sexes   \n",
       "45    Probability (%) of dying between age 30 and ex...  Both sexes   \n",
       "60    Probability (%) of dying between age 30 and ex...  Both sexes   \n",
       "...                                                 ...         ...   \n",
       "2670  Probability (%) of dying between age 30 and ex...  Both sexes   \n",
       "2685  Probability (%) of dying between age 30 and ex...  Both sexes   \n",
       "2700  Probability (%) of dying between age 30 and ex...  Both sexes   \n",
       "2715  Probability (%) of dying between age 30 and ex...  Both sexes   \n",
       "2730  Probability (%) of dying between age 30 and ex...  Both sexes   \n",
       "\n",
       "      First Tooltip  \n",
       "0              29.8  \n",
       "15             17.0  \n",
       "30             14.2  \n",
       "45             16.5  \n",
       "60             22.6  \n",
       "...             ...  \n",
       "2670           18.1  \n",
       "2685           17.1  \n",
       "2700           30.6  \n",
       "2715           17.9  \n",
       "2730           19.3  \n",
       "\n",
       "[183 rows x 5 columns]"
      ]
     },
     "execution_count": 16,
     "metadata": {},
     "output_type": "execute_result"
    }
   ],
   "source": [
    "cancer_both_sex_2016 = cancer_both_sex[cancer_both_sex['Period'] == 2016]\n",
    "cancer_both_sex_2016"
   ]
  },
  {
   "cell_type": "markdown",
   "metadata": {},
   "source": [
    "## This dataframe will need to be exported."
   ]
  },
  {
   "cell_type": "code",
   "execution_count": 17,
   "metadata": {},
   "outputs": [
    {
     "data": {
      "text/html": [
       "<div>\n",
       "<style scoped>\n",
       "    .dataframe tbody tr th:only-of-type {\n",
       "        vertical-align: middle;\n",
       "    }\n",
       "\n",
       "    .dataframe tbody tr th {\n",
       "        vertical-align: top;\n",
       "    }\n",
       "\n",
       "    .dataframe thead th {\n",
       "        text-align: right;\n",
       "    }\n",
       "</style>\n",
       "<table border=\"1\" class=\"dataframe\">\n",
       "  <thead>\n",
       "    <tr style=\"text-align: right;\">\n",
       "      <th></th>\n",
       "      <th>Location</th>\n",
       "      <th>Period</th>\n",
       "      <th>Indicator</th>\n",
       "      <th>Dim1</th>\n",
       "      <th>First Tooltip</th>\n",
       "    </tr>\n",
       "  </thead>\n",
       "  <tbody>\n",
       "    <tr>\n",
       "      <th>3</th>\n",
       "      <td>Afghanistan</td>\n",
       "      <td>2015</td>\n",
       "      <td>Probability (%) of dying between age 30 and ex...</td>\n",
       "      <td>Both sexes</td>\n",
       "      <td>29.8</td>\n",
       "    </tr>\n",
       "    <tr>\n",
       "      <th>18</th>\n",
       "      <td>Albania</td>\n",
       "      <td>2015</td>\n",
       "      <td>Probability (%) of dying between age 30 and ex...</td>\n",
       "      <td>Both sexes</td>\n",
       "      <td>17.4</td>\n",
       "    </tr>\n",
       "    <tr>\n",
       "      <th>33</th>\n",
       "      <td>Algeria</td>\n",
       "      <td>2015</td>\n",
       "      <td>Probability (%) of dying between age 30 and ex...</td>\n",
       "      <td>Both sexes</td>\n",
       "      <td>14.4</td>\n",
       "    </tr>\n",
       "    <tr>\n",
       "      <th>48</th>\n",
       "      <td>Angola</td>\n",
       "      <td>2015</td>\n",
       "      <td>Probability (%) of dying between age 30 and ex...</td>\n",
       "      <td>Both sexes</td>\n",
       "      <td>16.9</td>\n",
       "    </tr>\n",
       "    <tr>\n",
       "      <th>63</th>\n",
       "      <td>Antigua and Barbuda</td>\n",
       "      <td>2015</td>\n",
       "      <td>Probability (%) of dying between age 30 and ex...</td>\n",
       "      <td>Both sexes</td>\n",
       "      <td>22.6</td>\n",
       "    </tr>\n",
       "    <tr>\n",
       "      <th>...</th>\n",
       "      <td>...</td>\n",
       "      <td>...</td>\n",
       "      <td>...</td>\n",
       "      <td>...</td>\n",
       "      <td>...</td>\n",
       "    </tr>\n",
       "    <tr>\n",
       "      <th>2673</th>\n",
       "      <td>Venezuela (Bolivarian Republic of)</td>\n",
       "      <td>2015</td>\n",
       "      <td>Probability (%) of dying between age 30 and ex...</td>\n",
       "      <td>Both sexes</td>\n",
       "      <td>18.2</td>\n",
       "    </tr>\n",
       "    <tr>\n",
       "      <th>2688</th>\n",
       "      <td>Viet Nam</td>\n",
       "      <td>2015</td>\n",
       "      <td>Probability (%) of dying between age 30 and ex...</td>\n",
       "      <td>Both sexes</td>\n",
       "      <td>17.3</td>\n",
       "    </tr>\n",
       "    <tr>\n",
       "      <th>2703</th>\n",
       "      <td>Yemen</td>\n",
       "      <td>2015</td>\n",
       "      <td>Probability (%) of dying between age 30 and ex...</td>\n",
       "      <td>Both sexes</td>\n",
       "      <td>30.7</td>\n",
       "    </tr>\n",
       "    <tr>\n",
       "      <th>2718</th>\n",
       "      <td>Zambia</td>\n",
       "      <td>2015</td>\n",
       "      <td>Probability (%) of dying between age 30 and ex...</td>\n",
       "      <td>Both sexes</td>\n",
       "      <td>18.0</td>\n",
       "    </tr>\n",
       "    <tr>\n",
       "      <th>2733</th>\n",
       "      <td>Zimbabwe</td>\n",
       "      <td>2015</td>\n",
       "      <td>Probability (%) of dying between age 30 and ex...</td>\n",
       "      <td>Both sexes</td>\n",
       "      <td>19.4</td>\n",
       "    </tr>\n",
       "  </tbody>\n",
       "</table>\n",
       "<p>183 rows × 5 columns</p>\n",
       "</div>"
      ],
      "text/plain": [
       "                                Location  Period  \\\n",
       "3                            Afghanistan    2015   \n",
       "18                               Albania    2015   \n",
       "33                               Algeria    2015   \n",
       "48                                Angola    2015   \n",
       "63                   Antigua and Barbuda    2015   \n",
       "...                                  ...     ...   \n",
       "2673  Venezuela (Bolivarian Republic of)    2015   \n",
       "2688                            Viet Nam    2015   \n",
       "2703                               Yemen    2015   \n",
       "2718                              Zambia    2015   \n",
       "2733                            Zimbabwe    2015   \n",
       "\n",
       "                                              Indicator        Dim1  \\\n",
       "3     Probability (%) of dying between age 30 and ex...  Both sexes   \n",
       "18    Probability (%) of dying between age 30 and ex...  Both sexes   \n",
       "33    Probability (%) of dying between age 30 and ex...  Both sexes   \n",
       "48    Probability (%) of dying between age 30 and ex...  Both sexes   \n",
       "63    Probability (%) of dying between age 30 and ex...  Both sexes   \n",
       "...                                                 ...         ...   \n",
       "2673  Probability (%) of dying between age 30 and ex...  Both sexes   \n",
       "2688  Probability (%) of dying between age 30 and ex...  Both sexes   \n",
       "2703  Probability (%) of dying between age 30 and ex...  Both sexes   \n",
       "2718  Probability (%) of dying between age 30 and ex...  Both sexes   \n",
       "2733  Probability (%) of dying between age 30 and ex...  Both sexes   \n",
       "\n",
       "      First Tooltip  \n",
       "3              29.8  \n",
       "18             17.4  \n",
       "33             14.4  \n",
       "48             16.9  \n",
       "63             22.6  \n",
       "...             ...  \n",
       "2673           18.2  \n",
       "2688           17.3  \n",
       "2703           30.7  \n",
       "2718           18.0  \n",
       "2733           19.4  \n",
       "\n",
       "[183 rows x 5 columns]"
      ]
     },
     "execution_count": 17,
     "metadata": {},
     "output_type": "execute_result"
    }
   ],
   "source": [
    "cancer_both_sex_2015 = cancer_both_sex[cancer_both_sex['Period'] == 2015]\n",
    "cancer_both_sex_2015"
   ]
  },
  {
   "cell_type": "code",
   "execution_count": null,
   "metadata": {},
   "outputs": [],
   "source": []
  },
  {
   "cell_type": "markdown",
   "metadata": {},
   "source": [
    "## Adolescent Birth Rate"
   ]
  },
  {
   "cell_type": "code",
   "execution_count": 194,
   "metadata": {},
   "outputs": [
    {
     "data": {
      "text/html": [
       "<div>\n",
       "<style scoped>\n",
       "    .dataframe tbody tr th:only-of-type {\n",
       "        vertical-align: middle;\n",
       "    }\n",
       "\n",
       "    .dataframe tbody tr th {\n",
       "        vertical-align: top;\n",
       "    }\n",
       "\n",
       "    .dataframe thead th {\n",
       "        text-align: right;\n",
       "    }\n",
       "</style>\n",
       "<table border=\"1\" class=\"dataframe\">\n",
       "  <thead>\n",
       "    <tr style=\"text-align: right;\">\n",
       "      <th></th>\n",
       "      <th>Location</th>\n",
       "      <th>Period</th>\n",
       "      <th>Indicator</th>\n",
       "      <th>First Tooltip</th>\n",
       "    </tr>\n",
       "  </thead>\n",
       "  <tbody>\n",
       "    <tr>\n",
       "      <th>0</th>\n",
       "      <td>Afghanistan</td>\n",
       "      <td>2017</td>\n",
       "      <td>Adolescent birth rate (per 1000 women aged 15-...</td>\n",
       "      <td>62.0</td>\n",
       "    </tr>\n",
       "    <tr>\n",
       "      <th>1</th>\n",
       "      <td>Afghanistan</td>\n",
       "      <td>2014</td>\n",
       "      <td>Adolescent birth rate (per 1000 women aged 15-...</td>\n",
       "      <td>77.2</td>\n",
       "    </tr>\n",
       "    <tr>\n",
       "      <th>2</th>\n",
       "      <td>Afghanistan</td>\n",
       "      <td>2013</td>\n",
       "      <td>Adolescent birth rate (per 1000 women aged 15-...</td>\n",
       "      <td>87.0</td>\n",
       "    </tr>\n",
       "    <tr>\n",
       "      <th>3</th>\n",
       "      <td>Afghanistan</td>\n",
       "      <td>2011</td>\n",
       "      <td>Adolescent birth rate (per 1000 women aged 15-...</td>\n",
       "      <td>125.7</td>\n",
       "    </tr>\n",
       "    <tr>\n",
       "      <th>4</th>\n",
       "      <td>Afghanistan</td>\n",
       "      <td>2009</td>\n",
       "      <td>Adolescent birth rate (per 1000 women aged 15-...</td>\n",
       "      <td>80.0</td>\n",
       "    </tr>\n",
       "    <tr>\n",
       "      <th>...</th>\n",
       "      <td>...</td>\n",
       "      <td>...</td>\n",
       "      <td>...</td>\n",
       "      <td>...</td>\n",
       "    </tr>\n",
       "    <tr>\n",
       "      <th>2184</th>\n",
       "      <td>Zimbabwe</td>\n",
       "      <td>2008</td>\n",
       "      <td>Adolescent birth rate (per 1000 women aged 15-...</td>\n",
       "      <td>112.0</td>\n",
       "    </tr>\n",
       "    <tr>\n",
       "      <th>2185</th>\n",
       "      <td>Zimbabwe</td>\n",
       "      <td>2007</td>\n",
       "      <td>Adolescent birth rate (per 1000 women aged 15-...</td>\n",
       "      <td>102.6</td>\n",
       "    </tr>\n",
       "    <tr>\n",
       "      <th>2186</th>\n",
       "      <td>Zimbabwe</td>\n",
       "      <td>2004</td>\n",
       "      <td>Adolescent birth rate (per 1000 women aged 15-...</td>\n",
       "      <td>98.7</td>\n",
       "    </tr>\n",
       "    <tr>\n",
       "      <th>2187</th>\n",
       "      <td>Zimbabwe</td>\n",
       "      <td>2003</td>\n",
       "      <td>Adolescent birth rate (per 1000 women aged 15-...</td>\n",
       "      <td>101.0</td>\n",
       "    </tr>\n",
       "    <tr>\n",
       "      <th>2188</th>\n",
       "      <td>Zimbabwe</td>\n",
       "      <td>2002</td>\n",
       "      <td>Adolescent birth rate (per 1000 women aged 15-...</td>\n",
       "      <td>102.6</td>\n",
       "    </tr>\n",
       "  </tbody>\n",
       "</table>\n",
       "<p>2189 rows × 4 columns</p>\n",
       "</div>"
      ],
      "text/plain": [
       "         Location  Period                                          Indicator  \\\n",
       "0     Afghanistan    2017  Adolescent birth rate (per 1000 women aged 15-...   \n",
       "1     Afghanistan    2014  Adolescent birth rate (per 1000 women aged 15-...   \n",
       "2     Afghanistan    2013  Adolescent birth rate (per 1000 women aged 15-...   \n",
       "3     Afghanistan    2011  Adolescent birth rate (per 1000 women aged 15-...   \n",
       "4     Afghanistan    2009  Adolescent birth rate (per 1000 women aged 15-...   \n",
       "...           ...     ...                                                ...   \n",
       "2184     Zimbabwe    2008  Adolescent birth rate (per 1000 women aged 15-...   \n",
       "2185     Zimbabwe    2007  Adolescent birth rate (per 1000 women aged 15-...   \n",
       "2186     Zimbabwe    2004  Adolescent birth rate (per 1000 women aged 15-...   \n",
       "2187     Zimbabwe    2003  Adolescent birth rate (per 1000 women aged 15-...   \n",
       "2188     Zimbabwe    2002  Adolescent birth rate (per 1000 women aged 15-...   \n",
       "\n",
       "      First Tooltip  \n",
       "0              62.0  \n",
       "1              77.2  \n",
       "2              87.0  \n",
       "3             125.7  \n",
       "4              80.0  \n",
       "...             ...  \n",
       "2184          112.0  \n",
       "2185          102.6  \n",
       "2186           98.7  \n",
       "2187          101.0  \n",
       "2188          102.6  \n",
       "\n",
       "[2189 rows x 4 columns]"
      ]
     },
     "execution_count": 194,
     "metadata": {},
     "output_type": "execute_result"
    }
   ],
   "source": [
    "ad_br_data = pd.read_csv(WHS_path/'adolescentBirthRate.csv')\n",
    "ad_br_data"
   ]
  },
  {
   "cell_type": "code",
   "execution_count": 189,
   "metadata": {},
   "outputs": [
    {
     "data": {
      "text/plain": [
       "Location         2189\n",
       "Period           2189\n",
       "Indicator        2189\n",
       "First Tooltip    2189\n",
       "dtype: int64"
      ]
     },
     "execution_count": 189,
     "metadata": {},
     "output_type": "execute_result"
    }
   ],
   "source": [
    "ad_br_data.isnull().count()"
   ]
  },
  {
   "cell_type": "code",
   "execution_count": 190,
   "metadata": {},
   "outputs": [
    {
     "data": {
      "text/plain": [
       "Location         1\n",
       "Period           1\n",
       "Indicator        1\n",
       "First Tooltip    1\n",
       "dtype: int64"
      ]
     },
     "execution_count": 190,
     "metadata": {},
     "output_type": "execute_result"
    }
   ],
   "source": [
    "ad_br_data[ad_br_data['First Tooltip'] == 0.0].count()"
   ]
  },
  {
   "cell_type": "code",
   "execution_count": 196,
   "metadata": {},
   "outputs": [
    {
     "data": {
      "text/html": [
       "<div>\n",
       "<style scoped>\n",
       "    .dataframe tbody tr th:only-of-type {\n",
       "        vertical-align: middle;\n",
       "    }\n",
       "\n",
       "    .dataframe tbody tr th {\n",
       "        vertical-align: top;\n",
       "    }\n",
       "\n",
       "    .dataframe thead th {\n",
       "        text-align: right;\n",
       "    }\n",
       "</style>\n",
       "<table border=\"1\" class=\"dataframe\">\n",
       "  <thead>\n",
       "    <tr style=\"text-align: right;\">\n",
       "      <th></th>\n",
       "      <th>Location</th>\n",
       "      <th>Period</th>\n",
       "      <th>Indicator</th>\n",
       "      <th>First Tooltip</th>\n",
       "    </tr>\n",
       "  </thead>\n",
       "  <tbody>\n",
       "    <tr>\n",
       "      <th>1707</th>\n",
       "      <td>San Marino</td>\n",
       "      <td>2012</td>\n",
       "      <td>Adolescent birth rate (per 1000 women aged 15-...</td>\n",
       "      <td>0.0</td>\n",
       "    </tr>\n",
       "  </tbody>\n",
       "</table>\n",
       "</div>"
      ],
      "text/plain": [
       "        Location  Period                                          Indicator  \\\n",
       "1707  San Marino    2012  Adolescent birth rate (per 1000 women aged 15-...   \n",
       "\n",
       "      First Tooltip  \n",
       "1707            0.0  "
      ]
     },
     "execution_count": 196,
     "metadata": {},
     "output_type": "execute_result"
    }
   ],
   "source": [
    "ad_br_data[ad_br_data['First Tooltip'] == 0.0]"
   ]
  },
  {
   "cell_type": "code",
   "execution_count": 20,
   "metadata": {},
   "outputs": [
    {
     "data": {
      "text/plain": [
       "array([2017, 2014, 2013, 2011, 2009, 2008, 2007, 2006, 2005, 2003, 2000,\n",
       "       2016, 2015, 2012, 2010, 2004, 2002, 2001, 2018])"
      ]
     },
     "execution_count": 20,
     "metadata": {},
     "output_type": "execute_result"
    }
   ],
   "source": [
    "ad_br_data['Period'].unique()"
   ]
  },
  {
   "cell_type": "markdown",
   "metadata": {},
   "source": [
    "Data counts are all different for each year. This will need to be evaluated further since 2015 and 2016 might not be the best options."
   ]
  },
  {
   "cell_type": "code",
   "execution_count": 21,
   "metadata": {},
   "outputs": [
    {
     "data": {
      "text/plain": [
       "Location         22\n",
       "Period           22\n",
       "Indicator        22\n",
       "First Tooltip    22\n",
       "dtype: int64"
      ]
     },
     "execution_count": 21,
     "metadata": {},
     "output_type": "execute_result"
    }
   ],
   "source": [
    "ad_br_data[ad_br_data['Period'] == 2018].count()"
   ]
  },
  {
   "cell_type": "code",
   "execution_count": 22,
   "metadata": {},
   "outputs": [
    {
     "data": {
      "text/plain": [
       "Location         99\n",
       "Period           99\n",
       "Indicator        99\n",
       "First Tooltip    99\n",
       "dtype: int64"
      ]
     },
     "execution_count": 22,
     "metadata": {},
     "output_type": "execute_result"
    }
   ],
   "source": [
    "ad_br_data[ad_br_data['Period'] == 2017].count()"
   ]
  },
  {
   "cell_type": "code",
   "execution_count": 23,
   "metadata": {},
   "outputs": [
    {
     "data": {
      "text/plain": [
       "Location         108\n",
       "Period           108\n",
       "Indicator        108\n",
       "First Tooltip    108\n",
       "dtype: int64"
      ]
     },
     "execution_count": 23,
     "metadata": {},
     "output_type": "execute_result"
    }
   ],
   "source": [
    "ad_br_data[ad_br_data['Period'] == 2016].count()"
   ]
  },
  {
   "cell_type": "code",
   "execution_count": 24,
   "metadata": {},
   "outputs": [
    {
     "data": {
      "text/plain": [
       "Location         106\n",
       "Period           106\n",
       "Indicator        106\n",
       "First Tooltip    106\n",
       "dtype: int64"
      ]
     },
     "execution_count": 24,
     "metadata": {},
     "output_type": "execute_result"
    }
   ],
   "source": [
    "ad_br_data[ad_br_data['Period'] == 2015].count()"
   ]
  },
  {
   "cell_type": "code",
   "execution_count": 25,
   "metadata": {},
   "outputs": [
    {
     "data": {
      "text/plain": [
       "Location         115\n",
       "Period           115\n",
       "Indicator        115\n",
       "First Tooltip    115\n",
       "dtype: int64"
      ]
     },
     "execution_count": 25,
     "metadata": {},
     "output_type": "execute_result"
    }
   ],
   "source": [
    "ad_br_data[ad_br_data['Period'] == 2014].count()"
   ]
  },
  {
   "cell_type": "code",
   "execution_count": 26,
   "metadata": {},
   "outputs": [
    {
     "data": {
      "text/plain": [
       "Location         116\n",
       "Period           116\n",
       "Indicator        116\n",
       "First Tooltip    116\n",
       "dtype: int64"
      ]
     },
     "execution_count": 26,
     "metadata": {},
     "output_type": "execute_result"
    }
   ],
   "source": [
    "ad_br_data[ad_br_data['Period'] == 2013].count()"
   ]
  },
  {
   "cell_type": "code",
   "execution_count": 27,
   "metadata": {},
   "outputs": [
    {
     "data": {
      "text/plain": [
       "Location         113\n",
       "Period           113\n",
       "Indicator        113\n",
       "First Tooltip    113\n",
       "dtype: int64"
      ]
     },
     "execution_count": 27,
     "metadata": {},
     "output_type": "execute_result"
    }
   ],
   "source": [
    "ad_br_data[ad_br_data['Period'] == 2012].count()"
   ]
  },
  {
   "cell_type": "code",
   "execution_count": 28,
   "metadata": {},
   "outputs": [
    {
     "data": {
      "text/plain": [
       "Location         117\n",
       "Period           117\n",
       "Indicator        117\n",
       "First Tooltip    117\n",
       "dtype: int64"
      ]
     },
     "execution_count": 28,
     "metadata": {},
     "output_type": "execute_result"
    }
   ],
   "source": [
    "ad_br_data[ad_br_data['Period'] == 2011].count()"
   ]
  },
  {
   "cell_type": "code",
   "execution_count": 29,
   "metadata": {},
   "outputs": [
    {
     "data": {
      "text/plain": [
       "Location         120\n",
       "Period           120\n",
       "Indicator        120\n",
       "First Tooltip    120\n",
       "dtype: int64"
      ]
     },
     "execution_count": 29,
     "metadata": {},
     "output_type": "execute_result"
    }
   ],
   "source": [
    "ad_br_data[ad_br_data['Period'] == 2010].count()"
   ]
  },
  {
   "cell_type": "code",
   "execution_count": 30,
   "metadata": {},
   "outputs": [
    {
     "data": {
      "text/plain": [
       "Location         133\n",
       "Period           133\n",
       "Indicator        133\n",
       "First Tooltip    133\n",
       "dtype: int64"
      ]
     },
     "execution_count": 30,
     "metadata": {},
     "output_type": "execute_result"
    }
   ],
   "source": [
    "ad_br_data[ad_br_data['Period'] == 2009].count()"
   ]
  },
  {
   "cell_type": "code",
   "execution_count": 31,
   "metadata": {},
   "outputs": [
    {
     "data": {
      "text/plain": [
       "Location         116\n",
       "Period           116\n",
       "Indicator        116\n",
       "First Tooltip    116\n",
       "dtype: int64"
      ]
     },
     "execution_count": 31,
     "metadata": {},
     "output_type": "execute_result"
    }
   ],
   "source": [
    "ad_br_data[ad_br_data['Period'] == 2008].count()"
   ]
  },
  {
   "cell_type": "code",
   "execution_count": 32,
   "metadata": {},
   "outputs": [
    {
     "data": {
      "text/plain": [
       "Location         121\n",
       "Period           121\n",
       "Indicator        121\n",
       "First Tooltip    121\n",
       "dtype: int64"
      ]
     },
     "execution_count": 32,
     "metadata": {},
     "output_type": "execute_result"
    }
   ],
   "source": [
    "ad_br_data[ad_br_data['Period'] == 2007].count()"
   ]
  },
  {
   "cell_type": "code",
   "execution_count": 33,
   "metadata": {},
   "outputs": [
    {
     "data": {
      "text/plain": [
       "Location         120\n",
       "Period           120\n",
       "Indicator        120\n",
       "First Tooltip    120\n",
       "dtype: int64"
      ]
     },
     "execution_count": 33,
     "metadata": {},
     "output_type": "execute_result"
    }
   ],
   "source": [
    "ad_br_data[ad_br_data['Period'] == 2006].count()"
   ]
  },
  {
   "cell_type": "code",
   "execution_count": 34,
   "metadata": {},
   "outputs": [
    {
     "data": {
      "text/plain": [
       "Location         130\n",
       "Period           130\n",
       "Indicator        130\n",
       "First Tooltip    130\n",
       "dtype: int64"
      ]
     },
     "execution_count": 34,
     "metadata": {},
     "output_type": "execute_result"
    }
   ],
   "source": [
    "ad_br_data[ad_br_data['Period'] == 2005].count()"
   ]
  },
  {
   "cell_type": "code",
   "execution_count": 35,
   "metadata": {},
   "outputs": [
    {
     "data": {
      "text/plain": [
       "Location         124\n",
       "Period           124\n",
       "Indicator        124\n",
       "First Tooltip    124\n",
       "dtype: int64"
      ]
     },
     "execution_count": 35,
     "metadata": {},
     "output_type": "execute_result"
    }
   ],
   "source": [
    "ad_br_data[ad_br_data['Period'] == 2004].count()"
   ]
  },
  {
   "cell_type": "code",
   "execution_count": 36,
   "metadata": {},
   "outputs": [
    {
     "data": {
      "text/plain": [
       "Location         120\n",
       "Period           120\n",
       "Indicator        120\n",
       "First Tooltip    120\n",
       "dtype: int64"
      ]
     },
     "execution_count": 36,
     "metadata": {},
     "output_type": "execute_result"
    }
   ],
   "source": [
    "ad_br_data[ad_br_data['Period'] == 2003].count()"
   ]
  },
  {
   "cell_type": "code",
   "execution_count": 37,
   "metadata": {},
   "outputs": [
    {
     "data": {
      "text/plain": [
       "Location         134\n",
       "Period           134\n",
       "Indicator        134\n",
       "First Tooltip    134\n",
       "dtype: int64"
      ]
     },
     "execution_count": 37,
     "metadata": {},
     "output_type": "execute_result"
    }
   ],
   "source": [
    "ad_br_data[ad_br_data['Period'] == 2002].count()"
   ]
  },
  {
   "cell_type": "code",
   "execution_count": 38,
   "metadata": {},
   "outputs": [
    {
     "data": {
      "text/plain": [
       "Location         133\n",
       "Period           133\n",
       "Indicator        133\n",
       "First Tooltip    133\n",
       "dtype: int64"
      ]
     },
     "execution_count": 38,
     "metadata": {},
     "output_type": "execute_result"
    }
   ],
   "source": [
    "ad_br_data[ad_br_data['Period'] == 2001].count()"
   ]
  },
  {
   "cell_type": "code",
   "execution_count": 39,
   "metadata": {},
   "outputs": [
    {
     "data": {
      "text/plain": [
       "Location         142\n",
       "Period           142\n",
       "Indicator        142\n",
       "First Tooltip    142\n",
       "dtype: int64"
      ]
     },
     "execution_count": 39,
     "metadata": {},
     "output_type": "execute_result"
    }
   ],
   "source": [
    "ad_br_data[ad_br_data['Period'] == 2000].count()"
   ]
  },
  {
   "cell_type": "code",
   "execution_count": 40,
   "metadata": {},
   "outputs": [
    {
     "data": {
      "text/plain": [
       "array(['Adolescent birth rate (per 1000 women aged 15-19 years)'],\n",
       "      dtype=object)"
      ]
     },
     "execution_count": 40,
     "metadata": {},
     "output_type": "execute_result"
    }
   ],
   "source": [
    "ad_br_data['Indicator'].unique()"
   ]
  },
  {
   "cell_type": "markdown",
   "metadata": {},
   "source": [
    "## Check if use this year"
   ]
  },
  {
   "cell_type": "markdown",
   "metadata": {},
   "source": [
    "This year only has 108 rows"
   ]
  },
  {
   "cell_type": "code",
   "execution_count": 41,
   "metadata": {
    "scrolled": true
   },
   "outputs": [
    {
     "data": {
      "text/html": [
       "<div>\n",
       "<style scoped>\n",
       "    .dataframe tbody tr th:only-of-type {\n",
       "        vertical-align: middle;\n",
       "    }\n",
       "\n",
       "    .dataframe tbody tr th {\n",
       "        vertical-align: top;\n",
       "    }\n",
       "\n",
       "    .dataframe thead th {\n",
       "        text-align: right;\n",
       "    }\n",
       "</style>\n",
       "<table border=\"1\" class=\"dataframe\">\n",
       "  <thead>\n",
       "    <tr style=\"text-align: right;\">\n",
       "      <th></th>\n",
       "      <th>Location</th>\n",
       "      <th>Period</th>\n",
       "      <th>Indicator</th>\n",
       "      <th>First Tooltip</th>\n",
       "    </tr>\n",
       "  </thead>\n",
       "  <tbody>\n",
       "    <tr>\n",
       "      <th>12</th>\n",
       "      <td>Albania</td>\n",
       "      <td>2016</td>\n",
       "      <td>Adolescent birth rate (per 1000 women aged 15-...</td>\n",
       "      <td>17.3</td>\n",
       "    </tr>\n",
       "    <tr>\n",
       "      <th>41</th>\n",
       "      <td>Andorra</td>\n",
       "      <td>2016</td>\n",
       "      <td>Adolescent birth rate (per 1000 women aged 15-...</td>\n",
       "      <td>2.6</td>\n",
       "    </tr>\n",
       "    <tr>\n",
       "      <th>66</th>\n",
       "      <td>Antigua and Barbuda</td>\n",
       "      <td>2016</td>\n",
       "      <td>Adolescent birth rate (per 1000 women aged 15-...</td>\n",
       "      <td>31.1</td>\n",
       "    </tr>\n",
       "    <tr>\n",
       "      <th>96</th>\n",
       "      <td>Armenia</td>\n",
       "      <td>2016</td>\n",
       "      <td>Adolescent birth rate (per 1000 women aged 15-...</td>\n",
       "      <td>24.5</td>\n",
       "    </tr>\n",
       "    <tr>\n",
       "      <th>114</th>\n",
       "      <td>Australia</td>\n",
       "      <td>2016</td>\n",
       "      <td>Adolescent birth rate (per 1000 women aged 15-...</td>\n",
       "      <td>10.3</td>\n",
       "    </tr>\n",
       "    <tr>\n",
       "      <th>...</th>\n",
       "      <td>...</td>\n",
       "      <td>...</td>\n",
       "      <td>...</td>\n",
       "      <td>...</td>\n",
       "    </tr>\n",
       "    <tr>\n",
       "      <th>2065</th>\n",
       "      <td>United Kingdom of Great Britain and Northern I...</td>\n",
       "      <td>2016</td>\n",
       "      <td>Adolescent birth rate (per 1000 women aged 15-...</td>\n",
       "      <td>13.7</td>\n",
       "    </tr>\n",
       "    <tr>\n",
       "      <th>2082</th>\n",
       "      <td>United Republic of Tanzania</td>\n",
       "      <td>2016</td>\n",
       "      <td>Adolescent birth rate (per 1000 women aged 15-...</td>\n",
       "      <td>138.9</td>\n",
       "    </tr>\n",
       "    <tr>\n",
       "      <th>2092</th>\n",
       "      <td>United States of America</td>\n",
       "      <td>2016</td>\n",
       "      <td>Adolescent birth rate (per 1000 women aged 15-...</td>\n",
       "      <td>20.3</td>\n",
       "    </tr>\n",
       "    <tr>\n",
       "      <th>2111</th>\n",
       "      <td>Uruguay</td>\n",
       "      <td>2016</td>\n",
       "      <td>Adolescent birth rate (per 1000 women aged 15-...</td>\n",
       "      <td>50.3</td>\n",
       "    </tr>\n",
       "    <tr>\n",
       "      <th>2129</th>\n",
       "      <td>Uzbekistan</td>\n",
       "      <td>2016</td>\n",
       "      <td>Adolescent birth rate (per 1000 women aged 15-...</td>\n",
       "      <td>20.9</td>\n",
       "    </tr>\n",
       "  </tbody>\n",
       "</table>\n",
       "<p>108 rows × 4 columns</p>\n",
       "</div>"
      ],
      "text/plain": [
       "                                               Location  Period  \\\n",
       "12                                              Albania    2016   \n",
       "41                                              Andorra    2016   \n",
       "66                                  Antigua and Barbuda    2016   \n",
       "96                                              Armenia    2016   \n",
       "114                                           Australia    2016   \n",
       "...                                                 ...     ...   \n",
       "2065  United Kingdom of Great Britain and Northern I...    2016   \n",
       "2082                        United Republic of Tanzania    2016   \n",
       "2092                           United States of America    2016   \n",
       "2111                                            Uruguay    2016   \n",
       "2129                                         Uzbekistan    2016   \n",
       "\n",
       "                                              Indicator  First Tooltip  \n",
       "12    Adolescent birth rate (per 1000 women aged 15-...           17.3  \n",
       "41    Adolescent birth rate (per 1000 women aged 15-...            2.6  \n",
       "66    Adolescent birth rate (per 1000 women aged 15-...           31.1  \n",
       "96    Adolescent birth rate (per 1000 women aged 15-...           24.5  \n",
       "114   Adolescent birth rate (per 1000 women aged 15-...           10.3  \n",
       "...                                                 ...            ...  \n",
       "2065  Adolescent birth rate (per 1000 women aged 15-...           13.7  \n",
       "2082  Adolescent birth rate (per 1000 women aged 15-...          138.9  \n",
       "2092  Adolescent birth rate (per 1000 women aged 15-...           20.3  \n",
       "2111  Adolescent birth rate (per 1000 women aged 15-...           50.3  \n",
       "2129  Adolescent birth rate (per 1000 women aged 15-...           20.9  \n",
       "\n",
       "[108 rows x 4 columns]"
      ]
     },
     "execution_count": 41,
     "metadata": {},
     "output_type": "execute_result"
    }
   ],
   "source": [
    "ad_br_2016 = ad_br_data[ad_br_data['Period'] == 2016]\n",
    "ad_br_2016"
   ]
  },
  {
   "cell_type": "markdown",
   "metadata": {},
   "source": [
    "## Check if use this year"
   ]
  },
  {
   "cell_type": "markdown",
   "metadata": {},
   "source": [
    "This row has only 106 rows"
   ]
  },
  {
   "cell_type": "code",
   "execution_count": 42,
   "metadata": {},
   "outputs": [
    {
     "data": {
      "text/html": [
       "<div>\n",
       "<style scoped>\n",
       "    .dataframe tbody tr th:only-of-type {\n",
       "        vertical-align: middle;\n",
       "    }\n",
       "\n",
       "    .dataframe tbody tr th {\n",
       "        vertical-align: top;\n",
       "    }\n",
       "\n",
       "    .dataframe thead th {\n",
       "        text-align: right;\n",
       "    }\n",
       "</style>\n",
       "<table border=\"1\" class=\"dataframe\">\n",
       "  <thead>\n",
       "    <tr style=\"text-align: right;\">\n",
       "      <th></th>\n",
       "      <th>Location</th>\n",
       "      <th>Period</th>\n",
       "      <th>Indicator</th>\n",
       "      <th>First Tooltip</th>\n",
       "    </tr>\n",
       "  </thead>\n",
       "  <tbody>\n",
       "    <tr>\n",
       "      <th>13</th>\n",
       "      <td>Albania</td>\n",
       "      <td>2015</td>\n",
       "      <td>Adolescent birth rate (per 1000 women aged 15-...</td>\n",
       "      <td>20.2</td>\n",
       "    </tr>\n",
       "    <tr>\n",
       "      <th>28</th>\n",
       "      <td>Algeria</td>\n",
       "      <td>2015</td>\n",
       "      <td>Adolescent birth rate (per 1000 women aged 15-...</td>\n",
       "      <td>9.7</td>\n",
       "    </tr>\n",
       "    <tr>\n",
       "      <th>42</th>\n",
       "      <td>Andorra</td>\n",
       "      <td>2015</td>\n",
       "      <td>Adolescent birth rate (per 1000 women aged 15-...</td>\n",
       "      <td>3.1</td>\n",
       "    </tr>\n",
       "    <tr>\n",
       "      <th>67</th>\n",
       "      <td>Antigua and Barbuda</td>\n",
       "      <td>2015</td>\n",
       "      <td>Adolescent birth rate (per 1000 women aged 15-...</td>\n",
       "      <td>37.7</td>\n",
       "    </tr>\n",
       "    <tr>\n",
       "      <th>79</th>\n",
       "      <td>Argentina</td>\n",
       "      <td>2015</td>\n",
       "      <td>Adolescent birth rate (per 1000 women aged 15-...</td>\n",
       "      <td>65.1</td>\n",
       "    </tr>\n",
       "    <tr>\n",
       "      <th>...</th>\n",
       "      <td>...</td>\n",
       "      <td>...</td>\n",
       "      <td>...</td>\n",
       "      <td>...</td>\n",
       "    </tr>\n",
       "    <tr>\n",
       "      <th>2000</th>\n",
       "      <td>Turkey</td>\n",
       "      <td>2015</td>\n",
       "      <td>Adolescent birth rate (per 1000 women aged 15-...</td>\n",
       "      <td>24.9</td>\n",
       "    </tr>\n",
       "    <tr>\n",
       "      <th>2027</th>\n",
       "      <td>Uganda</td>\n",
       "      <td>2015</td>\n",
       "      <td>Adolescent birth rate (per 1000 women aged 15-...</td>\n",
       "      <td>131.5</td>\n",
       "    </tr>\n",
       "    <tr>\n",
       "      <th>2066</th>\n",
       "      <td>United Kingdom of Great Britain and Northern I...</td>\n",
       "      <td>2015</td>\n",
       "      <td>Adolescent birth rate (per 1000 women aged 15-...</td>\n",
       "      <td>14.4</td>\n",
       "    </tr>\n",
       "    <tr>\n",
       "      <th>2093</th>\n",
       "      <td>United States of America</td>\n",
       "      <td>2015</td>\n",
       "      <td>Adolescent birth rate (per 1000 women aged 15-...</td>\n",
       "      <td>22.3</td>\n",
       "    </tr>\n",
       "    <tr>\n",
       "      <th>2112</th>\n",
       "      <td>Uruguay</td>\n",
       "      <td>2015</td>\n",
       "      <td>Adolescent birth rate (per 1000 women aged 15-...</td>\n",
       "      <td>55.6</td>\n",
       "    </tr>\n",
       "  </tbody>\n",
       "</table>\n",
       "<p>106 rows × 4 columns</p>\n",
       "</div>"
      ],
      "text/plain": [
       "                                               Location  Period  \\\n",
       "13                                              Albania    2015   \n",
       "28                                              Algeria    2015   \n",
       "42                                              Andorra    2015   \n",
       "67                                  Antigua and Barbuda    2015   \n",
       "79                                            Argentina    2015   \n",
       "...                                                 ...     ...   \n",
       "2000                                             Turkey    2015   \n",
       "2027                                             Uganda    2015   \n",
       "2066  United Kingdom of Great Britain and Northern I...    2015   \n",
       "2093                           United States of America    2015   \n",
       "2112                                            Uruguay    2015   \n",
       "\n",
       "                                              Indicator  First Tooltip  \n",
       "13    Adolescent birth rate (per 1000 women aged 15-...           20.2  \n",
       "28    Adolescent birth rate (per 1000 women aged 15-...            9.7  \n",
       "42    Adolescent birth rate (per 1000 women aged 15-...            3.1  \n",
       "67    Adolescent birth rate (per 1000 women aged 15-...           37.7  \n",
       "79    Adolescent birth rate (per 1000 women aged 15-...           65.1  \n",
       "...                                                 ...            ...  \n",
       "2000  Adolescent birth rate (per 1000 women aged 15-...           24.9  \n",
       "2027  Adolescent birth rate (per 1000 women aged 15-...          131.5  \n",
       "2066  Adolescent birth rate (per 1000 women aged 15-...           14.4  \n",
       "2093  Adolescent birth rate (per 1000 women aged 15-...           22.3  \n",
       "2112  Adolescent birth rate (per 1000 women aged 15-...           55.6  \n",
       "\n",
       "[106 rows x 4 columns]"
      ]
     },
     "execution_count": 42,
     "metadata": {},
     "output_type": "execute_result"
    }
   ],
   "source": [
    "ad_br_2015 = ad_br_data[ad_br_data['Period'] == 2015]\n",
    "ad_br_2015"
   ]
  },
  {
   "cell_type": "code",
   "execution_count": null,
   "metadata": {},
   "outputs": [],
   "source": []
  },
  {
   "cell_type": "markdown",
   "metadata": {},
   "source": [
    "## Air Pollution Deaths"
   ]
  },
  {
   "cell_type": "code",
   "execution_count": 43,
   "metadata": {},
   "outputs": [
    {
     "data": {
      "text/html": [
       "<div>\n",
       "<style scoped>\n",
       "    .dataframe tbody tr th:only-of-type {\n",
       "        vertical-align: middle;\n",
       "    }\n",
       "\n",
       "    .dataframe tbody tr th {\n",
       "        vertical-align: top;\n",
       "    }\n",
       "\n",
       "    .dataframe thead th {\n",
       "        text-align: right;\n",
       "    }\n",
       "</style>\n",
       "<table border=\"1\" class=\"dataframe\">\n",
       "  <thead>\n",
       "    <tr style=\"text-align: right;\">\n",
       "      <th></th>\n",
       "      <th>Location</th>\n",
       "      <th>Dim2</th>\n",
       "      <th>Indicator</th>\n",
       "      <th>Period</th>\n",
       "      <th>Dim1</th>\n",
       "      <th>First Tooltip</th>\n",
       "    </tr>\n",
       "  </thead>\n",
       "  <tbody>\n",
       "    <tr>\n",
       "      <th>0</th>\n",
       "      <td>Afghanistan</td>\n",
       "      <td>Total</td>\n",
       "      <td>Ambient and household air pollution attributab...</td>\n",
       "      <td>2016</td>\n",
       "      <td>Both sexes</td>\n",
       "      <td>95.12 [85.12-104.3]</td>\n",
       "    </tr>\n",
       "    <tr>\n",
       "      <th>1</th>\n",
       "      <td>Afghanistan</td>\n",
       "      <td>Total</td>\n",
       "      <td>Ambient and household air pollution attributab...</td>\n",
       "      <td>2016</td>\n",
       "      <td>Male</td>\n",
       "      <td>95.58 [85.5-106]</td>\n",
       "    </tr>\n",
       "    <tr>\n",
       "      <th>2</th>\n",
       "      <td>Afghanistan</td>\n",
       "      <td>Total</td>\n",
       "      <td>Ambient and household air pollution attributab...</td>\n",
       "      <td>2016</td>\n",
       "      <td>Female</td>\n",
       "      <td>94.63 [84.55-103.9]</td>\n",
       "    </tr>\n",
       "    <tr>\n",
       "      <th>3</th>\n",
       "      <td>Afghanistan</td>\n",
       "      <td>Total</td>\n",
       "      <td>Ambient and household air pollution attributab...</td>\n",
       "      <td>2016</td>\n",
       "      <td>Both sexes</td>\n",
       "      <td>211.1 [188.9-231.3]</td>\n",
       "    </tr>\n",
       "    <tr>\n",
       "      <th>4</th>\n",
       "      <td>Afghanistan</td>\n",
       "      <td>Total</td>\n",
       "      <td>Ambient and household air pollution attributab...</td>\n",
       "      <td>2016</td>\n",
       "      <td>Male</td>\n",
       "      <td>228.7 [204.6-253.6]</td>\n",
       "    </tr>\n",
       "    <tr>\n",
       "      <th>...</th>\n",
       "      <td>...</td>\n",
       "      <td>...</td>\n",
       "      <td>...</td>\n",
       "      <td>...</td>\n",
       "      <td>...</td>\n",
       "      <td>...</td>\n",
       "    </tr>\n",
       "    <tr>\n",
       "      <th>6583</th>\n",
       "      <td>Zimbabwe</td>\n",
       "      <td>Chronic obstructive pulmonary disease</td>\n",
       "      <td>Ambient and household air pollution attributab...</td>\n",
       "      <td>2016</td>\n",
       "      <td>Male</td>\n",
       "      <td>5.54 [2.74-7.66]</td>\n",
       "    </tr>\n",
       "    <tr>\n",
       "      <th>6584</th>\n",
       "      <td>Zimbabwe</td>\n",
       "      <td>Chronic obstructive pulmonary disease</td>\n",
       "      <td>Ambient and household air pollution attributab...</td>\n",
       "      <td>2016</td>\n",
       "      <td>Female</td>\n",
       "      <td>6.19 [4.73-7.3]</td>\n",
       "    </tr>\n",
       "    <tr>\n",
       "      <th>6585</th>\n",
       "      <td>Zimbabwe</td>\n",
       "      <td>Chronic obstructive pulmonary disease</td>\n",
       "      <td>Ambient and household air pollution attributab...</td>\n",
       "      <td>2016</td>\n",
       "      <td>Both sexes</td>\n",
       "      <td>16.09 [11.67-19.89]</td>\n",
       "    </tr>\n",
       "    <tr>\n",
       "      <th>6586</th>\n",
       "      <td>Zimbabwe</td>\n",
       "      <td>Chronic obstructive pulmonary disease</td>\n",
       "      <td>Ambient and household air pollution attributab...</td>\n",
       "      <td>2016</td>\n",
       "      <td>Male</td>\n",
       "      <td>17.72 [8.75-24.51]</td>\n",
       "    </tr>\n",
       "    <tr>\n",
       "      <th>6587</th>\n",
       "      <td>Zimbabwe</td>\n",
       "      <td>Chronic obstructive pulmonary disease</td>\n",
       "      <td>Ambient and household air pollution attributab...</td>\n",
       "      <td>2016</td>\n",
       "      <td>Female</td>\n",
       "      <td>14.95 [11.43-17.62]</td>\n",
       "    </tr>\n",
       "  </tbody>\n",
       "</table>\n",
       "<p>6588 rows × 6 columns</p>\n",
       "</div>"
      ],
      "text/plain": [
       "         Location                                   Dim2  \\\n",
       "0     Afghanistan                                  Total   \n",
       "1     Afghanistan                                  Total   \n",
       "2     Afghanistan                                  Total   \n",
       "3     Afghanistan                                  Total   \n",
       "4     Afghanistan                                  Total   \n",
       "...           ...                                    ...   \n",
       "6583     Zimbabwe  Chronic obstructive pulmonary disease   \n",
       "6584     Zimbabwe  Chronic obstructive pulmonary disease   \n",
       "6585     Zimbabwe  Chronic obstructive pulmonary disease   \n",
       "6586     Zimbabwe  Chronic obstructive pulmonary disease   \n",
       "6587     Zimbabwe  Chronic obstructive pulmonary disease   \n",
       "\n",
       "                                              Indicator  Period        Dim1  \\\n",
       "0     Ambient and household air pollution attributab...    2016  Both sexes   \n",
       "1     Ambient and household air pollution attributab...    2016        Male   \n",
       "2     Ambient and household air pollution attributab...    2016      Female   \n",
       "3     Ambient and household air pollution attributab...    2016  Both sexes   \n",
       "4     Ambient and household air pollution attributab...    2016        Male   \n",
       "...                                                 ...     ...         ...   \n",
       "6583  Ambient and household air pollution attributab...    2016        Male   \n",
       "6584  Ambient and household air pollution attributab...    2016      Female   \n",
       "6585  Ambient and household air pollution attributab...    2016  Both sexes   \n",
       "6586  Ambient and household air pollution attributab...    2016        Male   \n",
       "6587  Ambient and household air pollution attributab...    2016      Female   \n",
       "\n",
       "            First Tooltip  \n",
       "0     95.12 [85.12-104.3]  \n",
       "1        95.58 [85.5-106]  \n",
       "2     94.63 [84.55-103.9]  \n",
       "3     211.1 [188.9-231.3]  \n",
       "4     228.7 [204.6-253.6]  \n",
       "...                   ...  \n",
       "6583     5.54 [2.74-7.66]  \n",
       "6584      6.19 [4.73-7.3]  \n",
       "6585  16.09 [11.67-19.89]  \n",
       "6586   17.72 [8.75-24.51]  \n",
       "6587  14.95 [11.43-17.62]  \n",
       "\n",
       "[6588 rows x 6 columns]"
      ]
     },
     "execution_count": 43,
     "metadata": {},
     "output_type": "execute_result"
    }
   ],
   "source": [
    "ap_data = pd.read_csv(WHS_path/'airPollutionDeathRate.csv')\n",
    "ap_data"
   ]
  },
  {
   "cell_type": "code",
   "execution_count": 44,
   "metadata": {},
   "outputs": [
    {
     "data": {
      "text/plain": [
       "Location         6588\n",
       "Dim2             6588\n",
       "Indicator        6588\n",
       "Period           6588\n",
       "Dim1             6588\n",
       "First Tooltip    6588\n",
       "dtype: int64"
      ]
     },
     "execution_count": 44,
     "metadata": {},
     "output_type": "execute_result"
    }
   ],
   "source": [
    "ap_data.isnull().count()"
   ]
  },
  {
   "cell_type": "code",
   "execution_count": 45,
   "metadata": {},
   "outputs": [
    {
     "data": {
      "text/plain": [
       "array([2016])"
      ]
     },
     "execution_count": 45,
     "metadata": {},
     "output_type": "execute_result"
    }
   ],
   "source": [
    "ap_data['Period'].unique()"
   ]
  },
  {
   "cell_type": "code",
   "execution_count": 46,
   "metadata": {},
   "outputs": [
    {
     "data": {
      "text/plain": [
       "array(['Total', 'Lower respiratory infections',\n",
       "       'Trachea, bronchus, lung cancers', 'Ischaemic heart disease',\n",
       "       'Stroke', 'Chronic obstructive pulmonary disease'], dtype=object)"
      ]
     },
     "execution_count": 46,
     "metadata": {},
     "output_type": "execute_result"
    }
   ],
   "source": [
    "ap_data['Dim2'].unique()"
   ]
  },
  {
   "cell_type": "code",
   "execution_count": 47,
   "metadata": {},
   "outputs": [
    {
     "data": {
      "text/plain": [
       "array(['Ambient and household air pollution attributable death rate (per 100 000 population)',\n",
       "       'Ambient and household air pollution attributable death rate (per 100 000 population, age-standardized)'],\n",
       "      dtype=object)"
      ]
     },
     "execution_count": 47,
     "metadata": {},
     "output_type": "execute_result"
    }
   ],
   "source": [
    "ap_data['Indicator'].unique()"
   ]
  },
  {
   "cell_type": "markdown",
   "metadata": {},
   "source": [
    "I think it would be best to make each unique value in Dim2 as a column. That way we would have a single row for each country instead of a bunch of rows per country. Maybe see if the original dataset was set up like this."
   ]
  },
  {
   "cell_type": "code",
   "execution_count": 48,
   "metadata": {},
   "outputs": [
    {
     "data": {
      "text/html": [
       "<div>\n",
       "<style scoped>\n",
       "    .dataframe tbody tr th:only-of-type {\n",
       "        vertical-align: middle;\n",
       "    }\n",
       "\n",
       "    .dataframe tbody tr th {\n",
       "        vertical-align: top;\n",
       "    }\n",
       "\n",
       "    .dataframe thead th {\n",
       "        text-align: right;\n",
       "    }\n",
       "</style>\n",
       "<table border=\"1\" class=\"dataframe\">\n",
       "  <thead>\n",
       "    <tr style=\"text-align: right;\">\n",
       "      <th></th>\n",
       "      <th>Location</th>\n",
       "      <th>Dim2</th>\n",
       "      <th>Indicator</th>\n",
       "      <th>Period</th>\n",
       "      <th>Dim1</th>\n",
       "      <th>First Tooltip</th>\n",
       "    </tr>\n",
       "  </thead>\n",
       "  <tbody>\n",
       "    <tr>\n",
       "      <th>0</th>\n",
       "      <td>Afghanistan</td>\n",
       "      <td>Total</td>\n",
       "      <td>Ambient and household air pollution attributab...</td>\n",
       "      <td>2016</td>\n",
       "      <td>Both sexes</td>\n",
       "      <td>95.12 [85.12-104.3]</td>\n",
       "    </tr>\n",
       "    <tr>\n",
       "      <th>3</th>\n",
       "      <td>Afghanistan</td>\n",
       "      <td>Total</td>\n",
       "      <td>Ambient and household air pollution attributab...</td>\n",
       "      <td>2016</td>\n",
       "      <td>Both sexes</td>\n",
       "      <td>211.1 [188.9-231.3]</td>\n",
       "    </tr>\n",
       "    <tr>\n",
       "      <th>6</th>\n",
       "      <td>Afghanistan</td>\n",
       "      <td>Lower respiratory infections</td>\n",
       "      <td>Ambient and household air pollution attributab...</td>\n",
       "      <td>2016</td>\n",
       "      <td>Both sexes</td>\n",
       "      <td>31.26 [25.66-35.67]</td>\n",
       "    </tr>\n",
       "    <tr>\n",
       "      <th>9</th>\n",
       "      <td>Afghanistan</td>\n",
       "      <td>Lower respiratory infections</td>\n",
       "      <td>Ambient and household air pollution attributab...</td>\n",
       "      <td>2016</td>\n",
       "      <td>Both sexes</td>\n",
       "      <td>31.68 [26.01-36.15]</td>\n",
       "    </tr>\n",
       "    <tr>\n",
       "      <th>12</th>\n",
       "      <td>Afghanistan</td>\n",
       "      <td>Trachea, bronchus, lung cancers</td>\n",
       "      <td>Ambient and household air pollution attributab...</td>\n",
       "      <td>2016</td>\n",
       "      <td>Both sexes</td>\n",
       "      <td>1.61 [1.21-1.96]</td>\n",
       "    </tr>\n",
       "    <tr>\n",
       "      <th>...</th>\n",
       "      <td>...</td>\n",
       "      <td>...</td>\n",
       "      <td>...</td>\n",
       "      <td>...</td>\n",
       "      <td>...</td>\n",
       "      <td>...</td>\n",
       "    </tr>\n",
       "    <tr>\n",
       "      <th>6573</th>\n",
       "      <td>Zimbabwe</td>\n",
       "      <td>Ischaemic heart disease</td>\n",
       "      <td>Ambient and household air pollution attributab...</td>\n",
       "      <td>2016</td>\n",
       "      <td>Both sexes</td>\n",
       "      <td>33.24 [28.49-38.1]</td>\n",
       "    </tr>\n",
       "    <tr>\n",
       "      <th>6576</th>\n",
       "      <td>Zimbabwe</td>\n",
       "      <td>Stroke</td>\n",
       "      <td>Ambient and household air pollution attributab...</td>\n",
       "      <td>2016</td>\n",
       "      <td>Both sexes</td>\n",
       "      <td>8.27 [7.07-9.64]</td>\n",
       "    </tr>\n",
       "    <tr>\n",
       "      <th>6579</th>\n",
       "      <td>Zimbabwe</td>\n",
       "      <td>Stroke</td>\n",
       "      <td>Ambient and household air pollution attributab...</td>\n",
       "      <td>2016</td>\n",
       "      <td>Both sexes</td>\n",
       "      <td>20.08 [17.15-23.4]</td>\n",
       "    </tr>\n",
       "    <tr>\n",
       "      <th>6582</th>\n",
       "      <td>Zimbabwe</td>\n",
       "      <td>Chronic obstructive pulmonary disease</td>\n",
       "      <td>Ambient and household air pollution attributab...</td>\n",
       "      <td>2016</td>\n",
       "      <td>Both sexes</td>\n",
       "      <td>5.88 [4.26-7.26]</td>\n",
       "    </tr>\n",
       "    <tr>\n",
       "      <th>6585</th>\n",
       "      <td>Zimbabwe</td>\n",
       "      <td>Chronic obstructive pulmonary disease</td>\n",
       "      <td>Ambient and household air pollution attributab...</td>\n",
       "      <td>2016</td>\n",
       "      <td>Both sexes</td>\n",
       "      <td>16.09 [11.67-19.89]</td>\n",
       "    </tr>\n",
       "  </tbody>\n",
       "</table>\n",
       "<p>2196 rows × 6 columns</p>\n",
       "</div>"
      ],
      "text/plain": [
       "         Location                                   Dim2  \\\n",
       "0     Afghanistan                                  Total   \n",
       "3     Afghanistan                                  Total   \n",
       "6     Afghanistan           Lower respiratory infections   \n",
       "9     Afghanistan           Lower respiratory infections   \n",
       "12    Afghanistan        Trachea, bronchus, lung cancers   \n",
       "...           ...                                    ...   \n",
       "6573     Zimbabwe                Ischaemic heart disease   \n",
       "6576     Zimbabwe                                 Stroke   \n",
       "6579     Zimbabwe                                 Stroke   \n",
       "6582     Zimbabwe  Chronic obstructive pulmonary disease   \n",
       "6585     Zimbabwe  Chronic obstructive pulmonary disease   \n",
       "\n",
       "                                              Indicator  Period        Dim1  \\\n",
       "0     Ambient and household air pollution attributab...    2016  Both sexes   \n",
       "3     Ambient and household air pollution attributab...    2016  Both sexes   \n",
       "6     Ambient and household air pollution attributab...    2016  Both sexes   \n",
       "9     Ambient and household air pollution attributab...    2016  Both sexes   \n",
       "12    Ambient and household air pollution attributab...    2016  Both sexes   \n",
       "...                                                 ...     ...         ...   \n",
       "6573  Ambient and household air pollution attributab...    2016  Both sexes   \n",
       "6576  Ambient and household air pollution attributab...    2016  Both sexes   \n",
       "6579  Ambient and household air pollution attributab...    2016  Both sexes   \n",
       "6582  Ambient and household air pollution attributab...    2016  Both sexes   \n",
       "6585  Ambient and household air pollution attributab...    2016  Both sexes   \n",
       "\n",
       "            First Tooltip  \n",
       "0     95.12 [85.12-104.3]  \n",
       "3     211.1 [188.9-231.3]  \n",
       "6     31.26 [25.66-35.67]  \n",
       "9     31.68 [26.01-36.15]  \n",
       "12       1.61 [1.21-1.96]  \n",
       "...                   ...  \n",
       "6573   33.24 [28.49-38.1]  \n",
       "6576     8.27 [7.07-9.64]  \n",
       "6579   20.08 [17.15-23.4]  \n",
       "6582     5.88 [4.26-7.26]  \n",
       "6585  16.09 [11.67-19.89]  \n",
       "\n",
       "[2196 rows x 6 columns]"
      ]
     },
     "execution_count": 48,
     "metadata": {},
     "output_type": "execute_result"
    }
   ],
   "source": [
    "ap_bs_data = ap_data[ap_data['Dim1'] == 'Both sexes']\n",
    "ap_bs_data"
   ]
  },
  {
   "cell_type": "code",
   "execution_count": 49,
   "metadata": {},
   "outputs": [
    {
     "data": {
      "text/html": [
       "<div>\n",
       "<style scoped>\n",
       "    .dataframe tbody tr th:only-of-type {\n",
       "        vertical-align: middle;\n",
       "    }\n",
       "\n",
       "    .dataframe tbody tr th {\n",
       "        vertical-align: top;\n",
       "    }\n",
       "\n",
       "    .dataframe thead th {\n",
       "        text-align: right;\n",
       "    }\n",
       "</style>\n",
       "<table border=\"1\" class=\"dataframe\">\n",
       "  <thead>\n",
       "    <tr style=\"text-align: right;\">\n",
       "      <th></th>\n",
       "      <th>Location</th>\n",
       "      <th>Dim2</th>\n",
       "      <th>Indicator</th>\n",
       "      <th>Period</th>\n",
       "      <th>Dim1</th>\n",
       "      <th>First Tooltip</th>\n",
       "    </tr>\n",
       "  </thead>\n",
       "  <tbody>\n",
       "    <tr>\n",
       "      <th>3</th>\n",
       "      <td>Afghanistan</td>\n",
       "      <td>Total</td>\n",
       "      <td>Ambient and household air pollution attributab...</td>\n",
       "      <td>2016</td>\n",
       "      <td>Both sexes</td>\n",
       "      <td>211.1 [188.9-231.3]</td>\n",
       "    </tr>\n",
       "    <tr>\n",
       "      <th>9</th>\n",
       "      <td>Afghanistan</td>\n",
       "      <td>Lower respiratory infections</td>\n",
       "      <td>Ambient and household air pollution attributab...</td>\n",
       "      <td>2016</td>\n",
       "      <td>Both sexes</td>\n",
       "      <td>31.68 [26.01-36.15]</td>\n",
       "    </tr>\n",
       "    <tr>\n",
       "      <th>15</th>\n",
       "      <td>Afghanistan</td>\n",
       "      <td>Trachea, bronchus, lung cancers</td>\n",
       "      <td>Ambient and household air pollution attributab...</td>\n",
       "      <td>2016</td>\n",
       "      <td>Both sexes</td>\n",
       "      <td>4.05 [3.03-4.92]</td>\n",
       "    </tr>\n",
       "    <tr>\n",
       "      <th>21</th>\n",
       "      <td>Afghanistan</td>\n",
       "      <td>Ischaemic heart disease</td>\n",
       "      <td>Ambient and household air pollution attributab...</td>\n",
       "      <td>2016</td>\n",
       "      <td>Both sexes</td>\n",
       "      <td>106.9 [91.91-121.1]</td>\n",
       "    </tr>\n",
       "    <tr>\n",
       "      <th>27</th>\n",
       "      <td>Afghanistan</td>\n",
       "      <td>Stroke</td>\n",
       "      <td>Ambient and household air pollution attributab...</td>\n",
       "      <td>2016</td>\n",
       "      <td>Both sexes</td>\n",
       "      <td>45.1 [38.59-51.65]</td>\n",
       "    </tr>\n",
       "    <tr>\n",
       "      <th>...</th>\n",
       "      <td>...</td>\n",
       "      <td>...</td>\n",
       "      <td>...</td>\n",
       "      <td>...</td>\n",
       "      <td>...</td>\n",
       "      <td>...</td>\n",
       "    </tr>\n",
       "    <tr>\n",
       "      <th>6561</th>\n",
       "      <td>Zimbabwe</td>\n",
       "      <td>Lower respiratory infections</td>\n",
       "      <td>Ambient and household air pollution attributab...</td>\n",
       "      <td>2016</td>\n",
       "      <td>Both sexes</td>\n",
       "      <td>61.68 [51.05-71.05]</td>\n",
       "    </tr>\n",
       "    <tr>\n",
       "      <th>6567</th>\n",
       "      <td>Zimbabwe</td>\n",
       "      <td>Trachea, bronchus, lung cancers</td>\n",
       "      <td>Ambient and household air pollution attributab...</td>\n",
       "      <td>2016</td>\n",
       "      <td>Both sexes</td>\n",
       "      <td>1.89 [1.42-2.33]</td>\n",
       "    </tr>\n",
       "    <tr>\n",
       "      <th>6573</th>\n",
       "      <td>Zimbabwe</td>\n",
       "      <td>Ischaemic heart disease</td>\n",
       "      <td>Ambient and household air pollution attributab...</td>\n",
       "      <td>2016</td>\n",
       "      <td>Both sexes</td>\n",
       "      <td>33.24 [28.49-38.1]</td>\n",
       "    </tr>\n",
       "    <tr>\n",
       "      <th>6579</th>\n",
       "      <td>Zimbabwe</td>\n",
       "      <td>Stroke</td>\n",
       "      <td>Ambient and household air pollution attributab...</td>\n",
       "      <td>2016</td>\n",
       "      <td>Both sexes</td>\n",
       "      <td>20.08 [17.15-23.4]</td>\n",
       "    </tr>\n",
       "    <tr>\n",
       "      <th>6585</th>\n",
       "      <td>Zimbabwe</td>\n",
       "      <td>Chronic obstructive pulmonary disease</td>\n",
       "      <td>Ambient and household air pollution attributab...</td>\n",
       "      <td>2016</td>\n",
       "      <td>Both sexes</td>\n",
       "      <td>16.09 [11.67-19.89]</td>\n",
       "    </tr>\n",
       "  </tbody>\n",
       "</table>\n",
       "<p>1098 rows × 6 columns</p>\n",
       "</div>"
      ],
      "text/plain": [
       "         Location                                   Dim2  \\\n",
       "3     Afghanistan                                  Total   \n",
       "9     Afghanistan           Lower respiratory infections   \n",
       "15    Afghanistan        Trachea, bronchus, lung cancers   \n",
       "21    Afghanistan                Ischaemic heart disease   \n",
       "27    Afghanistan                                 Stroke   \n",
       "...           ...                                    ...   \n",
       "6561     Zimbabwe           Lower respiratory infections   \n",
       "6567     Zimbabwe        Trachea, bronchus, lung cancers   \n",
       "6573     Zimbabwe                Ischaemic heart disease   \n",
       "6579     Zimbabwe                                 Stroke   \n",
       "6585     Zimbabwe  Chronic obstructive pulmonary disease   \n",
       "\n",
       "                                              Indicator  Period        Dim1  \\\n",
       "3     Ambient and household air pollution attributab...    2016  Both sexes   \n",
       "9     Ambient and household air pollution attributab...    2016  Both sexes   \n",
       "15    Ambient and household air pollution attributab...    2016  Both sexes   \n",
       "21    Ambient and household air pollution attributab...    2016  Both sexes   \n",
       "27    Ambient and household air pollution attributab...    2016  Both sexes   \n",
       "...                                                 ...     ...         ...   \n",
       "6561  Ambient and household air pollution attributab...    2016  Both sexes   \n",
       "6567  Ambient and household air pollution attributab...    2016  Both sexes   \n",
       "6573  Ambient and household air pollution attributab...    2016  Both sexes   \n",
       "6579  Ambient and household air pollution attributab...    2016  Both sexes   \n",
       "6585  Ambient and household air pollution attributab...    2016  Both sexes   \n",
       "\n",
       "            First Tooltip  \n",
       "3     211.1 [188.9-231.3]  \n",
       "9     31.68 [26.01-36.15]  \n",
       "15       4.05 [3.03-4.92]  \n",
       "21    106.9 [91.91-121.1]  \n",
       "27     45.1 [38.59-51.65]  \n",
       "...                   ...  \n",
       "6561  61.68 [51.05-71.05]  \n",
       "6567     1.89 [1.42-2.33]  \n",
       "6573   33.24 [28.49-38.1]  \n",
       "6579   20.08 [17.15-23.4]  \n",
       "6585  16.09 [11.67-19.89]  \n",
       "\n",
       "[1098 rows x 6 columns]"
      ]
     },
     "execution_count": 49,
     "metadata": {},
     "output_type": "execute_result"
    }
   ],
   "source": [
    "ap_bs_standardized = ap_bs_data[ap_bs_data['Indicator'] == 'Ambient and household air pollution attributable death rate (per 100 000 population, age-standardized)']\n",
    "ap_bs_standardized"
   ]
  },
  {
   "cell_type": "code",
   "execution_count": 50,
   "metadata": {},
   "outputs": [
    {
     "data": {
      "text/plain": [
       "array(['Ambient and household air pollution attributable death rate (per 100 000 population, age-standardized)'],\n",
       "      dtype=object)"
      ]
     },
     "execution_count": 50,
     "metadata": {},
     "output_type": "execute_result"
    }
   ],
   "source": [
    "ap_bs_standardized['Indicator'].unique()"
   ]
  },
  {
   "cell_type": "markdown",
   "metadata": {},
   "source": [
    "## This data has only 1 year. Maybe best to ignore.\n"
   ]
  },
  {
   "cell_type": "code",
   "execution_count": 159,
   "metadata": {},
   "outputs": [
    {
     "data": {
      "text/html": [
       "<div>\n",
       "<style scoped>\n",
       "    .dataframe tbody tr th:only-of-type {\n",
       "        vertical-align: middle;\n",
       "    }\n",
       "\n",
       "    .dataframe tbody tr th {\n",
       "        vertical-align: top;\n",
       "    }\n",
       "\n",
       "    .dataframe thead th {\n",
       "        text-align: right;\n",
       "    }\n",
       "</style>\n",
       "<table border=\"1\" class=\"dataframe\">\n",
       "  <thead>\n",
       "    <tr style=\"text-align: right;\">\n",
       "      <th></th>\n",
       "      <th>Location</th>\n",
       "      <th>Dim2</th>\n",
       "      <th>Indicator</th>\n",
       "      <th>Period</th>\n",
       "      <th>Dim1</th>\n",
       "      <th>First Tooltip</th>\n",
       "    </tr>\n",
       "  </thead>\n",
       "  <tbody>\n",
       "    <tr>\n",
       "      <th>3</th>\n",
       "      <td>Afghanistan</td>\n",
       "      <td>Total</td>\n",
       "      <td>Ambient and household air pollution attributab...</td>\n",
       "      <td>2016</td>\n",
       "      <td>Both sexes</td>\n",
       "      <td>211.1 [188.9-231.3]</td>\n",
       "    </tr>\n",
       "    <tr>\n",
       "      <th>39</th>\n",
       "      <td>Albania</td>\n",
       "      <td>Total</td>\n",
       "      <td>Ambient and household air pollution attributab...</td>\n",
       "      <td>2016</td>\n",
       "      <td>Both sexes</td>\n",
       "      <td>67.99 [45.61-95.6]</td>\n",
       "    </tr>\n",
       "    <tr>\n",
       "      <th>75</th>\n",
       "      <td>Algeria</td>\n",
       "      <td>Total</td>\n",
       "      <td>Ambient and household air pollution attributab...</td>\n",
       "      <td>2016</td>\n",
       "      <td>Both sexes</td>\n",
       "      <td>49.68 [38.61-86.22]</td>\n",
       "    </tr>\n",
       "    <tr>\n",
       "      <th>111</th>\n",
       "      <td>Angola</td>\n",
       "      <td>Total</td>\n",
       "      <td>Ambient and household air pollution attributab...</td>\n",
       "      <td>2016</td>\n",
       "      <td>Both sexes</td>\n",
       "      <td>118.5 [101.9-134.7]</td>\n",
       "    </tr>\n",
       "    <tr>\n",
       "      <th>147</th>\n",
       "      <td>Antigua and Barbuda</td>\n",
       "      <td>Total</td>\n",
       "      <td>Ambient and household air pollution attributab...</td>\n",
       "      <td>2016</td>\n",
       "      <td>Both sexes</td>\n",
       "      <td>29.9 [25.18-35.55]</td>\n",
       "    </tr>\n",
       "    <tr>\n",
       "      <th>...</th>\n",
       "      <td>...</td>\n",
       "      <td>...</td>\n",
       "      <td>...</td>\n",
       "      <td>...</td>\n",
       "      <td>...</td>\n",
       "      <td>...</td>\n",
       "    </tr>\n",
       "    <tr>\n",
       "      <th>6411</th>\n",
       "      <td>Venezuela (Bolivarian Republic of)</td>\n",
       "      <td>Total</td>\n",
       "      <td>Ambient and household air pollution attributab...</td>\n",
       "      <td>2016</td>\n",
       "      <td>Both sexes</td>\n",
       "      <td>34.65 [28.14-43.04]</td>\n",
       "    </tr>\n",
       "    <tr>\n",
       "      <th>6447</th>\n",
       "      <td>Viet Nam</td>\n",
       "      <td>Total</td>\n",
       "      <td>Ambient and household air pollution attributab...</td>\n",
       "      <td>2016</td>\n",
       "      <td>Both sexes</td>\n",
       "      <td>64.48 [54.72-75.04]</td>\n",
       "    </tr>\n",
       "    <tr>\n",
       "      <th>6483</th>\n",
       "      <td>Yemen</td>\n",
       "      <td>Total</td>\n",
       "      <td>Ambient and household air pollution attributab...</td>\n",
       "      <td>2016</td>\n",
       "      <td>Both sexes</td>\n",
       "      <td>194.2 [167.8-221.6]</td>\n",
       "    </tr>\n",
       "    <tr>\n",
       "      <th>6519</th>\n",
       "      <td>Zambia</td>\n",
       "      <td>Total</td>\n",
       "      <td>Ambient and household air pollution attributab...</td>\n",
       "      <td>2016</td>\n",
       "      <td>Both sexes</td>\n",
       "      <td>127.2 [113.8-139.7]</td>\n",
       "    </tr>\n",
       "    <tr>\n",
       "      <th>6555</th>\n",
       "      <td>Zimbabwe</td>\n",
       "      <td>Total</td>\n",
       "      <td>Ambient and household air pollution attributab...</td>\n",
       "      <td>2016</td>\n",
       "      <td>Both sexes</td>\n",
       "      <td>133 [117.5-147.7]</td>\n",
       "    </tr>\n",
       "  </tbody>\n",
       "</table>\n",
       "<p>183 rows × 6 columns</p>\n",
       "</div>"
      ],
      "text/plain": [
       "                                Location   Dim2  \\\n",
       "3                            Afghanistan  Total   \n",
       "39                               Albania  Total   \n",
       "75                               Algeria  Total   \n",
       "111                               Angola  Total   \n",
       "147                  Antigua and Barbuda  Total   \n",
       "...                                  ...    ...   \n",
       "6411  Venezuela (Bolivarian Republic of)  Total   \n",
       "6447                            Viet Nam  Total   \n",
       "6483                               Yemen  Total   \n",
       "6519                              Zambia  Total   \n",
       "6555                            Zimbabwe  Total   \n",
       "\n",
       "                                              Indicator  Period        Dim1  \\\n",
       "3     Ambient and household air pollution attributab...    2016  Both sexes   \n",
       "39    Ambient and household air pollution attributab...    2016  Both sexes   \n",
       "75    Ambient and household air pollution attributab...    2016  Both sexes   \n",
       "111   Ambient and household air pollution attributab...    2016  Both sexes   \n",
       "147   Ambient and household air pollution attributab...    2016  Both sexes   \n",
       "...                                                 ...     ...         ...   \n",
       "6411  Ambient and household air pollution attributab...    2016  Both sexes   \n",
       "6447  Ambient and household air pollution attributab...    2016  Both sexes   \n",
       "6483  Ambient and household air pollution attributab...    2016  Both sexes   \n",
       "6519  Ambient and household air pollution attributab...    2016  Both sexes   \n",
       "6555  Ambient and household air pollution attributab...    2016  Both sexes   \n",
       "\n",
       "            First Tooltip  \n",
       "3     211.1 [188.9-231.3]  \n",
       "39     67.99 [45.61-95.6]  \n",
       "75    49.68 [38.61-86.22]  \n",
       "111   118.5 [101.9-134.7]  \n",
       "147    29.9 [25.18-35.55]  \n",
       "...                   ...  \n",
       "6411  34.65 [28.14-43.04]  \n",
       "6447  64.48 [54.72-75.04]  \n",
       "6483  194.2 [167.8-221.6]  \n",
       "6519  127.2 [113.8-139.7]  \n",
       "6555    133 [117.5-147.7]  \n",
       "\n",
       "[183 rows x 6 columns]"
      ]
     },
     "execution_count": 159,
     "metadata": {},
     "output_type": "execute_result"
    }
   ],
   "source": [
    "ap_bs_tot = ap_bs_standardized[ap_bs_standardized['Dim2'] == 'Total']\n",
    "ap_bs_tot"
   ]
  },
  {
   "cell_type": "markdown",
   "metadata": {},
   "source": [
    "## Alcohol Substance Abuse"
   ]
  },
  {
   "cell_type": "code",
   "execution_count": 51,
   "metadata": {},
   "outputs": [
    {
     "data": {
      "text/html": [
       "<div>\n",
       "<style scoped>\n",
       "    .dataframe tbody tr th:only-of-type {\n",
       "        vertical-align: middle;\n",
       "    }\n",
       "\n",
       "    .dataframe tbody tr th {\n",
       "        vertical-align: top;\n",
       "    }\n",
       "\n",
       "    .dataframe thead th {\n",
       "        text-align: right;\n",
       "    }\n",
       "</style>\n",
       "<table border=\"1\" class=\"dataframe\">\n",
       "  <thead>\n",
       "    <tr style=\"text-align: right;\">\n",
       "      <th></th>\n",
       "      <th>Location</th>\n",
       "      <th>Period</th>\n",
       "      <th>Indicator</th>\n",
       "      <th>Dim1</th>\n",
       "      <th>First Tooltip</th>\n",
       "    </tr>\n",
       "  </thead>\n",
       "  <tbody>\n",
       "    <tr>\n",
       "      <th>0</th>\n",
       "      <td>Afghanistan</td>\n",
       "      <td>2018</td>\n",
       "      <td>Total (recorded+unrecorded) alcohol per capita...</td>\n",
       "      <td>Both sexes</td>\n",
       "      <td>0.210</td>\n",
       "    </tr>\n",
       "    <tr>\n",
       "      <th>1</th>\n",
       "      <td>Afghanistan</td>\n",
       "      <td>2018</td>\n",
       "      <td>Total (recorded+unrecorded) alcohol per capita...</td>\n",
       "      <td>Male</td>\n",
       "      <td>0.360</td>\n",
       "    </tr>\n",
       "    <tr>\n",
       "      <th>2</th>\n",
       "      <td>Afghanistan</td>\n",
       "      <td>2018</td>\n",
       "      <td>Total (recorded+unrecorded) alcohol per capita...</td>\n",
       "      <td>Female</td>\n",
       "      <td>0.055</td>\n",
       "    </tr>\n",
       "    <tr>\n",
       "      <th>3</th>\n",
       "      <td>Afghanistan</td>\n",
       "      <td>2015</td>\n",
       "      <td>Total (recorded+unrecorded) alcohol per capita...</td>\n",
       "      <td>Both sexes</td>\n",
       "      <td>0.210</td>\n",
       "    </tr>\n",
       "    <tr>\n",
       "      <th>4</th>\n",
       "      <td>Afghanistan</td>\n",
       "      <td>2015</td>\n",
       "      <td>Total (recorded+unrecorded) alcohol per capita...</td>\n",
       "      <td>Male</td>\n",
       "      <td>0.350</td>\n",
       "    </tr>\n",
       "    <tr>\n",
       "      <th>...</th>\n",
       "      <td>...</td>\n",
       "      <td>...</td>\n",
       "      <td>...</td>\n",
       "      <td>...</td>\n",
       "      <td>...</td>\n",
       "    </tr>\n",
       "    <tr>\n",
       "      <th>2782</th>\n",
       "      <td>Zimbabwe</td>\n",
       "      <td>2005</td>\n",
       "      <td>Total (recorded+unrecorded) alcohol per capita...</td>\n",
       "      <td>Male</td>\n",
       "      <td>4.720</td>\n",
       "    </tr>\n",
       "    <tr>\n",
       "      <th>2783</th>\n",
       "      <td>Zimbabwe</td>\n",
       "      <td>2005</td>\n",
       "      <td>Total (recorded+unrecorded) alcohol per capita...</td>\n",
       "      <td>Female</td>\n",
       "      <td>0.990</td>\n",
       "    </tr>\n",
       "    <tr>\n",
       "      <th>2784</th>\n",
       "      <td>Zimbabwe</td>\n",
       "      <td>2000</td>\n",
       "      <td>Total (recorded+unrecorded) alcohol per capita...</td>\n",
       "      <td>Both sexes</td>\n",
       "      <td>2.460</td>\n",
       "    </tr>\n",
       "    <tr>\n",
       "      <th>2785</th>\n",
       "      <td>Zimbabwe</td>\n",
       "      <td>2000</td>\n",
       "      <td>Total (recorded+unrecorded) alcohol per capita...</td>\n",
       "      <td>Male</td>\n",
       "      <td>4.160</td>\n",
       "    </tr>\n",
       "    <tr>\n",
       "      <th>2786</th>\n",
       "      <td>Zimbabwe</td>\n",
       "      <td>2000</td>\n",
       "      <td>Total (recorded+unrecorded) alcohol per capita...</td>\n",
       "      <td>Female</td>\n",
       "      <td>0.880</td>\n",
       "    </tr>\n",
       "  </tbody>\n",
       "</table>\n",
       "<p>2787 rows × 5 columns</p>\n",
       "</div>"
      ],
      "text/plain": [
       "         Location  Period                                          Indicator  \\\n",
       "0     Afghanistan    2018  Total (recorded+unrecorded) alcohol per capita...   \n",
       "1     Afghanistan    2018  Total (recorded+unrecorded) alcohol per capita...   \n",
       "2     Afghanistan    2018  Total (recorded+unrecorded) alcohol per capita...   \n",
       "3     Afghanistan    2015  Total (recorded+unrecorded) alcohol per capita...   \n",
       "4     Afghanistan    2015  Total (recorded+unrecorded) alcohol per capita...   \n",
       "...           ...     ...                                                ...   \n",
       "2782     Zimbabwe    2005  Total (recorded+unrecorded) alcohol per capita...   \n",
       "2783     Zimbabwe    2005  Total (recorded+unrecorded) alcohol per capita...   \n",
       "2784     Zimbabwe    2000  Total (recorded+unrecorded) alcohol per capita...   \n",
       "2785     Zimbabwe    2000  Total (recorded+unrecorded) alcohol per capita...   \n",
       "2786     Zimbabwe    2000  Total (recorded+unrecorded) alcohol per capita...   \n",
       "\n",
       "            Dim1  First Tooltip  \n",
       "0     Both sexes          0.210  \n",
       "1           Male          0.360  \n",
       "2         Female          0.055  \n",
       "3     Both sexes          0.210  \n",
       "4           Male          0.350  \n",
       "...          ...            ...  \n",
       "2782        Male          4.720  \n",
       "2783      Female          0.990  \n",
       "2784  Both sexes          2.460  \n",
       "2785        Male          4.160  \n",
       "2786      Female          0.880  \n",
       "\n",
       "[2787 rows x 5 columns]"
      ]
     },
     "execution_count": 51,
     "metadata": {},
     "output_type": "execute_result"
    }
   ],
   "source": [
    "alcohol_data = pd.read_csv(WHS_path/'alcoholSubstanceAbuse.csv')\n",
    "alcohol_data"
   ]
  },
  {
   "cell_type": "code",
   "execution_count": 52,
   "metadata": {},
   "outputs": [
    {
     "data": {
      "text/plain": [
       "Location         2787\n",
       "Period           2787\n",
       "Indicator        2787\n",
       "Dim1             2787\n",
       "First Tooltip    2787\n",
       "dtype: int64"
      ]
     },
     "execution_count": 52,
     "metadata": {},
     "output_type": "execute_result"
    }
   ],
   "source": [
    "alcohol_data.isnull().count()"
   ]
  },
  {
   "cell_type": "code",
   "execution_count": 53,
   "metadata": {},
   "outputs": [
    {
     "data": {
      "text/plain": [
       "array([2018, 2015, 2010, 2005, 2000])"
      ]
     },
     "execution_count": 53,
     "metadata": {},
     "output_type": "execute_result"
    }
   ],
   "source": [
    "alcohol_data['Period'].unique()"
   ]
  },
  {
   "cell_type": "markdown",
   "metadata": {},
   "source": [
    "The years to use are 2018 and 2015."
   ]
  },
  {
   "cell_type": "code",
   "execution_count": 54,
   "metadata": {},
   "outputs": [
    {
     "data": {
      "text/plain": [
       "Location         564\n",
       "Period           564\n",
       "Indicator        564\n",
       "Dim1             564\n",
       "First Tooltip    564\n",
       "dtype: int64"
      ]
     },
     "execution_count": 54,
     "metadata": {},
     "output_type": "execute_result"
    }
   ],
   "source": [
    "alcohol_data[alcohol_data['Period'] == 2018].count()"
   ]
  },
  {
   "cell_type": "code",
   "execution_count": 55,
   "metadata": {},
   "outputs": [
    {
     "data": {
      "text/plain": [
       "Location         564\n",
       "Period           564\n",
       "Indicator        564\n",
       "Dim1             564\n",
       "First Tooltip    564\n",
       "dtype: int64"
      ]
     },
     "execution_count": 55,
     "metadata": {},
     "output_type": "execute_result"
    }
   ],
   "source": [
    "alcohol_data[alcohol_data['Period'] == 2015].count()"
   ]
  },
  {
   "cell_type": "code",
   "execution_count": 56,
   "metadata": {},
   "outputs": [
    {
     "data": {
      "text/plain": [
       "Location         561\n",
       "Period           561\n",
       "Indicator        561\n",
       "Dim1             561\n",
       "First Tooltip    561\n",
       "dtype: int64"
      ]
     },
     "execution_count": 56,
     "metadata": {},
     "output_type": "execute_result"
    }
   ],
   "source": [
    "alcohol_data[alcohol_data['Period'] == 2010].count()"
   ]
  },
  {
   "cell_type": "code",
   "execution_count": 57,
   "metadata": {},
   "outputs": [
    {
     "data": {
      "text/plain": [
       "Location         549\n",
       "Period           549\n",
       "Indicator        549\n",
       "Dim1             549\n",
       "First Tooltip    549\n",
       "dtype: int64"
      ]
     },
     "execution_count": 57,
     "metadata": {},
     "output_type": "execute_result"
    }
   ],
   "source": [
    "alcohol_data[alcohol_data['Period'] == 2005].count()"
   ]
  },
  {
   "cell_type": "code",
   "execution_count": 58,
   "metadata": {},
   "outputs": [
    {
     "data": {
      "text/plain": [
       "Location         549\n",
       "Period           549\n",
       "Indicator        549\n",
       "Dim1             549\n",
       "First Tooltip    549\n",
       "dtype: int64"
      ]
     },
     "execution_count": 58,
     "metadata": {},
     "output_type": "execute_result"
    }
   ],
   "source": [
    "alcohol_data[alcohol_data['Period'] == 2000].count()"
   ]
  },
  {
   "cell_type": "code",
   "execution_count": 59,
   "metadata": {},
   "outputs": [
    {
     "data": {
      "text/plain": [
       "array(['Total (recorded+unrecorded) alcohol per capita (15+) consumption'],\n",
       "      dtype=object)"
      ]
     },
     "execution_count": 59,
     "metadata": {},
     "output_type": "execute_result"
    }
   ],
   "source": [
    "alcohol_data['Indicator'].unique()"
   ]
  },
  {
   "cell_type": "code",
   "execution_count": 60,
   "metadata": {},
   "outputs": [
    {
     "data": {
      "text/html": [
       "<div>\n",
       "<style scoped>\n",
       "    .dataframe tbody tr th:only-of-type {\n",
       "        vertical-align: middle;\n",
       "    }\n",
       "\n",
       "    .dataframe tbody tr th {\n",
       "        vertical-align: top;\n",
       "    }\n",
       "\n",
       "    .dataframe thead th {\n",
       "        text-align: right;\n",
       "    }\n",
       "</style>\n",
       "<table border=\"1\" class=\"dataframe\">\n",
       "  <thead>\n",
       "    <tr style=\"text-align: right;\">\n",
       "      <th></th>\n",
       "      <th>Location</th>\n",
       "      <th>Period</th>\n",
       "      <th>Indicator</th>\n",
       "      <th>Dim1</th>\n",
       "      <th>First Tooltip</th>\n",
       "    </tr>\n",
       "  </thead>\n",
       "  <tbody>\n",
       "    <tr>\n",
       "      <th>0</th>\n",
       "      <td>Afghanistan</td>\n",
       "      <td>2018</td>\n",
       "      <td>Total (recorded+unrecorded) alcohol per capita...</td>\n",
       "      <td>Both sexes</td>\n",
       "      <td>0.21</td>\n",
       "    </tr>\n",
       "    <tr>\n",
       "      <th>3</th>\n",
       "      <td>Afghanistan</td>\n",
       "      <td>2015</td>\n",
       "      <td>Total (recorded+unrecorded) alcohol per capita...</td>\n",
       "      <td>Both sexes</td>\n",
       "      <td>0.21</td>\n",
       "    </tr>\n",
       "    <tr>\n",
       "      <th>6</th>\n",
       "      <td>Afghanistan</td>\n",
       "      <td>2010</td>\n",
       "      <td>Total (recorded+unrecorded) alcohol per capita...</td>\n",
       "      <td>Both sexes</td>\n",
       "      <td>0.21</td>\n",
       "    </tr>\n",
       "    <tr>\n",
       "      <th>9</th>\n",
       "      <td>Albania</td>\n",
       "      <td>2018</td>\n",
       "      <td>Total (recorded+unrecorded) alcohol per capita...</td>\n",
       "      <td>Both sexes</td>\n",
       "      <td>7.17</td>\n",
       "    </tr>\n",
       "    <tr>\n",
       "      <th>12</th>\n",
       "      <td>Albania</td>\n",
       "      <td>2015</td>\n",
       "      <td>Total (recorded+unrecorded) alcohol per capita...</td>\n",
       "      <td>Both sexes</td>\n",
       "      <td>6.74</td>\n",
       "    </tr>\n",
       "    <tr>\n",
       "      <th>...</th>\n",
       "      <td>...</td>\n",
       "      <td>...</td>\n",
       "      <td>...</td>\n",
       "      <td>...</td>\n",
       "      <td>...</td>\n",
       "    </tr>\n",
       "    <tr>\n",
       "      <th>2772</th>\n",
       "      <td>Zimbabwe</td>\n",
       "      <td>2018</td>\n",
       "      <td>Total (recorded+unrecorded) alcohol per capita...</td>\n",
       "      <td>Both sexes</td>\n",
       "      <td>4.67</td>\n",
       "    </tr>\n",
       "    <tr>\n",
       "      <th>2775</th>\n",
       "      <td>Zimbabwe</td>\n",
       "      <td>2015</td>\n",
       "      <td>Total (recorded+unrecorded) alcohol per capita...</td>\n",
       "      <td>Both sexes</td>\n",
       "      <td>4.92</td>\n",
       "    </tr>\n",
       "    <tr>\n",
       "      <th>2778</th>\n",
       "      <td>Zimbabwe</td>\n",
       "      <td>2010</td>\n",
       "      <td>Total (recorded+unrecorded) alcohol per capita...</td>\n",
       "      <td>Both sexes</td>\n",
       "      <td>3.93</td>\n",
       "    </tr>\n",
       "    <tr>\n",
       "      <th>2781</th>\n",
       "      <td>Zimbabwe</td>\n",
       "      <td>2005</td>\n",
       "      <td>Total (recorded+unrecorded) alcohol per capita...</td>\n",
       "      <td>Both sexes</td>\n",
       "      <td>2.77</td>\n",
       "    </tr>\n",
       "    <tr>\n",
       "      <th>2784</th>\n",
       "      <td>Zimbabwe</td>\n",
       "      <td>2000</td>\n",
       "      <td>Total (recorded+unrecorded) alcohol per capita...</td>\n",
       "      <td>Both sexes</td>\n",
       "      <td>2.46</td>\n",
       "    </tr>\n",
       "  </tbody>\n",
       "</table>\n",
       "<p>929 rows × 5 columns</p>\n",
       "</div>"
      ],
      "text/plain": [
       "         Location  Period                                          Indicator  \\\n",
       "0     Afghanistan    2018  Total (recorded+unrecorded) alcohol per capita...   \n",
       "3     Afghanistan    2015  Total (recorded+unrecorded) alcohol per capita...   \n",
       "6     Afghanistan    2010  Total (recorded+unrecorded) alcohol per capita...   \n",
       "9         Albania    2018  Total (recorded+unrecorded) alcohol per capita...   \n",
       "12        Albania    2015  Total (recorded+unrecorded) alcohol per capita...   \n",
       "...           ...     ...                                                ...   \n",
       "2772     Zimbabwe    2018  Total (recorded+unrecorded) alcohol per capita...   \n",
       "2775     Zimbabwe    2015  Total (recorded+unrecorded) alcohol per capita...   \n",
       "2778     Zimbabwe    2010  Total (recorded+unrecorded) alcohol per capita...   \n",
       "2781     Zimbabwe    2005  Total (recorded+unrecorded) alcohol per capita...   \n",
       "2784     Zimbabwe    2000  Total (recorded+unrecorded) alcohol per capita...   \n",
       "\n",
       "            Dim1  First Tooltip  \n",
       "0     Both sexes           0.21  \n",
       "3     Both sexes           0.21  \n",
       "6     Both sexes           0.21  \n",
       "9     Both sexes           7.17  \n",
       "12    Both sexes           6.74  \n",
       "...          ...            ...  \n",
       "2772  Both sexes           4.67  \n",
       "2775  Both sexes           4.92  \n",
       "2778  Both sexes           3.93  \n",
       "2781  Both sexes           2.77  \n",
       "2784  Both sexes           2.46  \n",
       "\n",
       "[929 rows x 5 columns]"
      ]
     },
     "execution_count": 60,
     "metadata": {},
     "output_type": "execute_result"
    }
   ],
   "source": [
    "alcohol_both_sex = alcohol_data[alcohol_data['Dim1'] == 'Both sexes']\n",
    "alcohol_both_sex"
   ]
  },
  {
   "cell_type": "markdown",
   "metadata": {},
   "source": [
    "## Dataset to export"
   ]
  },
  {
   "cell_type": "code",
   "execution_count": 61,
   "metadata": {},
   "outputs": [
    {
     "data": {
      "text/html": [
       "<div>\n",
       "<style scoped>\n",
       "    .dataframe tbody tr th:only-of-type {\n",
       "        vertical-align: middle;\n",
       "    }\n",
       "\n",
       "    .dataframe tbody tr th {\n",
       "        vertical-align: top;\n",
       "    }\n",
       "\n",
       "    .dataframe thead th {\n",
       "        text-align: right;\n",
       "    }\n",
       "</style>\n",
       "<table border=\"1\" class=\"dataframe\">\n",
       "  <thead>\n",
       "    <tr style=\"text-align: right;\">\n",
       "      <th></th>\n",
       "      <th>Location</th>\n",
       "      <th>Period</th>\n",
       "      <th>Indicator</th>\n",
       "      <th>Dim1</th>\n",
       "      <th>First Tooltip</th>\n",
       "    </tr>\n",
       "  </thead>\n",
       "  <tbody>\n",
       "    <tr>\n",
       "      <th>0</th>\n",
       "      <td>Afghanistan</td>\n",
       "      <td>2018</td>\n",
       "      <td>Total (recorded+unrecorded) alcohol per capita...</td>\n",
       "      <td>Both sexes</td>\n",
       "      <td>0.210</td>\n",
       "    </tr>\n",
       "    <tr>\n",
       "      <th>9</th>\n",
       "      <td>Albania</td>\n",
       "      <td>2018</td>\n",
       "      <td>Total (recorded+unrecorded) alcohol per capita...</td>\n",
       "      <td>Both sexes</td>\n",
       "      <td>7.170</td>\n",
       "    </tr>\n",
       "    <tr>\n",
       "      <th>24</th>\n",
       "      <td>Algeria</td>\n",
       "      <td>2018</td>\n",
       "      <td>Total (recorded+unrecorded) alcohol per capita...</td>\n",
       "      <td>Both sexes</td>\n",
       "      <td>0.950</td>\n",
       "    </tr>\n",
       "    <tr>\n",
       "      <th>39</th>\n",
       "      <td>Andorra</td>\n",
       "      <td>2018</td>\n",
       "      <td>Total (recorded+unrecorded) alcohol per capita...</td>\n",
       "      <td>Both sexes</td>\n",
       "      <td>11.020</td>\n",
       "    </tr>\n",
       "    <tr>\n",
       "      <th>54</th>\n",
       "      <td>Angola</td>\n",
       "      <td>2018</td>\n",
       "      <td>Total (recorded+unrecorded) alcohol per capita...</td>\n",
       "      <td>Both sexes</td>\n",
       "      <td>6.940</td>\n",
       "    </tr>\n",
       "    <tr>\n",
       "      <th>...</th>\n",
       "      <td>...</td>\n",
       "      <td>...</td>\n",
       "      <td>...</td>\n",
       "      <td>...</td>\n",
       "      <td>...</td>\n",
       "    </tr>\n",
       "    <tr>\n",
       "      <th>2712</th>\n",
       "      <td>Venezuela (Bolivarian Republic of)</td>\n",
       "      <td>2018</td>\n",
       "      <td>Total (recorded+unrecorded) alcohol per capita...</td>\n",
       "      <td>Both sexes</td>\n",
       "      <td>4.140</td>\n",
       "    </tr>\n",
       "    <tr>\n",
       "      <th>2727</th>\n",
       "      <td>Viet Nam</td>\n",
       "      <td>2018</td>\n",
       "      <td>Total (recorded+unrecorded) alcohol per capita...</td>\n",
       "      <td>Both sexes</td>\n",
       "      <td>8.660</td>\n",
       "    </tr>\n",
       "    <tr>\n",
       "      <th>2742</th>\n",
       "      <td>Yemen</td>\n",
       "      <td>2018</td>\n",
       "      <td>Total (recorded+unrecorded) alcohol per capita...</td>\n",
       "      <td>Both sexes</td>\n",
       "      <td>0.051</td>\n",
       "    </tr>\n",
       "    <tr>\n",
       "      <th>2757</th>\n",
       "      <td>Zambia</td>\n",
       "      <td>2018</td>\n",
       "      <td>Total (recorded+unrecorded) alcohol per capita...</td>\n",
       "      <td>Both sexes</td>\n",
       "      <td>6.540</td>\n",
       "    </tr>\n",
       "    <tr>\n",
       "      <th>2772</th>\n",
       "      <td>Zimbabwe</td>\n",
       "      <td>2018</td>\n",
       "      <td>Total (recorded+unrecorded) alcohol per capita...</td>\n",
       "      <td>Both sexes</td>\n",
       "      <td>4.670</td>\n",
       "    </tr>\n",
       "  </tbody>\n",
       "</table>\n",
       "<p>188 rows × 5 columns</p>\n",
       "</div>"
      ],
      "text/plain": [
       "                                Location  Period  \\\n",
       "0                            Afghanistan    2018   \n",
       "9                                Albania    2018   \n",
       "24                               Algeria    2018   \n",
       "39                               Andorra    2018   \n",
       "54                                Angola    2018   \n",
       "...                                  ...     ...   \n",
       "2712  Venezuela (Bolivarian Republic of)    2018   \n",
       "2727                            Viet Nam    2018   \n",
       "2742                               Yemen    2018   \n",
       "2757                              Zambia    2018   \n",
       "2772                            Zimbabwe    2018   \n",
       "\n",
       "                                              Indicator        Dim1  \\\n",
       "0     Total (recorded+unrecorded) alcohol per capita...  Both sexes   \n",
       "9     Total (recorded+unrecorded) alcohol per capita...  Both sexes   \n",
       "24    Total (recorded+unrecorded) alcohol per capita...  Both sexes   \n",
       "39    Total (recorded+unrecorded) alcohol per capita...  Both sexes   \n",
       "54    Total (recorded+unrecorded) alcohol per capita...  Both sexes   \n",
       "...                                                 ...         ...   \n",
       "2712  Total (recorded+unrecorded) alcohol per capita...  Both sexes   \n",
       "2727  Total (recorded+unrecorded) alcohol per capita...  Both sexes   \n",
       "2742  Total (recorded+unrecorded) alcohol per capita...  Both sexes   \n",
       "2757  Total (recorded+unrecorded) alcohol per capita...  Both sexes   \n",
       "2772  Total (recorded+unrecorded) alcohol per capita...  Both sexes   \n",
       "\n",
       "      First Tooltip  \n",
       "0             0.210  \n",
       "9             7.170  \n",
       "24            0.950  \n",
       "39           11.020  \n",
       "54            6.940  \n",
       "...             ...  \n",
       "2712          4.140  \n",
       "2727          8.660  \n",
       "2742          0.051  \n",
       "2757          6.540  \n",
       "2772          4.670  \n",
       "\n",
       "[188 rows x 5 columns]"
      ]
     },
     "execution_count": 61,
     "metadata": {},
     "output_type": "execute_result"
    }
   ],
   "source": [
    "alcohol_both_sex_2018 = alcohol_both_sex[alcohol_both_sex['Period'] == 2018]\n",
    "alcohol_both_sex_2018"
   ]
  },
  {
   "cell_type": "markdown",
   "metadata": {},
   "source": [
    "## Dataset to export"
   ]
  },
  {
   "cell_type": "code",
   "execution_count": 62,
   "metadata": {},
   "outputs": [
    {
     "data": {
      "text/html": [
       "<div>\n",
       "<style scoped>\n",
       "    .dataframe tbody tr th:only-of-type {\n",
       "        vertical-align: middle;\n",
       "    }\n",
       "\n",
       "    .dataframe tbody tr th {\n",
       "        vertical-align: top;\n",
       "    }\n",
       "\n",
       "    .dataframe thead th {\n",
       "        text-align: right;\n",
       "    }\n",
       "</style>\n",
       "<table border=\"1\" class=\"dataframe\">\n",
       "  <thead>\n",
       "    <tr style=\"text-align: right;\">\n",
       "      <th></th>\n",
       "      <th>Location</th>\n",
       "      <th>Period</th>\n",
       "      <th>Indicator</th>\n",
       "      <th>Dim1</th>\n",
       "      <th>First Tooltip</th>\n",
       "    </tr>\n",
       "  </thead>\n",
       "  <tbody>\n",
       "    <tr>\n",
       "      <th>3</th>\n",
       "      <td>Afghanistan</td>\n",
       "      <td>2015</td>\n",
       "      <td>Total (recorded+unrecorded) alcohol per capita...</td>\n",
       "      <td>Both sexes</td>\n",
       "      <td>0.210</td>\n",
       "    </tr>\n",
       "    <tr>\n",
       "      <th>12</th>\n",
       "      <td>Albania</td>\n",
       "      <td>2015</td>\n",
       "      <td>Total (recorded+unrecorded) alcohol per capita...</td>\n",
       "      <td>Both sexes</td>\n",
       "      <td>6.740</td>\n",
       "    </tr>\n",
       "    <tr>\n",
       "      <th>27</th>\n",
       "      <td>Algeria</td>\n",
       "      <td>2015</td>\n",
       "      <td>Total (recorded+unrecorded) alcohol per capita...</td>\n",
       "      <td>Both sexes</td>\n",
       "      <td>0.930</td>\n",
       "    </tr>\n",
       "    <tr>\n",
       "      <th>42</th>\n",
       "      <td>Andorra</td>\n",
       "      <td>2015</td>\n",
       "      <td>Total (recorded+unrecorded) alcohol per capita...</td>\n",
       "      <td>Both sexes</td>\n",
       "      <td>11.010</td>\n",
       "    </tr>\n",
       "    <tr>\n",
       "      <th>57</th>\n",
       "      <td>Angola</td>\n",
       "      <td>2015</td>\n",
       "      <td>Total (recorded+unrecorded) alcohol per capita...</td>\n",
       "      <td>Both sexes</td>\n",
       "      <td>7.960</td>\n",
       "    </tr>\n",
       "    <tr>\n",
       "      <th>...</th>\n",
       "      <td>...</td>\n",
       "      <td>...</td>\n",
       "      <td>...</td>\n",
       "      <td>...</td>\n",
       "      <td>...</td>\n",
       "    </tr>\n",
       "    <tr>\n",
       "      <th>2715</th>\n",
       "      <td>Venezuela (Bolivarian Republic of)</td>\n",
       "      <td>2015</td>\n",
       "      <td>Total (recorded+unrecorded) alcohol per capita...</td>\n",
       "      <td>Both sexes</td>\n",
       "      <td>6.820</td>\n",
       "    </tr>\n",
       "    <tr>\n",
       "      <th>2730</th>\n",
       "      <td>Viet Nam</td>\n",
       "      <td>2015</td>\n",
       "      <td>Total (recorded+unrecorded) alcohol per capita...</td>\n",
       "      <td>Both sexes</td>\n",
       "      <td>7.860</td>\n",
       "    </tr>\n",
       "    <tr>\n",
       "      <th>2745</th>\n",
       "      <td>Yemen</td>\n",
       "      <td>2015</td>\n",
       "      <td>Total (recorded+unrecorded) alcohol per capita...</td>\n",
       "      <td>Both sexes</td>\n",
       "      <td>0.055</td>\n",
       "    </tr>\n",
       "    <tr>\n",
       "      <th>2760</th>\n",
       "      <td>Zambia</td>\n",
       "      <td>2015</td>\n",
       "      <td>Total (recorded+unrecorded) alcohol per capita...</td>\n",
       "      <td>Both sexes</td>\n",
       "      <td>6.890</td>\n",
       "    </tr>\n",
       "    <tr>\n",
       "      <th>2775</th>\n",
       "      <td>Zimbabwe</td>\n",
       "      <td>2015</td>\n",
       "      <td>Total (recorded+unrecorded) alcohol per capita...</td>\n",
       "      <td>Both sexes</td>\n",
       "      <td>4.920</td>\n",
       "    </tr>\n",
       "  </tbody>\n",
       "</table>\n",
       "<p>188 rows × 5 columns</p>\n",
       "</div>"
      ],
      "text/plain": [
       "                                Location  Period  \\\n",
       "3                            Afghanistan    2015   \n",
       "12                               Albania    2015   \n",
       "27                               Algeria    2015   \n",
       "42                               Andorra    2015   \n",
       "57                                Angola    2015   \n",
       "...                                  ...     ...   \n",
       "2715  Venezuela (Bolivarian Republic of)    2015   \n",
       "2730                            Viet Nam    2015   \n",
       "2745                               Yemen    2015   \n",
       "2760                              Zambia    2015   \n",
       "2775                            Zimbabwe    2015   \n",
       "\n",
       "                                              Indicator        Dim1  \\\n",
       "3     Total (recorded+unrecorded) alcohol per capita...  Both sexes   \n",
       "12    Total (recorded+unrecorded) alcohol per capita...  Both sexes   \n",
       "27    Total (recorded+unrecorded) alcohol per capita...  Both sexes   \n",
       "42    Total (recorded+unrecorded) alcohol per capita...  Both sexes   \n",
       "57    Total (recorded+unrecorded) alcohol per capita...  Both sexes   \n",
       "...                                                 ...         ...   \n",
       "2715  Total (recorded+unrecorded) alcohol per capita...  Both sexes   \n",
       "2730  Total (recorded+unrecorded) alcohol per capita...  Both sexes   \n",
       "2745  Total (recorded+unrecorded) alcohol per capita...  Both sexes   \n",
       "2760  Total (recorded+unrecorded) alcohol per capita...  Both sexes   \n",
       "2775  Total (recorded+unrecorded) alcohol per capita...  Both sexes   \n",
       "\n",
       "      First Tooltip  \n",
       "3             0.210  \n",
       "12            6.740  \n",
       "27            0.930  \n",
       "42           11.010  \n",
       "57            7.960  \n",
       "...             ...  \n",
       "2715          6.820  \n",
       "2730          7.860  \n",
       "2745          0.055  \n",
       "2760          6.890  \n",
       "2775          4.920  \n",
       "\n",
       "[188 rows x 5 columns]"
      ]
     },
     "execution_count": 62,
     "metadata": {},
     "output_type": "execute_result"
    }
   ],
   "source": [
    "alcohol_both_sex_2015 = alcohol_both_sex[alcohol_both_sex['Period'] == 2015]\n",
    "alcohol_both_sex_2015"
   ]
  },
  {
   "cell_type": "code",
   "execution_count": null,
   "metadata": {},
   "outputs": [],
   "source": []
  },
  {
   "cell_type": "markdown",
   "metadata": {},
   "source": [
    "## Basic Sanitization"
   ]
  },
  {
   "cell_type": "code",
   "execution_count": 63,
   "metadata": {},
   "outputs": [
    {
     "data": {
      "text/html": [
       "<div>\n",
       "<style scoped>\n",
       "    .dataframe tbody tr th:only-of-type {\n",
       "        vertical-align: middle;\n",
       "    }\n",
       "\n",
       "    .dataframe tbody tr th {\n",
       "        vertical-align: top;\n",
       "    }\n",
       "\n",
       "    .dataframe thead th {\n",
       "        text-align: right;\n",
       "    }\n",
       "</style>\n",
       "<table border=\"1\" class=\"dataframe\">\n",
       "  <thead>\n",
       "    <tr style=\"text-align: right;\">\n",
       "      <th></th>\n",
       "      <th>Location</th>\n",
       "      <th>Indicator</th>\n",
       "      <th>Period</th>\n",
       "      <th>Dim1</th>\n",
       "      <th>First Tooltip</th>\n",
       "    </tr>\n",
       "  </thead>\n",
       "  <tbody>\n",
       "    <tr>\n",
       "      <th>0</th>\n",
       "      <td>Afghanistan</td>\n",
       "      <td>Population using at least basic sanitation ser...</td>\n",
       "      <td>2017</td>\n",
       "      <td>Total</td>\n",
       "      <td>43.42</td>\n",
       "    </tr>\n",
       "    <tr>\n",
       "      <th>1</th>\n",
       "      <td>Afghanistan</td>\n",
       "      <td>Population using at least basic sanitation ser...</td>\n",
       "      <td>2017</td>\n",
       "      <td>Urban</td>\n",
       "      <td>62.26</td>\n",
       "    </tr>\n",
       "    <tr>\n",
       "      <th>2</th>\n",
       "      <td>Afghanistan</td>\n",
       "      <td>Population using at least basic sanitation ser...</td>\n",
       "      <td>2017</td>\n",
       "      <td>Rural</td>\n",
       "      <td>37.05</td>\n",
       "    </tr>\n",
       "    <tr>\n",
       "      <th>3</th>\n",
       "      <td>Afghanistan</td>\n",
       "      <td>Population using at least basic sanitation ser...</td>\n",
       "      <td>2016</td>\n",
       "      <td>Total</td>\n",
       "      <td>42.05</td>\n",
       "    </tr>\n",
       "    <tr>\n",
       "      <th>4</th>\n",
       "      <td>Afghanistan</td>\n",
       "      <td>Population using at least basic sanitation ser...</td>\n",
       "      <td>2016</td>\n",
       "      <td>Urban</td>\n",
       "      <td>59.92</td>\n",
       "    </tr>\n",
       "    <tr>\n",
       "      <th>...</th>\n",
       "      <td>...</td>\n",
       "      <td>...</td>\n",
       "      <td>...</td>\n",
       "      <td>...</td>\n",
       "      <td>...</td>\n",
       "    </tr>\n",
       "    <tr>\n",
       "      <th>9363</th>\n",
       "      <td>Zimbabwe</td>\n",
       "      <td>Population using at least basic sanitation ser...</td>\n",
       "      <td>2001</td>\n",
       "      <td>Urban</td>\n",
       "      <td>65.05</td>\n",
       "    </tr>\n",
       "    <tr>\n",
       "      <th>9364</th>\n",
       "      <td>Zimbabwe</td>\n",
       "      <td>Population using at least basic sanitation ser...</td>\n",
       "      <td>2001</td>\n",
       "      <td>Rural</td>\n",
       "      <td>36.19</td>\n",
       "    </tr>\n",
       "    <tr>\n",
       "      <th>9365</th>\n",
       "      <td>Zimbabwe</td>\n",
       "      <td>Population using at least basic sanitation ser...</td>\n",
       "      <td>2000</td>\n",
       "      <td>Total</td>\n",
       "      <td>45.93</td>\n",
       "    </tr>\n",
       "    <tr>\n",
       "      <th>9366</th>\n",
       "      <td>Zimbabwe</td>\n",
       "      <td>Population using at least basic sanitation ser...</td>\n",
       "      <td>2000</td>\n",
       "      <td>Urban</td>\n",
       "      <td>65.05</td>\n",
       "    </tr>\n",
       "    <tr>\n",
       "      <th>9367</th>\n",
       "      <td>Zimbabwe</td>\n",
       "      <td>Population using at least basic sanitation ser...</td>\n",
       "      <td>2000</td>\n",
       "      <td>Rural</td>\n",
       "      <td>36.19</td>\n",
       "    </tr>\n",
       "  </tbody>\n",
       "</table>\n",
       "<p>9368 rows × 5 columns</p>\n",
       "</div>"
      ],
      "text/plain": [
       "         Location                                          Indicator  Period  \\\n",
       "0     Afghanistan  Population using at least basic sanitation ser...    2017   \n",
       "1     Afghanistan  Population using at least basic sanitation ser...    2017   \n",
       "2     Afghanistan  Population using at least basic sanitation ser...    2017   \n",
       "3     Afghanistan  Population using at least basic sanitation ser...    2016   \n",
       "4     Afghanistan  Population using at least basic sanitation ser...    2016   \n",
       "...           ...                                                ...     ...   \n",
       "9363     Zimbabwe  Population using at least basic sanitation ser...    2001   \n",
       "9364     Zimbabwe  Population using at least basic sanitation ser...    2001   \n",
       "9365     Zimbabwe  Population using at least basic sanitation ser...    2000   \n",
       "9366     Zimbabwe  Population using at least basic sanitation ser...    2000   \n",
       "9367     Zimbabwe  Population using at least basic sanitation ser...    2000   \n",
       "\n",
       "       Dim1  First Tooltip  \n",
       "0     Total          43.42  \n",
       "1     Urban          62.26  \n",
       "2     Rural          37.05  \n",
       "3     Total          42.05  \n",
       "4     Urban          59.92  \n",
       "...     ...            ...  \n",
       "9363  Urban          65.05  \n",
       "9364  Rural          36.19  \n",
       "9365  Total          45.93  \n",
       "9366  Urban          65.05  \n",
       "9367  Rural          36.19  \n",
       "\n",
       "[9368 rows x 5 columns]"
      ]
     },
     "execution_count": 63,
     "metadata": {},
     "output_type": "execute_result"
    }
   ],
   "source": [
    "sani_data = pd.read_csv(WHS_path/'atLeastBasicSanitizationServices.csv')\n",
    "sani_data"
   ]
  },
  {
   "cell_type": "code",
   "execution_count": 67,
   "metadata": {},
   "outputs": [
    {
     "data": {
      "text/plain": [
       "Location         9368\n",
       "Indicator        9368\n",
       "Period           9368\n",
       "Dim1             9368\n",
       "First Tooltip    9368\n",
       "dtype: int64"
      ]
     },
     "execution_count": 67,
     "metadata": {},
     "output_type": "execute_result"
    }
   ],
   "source": [
    "sani_data.isnull().count()"
   ]
  },
  {
   "cell_type": "markdown",
   "metadata": {},
   "source": [
    "The years 2013, 2012, and 2011 are slightly better than 2015 and 2016."
   ]
  },
  {
   "cell_type": "code",
   "execution_count": 66,
   "metadata": {},
   "outputs": [
    {
     "data": {
      "text/plain": [
       "array([2017, 2016, 2015, 2014, 2013, 2012, 2011, 2010, 2009, 2008, 2007,\n",
       "       2006, 2005, 2004, 2003, 2002, 2001, 2000])"
      ]
     },
     "execution_count": 66,
     "metadata": {},
     "output_type": "execute_result"
    }
   ],
   "source": [
    "sani_data['Period'].unique()"
   ]
  },
  {
   "cell_type": "code",
   "execution_count": 69,
   "metadata": {},
   "outputs": [
    {
     "data": {
      "text/plain": [
       "Location         516\n",
       "Indicator        516\n",
       "Period           516\n",
       "Dim1             516\n",
       "First Tooltip    516\n",
       "dtype: int64"
      ]
     },
     "execution_count": 69,
     "metadata": {},
     "output_type": "execute_result"
    }
   ],
   "source": [
    "sani_data[sani_data['Period'] == 2017].count()"
   ]
  },
  {
   "cell_type": "code",
   "execution_count": 70,
   "metadata": {},
   "outputs": [
    {
     "data": {
      "text/plain": [
       "Location         524\n",
       "Indicator        524\n",
       "Period           524\n",
       "Dim1             524\n",
       "First Tooltip    524\n",
       "dtype: int64"
      ]
     },
     "execution_count": 70,
     "metadata": {},
     "output_type": "execute_result"
    }
   ],
   "source": [
    "sani_data[sani_data['Period'] == 2016].count()"
   ]
  },
  {
   "cell_type": "code",
   "execution_count": 71,
   "metadata": {},
   "outputs": [
    {
     "data": {
      "text/plain": [
       "Location         526\n",
       "Indicator        526\n",
       "Period           526\n",
       "Dim1             526\n",
       "First Tooltip    526\n",
       "dtype: int64"
      ]
     },
     "execution_count": 71,
     "metadata": {},
     "output_type": "execute_result"
    }
   ],
   "source": [
    "sani_data[sani_data['Period'] == 2015].count()"
   ]
  },
  {
   "cell_type": "code",
   "execution_count": 72,
   "metadata": {},
   "outputs": [
    {
     "data": {
      "text/plain": [
       "Location         526\n",
       "Indicator        526\n",
       "Period           526\n",
       "Dim1             526\n",
       "First Tooltip    526\n",
       "dtype: int64"
      ]
     },
     "execution_count": 72,
     "metadata": {},
     "output_type": "execute_result"
    }
   ],
   "source": [
    "sani_data[sani_data['Period'] == 2014].count()"
   ]
  },
  {
   "cell_type": "code",
   "execution_count": 73,
   "metadata": {},
   "outputs": [
    {
     "data": {
      "text/plain": [
       "Location         527\n",
       "Indicator        527\n",
       "Period           527\n",
       "Dim1             527\n",
       "First Tooltip    527\n",
       "dtype: int64"
      ]
     },
     "execution_count": 73,
     "metadata": {},
     "output_type": "execute_result"
    }
   ],
   "source": [
    "sani_data[sani_data['Period'] == 2013].count()"
   ]
  },
  {
   "cell_type": "code",
   "execution_count": 74,
   "metadata": {},
   "outputs": [
    {
     "data": {
      "text/plain": [
       "Location         527\n",
       "Indicator        527\n",
       "Period           527\n",
       "Dim1             527\n",
       "First Tooltip    527\n",
       "dtype: int64"
      ]
     },
     "execution_count": 74,
     "metadata": {},
     "output_type": "execute_result"
    }
   ],
   "source": [
    "sani_data[sani_data['Period'] == 2012].count()"
   ]
  },
  {
   "cell_type": "code",
   "execution_count": 75,
   "metadata": {},
   "outputs": [
    {
     "data": {
      "text/plain": [
       "Location         527\n",
       "Indicator        527\n",
       "Period           527\n",
       "Dim1             527\n",
       "First Tooltip    527\n",
       "dtype: int64"
      ]
     },
     "execution_count": 75,
     "metadata": {},
     "output_type": "execute_result"
    }
   ],
   "source": [
    "sani_data[sani_data['Period'] == 2011].count()"
   ]
  },
  {
   "cell_type": "code",
   "execution_count": 76,
   "metadata": {},
   "outputs": [
    {
     "data": {
      "text/plain": [
       "Location         524\n",
       "Indicator        524\n",
       "Period           524\n",
       "Dim1             524\n",
       "First Tooltip    524\n",
       "dtype: int64"
      ]
     },
     "execution_count": 76,
     "metadata": {},
     "output_type": "execute_result"
    }
   ],
   "source": [
    "sani_data[sani_data['Period'] == 2010].count()"
   ]
  },
  {
   "cell_type": "code",
   "execution_count": 77,
   "metadata": {},
   "outputs": [
    {
     "data": {
      "text/plain": [
       "Location         524\n",
       "Indicator        524\n",
       "Period           524\n",
       "Dim1             524\n",
       "First Tooltip    524\n",
       "dtype: int64"
      ]
     },
     "execution_count": 77,
     "metadata": {},
     "output_type": "execute_result"
    }
   ],
   "source": [
    "sani_data[sani_data['Period'] == 2009].count()"
   ]
  },
  {
   "cell_type": "code",
   "execution_count": 78,
   "metadata": {},
   "outputs": [
    {
     "data": {
      "text/plain": [
       "Location         524\n",
       "Indicator        524\n",
       "Period           524\n",
       "Dim1             524\n",
       "First Tooltip    524\n",
       "dtype: int64"
      ]
     },
     "execution_count": 78,
     "metadata": {},
     "output_type": "execute_result"
    }
   ],
   "source": [
    "sani_data[sani_data['Period'] == 2008].count()"
   ]
  },
  {
   "cell_type": "code",
   "execution_count": 79,
   "metadata": {},
   "outputs": [
    {
     "data": {
      "text/plain": [
       "Location         524\n",
       "Indicator        524\n",
       "Period           524\n",
       "Dim1             524\n",
       "First Tooltip    524\n",
       "dtype: int64"
      ]
     },
     "execution_count": 79,
     "metadata": {},
     "output_type": "execute_result"
    }
   ],
   "source": [
    "sani_data[sani_data['Period'] == 2007].count()"
   ]
  },
  {
   "cell_type": "code",
   "execution_count": 80,
   "metadata": {},
   "outputs": [
    {
     "data": {
      "text/plain": [
       "Location         523\n",
       "Indicator        523\n",
       "Period           523\n",
       "Dim1             523\n",
       "First Tooltip    523\n",
       "dtype: int64"
      ]
     },
     "execution_count": 80,
     "metadata": {},
     "output_type": "execute_result"
    }
   ],
   "source": [
    "sani_data[sani_data['Period'] == 2006].count()"
   ]
  },
  {
   "cell_type": "code",
   "execution_count": 81,
   "metadata": {},
   "outputs": [
    {
     "data": {
      "text/plain": [
       "Location         517\n",
       "Indicator        517\n",
       "Period           517\n",
       "Dim1             517\n",
       "First Tooltip    517\n",
       "dtype: int64"
      ]
     },
     "execution_count": 81,
     "metadata": {},
     "output_type": "execute_result"
    }
   ],
   "source": [
    "sani_data[sani_data['Period'] == 2005].count()"
   ]
  },
  {
   "cell_type": "code",
   "execution_count": 82,
   "metadata": {},
   "outputs": [
    {
     "data": {
      "text/plain": [
       "Location         516\n",
       "Indicator        516\n",
       "Period           516\n",
       "Dim1             516\n",
       "First Tooltip    516\n",
       "dtype: int64"
      ]
     },
     "execution_count": 82,
     "metadata": {},
     "output_type": "execute_result"
    }
   ],
   "source": [
    "sani_data[sani_data['Period'] == 2004].count()"
   ]
  },
  {
   "cell_type": "code",
   "execution_count": 83,
   "metadata": {},
   "outputs": [
    {
     "data": {
      "text/plain": [
       "Location         516\n",
       "Indicator        516\n",
       "Period           516\n",
       "Dim1             516\n",
       "First Tooltip    516\n",
       "dtype: int64"
      ]
     },
     "execution_count": 83,
     "metadata": {},
     "output_type": "execute_result"
    }
   ],
   "source": [
    "sani_data[sani_data['Period'] == 2003].count()"
   ]
  },
  {
   "cell_type": "code",
   "execution_count": 84,
   "metadata": {},
   "outputs": [
    {
     "data": {
      "text/plain": [
       "Location         516\n",
       "Indicator        516\n",
       "Period           516\n",
       "Dim1             516\n",
       "First Tooltip    516\n",
       "dtype: int64"
      ]
     },
     "execution_count": 84,
     "metadata": {},
     "output_type": "execute_result"
    }
   ],
   "source": [
    "sani_data[sani_data['Period'] == 2002].count()"
   ]
  },
  {
   "cell_type": "code",
   "execution_count": 85,
   "metadata": {},
   "outputs": [
    {
     "data": {
      "text/plain": [
       "Location         510\n",
       "Indicator        510\n",
       "Period           510\n",
       "Dim1             510\n",
       "First Tooltip    510\n",
       "dtype: int64"
      ]
     },
     "execution_count": 85,
     "metadata": {},
     "output_type": "execute_result"
    }
   ],
   "source": [
    "sani_data[sani_data['Period'] == 2001].count()"
   ]
  },
  {
   "cell_type": "code",
   "execution_count": 86,
   "metadata": {},
   "outputs": [
    {
     "data": {
      "text/plain": [
       "Location         501\n",
       "Indicator        501\n",
       "Period           501\n",
       "Dim1             501\n",
       "First Tooltip    501\n",
       "dtype: int64"
      ]
     },
     "execution_count": 86,
     "metadata": {},
     "output_type": "execute_result"
    }
   ],
   "source": [
    "sani_data[sani_data['Period'] == 2000].count()"
   ]
  },
  {
   "cell_type": "code",
   "execution_count": 89,
   "metadata": {},
   "outputs": [
    {
     "data": {
      "text/plain": [
       "array(['Population using at least basic sanitation services (%)'],\n",
       "      dtype=object)"
      ]
     },
     "execution_count": 89,
     "metadata": {},
     "output_type": "execute_result"
    }
   ],
   "source": [
    "sani_data['Indicator'].unique()"
   ]
  },
  {
   "cell_type": "code",
   "execution_count": 90,
   "metadata": {},
   "outputs": [
    {
     "data": {
      "text/html": [
       "<div>\n",
       "<style scoped>\n",
       "    .dataframe tbody tr th:only-of-type {\n",
       "        vertical-align: middle;\n",
       "    }\n",
       "\n",
       "    .dataframe tbody tr th {\n",
       "        vertical-align: top;\n",
       "    }\n",
       "\n",
       "    .dataframe thead th {\n",
       "        text-align: right;\n",
       "    }\n",
       "</style>\n",
       "<table border=\"1\" class=\"dataframe\">\n",
       "  <thead>\n",
       "    <tr style=\"text-align: right;\">\n",
       "      <th></th>\n",
       "      <th>Location</th>\n",
       "      <th>Indicator</th>\n",
       "      <th>Period</th>\n",
       "      <th>Dim1</th>\n",
       "      <th>First Tooltip</th>\n",
       "    </tr>\n",
       "  </thead>\n",
       "  <tbody>\n",
       "    <tr>\n",
       "      <th>0</th>\n",
       "      <td>Afghanistan</td>\n",
       "      <td>Population using at least basic sanitation ser...</td>\n",
       "      <td>2017</td>\n",
       "      <td>Total</td>\n",
       "      <td>43.42</td>\n",
       "    </tr>\n",
       "    <tr>\n",
       "      <th>3</th>\n",
       "      <td>Afghanistan</td>\n",
       "      <td>Population using at least basic sanitation ser...</td>\n",
       "      <td>2016</td>\n",
       "      <td>Total</td>\n",
       "      <td>42.05</td>\n",
       "    </tr>\n",
       "    <tr>\n",
       "      <th>6</th>\n",
       "      <td>Afghanistan</td>\n",
       "      <td>Population using at least basic sanitation ser...</td>\n",
       "      <td>2015</td>\n",
       "      <td>Total</td>\n",
       "      <td>40.71</td>\n",
       "    </tr>\n",
       "    <tr>\n",
       "      <th>9</th>\n",
       "      <td>Afghanistan</td>\n",
       "      <td>Population using at least basic sanitation ser...</td>\n",
       "      <td>2014</td>\n",
       "      <td>Total</td>\n",
       "      <td>39.37</td>\n",
       "    </tr>\n",
       "    <tr>\n",
       "      <th>12</th>\n",
       "      <td>Afghanistan</td>\n",
       "      <td>Population using at least basic sanitation ser...</td>\n",
       "      <td>2013</td>\n",
       "      <td>Total</td>\n",
       "      <td>38.06</td>\n",
       "    </tr>\n",
       "    <tr>\n",
       "      <th>...</th>\n",
       "      <td>...</td>\n",
       "      <td>...</td>\n",
       "      <td>...</td>\n",
       "      <td>...</td>\n",
       "      <td>...</td>\n",
       "    </tr>\n",
       "    <tr>\n",
       "      <th>9353</th>\n",
       "      <td>Zimbabwe</td>\n",
       "      <td>Population using at least basic sanitation ser...</td>\n",
       "      <td>2004</td>\n",
       "      <td>Total</td>\n",
       "      <td>45.37</td>\n",
       "    </tr>\n",
       "    <tr>\n",
       "      <th>9356</th>\n",
       "      <td>Zimbabwe</td>\n",
       "      <td>Population using at least basic sanitation ser...</td>\n",
       "      <td>2003</td>\n",
       "      <td>Total</td>\n",
       "      <td>46.11</td>\n",
       "    </tr>\n",
       "    <tr>\n",
       "      <th>9359</th>\n",
       "      <td>Zimbabwe</td>\n",
       "      <td>Population using at least basic sanitation ser...</td>\n",
       "      <td>2002</td>\n",
       "      <td>Total</td>\n",
       "      <td>46.15</td>\n",
       "    </tr>\n",
       "    <tr>\n",
       "      <th>9362</th>\n",
       "      <td>Zimbabwe</td>\n",
       "      <td>Population using at least basic sanitation ser...</td>\n",
       "      <td>2001</td>\n",
       "      <td>Total</td>\n",
       "      <td>46.05</td>\n",
       "    </tr>\n",
       "    <tr>\n",
       "      <th>9365</th>\n",
       "      <td>Zimbabwe</td>\n",
       "      <td>Population using at least basic sanitation ser...</td>\n",
       "      <td>2000</td>\n",
       "      <td>Total</td>\n",
       "      <td>45.93</td>\n",
       "    </tr>\n",
       "  </tbody>\n",
       "</table>\n",
       "<p>3439 rows × 5 columns</p>\n",
       "</div>"
      ],
      "text/plain": [
       "         Location                                          Indicator  Period  \\\n",
       "0     Afghanistan  Population using at least basic sanitation ser...    2017   \n",
       "3     Afghanistan  Population using at least basic sanitation ser...    2016   \n",
       "6     Afghanistan  Population using at least basic sanitation ser...    2015   \n",
       "9     Afghanistan  Population using at least basic sanitation ser...    2014   \n",
       "12    Afghanistan  Population using at least basic sanitation ser...    2013   \n",
       "...           ...                                                ...     ...   \n",
       "9353     Zimbabwe  Population using at least basic sanitation ser...    2004   \n",
       "9356     Zimbabwe  Population using at least basic sanitation ser...    2003   \n",
       "9359     Zimbabwe  Population using at least basic sanitation ser...    2002   \n",
       "9362     Zimbabwe  Population using at least basic sanitation ser...    2001   \n",
       "9365     Zimbabwe  Population using at least basic sanitation ser...    2000   \n",
       "\n",
       "       Dim1  First Tooltip  \n",
       "0     Total          43.42  \n",
       "3     Total          42.05  \n",
       "6     Total          40.71  \n",
       "9     Total          39.37  \n",
       "12    Total          38.06  \n",
       "...     ...            ...  \n",
       "9353  Total          45.37  \n",
       "9356  Total          46.11  \n",
       "9359  Total          46.15  \n",
       "9362  Total          46.05  \n",
       "9365  Total          45.93  \n",
       "\n",
       "[3439 rows x 5 columns]"
      ]
     },
     "execution_count": 90,
     "metadata": {},
     "output_type": "execute_result"
    }
   ],
   "source": [
    "sani_data_tot = sani_data[sani_data['Dim1'] == \"Total\"]\n",
    "sani_data_tot"
   ]
  },
  {
   "cell_type": "markdown",
   "metadata": {},
   "source": [
    "## Dataset to export"
   ]
  },
  {
   "cell_type": "code",
   "execution_count": 93,
   "metadata": {},
   "outputs": [
    {
     "data": {
      "text/html": [
       "<div>\n",
       "<style scoped>\n",
       "    .dataframe tbody tr th:only-of-type {\n",
       "        vertical-align: middle;\n",
       "    }\n",
       "\n",
       "    .dataframe tbody tr th {\n",
       "        vertical-align: top;\n",
       "    }\n",
       "\n",
       "    .dataframe thead th {\n",
       "        text-align: right;\n",
       "    }\n",
       "</style>\n",
       "<table border=\"1\" class=\"dataframe\">\n",
       "  <thead>\n",
       "    <tr style=\"text-align: right;\">\n",
       "      <th></th>\n",
       "      <th>Location</th>\n",
       "      <th>Indicator</th>\n",
       "      <th>Period</th>\n",
       "      <th>Dim1</th>\n",
       "      <th>First Tooltip</th>\n",
       "    </tr>\n",
       "  </thead>\n",
       "  <tbody>\n",
       "    <tr>\n",
       "      <th>12</th>\n",
       "      <td>Afghanistan</td>\n",
       "      <td>Population using at least basic sanitation ser...</td>\n",
       "      <td>2013</td>\n",
       "      <td>Total</td>\n",
       "      <td>38.06</td>\n",
       "    </tr>\n",
       "    <tr>\n",
       "      <th>66</th>\n",
       "      <td>Albania</td>\n",
       "      <td>Population using at least basic sanitation ser...</td>\n",
       "      <td>2013</td>\n",
       "      <td>Total</td>\n",
       "      <td>97.31</td>\n",
       "    </tr>\n",
       "    <tr>\n",
       "      <th>120</th>\n",
       "      <td>Algeria</td>\n",
       "      <td>Population using at least basic sanitation ser...</td>\n",
       "      <td>2013</td>\n",
       "      <td>Total</td>\n",
       "      <td>87.16</td>\n",
       "    </tr>\n",
       "    <tr>\n",
       "      <th>174</th>\n",
       "      <td>Andorra</td>\n",
       "      <td>Population using at least basic sanitation ser...</td>\n",
       "      <td>2013</td>\n",
       "      <td>Total</td>\n",
       "      <td>100.00</td>\n",
       "    </tr>\n",
       "    <tr>\n",
       "      <th>228</th>\n",
       "      <td>Angola</td>\n",
       "      <td>Population using at least basic sanitation ser...</td>\n",
       "      <td>2013</td>\n",
       "      <td>Total</td>\n",
       "      <td>44.85</td>\n",
       "    </tr>\n",
       "    <tr>\n",
       "      <th>...</th>\n",
       "      <td>...</td>\n",
       "      <td>...</td>\n",
       "      <td>...</td>\n",
       "      <td>...</td>\n",
       "      <td>...</td>\n",
       "    </tr>\n",
       "    <tr>\n",
       "      <th>9143</th>\n",
       "      <td>Venezuela (Bolivarian Republic of)</td>\n",
       "      <td>Population using at least basic sanitation ser...</td>\n",
       "      <td>2013</td>\n",
       "      <td>Total</td>\n",
       "      <td>93.94</td>\n",
       "    </tr>\n",
       "    <tr>\n",
       "      <th>9164</th>\n",
       "      <td>Viet Nam</td>\n",
       "      <td>Population using at least basic sanitation ser...</td>\n",
       "      <td>2013</td>\n",
       "      <td>Total</td>\n",
       "      <td>76.49</td>\n",
       "    </tr>\n",
       "    <tr>\n",
       "      <th>9218</th>\n",
       "      <td>Yemen</td>\n",
       "      <td>Population using at least basic sanitation ser...</td>\n",
       "      <td>2013</td>\n",
       "      <td>Total</td>\n",
       "      <td>56.31</td>\n",
       "    </tr>\n",
       "    <tr>\n",
       "      <th>9272</th>\n",
       "      <td>Zambia</td>\n",
       "      <td>Population using at least basic sanitation ser...</td>\n",
       "      <td>2013</td>\n",
       "      <td>Total</td>\n",
       "      <td>25.74</td>\n",
       "    </tr>\n",
       "    <tr>\n",
       "      <th>9326</th>\n",
       "      <td>Zimbabwe</td>\n",
       "      <td>Population using at least basic sanitation ser...</td>\n",
       "      <td>2013</td>\n",
       "      <td>Total</td>\n",
       "      <td>38.94</td>\n",
       "    </tr>\n",
       "  </tbody>\n",
       "</table>\n",
       "<p>194 rows × 5 columns</p>\n",
       "</div>"
      ],
      "text/plain": [
       "                                Location  \\\n",
       "12                           Afghanistan   \n",
       "66                               Albania   \n",
       "120                              Algeria   \n",
       "174                              Andorra   \n",
       "228                               Angola   \n",
       "...                                  ...   \n",
       "9143  Venezuela (Bolivarian Republic of)   \n",
       "9164                            Viet Nam   \n",
       "9218                               Yemen   \n",
       "9272                              Zambia   \n",
       "9326                            Zimbabwe   \n",
       "\n",
       "                                              Indicator  Period   Dim1  \\\n",
       "12    Population using at least basic sanitation ser...    2013  Total   \n",
       "66    Population using at least basic sanitation ser...    2013  Total   \n",
       "120   Population using at least basic sanitation ser...    2013  Total   \n",
       "174   Population using at least basic sanitation ser...    2013  Total   \n",
       "228   Population using at least basic sanitation ser...    2013  Total   \n",
       "...                                                 ...     ...    ...   \n",
       "9143  Population using at least basic sanitation ser...    2013  Total   \n",
       "9164  Population using at least basic sanitation ser...    2013  Total   \n",
       "9218  Population using at least basic sanitation ser...    2013  Total   \n",
       "9272  Population using at least basic sanitation ser...    2013  Total   \n",
       "9326  Population using at least basic sanitation ser...    2013  Total   \n",
       "\n",
       "      First Tooltip  \n",
       "12            38.06  \n",
       "66            97.31  \n",
       "120           87.16  \n",
       "174          100.00  \n",
       "228           44.85  \n",
       "...             ...  \n",
       "9143          93.94  \n",
       "9164          76.49  \n",
       "9218          56.31  \n",
       "9272          25.74  \n",
       "9326          38.94  \n",
       "\n",
       "[194 rows x 5 columns]"
      ]
     },
     "execution_count": 93,
     "metadata": {},
     "output_type": "execute_result"
    }
   ],
   "source": [
    "sani_data_2013 = sani_data_tot[sani_data_tot['Period'] == 2013]\n",
    "sani_data_2013"
   ]
  },
  {
   "cell_type": "markdown",
   "metadata": {},
   "source": [
    "## Dataset to export"
   ]
  },
  {
   "cell_type": "code",
   "execution_count": 94,
   "metadata": {},
   "outputs": [
    {
     "data": {
      "text/html": [
       "<div>\n",
       "<style scoped>\n",
       "    .dataframe tbody tr th:only-of-type {\n",
       "        vertical-align: middle;\n",
       "    }\n",
       "\n",
       "    .dataframe tbody tr th {\n",
       "        vertical-align: top;\n",
       "    }\n",
       "\n",
       "    .dataframe thead th {\n",
       "        text-align: right;\n",
       "    }\n",
       "</style>\n",
       "<table border=\"1\" class=\"dataframe\">\n",
       "  <thead>\n",
       "    <tr style=\"text-align: right;\">\n",
       "      <th></th>\n",
       "      <th>Location</th>\n",
       "      <th>Indicator</th>\n",
       "      <th>Period</th>\n",
       "      <th>Dim1</th>\n",
       "      <th>First Tooltip</th>\n",
       "    </tr>\n",
       "  </thead>\n",
       "  <tbody>\n",
       "    <tr>\n",
       "      <th>15</th>\n",
       "      <td>Afghanistan</td>\n",
       "      <td>Population using at least basic sanitation ser...</td>\n",
       "      <td>2012</td>\n",
       "      <td>Total</td>\n",
       "      <td>36.75</td>\n",
       "    </tr>\n",
       "    <tr>\n",
       "      <th>69</th>\n",
       "      <td>Albania</td>\n",
       "      <td>Population using at least basic sanitation ser...</td>\n",
       "      <td>2012</td>\n",
       "      <td>Total</td>\n",
       "      <td>96.78</td>\n",
       "    </tr>\n",
       "    <tr>\n",
       "      <th>123</th>\n",
       "      <td>Algeria</td>\n",
       "      <td>Population using at least basic sanitation ser...</td>\n",
       "      <td>2012</td>\n",
       "      <td>Total</td>\n",
       "      <td>86.97</td>\n",
       "    </tr>\n",
       "    <tr>\n",
       "      <th>177</th>\n",
       "      <td>Andorra</td>\n",
       "      <td>Population using at least basic sanitation ser...</td>\n",
       "      <td>2012</td>\n",
       "      <td>Total</td>\n",
       "      <td>100.00</td>\n",
       "    </tr>\n",
       "    <tr>\n",
       "      <th>231</th>\n",
       "      <td>Angola</td>\n",
       "      <td>Population using at least basic sanitation ser...</td>\n",
       "      <td>2012</td>\n",
       "      <td>Total</td>\n",
       "      <td>43.59</td>\n",
       "    </tr>\n",
       "    <tr>\n",
       "      <th>...</th>\n",
       "      <td>...</td>\n",
       "      <td>...</td>\n",
       "      <td>...</td>\n",
       "      <td>...</td>\n",
       "      <td>...</td>\n",
       "    </tr>\n",
       "    <tr>\n",
       "      <th>9144</th>\n",
       "      <td>Venezuela (Bolivarian Republic of)</td>\n",
       "      <td>Population using at least basic sanitation ser...</td>\n",
       "      <td>2012</td>\n",
       "      <td>Total</td>\n",
       "      <td>93.94</td>\n",
       "    </tr>\n",
       "    <tr>\n",
       "      <th>9167</th>\n",
       "      <td>Viet Nam</td>\n",
       "      <td>Population using at least basic sanitation ser...</td>\n",
       "      <td>2012</td>\n",
       "      <td>Total</td>\n",
       "      <td>74.68</td>\n",
       "    </tr>\n",
       "    <tr>\n",
       "      <th>9221</th>\n",
       "      <td>Yemen</td>\n",
       "      <td>Population using at least basic sanitation ser...</td>\n",
       "      <td>2012</td>\n",
       "      <td>Total</td>\n",
       "      <td>55.19</td>\n",
       "    </tr>\n",
       "    <tr>\n",
       "      <th>9275</th>\n",
       "      <td>Zambia</td>\n",
       "      <td>Population using at least basic sanitation ser...</td>\n",
       "      <td>2012</td>\n",
       "      <td>Total</td>\n",
       "      <td>25.61</td>\n",
       "    </tr>\n",
       "    <tr>\n",
       "      <th>9329</th>\n",
       "      <td>Zimbabwe</td>\n",
       "      <td>Population using at least basic sanitation ser...</td>\n",
       "      <td>2012</td>\n",
       "      <td>Total</td>\n",
       "      <td>39.64</td>\n",
       "    </tr>\n",
       "  </tbody>\n",
       "</table>\n",
       "<p>194 rows × 5 columns</p>\n",
       "</div>"
      ],
      "text/plain": [
       "                                Location  \\\n",
       "15                           Afghanistan   \n",
       "69                               Albania   \n",
       "123                              Algeria   \n",
       "177                              Andorra   \n",
       "231                               Angola   \n",
       "...                                  ...   \n",
       "9144  Venezuela (Bolivarian Republic of)   \n",
       "9167                            Viet Nam   \n",
       "9221                               Yemen   \n",
       "9275                              Zambia   \n",
       "9329                            Zimbabwe   \n",
       "\n",
       "                                              Indicator  Period   Dim1  \\\n",
       "15    Population using at least basic sanitation ser...    2012  Total   \n",
       "69    Population using at least basic sanitation ser...    2012  Total   \n",
       "123   Population using at least basic sanitation ser...    2012  Total   \n",
       "177   Population using at least basic sanitation ser...    2012  Total   \n",
       "231   Population using at least basic sanitation ser...    2012  Total   \n",
       "...                                                 ...     ...    ...   \n",
       "9144  Population using at least basic sanitation ser...    2012  Total   \n",
       "9167  Population using at least basic sanitation ser...    2012  Total   \n",
       "9221  Population using at least basic sanitation ser...    2012  Total   \n",
       "9275  Population using at least basic sanitation ser...    2012  Total   \n",
       "9329  Population using at least basic sanitation ser...    2012  Total   \n",
       "\n",
       "      First Tooltip  \n",
       "15            36.75  \n",
       "69            96.78  \n",
       "123           86.97  \n",
       "177          100.00  \n",
       "231           43.59  \n",
       "...             ...  \n",
       "9144          93.94  \n",
       "9167          74.68  \n",
       "9221          55.19  \n",
       "9275          25.61  \n",
       "9329          39.64  \n",
       "\n",
       "[194 rows x 5 columns]"
      ]
     },
     "execution_count": 94,
     "metadata": {},
     "output_type": "execute_result"
    }
   ],
   "source": [
    "sani_data_2012 = sani_data_tot[sani_data_tot['Period'] == 2012]\n",
    "sani_data_2012"
   ]
  },
  {
   "cell_type": "code",
   "execution_count": null,
   "metadata": {},
   "outputs": [],
   "source": []
  },
  {
   "cell_type": "markdown",
   "metadata": {},
   "source": [
    "## Basic Drinking Water Services"
   ]
  },
  {
   "cell_type": "code",
   "execution_count": 95,
   "metadata": {},
   "outputs": [
    {
     "data": {
      "text/html": [
       "<div>\n",
       "<style scoped>\n",
       "    .dataframe tbody tr th:only-of-type {\n",
       "        vertical-align: middle;\n",
       "    }\n",
       "\n",
       "    .dataframe tbody tr th {\n",
       "        vertical-align: top;\n",
       "    }\n",
       "\n",
       "    .dataframe thead th {\n",
       "        text-align: right;\n",
       "    }\n",
       "</style>\n",
       "<table border=\"1\" class=\"dataframe\">\n",
       "  <thead>\n",
       "    <tr style=\"text-align: right;\">\n",
       "      <th></th>\n",
       "      <th>Location</th>\n",
       "      <th>Period</th>\n",
       "      <th>Indicator</th>\n",
       "      <th>First Tooltip</th>\n",
       "    </tr>\n",
       "  </thead>\n",
       "  <tbody>\n",
       "    <tr>\n",
       "      <th>0</th>\n",
       "      <td>Afghanistan</td>\n",
       "      <td>2017</td>\n",
       "      <td>Population using at least basic drinking-water...</td>\n",
       "      <td>57.32</td>\n",
       "    </tr>\n",
       "    <tr>\n",
       "      <th>1</th>\n",
       "      <td>Afghanistan</td>\n",
       "      <td>2016</td>\n",
       "      <td>Population using at least basic drinking-water...</td>\n",
       "      <td>54.84</td>\n",
       "    </tr>\n",
       "    <tr>\n",
       "      <th>2</th>\n",
       "      <td>Afghanistan</td>\n",
       "      <td>2015</td>\n",
       "      <td>Population using at least basic drinking-water...</td>\n",
       "      <td>52.39</td>\n",
       "    </tr>\n",
       "    <tr>\n",
       "      <th>3</th>\n",
       "      <td>Afghanistan</td>\n",
       "      <td>2014</td>\n",
       "      <td>Population using at least basic drinking-water...</td>\n",
       "      <td>49.96</td>\n",
       "    </tr>\n",
       "    <tr>\n",
       "      <th>4</th>\n",
       "      <td>Afghanistan</td>\n",
       "      <td>2013</td>\n",
       "      <td>Population using at least basic drinking-water...</td>\n",
       "      <td>47.56</td>\n",
       "    </tr>\n",
       "    <tr>\n",
       "      <th>...</th>\n",
       "      <td>...</td>\n",
       "      <td>...</td>\n",
       "      <td>...</td>\n",
       "      <td>...</td>\n",
       "    </tr>\n",
       "    <tr>\n",
       "      <th>3450</th>\n",
       "      <td>Zimbabwe</td>\n",
       "      <td>2004</td>\n",
       "      <td>Population using at least basic drinking-water...</td>\n",
       "      <td>57.94</td>\n",
       "    </tr>\n",
       "    <tr>\n",
       "      <th>3451</th>\n",
       "      <td>Zimbabwe</td>\n",
       "      <td>2003</td>\n",
       "      <td>Population using at least basic drinking-water...</td>\n",
       "      <td>58.59</td>\n",
       "    </tr>\n",
       "    <tr>\n",
       "      <th>3452</th>\n",
       "      <td>Zimbabwe</td>\n",
       "      <td>2002</td>\n",
       "      <td>Population using at least basic drinking-water...</td>\n",
       "      <td>59.23</td>\n",
       "    </tr>\n",
       "    <tr>\n",
       "      <th>3453</th>\n",
       "      <td>Zimbabwe</td>\n",
       "      <td>2001</td>\n",
       "      <td>Population using at least basic drinking-water...</td>\n",
       "      <td>59.88</td>\n",
       "    </tr>\n",
       "    <tr>\n",
       "      <th>3454</th>\n",
       "      <td>Zimbabwe</td>\n",
       "      <td>2000</td>\n",
       "      <td>Population using at least basic drinking-water...</td>\n",
       "      <td>59.88</td>\n",
       "    </tr>\n",
       "  </tbody>\n",
       "</table>\n",
       "<p>3455 rows × 4 columns</p>\n",
       "</div>"
      ],
      "text/plain": [
       "         Location  Period                                          Indicator  \\\n",
       "0     Afghanistan    2017  Population using at least basic drinking-water...   \n",
       "1     Afghanistan    2016  Population using at least basic drinking-water...   \n",
       "2     Afghanistan    2015  Population using at least basic drinking-water...   \n",
       "3     Afghanistan    2014  Population using at least basic drinking-water...   \n",
       "4     Afghanistan    2013  Population using at least basic drinking-water...   \n",
       "...           ...     ...                                                ...   \n",
       "3450     Zimbabwe    2004  Population using at least basic drinking-water...   \n",
       "3451     Zimbabwe    2003  Population using at least basic drinking-water...   \n",
       "3452     Zimbabwe    2002  Population using at least basic drinking-water...   \n",
       "3453     Zimbabwe    2001  Population using at least basic drinking-water...   \n",
       "3454     Zimbabwe    2000  Population using at least basic drinking-water...   \n",
       "\n",
       "      First Tooltip  \n",
       "0             57.32  \n",
       "1             54.84  \n",
       "2             52.39  \n",
       "3             49.96  \n",
       "4             47.56  \n",
       "...             ...  \n",
       "3450          57.94  \n",
       "3451          58.59  \n",
       "3452          59.23  \n",
       "3453          59.88  \n",
       "3454          59.88  \n",
       "\n",
       "[3455 rows x 4 columns]"
      ]
     },
     "execution_count": 95,
     "metadata": {},
     "output_type": "execute_result"
    }
   ],
   "source": [
    "water_data = pd.read_csv(WHS_path/'basicDrinkingWaterServices.csv')\n",
    "water_data"
   ]
  },
  {
   "cell_type": "code",
   "execution_count": 96,
   "metadata": {},
   "outputs": [
    {
     "data": {
      "text/plain": [
       "Location         3455\n",
       "Period           3455\n",
       "Indicator        3455\n",
       "First Tooltip    3455\n",
       "dtype: int64"
      ]
     },
     "execution_count": 96,
     "metadata": {},
     "output_type": "execute_result"
    }
   ],
   "source": [
    "water_data.isnull().count()"
   ]
  },
  {
   "cell_type": "markdown",
   "metadata": {},
   "source": [
    "Year 2013 and 2012 are slightly better than 2015 and 2016"
   ]
  },
  {
   "cell_type": "code",
   "execution_count": 97,
   "metadata": {},
   "outputs": [
    {
     "data": {
      "text/plain": [
       "array([2017, 2016, 2015, 2014, 2013, 2012, 2011, 2010, 2009, 2008, 2007,\n",
       "       2006, 2005, 2004, 2003, 2002, 2001, 2000])"
      ]
     },
     "execution_count": 97,
     "metadata": {},
     "output_type": "execute_result"
    }
   ],
   "source": [
    "water_data['Period'].unique()"
   ]
  },
  {
   "cell_type": "code",
   "execution_count": 99,
   "metadata": {},
   "outputs": [
    {
     "data": {
      "text/plain": [
       "Location         190\n",
       "Period           190\n",
       "Indicator        190\n",
       "First Tooltip    190\n",
       "dtype: int64"
      ]
     },
     "execution_count": 99,
     "metadata": {},
     "output_type": "execute_result"
    }
   ],
   "source": [
    "water_data[water_data['Period'] == 2017].count()"
   ]
  },
  {
   "cell_type": "code",
   "execution_count": 100,
   "metadata": {},
   "outputs": [
    {
     "data": {
      "text/plain": [
       "Location         192\n",
       "Period           192\n",
       "Indicator        192\n",
       "First Tooltip    192\n",
       "dtype: int64"
      ]
     },
     "execution_count": 100,
     "metadata": {},
     "output_type": "execute_result"
    }
   ],
   "source": [
    "water_data[water_data['Period'] == 2016].count()"
   ]
  },
  {
   "cell_type": "code",
   "execution_count": 101,
   "metadata": {},
   "outputs": [
    {
     "data": {
      "text/plain": [
       "Location         193\n",
       "Period           193\n",
       "Indicator        193\n",
       "First Tooltip    193\n",
       "dtype: int64"
      ]
     },
     "execution_count": 101,
     "metadata": {},
     "output_type": "execute_result"
    }
   ],
   "source": [
    "water_data[water_data['Period'] == 2015].count()"
   ]
  },
  {
   "cell_type": "code",
   "execution_count": 102,
   "metadata": {},
   "outputs": [
    {
     "data": {
      "text/plain": [
       "Location         193\n",
       "Period           193\n",
       "Indicator        193\n",
       "First Tooltip    193\n",
       "dtype: int64"
      ]
     },
     "execution_count": 102,
     "metadata": {},
     "output_type": "execute_result"
    }
   ],
   "source": [
    "water_data[water_data['Period'] == 2014].count()"
   ]
  },
  {
   "cell_type": "code",
   "execution_count": 103,
   "metadata": {},
   "outputs": [
    {
     "data": {
      "text/plain": [
       "Location         194\n",
       "Period           194\n",
       "Indicator        194\n",
       "First Tooltip    194\n",
       "dtype: int64"
      ]
     },
     "execution_count": 103,
     "metadata": {},
     "output_type": "execute_result"
    }
   ],
   "source": [
    "water_data[water_data['Period'] == 2013].count()"
   ]
  },
  {
   "cell_type": "code",
   "execution_count": 104,
   "metadata": {},
   "outputs": [
    {
     "data": {
      "text/plain": [
       "Location         194\n",
       "Period           194\n",
       "Indicator        194\n",
       "First Tooltip    194\n",
       "dtype: int64"
      ]
     },
     "execution_count": 104,
     "metadata": {},
     "output_type": "execute_result"
    }
   ],
   "source": [
    "water_data[water_data['Period'] == 2012].count()"
   ]
  },
  {
   "cell_type": "code",
   "execution_count": 105,
   "metadata": {},
   "outputs": [
    {
     "data": {
      "text/plain": [
       "Location         194\n",
       "Period           194\n",
       "Indicator        194\n",
       "First Tooltip    194\n",
       "dtype: int64"
      ]
     },
     "execution_count": 105,
     "metadata": {},
     "output_type": "execute_result"
    }
   ],
   "source": [
    "water_data[water_data['Period'] == 2011].count()"
   ]
  },
  {
   "cell_type": "code",
   "execution_count": 106,
   "metadata": {},
   "outputs": [
    {
     "data": {
      "text/plain": [
       "Location         193\n",
       "Period           193\n",
       "Indicator        193\n",
       "First Tooltip    193\n",
       "dtype: int64"
      ]
     },
     "execution_count": 106,
     "metadata": {},
     "output_type": "execute_result"
    }
   ],
   "source": [
    "water_data[water_data['Period'] == 2010].count()"
   ]
  },
  {
   "cell_type": "code",
   "execution_count": 107,
   "metadata": {},
   "outputs": [
    {
     "data": {
      "text/plain": [
       "Location         193\n",
       "Period           193\n",
       "Indicator        193\n",
       "First Tooltip    193\n",
       "dtype: int64"
      ]
     },
     "execution_count": 107,
     "metadata": {},
     "output_type": "execute_result"
    }
   ],
   "source": [
    "water_data[water_data['Period'] == 2009].count()"
   ]
  },
  {
   "cell_type": "code",
   "execution_count": 108,
   "metadata": {},
   "outputs": [
    {
     "data": {
      "text/plain": [
       "Location         193\n",
       "Period           193\n",
       "Indicator        193\n",
       "First Tooltip    193\n",
       "dtype: int64"
      ]
     },
     "execution_count": 108,
     "metadata": {},
     "output_type": "execute_result"
    }
   ],
   "source": [
    "water_data[water_data['Period'] == 2008].count()"
   ]
  },
  {
   "cell_type": "code",
   "execution_count": 109,
   "metadata": {},
   "outputs": [
    {
     "data": {
      "text/plain": [
       "Location         193\n",
       "Period           193\n",
       "Indicator        193\n",
       "First Tooltip    193\n",
       "dtype: int64"
      ]
     },
     "execution_count": 109,
     "metadata": {},
     "output_type": "execute_result"
    }
   ],
   "source": [
    "water_data[water_data['Period'] == 2007].count()"
   ]
  },
  {
   "cell_type": "code",
   "execution_count": 110,
   "metadata": {},
   "outputs": [
    {
     "data": {
      "text/plain": [
       "Location         193\n",
       "Period           193\n",
       "Indicator        193\n",
       "First Tooltip    193\n",
       "dtype: int64"
      ]
     },
     "execution_count": 110,
     "metadata": {},
     "output_type": "execute_result"
    }
   ],
   "source": [
    "water_data[water_data['Period'] == 2006].count()"
   ]
  },
  {
   "cell_type": "code",
   "execution_count": 111,
   "metadata": {},
   "outputs": [
    {
     "data": {
      "text/plain": [
       "Location         192\n",
       "Period           192\n",
       "Indicator        192\n",
       "First Tooltip    192\n",
       "dtype: int64"
      ]
     },
     "execution_count": 111,
     "metadata": {},
     "output_type": "execute_result"
    }
   ],
   "source": [
    "water_data[water_data['Period'] == 2005].count()"
   ]
  },
  {
   "cell_type": "code",
   "execution_count": 112,
   "metadata": {},
   "outputs": [
    {
     "data": {
      "text/plain": [
       "Location         191\n",
       "Period           191\n",
       "Indicator        191\n",
       "First Tooltip    191\n",
       "dtype: int64"
      ]
     },
     "execution_count": 112,
     "metadata": {},
     "output_type": "execute_result"
    }
   ],
   "source": [
    "water_data[water_data['Period'] == 2004].count()"
   ]
  },
  {
   "cell_type": "code",
   "execution_count": 113,
   "metadata": {},
   "outputs": [
    {
     "data": {
      "text/plain": [
       "Location         191\n",
       "Period           191\n",
       "Indicator        191\n",
       "First Tooltip    191\n",
       "dtype: int64"
      ]
     },
     "execution_count": 113,
     "metadata": {},
     "output_type": "execute_result"
    }
   ],
   "source": [
    "water_data[water_data['Period'] == 2003].count()"
   ]
  },
  {
   "cell_type": "code",
   "execution_count": 114,
   "metadata": {},
   "outputs": [
    {
     "data": {
      "text/plain": [
       "Location         191\n",
       "Period           191\n",
       "Indicator        191\n",
       "First Tooltip    191\n",
       "dtype: int64"
      ]
     },
     "execution_count": 114,
     "metadata": {},
     "output_type": "execute_result"
    }
   ],
   "source": [
    "water_data[water_data['Period'] == 2002].count()"
   ]
  },
  {
   "cell_type": "code",
   "execution_count": 115,
   "metadata": {},
   "outputs": [
    {
     "data": {
      "text/plain": [
       "Location         189\n",
       "Period           189\n",
       "Indicator        189\n",
       "First Tooltip    189\n",
       "dtype: int64"
      ]
     },
     "execution_count": 115,
     "metadata": {},
     "output_type": "execute_result"
    }
   ],
   "source": [
    "water_data[water_data['Period'] == 2001].count()"
   ]
  },
  {
   "cell_type": "code",
   "execution_count": 116,
   "metadata": {},
   "outputs": [
    {
     "data": {
      "text/plain": [
       "Location         186\n",
       "Period           186\n",
       "Indicator        186\n",
       "First Tooltip    186\n",
       "dtype: int64"
      ]
     },
     "execution_count": 116,
     "metadata": {},
     "output_type": "execute_result"
    }
   ],
   "source": [
    "water_data[water_data['Period'] == 2000].count()"
   ]
  },
  {
   "cell_type": "code",
   "execution_count": 117,
   "metadata": {},
   "outputs": [
    {
     "data": {
      "text/plain": [
       "array(['Population using at least basic drinking-water services (%)'],\n",
       "      dtype=object)"
      ]
     },
     "execution_count": 117,
     "metadata": {},
     "output_type": "execute_result"
    }
   ],
   "source": [
    "water_data['Indicator'].unique()"
   ]
  },
  {
   "cell_type": "markdown",
   "metadata": {},
   "source": [
    "## Dataset to export"
   ]
  },
  {
   "cell_type": "code",
   "execution_count": 118,
   "metadata": {},
   "outputs": [
    {
     "data": {
      "text/html": [
       "<div>\n",
       "<style scoped>\n",
       "    .dataframe tbody tr th:only-of-type {\n",
       "        vertical-align: middle;\n",
       "    }\n",
       "\n",
       "    .dataframe tbody tr th {\n",
       "        vertical-align: top;\n",
       "    }\n",
       "\n",
       "    .dataframe thead th {\n",
       "        text-align: right;\n",
       "    }\n",
       "</style>\n",
       "<table border=\"1\" class=\"dataframe\">\n",
       "  <thead>\n",
       "    <tr style=\"text-align: right;\">\n",
       "      <th></th>\n",
       "      <th>Location</th>\n",
       "      <th>Period</th>\n",
       "      <th>Indicator</th>\n",
       "      <th>First Tooltip</th>\n",
       "    </tr>\n",
       "  </thead>\n",
       "  <tbody>\n",
       "    <tr>\n",
       "      <th>4</th>\n",
       "      <td>Afghanistan</td>\n",
       "      <td>2013</td>\n",
       "      <td>Population using at least basic drinking-water...</td>\n",
       "      <td>47.56</td>\n",
       "    </tr>\n",
       "    <tr>\n",
       "      <th>22</th>\n",
       "      <td>Albania</td>\n",
       "      <td>2013</td>\n",
       "      <td>Population using at least basic drinking-water...</td>\n",
       "      <td>86.23</td>\n",
       "    </tr>\n",
       "    <tr>\n",
       "      <th>40</th>\n",
       "      <td>Algeria</td>\n",
       "      <td>2013</td>\n",
       "      <td>Population using at least basic drinking-water...</td>\n",
       "      <td>87.98</td>\n",
       "    </tr>\n",
       "    <tr>\n",
       "      <th>58</th>\n",
       "      <td>Andorra</td>\n",
       "      <td>2013</td>\n",
       "      <td>Population using at least basic drinking-water...</td>\n",
       "      <td>100.00</td>\n",
       "    </tr>\n",
       "    <tr>\n",
       "      <th>76</th>\n",
       "      <td>Angola</td>\n",
       "      <td>2013</td>\n",
       "      <td>Population using at least basic drinking-water...</td>\n",
       "      <td>25.98</td>\n",
       "    </tr>\n",
       "    <tr>\n",
       "      <th>...</th>\n",
       "      <td>...</td>\n",
       "      <td>...</td>\n",
       "      <td>...</td>\n",
       "      <td>...</td>\n",
       "    </tr>\n",
       "    <tr>\n",
       "      <th>3369</th>\n",
       "      <td>Venezuela (Bolivarian Republic of)</td>\n",
       "      <td>2013</td>\n",
       "      <td>Population using at least basic drinking-water...</td>\n",
       "      <td>95.94</td>\n",
       "    </tr>\n",
       "    <tr>\n",
       "      <th>3387</th>\n",
       "      <td>Viet Nam</td>\n",
       "      <td>2013</td>\n",
       "      <td>Population using at least basic drinking-water...</td>\n",
       "      <td>88.29</td>\n",
       "    </tr>\n",
       "    <tr>\n",
       "      <th>3405</th>\n",
       "      <td>Yemen</td>\n",
       "      <td>2013</td>\n",
       "      <td>Population using at least basic drinking-water...</td>\n",
       "      <td>50.23</td>\n",
       "    </tr>\n",
       "    <tr>\n",
       "      <th>3423</th>\n",
       "      <td>Zambia</td>\n",
       "      <td>2013</td>\n",
       "      <td>Population using at least basic drinking-water...</td>\n",
       "      <td>39.39</td>\n",
       "    </tr>\n",
       "    <tr>\n",
       "      <th>3441</th>\n",
       "      <td>Zimbabwe</td>\n",
       "      <td>2013</td>\n",
       "      <td>Population using at least basic drinking-water...</td>\n",
       "      <td>52.27</td>\n",
       "    </tr>\n",
       "  </tbody>\n",
       "</table>\n",
       "<p>194 rows × 4 columns</p>\n",
       "</div>"
      ],
      "text/plain": [
       "                                Location  Period  \\\n",
       "4                            Afghanistan    2013   \n",
       "22                               Albania    2013   \n",
       "40                               Algeria    2013   \n",
       "58                               Andorra    2013   \n",
       "76                                Angola    2013   \n",
       "...                                  ...     ...   \n",
       "3369  Venezuela (Bolivarian Republic of)    2013   \n",
       "3387                            Viet Nam    2013   \n",
       "3405                               Yemen    2013   \n",
       "3423                              Zambia    2013   \n",
       "3441                            Zimbabwe    2013   \n",
       "\n",
       "                                              Indicator  First Tooltip  \n",
       "4     Population using at least basic drinking-water...          47.56  \n",
       "22    Population using at least basic drinking-water...          86.23  \n",
       "40    Population using at least basic drinking-water...          87.98  \n",
       "58    Population using at least basic drinking-water...         100.00  \n",
       "76    Population using at least basic drinking-water...          25.98  \n",
       "...                                                 ...            ...  \n",
       "3369  Population using at least basic drinking-water...          95.94  \n",
       "3387  Population using at least basic drinking-water...          88.29  \n",
       "3405  Population using at least basic drinking-water...          50.23  \n",
       "3423  Population using at least basic drinking-water...          39.39  \n",
       "3441  Population using at least basic drinking-water...          52.27  \n",
       "\n",
       "[194 rows x 4 columns]"
      ]
     },
     "execution_count": 118,
     "metadata": {},
     "output_type": "execute_result"
    }
   ],
   "source": [
    "water_data_2013 = water_data[water_data['Period'] == 2013]\n",
    "water_data_2013"
   ]
  },
  {
   "cell_type": "markdown",
   "metadata": {},
   "source": [
    "## Dataset to export"
   ]
  },
  {
   "cell_type": "code",
   "execution_count": 119,
   "metadata": {},
   "outputs": [
    {
     "data": {
      "text/html": [
       "<div>\n",
       "<style scoped>\n",
       "    .dataframe tbody tr th:only-of-type {\n",
       "        vertical-align: middle;\n",
       "    }\n",
       "\n",
       "    .dataframe tbody tr th {\n",
       "        vertical-align: top;\n",
       "    }\n",
       "\n",
       "    .dataframe thead th {\n",
       "        text-align: right;\n",
       "    }\n",
       "</style>\n",
       "<table border=\"1\" class=\"dataframe\">\n",
       "  <thead>\n",
       "    <tr style=\"text-align: right;\">\n",
       "      <th></th>\n",
       "      <th>Location</th>\n",
       "      <th>Period</th>\n",
       "      <th>Indicator</th>\n",
       "      <th>First Tooltip</th>\n",
       "    </tr>\n",
       "  </thead>\n",
       "  <tbody>\n",
       "    <tr>\n",
       "      <th>5</th>\n",
       "      <td>Afghanistan</td>\n",
       "      <td>2012</td>\n",
       "      <td>Population using at least basic drinking-water...</td>\n",
       "      <td>45.19</td>\n",
       "    </tr>\n",
       "    <tr>\n",
       "      <th>23</th>\n",
       "      <td>Albania</td>\n",
       "      <td>2012</td>\n",
       "      <td>Population using at least basic drinking-water...</td>\n",
       "      <td>82.59</td>\n",
       "    </tr>\n",
       "    <tr>\n",
       "      <th>41</th>\n",
       "      <td>Algeria</td>\n",
       "      <td>2012</td>\n",
       "      <td>Population using at least basic drinking-water...</td>\n",
       "      <td>87.62</td>\n",
       "    </tr>\n",
       "    <tr>\n",
       "      <th>59</th>\n",
       "      <td>Andorra</td>\n",
       "      <td>2012</td>\n",
       "      <td>Population using at least basic drinking-water...</td>\n",
       "      <td>100.00</td>\n",
       "    </tr>\n",
       "    <tr>\n",
       "      <th>77</th>\n",
       "      <td>Angola</td>\n",
       "      <td>2012</td>\n",
       "      <td>Population using at least basic drinking-water...</td>\n",
       "      <td>25.61</td>\n",
       "    </tr>\n",
       "    <tr>\n",
       "      <th>...</th>\n",
       "      <td>...</td>\n",
       "      <td>...</td>\n",
       "      <td>...</td>\n",
       "      <td>...</td>\n",
       "    </tr>\n",
       "    <tr>\n",
       "      <th>3370</th>\n",
       "      <td>Venezuela (Bolivarian Republic of)</td>\n",
       "      <td>2012</td>\n",
       "      <td>Population using at least basic drinking-water...</td>\n",
       "      <td>96.00</td>\n",
       "    </tr>\n",
       "    <tr>\n",
       "      <th>3388</th>\n",
       "      <td>Viet Nam</td>\n",
       "      <td>2012</td>\n",
       "      <td>Population using at least basic drinking-water...</td>\n",
       "      <td>87.30</td>\n",
       "    </tr>\n",
       "    <tr>\n",
       "      <th>3406</th>\n",
       "      <td>Yemen</td>\n",
       "      <td>2012</td>\n",
       "      <td>Population using at least basic drinking-water...</td>\n",
       "      <td>48.00</td>\n",
       "    </tr>\n",
       "    <tr>\n",
       "      <th>3424</th>\n",
       "      <td>Zambia</td>\n",
       "      <td>2012</td>\n",
       "      <td>Population using at least basic drinking-water...</td>\n",
       "      <td>38.78</td>\n",
       "    </tr>\n",
       "    <tr>\n",
       "      <th>3442</th>\n",
       "      <td>Zimbabwe</td>\n",
       "      <td>2012</td>\n",
       "      <td>Population using at least basic drinking-water...</td>\n",
       "      <td>52.89</td>\n",
       "    </tr>\n",
       "  </tbody>\n",
       "</table>\n",
       "<p>194 rows × 4 columns</p>\n",
       "</div>"
      ],
      "text/plain": [
       "                                Location  Period  \\\n",
       "5                            Afghanistan    2012   \n",
       "23                               Albania    2012   \n",
       "41                               Algeria    2012   \n",
       "59                               Andorra    2012   \n",
       "77                                Angola    2012   \n",
       "...                                  ...     ...   \n",
       "3370  Venezuela (Bolivarian Republic of)    2012   \n",
       "3388                            Viet Nam    2012   \n",
       "3406                               Yemen    2012   \n",
       "3424                              Zambia    2012   \n",
       "3442                            Zimbabwe    2012   \n",
       "\n",
       "                                              Indicator  First Tooltip  \n",
       "5     Population using at least basic drinking-water...          45.19  \n",
       "23    Population using at least basic drinking-water...          82.59  \n",
       "41    Population using at least basic drinking-water...          87.62  \n",
       "59    Population using at least basic drinking-water...         100.00  \n",
       "77    Population using at least basic drinking-water...          25.61  \n",
       "...                                                 ...            ...  \n",
       "3370  Population using at least basic drinking-water...          96.00  \n",
       "3388  Population using at least basic drinking-water...          87.30  \n",
       "3406  Population using at least basic drinking-water...          48.00  \n",
       "3424  Population using at least basic drinking-water...          38.78  \n",
       "3442  Population using at least basic drinking-water...          52.89  \n",
       "\n",
       "[194 rows x 4 columns]"
      ]
     },
     "execution_count": 119,
     "metadata": {},
     "output_type": "execute_result"
    }
   ],
   "source": [
    "water_data_2012 = water_data[water_data['Period'] == 2012]\n",
    "water_data_2012"
   ]
  },
  {
   "cell_type": "code",
   "execution_count": null,
   "metadata": {},
   "outputs": [],
   "source": []
  },
  {
   "cell_type": "markdown",
   "metadata": {},
   "source": [
    "## Basic Hand Washing"
   ]
  },
  {
   "cell_type": "code",
   "execution_count": 120,
   "metadata": {},
   "outputs": [
    {
     "data": {
      "text/html": [
       "<div>\n",
       "<style scoped>\n",
       "    .dataframe tbody tr th:only-of-type {\n",
       "        vertical-align: middle;\n",
       "    }\n",
       "\n",
       "    .dataframe tbody tr th {\n",
       "        vertical-align: top;\n",
       "    }\n",
       "\n",
       "    .dataframe thead th {\n",
       "        text-align: right;\n",
       "    }\n",
       "</style>\n",
       "<table border=\"1\" class=\"dataframe\">\n",
       "  <thead>\n",
       "    <tr style=\"text-align: right;\">\n",
       "      <th></th>\n",
       "      <th>Location</th>\n",
       "      <th>Indicator</th>\n",
       "      <th>Period</th>\n",
       "      <th>Dim1</th>\n",
       "      <th>First Tooltip</th>\n",
       "    </tr>\n",
       "  </thead>\n",
       "  <tbody>\n",
       "    <tr>\n",
       "      <th>0</th>\n",
       "      <td>Afghanistan</td>\n",
       "      <td>Population with basic handwashing facilities a...</td>\n",
       "      <td>2017</td>\n",
       "      <td>Total</td>\n",
       "      <td>37.75</td>\n",
       "    </tr>\n",
       "    <tr>\n",
       "      <th>1</th>\n",
       "      <td>Afghanistan</td>\n",
       "      <td>Population with basic handwashing facilities a...</td>\n",
       "      <td>2017</td>\n",
       "      <td>Urban</td>\n",
       "      <td>63.58</td>\n",
       "    </tr>\n",
       "    <tr>\n",
       "      <th>2</th>\n",
       "      <td>Afghanistan</td>\n",
       "      <td>Population with basic handwashing facilities a...</td>\n",
       "      <td>2017</td>\n",
       "      <td>Rural</td>\n",
       "      <td>29.02</td>\n",
       "    </tr>\n",
       "    <tr>\n",
       "      <th>3</th>\n",
       "      <td>Afghanistan</td>\n",
       "      <td>Population with basic handwashing facilities a...</td>\n",
       "      <td>2016</td>\n",
       "      <td>Total</td>\n",
       "      <td>37.67</td>\n",
       "    </tr>\n",
       "    <tr>\n",
       "      <th>4</th>\n",
       "      <td>Afghanistan</td>\n",
       "      <td>Population with basic handwashing facilities a...</td>\n",
       "      <td>2016</td>\n",
       "      <td>Urban</td>\n",
       "      <td>63.58</td>\n",
       "    </tr>\n",
       "    <tr>\n",
       "      <th>...</th>\n",
       "      <td>...</td>\n",
       "      <td>...</td>\n",
       "      <td>...</td>\n",
       "      <td>...</td>\n",
       "      <td>...</td>\n",
       "    </tr>\n",
       "    <tr>\n",
       "      <th>2721</th>\n",
       "      <td>Zimbabwe</td>\n",
       "      <td>Population with basic handwashing facilities a...</td>\n",
       "      <td>2012</td>\n",
       "      <td>Urban</td>\n",
       "      <td>48.54</td>\n",
       "    </tr>\n",
       "    <tr>\n",
       "      <th>2722</th>\n",
       "      <td>Zimbabwe</td>\n",
       "      <td>Population with basic handwashing facilities a...</td>\n",
       "      <td>2012</td>\n",
       "      <td>Rural</td>\n",
       "      <td>31.20</td>\n",
       "    </tr>\n",
       "    <tr>\n",
       "      <th>2723</th>\n",
       "      <td>Zimbabwe</td>\n",
       "      <td>Population with basic handwashing facilities a...</td>\n",
       "      <td>2011</td>\n",
       "      <td>Total</td>\n",
       "      <td>36.93</td>\n",
       "    </tr>\n",
       "    <tr>\n",
       "      <th>2724</th>\n",
       "      <td>Zimbabwe</td>\n",
       "      <td>Population with basic handwashing facilities a...</td>\n",
       "      <td>2011</td>\n",
       "      <td>Urban</td>\n",
       "      <td>48.54</td>\n",
       "    </tr>\n",
       "    <tr>\n",
       "      <th>2725</th>\n",
       "      <td>Zimbabwe</td>\n",
       "      <td>Population with basic handwashing facilities a...</td>\n",
       "      <td>2011</td>\n",
       "      <td>Rural</td>\n",
       "      <td>31.20</td>\n",
       "    </tr>\n",
       "  </tbody>\n",
       "</table>\n",
       "<p>2726 rows × 5 columns</p>\n",
       "</div>"
      ],
      "text/plain": [
       "         Location                                          Indicator  Period  \\\n",
       "0     Afghanistan  Population with basic handwashing facilities a...    2017   \n",
       "1     Afghanistan  Population with basic handwashing facilities a...    2017   \n",
       "2     Afghanistan  Population with basic handwashing facilities a...    2017   \n",
       "3     Afghanistan  Population with basic handwashing facilities a...    2016   \n",
       "4     Afghanistan  Population with basic handwashing facilities a...    2016   \n",
       "...           ...                                                ...     ...   \n",
       "2721     Zimbabwe  Population with basic handwashing facilities a...    2012   \n",
       "2722     Zimbabwe  Population with basic handwashing facilities a...    2012   \n",
       "2723     Zimbabwe  Population with basic handwashing facilities a...    2011   \n",
       "2724     Zimbabwe  Population with basic handwashing facilities a...    2011   \n",
       "2725     Zimbabwe  Population with basic handwashing facilities a...    2011   \n",
       "\n",
       "       Dim1  First Tooltip  \n",
       "0     Total          37.75  \n",
       "1     Urban          63.58  \n",
       "2     Rural          29.02  \n",
       "3     Total          37.67  \n",
       "4     Urban          63.58  \n",
       "...     ...            ...  \n",
       "2721  Urban          48.54  \n",
       "2722  Rural          31.20  \n",
       "2723  Total          36.93  \n",
       "2724  Urban          48.54  \n",
       "2725  Rural          31.20  \n",
       "\n",
       "[2726 rows x 5 columns]"
      ]
     },
     "execution_count": 120,
     "metadata": {},
     "output_type": "execute_result"
    }
   ],
   "source": [
    "hand_data = pd.read_csv(WHS_path/'basicHandWashing.csv')\n",
    "hand_data"
   ]
  },
  {
   "cell_type": "code",
   "execution_count": 121,
   "metadata": {},
   "outputs": [
    {
     "data": {
      "text/plain": [
       "Location         2726\n",
       "Indicator        2726\n",
       "Period           2726\n",
       "Dim1             2726\n",
       "First Tooltip    2726\n",
       "dtype: int64"
      ]
     },
     "execution_count": 121,
     "metadata": {},
     "output_type": "execute_result"
    }
   ],
   "source": [
    "hand_data.isnull().count()"
   ]
  },
  {
   "cell_type": "markdown",
   "metadata": {},
   "source": [
    "Year 2014 and 2013 are looking the best. Better than 2016 and 2015."
   ]
  },
  {
   "cell_type": "code",
   "execution_count": 122,
   "metadata": {},
   "outputs": [
    {
     "data": {
      "text/plain": [
       "array([2017, 2016, 2015, 2014, 2013, 2012, 2011, 2010, 2009, 2008, 2007,\n",
       "       2006, 2005, 2004, 2003, 2002, 2001, 2000])"
      ]
     },
     "execution_count": 122,
     "metadata": {},
     "output_type": "execute_result"
    }
   ],
   "source": [
    "hand_data['Period'].unique()"
   ]
  },
  {
   "cell_type": "code",
   "execution_count": 124,
   "metadata": {},
   "outputs": [
    {
     "data": {
      "text/plain": [
       "Location         231\n",
       "Indicator        231\n",
       "Period           231\n",
       "Dim1             231\n",
       "First Tooltip    231\n",
       "dtype: int64"
      ]
     },
     "execution_count": 124,
     "metadata": {},
     "output_type": "execute_result"
    }
   ],
   "source": [
    "hand_data[hand_data['Period'] == 2017].count()"
   ]
  },
  {
   "cell_type": "code",
   "execution_count": 125,
   "metadata": {},
   "outputs": [
    {
     "data": {
      "text/plain": [
       "Location         247\n",
       "Indicator        247\n",
       "Period           247\n",
       "Dim1             247\n",
       "First Tooltip    247\n",
       "dtype: int64"
      ]
     },
     "execution_count": 125,
     "metadata": {},
     "output_type": "execute_result"
    }
   ],
   "source": [
    "hand_data[hand_data['Period'] == 2016].count()"
   ]
  },
  {
   "cell_type": "code",
   "execution_count": 126,
   "metadata": {},
   "outputs": [
    {
     "data": {
      "text/plain": [
       "Location         265\n",
       "Indicator        265\n",
       "Period           265\n",
       "Dim1             265\n",
       "First Tooltip    265\n",
       "dtype: int64"
      ]
     },
     "execution_count": 126,
     "metadata": {},
     "output_type": "execute_result"
    }
   ],
   "source": [
    "hand_data[hand_data['Period'] == 2015].count()"
   ]
  },
  {
   "cell_type": "code",
   "execution_count": 127,
   "metadata": {},
   "outputs": [
    {
     "data": {
      "text/plain": [
       "Location         277\n",
       "Indicator        277\n",
       "Period           277\n",
       "Dim1             277\n",
       "First Tooltip    277\n",
       "dtype: int64"
      ]
     },
     "execution_count": 127,
     "metadata": {},
     "output_type": "execute_result"
    }
   ],
   "source": [
    "hand_data[hand_data['Period'] == 2014].count()"
   ]
  },
  {
   "cell_type": "code",
   "execution_count": 128,
   "metadata": {},
   "outputs": [
    {
     "data": {
      "text/plain": [
       "Location         274\n",
       "Indicator        274\n",
       "Period           274\n",
       "Dim1             274\n",
       "First Tooltip    274\n",
       "dtype: int64"
      ]
     },
     "execution_count": 128,
     "metadata": {},
     "output_type": "execute_result"
    }
   ],
   "source": [
    "hand_data[hand_data['Period'] == 2013].count()"
   ]
  },
  {
   "cell_type": "code",
   "execution_count": 129,
   "metadata": {},
   "outputs": [
    {
     "data": {
      "text/plain": [
       "Location         252\n",
       "Indicator        252\n",
       "Period           252\n",
       "Dim1             252\n",
       "First Tooltip    252\n",
       "dtype: int64"
      ]
     },
     "execution_count": 129,
     "metadata": {},
     "output_type": "execute_result"
    }
   ],
   "source": [
    "hand_data[hand_data['Period'] == 2012].count()"
   ]
  },
  {
   "cell_type": "code",
   "execution_count": 130,
   "metadata": {},
   "outputs": [
    {
     "data": {
      "text/plain": [
       "Location         225\n",
       "Indicator        225\n",
       "Period           225\n",
       "Dim1             225\n",
       "First Tooltip    225\n",
       "dtype: int64"
      ]
     },
     "execution_count": 130,
     "metadata": {},
     "output_type": "execute_result"
    }
   ],
   "source": [
    "hand_data[hand_data['Period'] == 2011].count()"
   ]
  },
  {
   "cell_type": "code",
   "execution_count": 131,
   "metadata": {},
   "outputs": [
    {
     "data": {
      "text/plain": [
       "Location         192\n",
       "Indicator        192\n",
       "Period           192\n",
       "Dim1             192\n",
       "First Tooltip    192\n",
       "dtype: int64"
      ]
     },
     "execution_count": 131,
     "metadata": {},
     "output_type": "execute_result"
    }
   ],
   "source": [
    "hand_data[hand_data['Period'] == 2010].count()"
   ]
  },
  {
   "cell_type": "code",
   "execution_count": 132,
   "metadata": {},
   "outputs": [
    {
     "data": {
      "text/plain": [
       "Location         159\n",
       "Indicator        159\n",
       "Period           159\n",
       "Dim1             159\n",
       "First Tooltip    159\n",
       "dtype: int64"
      ]
     },
     "execution_count": 132,
     "metadata": {},
     "output_type": "execute_result"
    }
   ],
   "source": [
    "hand_data[hand_data['Period'] == 2009].count()"
   ]
  },
  {
   "cell_type": "code",
   "execution_count": 133,
   "metadata": {},
   "outputs": [
    {
     "data": {
      "text/plain": [
       "Location         139\n",
       "Indicator        139\n",
       "Period           139\n",
       "Dim1             139\n",
       "First Tooltip    139\n",
       "dtype: int64"
      ]
     },
     "execution_count": 133,
     "metadata": {},
     "output_type": "execute_result"
    }
   ],
   "source": [
    "hand_data[hand_data['Period'] == 2008].count()"
   ]
  },
  {
   "cell_type": "code",
   "execution_count": 134,
   "metadata": {},
   "outputs": [
    {
     "data": {
      "text/plain": [
       "Location         120\n",
       "Indicator        120\n",
       "Period           120\n",
       "Dim1             120\n",
       "First Tooltip    120\n",
       "dtype: int64"
      ]
     },
     "execution_count": 134,
     "metadata": {},
     "output_type": "execute_result"
    }
   ],
   "source": [
    "hand_data[hand_data['Period'] == 2007].count()"
   ]
  },
  {
   "cell_type": "code",
   "execution_count": 135,
   "metadata": {},
   "outputs": [
    {
     "data": {
      "text/plain": [
       "Location         105\n",
       "Indicator        105\n",
       "Period           105\n",
       "Dim1             105\n",
       "First Tooltip    105\n",
       "dtype: int64"
      ]
     },
     "execution_count": 135,
     "metadata": {},
     "output_type": "execute_result"
    }
   ],
   "source": [
    "hand_data[hand_data['Period'] == 2006].count()"
   ]
  },
  {
   "cell_type": "code",
   "execution_count": 136,
   "metadata": {},
   "outputs": [
    {
     "data": {
      "text/plain": [
       "Location         72\n",
       "Indicator        72\n",
       "Period           72\n",
       "Dim1             72\n",
       "First Tooltip    72\n",
       "dtype: int64"
      ]
     },
     "execution_count": 136,
     "metadata": {},
     "output_type": "execute_result"
    }
   ],
   "source": [
    "hand_data[hand_data['Period'] == 2005].count()"
   ]
  },
  {
   "cell_type": "code",
   "execution_count": 137,
   "metadata": {},
   "outputs": [
    {
     "data": {
      "text/plain": [
       "Location         54\n",
       "Indicator        54\n",
       "Period           54\n",
       "Dim1             54\n",
       "First Tooltip    54\n",
       "dtype: int64"
      ]
     },
     "execution_count": 137,
     "metadata": {},
     "output_type": "execute_result"
    }
   ],
   "source": [
    "hand_data[hand_data['Period'] == 2004].count()"
   ]
  },
  {
   "cell_type": "code",
   "execution_count": 138,
   "metadata": {},
   "outputs": [
    {
     "data": {
      "text/plain": [
       "Location         30\n",
       "Indicator        30\n",
       "Period           30\n",
       "Dim1             30\n",
       "First Tooltip    30\n",
       "dtype: int64"
      ]
     },
     "execution_count": 138,
     "metadata": {},
     "output_type": "execute_result"
    }
   ],
   "source": [
    "hand_data[hand_data['Period'] == 2003].count()"
   ]
  },
  {
   "cell_type": "code",
   "execution_count": 139,
   "metadata": {},
   "outputs": [
    {
     "data": {
      "text/plain": [
       "Location         30\n",
       "Indicator        30\n",
       "Period           30\n",
       "Dim1             30\n",
       "First Tooltip    30\n",
       "dtype: int64"
      ]
     },
     "execution_count": 139,
     "metadata": {},
     "output_type": "execute_result"
    }
   ],
   "source": [
    "hand_data[hand_data['Period'] == 2002].count()"
   ]
  },
  {
   "cell_type": "code",
   "execution_count": 140,
   "metadata": {},
   "outputs": [
    {
     "data": {
      "text/plain": [
       "Location         27\n",
       "Indicator        27\n",
       "Period           27\n",
       "Dim1             27\n",
       "First Tooltip    27\n",
       "dtype: int64"
      ]
     },
     "execution_count": 140,
     "metadata": {},
     "output_type": "execute_result"
    }
   ],
   "source": [
    "hand_data[hand_data['Period'] == 2001].count()"
   ]
  },
  {
   "cell_type": "code",
   "execution_count": 141,
   "metadata": {},
   "outputs": [
    {
     "data": {
      "text/plain": [
       "Location         27\n",
       "Indicator        27\n",
       "Period           27\n",
       "Dim1             27\n",
       "First Tooltip    27\n",
       "dtype: int64"
      ]
     },
     "execution_count": 141,
     "metadata": {},
     "output_type": "execute_result"
    }
   ],
   "source": [
    "hand_data[hand_data['Period'] == 2000].count()"
   ]
  },
  {
   "cell_type": "code",
   "execution_count": 142,
   "metadata": {},
   "outputs": [
    {
     "data": {
      "text/plain": [
       "array(['Population with basic handwashing facilities at home (%)'],\n",
       "      dtype=object)"
      ]
     },
     "execution_count": 142,
     "metadata": {},
     "output_type": "execute_result"
    }
   ],
   "source": [
    "hand_data['Indicator'].unique()"
   ]
  },
  {
   "cell_type": "code",
   "execution_count": 143,
   "metadata": {},
   "outputs": [
    {
     "data": {
      "text/plain": [
       "array(['Total', 'Urban', 'Rural'], dtype=object)"
      ]
     },
     "execution_count": 143,
     "metadata": {},
     "output_type": "execute_result"
    }
   ],
   "source": [
    "hand_data['Dim1'].unique()"
   ]
  },
  {
   "cell_type": "code",
   "execution_count": 145,
   "metadata": {},
   "outputs": [
    {
     "data": {
      "text/html": [
       "<div>\n",
       "<style scoped>\n",
       "    .dataframe tbody tr th:only-of-type {\n",
       "        vertical-align: middle;\n",
       "    }\n",
       "\n",
       "    .dataframe tbody tr th {\n",
       "        vertical-align: top;\n",
       "    }\n",
       "\n",
       "    .dataframe thead th {\n",
       "        text-align: right;\n",
       "    }\n",
       "</style>\n",
       "<table border=\"1\" class=\"dataframe\">\n",
       "  <thead>\n",
       "    <tr style=\"text-align: right;\">\n",
       "      <th></th>\n",
       "      <th>Location</th>\n",
       "      <th>Indicator</th>\n",
       "      <th>Period</th>\n",
       "      <th>Dim1</th>\n",
       "      <th>First Tooltip</th>\n",
       "    </tr>\n",
       "  </thead>\n",
       "  <tbody>\n",
       "    <tr>\n",
       "      <th>0</th>\n",
       "      <td>Afghanistan</td>\n",
       "      <td>Population with basic handwashing facilities a...</td>\n",
       "      <td>2017</td>\n",
       "      <td>Total</td>\n",
       "      <td>37.75</td>\n",
       "    </tr>\n",
       "    <tr>\n",
       "      <th>3</th>\n",
       "      <td>Afghanistan</td>\n",
       "      <td>Population with basic handwashing facilities a...</td>\n",
       "      <td>2016</td>\n",
       "      <td>Total</td>\n",
       "      <td>37.67</td>\n",
       "    </tr>\n",
       "    <tr>\n",
       "      <th>6</th>\n",
       "      <td>Afghanistan</td>\n",
       "      <td>Population with basic handwashing facilities a...</td>\n",
       "      <td>2015</td>\n",
       "      <td>Total</td>\n",
       "      <td>37.59</td>\n",
       "    </tr>\n",
       "    <tr>\n",
       "      <th>9</th>\n",
       "      <td>Afghanistan</td>\n",
       "      <td>Population with basic handwashing facilities a...</td>\n",
       "      <td>2014</td>\n",
       "      <td>Total</td>\n",
       "      <td>37.52</td>\n",
       "    </tr>\n",
       "    <tr>\n",
       "      <th>12</th>\n",
       "      <td>Afghanistan</td>\n",
       "      <td>Population with basic handwashing facilities a...</td>\n",
       "      <td>2013</td>\n",
       "      <td>Total</td>\n",
       "      <td>37.44</td>\n",
       "    </tr>\n",
       "    <tr>\n",
       "      <th>...</th>\n",
       "      <td>...</td>\n",
       "      <td>...</td>\n",
       "      <td>...</td>\n",
       "      <td>...</td>\n",
       "      <td>...</td>\n",
       "    </tr>\n",
       "    <tr>\n",
       "      <th>2711</th>\n",
       "      <td>Zimbabwe</td>\n",
       "      <td>Population with basic handwashing facilities a...</td>\n",
       "      <td>2015</td>\n",
       "      <td>Total</td>\n",
       "      <td>36.82</td>\n",
       "    </tr>\n",
       "    <tr>\n",
       "      <th>2714</th>\n",
       "      <td>Zimbabwe</td>\n",
       "      <td>Population with basic handwashing facilities a...</td>\n",
       "      <td>2014</td>\n",
       "      <td>Total</td>\n",
       "      <td>36.84</td>\n",
       "    </tr>\n",
       "    <tr>\n",
       "      <th>2717</th>\n",
       "      <td>Zimbabwe</td>\n",
       "      <td>Population with basic handwashing facilities a...</td>\n",
       "      <td>2013</td>\n",
       "      <td>Total</td>\n",
       "      <td>36.86</td>\n",
       "    </tr>\n",
       "    <tr>\n",
       "      <th>2720</th>\n",
       "      <td>Zimbabwe</td>\n",
       "      <td>Population with basic handwashing facilities a...</td>\n",
       "      <td>2012</td>\n",
       "      <td>Total</td>\n",
       "      <td>36.89</td>\n",
       "    </tr>\n",
       "    <tr>\n",
       "      <th>2723</th>\n",
       "      <td>Zimbabwe</td>\n",
       "      <td>Population with basic handwashing facilities a...</td>\n",
       "      <td>2011</td>\n",
       "      <td>Total</td>\n",
       "      <td>36.93</td>\n",
       "    </tr>\n",
       "  </tbody>\n",
       "</table>\n",
       "<p>921 rows × 5 columns</p>\n",
       "</div>"
      ],
      "text/plain": [
       "         Location                                          Indicator  Period  \\\n",
       "0     Afghanistan  Population with basic handwashing facilities a...    2017   \n",
       "3     Afghanistan  Population with basic handwashing facilities a...    2016   \n",
       "6     Afghanistan  Population with basic handwashing facilities a...    2015   \n",
       "9     Afghanistan  Population with basic handwashing facilities a...    2014   \n",
       "12    Afghanistan  Population with basic handwashing facilities a...    2013   \n",
       "...           ...                                                ...     ...   \n",
       "2711     Zimbabwe  Population with basic handwashing facilities a...    2015   \n",
       "2714     Zimbabwe  Population with basic handwashing facilities a...    2014   \n",
       "2717     Zimbabwe  Population with basic handwashing facilities a...    2013   \n",
       "2720     Zimbabwe  Population with basic handwashing facilities a...    2012   \n",
       "2723     Zimbabwe  Population with basic handwashing facilities a...    2011   \n",
       "\n",
       "       Dim1  First Tooltip  \n",
       "0     Total          37.75  \n",
       "3     Total          37.67  \n",
       "6     Total          37.59  \n",
       "9     Total          37.52  \n",
       "12    Total          37.44  \n",
       "...     ...            ...  \n",
       "2711  Total          36.82  \n",
       "2714  Total          36.84  \n",
       "2717  Total          36.86  \n",
       "2720  Total          36.89  \n",
       "2723  Total          36.93  \n",
       "\n",
       "[921 rows x 5 columns]"
      ]
     },
     "execution_count": 145,
     "metadata": {},
     "output_type": "execute_result"
    }
   ],
   "source": [
    "hand_data_tot = hand_data[hand_data['Dim1'] == 'Total']\n",
    "hand_data_tot"
   ]
  },
  {
   "cell_type": "code",
   "execution_count": 149,
   "metadata": {},
   "outputs": [
    {
     "data": {
      "text/plain": [
       "Location         78\n",
       "Indicator        78\n",
       "Period           78\n",
       "Dim1             78\n",
       "First Tooltip    78\n",
       "dtype: int64"
      ]
     },
     "execution_count": 149,
     "metadata": {},
     "output_type": "execute_result"
    }
   ],
   "source": [
    "hand_data_tot[hand_data_tot['Period'] == 2017].count()"
   ]
  },
  {
   "cell_type": "code",
   "execution_count": 150,
   "metadata": {},
   "outputs": [
    {
     "data": {
      "text/plain": [
       "Location         84\n",
       "Indicator        84\n",
       "Period           84\n",
       "Dim1             84\n",
       "First Tooltip    84\n",
       "dtype: int64"
      ]
     },
     "execution_count": 150,
     "metadata": {},
     "output_type": "execute_result"
    }
   ],
   "source": [
    "hand_data_tot[hand_data_tot['Period'] == 2016].count()"
   ]
  },
  {
   "cell_type": "code",
   "execution_count": 151,
   "metadata": {},
   "outputs": [
    {
     "data": {
      "text/plain": [
       "Location         90\n",
       "Indicator        90\n",
       "Period           90\n",
       "Dim1             90\n",
       "First Tooltip    90\n",
       "dtype: int64"
      ]
     },
     "execution_count": 151,
     "metadata": {},
     "output_type": "execute_result"
    }
   ],
   "source": [
    "hand_data_tot[hand_data_tot['Period'] == 2015].count()"
   ]
  },
  {
   "cell_type": "code",
   "execution_count": 152,
   "metadata": {},
   "outputs": [
    {
     "data": {
      "text/plain": [
       "Location         94\n",
       "Indicator        94\n",
       "Period           94\n",
       "Dim1             94\n",
       "First Tooltip    94\n",
       "dtype: int64"
      ]
     },
     "execution_count": 152,
     "metadata": {},
     "output_type": "execute_result"
    }
   ],
   "source": [
    "hand_data_tot[hand_data_tot['Period'] == 2014].count()"
   ]
  },
  {
   "cell_type": "code",
   "execution_count": 153,
   "metadata": {},
   "outputs": [
    {
     "data": {
      "text/plain": [
       "Location         93\n",
       "Indicator        93\n",
       "Period           93\n",
       "Dim1             93\n",
       "First Tooltip    93\n",
       "dtype: int64"
      ]
     },
     "execution_count": 153,
     "metadata": {},
     "output_type": "execute_result"
    }
   ],
   "source": [
    "hand_data_tot[hand_data_tot['Period'] == 2013].count()"
   ]
  },
  {
   "cell_type": "code",
   "execution_count": 154,
   "metadata": {},
   "outputs": [
    {
     "data": {
      "text/plain": [
       "Location         85\n",
       "Indicator        85\n",
       "Period           85\n",
       "Dim1             85\n",
       "First Tooltip    85\n",
       "dtype: int64"
      ]
     },
     "execution_count": 154,
     "metadata": {},
     "output_type": "execute_result"
    }
   ],
   "source": [
    "hand_data_tot[hand_data_tot['Period'] == 2012].count()"
   ]
  },
  {
   "cell_type": "markdown",
   "metadata": {},
   "source": [
    "## Dataset to export"
   ]
  },
  {
   "cell_type": "code",
   "execution_count": 147,
   "metadata": {},
   "outputs": [
    {
     "data": {
      "text/html": [
       "<div>\n",
       "<style scoped>\n",
       "    .dataframe tbody tr th:only-of-type {\n",
       "        vertical-align: middle;\n",
       "    }\n",
       "\n",
       "    .dataframe tbody tr th {\n",
       "        vertical-align: top;\n",
       "    }\n",
       "\n",
       "    .dataframe thead th {\n",
       "        text-align: right;\n",
       "    }\n",
       "</style>\n",
       "<table border=\"1\" class=\"dataframe\">\n",
       "  <thead>\n",
       "    <tr style=\"text-align: right;\">\n",
       "      <th></th>\n",
       "      <th>Location</th>\n",
       "      <th>Indicator</th>\n",
       "      <th>Period</th>\n",
       "      <th>Dim1</th>\n",
       "      <th>First Tooltip</th>\n",
       "    </tr>\n",
       "  </thead>\n",
       "  <tbody>\n",
       "    <tr>\n",
       "      <th>9</th>\n",
       "      <td>Afghanistan</td>\n",
       "      <td>Population with basic handwashing facilities a...</td>\n",
       "      <td>2014</td>\n",
       "      <td>Total</td>\n",
       "      <td>37.52</td>\n",
       "    </tr>\n",
       "    <tr>\n",
       "      <th>48</th>\n",
       "      <td>Algeria</td>\n",
       "      <td>Population with basic handwashing facilities a...</td>\n",
       "      <td>2014</td>\n",
       "      <td>Total</td>\n",
       "      <td>83.47</td>\n",
       "    </tr>\n",
       "    <tr>\n",
       "      <th>75</th>\n",
       "      <td>Angola</td>\n",
       "      <td>Population with basic handwashing facilities a...</td>\n",
       "      <td>2014</td>\n",
       "      <td>Total</td>\n",
       "      <td>26.23</td>\n",
       "    </tr>\n",
       "    <tr>\n",
       "      <th>93</th>\n",
       "      <td>Armenia</td>\n",
       "      <td>Population with basic handwashing facilities a...</td>\n",
       "      <td>2014</td>\n",
       "      <td>Total</td>\n",
       "      <td>92.06</td>\n",
       "    </tr>\n",
       "    <tr>\n",
       "      <th>141</th>\n",
       "      <td>Azerbaijan</td>\n",
       "      <td>Population with basic handwashing facilities a...</td>\n",
       "      <td>2014</td>\n",
       "      <td>Total</td>\n",
       "      <td>83.24</td>\n",
       "    </tr>\n",
       "    <tr>\n",
       "      <th>...</th>\n",
       "      <td>...</td>\n",
       "      <td>...</td>\n",
       "      <td>...</td>\n",
       "      <td>...</td>\n",
       "      <td>...</td>\n",
       "    </tr>\n",
       "    <tr>\n",
       "      <th>2597</th>\n",
       "      <td>Vanuatu</td>\n",
       "      <td>Population with basic handwashing facilities a...</td>\n",
       "      <td>2014</td>\n",
       "      <td>Total</td>\n",
       "      <td>25.12</td>\n",
       "    </tr>\n",
       "    <tr>\n",
       "      <th>2624</th>\n",
       "      <td>Viet Nam</td>\n",
       "      <td>Population with basic handwashing facilities a...</td>\n",
       "      <td>2014</td>\n",
       "      <td>Total</td>\n",
       "      <td>85.63</td>\n",
       "    </tr>\n",
       "    <tr>\n",
       "      <th>2663</th>\n",
       "      <td>Yemen</td>\n",
       "      <td>Population with basic handwashing facilities a...</td>\n",
       "      <td>2014</td>\n",
       "      <td>Total</td>\n",
       "      <td>48.93</td>\n",
       "    </tr>\n",
       "    <tr>\n",
       "      <th>2690</th>\n",
       "      <td>Zambia</td>\n",
       "      <td>Population with basic handwashing facilities a...</td>\n",
       "      <td>2014</td>\n",
       "      <td>Total</td>\n",
       "      <td>13.61</td>\n",
       "    </tr>\n",
       "    <tr>\n",
       "      <th>2714</th>\n",
       "      <td>Zimbabwe</td>\n",
       "      <td>Population with basic handwashing facilities a...</td>\n",
       "      <td>2014</td>\n",
       "      <td>Total</td>\n",
       "      <td>36.84</td>\n",
       "    </tr>\n",
       "  </tbody>\n",
       "</table>\n",
       "<p>94 rows × 5 columns</p>\n",
       "</div>"
      ],
      "text/plain": [
       "         Location                                          Indicator  Period  \\\n",
       "9     Afghanistan  Population with basic handwashing facilities a...    2014   \n",
       "48        Algeria  Population with basic handwashing facilities a...    2014   \n",
       "75         Angola  Population with basic handwashing facilities a...    2014   \n",
       "93        Armenia  Population with basic handwashing facilities a...    2014   \n",
       "141    Azerbaijan  Population with basic handwashing facilities a...    2014   \n",
       "...           ...                                                ...     ...   \n",
       "2597      Vanuatu  Population with basic handwashing facilities a...    2014   \n",
       "2624     Viet Nam  Population with basic handwashing facilities a...    2014   \n",
       "2663        Yemen  Population with basic handwashing facilities a...    2014   \n",
       "2690       Zambia  Population with basic handwashing facilities a...    2014   \n",
       "2714     Zimbabwe  Population with basic handwashing facilities a...    2014   \n",
       "\n",
       "       Dim1  First Tooltip  \n",
       "9     Total          37.52  \n",
       "48    Total          83.47  \n",
       "75    Total          26.23  \n",
       "93    Total          92.06  \n",
       "141   Total          83.24  \n",
       "...     ...            ...  \n",
       "2597  Total          25.12  \n",
       "2624  Total          85.63  \n",
       "2663  Total          48.93  \n",
       "2690  Total          13.61  \n",
       "2714  Total          36.84  \n",
       "\n",
       "[94 rows x 5 columns]"
      ]
     },
     "execution_count": 147,
     "metadata": {},
     "output_type": "execute_result"
    }
   ],
   "source": [
    "hand_data_2014 = hand_data_tot[hand_data_tot['Period'] == 2014]\n",
    "hand_data_2014"
   ]
  },
  {
   "cell_type": "markdown",
   "metadata": {},
   "source": [
    "## Dataset to export"
   ]
  },
  {
   "cell_type": "code",
   "execution_count": 148,
   "metadata": {},
   "outputs": [
    {
     "data": {
      "text/html": [
       "<div>\n",
       "<style scoped>\n",
       "    .dataframe tbody tr th:only-of-type {\n",
       "        vertical-align: middle;\n",
       "    }\n",
       "\n",
       "    .dataframe tbody tr th {\n",
       "        vertical-align: top;\n",
       "    }\n",
       "\n",
       "    .dataframe thead th {\n",
       "        text-align: right;\n",
       "    }\n",
       "</style>\n",
       "<table border=\"1\" class=\"dataframe\">\n",
       "  <thead>\n",
       "    <tr style=\"text-align: right;\">\n",
       "      <th></th>\n",
       "      <th>Location</th>\n",
       "      <th>Indicator</th>\n",
       "      <th>Period</th>\n",
       "      <th>Dim1</th>\n",
       "      <th>First Tooltip</th>\n",
       "    </tr>\n",
       "  </thead>\n",
       "  <tbody>\n",
       "    <tr>\n",
       "      <th>12</th>\n",
       "      <td>Afghanistan</td>\n",
       "      <td>Population with basic handwashing facilities a...</td>\n",
       "      <td>2013</td>\n",
       "      <td>Total</td>\n",
       "      <td>37.44</td>\n",
       "    </tr>\n",
       "    <tr>\n",
       "      <th>51</th>\n",
       "      <td>Algeria</td>\n",
       "      <td>Population with basic handwashing facilities a...</td>\n",
       "      <td>2013</td>\n",
       "      <td>Total</td>\n",
       "      <td>83.37</td>\n",
       "    </tr>\n",
       "    <tr>\n",
       "      <th>78</th>\n",
       "      <td>Angola</td>\n",
       "      <td>Population with basic handwashing facilities a...</td>\n",
       "      <td>2013</td>\n",
       "      <td>Total</td>\n",
       "      <td>26.08</td>\n",
       "    </tr>\n",
       "    <tr>\n",
       "      <th>96</th>\n",
       "      <td>Armenia</td>\n",
       "      <td>Population with basic handwashing facilities a...</td>\n",
       "      <td>2013</td>\n",
       "      <td>Total</td>\n",
       "      <td>91.41</td>\n",
       "    </tr>\n",
       "    <tr>\n",
       "      <th>142</th>\n",
       "      <td>Azerbaijan</td>\n",
       "      <td>Population with basic handwashing facilities a...</td>\n",
       "      <td>2013</td>\n",
       "      <td>Total</td>\n",
       "      <td>83.24</td>\n",
       "    </tr>\n",
       "    <tr>\n",
       "      <th>...</th>\n",
       "      <td>...</td>\n",
       "      <td>...</td>\n",
       "      <td>...</td>\n",
       "      <td>...</td>\n",
       "      <td>...</td>\n",
       "    </tr>\n",
       "    <tr>\n",
       "      <th>2600</th>\n",
       "      <td>Vanuatu</td>\n",
       "      <td>Population with basic handwashing facilities a...</td>\n",
       "      <td>2013</td>\n",
       "      <td>Total</td>\n",
       "      <td>25.09</td>\n",
       "    </tr>\n",
       "    <tr>\n",
       "      <th>2627</th>\n",
       "      <td>Viet Nam</td>\n",
       "      <td>Population with basic handwashing facilities a...</td>\n",
       "      <td>2013</td>\n",
       "      <td>Total</td>\n",
       "      <td>85.56</td>\n",
       "    </tr>\n",
       "    <tr>\n",
       "      <th>2666</th>\n",
       "      <td>Yemen</td>\n",
       "      <td>Population with basic handwashing facilities a...</td>\n",
       "      <td>2013</td>\n",
       "      <td>Total</td>\n",
       "      <td>48.72</td>\n",
       "    </tr>\n",
       "    <tr>\n",
       "      <th>2693</th>\n",
       "      <td>Zambia</td>\n",
       "      <td>Population with basic handwashing facilities a...</td>\n",
       "      <td>2013</td>\n",
       "      <td>Total</td>\n",
       "      <td>13.51</td>\n",
       "    </tr>\n",
       "    <tr>\n",
       "      <th>2717</th>\n",
       "      <td>Zimbabwe</td>\n",
       "      <td>Population with basic handwashing facilities a...</td>\n",
       "      <td>2013</td>\n",
       "      <td>Total</td>\n",
       "      <td>36.86</td>\n",
       "    </tr>\n",
       "  </tbody>\n",
       "</table>\n",
       "<p>93 rows × 5 columns</p>\n",
       "</div>"
      ],
      "text/plain": [
       "         Location                                          Indicator  Period  \\\n",
       "12    Afghanistan  Population with basic handwashing facilities a...    2013   \n",
       "51        Algeria  Population with basic handwashing facilities a...    2013   \n",
       "78         Angola  Population with basic handwashing facilities a...    2013   \n",
       "96        Armenia  Population with basic handwashing facilities a...    2013   \n",
       "142    Azerbaijan  Population with basic handwashing facilities a...    2013   \n",
       "...           ...                                                ...     ...   \n",
       "2600      Vanuatu  Population with basic handwashing facilities a...    2013   \n",
       "2627     Viet Nam  Population with basic handwashing facilities a...    2013   \n",
       "2666        Yemen  Population with basic handwashing facilities a...    2013   \n",
       "2693       Zambia  Population with basic handwashing facilities a...    2013   \n",
       "2717     Zimbabwe  Population with basic handwashing facilities a...    2013   \n",
       "\n",
       "       Dim1  First Tooltip  \n",
       "12    Total          37.44  \n",
       "51    Total          83.37  \n",
       "78    Total          26.08  \n",
       "96    Total          91.41  \n",
       "142   Total          83.24  \n",
       "...     ...            ...  \n",
       "2600  Total          25.09  \n",
       "2627  Total          85.56  \n",
       "2666  Total          48.72  \n",
       "2693  Total          13.51  \n",
       "2717  Total          36.86  \n",
       "\n",
       "[93 rows x 5 columns]"
      ]
     },
     "execution_count": 148,
     "metadata": {},
     "output_type": "execute_result"
    }
   ],
   "source": [
    "hand_data_2013 = hand_data_tot[hand_data_tot['Period'] == 2013]\n",
    "hand_data_2013"
   ]
  },
  {
   "cell_type": "code",
   "execution_count": null,
   "metadata": {},
   "outputs": [],
   "source": []
  },
  {
   "cell_type": "markdown",
   "metadata": {},
   "source": [
    "## Birth Attended by Skilled Personnel"
   ]
  },
  {
   "cell_type": "code",
   "execution_count": 155,
   "metadata": {},
   "outputs": [
    {
     "data": {
      "text/html": [
       "<div>\n",
       "<style scoped>\n",
       "    .dataframe tbody tr th:only-of-type {\n",
       "        vertical-align: middle;\n",
       "    }\n",
       "\n",
       "    .dataframe tbody tr th {\n",
       "        vertical-align: top;\n",
       "    }\n",
       "\n",
       "    .dataframe thead th {\n",
       "        text-align: right;\n",
       "    }\n",
       "</style>\n",
       "<table border=\"1\" class=\"dataframe\">\n",
       "  <thead>\n",
       "    <tr style=\"text-align: right;\">\n",
       "      <th></th>\n",
       "      <th>Location</th>\n",
       "      <th>Period</th>\n",
       "      <th>Indicator</th>\n",
       "      <th>First Tooltip</th>\n",
       "    </tr>\n",
       "  </thead>\n",
       "  <tbody>\n",
       "    <tr>\n",
       "      <th>0</th>\n",
       "      <td>Afghanistan</td>\n",
       "      <td>2018</td>\n",
       "      <td>Births attended by skilled health personnel (%)</td>\n",
       "      <td>58.8</td>\n",
       "    </tr>\n",
       "    <tr>\n",
       "      <th>1</th>\n",
       "      <td>Afghanistan</td>\n",
       "      <td>2017</td>\n",
       "      <td>Births attended by skilled health personnel (%)</td>\n",
       "      <td>53.4</td>\n",
       "    </tr>\n",
       "    <tr>\n",
       "      <th>2</th>\n",
       "      <td>Afghanistan</td>\n",
       "      <td>2015</td>\n",
       "      <td>Births attended by skilled health personnel (%)</td>\n",
       "      <td>50.5</td>\n",
       "    </tr>\n",
       "    <tr>\n",
       "      <th>3</th>\n",
       "      <td>Afghanistan</td>\n",
       "      <td>2014</td>\n",
       "      <td>Births attended by skilled health personnel (%)</td>\n",
       "      <td>45.2</td>\n",
       "    </tr>\n",
       "    <tr>\n",
       "      <th>4</th>\n",
       "      <td>Afghanistan</td>\n",
       "      <td>2012</td>\n",
       "      <td>Births attended by skilled health personnel (%)</td>\n",
       "      <td>39.9</td>\n",
       "    </tr>\n",
       "    <tr>\n",
       "      <th>...</th>\n",
       "      <td>...</td>\n",
       "      <td>...</td>\n",
       "      <td>...</td>\n",
       "      <td>...</td>\n",
       "    </tr>\n",
       "    <tr>\n",
       "      <th>1750</th>\n",
       "      <td>Zimbabwe</td>\n",
       "      <td>2015</td>\n",
       "      <td>Births attended by skilled health personnel (%)</td>\n",
       "      <td>78.1</td>\n",
       "    </tr>\n",
       "    <tr>\n",
       "      <th>1751</th>\n",
       "      <td>Zimbabwe</td>\n",
       "      <td>2014</td>\n",
       "      <td>Births attended by skilled health personnel (%)</td>\n",
       "      <td>80.0</td>\n",
       "    </tr>\n",
       "    <tr>\n",
       "      <th>1752</th>\n",
       "      <td>Zimbabwe</td>\n",
       "      <td>2011</td>\n",
       "      <td>Births attended by skilled health personnel (%)</td>\n",
       "      <td>66.2</td>\n",
       "    </tr>\n",
       "    <tr>\n",
       "      <th>1753</th>\n",
       "      <td>Zimbabwe</td>\n",
       "      <td>2009</td>\n",
       "      <td>Births attended by skilled health personnel (%)</td>\n",
       "      <td>60.2</td>\n",
       "    </tr>\n",
       "    <tr>\n",
       "      <th>1754</th>\n",
       "      <td>Zimbabwe</td>\n",
       "      <td>2006</td>\n",
       "      <td>Births attended by skilled health personnel (%)</td>\n",
       "      <td>68.5</td>\n",
       "    </tr>\n",
       "  </tbody>\n",
       "</table>\n",
       "<p>1755 rows × 4 columns</p>\n",
       "</div>"
      ],
      "text/plain": [
       "         Location  Period                                        Indicator  \\\n",
       "0     Afghanistan    2018  Births attended by skilled health personnel (%)   \n",
       "1     Afghanistan    2017  Births attended by skilled health personnel (%)   \n",
       "2     Afghanistan    2015  Births attended by skilled health personnel (%)   \n",
       "3     Afghanistan    2014  Births attended by skilled health personnel (%)   \n",
       "4     Afghanistan    2012  Births attended by skilled health personnel (%)   \n",
       "...           ...     ...                                              ...   \n",
       "1750     Zimbabwe    2015  Births attended by skilled health personnel (%)   \n",
       "1751     Zimbabwe    2014  Births attended by skilled health personnel (%)   \n",
       "1752     Zimbabwe    2011  Births attended by skilled health personnel (%)   \n",
       "1753     Zimbabwe    2009  Births attended by skilled health personnel (%)   \n",
       "1754     Zimbabwe    2006  Births attended by skilled health personnel (%)   \n",
       "\n",
       "      First Tooltip  \n",
       "0              58.8  \n",
       "1              53.4  \n",
       "2              50.5  \n",
       "3              45.2  \n",
       "4              39.9  \n",
       "...             ...  \n",
       "1750           78.1  \n",
       "1751           80.0  \n",
       "1752           66.2  \n",
       "1753           60.2  \n",
       "1754           68.5  \n",
       "\n",
       "[1755 rows x 4 columns]"
      ]
     },
     "execution_count": 155,
     "metadata": {},
     "output_type": "execute_result"
    }
   ],
   "source": [
    "basp_data = pd.read_csv(WHS_path/'birthAttendedBySkilledPersonal.csv')\n",
    "basp_data"
   ]
  },
  {
   "cell_type": "code",
   "execution_count": 156,
   "metadata": {},
   "outputs": [
    {
     "data": {
      "text/plain": [
       "Location         1755\n",
       "Period           1755\n",
       "Indicator        1755\n",
       "First Tooltip    1755\n",
       "dtype: int64"
      ]
     },
     "execution_count": 156,
     "metadata": {},
     "output_type": "execute_result"
    }
   ],
   "source": [
    "basp_data.isnull().count()"
   ]
  },
  {
   "cell_type": "code",
   "execution_count": 157,
   "metadata": {},
   "outputs": [
    {
     "data": {
      "text/plain": [
       "array(['Births attended by skilled health personnel (%)'], dtype=object)"
      ]
     },
     "execution_count": 157,
     "metadata": {},
     "output_type": "execute_result"
    }
   ],
   "source": [
    "basp_data['Indicator'].unique()"
   ]
  },
  {
   "cell_type": "code",
   "execution_count": 184,
   "metadata": {},
   "outputs": [
    {
     "data": {
      "text/plain": [
       "Location         0\n",
       "Period           0\n",
       "Indicator        0\n",
       "First Tooltip    0\n",
       "dtype: int64"
      ]
     },
     "execution_count": 184,
     "metadata": {},
     "output_type": "execute_result"
    }
   ],
   "source": [
    "basp_data[basp_data['First Tooltip'] == 0.0].count()"
   ]
  },
  {
   "cell_type": "markdown",
   "metadata": {},
   "source": [
    "The best aren't next to each other. They are 2014, 2010, and 2006. Of those next to each other, 2006 and 2007 are the winners."
   ]
  },
  {
   "cell_type": "code",
   "execution_count": 160,
   "metadata": {},
   "outputs": [
    {
     "data": {
      "text/plain": [
       "array([2018, 2017, 2015, 2014, 2012, 2011, 2010, 2003, 2009, 2005, 2013,\n",
       "       2006, 2016, 2007, 2008, 2004, 2001, 2000, 2002, 2019])"
      ]
     },
     "execution_count": 160,
     "metadata": {},
     "output_type": "execute_result"
    }
   ],
   "source": [
    "basp_data['Period'].unique()"
   ]
  },
  {
   "cell_type": "code",
   "execution_count": 161,
   "metadata": {},
   "outputs": [
    {
     "data": {
      "text/plain": [
       "Location         6\n",
       "Period           6\n",
       "Indicator        6\n",
       "First Tooltip    6\n",
       "dtype: int64"
      ]
     },
     "execution_count": 161,
     "metadata": {},
     "output_type": "execute_result"
    }
   ],
   "source": [
    "basp_data[basp_data['Period'] == 2019].count()"
   ]
  },
  {
   "cell_type": "code",
   "execution_count": 162,
   "metadata": {},
   "outputs": [
    {
     "data": {
      "text/plain": [
       "Location         60\n",
       "Period           60\n",
       "Indicator        60\n",
       "First Tooltip    60\n",
       "dtype: int64"
      ]
     },
     "execution_count": 162,
     "metadata": {},
     "output_type": "execute_result"
    }
   ],
   "source": [
    "basp_data[basp_data['Period'] == 2018].count()"
   ]
  },
  {
   "cell_type": "code",
   "execution_count": 163,
   "metadata": {},
   "outputs": [
    {
     "data": {
      "text/plain": [
       "Location         81\n",
       "Period           81\n",
       "Indicator        81\n",
       "First Tooltip    81\n",
       "dtype: int64"
      ]
     },
     "execution_count": 163,
     "metadata": {},
     "output_type": "execute_result"
    }
   ],
   "source": [
    "basp_data[basp_data['Period'] == 2017].count()"
   ]
  },
  {
   "cell_type": "code",
   "execution_count": 164,
   "metadata": {},
   "outputs": [
    {
     "data": {
      "text/plain": [
       "Location         90\n",
       "Period           90\n",
       "Indicator        90\n",
       "First Tooltip    90\n",
       "dtype: int64"
      ]
     },
     "execution_count": 164,
     "metadata": {},
     "output_type": "execute_result"
    }
   ],
   "source": [
    "basp_data[basp_data['Period'] == 2016].count()"
   ]
  },
  {
   "cell_type": "code",
   "execution_count": 165,
   "metadata": {},
   "outputs": [
    {
     "data": {
      "text/plain": [
       "Location         94\n",
       "Period           94\n",
       "Indicator        94\n",
       "First Tooltip    94\n",
       "dtype: int64"
      ]
     },
     "execution_count": 165,
     "metadata": {},
     "output_type": "execute_result"
    }
   ],
   "source": [
    "basp_data[basp_data['Period'] == 2015].count()"
   ]
  },
  {
   "cell_type": "code",
   "execution_count": 166,
   "metadata": {},
   "outputs": [
    {
     "data": {
      "text/plain": [
       "Location         112\n",
       "Period           112\n",
       "Indicator        112\n",
       "First Tooltip    112\n",
       "dtype: int64"
      ]
     },
     "execution_count": 166,
     "metadata": {},
     "output_type": "execute_result"
    }
   ],
   "source": [
    "basp_data[basp_data['Period'] == 2014].count()"
   ]
  },
  {
   "cell_type": "code",
   "execution_count": 167,
   "metadata": {},
   "outputs": [
    {
     "data": {
      "text/plain": [
       "Location         98\n",
       "Period           98\n",
       "Indicator        98\n",
       "First Tooltip    98\n",
       "dtype: int64"
      ]
     },
     "execution_count": 167,
     "metadata": {},
     "output_type": "execute_result"
    }
   ],
   "source": [
    "basp_data[basp_data['Period'] == 2013].count()"
   ]
  },
  {
   "cell_type": "code",
   "execution_count": 168,
   "metadata": {},
   "outputs": [
    {
     "data": {
      "text/plain": [
       "Location         104\n",
       "Period           104\n",
       "Indicator        104\n",
       "First Tooltip    104\n",
       "dtype: int64"
      ]
     },
     "execution_count": 168,
     "metadata": {},
     "output_type": "execute_result"
    }
   ],
   "source": [
    "basp_data[basp_data['Period'] == 2012].count()"
   ]
  },
  {
   "cell_type": "code",
   "execution_count": 169,
   "metadata": {},
   "outputs": [
    {
     "data": {
      "text/plain": [
       "Location         103\n",
       "Period           103\n",
       "Indicator        103\n",
       "First Tooltip    103\n",
       "dtype: int64"
      ]
     },
     "execution_count": 169,
     "metadata": {},
     "output_type": "execute_result"
    }
   ],
   "source": [
    "basp_data[basp_data['Period'] == 2011].count()"
   ]
  },
  {
   "cell_type": "code",
   "execution_count": 170,
   "metadata": {},
   "outputs": [
    {
     "data": {
      "text/plain": [
       "Location         113\n",
       "Period           113\n",
       "Indicator        113\n",
       "First Tooltip    113\n",
       "dtype: int64"
      ]
     },
     "execution_count": 170,
     "metadata": {},
     "output_type": "execute_result"
    }
   ],
   "source": [
    "basp_data[basp_data['Period'] == 2010].count()"
   ]
  },
  {
   "cell_type": "code",
   "execution_count": 171,
   "metadata": {},
   "outputs": [
    {
     "data": {
      "text/plain": [
       "Location         102\n",
       "Period           102\n",
       "Indicator        102\n",
       "First Tooltip    102\n",
       "dtype: int64"
      ]
     },
     "execution_count": 171,
     "metadata": {},
     "output_type": "execute_result"
    }
   ],
   "source": [
    "basp_data[basp_data['Period'] == 2009].count()"
   ]
  },
  {
   "cell_type": "code",
   "execution_count": 172,
   "metadata": {},
   "outputs": [
    {
     "data": {
      "text/plain": [
       "Location         99\n",
       "Period           99\n",
       "Indicator        99\n",
       "First Tooltip    99\n",
       "dtype: int64"
      ]
     },
     "execution_count": 172,
     "metadata": {},
     "output_type": "execute_result"
    }
   ],
   "source": [
    "basp_data[basp_data['Period'] == 2008].count()"
   ]
  },
  {
   "cell_type": "code",
   "execution_count": 173,
   "metadata": {},
   "outputs": [
    {
     "data": {
      "text/plain": [
       "Location         107\n",
       "Period           107\n",
       "Indicator        107\n",
       "First Tooltip    107\n",
       "dtype: int64"
      ]
     },
     "execution_count": 173,
     "metadata": {},
     "output_type": "execute_result"
    }
   ],
   "source": [
    "basp_data[basp_data['Period'] == 2007].count()"
   ]
  },
  {
   "cell_type": "code",
   "execution_count": 174,
   "metadata": {},
   "outputs": [
    {
     "data": {
      "text/plain": [
       "Location         118\n",
       "Period           118\n",
       "Indicator        118\n",
       "First Tooltip    118\n",
       "dtype: int64"
      ]
     },
     "execution_count": 174,
     "metadata": {},
     "output_type": "execute_result"
    }
   ],
   "source": [
    "basp_data[basp_data['Period'] == 2006].count()"
   ]
  },
  {
   "cell_type": "code",
   "execution_count": 175,
   "metadata": {},
   "outputs": [
    {
     "data": {
      "text/plain": [
       "Location         99\n",
       "Period           99\n",
       "Indicator        99\n",
       "First Tooltip    99\n",
       "dtype: int64"
      ]
     },
     "execution_count": 175,
     "metadata": {},
     "output_type": "execute_result"
    }
   ],
   "source": [
    "basp_data[basp_data['Period'] == 2005].count()"
   ]
  },
  {
   "cell_type": "code",
   "execution_count": 176,
   "metadata": {},
   "outputs": [
    {
     "data": {
      "text/plain": [
       "Location         78\n",
       "Period           78\n",
       "Indicator        78\n",
       "First Tooltip    78\n",
       "dtype: int64"
      ]
     },
     "execution_count": 176,
     "metadata": {},
     "output_type": "execute_result"
    }
   ],
   "source": [
    "basp_data[basp_data['Period'] == 2004].count()"
   ]
  },
  {
   "cell_type": "code",
   "execution_count": 177,
   "metadata": {},
   "outputs": [
    {
     "data": {
      "text/plain": [
       "Location         77\n",
       "Period           77\n",
       "Indicator        77\n",
       "First Tooltip    77\n",
       "dtype: int64"
      ]
     },
     "execution_count": 177,
     "metadata": {},
     "output_type": "execute_result"
    }
   ],
   "source": [
    "basp_data[basp_data['Period'] == 2003].count()"
   ]
  },
  {
   "cell_type": "code",
   "execution_count": 178,
   "metadata": {},
   "outputs": [
    {
     "data": {
      "text/plain": [
       "Location         75\n",
       "Period           75\n",
       "Indicator        75\n",
       "First Tooltip    75\n",
       "dtype: int64"
      ]
     },
     "execution_count": 178,
     "metadata": {},
     "output_type": "execute_result"
    }
   ],
   "source": [
    "basp_data[basp_data['Period'] == 2002].count()"
   ]
  },
  {
   "cell_type": "code",
   "execution_count": 179,
   "metadata": {},
   "outputs": [
    {
     "data": {
      "text/plain": [
       "Location         63\n",
       "Period           63\n",
       "Indicator        63\n",
       "First Tooltip    63\n",
       "dtype: int64"
      ]
     },
     "execution_count": 179,
     "metadata": {},
     "output_type": "execute_result"
    }
   ],
   "source": [
    "basp_data[basp_data['Period'] == 2001].count()"
   ]
  },
  {
   "cell_type": "code",
   "execution_count": 180,
   "metadata": {},
   "outputs": [
    {
     "data": {
      "text/plain": [
       "Location         76\n",
       "Period           76\n",
       "Indicator        76\n",
       "First Tooltip    76\n",
       "dtype: int64"
      ]
     },
     "execution_count": 180,
     "metadata": {},
     "output_type": "execute_result"
    }
   ],
   "source": [
    "basp_data[basp_data['Period'] == 2000].count()"
   ]
  },
  {
   "cell_type": "markdown",
   "metadata": {},
   "source": [
    "## Dataset to export"
   ]
  },
  {
   "cell_type": "code",
   "execution_count": 197,
   "metadata": {},
   "outputs": [
    {
     "data": {
      "text/html": [
       "<div>\n",
       "<style scoped>\n",
       "    .dataframe tbody tr th:only-of-type {\n",
       "        vertical-align: middle;\n",
       "    }\n",
       "\n",
       "    .dataframe tbody tr th {\n",
       "        vertical-align: top;\n",
       "    }\n",
       "\n",
       "    .dataframe thead th {\n",
       "        text-align: right;\n",
       "    }\n",
       "</style>\n",
       "<table border=\"1\" class=\"dataframe\">\n",
       "  <thead>\n",
       "    <tr style=\"text-align: right;\">\n",
       "      <th></th>\n",
       "      <th>Location</th>\n",
       "      <th>Period</th>\n",
       "      <th>Indicator</th>\n",
       "      <th>First Tooltip</th>\n",
       "    </tr>\n",
       "  </thead>\n",
       "  <tbody>\n",
       "    <tr>\n",
       "      <th>17</th>\n",
       "      <td>Angola</td>\n",
       "      <td>2007</td>\n",
       "      <td>Births attended by skilled health personnel (%)</td>\n",
       "      <td>47.3</td>\n",
       "    </tr>\n",
       "    <tr>\n",
       "      <th>26</th>\n",
       "      <td>Antigua and Barbuda</td>\n",
       "      <td>2007</td>\n",
       "      <td>Births attended by skilled health personnel (%)</td>\n",
       "      <td>100.0</td>\n",
       "    </tr>\n",
       "    <tr>\n",
       "      <th>43</th>\n",
       "      <td>Argentina</td>\n",
       "      <td>2007</td>\n",
       "      <td>Births attended by skilled health personnel (%)</td>\n",
       "      <td>99.4</td>\n",
       "    </tr>\n",
       "    <tr>\n",
       "      <th>59</th>\n",
       "      <td>Armenia</td>\n",
       "      <td>2007</td>\n",
       "      <td>Births attended by skilled health personnel (%)</td>\n",
       "      <td>99.9</td>\n",
       "    </tr>\n",
       "    <tr>\n",
       "      <th>76</th>\n",
       "      <td>Australia</td>\n",
       "      <td>2007</td>\n",
       "      <td>Births attended by skilled health personnel (%)</td>\n",
       "      <td>99.2</td>\n",
       "    </tr>\n",
       "    <tr>\n",
       "      <th>...</th>\n",
       "      <td>...</td>\n",
       "      <td>...</td>\n",
       "      <td>...</td>\n",
       "      <td>...</td>\n",
       "    </tr>\n",
       "    <tr>\n",
       "      <th>1684</th>\n",
       "      <td>United States of America</td>\n",
       "      <td>2007</td>\n",
       "      <td>Births attended by skilled health personnel (%)</td>\n",
       "      <td>99.3</td>\n",
       "    </tr>\n",
       "    <tr>\n",
       "      <th>1702</th>\n",
       "      <td>Uruguay</td>\n",
       "      <td>2007</td>\n",
       "      <td>Births attended by skilled health personnel (%)</td>\n",
       "      <td>98.6</td>\n",
       "    </tr>\n",
       "    <tr>\n",
       "      <th>1721</th>\n",
       "      <td>Uzbekistan</td>\n",
       "      <td>2007</td>\n",
       "      <td>Births attended by skilled health personnel (%)</td>\n",
       "      <td>100.0</td>\n",
       "    </tr>\n",
       "    <tr>\n",
       "      <th>1729</th>\n",
       "      <td>Vanuatu</td>\n",
       "      <td>2007</td>\n",
       "      <td>Births attended by skilled health personnel (%)</td>\n",
       "      <td>74.0</td>\n",
       "    </tr>\n",
       "    <tr>\n",
       "      <th>1748</th>\n",
       "      <td>Zambia</td>\n",
       "      <td>2007</td>\n",
       "      <td>Births attended by skilled health personnel (%)</td>\n",
       "      <td>45.2</td>\n",
       "    </tr>\n",
       "  </tbody>\n",
       "</table>\n",
       "<p>107 rows × 4 columns</p>\n",
       "</div>"
      ],
      "text/plain": [
       "                      Location  Period  \\\n",
       "17                      Angola    2007   \n",
       "26         Antigua and Barbuda    2007   \n",
       "43                   Argentina    2007   \n",
       "59                     Armenia    2007   \n",
       "76                   Australia    2007   \n",
       "...                        ...     ...   \n",
       "1684  United States of America    2007   \n",
       "1702                   Uruguay    2007   \n",
       "1721                Uzbekistan    2007   \n",
       "1729                   Vanuatu    2007   \n",
       "1748                    Zambia    2007   \n",
       "\n",
       "                                            Indicator  First Tooltip  \n",
       "17    Births attended by skilled health personnel (%)           47.3  \n",
       "26    Births attended by skilled health personnel (%)          100.0  \n",
       "43    Births attended by skilled health personnel (%)           99.4  \n",
       "59    Births attended by skilled health personnel (%)           99.9  \n",
       "76    Births attended by skilled health personnel (%)           99.2  \n",
       "...                                               ...            ...  \n",
       "1684  Births attended by skilled health personnel (%)           99.3  \n",
       "1702  Births attended by skilled health personnel (%)           98.6  \n",
       "1721  Births attended by skilled health personnel (%)          100.0  \n",
       "1729  Births attended by skilled health personnel (%)           74.0  \n",
       "1748  Births attended by skilled health personnel (%)           45.2  \n",
       "\n",
       "[107 rows x 4 columns]"
      ]
     },
     "execution_count": 197,
     "metadata": {},
     "output_type": "execute_result"
    }
   ],
   "source": [
    "basp_data_2007 = basp_data[basp_data['Period'] == 2007]\n",
    "basp_data_2007"
   ]
  },
  {
   "cell_type": "markdown",
   "metadata": {},
   "source": [
    "## Dataset to export"
   ]
  },
  {
   "cell_type": "code",
   "execution_count": 198,
   "metadata": {},
   "outputs": [
    {
     "data": {
      "text/html": [
       "<div>\n",
       "<style scoped>\n",
       "    .dataframe tbody tr th:only-of-type {\n",
       "        vertical-align: middle;\n",
       "    }\n",
       "\n",
       "    .dataframe tbody tr th {\n",
       "        vertical-align: top;\n",
       "    }\n",
       "\n",
       "    .dataframe thead th {\n",
       "        text-align: right;\n",
       "    }\n",
       "</style>\n",
       "<table border=\"1\" class=\"dataframe\">\n",
       "  <thead>\n",
       "    <tr style=\"text-align: right;\">\n",
       "      <th></th>\n",
       "      <th>Location</th>\n",
       "      <th>Period</th>\n",
       "      <th>Indicator</th>\n",
       "      <th>First Tooltip</th>\n",
       "    </tr>\n",
       "  </thead>\n",
       "  <tbody>\n",
       "    <tr>\n",
       "      <th>12</th>\n",
       "      <td>Algeria</td>\n",
       "      <td>2006</td>\n",
       "      <td>Births attended by skilled health personnel (%)</td>\n",
       "      <td>95.2</td>\n",
       "    </tr>\n",
       "    <tr>\n",
       "      <th>27</th>\n",
       "      <td>Antigua and Barbuda</td>\n",
       "      <td>2006</td>\n",
       "      <td>Births attended by skilled health personnel (%)</td>\n",
       "      <td>99.9</td>\n",
       "    </tr>\n",
       "    <tr>\n",
       "      <th>44</th>\n",
       "      <td>Argentina</td>\n",
       "      <td>2006</td>\n",
       "      <td>Births attended by skilled health personnel (%)</td>\n",
       "      <td>99.4</td>\n",
       "    </tr>\n",
       "    <tr>\n",
       "      <th>60</th>\n",
       "      <td>Armenia</td>\n",
       "      <td>2006</td>\n",
       "      <td>Births attended by skilled health personnel (%)</td>\n",
       "      <td>99.7</td>\n",
       "    </tr>\n",
       "    <tr>\n",
       "      <th>77</th>\n",
       "      <td>Australia</td>\n",
       "      <td>2006</td>\n",
       "      <td>Births attended by skilled health personnel (%)</td>\n",
       "      <td>99.3</td>\n",
       "    </tr>\n",
       "    <tr>\n",
       "      <th>...</th>\n",
       "      <td>...</td>\n",
       "      <td>...</td>\n",
       "      <td>...</td>\n",
       "      <td>...</td>\n",
       "    </tr>\n",
       "    <tr>\n",
       "      <th>1722</th>\n",
       "      <td>Uzbekistan</td>\n",
       "      <td>2006</td>\n",
       "      <td>Births attended by skilled health personnel (%)</td>\n",
       "      <td>99.6</td>\n",
       "    </tr>\n",
       "    <tr>\n",
       "      <th>1730</th>\n",
       "      <td>Vanuatu</td>\n",
       "      <td>2006</td>\n",
       "      <td>Births attended by skilled health personnel (%)</td>\n",
       "      <td>92.9</td>\n",
       "    </tr>\n",
       "    <tr>\n",
       "      <th>1743</th>\n",
       "      <td>Viet Nam</td>\n",
       "      <td>2006</td>\n",
       "      <td>Births attended by skilled health personnel (%)</td>\n",
       "      <td>83.8</td>\n",
       "    </tr>\n",
       "    <tr>\n",
       "      <th>1746</th>\n",
       "      <td>Yemen</td>\n",
       "      <td>2006</td>\n",
       "      <td>Births attended by skilled health personnel (%)</td>\n",
       "      <td>35.7</td>\n",
       "    </tr>\n",
       "    <tr>\n",
       "      <th>1754</th>\n",
       "      <td>Zimbabwe</td>\n",
       "      <td>2006</td>\n",
       "      <td>Births attended by skilled health personnel (%)</td>\n",
       "      <td>68.5</td>\n",
       "    </tr>\n",
       "  </tbody>\n",
       "</table>\n",
       "<p>118 rows × 4 columns</p>\n",
       "</div>"
      ],
      "text/plain": [
       "                 Location  Period  \\\n",
       "12                Algeria    2006   \n",
       "27    Antigua and Barbuda    2006   \n",
       "44              Argentina    2006   \n",
       "60                Armenia    2006   \n",
       "77              Australia    2006   \n",
       "...                   ...     ...   \n",
       "1722           Uzbekistan    2006   \n",
       "1730              Vanuatu    2006   \n",
       "1743             Viet Nam    2006   \n",
       "1746                Yemen    2006   \n",
       "1754             Zimbabwe    2006   \n",
       "\n",
       "                                            Indicator  First Tooltip  \n",
       "12    Births attended by skilled health personnel (%)           95.2  \n",
       "27    Births attended by skilled health personnel (%)           99.9  \n",
       "44    Births attended by skilled health personnel (%)           99.4  \n",
       "60    Births attended by skilled health personnel (%)           99.7  \n",
       "77    Births attended by skilled health personnel (%)           99.3  \n",
       "...                                               ...            ...  \n",
       "1722  Births attended by skilled health personnel (%)           99.6  \n",
       "1730  Births attended by skilled health personnel (%)           92.9  \n",
       "1743  Births attended by skilled health personnel (%)           83.8  \n",
       "1746  Births attended by skilled health personnel (%)           35.7  \n",
       "1754  Births attended by skilled health personnel (%)           68.5  \n",
       "\n",
       "[118 rows x 4 columns]"
      ]
     },
     "execution_count": 198,
     "metadata": {},
     "output_type": "execute_result"
    }
   ],
   "source": [
    "basp_data_2006= basp_data[basp_data['Period'] == 2006]\n",
    "basp_data_2006"
   ]
  },
  {
   "cell_type": "code",
   "execution_count": null,
   "metadata": {},
   "outputs": [],
   "source": []
  },
  {
   "cell_type": "markdown",
   "metadata": {},
   "source": [
    "## Clean Fuel and Tech - IGNORE"
   ]
  },
  {
   "cell_type": "code",
   "execution_count": null,
   "metadata": {},
   "outputs": [],
   "source": []
  },
  {
   "cell_type": "markdown",
   "metadata": {},
   "source": [
    "## Crude Suicide Rates - IGNORE"
   ]
  },
  {
   "cell_type": "code",
   "execution_count": null,
   "metadata": {},
   "outputs": [],
   "source": []
  },
  {
   "cell_type": "markdown",
   "metadata": {},
   "source": [
    "## Data Availability for UHC - IGNORE"
   ]
  },
  {
   "cell_type": "code",
   "execution_count": null,
   "metadata": {},
   "outputs": [],
   "source": []
  },
  {
   "cell_type": "markdown",
   "metadata": {},
   "source": [
    "## Dentists"
   ]
  },
  {
   "cell_type": "code",
   "execution_count": 200,
   "metadata": {},
   "outputs": [
    {
     "data": {
      "text/html": [
       "<div>\n",
       "<style scoped>\n",
       "    .dataframe tbody tr th:only-of-type {\n",
       "        vertical-align: middle;\n",
       "    }\n",
       "\n",
       "    .dataframe tbody tr th {\n",
       "        vertical-align: top;\n",
       "    }\n",
       "\n",
       "    .dataframe thead th {\n",
       "        text-align: right;\n",
       "    }\n",
       "</style>\n",
       "<table border=\"1\" class=\"dataframe\">\n",
       "  <thead>\n",
       "    <tr style=\"text-align: right;\">\n",
       "      <th></th>\n",
       "      <th>Location</th>\n",
       "      <th>Period</th>\n",
       "      <th>Indicator</th>\n",
       "      <th>First Tooltip</th>\n",
       "    </tr>\n",
       "  </thead>\n",
       "  <tbody>\n",
       "    <tr>\n",
       "      <th>0</th>\n",
       "      <td>Afghanistan</td>\n",
       "      <td>2016</td>\n",
       "      <td>Dentists (per 10,000)</td>\n",
       "      <td>0.034</td>\n",
       "    </tr>\n",
       "    <tr>\n",
       "      <th>1</th>\n",
       "      <td>Afghanistan</td>\n",
       "      <td>2015</td>\n",
       "      <td>Dentists (per 10,000)</td>\n",
       "      <td>0.036</td>\n",
       "    </tr>\n",
       "    <tr>\n",
       "      <th>2</th>\n",
       "      <td>Afghanistan</td>\n",
       "      <td>2014</td>\n",
       "      <td>Dentists (per 10,000)</td>\n",
       "      <td>0.033</td>\n",
       "    </tr>\n",
       "    <tr>\n",
       "      <th>3</th>\n",
       "      <td>Afghanistan</td>\n",
       "      <td>2008</td>\n",
       "      <td>Dentists (per 10,000)</td>\n",
       "      <td>0.140</td>\n",
       "    </tr>\n",
       "    <tr>\n",
       "      <th>4</th>\n",
       "      <td>Afghanistan</td>\n",
       "      <td>2007</td>\n",
       "      <td>Dentists (per 10,000)</td>\n",
       "      <td>0.120</td>\n",
       "    </tr>\n",
       "    <tr>\n",
       "      <th>...</th>\n",
       "      <td>...</td>\n",
       "      <td>...</td>\n",
       "      <td>...</td>\n",
       "      <td>...</td>\n",
       "    </tr>\n",
       "    <tr>\n",
       "      <th>2129</th>\n",
       "      <td>Zimbabwe</td>\n",
       "      <td>2009</td>\n",
       "      <td>Dentists (per 10,000)</td>\n",
       "      <td>0.150</td>\n",
       "    </tr>\n",
       "    <tr>\n",
       "      <th>2130</th>\n",
       "      <td>Zimbabwe</td>\n",
       "      <td>2008</td>\n",
       "      <td>Dentists (per 10,000)</td>\n",
       "      <td>0.150</td>\n",
       "    </tr>\n",
       "    <tr>\n",
       "      <th>2131</th>\n",
       "      <td>Zimbabwe</td>\n",
       "      <td>2007</td>\n",
       "      <td>Dentists (per 10,000)</td>\n",
       "      <td>0.160</td>\n",
       "    </tr>\n",
       "    <tr>\n",
       "      <th>2132</th>\n",
       "      <td>Zimbabwe</td>\n",
       "      <td>1995</td>\n",
       "      <td>Dentists (per 10,000)</td>\n",
       "      <td>0.130</td>\n",
       "    </tr>\n",
       "    <tr>\n",
       "      <th>2133</th>\n",
       "      <td>Zimbabwe</td>\n",
       "      <td>1990</td>\n",
       "      <td>Dentists (per 10,000)</td>\n",
       "      <td>0.130</td>\n",
       "    </tr>\n",
       "  </tbody>\n",
       "</table>\n",
       "<p>2134 rows × 4 columns</p>\n",
       "</div>"
      ],
      "text/plain": [
       "         Location  Period              Indicator  First Tooltip\n",
       "0     Afghanistan    2016  Dentists (per 10,000)          0.034\n",
       "1     Afghanistan    2015  Dentists (per 10,000)          0.036\n",
       "2     Afghanistan    2014  Dentists (per 10,000)          0.033\n",
       "3     Afghanistan    2008  Dentists (per 10,000)          0.140\n",
       "4     Afghanistan    2007  Dentists (per 10,000)          0.120\n",
       "...           ...     ...                    ...            ...\n",
       "2129     Zimbabwe    2009  Dentists (per 10,000)          0.150\n",
       "2130     Zimbabwe    2008  Dentists (per 10,000)          0.150\n",
       "2131     Zimbabwe    2007  Dentists (per 10,000)          0.160\n",
       "2132     Zimbabwe    1995  Dentists (per 10,000)          0.130\n",
       "2133     Zimbabwe    1990  Dentists (per 10,000)          0.130\n",
       "\n",
       "[2134 rows x 4 columns]"
      ]
     },
     "execution_count": 200,
     "metadata": {},
     "output_type": "execute_result"
    }
   ],
   "source": [
    "dentist_data = pd.read_csv(WHS_path/'dentists.csv')\n",
    "dentist_data"
   ]
  },
  {
   "cell_type": "code",
   "execution_count": 202,
   "metadata": {},
   "outputs": [
    {
     "data": {
      "text/plain": [
       "Location         2134\n",
       "Period           2134\n",
       "Indicator        2134\n",
       "First Tooltip    2134\n",
       "dtype: int64"
      ]
     },
     "execution_count": 202,
     "metadata": {},
     "output_type": "execute_result"
    }
   ],
   "source": [
    "dentist_data.isnull().count()"
   ]
  },
  {
   "cell_type": "code",
   "execution_count": 255,
   "metadata": {},
   "outputs": [
    {
     "data": {
      "text/html": [
       "<div>\n",
       "<style scoped>\n",
       "    .dataframe tbody tr th:only-of-type {\n",
       "        vertical-align: middle;\n",
       "    }\n",
       "\n",
       "    .dataframe tbody tr th {\n",
       "        vertical-align: top;\n",
       "    }\n",
       "\n",
       "    .dataframe thead th {\n",
       "        text-align: right;\n",
       "    }\n",
       "</style>\n",
       "<table border=\"1\" class=\"dataframe\">\n",
       "  <thead>\n",
       "    <tr style=\"text-align: right;\">\n",
       "      <th></th>\n",
       "      <th>Location</th>\n",
       "      <th>Period</th>\n",
       "      <th>Indicator</th>\n",
       "      <th>First Tooltip</th>\n",
       "    </tr>\n",
       "  </thead>\n",
       "  <tbody>\n",
       "  </tbody>\n",
       "</table>\n",
       "</div>"
      ],
      "text/plain": [
       "Empty DataFrame\n",
       "Columns: [Location, Period, Indicator, First Tooltip]\n",
       "Index: []"
      ]
     },
     "execution_count": 255,
     "metadata": {},
     "output_type": "execute_result"
    }
   ],
   "source": [
    "dentist_data[dentist_data['First Tooltip'] == 0.0]"
   ]
  },
  {
   "cell_type": "code",
   "execution_count": 201,
   "metadata": {},
   "outputs": [
    {
     "data": {
      "text/plain": [
       "array(['Dentists (per 10,000)'], dtype=object)"
      ]
     },
     "execution_count": 201,
     "metadata": {},
     "output_type": "execute_result"
    }
   ],
   "source": [
    "dentist_data['Indicator'].unique()"
   ]
  },
  {
   "cell_type": "markdown",
   "metadata": {},
   "source": [
    "I ignored the data from the 90s because I don't have time for that. Best consecutive datasets are 2009 and 2010."
   ]
  },
  {
   "cell_type": "code",
   "execution_count": 204,
   "metadata": {},
   "outputs": [
    {
     "data": {
      "text/plain": [
       "array([2016, 2015, 2014, 2008, 2007, 2006, 2003, 2002, 2001, 2000, 1999,\n",
       "       1998, 1997, 1996, 1995, 1994, 1993, 1992, 1991, 1990, 2018, 2005,\n",
       "       2009, 2004, 2017, 2013, 2012, 2011, 2010, 2019])"
      ]
     },
     "execution_count": 204,
     "metadata": {},
     "output_type": "execute_result"
    }
   ],
   "source": [
    "dentist_data['Period'].unique()"
   ]
  },
  {
   "cell_type": "code",
   "execution_count": 206,
   "metadata": {},
   "outputs": [
    {
     "data": {
      "text/plain": [
       "Location         32\n",
       "Period           32\n",
       "Indicator        32\n",
       "First Tooltip    32\n",
       "dtype: int64"
      ]
     },
     "execution_count": 206,
     "metadata": {},
     "output_type": "execute_result"
    }
   ],
   "source": [
    "dentist_data[dentist_data['Period'] == 2019].count()"
   ]
  },
  {
   "cell_type": "code",
   "execution_count": 207,
   "metadata": {},
   "outputs": [
    {
     "data": {
      "text/plain": [
       "Location         63\n",
       "Period           63\n",
       "Indicator        63\n",
       "First Tooltip    63\n",
       "dtype: int64"
      ]
     },
     "execution_count": 207,
     "metadata": {},
     "output_type": "execute_result"
    }
   ],
   "source": [
    "dentist_data[dentist_data['Period'] == 2018].count()"
   ]
  },
  {
   "cell_type": "code",
   "execution_count": 208,
   "metadata": {},
   "outputs": [
    {
     "data": {
      "text/plain": [
       "Location         80\n",
       "Period           80\n",
       "Indicator        80\n",
       "First Tooltip    80\n",
       "dtype: int64"
      ]
     },
     "execution_count": 208,
     "metadata": {},
     "output_type": "execute_result"
    }
   ],
   "source": [
    "dentist_data[dentist_data['Period'] == 2017].count()"
   ]
  },
  {
   "cell_type": "code",
   "execution_count": 210,
   "metadata": {},
   "outputs": [
    {
     "data": {
      "text/plain": [
       "Location         83\n",
       "Period           83\n",
       "Indicator        83\n",
       "First Tooltip    83\n",
       "dtype: int64"
      ]
     },
     "execution_count": 210,
     "metadata": {},
     "output_type": "execute_result"
    }
   ],
   "source": [
    "dentist_data[dentist_data['Period'] == 2016].count()"
   ]
  },
  {
   "cell_type": "code",
   "execution_count": 211,
   "metadata": {},
   "outputs": [
    {
     "data": {
      "text/plain": [
       "Location         87\n",
       "Period           87\n",
       "Indicator        87\n",
       "First Tooltip    87\n",
       "dtype: int64"
      ]
     },
     "execution_count": 211,
     "metadata": {},
     "output_type": "execute_result"
    }
   ],
   "source": [
    "dentist_data[dentist_data['Period'] == 2015].count()"
   ]
  },
  {
   "cell_type": "code",
   "execution_count": 212,
   "metadata": {},
   "outputs": [
    {
     "data": {
      "text/plain": [
       "Location         92\n",
       "Period           92\n",
       "Indicator        92\n",
       "First Tooltip    92\n",
       "dtype: int64"
      ]
     },
     "execution_count": 212,
     "metadata": {},
     "output_type": "execute_result"
    }
   ],
   "source": [
    "dentist_data[dentist_data['Period'] == 2014].count()"
   ]
  },
  {
   "cell_type": "code",
   "execution_count": 213,
   "metadata": {},
   "outputs": [
    {
     "data": {
      "text/plain": [
       "Location         85\n",
       "Period           85\n",
       "Indicator        85\n",
       "First Tooltip    85\n",
       "dtype: int64"
      ]
     },
     "execution_count": 213,
     "metadata": {},
     "output_type": "execute_result"
    }
   ],
   "source": [
    "dentist_data[dentist_data['Period'] == 2013].count()"
   ]
  },
  {
   "cell_type": "code",
   "execution_count": 214,
   "metadata": {},
   "outputs": [
    {
     "data": {
      "text/plain": [
       "Location         93\n",
       "Period           93\n",
       "Indicator        93\n",
       "First Tooltip    93\n",
       "dtype: int64"
      ]
     },
     "execution_count": 214,
     "metadata": {},
     "output_type": "execute_result"
    }
   ],
   "source": [
    "dentist_data[dentist_data['Period'] == 2012].count()"
   ]
  },
  {
   "cell_type": "code",
   "execution_count": 215,
   "metadata": {},
   "outputs": [
    {
     "data": {
      "text/plain": [
       "Location         97\n",
       "Period           97\n",
       "Indicator        97\n",
       "First Tooltip    97\n",
       "dtype: int64"
      ]
     },
     "execution_count": 215,
     "metadata": {},
     "output_type": "execute_result"
    }
   ],
   "source": [
    "dentist_data[dentist_data['Period'] == 2011].count()"
   ]
  },
  {
   "cell_type": "code",
   "execution_count": 216,
   "metadata": {},
   "outputs": [
    {
     "data": {
      "text/plain": [
       "Location         108\n",
       "Period           108\n",
       "Indicator        108\n",
       "First Tooltip    108\n",
       "dtype: int64"
      ]
     },
     "execution_count": 216,
     "metadata": {},
     "output_type": "execute_result"
    }
   ],
   "source": [
    "dentist_data[dentist_data['Period'] == 2010].count()"
   ]
  },
  {
   "cell_type": "code",
   "execution_count": 217,
   "metadata": {},
   "outputs": [
    {
     "data": {
      "text/plain": [
       "Location         114\n",
       "Period           114\n",
       "Indicator        114\n",
       "First Tooltip    114\n",
       "dtype: int64"
      ]
     },
     "execution_count": 217,
     "metadata": {},
     "output_type": "execute_result"
    }
   ],
   "source": [
    "dentist_data[dentist_data['Period'] == 2009].count()"
   ]
  },
  {
   "cell_type": "code",
   "execution_count": 218,
   "metadata": {},
   "outputs": [
    {
     "data": {
      "text/plain": [
       "Location         110\n",
       "Period           110\n",
       "Indicator        110\n",
       "First Tooltip    110\n",
       "dtype: int64"
      ]
     },
     "execution_count": 218,
     "metadata": {},
     "output_type": "execute_result"
    }
   ],
   "source": [
    "dentist_data[dentist_data['Period'] == 2008].count()"
   ]
  },
  {
   "cell_type": "code",
   "execution_count": 219,
   "metadata": {},
   "outputs": [
    {
     "data": {
      "text/plain": [
       "Location         88\n",
       "Period           88\n",
       "Indicator        88\n",
       "First Tooltip    88\n",
       "dtype: int64"
      ]
     },
     "execution_count": 219,
     "metadata": {},
     "output_type": "execute_result"
    }
   ],
   "source": [
    "dentist_data[dentist_data['Period'] == 2007].count()"
   ]
  },
  {
   "cell_type": "code",
   "execution_count": 220,
   "metadata": {},
   "outputs": [
    {
     "data": {
      "text/plain": [
       "Location         80\n",
       "Period           80\n",
       "Indicator        80\n",
       "First Tooltip    80\n",
       "dtype: int64"
      ]
     },
     "execution_count": 220,
     "metadata": {},
     "output_type": "execute_result"
    }
   ],
   "source": [
    "dentist_data[dentist_data['Period'] == 2006].count()"
   ]
  },
  {
   "cell_type": "code",
   "execution_count": 221,
   "metadata": {},
   "outputs": [
    {
     "data": {
      "text/plain": [
       "Location         82\n",
       "Period           82\n",
       "Indicator        82\n",
       "First Tooltip    82\n",
       "dtype: int64"
      ]
     },
     "execution_count": 221,
     "metadata": {},
     "output_type": "execute_result"
    }
   ],
   "source": [
    "dentist_data[dentist_data['Period'] == 2005].count()"
   ]
  },
  {
   "cell_type": "code",
   "execution_count": 222,
   "metadata": {},
   "outputs": [
    {
     "data": {
      "text/plain": [
       "Location         113\n",
       "Period           113\n",
       "Indicator        113\n",
       "First Tooltip    113\n",
       "dtype: int64"
      ]
     },
     "execution_count": 222,
     "metadata": {},
     "output_type": "execute_result"
    }
   ],
   "source": [
    "dentist_data[dentist_data['Period'] == 2004].count()"
   ]
  },
  {
   "cell_type": "code",
   "execution_count": 223,
   "metadata": {},
   "outputs": [
    {
     "data": {
      "text/plain": [
       "Location         70\n",
       "Period           70\n",
       "Indicator        70\n",
       "First Tooltip    70\n",
       "dtype: int64"
      ]
     },
     "execution_count": 223,
     "metadata": {},
     "output_type": "execute_result"
    }
   ],
   "source": [
    "dentist_data[dentist_data['Period'] == 2003].count()"
   ]
  },
  {
   "cell_type": "code",
   "execution_count": 224,
   "metadata": {},
   "outputs": [
    {
     "data": {
      "text/plain": [
       "Location         73\n",
       "Period           73\n",
       "Indicator        73\n",
       "First Tooltip    73\n",
       "dtype: int64"
      ]
     },
     "execution_count": 224,
     "metadata": {},
     "output_type": "execute_result"
    }
   ],
   "source": [
    "dentist_data[dentist_data['Period'] == 2002].count()"
   ]
  },
  {
   "cell_type": "code",
   "execution_count": 225,
   "metadata": {},
   "outputs": [
    {
     "data": {
      "text/plain": [
       "Location         70\n",
       "Period           70\n",
       "Indicator        70\n",
       "First Tooltip    70\n",
       "dtype: int64"
      ]
     },
     "execution_count": 225,
     "metadata": {},
     "output_type": "execute_result"
    }
   ],
   "source": [
    "dentist_data[dentist_data['Period'] == 2001].count()"
   ]
  },
  {
   "cell_type": "code",
   "execution_count": 226,
   "metadata": {},
   "outputs": [
    {
     "data": {
      "text/plain": [
       "Location         74\n",
       "Period           74\n",
       "Indicator        74\n",
       "First Tooltip    74\n",
       "dtype: int64"
      ]
     },
     "execution_count": 226,
     "metadata": {},
     "output_type": "execute_result"
    }
   ],
   "source": [
    "dentist_data[dentist_data['Period'] == 2000].count()"
   ]
  },
  {
   "cell_type": "markdown",
   "metadata": {},
   "source": [
    "## Dataset to export"
   ]
  },
  {
   "cell_type": "code",
   "execution_count": 227,
   "metadata": {},
   "outputs": [
    {
     "data": {
      "text/html": [
       "<div>\n",
       "<style scoped>\n",
       "    .dataframe tbody tr th:only-of-type {\n",
       "        vertical-align: middle;\n",
       "    }\n",
       "\n",
       "    .dataframe tbody tr th {\n",
       "        vertical-align: top;\n",
       "    }\n",
       "\n",
       "    .dataframe thead th {\n",
       "        text-align: right;\n",
       "    }\n",
       "</style>\n",
       "<table border=\"1\" class=\"dataframe\">\n",
       "  <thead>\n",
       "    <tr style=\"text-align: right;\">\n",
       "      <th></th>\n",
       "      <th>Location</th>\n",
       "      <th>Period</th>\n",
       "      <th>Indicator</th>\n",
       "      <th>First Tooltip</th>\n",
       "    </tr>\n",
       "  </thead>\n",
       "  <tbody>\n",
       "    <tr>\n",
       "      <th>53</th>\n",
       "      <td>Armenia</td>\n",
       "      <td>2010</td>\n",
       "      <td>Dentists (per 10,000)</td>\n",
       "      <td>4.370</td>\n",
       "    </tr>\n",
       "    <tr>\n",
       "      <th>71</th>\n",
       "      <td>Australia</td>\n",
       "      <td>2010</td>\n",
       "      <td>Dentists (per 10,000)</td>\n",
       "      <td>5.180</td>\n",
       "    </tr>\n",
       "    <tr>\n",
       "      <th>84</th>\n",
       "      <td>Austria</td>\n",
       "      <td>2010</td>\n",
       "      <td>Dentists (per 10,000)</td>\n",
       "      <td>5.570</td>\n",
       "    </tr>\n",
       "    <tr>\n",
       "      <th>109</th>\n",
       "      <td>Azerbaijan</td>\n",
       "      <td>2010</td>\n",
       "      <td>Dentists (per 10,000)</td>\n",
       "      <td>2.730</td>\n",
       "    </tr>\n",
       "    <tr>\n",
       "      <th>138</th>\n",
       "      <td>Bahrain</td>\n",
       "      <td>2010</td>\n",
       "      <td>Dentists (per 10,000)</td>\n",
       "      <td>0.980</td>\n",
       "    </tr>\n",
       "    <tr>\n",
       "      <th>...</th>\n",
       "      <td>...</td>\n",
       "      <td>...</td>\n",
       "      <td>...</td>\n",
       "      <td>...</td>\n",
       "    </tr>\n",
       "    <tr>\n",
       "      <th>2080</th>\n",
       "      <td>United States of America</td>\n",
       "      <td>2010</td>\n",
       "      <td>Dentists (per 10,000)</td>\n",
       "      <td>5.780</td>\n",
       "    </tr>\n",
       "    <tr>\n",
       "      <th>2091</th>\n",
       "      <td>Uzbekistan</td>\n",
       "      <td>2010</td>\n",
       "      <td>Dentists (per 10,000)</td>\n",
       "      <td>1.650</td>\n",
       "    </tr>\n",
       "    <tr>\n",
       "      <th>2110</th>\n",
       "      <td>Yemen</td>\n",
       "      <td>2010</td>\n",
       "      <td>Dentists (per 10,000)</td>\n",
       "      <td>0.250</td>\n",
       "    </tr>\n",
       "    <tr>\n",
       "      <th>2117</th>\n",
       "      <td>Zambia</td>\n",
       "      <td>2010</td>\n",
       "      <td>Dentists (per 10,000)</td>\n",
       "      <td>0.180</td>\n",
       "    </tr>\n",
       "    <tr>\n",
       "      <th>2128</th>\n",
       "      <td>Zimbabwe</td>\n",
       "      <td>2010</td>\n",
       "      <td>Dentists (per 10,000)</td>\n",
       "      <td>0.035</td>\n",
       "    </tr>\n",
       "  </tbody>\n",
       "</table>\n",
       "<p>108 rows × 4 columns</p>\n",
       "</div>"
      ],
      "text/plain": [
       "                      Location  Period              Indicator  First Tooltip\n",
       "53                     Armenia    2010  Dentists (per 10,000)          4.370\n",
       "71                   Australia    2010  Dentists (per 10,000)          5.180\n",
       "84                     Austria    2010  Dentists (per 10,000)          5.570\n",
       "109                 Azerbaijan    2010  Dentists (per 10,000)          2.730\n",
       "138                    Bahrain    2010  Dentists (per 10,000)          0.980\n",
       "...                        ...     ...                    ...            ...\n",
       "2080  United States of America    2010  Dentists (per 10,000)          5.780\n",
       "2091                Uzbekistan    2010  Dentists (per 10,000)          1.650\n",
       "2110                     Yemen    2010  Dentists (per 10,000)          0.250\n",
       "2117                    Zambia    2010  Dentists (per 10,000)          0.180\n",
       "2128                  Zimbabwe    2010  Dentists (per 10,000)          0.035\n",
       "\n",
       "[108 rows x 4 columns]"
      ]
     },
     "execution_count": 227,
     "metadata": {},
     "output_type": "execute_result"
    }
   ],
   "source": [
    "d_data_2010 = dentist_data[dentist_data['Period'] == 2010]\n",
    "d_data_2010"
   ]
  },
  {
   "cell_type": "markdown",
   "metadata": {},
   "source": [
    "## Dataset to export"
   ]
  },
  {
   "cell_type": "code",
   "execution_count": 228,
   "metadata": {},
   "outputs": [
    {
     "data": {
      "text/html": [
       "<div>\n",
       "<style scoped>\n",
       "    .dataframe tbody tr th:only-of-type {\n",
       "        vertical-align: middle;\n",
       "    }\n",
       "\n",
       "    .dataframe tbody tr th {\n",
       "        vertical-align: top;\n",
       "    }\n",
       "\n",
       "    .dataframe thead th {\n",
       "        text-align: right;\n",
       "    }\n",
       "</style>\n",
       "<table border=\"1\" class=\"dataframe\">\n",
       "  <thead>\n",
       "    <tr style=\"text-align: right;\">\n",
       "      <th></th>\n",
       "      <th>Location</th>\n",
       "      <th>Period</th>\n",
       "      <th>Indicator</th>\n",
       "      <th>First Tooltip</th>\n",
       "    </tr>\n",
       "  </thead>\n",
       "  <tbody>\n",
       "    <tr>\n",
       "      <th>26</th>\n",
       "      <td>Andorra</td>\n",
       "      <td>2009</td>\n",
       "      <td>Dentists (per 10,000)</td>\n",
       "      <td>6.04</td>\n",
       "    </tr>\n",
       "    <tr>\n",
       "      <th>54</th>\n",
       "      <td>Armenia</td>\n",
       "      <td>2009</td>\n",
       "      <td>Dentists (per 10,000)</td>\n",
       "      <td>4.31</td>\n",
       "    </tr>\n",
       "    <tr>\n",
       "      <th>72</th>\n",
       "      <td>Australia</td>\n",
       "      <td>2009</td>\n",
       "      <td>Dentists (per 10,000)</td>\n",
       "      <td>5.27</td>\n",
       "    </tr>\n",
       "    <tr>\n",
       "      <th>85</th>\n",
       "      <td>Austria</td>\n",
       "      <td>2009</td>\n",
       "      <td>Dentists (per 10,000)</td>\n",
       "      <td>5.52</td>\n",
       "    </tr>\n",
       "    <tr>\n",
       "      <th>110</th>\n",
       "      <td>Azerbaijan</td>\n",
       "      <td>2009</td>\n",
       "      <td>Dentists (per 10,000)</td>\n",
       "      <td>2.75</td>\n",
       "    </tr>\n",
       "    <tr>\n",
       "      <th>...</th>\n",
       "      <td>...</td>\n",
       "      <td>...</td>\n",
       "      <td>...</td>\n",
       "      <td>...</td>\n",
       "    </tr>\n",
       "    <tr>\n",
       "      <th>2052</th>\n",
       "      <td>United Arab Emirates</td>\n",
       "      <td>2009</td>\n",
       "      <td>Dentists (per 10,000)</td>\n",
       "      <td>3.63</td>\n",
       "    </tr>\n",
       "    <tr>\n",
       "      <th>2071</th>\n",
       "      <td>United Kingdom of Great Britain and Northern I...</td>\n",
       "      <td>2009</td>\n",
       "      <td>Dentists (per 10,000)</td>\n",
       "      <td>5.00</td>\n",
       "    </tr>\n",
       "    <tr>\n",
       "      <th>2092</th>\n",
       "      <td>Uzbekistan</td>\n",
       "      <td>2009</td>\n",
       "      <td>Dentists (per 10,000)</td>\n",
       "      <td>1.59</td>\n",
       "    </tr>\n",
       "    <tr>\n",
       "      <th>2118</th>\n",
       "      <td>Zambia</td>\n",
       "      <td>2009</td>\n",
       "      <td>Dentists (per 10,000)</td>\n",
       "      <td>0.18</td>\n",
       "    </tr>\n",
       "    <tr>\n",
       "      <th>2129</th>\n",
       "      <td>Zimbabwe</td>\n",
       "      <td>2009</td>\n",
       "      <td>Dentists (per 10,000)</td>\n",
       "      <td>0.15</td>\n",
       "    </tr>\n",
       "  </tbody>\n",
       "</table>\n",
       "<p>114 rows × 4 columns</p>\n",
       "</div>"
      ],
      "text/plain": [
       "                                               Location  Period  \\\n",
       "26                                              Andorra    2009   \n",
       "54                                              Armenia    2009   \n",
       "72                                            Australia    2009   \n",
       "85                                              Austria    2009   \n",
       "110                                          Azerbaijan    2009   \n",
       "...                                                 ...     ...   \n",
       "2052                               United Arab Emirates    2009   \n",
       "2071  United Kingdom of Great Britain and Northern I...    2009   \n",
       "2092                                         Uzbekistan    2009   \n",
       "2118                                             Zambia    2009   \n",
       "2129                                           Zimbabwe    2009   \n",
       "\n",
       "                  Indicator  First Tooltip  \n",
       "26    Dentists (per 10,000)           6.04  \n",
       "54    Dentists (per 10,000)           4.31  \n",
       "72    Dentists (per 10,000)           5.27  \n",
       "85    Dentists (per 10,000)           5.52  \n",
       "110   Dentists (per 10,000)           2.75  \n",
       "...                     ...            ...  \n",
       "2052  Dentists (per 10,000)           3.63  \n",
       "2071  Dentists (per 10,000)           5.00  \n",
       "2092  Dentists (per 10,000)           1.59  \n",
       "2118  Dentists (per 10,000)           0.18  \n",
       "2129  Dentists (per 10,000)           0.15  \n",
       "\n",
       "[114 rows x 4 columns]"
      ]
     },
     "execution_count": 228,
     "metadata": {},
     "output_type": "execute_result"
    }
   ],
   "source": [
    "d_data_2009 = dentist_data[dentist_data['Period'] == 2009]\n",
    "d_data_2009"
   ]
  },
  {
   "cell_type": "code",
   "execution_count": null,
   "metadata": {},
   "outputs": [],
   "source": []
  },
  {
   "cell_type": "markdown",
   "metadata": {},
   "source": [
    "## Violence Against Women - IGNORE"
   ]
  },
  {
   "cell_type": "code",
   "execution_count": null,
   "metadata": {},
   "outputs": [],
   "source": []
  },
  {
   "cell_type": "markdown",
   "metadata": {},
   "source": [
    "## Healthy Life Expectancy at Birth"
   ]
  },
  {
   "cell_type": "code",
   "execution_count": 231,
   "metadata": {},
   "outputs": [
    {
     "data": {
      "text/html": [
       "<div>\n",
       "<style scoped>\n",
       "    .dataframe tbody tr th:only-of-type {\n",
       "        vertical-align: middle;\n",
       "    }\n",
       "\n",
       "    .dataframe tbody tr th {\n",
       "        vertical-align: top;\n",
       "    }\n",
       "\n",
       "    .dataframe thead th {\n",
       "        text-align: right;\n",
       "    }\n",
       "</style>\n",
       "<table border=\"1\" class=\"dataframe\">\n",
       "  <thead>\n",
       "    <tr style=\"text-align: right;\">\n",
       "      <th></th>\n",
       "      <th>Location</th>\n",
       "      <th>Period</th>\n",
       "      <th>Indicator</th>\n",
       "      <th>Dim1</th>\n",
       "      <th>First Tooltip</th>\n",
       "    </tr>\n",
       "  </thead>\n",
       "  <tbody>\n",
       "    <tr>\n",
       "      <th>0</th>\n",
       "      <td>Afghanistan</td>\n",
       "      <td>2019</td>\n",
       "      <td>Healthy life expectancy (HALE) at birth (years)</td>\n",
       "      <td>Both sexes</td>\n",
       "      <td>53.95</td>\n",
       "    </tr>\n",
       "    <tr>\n",
       "      <th>1</th>\n",
       "      <td>Afghanistan</td>\n",
       "      <td>2019</td>\n",
       "      <td>Healthy life expectancy (HALE) at birth (years)</td>\n",
       "      <td>Male</td>\n",
       "      <td>54.73</td>\n",
       "    </tr>\n",
       "    <tr>\n",
       "      <th>2</th>\n",
       "      <td>Afghanistan</td>\n",
       "      <td>2019</td>\n",
       "      <td>Healthy life expectancy (HALE) at birth (years)</td>\n",
       "      <td>Female</td>\n",
       "      <td>53.15</td>\n",
       "    </tr>\n",
       "    <tr>\n",
       "      <th>3</th>\n",
       "      <td>Afghanistan</td>\n",
       "      <td>2015</td>\n",
       "      <td>Healthy life expectancy (HALE) at birth (years)</td>\n",
       "      <td>Both sexes</td>\n",
       "      <td>52.60</td>\n",
       "    </tr>\n",
       "    <tr>\n",
       "      <th>4</th>\n",
       "      <td>Afghanistan</td>\n",
       "      <td>2015</td>\n",
       "      <td>Healthy life expectancy (HALE) at birth (years)</td>\n",
       "      <td>Male</td>\n",
       "      <td>52.78</td>\n",
       "    </tr>\n",
       "    <tr>\n",
       "      <th>...</th>\n",
       "      <td>...</td>\n",
       "      <td>...</td>\n",
       "      <td>...</td>\n",
       "      <td>...</td>\n",
       "      <td>...</td>\n",
       "    </tr>\n",
       "    <tr>\n",
       "      <th>2191</th>\n",
       "      <td>Zimbabwe</td>\n",
       "      <td>2010</td>\n",
       "      <td>Healthy life expectancy (HALE) at birth (years)</td>\n",
       "      <td>Male</td>\n",
       "      <td>44.25</td>\n",
       "    </tr>\n",
       "    <tr>\n",
       "      <th>2192</th>\n",
       "      <td>Zimbabwe</td>\n",
       "      <td>2010</td>\n",
       "      <td>Healthy life expectancy (HALE) at birth (years)</td>\n",
       "      <td>Female</td>\n",
       "      <td>46.12</td>\n",
       "    </tr>\n",
       "    <tr>\n",
       "      <th>2193</th>\n",
       "      <td>Zimbabwe</td>\n",
       "      <td>2000</td>\n",
       "      <td>Healthy life expectancy (HALE) at birth (years)</td>\n",
       "      <td>Both sexes</td>\n",
       "      <td>41.03</td>\n",
       "    </tr>\n",
       "    <tr>\n",
       "      <th>2194</th>\n",
       "      <td>Zimbabwe</td>\n",
       "      <td>2000</td>\n",
       "      <td>Healthy life expectancy (HALE) at birth (years)</td>\n",
       "      <td>Male</td>\n",
       "      <td>40.39</td>\n",
       "    </tr>\n",
       "    <tr>\n",
       "      <th>2195</th>\n",
       "      <td>Zimbabwe</td>\n",
       "      <td>2000</td>\n",
       "      <td>Healthy life expectancy (HALE) at birth (years)</td>\n",
       "      <td>Female</td>\n",
       "      <td>41.77</td>\n",
       "    </tr>\n",
       "  </tbody>\n",
       "</table>\n",
       "<p>2196 rows × 5 columns</p>\n",
       "</div>"
      ],
      "text/plain": [
       "         Location  Period                                        Indicator  \\\n",
       "0     Afghanistan    2019  Healthy life expectancy (HALE) at birth (years)   \n",
       "1     Afghanistan    2019  Healthy life expectancy (HALE) at birth (years)   \n",
       "2     Afghanistan    2019  Healthy life expectancy (HALE) at birth (years)   \n",
       "3     Afghanistan    2015  Healthy life expectancy (HALE) at birth (years)   \n",
       "4     Afghanistan    2015  Healthy life expectancy (HALE) at birth (years)   \n",
       "...           ...     ...                                              ...   \n",
       "2191     Zimbabwe    2010  Healthy life expectancy (HALE) at birth (years)   \n",
       "2192     Zimbabwe    2010  Healthy life expectancy (HALE) at birth (years)   \n",
       "2193     Zimbabwe    2000  Healthy life expectancy (HALE) at birth (years)   \n",
       "2194     Zimbabwe    2000  Healthy life expectancy (HALE) at birth (years)   \n",
       "2195     Zimbabwe    2000  Healthy life expectancy (HALE) at birth (years)   \n",
       "\n",
       "            Dim1  First Tooltip  \n",
       "0     Both sexes          53.95  \n",
       "1           Male          54.73  \n",
       "2         Female          53.15  \n",
       "3     Both sexes          52.60  \n",
       "4           Male          52.78  \n",
       "...          ...            ...  \n",
       "2191        Male          44.25  \n",
       "2192      Female          46.12  \n",
       "2193  Both sexes          41.03  \n",
       "2194        Male          40.39  \n",
       "2195      Female          41.77  \n",
       "\n",
       "[2196 rows x 5 columns]"
      ]
     },
     "execution_count": 231,
     "metadata": {},
     "output_type": "execute_result"
    }
   ],
   "source": [
    "hleb_data = pd.read_csv(WHS_path/'HALElifeExpectancyAtBirth.csv')\n",
    "hleb_data"
   ]
  },
  {
   "cell_type": "code",
   "execution_count": 232,
   "metadata": {},
   "outputs": [
    {
     "data": {
      "text/plain": [
       "Location         2196\n",
       "Period           2196\n",
       "Indicator        2196\n",
       "Dim1             2196\n",
       "First Tooltip    2196\n",
       "dtype: int64"
      ]
     },
     "execution_count": 232,
     "metadata": {},
     "output_type": "execute_result"
    }
   ],
   "source": [
    "hleb_data.isnull().count()"
   ]
  },
  {
   "cell_type": "code",
   "execution_count": 233,
   "metadata": {},
   "outputs": [
    {
     "data": {
      "text/html": [
       "<div>\n",
       "<style scoped>\n",
       "    .dataframe tbody tr th:only-of-type {\n",
       "        vertical-align: middle;\n",
       "    }\n",
       "\n",
       "    .dataframe tbody tr th {\n",
       "        vertical-align: top;\n",
       "    }\n",
       "\n",
       "    .dataframe thead th {\n",
       "        text-align: right;\n",
       "    }\n",
       "</style>\n",
       "<table border=\"1\" class=\"dataframe\">\n",
       "  <thead>\n",
       "    <tr style=\"text-align: right;\">\n",
       "      <th></th>\n",
       "      <th>Location</th>\n",
       "      <th>Period</th>\n",
       "      <th>Indicator</th>\n",
       "      <th>Dim1</th>\n",
       "      <th>First Tooltip</th>\n",
       "    </tr>\n",
       "  </thead>\n",
       "  <tbody>\n",
       "  </tbody>\n",
       "</table>\n",
       "</div>"
      ],
      "text/plain": [
       "Empty DataFrame\n",
       "Columns: [Location, Period, Indicator, Dim1, First Tooltip]\n",
       "Index: []"
      ]
     },
     "execution_count": 233,
     "metadata": {},
     "output_type": "execute_result"
    }
   ],
   "source": [
    "hleb_data[hleb_data['First Tooltip'] == 0.0]"
   ]
  },
  {
   "cell_type": "code",
   "execution_count": 234,
   "metadata": {},
   "outputs": [
    {
     "data": {
      "text/plain": [
       "array(['Healthy life expectancy (HALE) at birth (years)'], dtype=object)"
      ]
     },
     "execution_count": 234,
     "metadata": {},
     "output_type": "execute_result"
    }
   ],
   "source": [
    "hleb_data['Indicator'].unique()"
   ]
  },
  {
   "cell_type": "code",
   "execution_count": 238,
   "metadata": {},
   "outputs": [
    {
     "data": {
      "text/html": [
       "<div>\n",
       "<style scoped>\n",
       "    .dataframe tbody tr th:only-of-type {\n",
       "        vertical-align: middle;\n",
       "    }\n",
       "\n",
       "    .dataframe tbody tr th {\n",
       "        vertical-align: top;\n",
       "    }\n",
       "\n",
       "    .dataframe thead th {\n",
       "        text-align: right;\n",
       "    }\n",
       "</style>\n",
       "<table border=\"1\" class=\"dataframe\">\n",
       "  <thead>\n",
       "    <tr style=\"text-align: right;\">\n",
       "      <th></th>\n",
       "      <th>Location</th>\n",
       "      <th>Period</th>\n",
       "      <th>Indicator</th>\n",
       "      <th>Dim1</th>\n",
       "      <th>First Tooltip</th>\n",
       "    </tr>\n",
       "  </thead>\n",
       "  <tbody>\n",
       "    <tr>\n",
       "      <th>0</th>\n",
       "      <td>Afghanistan</td>\n",
       "      <td>2019</td>\n",
       "      <td>Healthy life expectancy (HALE) at birth (years)</td>\n",
       "      <td>Both sexes</td>\n",
       "      <td>53.95</td>\n",
       "    </tr>\n",
       "    <tr>\n",
       "      <th>3</th>\n",
       "      <td>Afghanistan</td>\n",
       "      <td>2015</td>\n",
       "      <td>Healthy life expectancy (HALE) at birth (years)</td>\n",
       "      <td>Both sexes</td>\n",
       "      <td>52.60</td>\n",
       "    </tr>\n",
       "    <tr>\n",
       "      <th>6</th>\n",
       "      <td>Afghanistan</td>\n",
       "      <td>2010</td>\n",
       "      <td>Healthy life expectancy (HALE) at birth (years)</td>\n",
       "      <td>Both sexes</td>\n",
       "      <td>51.13</td>\n",
       "    </tr>\n",
       "    <tr>\n",
       "      <th>9</th>\n",
       "      <td>Afghanistan</td>\n",
       "      <td>2000</td>\n",
       "      <td>Healthy life expectancy (HALE) at birth (years)</td>\n",
       "      <td>Both sexes</td>\n",
       "      <td>46.76</td>\n",
       "    </tr>\n",
       "    <tr>\n",
       "      <th>12</th>\n",
       "      <td>Albania</td>\n",
       "      <td>2019</td>\n",
       "      <td>Healthy life expectancy (HALE) at birth (years)</td>\n",
       "      <td>Both sexes</td>\n",
       "      <td>69.08</td>\n",
       "    </tr>\n",
       "    <tr>\n",
       "      <th>...</th>\n",
       "      <td>...</td>\n",
       "      <td>...</td>\n",
       "      <td>...</td>\n",
       "      <td>...</td>\n",
       "      <td>...</td>\n",
       "    </tr>\n",
       "    <tr>\n",
       "      <th>2181</th>\n",
       "      <td>Zambia</td>\n",
       "      <td>2000</td>\n",
       "      <td>Healthy life expectancy (HALE) at birth (years)</td>\n",
       "      <td>Both sexes</td>\n",
       "      <td>38.95</td>\n",
       "    </tr>\n",
       "    <tr>\n",
       "      <th>2184</th>\n",
       "      <td>Zimbabwe</td>\n",
       "      <td>2019</td>\n",
       "      <td>Healthy life expectancy (HALE) at birth (years)</td>\n",
       "      <td>Both sexes</td>\n",
       "      <td>53.07</td>\n",
       "    </tr>\n",
       "    <tr>\n",
       "      <th>2187</th>\n",
       "      <td>Zimbabwe</td>\n",
       "      <td>2015</td>\n",
       "      <td>Healthy life expectancy (HALE) at birth (years)</td>\n",
       "      <td>Both sexes</td>\n",
       "      <td>51.17</td>\n",
       "    </tr>\n",
       "    <tr>\n",
       "      <th>2190</th>\n",
       "      <td>Zimbabwe</td>\n",
       "      <td>2010</td>\n",
       "      <td>Healthy life expectancy (HALE) at birth (years)</td>\n",
       "      <td>Both sexes</td>\n",
       "      <td>45.22</td>\n",
       "    </tr>\n",
       "    <tr>\n",
       "      <th>2193</th>\n",
       "      <td>Zimbabwe</td>\n",
       "      <td>2000</td>\n",
       "      <td>Healthy life expectancy (HALE) at birth (years)</td>\n",
       "      <td>Both sexes</td>\n",
       "      <td>41.03</td>\n",
       "    </tr>\n",
       "  </tbody>\n",
       "</table>\n",
       "<p>732 rows × 5 columns</p>\n",
       "</div>"
      ],
      "text/plain": [
       "         Location  Period                                        Indicator  \\\n",
       "0     Afghanistan    2019  Healthy life expectancy (HALE) at birth (years)   \n",
       "3     Afghanistan    2015  Healthy life expectancy (HALE) at birth (years)   \n",
       "6     Afghanistan    2010  Healthy life expectancy (HALE) at birth (years)   \n",
       "9     Afghanistan    2000  Healthy life expectancy (HALE) at birth (years)   \n",
       "12        Albania    2019  Healthy life expectancy (HALE) at birth (years)   \n",
       "...           ...     ...                                              ...   \n",
       "2181       Zambia    2000  Healthy life expectancy (HALE) at birth (years)   \n",
       "2184     Zimbabwe    2019  Healthy life expectancy (HALE) at birth (years)   \n",
       "2187     Zimbabwe    2015  Healthy life expectancy (HALE) at birth (years)   \n",
       "2190     Zimbabwe    2010  Healthy life expectancy (HALE) at birth (years)   \n",
       "2193     Zimbabwe    2000  Healthy life expectancy (HALE) at birth (years)   \n",
       "\n",
       "            Dim1  First Tooltip  \n",
       "0     Both sexes          53.95  \n",
       "3     Both sexes          52.60  \n",
       "6     Both sexes          51.13  \n",
       "9     Both sexes          46.76  \n",
       "12    Both sexes          69.08  \n",
       "...          ...            ...  \n",
       "2181  Both sexes          38.95  \n",
       "2184  Both sexes          53.07  \n",
       "2187  Both sexes          51.17  \n",
       "2190  Both sexes          45.22  \n",
       "2193  Both sexes          41.03  \n",
       "\n",
       "[732 rows x 5 columns]"
      ]
     },
     "execution_count": 238,
     "metadata": {},
     "output_type": "execute_result"
    }
   ],
   "source": [
    "hleb_bs = hleb_data[hleb_data['Dim1'] == \"Both sexes\"]\n",
    "hleb_bs"
   ]
  },
  {
   "cell_type": "markdown",
   "metadata": {},
   "source": [
    "All years have the same number! A great number too. For that reason, I'll select the most recent: 2019 and 2015."
   ]
  },
  {
   "cell_type": "code",
   "execution_count": 239,
   "metadata": {},
   "outputs": [
    {
     "data": {
      "text/plain": [
       "array([2019, 2015, 2010, 2000])"
      ]
     },
     "execution_count": 239,
     "metadata": {},
     "output_type": "execute_result"
    }
   ],
   "source": [
    "hleb_bs['Period'].unique()"
   ]
  },
  {
   "cell_type": "code",
   "execution_count": 240,
   "metadata": {},
   "outputs": [
    {
     "data": {
      "text/plain": [
       "Location         183\n",
       "Period           183\n",
       "Indicator        183\n",
       "Dim1             183\n",
       "First Tooltip    183\n",
       "dtype: int64"
      ]
     },
     "execution_count": 240,
     "metadata": {},
     "output_type": "execute_result"
    }
   ],
   "source": [
    "hleb_bs[hleb_bs['Period'] == 2019].count()"
   ]
  },
  {
   "cell_type": "code",
   "execution_count": 241,
   "metadata": {},
   "outputs": [
    {
     "data": {
      "text/plain": [
       "Location         183\n",
       "Period           183\n",
       "Indicator        183\n",
       "Dim1             183\n",
       "First Tooltip    183\n",
       "dtype: int64"
      ]
     },
     "execution_count": 241,
     "metadata": {},
     "output_type": "execute_result"
    }
   ],
   "source": [
    "hleb_bs[hleb_bs['Period'] == 2015].count()"
   ]
  },
  {
   "cell_type": "code",
   "execution_count": 242,
   "metadata": {},
   "outputs": [
    {
     "data": {
      "text/plain": [
       "Location         183\n",
       "Period           183\n",
       "Indicator        183\n",
       "Dim1             183\n",
       "First Tooltip    183\n",
       "dtype: int64"
      ]
     },
     "execution_count": 242,
     "metadata": {},
     "output_type": "execute_result"
    }
   ],
   "source": [
    "hleb_bs[hleb_bs['Period'] == 2010].count()"
   ]
  },
  {
   "cell_type": "code",
   "execution_count": 243,
   "metadata": {},
   "outputs": [
    {
     "data": {
      "text/plain": [
       "Location         183\n",
       "Period           183\n",
       "Indicator        183\n",
       "Dim1             183\n",
       "First Tooltip    183\n",
       "dtype: int64"
      ]
     },
     "execution_count": 243,
     "metadata": {},
     "output_type": "execute_result"
    }
   ],
   "source": [
    "hleb_bs[hleb_bs['Period'] == 2000].count()"
   ]
  },
  {
   "cell_type": "markdown",
   "metadata": {},
   "source": [
    "## Dataset to export"
   ]
  },
  {
   "cell_type": "code",
   "execution_count": 244,
   "metadata": {},
   "outputs": [
    {
     "data": {
      "text/html": [
       "<div>\n",
       "<style scoped>\n",
       "    .dataframe tbody tr th:only-of-type {\n",
       "        vertical-align: middle;\n",
       "    }\n",
       "\n",
       "    .dataframe tbody tr th {\n",
       "        vertical-align: top;\n",
       "    }\n",
       "\n",
       "    .dataframe thead th {\n",
       "        text-align: right;\n",
       "    }\n",
       "</style>\n",
       "<table border=\"1\" class=\"dataframe\">\n",
       "  <thead>\n",
       "    <tr style=\"text-align: right;\">\n",
       "      <th></th>\n",
       "      <th>Location</th>\n",
       "      <th>Period</th>\n",
       "      <th>Indicator</th>\n",
       "      <th>Dim1</th>\n",
       "      <th>First Tooltip</th>\n",
       "    </tr>\n",
       "  </thead>\n",
       "  <tbody>\n",
       "    <tr>\n",
       "      <th>0</th>\n",
       "      <td>Afghanistan</td>\n",
       "      <td>2019</td>\n",
       "      <td>Healthy life expectancy (HALE) at birth (years)</td>\n",
       "      <td>Both sexes</td>\n",
       "      <td>53.95</td>\n",
       "    </tr>\n",
       "    <tr>\n",
       "      <th>12</th>\n",
       "      <td>Albania</td>\n",
       "      <td>2019</td>\n",
       "      <td>Healthy life expectancy (HALE) at birth (years)</td>\n",
       "      <td>Both sexes</td>\n",
       "      <td>69.08</td>\n",
       "    </tr>\n",
       "    <tr>\n",
       "      <th>24</th>\n",
       "      <td>Algeria</td>\n",
       "      <td>2019</td>\n",
       "      <td>Healthy life expectancy (HALE) at birth (years)</td>\n",
       "      <td>Both sexes</td>\n",
       "      <td>66.39</td>\n",
       "    </tr>\n",
       "    <tr>\n",
       "      <th>36</th>\n",
       "      <td>Angola</td>\n",
       "      <td>2019</td>\n",
       "      <td>Healthy life expectancy (HALE) at birth (years)</td>\n",
       "      <td>Both sexes</td>\n",
       "      <td>54.84</td>\n",
       "    </tr>\n",
       "    <tr>\n",
       "      <th>48</th>\n",
       "      <td>Antigua and Barbuda</td>\n",
       "      <td>2019</td>\n",
       "      <td>Healthy life expectancy (HALE) at birth (years)</td>\n",
       "      <td>Both sexes</td>\n",
       "      <td>66.97</td>\n",
       "    </tr>\n",
       "    <tr>\n",
       "      <th>...</th>\n",
       "      <td>...</td>\n",
       "      <td>...</td>\n",
       "      <td>...</td>\n",
       "      <td>...</td>\n",
       "      <td>...</td>\n",
       "    </tr>\n",
       "    <tr>\n",
       "      <th>2136</th>\n",
       "      <td>Venezuela (Bolivarian Republic of)</td>\n",
       "      <td>2019</td>\n",
       "      <td>Healthy life expectancy (HALE) at birth (years)</td>\n",
       "      <td>Both sexes</td>\n",
       "      <td>64.44</td>\n",
       "    </tr>\n",
       "    <tr>\n",
       "      <th>2148</th>\n",
       "      <td>Viet Nam</td>\n",
       "      <td>2019</td>\n",
       "      <td>Healthy life expectancy (HALE) at birth (years)</td>\n",
       "      <td>Both sexes</td>\n",
       "      <td>65.30</td>\n",
       "    </tr>\n",
       "    <tr>\n",
       "      <th>2160</th>\n",
       "      <td>Yemen</td>\n",
       "      <td>2019</td>\n",
       "      <td>Healthy life expectancy (HALE) at birth (years)</td>\n",
       "      <td>Both sexes</td>\n",
       "      <td>57.53</td>\n",
       "    </tr>\n",
       "    <tr>\n",
       "      <th>2172</th>\n",
       "      <td>Zambia</td>\n",
       "      <td>2019</td>\n",
       "      <td>Healthy life expectancy (HALE) at birth (years)</td>\n",
       "      <td>Both sexes</td>\n",
       "      <td>54.40</td>\n",
       "    </tr>\n",
       "    <tr>\n",
       "      <th>2184</th>\n",
       "      <td>Zimbabwe</td>\n",
       "      <td>2019</td>\n",
       "      <td>Healthy life expectancy (HALE) at birth (years)</td>\n",
       "      <td>Both sexes</td>\n",
       "      <td>53.07</td>\n",
       "    </tr>\n",
       "  </tbody>\n",
       "</table>\n",
       "<p>183 rows × 5 columns</p>\n",
       "</div>"
      ],
      "text/plain": [
       "                                Location  Period  \\\n",
       "0                            Afghanistan    2019   \n",
       "12                               Albania    2019   \n",
       "24                               Algeria    2019   \n",
       "36                                Angola    2019   \n",
       "48                   Antigua and Barbuda    2019   \n",
       "...                                  ...     ...   \n",
       "2136  Venezuela (Bolivarian Republic of)    2019   \n",
       "2148                            Viet Nam    2019   \n",
       "2160                               Yemen    2019   \n",
       "2172                              Zambia    2019   \n",
       "2184                            Zimbabwe    2019   \n",
       "\n",
       "                                            Indicator        Dim1  \\\n",
       "0     Healthy life expectancy (HALE) at birth (years)  Both sexes   \n",
       "12    Healthy life expectancy (HALE) at birth (years)  Both sexes   \n",
       "24    Healthy life expectancy (HALE) at birth (years)  Both sexes   \n",
       "36    Healthy life expectancy (HALE) at birth (years)  Both sexes   \n",
       "48    Healthy life expectancy (HALE) at birth (years)  Both sexes   \n",
       "...                                               ...         ...   \n",
       "2136  Healthy life expectancy (HALE) at birth (years)  Both sexes   \n",
       "2148  Healthy life expectancy (HALE) at birth (years)  Both sexes   \n",
       "2160  Healthy life expectancy (HALE) at birth (years)  Both sexes   \n",
       "2172  Healthy life expectancy (HALE) at birth (years)  Both sexes   \n",
       "2184  Healthy life expectancy (HALE) at birth (years)  Both sexes   \n",
       "\n",
       "      First Tooltip  \n",
       "0             53.95  \n",
       "12            69.08  \n",
       "24            66.39  \n",
       "36            54.84  \n",
       "48            66.97  \n",
       "...             ...  \n",
       "2136          64.44  \n",
       "2148          65.30  \n",
       "2160          57.53  \n",
       "2172          54.40  \n",
       "2184          53.07  \n",
       "\n",
       "[183 rows x 5 columns]"
      ]
     },
     "execution_count": 244,
     "metadata": {},
     "output_type": "execute_result"
    }
   ],
   "source": [
    "hleb_2019 = hleb_bs[hleb_bs['Period'] == 2019]\n",
    "hleb_2019"
   ]
  },
  {
   "cell_type": "markdown",
   "metadata": {},
   "source": [
    "## Dataset to export"
   ]
  },
  {
   "cell_type": "code",
   "execution_count": 245,
   "metadata": {},
   "outputs": [
    {
     "data": {
      "text/html": [
       "<div>\n",
       "<style scoped>\n",
       "    .dataframe tbody tr th:only-of-type {\n",
       "        vertical-align: middle;\n",
       "    }\n",
       "\n",
       "    .dataframe tbody tr th {\n",
       "        vertical-align: top;\n",
       "    }\n",
       "\n",
       "    .dataframe thead th {\n",
       "        text-align: right;\n",
       "    }\n",
       "</style>\n",
       "<table border=\"1\" class=\"dataframe\">\n",
       "  <thead>\n",
       "    <tr style=\"text-align: right;\">\n",
       "      <th></th>\n",
       "      <th>Location</th>\n",
       "      <th>Period</th>\n",
       "      <th>Indicator</th>\n",
       "      <th>Dim1</th>\n",
       "      <th>First Tooltip</th>\n",
       "    </tr>\n",
       "  </thead>\n",
       "  <tbody>\n",
       "    <tr>\n",
       "      <th>3</th>\n",
       "      <td>Afghanistan</td>\n",
       "      <td>2015</td>\n",
       "      <td>Healthy life expectancy (HALE) at birth (years)</td>\n",
       "      <td>Both sexes</td>\n",
       "      <td>52.60</td>\n",
       "    </tr>\n",
       "    <tr>\n",
       "      <th>15</th>\n",
       "      <td>Albania</td>\n",
       "      <td>2015</td>\n",
       "      <td>Healthy life expectancy (HALE) at birth (years)</td>\n",
       "      <td>Both sexes</td>\n",
       "      <td>69.03</td>\n",
       "    </tr>\n",
       "    <tr>\n",
       "      <th>27</th>\n",
       "      <td>Algeria</td>\n",
       "      <td>2015</td>\n",
       "      <td>Healthy life expectancy (HALE) at birth (years)</td>\n",
       "      <td>Both sexes</td>\n",
       "      <td>65.99</td>\n",
       "    </tr>\n",
       "    <tr>\n",
       "      <th>39</th>\n",
       "      <td>Angola</td>\n",
       "      <td>2015</td>\n",
       "      <td>Healthy life expectancy (HALE) at birth (years)</td>\n",
       "      <td>Both sexes</td>\n",
       "      <td>53.66</td>\n",
       "    </tr>\n",
       "    <tr>\n",
       "      <th>51</th>\n",
       "      <td>Antigua and Barbuda</td>\n",
       "      <td>2015</td>\n",
       "      <td>Healthy life expectancy (HALE) at birth (years)</td>\n",
       "      <td>Both sexes</td>\n",
       "      <td>66.81</td>\n",
       "    </tr>\n",
       "    <tr>\n",
       "      <th>...</th>\n",
       "      <td>...</td>\n",
       "      <td>...</td>\n",
       "      <td>...</td>\n",
       "      <td>...</td>\n",
       "      <td>...</td>\n",
       "    </tr>\n",
       "    <tr>\n",
       "      <th>2139</th>\n",
       "      <td>Venezuela (Bolivarian Republic of)</td>\n",
       "      <td>2015</td>\n",
       "      <td>Healthy life expectancy (HALE) at birth (years)</td>\n",
       "      <td>Both sexes</td>\n",
       "      <td>65.10</td>\n",
       "    </tr>\n",
       "    <tr>\n",
       "      <th>2151</th>\n",
       "      <td>Viet Nam</td>\n",
       "      <td>2015</td>\n",
       "      <td>Healthy life expectancy (HALE) at birth (years)</td>\n",
       "      <td>Both sexes</td>\n",
       "      <td>64.89</td>\n",
       "    </tr>\n",
       "    <tr>\n",
       "      <th>2163</th>\n",
       "      <td>Yemen</td>\n",
       "      <td>2015</td>\n",
       "      <td>Healthy life expectancy (HALE) at birth (years)</td>\n",
       "      <td>Both sexes</td>\n",
       "      <td>58.38</td>\n",
       "    </tr>\n",
       "    <tr>\n",
       "      <th>2175</th>\n",
       "      <td>Zambia</td>\n",
       "      <td>2015</td>\n",
       "      <td>Healthy life expectancy (HALE) at birth (years)</td>\n",
       "      <td>Both sexes</td>\n",
       "      <td>52.71</td>\n",
       "    </tr>\n",
       "    <tr>\n",
       "      <th>2187</th>\n",
       "      <td>Zimbabwe</td>\n",
       "      <td>2015</td>\n",
       "      <td>Healthy life expectancy (HALE) at birth (years)</td>\n",
       "      <td>Both sexes</td>\n",
       "      <td>51.17</td>\n",
       "    </tr>\n",
       "  </tbody>\n",
       "</table>\n",
       "<p>183 rows × 5 columns</p>\n",
       "</div>"
      ],
      "text/plain": [
       "                                Location  Period  \\\n",
       "3                            Afghanistan    2015   \n",
       "15                               Albania    2015   \n",
       "27                               Algeria    2015   \n",
       "39                                Angola    2015   \n",
       "51                   Antigua and Barbuda    2015   \n",
       "...                                  ...     ...   \n",
       "2139  Venezuela (Bolivarian Republic of)    2015   \n",
       "2151                            Viet Nam    2015   \n",
       "2163                               Yemen    2015   \n",
       "2175                              Zambia    2015   \n",
       "2187                            Zimbabwe    2015   \n",
       "\n",
       "                                            Indicator        Dim1  \\\n",
       "3     Healthy life expectancy (HALE) at birth (years)  Both sexes   \n",
       "15    Healthy life expectancy (HALE) at birth (years)  Both sexes   \n",
       "27    Healthy life expectancy (HALE) at birth (years)  Both sexes   \n",
       "39    Healthy life expectancy (HALE) at birth (years)  Both sexes   \n",
       "51    Healthy life expectancy (HALE) at birth (years)  Both sexes   \n",
       "...                                               ...         ...   \n",
       "2139  Healthy life expectancy (HALE) at birth (years)  Both sexes   \n",
       "2151  Healthy life expectancy (HALE) at birth (years)  Both sexes   \n",
       "2163  Healthy life expectancy (HALE) at birth (years)  Both sexes   \n",
       "2175  Healthy life expectancy (HALE) at birth (years)  Both sexes   \n",
       "2187  Healthy life expectancy (HALE) at birth (years)  Both sexes   \n",
       "\n",
       "      First Tooltip  \n",
       "3             52.60  \n",
       "15            69.03  \n",
       "27            65.99  \n",
       "39            53.66  \n",
       "51            66.81  \n",
       "...             ...  \n",
       "2139          65.10  \n",
       "2151          64.89  \n",
       "2163          58.38  \n",
       "2175          52.71  \n",
       "2187          51.17  \n",
       "\n",
       "[183 rows x 5 columns]"
      ]
     },
     "execution_count": 245,
     "metadata": {},
     "output_type": "execute_result"
    }
   ],
   "source": [
    "hleb_2015 = hleb_bs[hleb_bs['Period'] == 2015]\n",
    "hleb_2015"
   ]
  },
  {
   "cell_type": "code",
   "execution_count": null,
   "metadata": {},
   "outputs": [],
   "source": []
  },
  {
   "cell_type": "markdown",
   "metadata": {},
   "source": [
    "## Healthy Life Expectancy at Birth WHO Region - IGNORE"
   ]
  },
  {
   "cell_type": "code",
   "execution_count": null,
   "metadata": {},
   "outputs": [],
   "source": []
  },
  {
   "cell_type": "markdown",
   "metadata": {},
   "source": [
    "## Hepatitis B Surface Antigen"
   ]
  },
  {
   "cell_type": "code",
   "execution_count": 247,
   "metadata": {},
   "outputs": [
    {
     "data": {
      "text/html": [
       "<div>\n",
       "<style scoped>\n",
       "    .dataframe tbody tr th:only-of-type {\n",
       "        vertical-align: middle;\n",
       "    }\n",
       "\n",
       "    .dataframe tbody tr th {\n",
       "        vertical-align: top;\n",
       "    }\n",
       "\n",
       "    .dataframe thead th {\n",
       "        text-align: right;\n",
       "    }\n",
       "</style>\n",
       "<table border=\"1\" class=\"dataframe\">\n",
       "  <thead>\n",
       "    <tr style=\"text-align: right;\">\n",
       "      <th></th>\n",
       "      <th>Location</th>\n",
       "      <th>Indicator</th>\n",
       "      <th>Period</th>\n",
       "      <th>First Tooltip</th>\n",
       "    </tr>\n",
       "  </thead>\n",
       "  <tbody>\n",
       "    <tr>\n",
       "      <th>0</th>\n",
       "      <td>Afghanistan</td>\n",
       "      <td>Hepatitis B surface antigen (HBsAg) prevalence...</td>\n",
       "      <td>2015</td>\n",
       "      <td>0.5 [0.29-0.78]</td>\n",
       "    </tr>\n",
       "    <tr>\n",
       "      <th>1</th>\n",
       "      <td>Albania</td>\n",
       "      <td>Hepatitis B surface antigen (HBsAg) prevalence...</td>\n",
       "      <td>2015</td>\n",
       "      <td>1.29 [0.83-1.91]</td>\n",
       "    </tr>\n",
       "    <tr>\n",
       "      <th>2</th>\n",
       "      <td>Algeria</td>\n",
       "      <td>Hepatitis B surface antigen (HBsAg) prevalence...</td>\n",
       "      <td>2015</td>\n",
       "      <td>0.22 [0.12-0.34]</td>\n",
       "    </tr>\n",
       "    <tr>\n",
       "      <th>3</th>\n",
       "      <td>Andorra</td>\n",
       "      <td>Hepatitis B surface antigen (HBsAg) prevalence...</td>\n",
       "      <td>2015</td>\n",
       "      <td>0.08 [0-1.65]</td>\n",
       "    </tr>\n",
       "    <tr>\n",
       "      <th>4</th>\n",
       "      <td>Angola</td>\n",
       "      <td>Hepatitis B surface antigen (HBsAg) prevalence...</td>\n",
       "      <td>2015</td>\n",
       "      <td>4.85 [3.29-6.81]</td>\n",
       "    </tr>\n",
       "    <tr>\n",
       "      <th>...</th>\n",
       "      <td>...</td>\n",
       "      <td>...</td>\n",
       "      <td>...</td>\n",
       "      <td>...</td>\n",
       "    </tr>\n",
       "    <tr>\n",
       "      <th>189</th>\n",
       "      <td>Venezuela (Bolivarian Republic of)</td>\n",
       "      <td>Hepatitis B surface antigen (HBsAg) prevalence...</td>\n",
       "      <td>2015</td>\n",
       "      <td>0.62 [0.41-0.91]</td>\n",
       "    </tr>\n",
       "    <tr>\n",
       "      <th>190</th>\n",
       "      <td>Viet Nam</td>\n",
       "      <td>Hepatitis B surface antigen (HBsAg) prevalence...</td>\n",
       "      <td>2015</td>\n",
       "      <td>1.2 [0.84-1.62]</td>\n",
       "    </tr>\n",
       "    <tr>\n",
       "      <th>191</th>\n",
       "      <td>Yemen</td>\n",
       "      <td>Hepatitis B surface antigen (HBsAg) prevalence...</td>\n",
       "      <td>2015</td>\n",
       "      <td>2.54 [1.82-3.54]</td>\n",
       "    </tr>\n",
       "    <tr>\n",
       "      <th>192</th>\n",
       "      <td>Zambia</td>\n",
       "      <td>Hepatitis B surface antigen (HBsAg) prevalence...</td>\n",
       "      <td>2015</td>\n",
       "      <td>1.84 [1.17-2.76]</td>\n",
       "    </tr>\n",
       "    <tr>\n",
       "      <th>193</th>\n",
       "      <td>Zimbabwe</td>\n",
       "      <td>Hepatitis B surface antigen (HBsAg) prevalence...</td>\n",
       "      <td>2015</td>\n",
       "      <td>4.38 [2.92-6.33]</td>\n",
       "    </tr>\n",
       "  </tbody>\n",
       "</table>\n",
       "<p>194 rows × 4 columns</p>\n",
       "</div>"
      ],
      "text/plain": [
       "                               Location  \\\n",
       "0                           Afghanistan   \n",
       "1                               Albania   \n",
       "2                               Algeria   \n",
       "3                               Andorra   \n",
       "4                                Angola   \n",
       "..                                  ...   \n",
       "189  Venezuela (Bolivarian Republic of)   \n",
       "190                            Viet Nam   \n",
       "191                               Yemen   \n",
       "192                              Zambia   \n",
       "193                            Zimbabwe   \n",
       "\n",
       "                                             Indicator  Period  \\\n",
       "0    Hepatitis B surface antigen (HBsAg) prevalence...    2015   \n",
       "1    Hepatitis B surface antigen (HBsAg) prevalence...    2015   \n",
       "2    Hepatitis B surface antigen (HBsAg) prevalence...    2015   \n",
       "3    Hepatitis B surface antigen (HBsAg) prevalence...    2015   \n",
       "4    Hepatitis B surface antigen (HBsAg) prevalence...    2015   \n",
       "..                                                 ...     ...   \n",
       "189  Hepatitis B surface antigen (HBsAg) prevalence...    2015   \n",
       "190  Hepatitis B surface antigen (HBsAg) prevalence...    2015   \n",
       "191  Hepatitis B surface antigen (HBsAg) prevalence...    2015   \n",
       "192  Hepatitis B surface antigen (HBsAg) prevalence...    2015   \n",
       "193  Hepatitis B surface antigen (HBsAg) prevalence...    2015   \n",
       "\n",
       "        First Tooltip  \n",
       "0     0.5 [0.29-0.78]  \n",
       "1    1.29 [0.83-1.91]  \n",
       "2    0.22 [0.12-0.34]  \n",
       "3       0.08 [0-1.65]  \n",
       "4    4.85 [3.29-6.81]  \n",
       "..                ...  \n",
       "189  0.62 [0.41-0.91]  \n",
       "190   1.2 [0.84-1.62]  \n",
       "191  2.54 [1.82-3.54]  \n",
       "192  1.84 [1.17-2.76]  \n",
       "193  4.38 [2.92-6.33]  \n",
       "\n",
       "[194 rows x 4 columns]"
      ]
     },
     "execution_count": 247,
     "metadata": {},
     "output_type": "execute_result"
    }
   ],
   "source": [
    "hepb_data = pd.read_csv(WHS_path/'hepatitusBsurfaceAntigen.csv')\n",
    "hepb_data"
   ]
  },
  {
   "cell_type": "code",
   "execution_count": 248,
   "metadata": {},
   "outputs": [
    {
     "data": {
      "text/plain": [
       "Location         194\n",
       "Indicator        194\n",
       "Period           194\n",
       "First Tooltip    194\n",
       "dtype: int64"
      ]
     },
     "execution_count": 248,
     "metadata": {},
     "output_type": "execute_result"
    }
   ],
   "source": [
    "hepb_data.isnull().count()"
   ]
  },
  {
   "cell_type": "code",
   "execution_count": 249,
   "metadata": {},
   "outputs": [
    {
     "data": {
      "text/html": [
       "<div>\n",
       "<style scoped>\n",
       "    .dataframe tbody tr th:only-of-type {\n",
       "        vertical-align: middle;\n",
       "    }\n",
       "\n",
       "    .dataframe tbody tr th {\n",
       "        vertical-align: top;\n",
       "    }\n",
       "\n",
       "    .dataframe thead th {\n",
       "        text-align: right;\n",
       "    }\n",
       "</style>\n",
       "<table border=\"1\" class=\"dataframe\">\n",
       "  <thead>\n",
       "    <tr style=\"text-align: right;\">\n",
       "      <th></th>\n",
       "      <th>Location</th>\n",
       "      <th>Indicator</th>\n",
       "      <th>Period</th>\n",
       "      <th>First Tooltip</th>\n",
       "    </tr>\n",
       "  </thead>\n",
       "  <tbody>\n",
       "  </tbody>\n",
       "</table>\n",
       "</div>"
      ],
      "text/plain": [
       "Empty DataFrame\n",
       "Columns: [Location, Indicator, Period, First Tooltip]\n",
       "Index: []"
      ]
     },
     "execution_count": 249,
     "metadata": {},
     "output_type": "execute_result"
    }
   ],
   "source": [
    "hepb_data[hepb_data['First Tooltip'] == 0.0]"
   ]
  },
  {
   "cell_type": "code",
   "execution_count": 250,
   "metadata": {},
   "outputs": [
    {
     "data": {
      "text/plain": [
       "array(['Hepatitis B surface antigen (HBsAg) prevalence among children under 5 years (%)'],\n",
       "      dtype=object)"
      ]
     },
     "execution_count": 250,
     "metadata": {},
     "output_type": "execute_result"
    }
   ],
   "source": [
    "hepb_data['Indicator'].unique()"
   ]
  },
  {
   "cell_type": "markdown",
   "metadata": {},
   "source": [
    "The only year is in 2015"
   ]
  },
  {
   "cell_type": "code",
   "execution_count": 251,
   "metadata": {},
   "outputs": [
    {
     "data": {
      "text/plain": [
       "array([2015])"
      ]
     },
     "execution_count": 251,
     "metadata": {},
     "output_type": "execute_result"
    }
   ],
   "source": [
    "hepb_data['Period'].unique()"
   ]
  },
  {
   "cell_type": "markdown",
   "metadata": {},
   "source": [
    "## HepB data only has 1 year. May be best to ignore."
   ]
  },
  {
   "cell_type": "code",
   "execution_count": null,
   "metadata": {},
   "outputs": [],
   "source": []
  },
  {
   "cell_type": "markdown",
   "metadata": {},
   "source": [
    "## Malaria"
   ]
  },
  {
   "cell_type": "code",
   "execution_count": 256,
   "metadata": {},
   "outputs": [
    {
     "data": {
      "text/html": [
       "<div>\n",
       "<style scoped>\n",
       "    .dataframe tbody tr th:only-of-type {\n",
       "        vertical-align: middle;\n",
       "    }\n",
       "\n",
       "    .dataframe tbody tr th {\n",
       "        vertical-align: top;\n",
       "    }\n",
       "\n",
       "    .dataframe thead th {\n",
       "        text-align: right;\n",
       "    }\n",
       "</style>\n",
       "<table border=\"1\" class=\"dataframe\">\n",
       "  <thead>\n",
       "    <tr style=\"text-align: right;\">\n",
       "      <th></th>\n",
       "      <th>Location</th>\n",
       "      <th>Indicator</th>\n",
       "      <th>Period</th>\n",
       "      <th>First Tooltip</th>\n",
       "    </tr>\n",
       "  </thead>\n",
       "  <tbody>\n",
       "    <tr>\n",
       "      <th>0</th>\n",
       "      <td>Afghanistan</td>\n",
       "      <td>Malaria incidence (per 1 000 population at risk)</td>\n",
       "      <td>2018</td>\n",
       "      <td>29.01</td>\n",
       "    </tr>\n",
       "    <tr>\n",
       "      <th>1</th>\n",
       "      <td>Afghanistan</td>\n",
       "      <td>Malaria incidence (per 1 000 population at risk)</td>\n",
       "      <td>2017</td>\n",
       "      <td>27.07</td>\n",
       "    </tr>\n",
       "    <tr>\n",
       "      <th>2</th>\n",
       "      <td>Afghanistan</td>\n",
       "      <td>Malaria incidence (per 1 000 population at risk)</td>\n",
       "      <td>2016</td>\n",
       "      <td>26.11</td>\n",
       "    </tr>\n",
       "    <tr>\n",
       "      <th>3</th>\n",
       "      <td>Afghanistan</td>\n",
       "      <td>Malaria incidence (per 1 000 population at risk)</td>\n",
       "      <td>2015</td>\n",
       "      <td>14.91</td>\n",
       "    </tr>\n",
       "    <tr>\n",
       "      <th>4</th>\n",
       "      <td>Afghanistan</td>\n",
       "      <td>Malaria incidence (per 1 000 population at risk)</td>\n",
       "      <td>2014</td>\n",
       "      <td>12.67</td>\n",
       "    </tr>\n",
       "    <tr>\n",
       "      <th>...</th>\n",
       "      <td>...</td>\n",
       "      <td>...</td>\n",
       "      <td>...</td>\n",
       "      <td>...</td>\n",
       "    </tr>\n",
       "    <tr>\n",
       "      <th>2028</th>\n",
       "      <td>Zimbabwe</td>\n",
       "      <td>Malaria incidence (per 1 000 population at risk)</td>\n",
       "      <td>2004</td>\n",
       "      <td>120.20</td>\n",
       "    </tr>\n",
       "    <tr>\n",
       "      <th>2029</th>\n",
       "      <td>Zimbabwe</td>\n",
       "      <td>Malaria incidence (per 1 000 population at risk)</td>\n",
       "      <td>2003</td>\n",
       "      <td>120.90</td>\n",
       "    </tr>\n",
       "    <tr>\n",
       "      <th>2030</th>\n",
       "      <td>Zimbabwe</td>\n",
       "      <td>Malaria incidence (per 1 000 population at risk)</td>\n",
       "      <td>2002</td>\n",
       "      <td>121.50</td>\n",
       "    </tr>\n",
       "    <tr>\n",
       "      <th>2031</th>\n",
       "      <td>Zimbabwe</td>\n",
       "      <td>Malaria incidence (per 1 000 population at risk)</td>\n",
       "      <td>2001</td>\n",
       "      <td>122.10</td>\n",
       "    </tr>\n",
       "    <tr>\n",
       "      <th>2032</th>\n",
       "      <td>Zimbabwe</td>\n",
       "      <td>Malaria incidence (per 1 000 population at risk)</td>\n",
       "      <td>2000</td>\n",
       "      <td>123.00</td>\n",
       "    </tr>\n",
       "  </tbody>\n",
       "</table>\n",
       "<p>2033 rows × 4 columns</p>\n",
       "</div>"
      ],
      "text/plain": [
       "         Location                                         Indicator  Period  \\\n",
       "0     Afghanistan  Malaria incidence (per 1 000 population at risk)    2018   \n",
       "1     Afghanistan  Malaria incidence (per 1 000 population at risk)    2017   \n",
       "2     Afghanistan  Malaria incidence (per 1 000 population at risk)    2016   \n",
       "3     Afghanistan  Malaria incidence (per 1 000 population at risk)    2015   \n",
       "4     Afghanistan  Malaria incidence (per 1 000 population at risk)    2014   \n",
       "...           ...                                               ...     ...   \n",
       "2028     Zimbabwe  Malaria incidence (per 1 000 population at risk)    2004   \n",
       "2029     Zimbabwe  Malaria incidence (per 1 000 population at risk)    2003   \n",
       "2030     Zimbabwe  Malaria incidence (per 1 000 population at risk)    2002   \n",
       "2031     Zimbabwe  Malaria incidence (per 1 000 population at risk)    2001   \n",
       "2032     Zimbabwe  Malaria incidence (per 1 000 population at risk)    2000   \n",
       "\n",
       "      First Tooltip  \n",
       "0             29.01  \n",
       "1             27.07  \n",
       "2             26.11  \n",
       "3             14.91  \n",
       "4             12.67  \n",
       "...             ...  \n",
       "2028         120.20  \n",
       "2029         120.90  \n",
       "2030         121.50  \n",
       "2031         122.10  \n",
       "2032         123.00  \n",
       "\n",
       "[2033 rows x 4 columns]"
      ]
     },
     "execution_count": 256,
     "metadata": {},
     "output_type": "execute_result"
    }
   ],
   "source": [
    "malaria_data = pd.read_csv(WHS_path/'incedenceOfMalaria.csv')\n",
    "malaria_data"
   ]
  },
  {
   "cell_type": "code",
   "execution_count": 257,
   "metadata": {},
   "outputs": [
    {
     "data": {
      "text/plain": [
       "Location         2033\n",
       "Indicator        2033\n",
       "Period           2033\n",
       "First Tooltip    2033\n",
       "dtype: int64"
      ]
     },
     "execution_count": 257,
     "metadata": {},
     "output_type": "execute_result"
    }
   ],
   "source": [
    "malaria_data.isnull().count()"
   ]
  },
  {
   "cell_type": "markdown",
   "metadata": {},
   "source": [
    "This dataset has a high number of zeros. The data has a chance of being accurrate or inaccurate. I guess it depends if mosquitos can be found in that country."
   ]
  },
  {
   "cell_type": "code",
   "execution_count": 261,
   "metadata": {},
   "outputs": [
    {
     "data": {
      "text/html": [
       "<div>\n",
       "<style scoped>\n",
       "    .dataframe tbody tr th:only-of-type {\n",
       "        vertical-align: middle;\n",
       "    }\n",
       "\n",
       "    .dataframe tbody tr th {\n",
       "        vertical-align: top;\n",
       "    }\n",
       "\n",
       "    .dataframe thead th {\n",
       "        text-align: right;\n",
       "    }\n",
       "</style>\n",
       "<table border=\"1\" class=\"dataframe\">\n",
       "  <thead>\n",
       "    <tr style=\"text-align: right;\">\n",
       "      <th></th>\n",
       "      <th>Location</th>\n",
       "      <th>Indicator</th>\n",
       "      <th>Period</th>\n",
       "      <th>First Tooltip</th>\n",
       "    </tr>\n",
       "  </thead>\n",
       "  <tbody>\n",
       "    <tr>\n",
       "      <th>19</th>\n",
       "      <td>Algeria</td>\n",
       "      <td>Malaria incidence (per 1 000 population at risk)</td>\n",
       "      <td>2018</td>\n",
       "      <td>0.0</td>\n",
       "    </tr>\n",
       "    <tr>\n",
       "      <th>20</th>\n",
       "      <td>Algeria</td>\n",
       "      <td>Malaria incidence (per 1 000 population at risk)</td>\n",
       "      <td>2017</td>\n",
       "      <td>0.0</td>\n",
       "    </tr>\n",
       "    <tr>\n",
       "      <th>21</th>\n",
       "      <td>Algeria</td>\n",
       "      <td>Malaria incidence (per 1 000 population at risk)</td>\n",
       "      <td>2016</td>\n",
       "      <td>0.0</td>\n",
       "    </tr>\n",
       "    <tr>\n",
       "      <th>22</th>\n",
       "      <td>Algeria</td>\n",
       "      <td>Malaria incidence (per 1 000 population at risk)</td>\n",
       "      <td>2015</td>\n",
       "      <td>0.0</td>\n",
       "    </tr>\n",
       "    <tr>\n",
       "      <th>23</th>\n",
       "      <td>Algeria</td>\n",
       "      <td>Malaria incidence (per 1 000 population at risk)</td>\n",
       "      <td>2014</td>\n",
       "      <td>0.0</td>\n",
       "    </tr>\n",
       "    <tr>\n",
       "      <th>...</th>\n",
       "      <td>...</td>\n",
       "      <td>...</td>\n",
       "      <td>...</td>\n",
       "      <td>...</td>\n",
       "    </tr>\n",
       "    <tr>\n",
       "      <th>1904</th>\n",
       "      <td>Uzbekistan</td>\n",
       "      <td>Malaria incidence (per 1 000 population at risk)</td>\n",
       "      <td>2014</td>\n",
       "      <td>0.0</td>\n",
       "    </tr>\n",
       "    <tr>\n",
       "      <th>1905</th>\n",
       "      <td>Uzbekistan</td>\n",
       "      <td>Malaria incidence (per 1 000 population at risk)</td>\n",
       "      <td>2013</td>\n",
       "      <td>0.0</td>\n",
       "    </tr>\n",
       "    <tr>\n",
       "      <th>1906</th>\n",
       "      <td>Uzbekistan</td>\n",
       "      <td>Malaria incidence (per 1 000 population at risk)</td>\n",
       "      <td>2012</td>\n",
       "      <td>0.0</td>\n",
       "    </tr>\n",
       "    <tr>\n",
       "      <th>1907</th>\n",
       "      <td>Uzbekistan</td>\n",
       "      <td>Malaria incidence (per 1 000 population at risk)</td>\n",
       "      <td>2011</td>\n",
       "      <td>0.0</td>\n",
       "    </tr>\n",
       "    <tr>\n",
       "      <th>1909</th>\n",
       "      <td>Uzbekistan</td>\n",
       "      <td>Malaria incidence (per 1 000 population at risk)</td>\n",
       "      <td>2009</td>\n",
       "      <td>0.0</td>\n",
       "    </tr>\n",
       "  </tbody>\n",
       "</table>\n",
       "<p>221 rows × 4 columns</p>\n",
       "</div>"
      ],
      "text/plain": [
       "        Location                                         Indicator  Period  \\\n",
       "19       Algeria  Malaria incidence (per 1 000 population at risk)    2018   \n",
       "20       Algeria  Malaria incidence (per 1 000 population at risk)    2017   \n",
       "21       Algeria  Malaria incidence (per 1 000 population at risk)    2016   \n",
       "22       Algeria  Malaria incidence (per 1 000 population at risk)    2015   \n",
       "23       Algeria  Malaria incidence (per 1 000 population at risk)    2014   \n",
       "...          ...                                               ...     ...   \n",
       "1904  Uzbekistan  Malaria incidence (per 1 000 population at risk)    2014   \n",
       "1905  Uzbekistan  Malaria incidence (per 1 000 population at risk)    2013   \n",
       "1906  Uzbekistan  Malaria incidence (per 1 000 population at risk)    2012   \n",
       "1907  Uzbekistan  Malaria incidence (per 1 000 population at risk)    2011   \n",
       "1909  Uzbekistan  Malaria incidence (per 1 000 population at risk)    2009   \n",
       "\n",
       "      First Tooltip  \n",
       "19              0.0  \n",
       "20              0.0  \n",
       "21              0.0  \n",
       "22              0.0  \n",
       "23              0.0  \n",
       "...             ...  \n",
       "1904            0.0  \n",
       "1905            0.0  \n",
       "1906            0.0  \n",
       "1907            0.0  \n",
       "1909            0.0  \n",
       "\n",
       "[221 rows x 4 columns]"
      ]
     },
     "execution_count": 261,
     "metadata": {},
     "output_type": "execute_result"
    }
   ],
   "source": [
    "malaria_data[malaria_data['First Tooltip'] == 0.0]"
   ]
  },
  {
   "cell_type": "code",
   "execution_count": 262,
   "metadata": {},
   "outputs": [
    {
     "data": {
      "text/plain": [
       "array(['Malaria incidence (per 1 000 population at risk)'], dtype=object)"
      ]
     },
     "execution_count": 262,
     "metadata": {},
     "output_type": "execute_result"
    }
   ],
   "source": [
    "malaria_data['Indicator'].unique()"
   ]
  },
  {
   "cell_type": "markdown",
   "metadata": {},
   "source": [
    "All years have the exact same number at 107! For that reason, I'm just selecting 2015 and 2016."
   ]
  },
  {
   "cell_type": "code",
   "execution_count": 263,
   "metadata": {},
   "outputs": [
    {
     "data": {
      "text/plain": [
       "array([2018, 2017, 2016, 2015, 2014, 2013, 2012, 2011, 2010, 2009, 2008,\n",
       "       2007, 2006, 2005, 2004, 2003, 2002, 2001, 2000])"
      ]
     },
     "execution_count": 263,
     "metadata": {},
     "output_type": "execute_result"
    }
   ],
   "source": [
    "malaria_data['Period'].unique()"
   ]
  },
  {
   "cell_type": "code",
   "execution_count": 265,
   "metadata": {},
   "outputs": [
    {
     "data": {
      "text/plain": [
       "Location         107\n",
       "Indicator        107\n",
       "Period           107\n",
       "First Tooltip    107\n",
       "dtype: int64"
      ]
     },
     "execution_count": 265,
     "metadata": {},
     "output_type": "execute_result"
    }
   ],
   "source": [
    "malaria_data[malaria_data['Period'] == 2018].count()"
   ]
  },
  {
   "cell_type": "code",
   "execution_count": 266,
   "metadata": {},
   "outputs": [
    {
     "data": {
      "text/plain": [
       "Location         107\n",
       "Indicator        107\n",
       "Period           107\n",
       "First Tooltip    107\n",
       "dtype: int64"
      ]
     },
     "execution_count": 266,
     "metadata": {},
     "output_type": "execute_result"
    }
   ],
   "source": [
    "malaria_data[malaria_data['Period'] == 2017].count()"
   ]
  },
  {
   "cell_type": "code",
   "execution_count": 267,
   "metadata": {},
   "outputs": [
    {
     "data": {
      "text/plain": [
       "Location         107\n",
       "Indicator        107\n",
       "Period           107\n",
       "First Tooltip    107\n",
       "dtype: int64"
      ]
     },
     "execution_count": 267,
     "metadata": {},
     "output_type": "execute_result"
    }
   ],
   "source": [
    "malaria_data[malaria_data['Period'] == 2016].count()"
   ]
  },
  {
   "cell_type": "code",
   "execution_count": 268,
   "metadata": {},
   "outputs": [
    {
     "data": {
      "text/plain": [
       "Location         107\n",
       "Indicator        107\n",
       "Period           107\n",
       "First Tooltip    107\n",
       "dtype: int64"
      ]
     },
     "execution_count": 268,
     "metadata": {},
     "output_type": "execute_result"
    }
   ],
   "source": [
    "malaria_data[malaria_data['Period'] == 2015].count()"
   ]
  },
  {
   "cell_type": "code",
   "execution_count": 269,
   "metadata": {},
   "outputs": [
    {
     "data": {
      "text/plain": [
       "Location         107\n",
       "Indicator        107\n",
       "Period           107\n",
       "First Tooltip    107\n",
       "dtype: int64"
      ]
     },
     "execution_count": 269,
     "metadata": {},
     "output_type": "execute_result"
    }
   ],
   "source": [
    "malaria_data[malaria_data['Period'] == 2014].count()"
   ]
  },
  {
   "cell_type": "code",
   "execution_count": 270,
   "metadata": {},
   "outputs": [
    {
     "data": {
      "text/plain": [
       "Location         107\n",
       "Indicator        107\n",
       "Period           107\n",
       "First Tooltip    107\n",
       "dtype: int64"
      ]
     },
     "execution_count": 270,
     "metadata": {},
     "output_type": "execute_result"
    }
   ],
   "source": [
    "malaria_data[malaria_data['Period'] == 2013].count()"
   ]
  },
  {
   "cell_type": "code",
   "execution_count": 271,
   "metadata": {},
   "outputs": [
    {
     "data": {
      "text/plain": [
       "Location         107\n",
       "Indicator        107\n",
       "Period           107\n",
       "First Tooltip    107\n",
       "dtype: int64"
      ]
     },
     "execution_count": 271,
     "metadata": {},
     "output_type": "execute_result"
    }
   ],
   "source": [
    "malaria_data[malaria_data['Period'] == 2012].count()"
   ]
  },
  {
   "cell_type": "code",
   "execution_count": 272,
   "metadata": {},
   "outputs": [
    {
     "data": {
      "text/plain": [
       "Location         107\n",
       "Indicator        107\n",
       "Period           107\n",
       "First Tooltip    107\n",
       "dtype: int64"
      ]
     },
     "execution_count": 272,
     "metadata": {},
     "output_type": "execute_result"
    }
   ],
   "source": [
    "malaria_data[malaria_data['Period'] == 2011].count()"
   ]
  },
  {
   "cell_type": "code",
   "execution_count": 273,
   "metadata": {},
   "outputs": [
    {
     "data": {
      "text/plain": [
       "Location         107\n",
       "Indicator        107\n",
       "Period           107\n",
       "First Tooltip    107\n",
       "dtype: int64"
      ]
     },
     "execution_count": 273,
     "metadata": {},
     "output_type": "execute_result"
    }
   ],
   "source": [
    "malaria_data[malaria_data['Period'] == 2010].count()"
   ]
  },
  {
   "cell_type": "code",
   "execution_count": 274,
   "metadata": {},
   "outputs": [
    {
     "data": {
      "text/plain": [
       "Location         107\n",
       "Indicator        107\n",
       "Period           107\n",
       "First Tooltip    107\n",
       "dtype: int64"
      ]
     },
     "execution_count": 274,
     "metadata": {},
     "output_type": "execute_result"
    }
   ],
   "source": [
    "malaria_data[malaria_data['Period'] == 2009].count()"
   ]
  },
  {
   "cell_type": "code",
   "execution_count": 275,
   "metadata": {},
   "outputs": [
    {
     "data": {
      "text/plain": [
       "Location         107\n",
       "Indicator        107\n",
       "Period           107\n",
       "First Tooltip    107\n",
       "dtype: int64"
      ]
     },
     "execution_count": 275,
     "metadata": {},
     "output_type": "execute_result"
    }
   ],
   "source": [
    "malaria_data[malaria_data['Period'] == 2008].count()"
   ]
  },
  {
   "cell_type": "code",
   "execution_count": 276,
   "metadata": {},
   "outputs": [
    {
     "data": {
      "text/plain": [
       "Location         107\n",
       "Indicator        107\n",
       "Period           107\n",
       "First Tooltip    107\n",
       "dtype: int64"
      ]
     },
     "execution_count": 276,
     "metadata": {},
     "output_type": "execute_result"
    }
   ],
   "source": [
    "malaria_data[malaria_data['Period'] == 2007].count()"
   ]
  },
  {
   "cell_type": "code",
   "execution_count": 277,
   "metadata": {},
   "outputs": [
    {
     "data": {
      "text/plain": [
       "Location         107\n",
       "Indicator        107\n",
       "Period           107\n",
       "First Tooltip    107\n",
       "dtype: int64"
      ]
     },
     "execution_count": 277,
     "metadata": {},
     "output_type": "execute_result"
    }
   ],
   "source": [
    "malaria_data[malaria_data['Period'] == 2006].count()"
   ]
  },
  {
   "cell_type": "code",
   "execution_count": 278,
   "metadata": {},
   "outputs": [
    {
     "data": {
      "text/plain": [
       "Location         107\n",
       "Indicator        107\n",
       "Period           107\n",
       "First Tooltip    107\n",
       "dtype: int64"
      ]
     },
     "execution_count": 278,
     "metadata": {},
     "output_type": "execute_result"
    }
   ],
   "source": [
    "malaria_data[malaria_data['Period'] == 2005].count()"
   ]
  },
  {
   "cell_type": "code",
   "execution_count": 279,
   "metadata": {},
   "outputs": [
    {
     "data": {
      "text/plain": [
       "Location         107\n",
       "Indicator        107\n",
       "Period           107\n",
       "First Tooltip    107\n",
       "dtype: int64"
      ]
     },
     "execution_count": 279,
     "metadata": {},
     "output_type": "execute_result"
    }
   ],
   "source": [
    "malaria_data[malaria_data['Period'] == 2004].count()"
   ]
  },
  {
   "cell_type": "code",
   "execution_count": 280,
   "metadata": {},
   "outputs": [
    {
     "data": {
      "text/plain": [
       "Location         107\n",
       "Indicator        107\n",
       "Period           107\n",
       "First Tooltip    107\n",
       "dtype: int64"
      ]
     },
     "execution_count": 280,
     "metadata": {},
     "output_type": "execute_result"
    }
   ],
   "source": [
    "malaria_data[malaria_data['Period'] == 2003].count()"
   ]
  },
  {
   "cell_type": "code",
   "execution_count": 281,
   "metadata": {},
   "outputs": [
    {
     "data": {
      "text/plain": [
       "Location         107\n",
       "Indicator        107\n",
       "Period           107\n",
       "First Tooltip    107\n",
       "dtype: int64"
      ]
     },
     "execution_count": 281,
     "metadata": {},
     "output_type": "execute_result"
    }
   ],
   "source": [
    "malaria_data[malaria_data['Period'] == 2002].count()"
   ]
  },
  {
   "cell_type": "code",
   "execution_count": 282,
   "metadata": {},
   "outputs": [
    {
     "data": {
      "text/plain": [
       "Location         107\n",
       "Indicator        107\n",
       "Period           107\n",
       "First Tooltip    107\n",
       "dtype: int64"
      ]
     },
     "execution_count": 282,
     "metadata": {},
     "output_type": "execute_result"
    }
   ],
   "source": [
    "malaria_data[malaria_data['Period'] == 2001].count()"
   ]
  },
  {
   "cell_type": "code",
   "execution_count": 283,
   "metadata": {},
   "outputs": [
    {
     "data": {
      "text/plain": [
       "Location         107\n",
       "Indicator        107\n",
       "Period           107\n",
       "First Tooltip    107\n",
       "dtype: int64"
      ]
     },
     "execution_count": 283,
     "metadata": {},
     "output_type": "execute_result"
    }
   ],
   "source": [
    "malaria_data[malaria_data['Period'] == 2000].count()"
   ]
  },
  {
   "cell_type": "markdown",
   "metadata": {},
   "source": [
    "## Dataset to export - look into zero values"
   ]
  },
  {
   "cell_type": "code",
   "execution_count": 284,
   "metadata": {},
   "outputs": [
    {
     "data": {
      "text/html": [
       "<div>\n",
       "<style scoped>\n",
       "    .dataframe tbody tr th:only-of-type {\n",
       "        vertical-align: middle;\n",
       "    }\n",
       "\n",
       "    .dataframe tbody tr th {\n",
       "        vertical-align: top;\n",
       "    }\n",
       "\n",
       "    .dataframe thead th {\n",
       "        text-align: right;\n",
       "    }\n",
       "</style>\n",
       "<table border=\"1\" class=\"dataframe\">\n",
       "  <thead>\n",
       "    <tr style=\"text-align: right;\">\n",
       "      <th></th>\n",
       "      <th>Location</th>\n",
       "      <th>Indicator</th>\n",
       "      <th>Period</th>\n",
       "      <th>First Tooltip</th>\n",
       "    </tr>\n",
       "  </thead>\n",
       "  <tbody>\n",
       "    <tr>\n",
       "      <th>2</th>\n",
       "      <td>Afghanistan</td>\n",
       "      <td>Malaria incidence (per 1 000 population at risk)</td>\n",
       "      <td>2016</td>\n",
       "      <td>26.110</td>\n",
       "    </tr>\n",
       "    <tr>\n",
       "      <th>21</th>\n",
       "      <td>Algeria</td>\n",
       "      <td>Malaria incidence (per 1 000 population at risk)</td>\n",
       "      <td>2016</td>\n",
       "      <td>0.000</td>\n",
       "    </tr>\n",
       "    <tr>\n",
       "      <th>40</th>\n",
       "      <td>Angola</td>\n",
       "      <td>Malaria incidence (per 1 000 population at risk)</td>\n",
       "      <td>2016</td>\n",
       "      <td>220.000</td>\n",
       "    </tr>\n",
       "    <tr>\n",
       "      <th>59</th>\n",
       "      <td>Argentina</td>\n",
       "      <td>Malaria incidence (per 1 000 population at risk)</td>\n",
       "      <td>2016</td>\n",
       "      <td>0.000</td>\n",
       "    </tr>\n",
       "    <tr>\n",
       "      <th>78</th>\n",
       "      <td>Armenia</td>\n",
       "      <td>Malaria incidence (per 1 000 population at risk)</td>\n",
       "      <td>2016</td>\n",
       "      <td>0.000</td>\n",
       "    </tr>\n",
       "    <tr>\n",
       "      <th>...</th>\n",
       "      <td>...</td>\n",
       "      <td>...</td>\n",
       "      <td>...</td>\n",
       "      <td>...</td>\n",
       "    </tr>\n",
       "    <tr>\n",
       "      <th>1940</th>\n",
       "      <td>Venezuela (Bolivarian Republic of)</td>\n",
       "      <td>Malaria incidence (per 1 000 population at risk)</td>\n",
       "      <td>2016</td>\n",
       "      <td>18.790</td>\n",
       "    </tr>\n",
       "    <tr>\n",
       "      <th>1959</th>\n",
       "      <td>Viet Nam</td>\n",
       "      <td>Malaria incidence (per 1 000 population at risk)</td>\n",
       "      <td>2016</td>\n",
       "      <td>0.073</td>\n",
       "    </tr>\n",
       "    <tr>\n",
       "      <th>1978</th>\n",
       "      <td>Yemen</td>\n",
       "      <td>Malaria incidence (per 1 000 population at risk)</td>\n",
       "      <td>2016</td>\n",
       "      <td>37.750</td>\n",
       "    </tr>\n",
       "    <tr>\n",
       "      <th>1997</th>\n",
       "      <td>Zambia</td>\n",
       "      <td>Malaria incidence (per 1 000 population at risk)</td>\n",
       "      <td>2016</td>\n",
       "      <td>181.400</td>\n",
       "    </tr>\n",
       "    <tr>\n",
       "      <th>2016</th>\n",
       "      <td>Zimbabwe</td>\n",
       "      <td>Malaria incidence (per 1 000 population at risk)</td>\n",
       "      <td>2016</td>\n",
       "      <td>65.780</td>\n",
       "    </tr>\n",
       "  </tbody>\n",
       "</table>\n",
       "<p>107 rows × 4 columns</p>\n",
       "</div>"
      ],
      "text/plain": [
       "                                Location  \\\n",
       "2                            Afghanistan   \n",
       "21                               Algeria   \n",
       "40                                Angola   \n",
       "59                             Argentina   \n",
       "78                               Armenia   \n",
       "...                                  ...   \n",
       "1940  Venezuela (Bolivarian Republic of)   \n",
       "1959                            Viet Nam   \n",
       "1978                               Yemen   \n",
       "1997                              Zambia   \n",
       "2016                            Zimbabwe   \n",
       "\n",
       "                                             Indicator  Period  First Tooltip  \n",
       "2     Malaria incidence (per 1 000 population at risk)    2016         26.110  \n",
       "21    Malaria incidence (per 1 000 population at risk)    2016          0.000  \n",
       "40    Malaria incidence (per 1 000 population at risk)    2016        220.000  \n",
       "59    Malaria incidence (per 1 000 population at risk)    2016          0.000  \n",
       "78    Malaria incidence (per 1 000 population at risk)    2016          0.000  \n",
       "...                                                ...     ...            ...  \n",
       "1940  Malaria incidence (per 1 000 population at risk)    2016         18.790  \n",
       "1959  Malaria incidence (per 1 000 population at risk)    2016          0.073  \n",
       "1978  Malaria incidence (per 1 000 population at risk)    2016         37.750  \n",
       "1997  Malaria incidence (per 1 000 population at risk)    2016        181.400  \n",
       "2016  Malaria incidence (per 1 000 population at risk)    2016         65.780  \n",
       "\n",
       "[107 rows x 4 columns]"
      ]
     },
     "execution_count": 284,
     "metadata": {},
     "output_type": "execute_result"
    }
   ],
   "source": [
    "malaria_2016 = malaria_data[malaria_data['Period'] == 2016]\n",
    "malaria_2016"
   ]
  },
  {
   "cell_type": "markdown",
   "metadata": {},
   "source": [
    "## Dataset to export - look into zero values"
   ]
  },
  {
   "cell_type": "code",
   "execution_count": 285,
   "metadata": {},
   "outputs": [
    {
     "data": {
      "text/html": [
       "<div>\n",
       "<style scoped>\n",
       "    .dataframe tbody tr th:only-of-type {\n",
       "        vertical-align: middle;\n",
       "    }\n",
       "\n",
       "    .dataframe tbody tr th {\n",
       "        vertical-align: top;\n",
       "    }\n",
       "\n",
       "    .dataframe thead th {\n",
       "        text-align: right;\n",
       "    }\n",
       "</style>\n",
       "<table border=\"1\" class=\"dataframe\">\n",
       "  <thead>\n",
       "    <tr style=\"text-align: right;\">\n",
       "      <th></th>\n",
       "      <th>Location</th>\n",
       "      <th>Indicator</th>\n",
       "      <th>Period</th>\n",
       "      <th>First Tooltip</th>\n",
       "    </tr>\n",
       "  </thead>\n",
       "  <tbody>\n",
       "    <tr>\n",
       "      <th>3</th>\n",
       "      <td>Afghanistan</td>\n",
       "      <td>Malaria incidence (per 1 000 population at risk)</td>\n",
       "      <td>2015</td>\n",
       "      <td>14.91</td>\n",
       "    </tr>\n",
       "    <tr>\n",
       "      <th>22</th>\n",
       "      <td>Algeria</td>\n",
       "      <td>Malaria incidence (per 1 000 population at risk)</td>\n",
       "      <td>2015</td>\n",
       "      <td>0.00</td>\n",
       "    </tr>\n",
       "    <tr>\n",
       "      <th>41</th>\n",
       "      <td>Angola</td>\n",
       "      <td>Malaria incidence (per 1 000 population at risk)</td>\n",
       "      <td>2015</td>\n",
       "      <td>200.00</td>\n",
       "    </tr>\n",
       "    <tr>\n",
       "      <th>60</th>\n",
       "      <td>Argentina</td>\n",
       "      <td>Malaria incidence (per 1 000 population at risk)</td>\n",
       "      <td>2015</td>\n",
       "      <td>0.00</td>\n",
       "    </tr>\n",
       "    <tr>\n",
       "      <th>79</th>\n",
       "      <td>Armenia</td>\n",
       "      <td>Malaria incidence (per 1 000 population at risk)</td>\n",
       "      <td>2015</td>\n",
       "      <td>0.00</td>\n",
       "    </tr>\n",
       "    <tr>\n",
       "      <th>...</th>\n",
       "      <td>...</td>\n",
       "      <td>...</td>\n",
       "      <td>...</td>\n",
       "      <td>...</td>\n",
       "    </tr>\n",
       "    <tr>\n",
       "      <th>1941</th>\n",
       "      <td>Venezuela (Bolivarian Republic of)</td>\n",
       "      <td>Malaria incidence (per 1 000 population at risk)</td>\n",
       "      <td>2015</td>\n",
       "      <td>10.57</td>\n",
       "    </tr>\n",
       "    <tr>\n",
       "      <th>1960</th>\n",
       "      <td>Viet Nam</td>\n",
       "      <td>Malaria incidence (per 1 000 population at risk)</td>\n",
       "      <td>2015</td>\n",
       "      <td>0.17</td>\n",
       "    </tr>\n",
       "    <tr>\n",
       "      <th>1979</th>\n",
       "      <td>Yemen</td>\n",
       "      <td>Malaria incidence (per 1 000 population at risk)</td>\n",
       "      <td>2015</td>\n",
       "      <td>24.90</td>\n",
       "    </tr>\n",
       "    <tr>\n",
       "      <th>1998</th>\n",
       "      <td>Zambia</td>\n",
       "      <td>Malaria incidence (per 1 000 population at risk)</td>\n",
       "      <td>2015</td>\n",
       "      <td>202.50</td>\n",
       "    </tr>\n",
       "    <tr>\n",
       "      <th>2017</th>\n",
       "      <td>Zimbabwe</td>\n",
       "      <td>Malaria incidence (per 1 000 population at risk)</td>\n",
       "      <td>2015</td>\n",
       "      <td>97.65</td>\n",
       "    </tr>\n",
       "  </tbody>\n",
       "</table>\n",
       "<p>107 rows × 4 columns</p>\n",
       "</div>"
      ],
      "text/plain": [
       "                                Location  \\\n",
       "3                            Afghanistan   \n",
       "22                               Algeria   \n",
       "41                                Angola   \n",
       "60                             Argentina   \n",
       "79                               Armenia   \n",
       "...                                  ...   \n",
       "1941  Venezuela (Bolivarian Republic of)   \n",
       "1960                            Viet Nam   \n",
       "1979                               Yemen   \n",
       "1998                              Zambia   \n",
       "2017                            Zimbabwe   \n",
       "\n",
       "                                             Indicator  Period  First Tooltip  \n",
       "3     Malaria incidence (per 1 000 population at risk)    2015          14.91  \n",
       "22    Malaria incidence (per 1 000 population at risk)    2015           0.00  \n",
       "41    Malaria incidence (per 1 000 population at risk)    2015         200.00  \n",
       "60    Malaria incidence (per 1 000 population at risk)    2015           0.00  \n",
       "79    Malaria incidence (per 1 000 population at risk)    2015           0.00  \n",
       "...                                                ...     ...            ...  \n",
       "1941  Malaria incidence (per 1 000 population at risk)    2015          10.57  \n",
       "1960  Malaria incidence (per 1 000 population at risk)    2015           0.17  \n",
       "1979  Malaria incidence (per 1 000 population at risk)    2015          24.90  \n",
       "1998  Malaria incidence (per 1 000 population at risk)    2015         202.50  \n",
       "2017  Malaria incidence (per 1 000 population at risk)    2015          97.65  \n",
       "\n",
       "[107 rows x 4 columns]"
      ]
     },
     "execution_count": 285,
     "metadata": {},
     "output_type": "execute_result"
    }
   ],
   "source": [
    "malaria_2015 = malaria_data[malaria_data['Period'] == 2015]\n",
    "malaria_2015"
   ]
  },
  {
   "cell_type": "code",
   "execution_count": null,
   "metadata": {},
   "outputs": [],
   "source": []
  },
  {
   "cell_type": "markdown",
   "metadata": {},
   "source": [
    "## Tuberculosis"
   ]
  },
  {
   "cell_type": "code",
   "execution_count": 286,
   "metadata": {},
   "outputs": [
    {
     "data": {
      "text/html": [
       "<div>\n",
       "<style scoped>\n",
       "    .dataframe tbody tr th:only-of-type {\n",
       "        vertical-align: middle;\n",
       "    }\n",
       "\n",
       "    .dataframe tbody tr th {\n",
       "        vertical-align: top;\n",
       "    }\n",
       "\n",
       "    .dataframe thead th {\n",
       "        text-align: right;\n",
       "    }\n",
       "</style>\n",
       "<table border=\"1\" class=\"dataframe\">\n",
       "  <thead>\n",
       "    <tr style=\"text-align: right;\">\n",
       "      <th></th>\n",
       "      <th>Location</th>\n",
       "      <th>Indicator</th>\n",
       "      <th>Period</th>\n",
       "      <th>First Tooltip</th>\n",
       "    </tr>\n",
       "  </thead>\n",
       "  <tbody>\n",
       "    <tr>\n",
       "      <th>0</th>\n",
       "      <td>Afghanistan</td>\n",
       "      <td>Incidence of tuberculosis (per 100 000 populat...</td>\n",
       "      <td>2019</td>\n",
       "      <td>189 [122-270]</td>\n",
       "    </tr>\n",
       "    <tr>\n",
       "      <th>1</th>\n",
       "      <td>Afghanistan</td>\n",
       "      <td>Incidence of tuberculosis (per 100 000 populat...</td>\n",
       "      <td>2018</td>\n",
       "      <td>189 [122-270]</td>\n",
       "    </tr>\n",
       "    <tr>\n",
       "      <th>2</th>\n",
       "      <td>Afghanistan</td>\n",
       "      <td>Incidence of tuberculosis (per 100 000 populat...</td>\n",
       "      <td>2017</td>\n",
       "      <td>189 [122-270]</td>\n",
       "    </tr>\n",
       "    <tr>\n",
       "      <th>3</th>\n",
       "      <td>Afghanistan</td>\n",
       "      <td>Incidence of tuberculosis (per 100 000 populat...</td>\n",
       "      <td>2016</td>\n",
       "      <td>189 [122-270]</td>\n",
       "    </tr>\n",
       "    <tr>\n",
       "      <th>4</th>\n",
       "      <td>Afghanistan</td>\n",
       "      <td>Incidence of tuberculosis (per 100 000 populat...</td>\n",
       "      <td>2015</td>\n",
       "      <td>189 [122-270]</td>\n",
       "    </tr>\n",
       "    <tr>\n",
       "      <th>...</th>\n",
       "      <td>...</td>\n",
       "      <td>...</td>\n",
       "      <td>...</td>\n",
       "      <td>...</td>\n",
       "    </tr>\n",
       "    <tr>\n",
       "      <th>3852</th>\n",
       "      <td>Zimbabwe</td>\n",
       "      <td>Incidence of tuberculosis (per 100 000 populat...</td>\n",
       "      <td>2004</td>\n",
       "      <td>607 [451-786]</td>\n",
       "    </tr>\n",
       "    <tr>\n",
       "      <th>3853</th>\n",
       "      <td>Zimbabwe</td>\n",
       "      <td>Incidence of tuberculosis (per 100 000 populat...</td>\n",
       "      <td>2003</td>\n",
       "      <td>617 [462-794]</td>\n",
       "    </tr>\n",
       "    <tr>\n",
       "      <th>3854</th>\n",
       "      <td>Zimbabwe</td>\n",
       "      <td>Incidence of tuberculosis (per 100 000 populat...</td>\n",
       "      <td>2002</td>\n",
       "      <td>617 [478-773]</td>\n",
       "    </tr>\n",
       "    <tr>\n",
       "      <th>3855</th>\n",
       "      <td>Zimbabwe</td>\n",
       "      <td>Incidence of tuberculosis (per 100 000 populat...</td>\n",
       "      <td>2001</td>\n",
       "      <td>617 [461-795]</td>\n",
       "    </tr>\n",
       "    <tr>\n",
       "      <th>3856</th>\n",
       "      <td>Zimbabwe</td>\n",
       "      <td>Incidence of tuberculosis (per 100 000 populat...</td>\n",
       "      <td>2000</td>\n",
       "      <td>605 [426-813]</td>\n",
       "    </tr>\n",
       "  </tbody>\n",
       "</table>\n",
       "<p>3857 rows × 4 columns</p>\n",
       "</div>"
      ],
      "text/plain": [
       "         Location                                          Indicator  Period  \\\n",
       "0     Afghanistan  Incidence of tuberculosis (per 100 000 populat...    2019   \n",
       "1     Afghanistan  Incidence of tuberculosis (per 100 000 populat...    2018   \n",
       "2     Afghanistan  Incidence of tuberculosis (per 100 000 populat...    2017   \n",
       "3     Afghanistan  Incidence of tuberculosis (per 100 000 populat...    2016   \n",
       "4     Afghanistan  Incidence of tuberculosis (per 100 000 populat...    2015   \n",
       "...           ...                                                ...     ...   \n",
       "3852     Zimbabwe  Incidence of tuberculosis (per 100 000 populat...    2004   \n",
       "3853     Zimbabwe  Incidence of tuberculosis (per 100 000 populat...    2003   \n",
       "3854     Zimbabwe  Incidence of tuberculosis (per 100 000 populat...    2002   \n",
       "3855     Zimbabwe  Incidence of tuberculosis (per 100 000 populat...    2001   \n",
       "3856     Zimbabwe  Incidence of tuberculosis (per 100 000 populat...    2000   \n",
       "\n",
       "      First Tooltip  \n",
       "0     189 [122-270]  \n",
       "1     189 [122-270]  \n",
       "2     189 [122-270]  \n",
       "3     189 [122-270]  \n",
       "4     189 [122-270]  \n",
       "...             ...  \n",
       "3852  607 [451-786]  \n",
       "3853  617 [462-794]  \n",
       "3854  617 [478-773]  \n",
       "3855  617 [461-795]  \n",
       "3856  605 [426-813]  \n",
       "\n",
       "[3857 rows x 4 columns]"
      ]
     },
     "execution_count": 286,
     "metadata": {},
     "output_type": "execute_result"
    }
   ],
   "source": [
    "tuber_data = pd.read_csv(WHS_path/'incedenceOfTuberculosis.csv')\n",
    "tuber_data"
   ]
  },
  {
   "cell_type": "code",
   "execution_count": 287,
   "metadata": {},
   "outputs": [
    {
     "data": {
      "text/plain": [
       "Location         3857\n",
       "Indicator        3857\n",
       "Period           3857\n",
       "First Tooltip    3857\n",
       "dtype: int64"
      ]
     },
     "execution_count": 287,
     "metadata": {},
     "output_type": "execute_result"
    }
   ],
   "source": [
    "tuber_data.isnull().count()"
   ]
  },
  {
   "cell_type": "markdown",
   "metadata": {},
   "source": [
    "There are 59 zero values scattered about. This could be accurate. Tuberculosis isn't in every country anymore, and the countries listed with 0 are all small islands where I could see that being a possibility."
   ]
  },
  {
   "cell_type": "code",
   "execution_count": 292,
   "metadata": {
    "scrolled": true
   },
   "outputs": [
    {
     "data": {
      "text/html": [
       "<div>\n",
       "<style scoped>\n",
       "    .dataframe tbody tr th:only-of-type {\n",
       "        vertical-align: middle;\n",
       "    }\n",
       "\n",
       "    .dataframe tbody tr th {\n",
       "        vertical-align: top;\n",
       "    }\n",
       "\n",
       "    .dataframe thead th {\n",
       "        text-align: right;\n",
       "    }\n",
       "</style>\n",
       "<table border=\"1\" class=\"dataframe\">\n",
       "  <thead>\n",
       "    <tr style=\"text-align: right;\">\n",
       "      <th></th>\n",
       "      <th>Location</th>\n",
       "      <th>Indicator</th>\n",
       "      <th>Period</th>\n",
       "      <th>First Tooltip</th>\n",
       "    </tr>\n",
       "  </thead>\n",
       "  <tbody>\n",
       "    <tr>\n",
       "      <th>100</th>\n",
       "      <td>Antigua and Barbuda</td>\n",
       "      <td>Incidence of tuberculosis (per 100 000 populat...</td>\n",
       "      <td>2019</td>\n",
       "      <td>0 [0-0]</td>\n",
       "    </tr>\n",
       "    <tr>\n",
       "      <th>280</th>\n",
       "      <td>Barbados</td>\n",
       "      <td>Incidence of tuberculosis (per 100 000 populat...</td>\n",
       "      <td>2019</td>\n",
       "      <td>0 [0-0]</td>\n",
       "    </tr>\n",
       "    <tr>\n",
       "      <th>282</th>\n",
       "      <td>Barbados</td>\n",
       "      <td>Incidence of tuberculosis (per 100 000 populat...</td>\n",
       "      <td>2017</td>\n",
       "      <td>0 [0-0]</td>\n",
       "    </tr>\n",
       "    <tr>\n",
       "      <th>284</th>\n",
       "      <td>Barbados</td>\n",
       "      <td>Incidence of tuberculosis (per 100 000 populat...</td>\n",
       "      <td>2015</td>\n",
       "      <td>0 [0-0]</td>\n",
       "    </tr>\n",
       "    <tr>\n",
       "      <th>288</th>\n",
       "      <td>Barbados</td>\n",
       "      <td>Incidence of tuberculosis (per 100 000 populat...</td>\n",
       "      <td>2011</td>\n",
       "      <td>0 [0-0]</td>\n",
       "    </tr>\n",
       "    <tr>\n",
       "      <th>781</th>\n",
       "      <td>Cook Islands</td>\n",
       "      <td>Incidence of tuberculosis (per 100 000 populat...</td>\n",
       "      <td>2018</td>\n",
       "      <td>0 [0-0]</td>\n",
       "    </tr>\n",
       "    <tr>\n",
       "      <th>782</th>\n",
       "      <td>Cook Islands</td>\n",
       "      <td>Incidence of tuberculosis (per 100 000 populat...</td>\n",
       "      <td>2017</td>\n",
       "      <td>0 [0-0]</td>\n",
       "    </tr>\n",
       "    <tr>\n",
       "      <th>784</th>\n",
       "      <td>Cook Islands</td>\n",
       "      <td>Incidence of tuberculosis (per 100 000 populat...</td>\n",
       "      <td>2015</td>\n",
       "      <td>0 [0-0]</td>\n",
       "    </tr>\n",
       "    <tr>\n",
       "      <th>789</th>\n",
       "      <td>Cook Islands</td>\n",
       "      <td>Incidence of tuberculosis (per 100 000 populat...</td>\n",
       "      <td>2010</td>\n",
       "      <td>0 [0-0]</td>\n",
       "    </tr>\n",
       "    <tr>\n",
       "      <th>796</th>\n",
       "      <td>Cook Islands</td>\n",
       "      <td>Incidence of tuberculosis (per 100 000 populat...</td>\n",
       "      <td>2003</td>\n",
       "      <td>0 [0-0]</td>\n",
       "    </tr>\n",
       "    <tr>\n",
       "      <th>1385</th>\n",
       "      <td>Grenada</td>\n",
       "      <td>Incidence of tuberculosis (per 100 000 populat...</td>\n",
       "      <td>2014</td>\n",
       "      <td>0 [0-0]</td>\n",
       "    </tr>\n",
       "    <tr>\n",
       "      <th>1399</th>\n",
       "      <td>Grenada</td>\n",
       "      <td>Incidence of tuberculosis (per 100 000 populat...</td>\n",
       "      <td>2000</td>\n",
       "      <td>0 [0-0]</td>\n",
       "    </tr>\n",
       "    <tr>\n",
       "      <th>2240</th>\n",
       "      <td>Monaco</td>\n",
       "      <td>Incidence of tuberculosis (per 100 000 populat...</td>\n",
       "      <td>2019</td>\n",
       "      <td>0 [0-0]</td>\n",
       "    </tr>\n",
       "    <tr>\n",
       "      <th>2241</th>\n",
       "      <td>Monaco</td>\n",
       "      <td>Incidence of tuberculosis (per 100 000 populat...</td>\n",
       "      <td>2018</td>\n",
       "      <td>0 [0-0]</td>\n",
       "    </tr>\n",
       "    <tr>\n",
       "      <th>2242</th>\n",
       "      <td>Monaco</td>\n",
       "      <td>Incidence of tuberculosis (per 100 000 populat...</td>\n",
       "      <td>2017</td>\n",
       "      <td>0 [0-0]</td>\n",
       "    </tr>\n",
       "    <tr>\n",
       "      <th>2243</th>\n",
       "      <td>Monaco</td>\n",
       "      <td>Incidence of tuberculosis (per 100 000 populat...</td>\n",
       "      <td>2016</td>\n",
       "      <td>0 [0-0]</td>\n",
       "    </tr>\n",
       "    <tr>\n",
       "      <th>2244</th>\n",
       "      <td>Monaco</td>\n",
       "      <td>Incidence of tuberculosis (per 100 000 populat...</td>\n",
       "      <td>2015</td>\n",
       "      <td>0 [0-0]</td>\n",
       "    </tr>\n",
       "    <tr>\n",
       "      <th>2245</th>\n",
       "      <td>Monaco</td>\n",
       "      <td>Incidence of tuberculosis (per 100 000 populat...</td>\n",
       "      <td>2014</td>\n",
       "      <td>0 [0-0]</td>\n",
       "    </tr>\n",
       "    <tr>\n",
       "      <th>2257</th>\n",
       "      <td>Monaco</td>\n",
       "      <td>Incidence of tuberculosis (per 100 000 populat...</td>\n",
       "      <td>2002</td>\n",
       "      <td>0 [0-0]</td>\n",
       "    </tr>\n",
       "    <tr>\n",
       "      <th>2258</th>\n",
       "      <td>Monaco</td>\n",
       "      <td>Incidence of tuberculosis (per 100 000 populat...</td>\n",
       "      <td>2001</td>\n",
       "      <td>0 [0-0]</td>\n",
       "    </tr>\n",
       "    <tr>\n",
       "      <th>2259</th>\n",
       "      <td>Monaco</td>\n",
       "      <td>Incidence of tuberculosis (per 100 000 populat...</td>\n",
       "      <td>2000</td>\n",
       "      <td>0 [0-0]</td>\n",
       "    </tr>\n",
       "    <tr>\n",
       "      <th>2515</th>\n",
       "      <td>Niue</td>\n",
       "      <td>Incidence of tuberculosis (per 100 000 populat...</td>\n",
       "      <td>2019</td>\n",
       "      <td>0 [0-0]</td>\n",
       "    </tr>\n",
       "    <tr>\n",
       "      <th>2517</th>\n",
       "      <td>Niue</td>\n",
       "      <td>Incidence of tuberculosis (per 100 000 populat...</td>\n",
       "      <td>2017</td>\n",
       "      <td>0 [0-0]</td>\n",
       "    </tr>\n",
       "    <tr>\n",
       "      <th>2519</th>\n",
       "      <td>Niue</td>\n",
       "      <td>Incidence of tuberculosis (per 100 000 populat...</td>\n",
       "      <td>2015</td>\n",
       "      <td>0 [0-0]</td>\n",
       "    </tr>\n",
       "    <tr>\n",
       "      <th>2520</th>\n",
       "      <td>Niue</td>\n",
       "      <td>Incidence of tuberculosis (per 100 000 populat...</td>\n",
       "      <td>2014</td>\n",
       "      <td>0 [0-0]</td>\n",
       "    </tr>\n",
       "    <tr>\n",
       "      <th>2521</th>\n",
       "      <td>Niue</td>\n",
       "      <td>Incidence of tuberculosis (per 100 000 populat...</td>\n",
       "      <td>2013</td>\n",
       "      <td>0 [0-0]</td>\n",
       "    </tr>\n",
       "    <tr>\n",
       "      <th>2522</th>\n",
       "      <td>Niue</td>\n",
       "      <td>Incidence of tuberculosis (per 100 000 populat...</td>\n",
       "      <td>2012</td>\n",
       "      <td>0 [0-0]</td>\n",
       "    </tr>\n",
       "    <tr>\n",
       "      <th>2524</th>\n",
       "      <td>Niue</td>\n",
       "      <td>Incidence of tuberculosis (per 100 000 populat...</td>\n",
       "      <td>2010</td>\n",
       "      <td>0 [0-0]</td>\n",
       "    </tr>\n",
       "    <tr>\n",
       "      <th>2525</th>\n",
       "      <td>Niue</td>\n",
       "      <td>Incidence of tuberculosis (per 100 000 populat...</td>\n",
       "      <td>2009</td>\n",
       "      <td>0 [0-0]</td>\n",
       "    </tr>\n",
       "    <tr>\n",
       "      <th>2526</th>\n",
       "      <td>Niue</td>\n",
       "      <td>Incidence of tuberculosis (per 100 000 populat...</td>\n",
       "      <td>2008</td>\n",
       "      <td>0 [0-0]</td>\n",
       "    </tr>\n",
       "    <tr>\n",
       "      <th>2527</th>\n",
       "      <td>Niue</td>\n",
       "      <td>Incidence of tuberculosis (per 100 000 populat...</td>\n",
       "      <td>2007</td>\n",
       "      <td>0 [0-0]</td>\n",
       "    </tr>\n",
       "    <tr>\n",
       "      <th>2528</th>\n",
       "      <td>Niue</td>\n",
       "      <td>Incidence of tuberculosis (per 100 000 populat...</td>\n",
       "      <td>2006</td>\n",
       "      <td>0 [0-0]</td>\n",
       "    </tr>\n",
       "    <tr>\n",
       "      <th>2529</th>\n",
       "      <td>Niue</td>\n",
       "      <td>Incidence of tuberculosis (per 100 000 populat...</td>\n",
       "      <td>2005</td>\n",
       "      <td>0 [0-0]</td>\n",
       "    </tr>\n",
       "    <tr>\n",
       "      <th>2530</th>\n",
       "      <td>Niue</td>\n",
       "      <td>Incidence of tuberculosis (per 100 000 populat...</td>\n",
       "      <td>2004</td>\n",
       "      <td>0 [0-0]</td>\n",
       "    </tr>\n",
       "    <tr>\n",
       "      <th>2531</th>\n",
       "      <td>Niue</td>\n",
       "      <td>Incidence of tuberculosis (per 100 000 populat...</td>\n",
       "      <td>2003</td>\n",
       "      <td>0 [0-0]</td>\n",
       "    </tr>\n",
       "    <tr>\n",
       "      <th>2533</th>\n",
       "      <td>Niue</td>\n",
       "      <td>Incidence of tuberculosis (per 100 000 populat...</td>\n",
       "      <td>2001</td>\n",
       "      <td>0 [0-0]</td>\n",
       "    </tr>\n",
       "    <tr>\n",
       "      <th>2534</th>\n",
       "      <td>Niue</td>\n",
       "      <td>Incidence of tuberculosis (per 100 000 populat...</td>\n",
       "      <td>2000</td>\n",
       "      <td>0 [0-0]</td>\n",
       "    </tr>\n",
       "    <tr>\n",
       "      <th>2896</th>\n",
       "      <td>Saint Kitts and Nevis</td>\n",
       "      <td>Incidence of tuberculosis (per 100 000 populat...</td>\n",
       "      <td>2018</td>\n",
       "      <td>0 [0-0]</td>\n",
       "    </tr>\n",
       "    <tr>\n",
       "      <th>2898</th>\n",
       "      <td>Saint Kitts and Nevis</td>\n",
       "      <td>Incidence of tuberculosis (per 100 000 populat...</td>\n",
       "      <td>2016</td>\n",
       "      <td>0 [0-0]</td>\n",
       "    </tr>\n",
       "    <tr>\n",
       "      <th>2901</th>\n",
       "      <td>Saint Kitts and Nevis</td>\n",
       "      <td>Incidence of tuberculosis (per 100 000 populat...</td>\n",
       "      <td>2013</td>\n",
       "      <td>0 [0-0]</td>\n",
       "    </tr>\n",
       "    <tr>\n",
       "      <th>2909</th>\n",
       "      <td>Saint Kitts and Nevis</td>\n",
       "      <td>Incidence of tuberculosis (per 100 000 populat...</td>\n",
       "      <td>2005</td>\n",
       "      <td>0 [0-0]</td>\n",
       "    </tr>\n",
       "    <tr>\n",
       "      <th>2914</th>\n",
       "      <td>Saint Kitts and Nevis</td>\n",
       "      <td>Incidence of tuberculosis (per 100 000 populat...</td>\n",
       "      <td>2000</td>\n",
       "      <td>0 [0-0]</td>\n",
       "    </tr>\n",
       "    <tr>\n",
       "      <th>2975</th>\n",
       "      <td>San Marino</td>\n",
       "      <td>Incidence of tuberculosis (per 100 000 populat...</td>\n",
       "      <td>2019</td>\n",
       "      <td>0 [0-0]</td>\n",
       "    </tr>\n",
       "    <tr>\n",
       "      <th>2976</th>\n",
       "      <td>San Marino</td>\n",
       "      <td>Incidence of tuberculosis (per 100 000 populat...</td>\n",
       "      <td>2018</td>\n",
       "      <td>0 [0-0]</td>\n",
       "    </tr>\n",
       "    <tr>\n",
       "      <th>2977</th>\n",
       "      <td>San Marino</td>\n",
       "      <td>Incidence of tuberculosis (per 100 000 populat...</td>\n",
       "      <td>2017</td>\n",
       "      <td>0 [0-0]</td>\n",
       "    </tr>\n",
       "    <tr>\n",
       "      <th>2978</th>\n",
       "      <td>San Marino</td>\n",
       "      <td>Incidence of tuberculosis (per 100 000 populat...</td>\n",
       "      <td>2016</td>\n",
       "      <td>0 [0-0]</td>\n",
       "    </tr>\n",
       "    <tr>\n",
       "      <th>2979</th>\n",
       "      <td>San Marino</td>\n",
       "      <td>Incidence of tuberculosis (per 100 000 populat...</td>\n",
       "      <td>2015</td>\n",
       "      <td>0 [0-0]</td>\n",
       "    </tr>\n",
       "    <tr>\n",
       "      <th>2980</th>\n",
       "      <td>San Marino</td>\n",
       "      <td>Incidence of tuberculosis (per 100 000 populat...</td>\n",
       "      <td>2014</td>\n",
       "      <td>0 [0-0]</td>\n",
       "    </tr>\n",
       "    <tr>\n",
       "      <th>2981</th>\n",
       "      <td>San Marino</td>\n",
       "      <td>Incidence of tuberculosis (per 100 000 populat...</td>\n",
       "      <td>2013</td>\n",
       "      <td>0 [0-0]</td>\n",
       "    </tr>\n",
       "    <tr>\n",
       "      <th>2982</th>\n",
       "      <td>San Marino</td>\n",
       "      <td>Incidence of tuberculosis (per 100 000 populat...</td>\n",
       "      <td>2012</td>\n",
       "      <td>0 [0-0]</td>\n",
       "    </tr>\n",
       "    <tr>\n",
       "      <th>2983</th>\n",
       "      <td>San Marino</td>\n",
       "      <td>Incidence of tuberculosis (per 100 000 populat...</td>\n",
       "      <td>2011</td>\n",
       "      <td>0 [0-0]</td>\n",
       "    </tr>\n",
       "    <tr>\n",
       "      <th>2984</th>\n",
       "      <td>San Marino</td>\n",
       "      <td>Incidence of tuberculosis (per 100 000 populat...</td>\n",
       "      <td>2010</td>\n",
       "      <td>0 [0-0]</td>\n",
       "    </tr>\n",
       "    <tr>\n",
       "      <th>2985</th>\n",
       "      <td>San Marino</td>\n",
       "      <td>Incidence of tuberculosis (per 100 000 populat...</td>\n",
       "      <td>2009</td>\n",
       "      <td>0 [0-0]</td>\n",
       "    </tr>\n",
       "    <tr>\n",
       "      <th>2986</th>\n",
       "      <td>San Marino</td>\n",
       "      <td>Incidence of tuberculosis (per 100 000 populat...</td>\n",
       "      <td>2008</td>\n",
       "      <td>0 [0-0]</td>\n",
       "    </tr>\n",
       "    <tr>\n",
       "      <th>2987</th>\n",
       "      <td>San Marino</td>\n",
       "      <td>Incidence of tuberculosis (per 100 000 populat...</td>\n",
       "      <td>2007</td>\n",
       "      <td>0 [0-0]</td>\n",
       "    </tr>\n",
       "    <tr>\n",
       "      <th>2988</th>\n",
       "      <td>San Marino</td>\n",
       "      <td>Incidence of tuberculosis (per 100 000 populat...</td>\n",
       "      <td>2006</td>\n",
       "      <td>0 [0-0]</td>\n",
       "    </tr>\n",
       "    <tr>\n",
       "      <th>2989</th>\n",
       "      <td>San Marino</td>\n",
       "      <td>Incidence of tuberculosis (per 100 000 populat...</td>\n",
       "      <td>2005</td>\n",
       "      <td>0 [0-0]</td>\n",
       "    </tr>\n",
       "    <tr>\n",
       "      <th>2990</th>\n",
       "      <td>San Marino</td>\n",
       "      <td>Incidence of tuberculosis (per 100 000 populat...</td>\n",
       "      <td>2004</td>\n",
       "      <td>0 [0-0]</td>\n",
       "    </tr>\n",
       "    <tr>\n",
       "      <th>2993</th>\n",
       "      <td>San Marino</td>\n",
       "      <td>Incidence of tuberculosis (per 100 000 populat...</td>\n",
       "      <td>2001</td>\n",
       "      <td>0 [0-0]</td>\n",
       "    </tr>\n",
       "  </tbody>\n",
       "</table>\n",
       "</div>"
      ],
      "text/plain": [
       "                   Location  \\\n",
       "100     Antigua and Barbuda   \n",
       "280                Barbados   \n",
       "282                Barbados   \n",
       "284                Barbados   \n",
       "288                Barbados   \n",
       "781            Cook Islands   \n",
       "782            Cook Islands   \n",
       "784            Cook Islands   \n",
       "789            Cook Islands   \n",
       "796            Cook Islands   \n",
       "1385                Grenada   \n",
       "1399                Grenada   \n",
       "2240                 Monaco   \n",
       "2241                 Monaco   \n",
       "2242                 Monaco   \n",
       "2243                 Monaco   \n",
       "2244                 Monaco   \n",
       "2245                 Monaco   \n",
       "2257                 Monaco   \n",
       "2258                 Monaco   \n",
       "2259                 Monaco   \n",
       "2515                   Niue   \n",
       "2517                   Niue   \n",
       "2519                   Niue   \n",
       "2520                   Niue   \n",
       "2521                   Niue   \n",
       "2522                   Niue   \n",
       "2524                   Niue   \n",
       "2525                   Niue   \n",
       "2526                   Niue   \n",
       "2527                   Niue   \n",
       "2528                   Niue   \n",
       "2529                   Niue   \n",
       "2530                   Niue   \n",
       "2531                   Niue   \n",
       "2533                   Niue   \n",
       "2534                   Niue   \n",
       "2896  Saint Kitts and Nevis   \n",
       "2898  Saint Kitts and Nevis   \n",
       "2901  Saint Kitts and Nevis   \n",
       "2909  Saint Kitts and Nevis   \n",
       "2914  Saint Kitts and Nevis   \n",
       "2975             San Marino   \n",
       "2976             San Marino   \n",
       "2977             San Marino   \n",
       "2978             San Marino   \n",
       "2979             San Marino   \n",
       "2980             San Marino   \n",
       "2981             San Marino   \n",
       "2982             San Marino   \n",
       "2983             San Marino   \n",
       "2984             San Marino   \n",
       "2985             San Marino   \n",
       "2986             San Marino   \n",
       "2987             San Marino   \n",
       "2988             San Marino   \n",
       "2989             San Marino   \n",
       "2990             San Marino   \n",
       "2993             San Marino   \n",
       "\n",
       "                                              Indicator  Period First Tooltip  \n",
       "100   Incidence of tuberculosis (per 100 000 populat...    2019       0 [0-0]  \n",
       "280   Incidence of tuberculosis (per 100 000 populat...    2019       0 [0-0]  \n",
       "282   Incidence of tuberculosis (per 100 000 populat...    2017       0 [0-0]  \n",
       "284   Incidence of tuberculosis (per 100 000 populat...    2015       0 [0-0]  \n",
       "288   Incidence of tuberculosis (per 100 000 populat...    2011       0 [0-0]  \n",
       "781   Incidence of tuberculosis (per 100 000 populat...    2018       0 [0-0]  \n",
       "782   Incidence of tuberculosis (per 100 000 populat...    2017       0 [0-0]  \n",
       "784   Incidence of tuberculosis (per 100 000 populat...    2015       0 [0-0]  \n",
       "789   Incidence of tuberculosis (per 100 000 populat...    2010       0 [0-0]  \n",
       "796   Incidence of tuberculosis (per 100 000 populat...    2003       0 [0-0]  \n",
       "1385  Incidence of tuberculosis (per 100 000 populat...    2014       0 [0-0]  \n",
       "1399  Incidence of tuberculosis (per 100 000 populat...    2000       0 [0-0]  \n",
       "2240  Incidence of tuberculosis (per 100 000 populat...    2019       0 [0-0]  \n",
       "2241  Incidence of tuberculosis (per 100 000 populat...    2018       0 [0-0]  \n",
       "2242  Incidence of tuberculosis (per 100 000 populat...    2017       0 [0-0]  \n",
       "2243  Incidence of tuberculosis (per 100 000 populat...    2016       0 [0-0]  \n",
       "2244  Incidence of tuberculosis (per 100 000 populat...    2015       0 [0-0]  \n",
       "2245  Incidence of tuberculosis (per 100 000 populat...    2014       0 [0-0]  \n",
       "2257  Incidence of tuberculosis (per 100 000 populat...    2002       0 [0-0]  \n",
       "2258  Incidence of tuberculosis (per 100 000 populat...    2001       0 [0-0]  \n",
       "2259  Incidence of tuberculosis (per 100 000 populat...    2000       0 [0-0]  \n",
       "2515  Incidence of tuberculosis (per 100 000 populat...    2019       0 [0-0]  \n",
       "2517  Incidence of tuberculosis (per 100 000 populat...    2017       0 [0-0]  \n",
       "2519  Incidence of tuberculosis (per 100 000 populat...    2015       0 [0-0]  \n",
       "2520  Incidence of tuberculosis (per 100 000 populat...    2014       0 [0-0]  \n",
       "2521  Incidence of tuberculosis (per 100 000 populat...    2013       0 [0-0]  \n",
       "2522  Incidence of tuberculosis (per 100 000 populat...    2012       0 [0-0]  \n",
       "2524  Incidence of tuberculosis (per 100 000 populat...    2010       0 [0-0]  \n",
       "2525  Incidence of tuberculosis (per 100 000 populat...    2009       0 [0-0]  \n",
       "2526  Incidence of tuberculosis (per 100 000 populat...    2008       0 [0-0]  \n",
       "2527  Incidence of tuberculosis (per 100 000 populat...    2007       0 [0-0]  \n",
       "2528  Incidence of tuberculosis (per 100 000 populat...    2006       0 [0-0]  \n",
       "2529  Incidence of tuberculosis (per 100 000 populat...    2005       0 [0-0]  \n",
       "2530  Incidence of tuberculosis (per 100 000 populat...    2004       0 [0-0]  \n",
       "2531  Incidence of tuberculosis (per 100 000 populat...    2003       0 [0-0]  \n",
       "2533  Incidence of tuberculosis (per 100 000 populat...    2001       0 [0-0]  \n",
       "2534  Incidence of tuberculosis (per 100 000 populat...    2000       0 [0-0]  \n",
       "2896  Incidence of tuberculosis (per 100 000 populat...    2018       0 [0-0]  \n",
       "2898  Incidence of tuberculosis (per 100 000 populat...    2016       0 [0-0]  \n",
       "2901  Incidence of tuberculosis (per 100 000 populat...    2013       0 [0-0]  \n",
       "2909  Incidence of tuberculosis (per 100 000 populat...    2005       0 [0-0]  \n",
       "2914  Incidence of tuberculosis (per 100 000 populat...    2000       0 [0-0]  \n",
       "2975  Incidence of tuberculosis (per 100 000 populat...    2019       0 [0-0]  \n",
       "2976  Incidence of tuberculosis (per 100 000 populat...    2018       0 [0-0]  \n",
       "2977  Incidence of tuberculosis (per 100 000 populat...    2017       0 [0-0]  \n",
       "2978  Incidence of tuberculosis (per 100 000 populat...    2016       0 [0-0]  \n",
       "2979  Incidence of tuberculosis (per 100 000 populat...    2015       0 [0-0]  \n",
       "2980  Incidence of tuberculosis (per 100 000 populat...    2014       0 [0-0]  \n",
       "2981  Incidence of tuberculosis (per 100 000 populat...    2013       0 [0-0]  \n",
       "2982  Incidence of tuberculosis (per 100 000 populat...    2012       0 [0-0]  \n",
       "2983  Incidence of tuberculosis (per 100 000 populat...    2011       0 [0-0]  \n",
       "2984  Incidence of tuberculosis (per 100 000 populat...    2010       0 [0-0]  \n",
       "2985  Incidence of tuberculosis (per 100 000 populat...    2009       0 [0-0]  \n",
       "2986  Incidence of tuberculosis (per 100 000 populat...    2008       0 [0-0]  \n",
       "2987  Incidence of tuberculosis (per 100 000 populat...    2007       0 [0-0]  \n",
       "2988  Incidence of tuberculosis (per 100 000 populat...    2006       0 [0-0]  \n",
       "2989  Incidence of tuberculosis (per 100 000 populat...    2005       0 [0-0]  \n",
       "2990  Incidence of tuberculosis (per 100 000 populat...    2004       0 [0-0]  \n",
       "2993  Incidence of tuberculosis (per 100 000 populat...    2001       0 [0-0]  "
      ]
     },
     "execution_count": 292,
     "metadata": {},
     "output_type": "execute_result"
    }
   ],
   "source": [
    "tuber_data[tuber_data['First Tooltip'] == '0 [0-0]']"
   ]
  },
  {
   "cell_type": "code",
   "execution_count": 293,
   "metadata": {},
   "outputs": [
    {
     "data": {
      "text/plain": [
       "Location         59\n",
       "Indicator        59\n",
       "Period           59\n",
       "First Tooltip    59\n",
       "dtype: int64"
      ]
     },
     "execution_count": 293,
     "metadata": {},
     "output_type": "execute_result"
    }
   ],
   "source": [
    "tuber_data[tuber_data['First Tooltip'] == '0 [0-0]'].count()"
   ]
  },
  {
   "cell_type": "code",
   "execution_count": 294,
   "metadata": {},
   "outputs": [
    {
     "data": {
      "text/plain": [
       "array(['Incidence of tuberculosis (per 100 000 population per year)'],\n",
       "      dtype=object)"
      ]
     },
     "execution_count": 294,
     "metadata": {},
     "output_type": "execute_result"
    }
   ],
   "source": [
    "tuber_data['Indicator'].unique()"
   ]
  },
  {
   "cell_type": "markdown",
   "metadata": {},
   "source": [
    "While the years aren't exactly the same, they are extremely close. For that reason, I just picked 2015 and 2016."
   ]
  },
  {
   "cell_type": "code",
   "execution_count": 295,
   "metadata": {},
   "outputs": [
    {
     "data": {
      "text/plain": [
       "array([2019, 2018, 2017, 2016, 2015, 2014, 2013, 2012, 2011, 2010, 2009,\n",
       "       2008, 2007, 2006, 2005, 2004, 2003, 2002, 2001, 2000])"
      ]
     },
     "execution_count": 295,
     "metadata": {},
     "output_type": "execute_result"
    }
   ],
   "source": [
    "tuber_data['Period'].unique()"
   ]
  },
  {
   "cell_type": "code",
   "execution_count": 296,
   "metadata": {},
   "outputs": [
    {
     "data": {
      "text/plain": [
       "Location         194\n",
       "Indicator        194\n",
       "Period           194\n",
       "First Tooltip    194\n",
       "dtype: int64"
      ]
     },
     "execution_count": 296,
     "metadata": {},
     "output_type": "execute_result"
    }
   ],
   "source": [
    "tuber_data[tuber_data['Period'] == 2019].count()"
   ]
  },
  {
   "cell_type": "code",
   "execution_count": 297,
   "metadata": {},
   "outputs": [
    {
     "data": {
      "text/plain": [
       "Location         194\n",
       "Indicator        194\n",
       "Period           194\n",
       "First Tooltip    194\n",
       "dtype: int64"
      ]
     },
     "execution_count": 297,
     "metadata": {},
     "output_type": "execute_result"
    }
   ],
   "source": [
    "tuber_data[tuber_data['Period'] == 2018].count()"
   ]
  },
  {
   "cell_type": "code",
   "execution_count": 298,
   "metadata": {},
   "outputs": [
    {
     "data": {
      "text/plain": [
       "Location         194\n",
       "Indicator        194\n",
       "Period           194\n",
       "First Tooltip    194\n",
       "dtype: int64"
      ]
     },
     "execution_count": 298,
     "metadata": {},
     "output_type": "execute_result"
    }
   ],
   "source": [
    "tuber_data[tuber_data['Period'] == 2017].count()"
   ]
  },
  {
   "cell_type": "code",
   "execution_count": 299,
   "metadata": {},
   "outputs": [
    {
     "data": {
      "text/plain": [
       "Location         194\n",
       "Indicator        194\n",
       "Period           194\n",
       "First Tooltip    194\n",
       "dtype: int64"
      ]
     },
     "execution_count": 299,
     "metadata": {},
     "output_type": "execute_result"
    }
   ],
   "source": [
    "tuber_data[tuber_data['Period'] == 2016].count()"
   ]
  },
  {
   "cell_type": "code",
   "execution_count": 300,
   "metadata": {},
   "outputs": [
    {
     "data": {
      "text/plain": [
       "Location         194\n",
       "Indicator        194\n",
       "Period           194\n",
       "First Tooltip    194\n",
       "dtype: int64"
      ]
     },
     "execution_count": 300,
     "metadata": {},
     "output_type": "execute_result"
    }
   ],
   "source": [
    "tuber_data[tuber_data['Period'] == 2015].count()"
   ]
  },
  {
   "cell_type": "code",
   "execution_count": 301,
   "metadata": {},
   "outputs": [
    {
     "data": {
      "text/plain": [
       "Location         194\n",
       "Indicator        194\n",
       "Period           194\n",
       "First Tooltip    194\n",
       "dtype: int64"
      ]
     },
     "execution_count": 301,
     "metadata": {},
     "output_type": "execute_result"
    }
   ],
   "source": [
    "tuber_data[tuber_data['Period'] == 2014].count()"
   ]
  },
  {
   "cell_type": "code",
   "execution_count": 302,
   "metadata": {},
   "outputs": [
    {
     "data": {
      "text/plain": [
       "Location         194\n",
       "Indicator        194\n",
       "Period           194\n",
       "First Tooltip    194\n",
       "dtype: int64"
      ]
     },
     "execution_count": 302,
     "metadata": {},
     "output_type": "execute_result"
    }
   ],
   "source": [
    "tuber_data[tuber_data['Period'] == 2013].count()"
   ]
  },
  {
   "cell_type": "code",
   "execution_count": 303,
   "metadata": {},
   "outputs": [
    {
     "data": {
      "text/plain": [
       "Location         194\n",
       "Indicator        194\n",
       "Period           194\n",
       "First Tooltip    194\n",
       "dtype: int64"
      ]
     },
     "execution_count": 303,
     "metadata": {},
     "output_type": "execute_result"
    }
   ],
   "source": [
    "tuber_data[tuber_data['Period'] == 2012].count()"
   ]
  },
  {
   "cell_type": "code",
   "execution_count": 304,
   "metadata": {},
   "outputs": [
    {
     "data": {
      "text/plain": [
       "Location         194\n",
       "Indicator        194\n",
       "Period           194\n",
       "First Tooltip    194\n",
       "dtype: int64"
      ]
     },
     "execution_count": 304,
     "metadata": {},
     "output_type": "execute_result"
    }
   ],
   "source": [
    "tuber_data[tuber_data['Period'] == 2011].count()"
   ]
  },
  {
   "cell_type": "code",
   "execution_count": 305,
   "metadata": {},
   "outputs": [
    {
     "data": {
      "text/plain": [
       "Location         193\n",
       "Indicator        193\n",
       "Period           193\n",
       "First Tooltip    193\n",
       "dtype: int64"
      ]
     },
     "execution_count": 305,
     "metadata": {},
     "output_type": "execute_result"
    }
   ],
   "source": [
    "tuber_data[tuber_data['Period'] == 2010].count()"
   ]
  },
  {
   "cell_type": "code",
   "execution_count": 306,
   "metadata": {},
   "outputs": [
    {
     "data": {
      "text/plain": [
       "Location         193\n",
       "Indicator        193\n",
       "Period           193\n",
       "First Tooltip    193\n",
       "dtype: int64"
      ]
     },
     "execution_count": 306,
     "metadata": {},
     "output_type": "execute_result"
    }
   ],
   "source": [
    "tuber_data[tuber_data['Period'] == 2009].count()"
   ]
  },
  {
   "cell_type": "code",
   "execution_count": 307,
   "metadata": {},
   "outputs": [
    {
     "data": {
      "text/plain": [
       "Location         193\n",
       "Indicator        193\n",
       "Period           193\n",
       "First Tooltip    193\n",
       "dtype: int64"
      ]
     },
     "execution_count": 307,
     "metadata": {},
     "output_type": "execute_result"
    }
   ],
   "source": [
    "tuber_data[tuber_data['Period'] == 2008].count()"
   ]
  },
  {
   "cell_type": "code",
   "execution_count": 308,
   "metadata": {},
   "outputs": [
    {
     "data": {
      "text/plain": [
       "Location         193\n",
       "Indicator        193\n",
       "Period           193\n",
       "First Tooltip    193\n",
       "dtype: int64"
      ]
     },
     "execution_count": 308,
     "metadata": {},
     "output_type": "execute_result"
    }
   ],
   "source": [
    "tuber_data[tuber_data['Period'] == 2007].count()"
   ]
  },
  {
   "cell_type": "code",
   "execution_count": 309,
   "metadata": {},
   "outputs": [
    {
     "data": {
      "text/plain": [
       "Location         193\n",
       "Indicator        193\n",
       "Period           193\n",
       "First Tooltip    193\n",
       "dtype: int64"
      ]
     },
     "execution_count": 309,
     "metadata": {},
     "output_type": "execute_result"
    }
   ],
   "source": [
    "tuber_data[tuber_data['Period'] == 2006].count()"
   ]
  },
  {
   "cell_type": "code",
   "execution_count": 310,
   "metadata": {},
   "outputs": [
    {
     "data": {
      "text/plain": [
       "Location         193\n",
       "Indicator        193\n",
       "Period           193\n",
       "First Tooltip    193\n",
       "dtype: int64"
      ]
     },
     "execution_count": 310,
     "metadata": {},
     "output_type": "execute_result"
    }
   ],
   "source": [
    "tuber_data[tuber_data['Period'] == 2005].count()"
   ]
  },
  {
   "cell_type": "code",
   "execution_count": 311,
   "metadata": {},
   "outputs": [
    {
     "data": {
      "text/plain": [
       "Location         191\n",
       "Indicator        191\n",
       "Period           191\n",
       "First Tooltip    191\n",
       "dtype: int64"
      ]
     },
     "execution_count": 311,
     "metadata": {},
     "output_type": "execute_result"
    }
   ],
   "source": [
    "tuber_data[tuber_data['Period'] == 2004].count()"
   ]
  },
  {
   "cell_type": "code",
   "execution_count": 312,
   "metadata": {},
   "outputs": [
    {
     "data": {
      "text/plain": [
       "Location         191\n",
       "Indicator        191\n",
       "Period           191\n",
       "First Tooltip    191\n",
       "dtype: int64"
      ]
     },
     "execution_count": 312,
     "metadata": {},
     "output_type": "execute_result"
    }
   ],
   "source": [
    "tuber_data[tuber_data['Period'] == 2003].count()"
   ]
  },
  {
   "cell_type": "code",
   "execution_count": 313,
   "metadata": {},
   "outputs": [
    {
     "data": {
      "text/plain": [
       "Location         191\n",
       "Indicator        191\n",
       "Period           191\n",
       "First Tooltip    191\n",
       "dtype: int64"
      ]
     },
     "execution_count": 313,
     "metadata": {},
     "output_type": "execute_result"
    }
   ],
   "source": [
    "tuber_data[tuber_data['Period'] == 2002].count()"
   ]
  },
  {
   "cell_type": "code",
   "execution_count": 314,
   "metadata": {},
   "outputs": [
    {
     "data": {
      "text/plain": [
       "Location         190\n",
       "Indicator        190\n",
       "Period           190\n",
       "First Tooltip    190\n",
       "dtype: int64"
      ]
     },
     "execution_count": 314,
     "metadata": {},
     "output_type": "execute_result"
    }
   ],
   "source": [
    "tuber_data[tuber_data['Period'] == 2001].count()"
   ]
  },
  {
   "cell_type": "code",
   "execution_count": 315,
   "metadata": {},
   "outputs": [
    {
     "data": {
      "text/plain": [
       "Location         190\n",
       "Indicator        190\n",
       "Period           190\n",
       "First Tooltip    190\n",
       "dtype: int64"
      ]
     },
     "execution_count": 315,
     "metadata": {},
     "output_type": "execute_result"
    }
   ],
   "source": [
    "tuber_data[tuber_data['Period'] == 2000].count()"
   ]
  },
  {
   "cell_type": "markdown",
   "metadata": {},
   "source": [
    "## Dataset to export"
   ]
  },
  {
   "cell_type": "code",
   "execution_count": 316,
   "metadata": {},
   "outputs": [
    {
     "data": {
      "text/html": [
       "<div>\n",
       "<style scoped>\n",
       "    .dataframe tbody tr th:only-of-type {\n",
       "        vertical-align: middle;\n",
       "    }\n",
       "\n",
       "    .dataframe tbody tr th {\n",
       "        vertical-align: top;\n",
       "    }\n",
       "\n",
       "    .dataframe thead th {\n",
       "        text-align: right;\n",
       "    }\n",
       "</style>\n",
       "<table border=\"1\" class=\"dataframe\">\n",
       "  <thead>\n",
       "    <tr style=\"text-align: right;\">\n",
       "      <th></th>\n",
       "      <th>Location</th>\n",
       "      <th>Indicator</th>\n",
       "      <th>Period</th>\n",
       "      <th>First Tooltip</th>\n",
       "    </tr>\n",
       "  </thead>\n",
       "  <tbody>\n",
       "    <tr>\n",
       "      <th>3</th>\n",
       "      <td>Afghanistan</td>\n",
       "      <td>Incidence of tuberculosis (per 100 000 populat...</td>\n",
       "      <td>2016</td>\n",
       "      <td>189 [122-270]</td>\n",
       "    </tr>\n",
       "    <tr>\n",
       "      <th>23</th>\n",
       "      <td>Albania</td>\n",
       "      <td>Incidence of tuberculosis (per 100 000 populat...</td>\n",
       "      <td>2016</td>\n",
       "      <td>17 [14-19]</td>\n",
       "    </tr>\n",
       "    <tr>\n",
       "      <th>43</th>\n",
       "      <td>Algeria</td>\n",
       "      <td>Incidence of tuberculosis (per 100 000 populat...</td>\n",
       "      <td>2016</td>\n",
       "      <td>70 [54-89]</td>\n",
       "    </tr>\n",
       "    <tr>\n",
       "      <th>63</th>\n",
       "      <td>Andorra</td>\n",
       "      <td>Incidence of tuberculosis (per 100 000 populat...</td>\n",
       "      <td>2016</td>\n",
       "      <td>6 [5.1-6.9]</td>\n",
       "    </tr>\n",
       "    <tr>\n",
       "      <th>83</th>\n",
       "      <td>Angola</td>\n",
       "      <td>Incidence of tuberculosis (per 100 000 populat...</td>\n",
       "      <td>2016</td>\n",
       "      <td>362 [235-518]</td>\n",
       "    </tr>\n",
       "    <tr>\n",
       "      <th>...</th>\n",
       "      <td>...</td>\n",
       "      <td>...</td>\n",
       "      <td>...</td>\n",
       "      <td>...</td>\n",
       "    </tr>\n",
       "    <tr>\n",
       "      <th>3760</th>\n",
       "      <td>Venezuela (Bolivarian Republic of)</td>\n",
       "      <td>Incidence of tuberculosis (per 100 000 populat...</td>\n",
       "      <td>2016</td>\n",
       "      <td>34 [26-43]</td>\n",
       "    </tr>\n",
       "    <tr>\n",
       "      <th>3780</th>\n",
       "      <td>Viet Nam</td>\n",
       "      <td>Incidence of tuberculosis (per 100 000 populat...</td>\n",
       "      <td>2016</td>\n",
       "      <td>193 [122-281]</td>\n",
       "    </tr>\n",
       "    <tr>\n",
       "      <th>3800</th>\n",
       "      <td>Yemen</td>\n",
       "      <td>Incidence of tuberculosis (per 100 000 populat...</td>\n",
       "      <td>2016</td>\n",
       "      <td>48 [42-54]</td>\n",
       "    </tr>\n",
       "    <tr>\n",
       "      <th>3820</th>\n",
       "      <td>Zambia</td>\n",
       "      <td>Incidence of tuberculosis (per 100 000 populat...</td>\n",
       "      <td>2016</td>\n",
       "      <td>376 [244-535]</td>\n",
       "    </tr>\n",
       "    <tr>\n",
       "      <th>3840</th>\n",
       "      <td>Zimbabwe</td>\n",
       "      <td>Incidence of tuberculosis (per 100 000 populat...</td>\n",
       "      <td>2016</td>\n",
       "      <td>233 [173-302]</td>\n",
       "    </tr>\n",
       "  </tbody>\n",
       "</table>\n",
       "<p>194 rows × 4 columns</p>\n",
       "</div>"
      ],
      "text/plain": [
       "                                Location  \\\n",
       "3                            Afghanistan   \n",
       "23                               Albania   \n",
       "43                               Algeria   \n",
       "63                               Andorra   \n",
       "83                                Angola   \n",
       "...                                  ...   \n",
       "3760  Venezuela (Bolivarian Republic of)   \n",
       "3780                            Viet Nam   \n",
       "3800                               Yemen   \n",
       "3820                              Zambia   \n",
       "3840                            Zimbabwe   \n",
       "\n",
       "                                              Indicator  Period  First Tooltip  \n",
       "3     Incidence of tuberculosis (per 100 000 populat...    2016  189 [122-270]  \n",
       "23    Incidence of tuberculosis (per 100 000 populat...    2016     17 [14-19]  \n",
       "43    Incidence of tuberculosis (per 100 000 populat...    2016     70 [54-89]  \n",
       "63    Incidence of tuberculosis (per 100 000 populat...    2016    6 [5.1-6.9]  \n",
       "83    Incidence of tuberculosis (per 100 000 populat...    2016  362 [235-518]  \n",
       "...                                                 ...     ...            ...  \n",
       "3760  Incidence of tuberculosis (per 100 000 populat...    2016     34 [26-43]  \n",
       "3780  Incidence of tuberculosis (per 100 000 populat...    2016  193 [122-281]  \n",
       "3800  Incidence of tuberculosis (per 100 000 populat...    2016     48 [42-54]  \n",
       "3820  Incidence of tuberculosis (per 100 000 populat...    2016  376 [244-535]  \n",
       "3840  Incidence of tuberculosis (per 100 000 populat...    2016  233 [173-302]  \n",
       "\n",
       "[194 rows x 4 columns]"
      ]
     },
     "execution_count": 316,
     "metadata": {},
     "output_type": "execute_result"
    }
   ],
   "source": [
    "tuber_2016 = tuber_data[tuber_data['Period'] == 2016]\n",
    "tuber_2016"
   ]
  },
  {
   "cell_type": "code",
   "execution_count": 317,
   "metadata": {},
   "outputs": [
    {
     "data": {
      "text/html": [
       "<div>\n",
       "<style scoped>\n",
       "    .dataframe tbody tr th:only-of-type {\n",
       "        vertical-align: middle;\n",
       "    }\n",
       "\n",
       "    .dataframe tbody tr th {\n",
       "        vertical-align: top;\n",
       "    }\n",
       "\n",
       "    .dataframe thead th {\n",
       "        text-align: right;\n",
       "    }\n",
       "</style>\n",
       "<table border=\"1\" class=\"dataframe\">\n",
       "  <thead>\n",
       "    <tr style=\"text-align: right;\">\n",
       "      <th></th>\n",
       "      <th>Location</th>\n",
       "      <th>Indicator</th>\n",
       "      <th>Period</th>\n",
       "      <th>First Tooltip</th>\n",
       "    </tr>\n",
       "  </thead>\n",
       "  <tbody>\n",
       "    <tr>\n",
       "      <th>4</th>\n",
       "      <td>Afghanistan</td>\n",
       "      <td>Incidence of tuberculosis (per 100 000 populat...</td>\n",
       "      <td>2015</td>\n",
       "      <td>189 [122-270]</td>\n",
       "    </tr>\n",
       "    <tr>\n",
       "      <th>24</th>\n",
       "      <td>Albania</td>\n",
       "      <td>Incidence of tuberculosis (per 100 000 populat...</td>\n",
       "      <td>2015</td>\n",
       "      <td>17 [14-19]</td>\n",
       "    </tr>\n",
       "    <tr>\n",
       "      <th>44</th>\n",
       "      <td>Algeria</td>\n",
       "      <td>Incidence of tuberculosis (per 100 000 populat...</td>\n",
       "      <td>2015</td>\n",
       "      <td>75 [57-94]</td>\n",
       "    </tr>\n",
       "    <tr>\n",
       "      <th>64</th>\n",
       "      <td>Andorra</td>\n",
       "      <td>Incidence of tuberculosis (per 100 000 populat...</td>\n",
       "      <td>2015</td>\n",
       "      <td>5.9 [5-6.8]</td>\n",
       "    </tr>\n",
       "    <tr>\n",
       "      <th>84</th>\n",
       "      <td>Angola</td>\n",
       "      <td>Incidence of tuberculosis (per 100 000 populat...</td>\n",
       "      <td>2015</td>\n",
       "      <td>366 [237-523]</td>\n",
       "    </tr>\n",
       "    <tr>\n",
       "      <th>...</th>\n",
       "      <td>...</td>\n",
       "      <td>...</td>\n",
       "      <td>...</td>\n",
       "      <td>...</td>\n",
       "    </tr>\n",
       "    <tr>\n",
       "      <th>3761</th>\n",
       "      <td>Venezuela (Bolivarian Republic of)</td>\n",
       "      <td>Incidence of tuberculosis (per 100 000 populat...</td>\n",
       "      <td>2015</td>\n",
       "      <td>30 [23-38]</td>\n",
       "    </tr>\n",
       "    <tr>\n",
       "      <th>3781</th>\n",
       "      <td>Viet Nam</td>\n",
       "      <td>Incidence of tuberculosis (per 100 000 populat...</td>\n",
       "      <td>2015</td>\n",
       "      <td>199 [125-290]</td>\n",
       "    </tr>\n",
       "    <tr>\n",
       "      <th>3801</th>\n",
       "      <td>Yemen</td>\n",
       "      <td>Incidence of tuberculosis (per 100 000 populat...</td>\n",
       "      <td>2015</td>\n",
       "      <td>48 [42-54]</td>\n",
       "    </tr>\n",
       "    <tr>\n",
       "      <th>3821</th>\n",
       "      <td>Zambia</td>\n",
       "      <td>Incidence of tuberculosis (per 100 000 populat...</td>\n",
       "      <td>2015</td>\n",
       "      <td>391 [253-558]</td>\n",
       "    </tr>\n",
       "    <tr>\n",
       "      <th>3841</th>\n",
       "      <td>Zimbabwe</td>\n",
       "      <td>Incidence of tuberculosis (per 100 000 populat...</td>\n",
       "      <td>2015</td>\n",
       "      <td>242 [179-314]</td>\n",
       "    </tr>\n",
       "  </tbody>\n",
       "</table>\n",
       "<p>194 rows × 4 columns</p>\n",
       "</div>"
      ],
      "text/plain": [
       "                                Location  \\\n",
       "4                            Afghanistan   \n",
       "24                               Albania   \n",
       "44                               Algeria   \n",
       "64                               Andorra   \n",
       "84                                Angola   \n",
       "...                                  ...   \n",
       "3761  Venezuela (Bolivarian Republic of)   \n",
       "3781                            Viet Nam   \n",
       "3801                               Yemen   \n",
       "3821                              Zambia   \n",
       "3841                            Zimbabwe   \n",
       "\n",
       "                                              Indicator  Period  First Tooltip  \n",
       "4     Incidence of tuberculosis (per 100 000 populat...    2015  189 [122-270]  \n",
       "24    Incidence of tuberculosis (per 100 000 populat...    2015     17 [14-19]  \n",
       "44    Incidence of tuberculosis (per 100 000 populat...    2015     75 [57-94]  \n",
       "64    Incidence of tuberculosis (per 100 000 populat...    2015    5.9 [5-6.8]  \n",
       "84    Incidence of tuberculosis (per 100 000 populat...    2015  366 [237-523]  \n",
       "...                                                 ...     ...            ...  \n",
       "3761  Incidence of tuberculosis (per 100 000 populat...    2015     30 [23-38]  \n",
       "3781  Incidence of tuberculosis (per 100 000 populat...    2015  199 [125-290]  \n",
       "3801  Incidence of tuberculosis (per 100 000 populat...    2015     48 [42-54]  \n",
       "3821  Incidence of tuberculosis (per 100 000 populat...    2015  391 [253-558]  \n",
       "3841  Incidence of tuberculosis (per 100 000 populat...    2015  242 [179-314]  \n",
       "\n",
       "[194 rows x 4 columns]"
      ]
     },
     "execution_count": 317,
     "metadata": {},
     "output_type": "execute_result"
    }
   ],
   "source": [
    "tuber_2015 = tuber_data[tuber_data['Period'] == 2015]\n",
    "tuber_2015"
   ]
  },
  {
   "cell_type": "code",
   "execution_count": null,
   "metadata": {},
   "outputs": [],
   "source": []
  },
  {
   "cell_type": "markdown",
   "metadata": {},
   "source": [
    "## Infant Mortality Rate"
   ]
  },
  {
   "cell_type": "code",
   "execution_count": 318,
   "metadata": {},
   "outputs": [
    {
     "data": {
      "text/html": [
       "<div>\n",
       "<style scoped>\n",
       "    .dataframe tbody tr th:only-of-type {\n",
       "        vertical-align: middle;\n",
       "    }\n",
       "\n",
       "    .dataframe tbody tr th {\n",
       "        vertical-align: top;\n",
       "    }\n",
       "\n",
       "    .dataframe thead th {\n",
       "        text-align: right;\n",
       "    }\n",
       "</style>\n",
       "<table border=\"1\" class=\"dataframe\">\n",
       "  <thead>\n",
       "    <tr style=\"text-align: right;\">\n",
       "      <th></th>\n",
       "      <th>Location</th>\n",
       "      <th>Period</th>\n",
       "      <th>Indicator</th>\n",
       "      <th>Dim1</th>\n",
       "      <th>First Tooltip</th>\n",
       "    </tr>\n",
       "  </thead>\n",
       "  <tbody>\n",
       "    <tr>\n",
       "      <th>0</th>\n",
       "      <td>Afghanistan</td>\n",
       "      <td>2019</td>\n",
       "      <td>Infant mortality rate (probability of dying be...</td>\n",
       "      <td>Both sexes</td>\n",
       "      <td>46.51 [37.71-55.82]</td>\n",
       "    </tr>\n",
       "    <tr>\n",
       "      <th>1</th>\n",
       "      <td>Afghanistan</td>\n",
       "      <td>2019</td>\n",
       "      <td>Infant mortality rate (probability of dying be...</td>\n",
       "      <td>Male</td>\n",
       "      <td>49.8 [40.2-59.95]</td>\n",
       "    </tr>\n",
       "    <tr>\n",
       "      <th>2</th>\n",
       "      <td>Afghanistan</td>\n",
       "      <td>2019</td>\n",
       "      <td>Infant mortality rate (probability of dying be...</td>\n",
       "      <td>Female</td>\n",
       "      <td>43.05 [34.82-51.96]</td>\n",
       "    </tr>\n",
       "    <tr>\n",
       "      <th>3</th>\n",
       "      <td>Afghanistan</td>\n",
       "      <td>2018</td>\n",
       "      <td>Infant mortality rate (probability of dying be...</td>\n",
       "      <td>Both sexes</td>\n",
       "      <td>48.04 [39.94-56.32]</td>\n",
       "    </tr>\n",
       "    <tr>\n",
       "      <th>4</th>\n",
       "      <td>Afghanistan</td>\n",
       "      <td>2018</td>\n",
       "      <td>Infant mortality rate (probability of dying be...</td>\n",
       "      <td>Male</td>\n",
       "      <td>51.35 [42.56-60.4]</td>\n",
       "    </tr>\n",
       "    <tr>\n",
       "      <th>...</th>\n",
       "      <td>...</td>\n",
       "      <td>...</td>\n",
       "      <td>...</td>\n",
       "      <td>...</td>\n",
       "      <td>...</td>\n",
       "    </tr>\n",
       "    <tr>\n",
       "      <th>29994</th>\n",
       "      <td>Timor-Leste</td>\n",
       "      <td>2002</td>\n",
       "      <td>Infant mortality rate (probability of dying be...</td>\n",
       "      <td>Both sexes</td>\n",
       "      <td>77.08 [70.29-84.49]</td>\n",
       "    </tr>\n",
       "    <tr>\n",
       "      <th>29995</th>\n",
       "      <td>Timor-Leste</td>\n",
       "      <td>2002</td>\n",
       "      <td>Infant mortality rate (probability of dying be...</td>\n",
       "      <td>Male</td>\n",
       "      <td>82.53 [74.86-90.67]</td>\n",
       "    </tr>\n",
       "    <tr>\n",
       "      <th>29996</th>\n",
       "      <td>Timor-Leste</td>\n",
       "      <td>2002</td>\n",
       "      <td>Infant mortality rate (probability of dying be...</td>\n",
       "      <td>Female</td>\n",
       "      <td>71.37 [64.81-78.76]</td>\n",
       "    </tr>\n",
       "    <tr>\n",
       "      <th>29997</th>\n",
       "      <td>Timor-Leste</td>\n",
       "      <td>2001</td>\n",
       "      <td>Infant mortality rate (probability of dying be...</td>\n",
       "      <td>Both sexes</td>\n",
       "      <td>80.96 [74.1-88.4]</td>\n",
       "    </tr>\n",
       "    <tr>\n",
       "      <th>29998</th>\n",
       "      <td>Timor-Leste</td>\n",
       "      <td>2001</td>\n",
       "      <td>Infant mortality rate (probability of dying be...</td>\n",
       "      <td>Male</td>\n",
       "      <td>86.46 [78.83-94.89]</td>\n",
       "    </tr>\n",
       "  </tbody>\n",
       "</table>\n",
       "<p>29999 rows × 5 columns</p>\n",
       "</div>"
      ],
      "text/plain": [
       "          Location  Period                                          Indicator  \\\n",
       "0      Afghanistan    2019  Infant mortality rate (probability of dying be...   \n",
       "1      Afghanistan    2019  Infant mortality rate (probability of dying be...   \n",
       "2      Afghanistan    2019  Infant mortality rate (probability of dying be...   \n",
       "3      Afghanistan    2018  Infant mortality rate (probability of dying be...   \n",
       "4      Afghanistan    2018  Infant mortality rate (probability of dying be...   \n",
       "...            ...     ...                                                ...   \n",
       "29994  Timor-Leste    2002  Infant mortality rate (probability of dying be...   \n",
       "29995  Timor-Leste    2002  Infant mortality rate (probability of dying be...   \n",
       "29996  Timor-Leste    2002  Infant mortality rate (probability of dying be...   \n",
       "29997  Timor-Leste    2001  Infant mortality rate (probability of dying be...   \n",
       "29998  Timor-Leste    2001  Infant mortality rate (probability of dying be...   \n",
       "\n",
       "             Dim1        First Tooltip  \n",
       "0      Both sexes  46.51 [37.71-55.82]  \n",
       "1            Male    49.8 [40.2-59.95]  \n",
       "2          Female  43.05 [34.82-51.96]  \n",
       "3      Both sexes  48.04 [39.94-56.32]  \n",
       "4            Male   51.35 [42.56-60.4]  \n",
       "...           ...                  ...  \n",
       "29994  Both sexes  77.08 [70.29-84.49]  \n",
       "29995        Male  82.53 [74.86-90.67]  \n",
       "29996      Female  71.37 [64.81-78.76]  \n",
       "29997  Both sexes    80.96 [74.1-88.4]  \n",
       "29998        Male  86.46 [78.83-94.89]  \n",
       "\n",
       "[29999 rows x 5 columns]"
      ]
     },
     "execution_count": 318,
     "metadata": {},
     "output_type": "execute_result"
    }
   ],
   "source": [
    "infant_mort = pd.read_csv(WHS_path/'infantMortalityRate.csv')\n",
    "infant_mort"
   ]
  },
  {
   "cell_type": "code",
   "execution_count": 319,
   "metadata": {},
   "outputs": [
    {
     "data": {
      "text/plain": [
       "Location         29999\n",
       "Period           29999\n",
       "Indicator        29999\n",
       "Dim1             29999\n",
       "First Tooltip    29999\n",
       "dtype: int64"
      ]
     },
     "execution_count": 319,
     "metadata": {},
     "output_type": "execute_result"
    }
   ],
   "source": [
    "infant_mort.isnull().count()"
   ]
  },
  {
   "cell_type": "code",
   "execution_count": 325,
   "metadata": {},
   "outputs": [
    {
     "data": {
      "text/html": [
       "<div>\n",
       "<style scoped>\n",
       "    .dataframe tbody tr th:only-of-type {\n",
       "        vertical-align: middle;\n",
       "    }\n",
       "\n",
       "    .dataframe tbody tr th {\n",
       "        vertical-align: top;\n",
       "    }\n",
       "\n",
       "    .dataframe thead th {\n",
       "        text-align: right;\n",
       "    }\n",
       "</style>\n",
       "<table border=\"1\" class=\"dataframe\">\n",
       "  <thead>\n",
       "    <tr style=\"text-align: right;\">\n",
       "      <th></th>\n",
       "      <th>Location</th>\n",
       "      <th>Period</th>\n",
       "      <th>Indicator</th>\n",
       "      <th>Dim1</th>\n",
       "      <th>First Tooltip</th>\n",
       "    </tr>\n",
       "  </thead>\n",
       "  <tbody>\n",
       "  </tbody>\n",
       "</table>\n",
       "</div>"
      ],
      "text/plain": [
       "Empty DataFrame\n",
       "Columns: [Location, Period, Indicator, Dim1, First Tooltip]\n",
       "Index: []"
      ]
     },
     "execution_count": 325,
     "metadata": {},
     "output_type": "execute_result"
    }
   ],
   "source": [
    "infant_mort[infant_mort['First Tooltip'] == '0.0[0.0-0.0]']"
   ]
  },
  {
   "cell_type": "code",
   "execution_count": 326,
   "metadata": {},
   "outputs": [
    {
     "data": {
      "text/plain": [
       "array(['Infant mortality rate (probability of dying between birth and age 1 per 1000 live births)'],\n",
       "      dtype=object)"
      ]
     },
     "execution_count": 326,
     "metadata": {},
     "output_type": "execute_result"
    }
   ],
   "source": [
    "infant_mort['Indicator'].unique()"
   ]
  },
  {
   "cell_type": "code",
   "execution_count": 348,
   "metadata": {},
   "outputs": [
    {
     "data": {
      "text/html": [
       "<div>\n",
       "<style scoped>\n",
       "    .dataframe tbody tr th:only-of-type {\n",
       "        vertical-align: middle;\n",
       "    }\n",
       "\n",
       "    .dataframe tbody tr th {\n",
       "        vertical-align: top;\n",
       "    }\n",
       "\n",
       "    .dataframe thead th {\n",
       "        text-align: right;\n",
       "    }\n",
       "</style>\n",
       "<table border=\"1\" class=\"dataframe\">\n",
       "  <thead>\n",
       "    <tr style=\"text-align: right;\">\n",
       "      <th></th>\n",
       "      <th>Location</th>\n",
       "      <th>Period</th>\n",
       "      <th>Indicator</th>\n",
       "      <th>Dim1</th>\n",
       "      <th>First Tooltip</th>\n",
       "    </tr>\n",
       "  </thead>\n",
       "  <tbody>\n",
       "    <tr>\n",
       "      <th>0</th>\n",
       "      <td>Afghanistan</td>\n",
       "      <td>2019</td>\n",
       "      <td>Infant mortality rate (probability of dying be...</td>\n",
       "      <td>Both sexes</td>\n",
       "      <td>46.51 [37.71-55.82]</td>\n",
       "    </tr>\n",
       "    <tr>\n",
       "      <th>3</th>\n",
       "      <td>Afghanistan</td>\n",
       "      <td>2018</td>\n",
       "      <td>Infant mortality rate (probability of dying be...</td>\n",
       "      <td>Both sexes</td>\n",
       "      <td>48.04 [39.94-56.32]</td>\n",
       "    </tr>\n",
       "    <tr>\n",
       "      <th>6</th>\n",
       "      <td>Afghanistan</td>\n",
       "      <td>2017</td>\n",
       "      <td>Infant mortality rate (probability of dying be...</td>\n",
       "      <td>Both sexes</td>\n",
       "      <td>49.61 [42.08-57.23]</td>\n",
       "    </tr>\n",
       "    <tr>\n",
       "      <th>9</th>\n",
       "      <td>Afghanistan</td>\n",
       "      <td>2016</td>\n",
       "      <td>Infant mortality rate (probability of dying be...</td>\n",
       "      <td>Both sexes</td>\n",
       "      <td>51.32 [44.36-58.38]</td>\n",
       "    </tr>\n",
       "    <tr>\n",
       "      <th>12</th>\n",
       "      <td>Afghanistan</td>\n",
       "      <td>2015</td>\n",
       "      <td>Infant mortality rate (probability of dying be...</td>\n",
       "      <td>Both sexes</td>\n",
       "      <td>53.17 [46.81-59.79]</td>\n",
       "    </tr>\n",
       "    <tr>\n",
       "      <th>...</th>\n",
       "      <td>...</td>\n",
       "      <td>...</td>\n",
       "      <td>...</td>\n",
       "      <td>...</td>\n",
       "      <td>...</td>\n",
       "    </tr>\n",
       "    <tr>\n",
       "      <th>29985</th>\n",
       "      <td>Timor-Leste</td>\n",
       "      <td>2005</td>\n",
       "      <td>Infant mortality rate (probability of dying be...</td>\n",
       "      <td>Both sexes</td>\n",
       "      <td>65.92 [58.83-73.66]</td>\n",
       "    </tr>\n",
       "    <tr>\n",
       "      <th>29988</th>\n",
       "      <td>Timor-Leste</td>\n",
       "      <td>2004</td>\n",
       "      <td>Infant mortality rate (probability of dying be...</td>\n",
       "      <td>Both sexes</td>\n",
       "      <td>69.57 [62.62-77.06]</td>\n",
       "    </tr>\n",
       "    <tr>\n",
       "      <th>29991</th>\n",
       "      <td>Timor-Leste</td>\n",
       "      <td>2003</td>\n",
       "      <td>Infant mortality rate (probability of dying be...</td>\n",
       "      <td>Both sexes</td>\n",
       "      <td>73.3 [66.44-80.69]</td>\n",
       "    </tr>\n",
       "    <tr>\n",
       "      <th>29994</th>\n",
       "      <td>Timor-Leste</td>\n",
       "      <td>2002</td>\n",
       "      <td>Infant mortality rate (probability of dying be...</td>\n",
       "      <td>Both sexes</td>\n",
       "      <td>77.08 [70.29-84.49]</td>\n",
       "    </tr>\n",
       "    <tr>\n",
       "      <th>29997</th>\n",
       "      <td>Timor-Leste</td>\n",
       "      <td>2001</td>\n",
       "      <td>Infant mortality rate (probability of dying be...</td>\n",
       "      <td>Both sexes</td>\n",
       "      <td>80.96 [74.1-88.4]</td>\n",
       "    </tr>\n",
       "  </tbody>\n",
       "</table>\n",
       "<p>10000 rows × 5 columns</p>\n",
       "</div>"
      ],
      "text/plain": [
       "          Location  Period                                          Indicator  \\\n",
       "0      Afghanistan    2019  Infant mortality rate (probability of dying be...   \n",
       "3      Afghanistan    2018  Infant mortality rate (probability of dying be...   \n",
       "6      Afghanistan    2017  Infant mortality rate (probability of dying be...   \n",
       "9      Afghanistan    2016  Infant mortality rate (probability of dying be...   \n",
       "12     Afghanistan    2015  Infant mortality rate (probability of dying be...   \n",
       "...            ...     ...                                                ...   \n",
       "29985  Timor-Leste    2005  Infant mortality rate (probability of dying be...   \n",
       "29988  Timor-Leste    2004  Infant mortality rate (probability of dying be...   \n",
       "29991  Timor-Leste    2003  Infant mortality rate (probability of dying be...   \n",
       "29994  Timor-Leste    2002  Infant mortality rate (probability of dying be...   \n",
       "29997  Timor-Leste    2001  Infant mortality rate (probability of dying be...   \n",
       "\n",
       "             Dim1        First Tooltip  \n",
       "0      Both sexes  46.51 [37.71-55.82]  \n",
       "3      Both sexes  48.04 [39.94-56.32]  \n",
       "6      Both sexes  49.61 [42.08-57.23]  \n",
       "9      Both sexes  51.32 [44.36-58.38]  \n",
       "12     Both sexes  53.17 [46.81-59.79]  \n",
       "...           ...                  ...  \n",
       "29985  Both sexes  65.92 [58.83-73.66]  \n",
       "29988  Both sexes  69.57 [62.62-77.06]  \n",
       "29991  Both sexes   73.3 [66.44-80.69]  \n",
       "29994  Both sexes  77.08 [70.29-84.49]  \n",
       "29997  Both sexes    80.96 [74.1-88.4]  \n",
       "\n",
       "[10000 rows x 5 columns]"
      ]
     },
     "execution_count": 348,
     "metadata": {},
     "output_type": "execute_result"
    }
   ],
   "source": [
    "infant_mort_bs = infant_mort[infant_mort['Dim1'] == 'Both sexes']\n",
    "infant_mort_bs"
   ]
  },
  {
   "cell_type": "markdown",
   "metadata": {},
   "source": [
    "I ignored the years before 2000 because I know we won't use those. The years are almost all the same, so I just picked 2015 and 2016."
   ]
  },
  {
   "cell_type": "code",
   "execution_count": 349,
   "metadata": {},
   "outputs": [
    {
     "data": {
      "text/plain": [
       "array([2019, 2018, 2017, 2016, 2015, 2014, 2013, 2012, 2011, 2010, 2009,\n",
       "       2008, 2007, 2006, 2005, 2004, 2003, 2002, 2001, 2000, 1999, 1998,\n",
       "       1997, 1996, 1995, 1994, 1993, 1992, 1991, 1990, 1989, 1988, 1987,\n",
       "       1986, 1985, 1984, 1983, 1982, 1981, 1980, 1979, 1978, 1977, 1976,\n",
       "       1975, 1974, 1973, 1972, 1971, 1970, 1969, 1968, 1967, 1966, 1965,\n",
       "       1964, 1963, 1962, 1961, 1960, 1959, 1958, 1957, 1956, 1955, 1954,\n",
       "       1953, 1952, 1951, 1950])"
      ]
     },
     "execution_count": 349,
     "metadata": {},
     "output_type": "execute_result"
    }
   ],
   "source": [
    "infant_mort_bs['Period'].unique()"
   ]
  },
  {
   "cell_type": "code",
   "execution_count": 350,
   "metadata": {},
   "outputs": [
    {
     "data": {
      "text/plain": [
       "Location         172\n",
       "Period           172\n",
       "Indicator        172\n",
       "Dim1             172\n",
       "First Tooltip    172\n",
       "dtype: int64"
      ]
     },
     "execution_count": 350,
     "metadata": {},
     "output_type": "execute_result"
    }
   ],
   "source": [
    "infant_mort_bs[infant_mort_bs['Period'] == 2019].count()"
   ]
  },
  {
   "cell_type": "code",
   "execution_count": 351,
   "metadata": {},
   "outputs": [
    {
     "data": {
      "text/plain": [
       "Location         172\n",
       "Period           172\n",
       "Indicator        172\n",
       "Dim1             172\n",
       "First Tooltip    172\n",
       "dtype: int64"
      ]
     },
     "execution_count": 351,
     "metadata": {},
     "output_type": "execute_result"
    }
   ],
   "source": [
    "infant_mort_bs[infant_mort_bs['Period'] == 2018].count()"
   ]
  },
  {
   "cell_type": "code",
   "execution_count": 352,
   "metadata": {},
   "outputs": [
    {
     "data": {
      "text/plain": [
       "Location         172\n",
       "Period           172\n",
       "Indicator        172\n",
       "Dim1             172\n",
       "First Tooltip    172\n",
       "dtype: int64"
      ]
     },
     "execution_count": 352,
     "metadata": {},
     "output_type": "execute_result"
    }
   ],
   "source": [
    "infant_mort_bs[infant_mort_bs['Period'] == 2017].count()"
   ]
  },
  {
   "cell_type": "code",
   "execution_count": 353,
   "metadata": {},
   "outputs": [
    {
     "data": {
      "text/plain": [
       "Location         172\n",
       "Period           172\n",
       "Indicator        172\n",
       "Dim1             172\n",
       "First Tooltip    172\n",
       "dtype: int64"
      ]
     },
     "execution_count": 353,
     "metadata": {},
     "output_type": "execute_result"
    }
   ],
   "source": [
    "infant_mort_bs[infant_mort_bs['Period'] == 2016].count()"
   ]
  },
  {
   "cell_type": "code",
   "execution_count": 354,
   "metadata": {},
   "outputs": [
    {
     "data": {
      "text/plain": [
       "Location         172\n",
       "Period           172\n",
       "Indicator        172\n",
       "Dim1             172\n",
       "First Tooltip    172\n",
       "dtype: int64"
      ]
     },
     "execution_count": 354,
     "metadata": {},
     "output_type": "execute_result"
    }
   ],
   "source": [
    "infant_mort_bs[infant_mort_bs['Period'] == 2015].count()"
   ]
  },
  {
   "cell_type": "code",
   "execution_count": 355,
   "metadata": {},
   "outputs": [
    {
     "data": {
      "text/plain": [
       "Location         172\n",
       "Period           172\n",
       "Indicator        172\n",
       "Dim1             172\n",
       "First Tooltip    172\n",
       "dtype: int64"
      ]
     },
     "execution_count": 355,
     "metadata": {},
     "output_type": "execute_result"
    }
   ],
   "source": [
    "infant_mort_bs[infant_mort_bs['Period'] == 2014].count()"
   ]
  },
  {
   "cell_type": "code",
   "execution_count": 356,
   "metadata": {},
   "outputs": [
    {
     "data": {
      "text/plain": [
       "Location         172\n",
       "Period           172\n",
       "Indicator        172\n",
       "Dim1             172\n",
       "First Tooltip    172\n",
       "dtype: int64"
      ]
     },
     "execution_count": 356,
     "metadata": {},
     "output_type": "execute_result"
    }
   ],
   "source": [
    "infant_mort_bs[infant_mort_bs['Period'] == 2013].count()"
   ]
  },
  {
   "cell_type": "code",
   "execution_count": 357,
   "metadata": {},
   "outputs": [
    {
     "data": {
      "text/plain": [
       "Location         172\n",
       "Period           172\n",
       "Indicator        172\n",
       "Dim1             172\n",
       "First Tooltip    172\n",
       "dtype: int64"
      ]
     },
     "execution_count": 357,
     "metadata": {},
     "output_type": "execute_result"
    }
   ],
   "source": [
    "infant_mort_bs[infant_mort_bs['Period'] == 2012].count()"
   ]
  },
  {
   "cell_type": "code",
   "execution_count": 358,
   "metadata": {},
   "outputs": [
    {
     "data": {
      "text/plain": [
       "Location         172\n",
       "Period           172\n",
       "Indicator        172\n",
       "Dim1             172\n",
       "First Tooltip    172\n",
       "dtype: int64"
      ]
     },
     "execution_count": 358,
     "metadata": {},
     "output_type": "execute_result"
    }
   ],
   "source": [
    "infant_mort_bs[infant_mort_bs['Period'] == 2011].count()"
   ]
  },
  {
   "cell_type": "code",
   "execution_count": 359,
   "metadata": {},
   "outputs": [
    {
     "data": {
      "text/plain": [
       "Location         172\n",
       "Period           172\n",
       "Indicator        172\n",
       "Dim1             172\n",
       "First Tooltip    172\n",
       "dtype: int64"
      ]
     },
     "execution_count": 359,
     "metadata": {},
     "output_type": "execute_result"
    }
   ],
   "source": [
    "infant_mort_bs[infant_mort_bs['Period'] == 2010].count()"
   ]
  },
  {
   "cell_type": "code",
   "execution_count": 360,
   "metadata": {},
   "outputs": [
    {
     "data": {
      "text/plain": [
       "Location         172\n",
       "Period           172\n",
       "Indicator        172\n",
       "Dim1             172\n",
       "First Tooltip    172\n",
       "dtype: int64"
      ]
     },
     "execution_count": 360,
     "metadata": {},
     "output_type": "execute_result"
    }
   ],
   "source": [
    "infant_mort_bs[infant_mort_bs['Period'] == 2009].count()"
   ]
  },
  {
   "cell_type": "code",
   "execution_count": 361,
   "metadata": {},
   "outputs": [
    {
     "data": {
      "text/plain": [
       "Location         172\n",
       "Period           172\n",
       "Indicator        172\n",
       "Dim1             172\n",
       "First Tooltip    172\n",
       "dtype: int64"
      ]
     },
     "execution_count": 361,
     "metadata": {},
     "output_type": "execute_result"
    }
   ],
   "source": [
    "infant_mort_bs[infant_mort_bs['Period'] == 2008].count()"
   ]
  },
  {
   "cell_type": "code",
   "execution_count": 362,
   "metadata": {},
   "outputs": [
    {
     "data": {
      "text/plain": [
       "Location         172\n",
       "Period           172\n",
       "Indicator        172\n",
       "Dim1             172\n",
       "First Tooltip    172\n",
       "dtype: int64"
      ]
     },
     "execution_count": 362,
     "metadata": {},
     "output_type": "execute_result"
    }
   ],
   "source": [
    "infant_mort_bs[infant_mort_bs['Period'] == 2007].count()"
   ]
  },
  {
   "cell_type": "code",
   "execution_count": 363,
   "metadata": {},
   "outputs": [
    {
     "data": {
      "text/plain": [
       "Location         172\n",
       "Period           172\n",
       "Indicator        172\n",
       "Dim1             172\n",
       "First Tooltip    172\n",
       "dtype: int64"
      ]
     },
     "execution_count": 363,
     "metadata": {},
     "output_type": "execute_result"
    }
   ],
   "source": [
    "infant_mort_bs[infant_mort_bs['Period'] == 2006].count()"
   ]
  },
  {
   "cell_type": "code",
   "execution_count": 364,
   "metadata": {},
   "outputs": [
    {
     "data": {
      "text/plain": [
       "Location         172\n",
       "Period           172\n",
       "Indicator        172\n",
       "Dim1             172\n",
       "First Tooltip    172\n",
       "dtype: int64"
      ]
     },
     "execution_count": 364,
     "metadata": {},
     "output_type": "execute_result"
    }
   ],
   "source": [
    "infant_mort_bs[infant_mort_bs['Period'] == 2005].count()"
   ]
  },
  {
   "cell_type": "code",
   "execution_count": 365,
   "metadata": {},
   "outputs": [
    {
     "data": {
      "text/plain": [
       "Location         172\n",
       "Period           172\n",
       "Indicator        172\n",
       "Dim1             172\n",
       "First Tooltip    172\n",
       "dtype: int64"
      ]
     },
     "execution_count": 365,
     "metadata": {},
     "output_type": "execute_result"
    }
   ],
   "source": [
    "infant_mort_bs[infant_mort_bs['Period'] == 2004].count()"
   ]
  },
  {
   "cell_type": "code",
   "execution_count": 366,
   "metadata": {},
   "outputs": [
    {
     "data": {
      "text/plain": [
       "Location         172\n",
       "Period           172\n",
       "Indicator        172\n",
       "Dim1             172\n",
       "First Tooltip    172\n",
       "dtype: int64"
      ]
     },
     "execution_count": 366,
     "metadata": {},
     "output_type": "execute_result"
    }
   ],
   "source": [
    "infant_mort_bs[infant_mort_bs['Period'] == 2003].count()"
   ]
  },
  {
   "cell_type": "code",
   "execution_count": 367,
   "metadata": {},
   "outputs": [
    {
     "data": {
      "text/plain": [
       "Location         172\n",
       "Period           172\n",
       "Indicator        172\n",
       "Dim1             172\n",
       "First Tooltip    172\n",
       "dtype: int64"
      ]
     },
     "execution_count": 367,
     "metadata": {},
     "output_type": "execute_result"
    }
   ],
   "source": [
    "infant_mort_bs[infant_mort_bs['Period'] == 2002].count()"
   ]
  },
  {
   "cell_type": "code",
   "execution_count": 368,
   "metadata": {},
   "outputs": [
    {
     "data": {
      "text/plain": [
       "Location         172\n",
       "Period           172\n",
       "Indicator        172\n",
       "Dim1             172\n",
       "First Tooltip    172\n",
       "dtype: int64"
      ]
     },
     "execution_count": 368,
     "metadata": {},
     "output_type": "execute_result"
    }
   ],
   "source": [
    "infant_mort_bs[infant_mort_bs['Period'] == 2001].count()"
   ]
  },
  {
   "cell_type": "code",
   "execution_count": 369,
   "metadata": {},
   "outputs": [
    {
     "data": {
      "text/plain": [
       "Location         171\n",
       "Period           171\n",
       "Indicator        171\n",
       "Dim1             171\n",
       "First Tooltip    171\n",
       "dtype: int64"
      ]
     },
     "execution_count": 369,
     "metadata": {},
     "output_type": "execute_result"
    }
   ],
   "source": [
    "infant_mort_bs[infant_mort_bs['Period'] == 2000].count()"
   ]
  },
  {
   "cell_type": "markdown",
   "metadata": {},
   "source": [
    "## Dataset to export"
   ]
  },
  {
   "cell_type": "code",
   "execution_count": 370,
   "metadata": {},
   "outputs": [
    {
     "data": {
      "text/html": [
       "<div>\n",
       "<style scoped>\n",
       "    .dataframe tbody tr th:only-of-type {\n",
       "        vertical-align: middle;\n",
       "    }\n",
       "\n",
       "    .dataframe tbody tr th {\n",
       "        vertical-align: top;\n",
       "    }\n",
       "\n",
       "    .dataframe thead th {\n",
       "        text-align: right;\n",
       "    }\n",
       "</style>\n",
       "<table border=\"1\" class=\"dataframe\">\n",
       "  <thead>\n",
       "    <tr style=\"text-align: right;\">\n",
       "      <th></th>\n",
       "      <th>Location</th>\n",
       "      <th>Period</th>\n",
       "      <th>Indicator</th>\n",
       "      <th>Dim1</th>\n",
       "      <th>First Tooltip</th>\n",
       "    </tr>\n",
       "  </thead>\n",
       "  <tbody>\n",
       "    <tr>\n",
       "      <th>9</th>\n",
       "      <td>Afghanistan</td>\n",
       "      <td>2016</td>\n",
       "      <td>Infant mortality rate (probability of dying be...</td>\n",
       "      <td>Both sexes</td>\n",
       "      <td>51.32 [44.36-58.38]</td>\n",
       "    </tr>\n",
       "    <tr>\n",
       "      <th>183</th>\n",
       "      <td>Albania</td>\n",
       "      <td>2016</td>\n",
       "      <td>Infant mortality rate (probability of dying be...</td>\n",
       "      <td>Both sexes</td>\n",
       "      <td>8.38 [8.07-8.72]</td>\n",
       "    </tr>\n",
       "    <tr>\n",
       "      <th>309</th>\n",
       "      <td>Algeria</td>\n",
       "      <td>2016</td>\n",
       "      <td>Infant mortality rate (probability of dying be...</td>\n",
       "      <td>Both sexes</td>\n",
       "      <td>21.28 [20.81-21.75]</td>\n",
       "    </tr>\n",
       "    <tr>\n",
       "      <th>507</th>\n",
       "      <td>Andorra</td>\n",
       "      <td>2016</td>\n",
       "      <td>Infant mortality rate (probability of dying be...</td>\n",
       "      <td>Both sexes</td>\n",
       "      <td>3.2 [1.04-10.24]</td>\n",
       "    </tr>\n",
       "    <tr>\n",
       "      <th>612</th>\n",
       "      <td>Angola</td>\n",
       "      <td>2016</td>\n",
       "      <td>Infant mortality rate (probability of dying be...</td>\n",
       "      <td>Both sexes</td>\n",
       "      <td>55.56 [31.74-90.3]</td>\n",
       "    </tr>\n",
       "    <tr>\n",
       "      <th>...</th>\n",
       "      <td>...</td>\n",
       "      <td>...</td>\n",
       "      <td>...</td>\n",
       "      <td>...</td>\n",
       "      <td>...</td>\n",
       "    </tr>\n",
       "    <tr>\n",
       "      <th>29187</th>\n",
       "      <td>Switzerland</td>\n",
       "      <td>2016</td>\n",
       "      <td>Infant mortality rate (probability of dying be...</td>\n",
       "      <td>Both sexes</td>\n",
       "      <td>3.74 [3.58-3.92]</td>\n",
       "    </tr>\n",
       "    <tr>\n",
       "      <th>29397</th>\n",
       "      <td>Syrian Arab Republic</td>\n",
       "      <td>2016</td>\n",
       "      <td>Infant mortality rate (probability of dying be...</td>\n",
       "      <td>Both sexes</td>\n",
       "      <td>17.97 [11.75-21.82]</td>\n",
       "    </tr>\n",
       "    <tr>\n",
       "      <th>29598</th>\n",
       "      <td>Tajikistan</td>\n",
       "      <td>2016</td>\n",
       "      <td>Infant mortality rate (probability of dying be...</td>\n",
       "      <td>Both sexes</td>\n",
       "      <td>32.1 [24.71-41.72]</td>\n",
       "    </tr>\n",
       "    <tr>\n",
       "      <th>29742</th>\n",
       "      <td>Thailand</td>\n",
       "      <td>2016</td>\n",
       "      <td>Infant mortality rate (probability of dying be...</td>\n",
       "      <td>Both sexes</td>\n",
       "      <td>8.85 [7.76-10.65]</td>\n",
       "    </tr>\n",
       "    <tr>\n",
       "      <th>29952</th>\n",
       "      <td>Timor-Leste</td>\n",
       "      <td>2016</td>\n",
       "      <td>Infant mortality rate (probability of dying be...</td>\n",
       "      <td>Both sexes</td>\n",
       "      <td>41.86 [28.15-60.63]</td>\n",
       "    </tr>\n",
       "  </tbody>\n",
       "</table>\n",
       "<p>172 rows × 5 columns</p>\n",
       "</div>"
      ],
      "text/plain": [
       "                   Location  Period  \\\n",
       "9               Afghanistan    2016   \n",
       "183                 Albania    2016   \n",
       "309                 Algeria    2016   \n",
       "507                 Andorra    2016   \n",
       "612                  Angola    2016   \n",
       "...                     ...     ...   \n",
       "29187           Switzerland    2016   \n",
       "29397  Syrian Arab Republic    2016   \n",
       "29598            Tajikistan    2016   \n",
       "29742              Thailand    2016   \n",
       "29952           Timor-Leste    2016   \n",
       "\n",
       "                                               Indicator        Dim1  \\\n",
       "9      Infant mortality rate (probability of dying be...  Both sexes   \n",
       "183    Infant mortality rate (probability of dying be...  Both sexes   \n",
       "309    Infant mortality rate (probability of dying be...  Both sexes   \n",
       "507    Infant mortality rate (probability of dying be...  Both sexes   \n",
       "612    Infant mortality rate (probability of dying be...  Both sexes   \n",
       "...                                                  ...         ...   \n",
       "29187  Infant mortality rate (probability of dying be...  Both sexes   \n",
       "29397  Infant mortality rate (probability of dying be...  Both sexes   \n",
       "29598  Infant mortality rate (probability of dying be...  Both sexes   \n",
       "29742  Infant mortality rate (probability of dying be...  Both sexes   \n",
       "29952  Infant mortality rate (probability of dying be...  Both sexes   \n",
       "\n",
       "             First Tooltip  \n",
       "9      51.32 [44.36-58.38]  \n",
       "183       8.38 [8.07-8.72]  \n",
       "309    21.28 [20.81-21.75]  \n",
       "507       3.2 [1.04-10.24]  \n",
       "612     55.56 [31.74-90.3]  \n",
       "...                    ...  \n",
       "29187     3.74 [3.58-3.92]  \n",
       "29397  17.97 [11.75-21.82]  \n",
       "29598   32.1 [24.71-41.72]  \n",
       "29742    8.85 [7.76-10.65]  \n",
       "29952  41.86 [28.15-60.63]  \n",
       "\n",
       "[172 rows x 5 columns]"
      ]
     },
     "execution_count": 370,
     "metadata": {},
     "output_type": "execute_result"
    }
   ],
   "source": [
    "in_mort_2016 = infant_mort_bs[infant_mort_bs['Period'] == 2016]\n",
    "in_mort_2016"
   ]
  },
  {
   "cell_type": "markdown",
   "metadata": {},
   "source": [
    "## Dataset to export"
   ]
  },
  {
   "cell_type": "code",
   "execution_count": 371,
   "metadata": {},
   "outputs": [
    {
     "data": {
      "text/html": [
       "<div>\n",
       "<style scoped>\n",
       "    .dataframe tbody tr th:only-of-type {\n",
       "        vertical-align: middle;\n",
       "    }\n",
       "\n",
       "    .dataframe tbody tr th {\n",
       "        vertical-align: top;\n",
       "    }\n",
       "\n",
       "    .dataframe thead th {\n",
       "        text-align: right;\n",
       "    }\n",
       "</style>\n",
       "<table border=\"1\" class=\"dataframe\">\n",
       "  <thead>\n",
       "    <tr style=\"text-align: right;\">\n",
       "      <th></th>\n",
       "      <th>Location</th>\n",
       "      <th>Period</th>\n",
       "      <th>Indicator</th>\n",
       "      <th>Dim1</th>\n",
       "      <th>First Tooltip</th>\n",
       "    </tr>\n",
       "  </thead>\n",
       "  <tbody>\n",
       "    <tr>\n",
       "      <th>12</th>\n",
       "      <td>Afghanistan</td>\n",
       "      <td>2015</td>\n",
       "      <td>Infant mortality rate (probability of dying be...</td>\n",
       "      <td>Both sexes</td>\n",
       "      <td>53.17 [46.81-59.79]</td>\n",
       "    </tr>\n",
       "    <tr>\n",
       "      <th>186</th>\n",
       "      <td>Albania</td>\n",
       "      <td>2015</td>\n",
       "      <td>Infant mortality rate (probability of dying be...</td>\n",
       "      <td>Both sexes</td>\n",
       "      <td>8.51 [8.21-8.84]</td>\n",
       "    </tr>\n",
       "    <tr>\n",
       "      <th>312</th>\n",
       "      <td>Algeria</td>\n",
       "      <td>2015</td>\n",
       "      <td>Infant mortality rate (probability of dying be...</td>\n",
       "      <td>Both sexes</td>\n",
       "      <td>21.61 [21.13-22.1]</td>\n",
       "    </tr>\n",
       "    <tr>\n",
       "      <th>510</th>\n",
       "      <td>Andorra</td>\n",
       "      <td>2015</td>\n",
       "      <td>Infant mortality rate (probability of dying be...</td>\n",
       "      <td>Both sexes</td>\n",
       "      <td>3.34 [1.17-10.03]</td>\n",
       "    </tr>\n",
       "    <tr>\n",
       "      <th>615</th>\n",
       "      <td>Angola</td>\n",
       "      <td>2015</td>\n",
       "      <td>Infant mortality rate (probability of dying be...</td>\n",
       "      <td>Both sexes</td>\n",
       "      <td>57.82 [34.14-91.99]</td>\n",
       "    </tr>\n",
       "    <tr>\n",
       "      <th>...</th>\n",
       "      <td>...</td>\n",
       "      <td>...</td>\n",
       "      <td>...</td>\n",
       "      <td>...</td>\n",
       "      <td>...</td>\n",
       "    </tr>\n",
       "    <tr>\n",
       "      <th>29190</th>\n",
       "      <td>Switzerland</td>\n",
       "      <td>2015</td>\n",
       "      <td>Infant mortality rate (probability of dying be...</td>\n",
       "      <td>Both sexes</td>\n",
       "      <td>3.78 [3.64-3.93]</td>\n",
       "    </tr>\n",
       "    <tr>\n",
       "      <th>29400</th>\n",
       "      <td>Syrian Arab Republic</td>\n",
       "      <td>2015</td>\n",
       "      <td>Infant mortality rate (probability of dying be...</td>\n",
       "      <td>Both sexes</td>\n",
       "      <td>17.76 [12.16-21.37]</td>\n",
       "    </tr>\n",
       "    <tr>\n",
       "      <th>29601</th>\n",
       "      <td>Tajikistan</td>\n",
       "      <td>2015</td>\n",
       "      <td>Infant mortality rate (probability of dying be...</td>\n",
       "      <td>Both sexes</td>\n",
       "      <td>32.86 [26.55-40.87]</td>\n",
       "    </tr>\n",
       "    <tr>\n",
       "      <th>29745</th>\n",
       "      <td>Thailand</td>\n",
       "      <td>2015</td>\n",
       "      <td>Infant mortality rate (probability of dying be...</td>\n",
       "      <td>Both sexes</td>\n",
       "      <td>9.27 [8.14-10.97]</td>\n",
       "    </tr>\n",
       "    <tr>\n",
       "      <th>29955</th>\n",
       "      <td>Timor-Leste</td>\n",
       "      <td>2015</td>\n",
       "      <td>Infant mortality rate (probability of dying be...</td>\n",
       "      <td>Both sexes</td>\n",
       "      <td>43.24 [30.19-60.58]</td>\n",
       "    </tr>\n",
       "  </tbody>\n",
       "</table>\n",
       "<p>172 rows × 5 columns</p>\n",
       "</div>"
      ],
      "text/plain": [
       "                   Location  Period  \\\n",
       "12              Afghanistan    2015   \n",
       "186                 Albania    2015   \n",
       "312                 Algeria    2015   \n",
       "510                 Andorra    2015   \n",
       "615                  Angola    2015   \n",
       "...                     ...     ...   \n",
       "29190           Switzerland    2015   \n",
       "29400  Syrian Arab Republic    2015   \n",
       "29601            Tajikistan    2015   \n",
       "29745              Thailand    2015   \n",
       "29955           Timor-Leste    2015   \n",
       "\n",
       "                                               Indicator        Dim1  \\\n",
       "12     Infant mortality rate (probability of dying be...  Both sexes   \n",
       "186    Infant mortality rate (probability of dying be...  Both sexes   \n",
       "312    Infant mortality rate (probability of dying be...  Both sexes   \n",
       "510    Infant mortality rate (probability of dying be...  Both sexes   \n",
       "615    Infant mortality rate (probability of dying be...  Both sexes   \n",
       "...                                                  ...         ...   \n",
       "29190  Infant mortality rate (probability of dying be...  Both sexes   \n",
       "29400  Infant mortality rate (probability of dying be...  Both sexes   \n",
       "29601  Infant mortality rate (probability of dying be...  Both sexes   \n",
       "29745  Infant mortality rate (probability of dying be...  Both sexes   \n",
       "29955  Infant mortality rate (probability of dying be...  Both sexes   \n",
       "\n",
       "             First Tooltip  \n",
       "12     53.17 [46.81-59.79]  \n",
       "186       8.51 [8.21-8.84]  \n",
       "312     21.61 [21.13-22.1]  \n",
       "510      3.34 [1.17-10.03]  \n",
       "615    57.82 [34.14-91.99]  \n",
       "...                    ...  \n",
       "29190     3.78 [3.64-3.93]  \n",
       "29400  17.76 [12.16-21.37]  \n",
       "29601  32.86 [26.55-40.87]  \n",
       "29745    9.27 [8.14-10.97]  \n",
       "29955  43.24 [30.19-60.58]  \n",
       "\n",
       "[172 rows x 5 columns]"
      ]
     },
     "execution_count": 371,
     "metadata": {},
     "output_type": "execute_result"
    }
   ],
   "source": [
    "in_mort_2015 = infant_mort_bs[infant_mort_bs['Period'] == 2015]\n",
    "in_mort_2015"
   ]
  },
  {
   "cell_type": "code",
   "execution_count": null,
   "metadata": {},
   "outputs": [],
   "source": []
  },
  {
   "cell_type": "markdown",
   "metadata": {},
   "source": [
    "## NTDs"
   ]
  },
  {
   "cell_type": "code",
   "execution_count": 373,
   "metadata": {},
   "outputs": [
    {
     "data": {
      "text/html": [
       "<div>\n",
       "<style scoped>\n",
       "    .dataframe tbody tr th:only-of-type {\n",
       "        vertical-align: middle;\n",
       "    }\n",
       "\n",
       "    .dataframe tbody tr th {\n",
       "        vertical-align: top;\n",
       "    }\n",
       "\n",
       "    .dataframe thead th {\n",
       "        text-align: right;\n",
       "    }\n",
       "</style>\n",
       "<table border=\"1\" class=\"dataframe\">\n",
       "  <thead>\n",
       "    <tr style=\"text-align: right;\">\n",
       "      <th></th>\n",
       "      <th>Location</th>\n",
       "      <th>Indicator</th>\n",
       "      <th>Period</th>\n",
       "      <th>First Tooltip</th>\n",
       "    </tr>\n",
       "  </thead>\n",
       "  <tbody>\n",
       "    <tr>\n",
       "      <th>0</th>\n",
       "      <td>Afghanistan</td>\n",
       "      <td>Reported number of people requiring interventi...</td>\n",
       "      <td>2018</td>\n",
       "      <td>14834701</td>\n",
       "    </tr>\n",
       "    <tr>\n",
       "      <th>1</th>\n",
       "      <td>Afghanistan</td>\n",
       "      <td>Reported number of people requiring interventi...</td>\n",
       "      <td>2017</td>\n",
       "      <td>14786722</td>\n",
       "    </tr>\n",
       "    <tr>\n",
       "      <th>2</th>\n",
       "      <td>Afghanistan</td>\n",
       "      <td>Reported number of people requiring interventi...</td>\n",
       "      <td>2016</td>\n",
       "      <td>13275429</td>\n",
       "    </tr>\n",
       "    <tr>\n",
       "      <th>3</th>\n",
       "      <td>Afghanistan</td>\n",
       "      <td>Reported number of people requiring interventi...</td>\n",
       "      <td>2015</td>\n",
       "      <td>13765392</td>\n",
       "    </tr>\n",
       "    <tr>\n",
       "      <th>4</th>\n",
       "      <td>Afghanistan</td>\n",
       "      <td>Reported number of people requiring interventi...</td>\n",
       "      <td>2014</td>\n",
       "      <td>13384908</td>\n",
       "    </tr>\n",
       "    <tr>\n",
       "      <th>...</th>\n",
       "      <td>...</td>\n",
       "      <td>...</td>\n",
       "      <td>...</td>\n",
       "      <td>...</td>\n",
       "    </tr>\n",
       "    <tr>\n",
       "      <th>1741</th>\n",
       "      <td>Zimbabwe</td>\n",
       "      <td>Reported number of people requiring interventi...</td>\n",
       "      <td>2014</td>\n",
       "      <td>7044667</td>\n",
       "    </tr>\n",
       "    <tr>\n",
       "      <th>1742</th>\n",
       "      <td>Zimbabwe</td>\n",
       "      <td>Reported number of people requiring interventi...</td>\n",
       "      <td>2013</td>\n",
       "      <td>6958826</td>\n",
       "    </tr>\n",
       "    <tr>\n",
       "      <th>1743</th>\n",
       "      <td>Zimbabwe</td>\n",
       "      <td>Reported number of people requiring interventi...</td>\n",
       "      <td>2012</td>\n",
       "      <td>6496297</td>\n",
       "    </tr>\n",
       "    <tr>\n",
       "      <th>1744</th>\n",
       "      <td>Zimbabwe</td>\n",
       "      <td>Reported number of people requiring interventi...</td>\n",
       "      <td>2011</td>\n",
       "      <td>6472357</td>\n",
       "    </tr>\n",
       "    <tr>\n",
       "      <th>1745</th>\n",
       "      <td>Zimbabwe</td>\n",
       "      <td>Reported number of people requiring interventi...</td>\n",
       "      <td>2010</td>\n",
       "      <td>6437391</td>\n",
       "    </tr>\n",
       "  </tbody>\n",
       "</table>\n",
       "<p>1746 rows × 4 columns</p>\n",
       "</div>"
      ],
      "text/plain": [
       "         Location                                          Indicator  Period  \\\n",
       "0     Afghanistan  Reported number of people requiring interventi...    2018   \n",
       "1     Afghanistan  Reported number of people requiring interventi...    2017   \n",
       "2     Afghanistan  Reported number of people requiring interventi...    2016   \n",
       "3     Afghanistan  Reported number of people requiring interventi...    2015   \n",
       "4     Afghanistan  Reported number of people requiring interventi...    2014   \n",
       "...           ...                                                ...     ...   \n",
       "1741     Zimbabwe  Reported number of people requiring interventi...    2014   \n",
       "1742     Zimbabwe  Reported number of people requiring interventi...    2013   \n",
       "1743     Zimbabwe  Reported number of people requiring interventi...    2012   \n",
       "1744     Zimbabwe  Reported number of people requiring interventi...    2011   \n",
       "1745     Zimbabwe  Reported number of people requiring interventi...    2010   \n",
       "\n",
       "      First Tooltip  \n",
       "0          14834701  \n",
       "1          14786722  \n",
       "2          13275429  \n",
       "3          13765392  \n",
       "4          13384908  \n",
       "...             ...  \n",
       "1741        7044667  \n",
       "1742        6958826  \n",
       "1743        6496297  \n",
       "1744        6472357  \n",
       "1745        6437391  \n",
       "\n",
       "[1746 rows x 4 columns]"
      ]
     },
     "execution_count": 373,
     "metadata": {},
     "output_type": "execute_result"
    }
   ],
   "source": [
    "ntd_data = pd.read_csv(WHS_path/'interventionAgianstNTDs.csv')\n",
    "ntd_data"
   ]
  },
  {
   "cell_type": "code",
   "execution_count": 374,
   "metadata": {},
   "outputs": [
    {
     "data": {
      "text/plain": [
       "Location         1746\n",
       "Indicator        1746\n",
       "Period           1746\n",
       "First Tooltip    1746\n",
       "dtype: int64"
      ]
     },
     "execution_count": 374,
     "metadata": {},
     "output_type": "execute_result"
    }
   ],
   "source": [
    "ntd_data.isnull().count()"
   ]
  },
  {
   "cell_type": "markdown",
   "metadata": {},
   "source": [
    "There are 154 zero values, but this is all possible. You likely won't find many tropical diseases in small countries that aren't tropical."
   ]
  },
  {
   "cell_type": "code",
   "execution_count": 377,
   "metadata": {},
   "outputs": [
    {
     "data": {
      "text/html": [
       "<div>\n",
       "<style scoped>\n",
       "    .dataframe tbody tr th:only-of-type {\n",
       "        vertical-align: middle;\n",
       "    }\n",
       "\n",
       "    .dataframe tbody tr th {\n",
       "        vertical-align: top;\n",
       "    }\n",
       "\n",
       "    .dataframe thead th {\n",
       "        text-align: right;\n",
       "    }\n",
       "</style>\n",
       "<table border=\"1\" class=\"dataframe\">\n",
       "  <thead>\n",
       "    <tr style=\"text-align: right;\">\n",
       "      <th></th>\n",
       "      <th>Location</th>\n",
       "      <th>Indicator</th>\n",
       "      <th>Period</th>\n",
       "      <th>First Tooltip</th>\n",
       "    </tr>\n",
       "  </thead>\n",
       "  <tbody>\n",
       "    <tr>\n",
       "      <th>27</th>\n",
       "      <td>Andorra</td>\n",
       "      <td>Reported number of people requiring interventi...</td>\n",
       "      <td>2018</td>\n",
       "      <td>0</td>\n",
       "    </tr>\n",
       "    <tr>\n",
       "      <th>28</th>\n",
       "      <td>Andorra</td>\n",
       "      <td>Reported number of people requiring interventi...</td>\n",
       "      <td>2017</td>\n",
       "      <td>0</td>\n",
       "    </tr>\n",
       "    <tr>\n",
       "      <th>29</th>\n",
       "      <td>Andorra</td>\n",
       "      <td>Reported number of people requiring interventi...</td>\n",
       "      <td>2016</td>\n",
       "      <td>0</td>\n",
       "    </tr>\n",
       "    <tr>\n",
       "      <th>30</th>\n",
       "      <td>Andorra</td>\n",
       "      <td>Reported number of people requiring interventi...</td>\n",
       "      <td>2015</td>\n",
       "      <td>0</td>\n",
       "    </tr>\n",
       "    <tr>\n",
       "      <th>31</th>\n",
       "      <td>Andorra</td>\n",
       "      <td>Reported number of people requiring interventi...</td>\n",
       "      <td>2014</td>\n",
       "      <td>0</td>\n",
       "    </tr>\n",
       "    <tr>\n",
       "      <th>...</th>\n",
       "      <td>...</td>\n",
       "      <td>...</td>\n",
       "      <td>...</td>\n",
       "      <td>...</td>\n",
       "    </tr>\n",
       "    <tr>\n",
       "      <th>1639</th>\n",
       "      <td>United Arab Emirates</td>\n",
       "      <td>Reported number of people requiring interventi...</td>\n",
       "      <td>2017</td>\n",
       "      <td>0</td>\n",
       "    </tr>\n",
       "    <tr>\n",
       "      <th>1641</th>\n",
       "      <td>United Arab Emirates</td>\n",
       "      <td>Reported number of people requiring interventi...</td>\n",
       "      <td>2015</td>\n",
       "      <td>0</td>\n",
       "    </tr>\n",
       "    <tr>\n",
       "      <th>1642</th>\n",
       "      <td>United Arab Emirates</td>\n",
       "      <td>Reported number of people requiring interventi...</td>\n",
       "      <td>2014</td>\n",
       "      <td>0</td>\n",
       "    </tr>\n",
       "    <tr>\n",
       "      <th>1644</th>\n",
       "      <td>United Arab Emirates</td>\n",
       "      <td>Reported number of people requiring interventi...</td>\n",
       "      <td>2012</td>\n",
       "      <td>0</td>\n",
       "    </tr>\n",
       "    <tr>\n",
       "      <th>1645</th>\n",
       "      <td>United Arab Emirates</td>\n",
       "      <td>Reported number of people requiring interventi...</td>\n",
       "      <td>2011</td>\n",
       "      <td>0</td>\n",
       "    </tr>\n",
       "  </tbody>\n",
       "</table>\n",
       "<p>154 rows × 4 columns</p>\n",
       "</div>"
      ],
      "text/plain": [
       "                  Location                                          Indicator  \\\n",
       "27                 Andorra  Reported number of people requiring interventi...   \n",
       "28                 Andorra  Reported number of people requiring interventi...   \n",
       "29                 Andorra  Reported number of people requiring interventi...   \n",
       "30                 Andorra  Reported number of people requiring interventi...   \n",
       "31                 Andorra  Reported number of people requiring interventi...   \n",
       "...                    ...                                                ...   \n",
       "1639  United Arab Emirates  Reported number of people requiring interventi...   \n",
       "1641  United Arab Emirates  Reported number of people requiring interventi...   \n",
       "1642  United Arab Emirates  Reported number of people requiring interventi...   \n",
       "1644  United Arab Emirates  Reported number of people requiring interventi...   \n",
       "1645  United Arab Emirates  Reported number of people requiring interventi...   \n",
       "\n",
       "      Period  First Tooltip  \n",
       "27      2018              0  \n",
       "28      2017              0  \n",
       "29      2016              0  \n",
       "30      2015              0  \n",
       "31      2014              0  \n",
       "...      ...            ...  \n",
       "1639    2017              0  \n",
       "1641    2015              0  \n",
       "1642    2014              0  \n",
       "1644    2012              0  \n",
       "1645    2011              0  \n",
       "\n",
       "[154 rows x 4 columns]"
      ]
     },
     "execution_count": 377,
     "metadata": {},
     "output_type": "execute_result"
    }
   ],
   "source": [
    "ntd_data[ntd_data['First Tooltip'] == 0]"
   ]
  },
  {
   "cell_type": "code",
   "execution_count": 378,
   "metadata": {},
   "outputs": [
    {
     "data": {
      "text/plain": [
       "array(['Reported number of people requiring interventions against NTDs'],\n",
       "      dtype=object)"
      ]
     },
     "execution_count": 378,
     "metadata": {},
     "output_type": "execute_result"
    }
   ],
   "source": [
    "ntd_data['Indicator'].unique()"
   ]
  },
  {
   "cell_type": "markdown",
   "metadata": {},
   "source": [
    "Same value for all years, so I'll just do 2015 and 2016"
   ]
  },
  {
   "cell_type": "code",
   "execution_count": 380,
   "metadata": {},
   "outputs": [
    {
     "data": {
      "text/plain": [
       "array([2018, 2017, 2016, 2015, 2014, 2013, 2012, 2011, 2010])"
      ]
     },
     "execution_count": 380,
     "metadata": {},
     "output_type": "execute_result"
    }
   ],
   "source": [
    "ntd_data['Period'].unique()"
   ]
  },
  {
   "cell_type": "code",
   "execution_count": 381,
   "metadata": {},
   "outputs": [
    {
     "data": {
      "text/plain": [
       "Location         194\n",
       "Indicator        194\n",
       "Period           194\n",
       "First Tooltip    194\n",
       "dtype: int64"
      ]
     },
     "execution_count": 381,
     "metadata": {},
     "output_type": "execute_result"
    }
   ],
   "source": [
    "ntd_data[ntd_data['Period'] == 2018].count()"
   ]
  },
  {
   "cell_type": "code",
   "execution_count": 382,
   "metadata": {},
   "outputs": [
    {
     "data": {
      "text/plain": [
       "Location         194\n",
       "Indicator        194\n",
       "Period           194\n",
       "First Tooltip    194\n",
       "dtype: int64"
      ]
     },
     "execution_count": 382,
     "metadata": {},
     "output_type": "execute_result"
    }
   ],
   "source": [
    "ntd_data[ntd_data['Period'] == 2017].count()"
   ]
  },
  {
   "cell_type": "code",
   "execution_count": 383,
   "metadata": {},
   "outputs": [
    {
     "data": {
      "text/plain": [
       "Location         194\n",
       "Indicator        194\n",
       "Period           194\n",
       "First Tooltip    194\n",
       "dtype: int64"
      ]
     },
     "execution_count": 383,
     "metadata": {},
     "output_type": "execute_result"
    }
   ],
   "source": [
    "ntd_data[ntd_data['Period'] == 2016].count()"
   ]
  },
  {
   "cell_type": "code",
   "execution_count": 384,
   "metadata": {},
   "outputs": [
    {
     "data": {
      "text/plain": [
       "Location         194\n",
       "Indicator        194\n",
       "Period           194\n",
       "First Tooltip    194\n",
       "dtype: int64"
      ]
     },
     "execution_count": 384,
     "metadata": {},
     "output_type": "execute_result"
    }
   ],
   "source": [
    "ntd_data[ntd_data['Period'] == 2015].count()"
   ]
  },
  {
   "cell_type": "code",
   "execution_count": 385,
   "metadata": {},
   "outputs": [
    {
     "data": {
      "text/plain": [
       "Location         194\n",
       "Indicator        194\n",
       "Period           194\n",
       "First Tooltip    194\n",
       "dtype: int64"
      ]
     },
     "execution_count": 385,
     "metadata": {},
     "output_type": "execute_result"
    }
   ],
   "source": [
    "ntd_data[ntd_data['Period'] == 2014].count()"
   ]
  },
  {
   "cell_type": "code",
   "execution_count": 386,
   "metadata": {},
   "outputs": [
    {
     "data": {
      "text/plain": [
       "Location         194\n",
       "Indicator        194\n",
       "Period           194\n",
       "First Tooltip    194\n",
       "dtype: int64"
      ]
     },
     "execution_count": 386,
     "metadata": {},
     "output_type": "execute_result"
    }
   ],
   "source": [
    "ntd_data[ntd_data['Period'] == 2013].count()"
   ]
  },
  {
   "cell_type": "code",
   "execution_count": 387,
   "metadata": {},
   "outputs": [
    {
     "data": {
      "text/plain": [
       "Location         194\n",
       "Indicator        194\n",
       "Period           194\n",
       "First Tooltip    194\n",
       "dtype: int64"
      ]
     },
     "execution_count": 387,
     "metadata": {},
     "output_type": "execute_result"
    }
   ],
   "source": [
    "ntd_data[ntd_data['Period'] == 2012].count()"
   ]
  },
  {
   "cell_type": "code",
   "execution_count": 388,
   "metadata": {},
   "outputs": [
    {
     "data": {
      "text/plain": [
       "Location         194\n",
       "Indicator        194\n",
       "Period           194\n",
       "First Tooltip    194\n",
       "dtype: int64"
      ]
     },
     "execution_count": 388,
     "metadata": {},
     "output_type": "execute_result"
    }
   ],
   "source": [
    "ntd_data[ntd_data['Period'] == 2011].count()"
   ]
  },
  {
   "cell_type": "code",
   "execution_count": 389,
   "metadata": {},
   "outputs": [
    {
     "data": {
      "text/plain": [
       "Location         194\n",
       "Indicator        194\n",
       "Period           194\n",
       "First Tooltip    194\n",
       "dtype: int64"
      ]
     },
     "execution_count": 389,
     "metadata": {},
     "output_type": "execute_result"
    }
   ],
   "source": [
    "ntd_data[ntd_data['Period'] == 2010].count()"
   ]
  },
  {
   "cell_type": "markdown",
   "metadata": {},
   "source": [
    "## Dataset to export"
   ]
  },
  {
   "cell_type": "code",
   "execution_count": 391,
   "metadata": {},
   "outputs": [
    {
     "data": {
      "text/html": [
       "<div>\n",
       "<style scoped>\n",
       "    .dataframe tbody tr th:only-of-type {\n",
       "        vertical-align: middle;\n",
       "    }\n",
       "\n",
       "    .dataframe tbody tr th {\n",
       "        vertical-align: top;\n",
       "    }\n",
       "\n",
       "    .dataframe thead th {\n",
       "        text-align: right;\n",
       "    }\n",
       "</style>\n",
       "<table border=\"1\" class=\"dataframe\">\n",
       "  <thead>\n",
       "    <tr style=\"text-align: right;\">\n",
       "      <th></th>\n",
       "      <th>Location</th>\n",
       "      <th>Indicator</th>\n",
       "      <th>Period</th>\n",
       "      <th>First Tooltip</th>\n",
       "    </tr>\n",
       "  </thead>\n",
       "  <tbody>\n",
       "    <tr>\n",
       "      <th>2</th>\n",
       "      <td>Afghanistan</td>\n",
       "      <td>Reported number of people requiring interventi...</td>\n",
       "      <td>2016</td>\n",
       "      <td>13275429</td>\n",
       "    </tr>\n",
       "    <tr>\n",
       "      <th>11</th>\n",
       "      <td>Albania</td>\n",
       "      <td>Reported number of people requiring interventi...</td>\n",
       "      <td>2016</td>\n",
       "      <td>21</td>\n",
       "    </tr>\n",
       "    <tr>\n",
       "      <th>20</th>\n",
       "      <td>Algeria</td>\n",
       "      <td>Reported number of people requiring interventi...</td>\n",
       "      <td>2016</td>\n",
       "      <td>10752</td>\n",
       "    </tr>\n",
       "    <tr>\n",
       "      <th>29</th>\n",
       "      <td>Andorra</td>\n",
       "      <td>Reported number of people requiring interventi...</td>\n",
       "      <td>2016</td>\n",
       "      <td>0</td>\n",
       "    </tr>\n",
       "    <tr>\n",
       "      <th>38</th>\n",
       "      <td>Angola</td>\n",
       "      <td>Reported number of people requiring interventi...</td>\n",
       "      <td>2016</td>\n",
       "      <td>14419092</td>\n",
       "    </tr>\n",
       "    <tr>\n",
       "      <th>...</th>\n",
       "      <td>...</td>\n",
       "      <td>...</td>\n",
       "      <td>...</td>\n",
       "      <td>...</td>\n",
       "    </tr>\n",
       "    <tr>\n",
       "      <th>1703</th>\n",
       "      <td>Venezuela (Bolivarian Republic of)</td>\n",
       "      <td>Reported number of people requiring interventi...</td>\n",
       "      <td>2016</td>\n",
       "      <td>282294</td>\n",
       "    </tr>\n",
       "    <tr>\n",
       "      <th>1712</th>\n",
       "      <td>Viet Nam</td>\n",
       "      <td>Reported number of people requiring interventi...</td>\n",
       "      <td>2016</td>\n",
       "      <td>6953978</td>\n",
       "    </tr>\n",
       "    <tr>\n",
       "      <th>1721</th>\n",
       "      <td>Yemen</td>\n",
       "      <td>Reported number of people requiring interventi...</td>\n",
       "      <td>2016</td>\n",
       "      <td>5985649</td>\n",
       "    </tr>\n",
       "    <tr>\n",
       "      <th>1730</th>\n",
       "      <td>Zambia</td>\n",
       "      <td>Reported number of people requiring interventi...</td>\n",
       "      <td>2016</td>\n",
       "      <td>11573334</td>\n",
       "    </tr>\n",
       "    <tr>\n",
       "      <th>1739</th>\n",
       "      <td>Zimbabwe</td>\n",
       "      <td>Reported number of people requiring interventi...</td>\n",
       "      <td>2016</td>\n",
       "      <td>9958235</td>\n",
       "    </tr>\n",
       "  </tbody>\n",
       "</table>\n",
       "<p>194 rows × 4 columns</p>\n",
       "</div>"
      ],
      "text/plain": [
       "                                Location  \\\n",
       "2                            Afghanistan   \n",
       "11                               Albania   \n",
       "20                               Algeria   \n",
       "29                               Andorra   \n",
       "38                                Angola   \n",
       "...                                  ...   \n",
       "1703  Venezuela (Bolivarian Republic of)   \n",
       "1712                            Viet Nam   \n",
       "1721                               Yemen   \n",
       "1730                              Zambia   \n",
       "1739                            Zimbabwe   \n",
       "\n",
       "                                              Indicator  Period  First Tooltip  \n",
       "2     Reported number of people requiring interventi...    2016       13275429  \n",
       "11    Reported number of people requiring interventi...    2016             21  \n",
       "20    Reported number of people requiring interventi...    2016          10752  \n",
       "29    Reported number of people requiring interventi...    2016              0  \n",
       "38    Reported number of people requiring interventi...    2016       14419092  \n",
       "...                                                 ...     ...            ...  \n",
       "1703  Reported number of people requiring interventi...    2016         282294  \n",
       "1712  Reported number of people requiring interventi...    2016        6953978  \n",
       "1721  Reported number of people requiring interventi...    2016        5985649  \n",
       "1730  Reported number of people requiring interventi...    2016       11573334  \n",
       "1739  Reported number of people requiring interventi...    2016        9958235  \n",
       "\n",
       "[194 rows x 4 columns]"
      ]
     },
     "execution_count": 391,
     "metadata": {},
     "output_type": "execute_result"
    }
   ],
   "source": [
    "ntd_2016 = ntd_data[ntd_data['Period'] == 2016]\n",
    "ntd_2016"
   ]
  },
  {
   "cell_type": "markdown",
   "metadata": {},
   "source": [
    "## Dataset to export"
   ]
  },
  {
   "cell_type": "code",
   "execution_count": 392,
   "metadata": {},
   "outputs": [
    {
     "data": {
      "text/html": [
       "<div>\n",
       "<style scoped>\n",
       "    .dataframe tbody tr th:only-of-type {\n",
       "        vertical-align: middle;\n",
       "    }\n",
       "\n",
       "    .dataframe tbody tr th {\n",
       "        vertical-align: top;\n",
       "    }\n",
       "\n",
       "    .dataframe thead th {\n",
       "        text-align: right;\n",
       "    }\n",
       "</style>\n",
       "<table border=\"1\" class=\"dataframe\">\n",
       "  <thead>\n",
       "    <tr style=\"text-align: right;\">\n",
       "      <th></th>\n",
       "      <th>Location</th>\n",
       "      <th>Indicator</th>\n",
       "      <th>Period</th>\n",
       "      <th>First Tooltip</th>\n",
       "    </tr>\n",
       "  </thead>\n",
       "  <tbody>\n",
       "    <tr>\n",
       "      <th>3</th>\n",
       "      <td>Afghanistan</td>\n",
       "      <td>Reported number of people requiring interventi...</td>\n",
       "      <td>2015</td>\n",
       "      <td>13765392</td>\n",
       "    </tr>\n",
       "    <tr>\n",
       "      <th>12</th>\n",
       "      <td>Albania</td>\n",
       "      <td>Reported number of people requiring interventi...</td>\n",
       "      <td>2015</td>\n",
       "      <td>16</td>\n",
       "    </tr>\n",
       "    <tr>\n",
       "      <th>21</th>\n",
       "      <td>Algeria</td>\n",
       "      <td>Reported number of people requiring interventi...</td>\n",
       "      <td>2015</td>\n",
       "      <td>7561</td>\n",
       "    </tr>\n",
       "    <tr>\n",
       "      <th>30</th>\n",
       "      <td>Andorra</td>\n",
       "      <td>Reported number of people requiring interventi...</td>\n",
       "      <td>2015</td>\n",
       "      <td>0</td>\n",
       "    </tr>\n",
       "    <tr>\n",
       "      <th>39</th>\n",
       "      <td>Angola</td>\n",
       "      <td>Reported number of people requiring interventi...</td>\n",
       "      <td>2015</td>\n",
       "      <td>18534219</td>\n",
       "    </tr>\n",
       "    <tr>\n",
       "      <th>...</th>\n",
       "      <td>...</td>\n",
       "      <td>...</td>\n",
       "      <td>...</td>\n",
       "      <td>...</td>\n",
       "    </tr>\n",
       "    <tr>\n",
       "      <th>1704</th>\n",
       "      <td>Venezuela (Bolivarian Republic of)</td>\n",
       "      <td>Reported number of people requiring interventi...</td>\n",
       "      <td>2015</td>\n",
       "      <td>280243</td>\n",
       "    </tr>\n",
       "    <tr>\n",
       "      <th>1713</th>\n",
       "      <td>Viet Nam</td>\n",
       "      <td>Reported number of people requiring interventi...</td>\n",
       "      <td>2015</td>\n",
       "      <td>4468764</td>\n",
       "    </tr>\n",
       "    <tr>\n",
       "      <th>1722</th>\n",
       "      <td>Yemen</td>\n",
       "      <td>Reported number of people requiring interventi...</td>\n",
       "      <td>2015</td>\n",
       "      <td>5840695</td>\n",
       "    </tr>\n",
       "    <tr>\n",
       "      <th>1731</th>\n",
       "      <td>Zambia</td>\n",
       "      <td>Reported number of people requiring interventi...</td>\n",
       "      <td>2015</td>\n",
       "      <td>11830416</td>\n",
       "    </tr>\n",
       "    <tr>\n",
       "      <th>1740</th>\n",
       "      <td>Zimbabwe</td>\n",
       "      <td>Reported number of people requiring interventi...</td>\n",
       "      <td>2015</td>\n",
       "      <td>10346543</td>\n",
       "    </tr>\n",
       "  </tbody>\n",
       "</table>\n",
       "<p>194 rows × 4 columns</p>\n",
       "</div>"
      ],
      "text/plain": [
       "                                Location  \\\n",
       "3                            Afghanistan   \n",
       "12                               Albania   \n",
       "21                               Algeria   \n",
       "30                               Andorra   \n",
       "39                                Angola   \n",
       "...                                  ...   \n",
       "1704  Venezuela (Bolivarian Republic of)   \n",
       "1713                            Viet Nam   \n",
       "1722                               Yemen   \n",
       "1731                              Zambia   \n",
       "1740                            Zimbabwe   \n",
       "\n",
       "                                              Indicator  Period  First Tooltip  \n",
       "3     Reported number of people requiring interventi...    2015       13765392  \n",
       "12    Reported number of people requiring interventi...    2015             16  \n",
       "21    Reported number of people requiring interventi...    2015           7561  \n",
       "30    Reported number of people requiring interventi...    2015              0  \n",
       "39    Reported number of people requiring interventi...    2015       18534219  \n",
       "...                                                 ...     ...            ...  \n",
       "1704  Reported number of people requiring interventi...    2015         280243  \n",
       "1713  Reported number of people requiring interventi...    2015        4468764  \n",
       "1722  Reported number of people requiring interventi...    2015        5840695  \n",
       "1731  Reported number of people requiring interventi...    2015       11830416  \n",
       "1740  Reported number of people requiring interventi...    2015       10346543  \n",
       "\n",
       "[194 rows x 4 columns]"
      ]
     },
     "execution_count": 392,
     "metadata": {},
     "output_type": "execute_result"
    }
   ],
   "source": [
    "ntd_2015 = ntd_data[ntd_data['Period'] == 2015]\n",
    "ntd_2015"
   ]
  },
  {
   "cell_type": "code",
   "execution_count": null,
   "metadata": {},
   "outputs": [],
   "source": []
  },
  {
   "cell_type": "markdown",
   "metadata": {},
   "source": [
    "## Life Expectancy at Birth"
   ]
  },
  {
   "cell_type": "code",
   "execution_count": 393,
   "metadata": {},
   "outputs": [
    {
     "data": {
      "text/html": [
       "<div>\n",
       "<style scoped>\n",
       "    .dataframe tbody tr th:only-of-type {\n",
       "        vertical-align: middle;\n",
       "    }\n",
       "\n",
       "    .dataframe tbody tr th {\n",
       "        vertical-align: top;\n",
       "    }\n",
       "\n",
       "    .dataframe thead th {\n",
       "        text-align: right;\n",
       "    }\n",
       "</style>\n",
       "<table border=\"1\" class=\"dataframe\">\n",
       "  <thead>\n",
       "    <tr style=\"text-align: right;\">\n",
       "      <th></th>\n",
       "      <th>Location</th>\n",
       "      <th>Period</th>\n",
       "      <th>Indicator</th>\n",
       "      <th>Dim1</th>\n",
       "      <th>First Tooltip</th>\n",
       "    </tr>\n",
       "  </thead>\n",
       "  <tbody>\n",
       "    <tr>\n",
       "      <th>0</th>\n",
       "      <td>Afghanistan</td>\n",
       "      <td>2019</td>\n",
       "      <td>Life expectancy at birth (years)</td>\n",
       "      <td>Both sexes</td>\n",
       "      <td>63.21</td>\n",
       "    </tr>\n",
       "    <tr>\n",
       "      <th>1</th>\n",
       "      <td>Afghanistan</td>\n",
       "      <td>2019</td>\n",
       "      <td>Life expectancy at birth (years)</td>\n",
       "      <td>Male</td>\n",
       "      <td>63.29</td>\n",
       "    </tr>\n",
       "    <tr>\n",
       "      <th>2</th>\n",
       "      <td>Afghanistan</td>\n",
       "      <td>2019</td>\n",
       "      <td>Life expectancy at birth (years)</td>\n",
       "      <td>Female</td>\n",
       "      <td>63.16</td>\n",
       "    </tr>\n",
       "    <tr>\n",
       "      <th>3</th>\n",
       "      <td>Afghanistan</td>\n",
       "      <td>2015</td>\n",
       "      <td>Life expectancy at birth (years)</td>\n",
       "      <td>Both sexes</td>\n",
       "      <td>61.65</td>\n",
       "    </tr>\n",
       "    <tr>\n",
       "      <th>4</th>\n",
       "      <td>Afghanistan</td>\n",
       "      <td>2015</td>\n",
       "      <td>Life expectancy at birth (years)</td>\n",
       "      <td>Male</td>\n",
       "      <td>61.04</td>\n",
       "    </tr>\n",
       "    <tr>\n",
       "      <th>...</th>\n",
       "      <td>...</td>\n",
       "      <td>...</td>\n",
       "      <td>...</td>\n",
       "      <td>...</td>\n",
       "      <td>...</td>\n",
       "    </tr>\n",
       "    <tr>\n",
       "      <th>2192</th>\n",
       "      <td>Zimbabwe</td>\n",
       "      <td>2010</td>\n",
       "      <td>Life expectancy at birth (years)</td>\n",
       "      <td>Male</td>\n",
       "      <td>49.58</td>\n",
       "    </tr>\n",
       "    <tr>\n",
       "      <th>2193</th>\n",
       "      <td>Zimbabwe</td>\n",
       "      <td>2010</td>\n",
       "      <td>Life expectancy at birth (years)</td>\n",
       "      <td>Female</td>\n",
       "      <td>53.21</td>\n",
       "    </tr>\n",
       "    <tr>\n",
       "      <th>2194</th>\n",
       "      <td>Zimbabwe</td>\n",
       "      <td>2000</td>\n",
       "      <td>Life expectancy at birth (years)</td>\n",
       "      <td>Both sexes</td>\n",
       "      <td>46.57</td>\n",
       "    </tr>\n",
       "    <tr>\n",
       "      <th>2195</th>\n",
       "      <td>Zimbabwe</td>\n",
       "      <td>2000</td>\n",
       "      <td>Life expectancy at birth (years)</td>\n",
       "      <td>Male</td>\n",
       "      <td>45.15</td>\n",
       "    </tr>\n",
       "    <tr>\n",
       "      <th>2196</th>\n",
       "      <td>Zimbabwe</td>\n",
       "      <td>2000</td>\n",
       "      <td>Life expectancy at birth (years)</td>\n",
       "      <td>Female</td>\n",
       "      <td>48.12</td>\n",
       "    </tr>\n",
       "  </tbody>\n",
       "</table>\n",
       "<p>2197 rows × 5 columns</p>\n",
       "</div>"
      ],
      "text/plain": [
       "         Location  Period                         Indicator        Dim1  \\\n",
       "0     Afghanistan    2019  Life expectancy at birth (years)  Both sexes   \n",
       "1     Afghanistan    2019  Life expectancy at birth (years)        Male   \n",
       "2     Afghanistan    2019  Life expectancy at birth (years)      Female   \n",
       "3     Afghanistan    2015  Life expectancy at birth (years)  Both sexes   \n",
       "4     Afghanistan    2015  Life expectancy at birth (years)        Male   \n",
       "...           ...     ...                               ...         ...   \n",
       "2192     Zimbabwe    2010  Life expectancy at birth (years)        Male   \n",
       "2193     Zimbabwe    2010  Life expectancy at birth (years)      Female   \n",
       "2194     Zimbabwe    2000  Life expectancy at birth (years)  Both sexes   \n",
       "2195     Zimbabwe    2000  Life expectancy at birth (years)        Male   \n",
       "2196     Zimbabwe    2000  Life expectancy at birth (years)      Female   \n",
       "\n",
       "      First Tooltip  \n",
       "0             63.21  \n",
       "1             63.29  \n",
       "2             63.16  \n",
       "3             61.65  \n",
       "4             61.04  \n",
       "...             ...  \n",
       "2192          49.58  \n",
       "2193          53.21  \n",
       "2194          46.57  \n",
       "2195          45.15  \n",
       "2196          48.12  \n",
       "\n",
       "[2197 rows x 5 columns]"
      ]
     },
     "execution_count": 393,
     "metadata": {},
     "output_type": "execute_result"
    }
   ],
   "source": [
    "leb_data = pd.read_csv(WHS_path/'lifeExpectancyAtBirth.csv')\n",
    "leb_data"
   ]
  },
  {
   "cell_type": "code",
   "execution_count": 394,
   "metadata": {},
   "outputs": [
    {
     "data": {
      "text/plain": [
       "Location         2197\n",
       "Period           2197\n",
       "Indicator        2197\n",
       "Dim1             2197\n",
       "First Tooltip    2197\n",
       "dtype: int64"
      ]
     },
     "execution_count": 394,
     "metadata": {},
     "output_type": "execute_result"
    }
   ],
   "source": [
    "leb_data.isnull().count()"
   ]
  },
  {
   "cell_type": "code",
   "execution_count": 395,
   "metadata": {},
   "outputs": [
    {
     "data": {
      "text/html": [
       "<div>\n",
       "<style scoped>\n",
       "    .dataframe tbody tr th:only-of-type {\n",
       "        vertical-align: middle;\n",
       "    }\n",
       "\n",
       "    .dataframe tbody tr th {\n",
       "        vertical-align: top;\n",
       "    }\n",
       "\n",
       "    .dataframe thead th {\n",
       "        text-align: right;\n",
       "    }\n",
       "</style>\n",
       "<table border=\"1\" class=\"dataframe\">\n",
       "  <thead>\n",
       "    <tr style=\"text-align: right;\">\n",
       "      <th></th>\n",
       "      <th>Location</th>\n",
       "      <th>Period</th>\n",
       "      <th>Indicator</th>\n",
       "      <th>Dim1</th>\n",
       "      <th>First Tooltip</th>\n",
       "    </tr>\n",
       "  </thead>\n",
       "  <tbody>\n",
       "  </tbody>\n",
       "</table>\n",
       "</div>"
      ],
      "text/plain": [
       "Empty DataFrame\n",
       "Columns: [Location, Period, Indicator, Dim1, First Tooltip]\n",
       "Index: []"
      ]
     },
     "execution_count": 395,
     "metadata": {},
     "output_type": "execute_result"
    }
   ],
   "source": [
    "leb_data[leb_data['First Tooltip'] == 0.0]"
   ]
  },
  {
   "cell_type": "code",
   "execution_count": 396,
   "metadata": {},
   "outputs": [
    {
     "data": {
      "text/html": [
       "<div>\n",
       "<style scoped>\n",
       "    .dataframe tbody tr th:only-of-type {\n",
       "        vertical-align: middle;\n",
       "    }\n",
       "\n",
       "    .dataframe tbody tr th {\n",
       "        vertical-align: top;\n",
       "    }\n",
       "\n",
       "    .dataframe thead th {\n",
       "        text-align: right;\n",
       "    }\n",
       "</style>\n",
       "<table border=\"1\" class=\"dataframe\">\n",
       "  <thead>\n",
       "    <tr style=\"text-align: right;\">\n",
       "      <th></th>\n",
       "      <th>Location</th>\n",
       "      <th>Period</th>\n",
       "      <th>Indicator</th>\n",
       "      <th>Dim1</th>\n",
       "      <th>First Tooltip</th>\n",
       "    </tr>\n",
       "  </thead>\n",
       "  <tbody>\n",
       "    <tr>\n",
       "      <th>0</th>\n",
       "      <td>Afghanistan</td>\n",
       "      <td>2019</td>\n",
       "      <td>Life expectancy at birth (years)</td>\n",
       "      <td>Both sexes</td>\n",
       "      <td>63.21</td>\n",
       "    </tr>\n",
       "    <tr>\n",
       "      <th>3</th>\n",
       "      <td>Afghanistan</td>\n",
       "      <td>2015</td>\n",
       "      <td>Life expectancy at birth (years)</td>\n",
       "      <td>Both sexes</td>\n",
       "      <td>61.65</td>\n",
       "    </tr>\n",
       "    <tr>\n",
       "      <th>6</th>\n",
       "      <td>Afghanistan</td>\n",
       "      <td>2010</td>\n",
       "      <td>Life expectancy at birth (years)</td>\n",
       "      <td>Both sexes</td>\n",
       "      <td>59.94</td>\n",
       "    </tr>\n",
       "    <tr>\n",
       "      <th>9</th>\n",
       "      <td>Afghanistan</td>\n",
       "      <td>2000</td>\n",
       "      <td>Life expectancy at birth (years)</td>\n",
       "      <td>Both sexes</td>\n",
       "      <td>54.99</td>\n",
       "    </tr>\n",
       "    <tr>\n",
       "      <th>12</th>\n",
       "      <td>Albania</td>\n",
       "      <td>2019</td>\n",
       "      <td>Life expectancy at birth (years)</td>\n",
       "      <td>Both sexes</td>\n",
       "      <td>78.00</td>\n",
       "    </tr>\n",
       "    <tr>\n",
       "      <th>...</th>\n",
       "      <td>...</td>\n",
       "      <td>...</td>\n",
       "      <td>...</td>\n",
       "      <td>...</td>\n",
       "      <td>...</td>\n",
       "    </tr>\n",
       "    <tr>\n",
       "      <th>2182</th>\n",
       "      <td>Zambia</td>\n",
       "      <td>2000</td>\n",
       "      <td>Life expectancy at birth (years)</td>\n",
       "      <td>Both sexes</td>\n",
       "      <td>44.46</td>\n",
       "    </tr>\n",
       "    <tr>\n",
       "      <th>2185</th>\n",
       "      <td>Zimbabwe</td>\n",
       "      <td>2019</td>\n",
       "      <td>Life expectancy at birth (years)</td>\n",
       "      <td>Both sexes</td>\n",
       "      <td>60.68</td>\n",
       "    </tr>\n",
       "    <tr>\n",
       "      <th>2188</th>\n",
       "      <td>Zimbabwe</td>\n",
       "      <td>2015</td>\n",
       "      <td>Life expectancy at birth (years)</td>\n",
       "      <td>Both sexes</td>\n",
       "      <td>58.48</td>\n",
       "    </tr>\n",
       "    <tr>\n",
       "      <th>2191</th>\n",
       "      <td>Zimbabwe</td>\n",
       "      <td>2010</td>\n",
       "      <td>Life expectancy at birth (years)</td>\n",
       "      <td>Both sexes</td>\n",
       "      <td>51.49</td>\n",
       "    </tr>\n",
       "    <tr>\n",
       "      <th>2194</th>\n",
       "      <td>Zimbabwe</td>\n",
       "      <td>2000</td>\n",
       "      <td>Life expectancy at birth (years)</td>\n",
       "      <td>Both sexes</td>\n",
       "      <td>46.57</td>\n",
       "    </tr>\n",
       "  </tbody>\n",
       "</table>\n",
       "<p>733 rows × 5 columns</p>\n",
       "</div>"
      ],
      "text/plain": [
       "         Location  Period                         Indicator        Dim1  \\\n",
       "0     Afghanistan    2019  Life expectancy at birth (years)  Both sexes   \n",
       "3     Afghanistan    2015  Life expectancy at birth (years)  Both sexes   \n",
       "6     Afghanistan    2010  Life expectancy at birth (years)  Both sexes   \n",
       "9     Afghanistan    2000  Life expectancy at birth (years)  Both sexes   \n",
       "12        Albania    2019  Life expectancy at birth (years)  Both sexes   \n",
       "...           ...     ...                               ...         ...   \n",
       "2182       Zambia    2000  Life expectancy at birth (years)  Both sexes   \n",
       "2185     Zimbabwe    2019  Life expectancy at birth (years)  Both sexes   \n",
       "2188     Zimbabwe    2015  Life expectancy at birth (years)  Both sexes   \n",
       "2191     Zimbabwe    2010  Life expectancy at birth (years)  Both sexes   \n",
       "2194     Zimbabwe    2000  Life expectancy at birth (years)  Both sexes   \n",
       "\n",
       "      First Tooltip  \n",
       "0             63.21  \n",
       "3             61.65  \n",
       "6             59.94  \n",
       "9             54.99  \n",
       "12            78.00  \n",
       "...             ...  \n",
       "2182          44.46  \n",
       "2185          60.68  \n",
       "2188          58.48  \n",
       "2191          51.49  \n",
       "2194          46.57  \n",
       "\n",
       "[733 rows x 5 columns]"
      ]
     },
     "execution_count": 396,
     "metadata": {},
     "output_type": "execute_result"
    }
   ],
   "source": [
    "leb_bs = leb_data[leb_data['Dim1'] == 'Both sexes']\n",
    "leb_bs"
   ]
  },
  {
   "cell_type": "markdown",
   "metadata": {},
   "source": [
    "I ignored the 1920 year since we won't use that. All years have the same number of values, so I selected 2019 and 2015."
   ]
  },
  {
   "cell_type": "code",
   "execution_count": 397,
   "metadata": {},
   "outputs": [
    {
     "data": {
      "text/plain": [
       "array([2019, 2015, 2010, 2000, 1920])"
      ]
     },
     "execution_count": 397,
     "metadata": {},
     "output_type": "execute_result"
    }
   ],
   "source": [
    "leb_bs['Period'].unique()"
   ]
  },
  {
   "cell_type": "code",
   "execution_count": 398,
   "metadata": {},
   "outputs": [
    {
     "data": {
      "text/plain": [
       "Location         183\n",
       "Period           183\n",
       "Indicator        183\n",
       "Dim1             183\n",
       "First Tooltip    183\n",
       "dtype: int64"
      ]
     },
     "execution_count": 398,
     "metadata": {},
     "output_type": "execute_result"
    }
   ],
   "source": [
    "leb_bs[leb_bs['Period'] == 2019].count()"
   ]
  },
  {
   "cell_type": "code",
   "execution_count": 399,
   "metadata": {},
   "outputs": [
    {
     "data": {
      "text/plain": [
       "Location         183\n",
       "Period           183\n",
       "Indicator        183\n",
       "Dim1             183\n",
       "First Tooltip    183\n",
       "dtype: int64"
      ]
     },
     "execution_count": 399,
     "metadata": {},
     "output_type": "execute_result"
    }
   ],
   "source": [
    "leb_bs[leb_bs['Period'] == 2015].count()"
   ]
  },
  {
   "cell_type": "code",
   "execution_count": 400,
   "metadata": {},
   "outputs": [
    {
     "data": {
      "text/plain": [
       "Location         183\n",
       "Period           183\n",
       "Indicator        183\n",
       "Dim1             183\n",
       "First Tooltip    183\n",
       "dtype: int64"
      ]
     },
     "execution_count": 400,
     "metadata": {},
     "output_type": "execute_result"
    }
   ],
   "source": [
    "leb_bs[leb_bs['Period'] == 2010].count()"
   ]
  },
  {
   "cell_type": "code",
   "execution_count": 401,
   "metadata": {},
   "outputs": [
    {
     "data": {
      "text/plain": [
       "Location         183\n",
       "Period           183\n",
       "Indicator        183\n",
       "Dim1             183\n",
       "First Tooltip    183\n",
       "dtype: int64"
      ]
     },
     "execution_count": 401,
     "metadata": {},
     "output_type": "execute_result"
    }
   ],
   "source": [
    "leb_bs[leb_bs['Period'] == 2000].count()"
   ]
  },
  {
   "cell_type": "markdown",
   "metadata": {},
   "source": [
    "## Dataset to export"
   ]
  },
  {
   "cell_type": "code",
   "execution_count": 402,
   "metadata": {},
   "outputs": [
    {
     "data": {
      "text/html": [
       "<div>\n",
       "<style scoped>\n",
       "    .dataframe tbody tr th:only-of-type {\n",
       "        vertical-align: middle;\n",
       "    }\n",
       "\n",
       "    .dataframe tbody tr th {\n",
       "        vertical-align: top;\n",
       "    }\n",
       "\n",
       "    .dataframe thead th {\n",
       "        text-align: right;\n",
       "    }\n",
       "</style>\n",
       "<table border=\"1\" class=\"dataframe\">\n",
       "  <thead>\n",
       "    <tr style=\"text-align: right;\">\n",
       "      <th></th>\n",
       "      <th>Location</th>\n",
       "      <th>Period</th>\n",
       "      <th>Indicator</th>\n",
       "      <th>Dim1</th>\n",
       "      <th>First Tooltip</th>\n",
       "    </tr>\n",
       "  </thead>\n",
       "  <tbody>\n",
       "    <tr>\n",
       "      <th>0</th>\n",
       "      <td>Afghanistan</td>\n",
       "      <td>2019</td>\n",
       "      <td>Life expectancy at birth (years)</td>\n",
       "      <td>Both sexes</td>\n",
       "      <td>63.21</td>\n",
       "    </tr>\n",
       "    <tr>\n",
       "      <th>12</th>\n",
       "      <td>Albania</td>\n",
       "      <td>2019</td>\n",
       "      <td>Life expectancy at birth (years)</td>\n",
       "      <td>Both sexes</td>\n",
       "      <td>78.00</td>\n",
       "    </tr>\n",
       "    <tr>\n",
       "      <th>24</th>\n",
       "      <td>Algeria</td>\n",
       "      <td>2019</td>\n",
       "      <td>Life expectancy at birth (years)</td>\n",
       "      <td>Both sexes</td>\n",
       "      <td>77.13</td>\n",
       "    </tr>\n",
       "    <tr>\n",
       "      <th>36</th>\n",
       "      <td>Angola</td>\n",
       "      <td>2019</td>\n",
       "      <td>Life expectancy at birth (years)</td>\n",
       "      <td>Both sexes</td>\n",
       "      <td>63.06</td>\n",
       "    </tr>\n",
       "    <tr>\n",
       "      <th>48</th>\n",
       "      <td>Antigua and Barbuda</td>\n",
       "      <td>2019</td>\n",
       "      <td>Life expectancy at birth (years)</td>\n",
       "      <td>Both sexes</td>\n",
       "      <td>76.45</td>\n",
       "    </tr>\n",
       "    <tr>\n",
       "      <th>...</th>\n",
       "      <td>...</td>\n",
       "      <td>...</td>\n",
       "      <td>...</td>\n",
       "      <td>...</td>\n",
       "      <td>...</td>\n",
       "    </tr>\n",
       "    <tr>\n",
       "      <th>2137</th>\n",
       "      <td>Venezuela (Bolivarian Republic of)</td>\n",
       "      <td>2019</td>\n",
       "      <td>Life expectancy at birth (years)</td>\n",
       "      <td>Both sexes</td>\n",
       "      <td>73.95</td>\n",
       "    </tr>\n",
       "    <tr>\n",
       "      <th>2149</th>\n",
       "      <td>Viet Nam</td>\n",
       "      <td>2019</td>\n",
       "      <td>Life expectancy at birth (years)</td>\n",
       "      <td>Both sexes</td>\n",
       "      <td>73.74</td>\n",
       "    </tr>\n",
       "    <tr>\n",
       "      <th>2161</th>\n",
       "      <td>Yemen</td>\n",
       "      <td>2019</td>\n",
       "      <td>Life expectancy at birth (years)</td>\n",
       "      <td>Both sexes</td>\n",
       "      <td>66.63</td>\n",
       "    </tr>\n",
       "    <tr>\n",
       "      <th>2173</th>\n",
       "      <td>Zambia</td>\n",
       "      <td>2019</td>\n",
       "      <td>Life expectancy at birth (years)</td>\n",
       "      <td>Both sexes</td>\n",
       "      <td>62.45</td>\n",
       "    </tr>\n",
       "    <tr>\n",
       "      <th>2185</th>\n",
       "      <td>Zimbabwe</td>\n",
       "      <td>2019</td>\n",
       "      <td>Life expectancy at birth (years)</td>\n",
       "      <td>Both sexes</td>\n",
       "      <td>60.68</td>\n",
       "    </tr>\n",
       "  </tbody>\n",
       "</table>\n",
       "<p>183 rows × 5 columns</p>\n",
       "</div>"
      ],
      "text/plain": [
       "                                Location  Period  \\\n",
       "0                            Afghanistan    2019   \n",
       "12                               Albania    2019   \n",
       "24                               Algeria    2019   \n",
       "36                                Angola    2019   \n",
       "48                   Antigua and Barbuda    2019   \n",
       "...                                  ...     ...   \n",
       "2137  Venezuela (Bolivarian Republic of)    2019   \n",
       "2149                            Viet Nam    2019   \n",
       "2161                               Yemen    2019   \n",
       "2173                              Zambia    2019   \n",
       "2185                            Zimbabwe    2019   \n",
       "\n",
       "                             Indicator        Dim1  First Tooltip  \n",
       "0     Life expectancy at birth (years)  Both sexes          63.21  \n",
       "12    Life expectancy at birth (years)  Both sexes          78.00  \n",
       "24    Life expectancy at birth (years)  Both sexes          77.13  \n",
       "36    Life expectancy at birth (years)  Both sexes          63.06  \n",
       "48    Life expectancy at birth (years)  Both sexes          76.45  \n",
       "...                                ...         ...            ...  \n",
       "2137  Life expectancy at birth (years)  Both sexes          73.95  \n",
       "2149  Life expectancy at birth (years)  Both sexes          73.74  \n",
       "2161  Life expectancy at birth (years)  Both sexes          66.63  \n",
       "2173  Life expectancy at birth (years)  Both sexes          62.45  \n",
       "2185  Life expectancy at birth (years)  Both sexes          60.68  \n",
       "\n",
       "[183 rows x 5 columns]"
      ]
     },
     "execution_count": 402,
     "metadata": {},
     "output_type": "execute_result"
    }
   ],
   "source": [
    "leb_2019 = leb_bs[leb_bs['Period'] == 2019]\n",
    "leb_2019"
   ]
  },
  {
   "cell_type": "markdown",
   "metadata": {},
   "source": [
    "## Dataset to export"
   ]
  },
  {
   "cell_type": "code",
   "execution_count": 403,
   "metadata": {},
   "outputs": [
    {
     "data": {
      "text/html": [
       "<div>\n",
       "<style scoped>\n",
       "    .dataframe tbody tr th:only-of-type {\n",
       "        vertical-align: middle;\n",
       "    }\n",
       "\n",
       "    .dataframe tbody tr th {\n",
       "        vertical-align: top;\n",
       "    }\n",
       "\n",
       "    .dataframe thead th {\n",
       "        text-align: right;\n",
       "    }\n",
       "</style>\n",
       "<table border=\"1\" class=\"dataframe\">\n",
       "  <thead>\n",
       "    <tr style=\"text-align: right;\">\n",
       "      <th></th>\n",
       "      <th>Location</th>\n",
       "      <th>Period</th>\n",
       "      <th>Indicator</th>\n",
       "      <th>Dim1</th>\n",
       "      <th>First Tooltip</th>\n",
       "    </tr>\n",
       "  </thead>\n",
       "  <tbody>\n",
       "    <tr>\n",
       "      <th>3</th>\n",
       "      <td>Afghanistan</td>\n",
       "      <td>2015</td>\n",
       "      <td>Life expectancy at birth (years)</td>\n",
       "      <td>Both sexes</td>\n",
       "      <td>61.65</td>\n",
       "    </tr>\n",
       "    <tr>\n",
       "      <th>15</th>\n",
       "      <td>Albania</td>\n",
       "      <td>2015</td>\n",
       "      <td>Life expectancy at birth (years)</td>\n",
       "      <td>Both sexes</td>\n",
       "      <td>77.84</td>\n",
       "    </tr>\n",
       "    <tr>\n",
       "      <th>27</th>\n",
       "      <td>Algeria</td>\n",
       "      <td>2015</td>\n",
       "      <td>Life expectancy at birth (years)</td>\n",
       "      <td>Both sexes</td>\n",
       "      <td>76.54</td>\n",
       "    </tr>\n",
       "    <tr>\n",
       "      <th>39</th>\n",
       "      <td>Angola</td>\n",
       "      <td>2015</td>\n",
       "      <td>Life expectancy at birth (years)</td>\n",
       "      <td>Both sexes</td>\n",
       "      <td>61.72</td>\n",
       "    </tr>\n",
       "    <tr>\n",
       "      <th>51</th>\n",
       "      <td>Antigua and Barbuda</td>\n",
       "      <td>2015</td>\n",
       "      <td>Life expectancy at birth (years)</td>\n",
       "      <td>Both sexes</td>\n",
       "      <td>76.14</td>\n",
       "    </tr>\n",
       "    <tr>\n",
       "      <th>...</th>\n",
       "      <td>...</td>\n",
       "      <td>...</td>\n",
       "      <td>...</td>\n",
       "      <td>...</td>\n",
       "      <td>...</td>\n",
       "    </tr>\n",
       "    <tr>\n",
       "      <th>2140</th>\n",
       "      <td>Venezuela (Bolivarian Republic of)</td>\n",
       "      <td>2015</td>\n",
       "      <td>Life expectancy at birth (years)</td>\n",
       "      <td>Both sexes</td>\n",
       "      <td>74.66</td>\n",
       "    </tr>\n",
       "    <tr>\n",
       "      <th>2152</th>\n",
       "      <td>Viet Nam</td>\n",
       "      <td>2015</td>\n",
       "      <td>Life expectancy at birth (years)</td>\n",
       "      <td>Both sexes</td>\n",
       "      <td>73.16</td>\n",
       "    </tr>\n",
       "    <tr>\n",
       "      <th>2164</th>\n",
       "      <td>Yemen</td>\n",
       "      <td>2015</td>\n",
       "      <td>Life expectancy at birth (years)</td>\n",
       "      <td>Both sexes</td>\n",
       "      <td>67.47</td>\n",
       "    </tr>\n",
       "    <tr>\n",
       "      <th>2176</th>\n",
       "      <td>Zambia</td>\n",
       "      <td>2015</td>\n",
       "      <td>Life expectancy at birth (years)</td>\n",
       "      <td>Both sexes</td>\n",
       "      <td>60.50</td>\n",
       "    </tr>\n",
       "    <tr>\n",
       "      <th>2188</th>\n",
       "      <td>Zimbabwe</td>\n",
       "      <td>2015</td>\n",
       "      <td>Life expectancy at birth (years)</td>\n",
       "      <td>Both sexes</td>\n",
       "      <td>58.48</td>\n",
       "    </tr>\n",
       "  </tbody>\n",
       "</table>\n",
       "<p>183 rows × 5 columns</p>\n",
       "</div>"
      ],
      "text/plain": [
       "                                Location  Period  \\\n",
       "3                            Afghanistan    2015   \n",
       "15                               Albania    2015   \n",
       "27                               Algeria    2015   \n",
       "39                                Angola    2015   \n",
       "51                   Antigua and Barbuda    2015   \n",
       "...                                  ...     ...   \n",
       "2140  Venezuela (Bolivarian Republic of)    2015   \n",
       "2152                            Viet Nam    2015   \n",
       "2164                               Yemen    2015   \n",
       "2176                              Zambia    2015   \n",
       "2188                            Zimbabwe    2015   \n",
       "\n",
       "                             Indicator        Dim1  First Tooltip  \n",
       "3     Life expectancy at birth (years)  Both sexes          61.65  \n",
       "15    Life expectancy at birth (years)  Both sexes          77.84  \n",
       "27    Life expectancy at birth (years)  Both sexes          76.54  \n",
       "39    Life expectancy at birth (years)  Both sexes          61.72  \n",
       "51    Life expectancy at birth (years)  Both sexes          76.14  \n",
       "...                                ...         ...            ...  \n",
       "2140  Life expectancy at birth (years)  Both sexes          74.66  \n",
       "2152  Life expectancy at birth (years)  Both sexes          73.16  \n",
       "2164  Life expectancy at birth (years)  Both sexes          67.47  \n",
       "2176  Life expectancy at birth (years)  Both sexes          60.50  \n",
       "2188  Life expectancy at birth (years)  Both sexes          58.48  \n",
       "\n",
       "[183 rows x 5 columns]"
      ]
     },
     "execution_count": 403,
     "metadata": {},
     "output_type": "execute_result"
    }
   ],
   "source": [
    "leb_2015 = leb_bs[leb_bs['Period'] == 2015]\n",
    "leb_2015"
   ]
  },
  {
   "cell_type": "code",
   "execution_count": null,
   "metadata": {},
   "outputs": [],
   "source": []
  },
  {
   "cell_type": "markdown",
   "metadata": {},
   "source": [
    "## Maternal Mortality Ratio"
   ]
  },
  {
   "cell_type": "code",
   "execution_count": 404,
   "metadata": {},
   "outputs": [
    {
     "data": {
      "text/html": [
       "<div>\n",
       "<style scoped>\n",
       "    .dataframe tbody tr th:only-of-type {\n",
       "        vertical-align: middle;\n",
       "    }\n",
       "\n",
       "    .dataframe tbody tr th {\n",
       "        vertical-align: top;\n",
       "    }\n",
       "\n",
       "    .dataframe thead th {\n",
       "        text-align: right;\n",
       "    }\n",
       "</style>\n",
       "<table border=\"1\" class=\"dataframe\">\n",
       "  <thead>\n",
       "    <tr style=\"text-align: right;\">\n",
       "      <th></th>\n",
       "      <th>Location</th>\n",
       "      <th>Period</th>\n",
       "      <th>Indicator</th>\n",
       "      <th>First Tooltip</th>\n",
       "    </tr>\n",
       "  </thead>\n",
       "  <tbody>\n",
       "    <tr>\n",
       "      <th>0</th>\n",
       "      <td>Afghanistan</td>\n",
       "      <td>2017</td>\n",
       "      <td>Maternal mortality ratio (per 100 000 live bir...</td>\n",
       "      <td>638 [427-1010]</td>\n",
       "    </tr>\n",
       "    <tr>\n",
       "      <th>1</th>\n",
       "      <td>Afghanistan</td>\n",
       "      <td>2016</td>\n",
       "      <td>Maternal mortality ratio (per 100 000 live bir...</td>\n",
       "      <td>673 [457-1040]</td>\n",
       "    </tr>\n",
       "    <tr>\n",
       "      <th>2</th>\n",
       "      <td>Afghanistan</td>\n",
       "      <td>2015</td>\n",
       "      <td>Maternal mortality ratio (per 100 000 live bir...</td>\n",
       "      <td>701 [501-1020]</td>\n",
       "    </tr>\n",
       "    <tr>\n",
       "      <th>3</th>\n",
       "      <td>Afghanistan</td>\n",
       "      <td>2014</td>\n",
       "      <td>Maternal mortality ratio (per 100 000 live bir...</td>\n",
       "      <td>786 [592-1080]</td>\n",
       "    </tr>\n",
       "    <tr>\n",
       "      <th>4</th>\n",
       "      <td>Afghanistan</td>\n",
       "      <td>2013</td>\n",
       "      <td>Maternal mortality ratio (per 100 000 live bir...</td>\n",
       "      <td>810 [617-1080]</td>\n",
       "    </tr>\n",
       "    <tr>\n",
       "      <th>...</th>\n",
       "      <td>...</td>\n",
       "      <td>...</td>\n",
       "      <td>...</td>\n",
       "      <td>...</td>\n",
       "    </tr>\n",
       "    <tr>\n",
       "      <th>3289</th>\n",
       "      <td>Zimbabwe</td>\n",
       "      <td>2004</td>\n",
       "      <td>Maternal mortality ratio (per 100 000 live bir...</td>\n",
       "      <td>686 [597-784]</td>\n",
       "    </tr>\n",
       "    <tr>\n",
       "      <th>3290</th>\n",
       "      <td>Zimbabwe</td>\n",
       "      <td>2003</td>\n",
       "      <td>Maternal mortality ratio (per 100 000 live bir...</td>\n",
       "      <td>680 [590-779]</td>\n",
       "    </tr>\n",
       "    <tr>\n",
       "      <th>3291</th>\n",
       "      <td>Zimbabwe</td>\n",
       "      <td>2002</td>\n",
       "      <td>Maternal mortality ratio (per 100 000 live bir...</td>\n",
       "      <td>666 [577-766]</td>\n",
       "    </tr>\n",
       "    <tr>\n",
       "      <th>3292</th>\n",
       "      <td>Zimbabwe</td>\n",
       "      <td>2001</td>\n",
       "      <td>Maternal mortality ratio (per 100 000 live bir...</td>\n",
       "      <td>629 [544-723]</td>\n",
       "    </tr>\n",
       "    <tr>\n",
       "      <th>3293</th>\n",
       "      <td>Zimbabwe</td>\n",
       "      <td>2000</td>\n",
       "      <td>Maternal mortality ratio (per 100 000 live bir...</td>\n",
       "      <td>579 [500-667]</td>\n",
       "    </tr>\n",
       "  </tbody>\n",
       "</table>\n",
       "<p>3294 rows × 4 columns</p>\n",
       "</div>"
      ],
      "text/plain": [
       "         Location  Period                                          Indicator  \\\n",
       "0     Afghanistan    2017  Maternal mortality ratio (per 100 000 live bir...   \n",
       "1     Afghanistan    2016  Maternal mortality ratio (per 100 000 live bir...   \n",
       "2     Afghanistan    2015  Maternal mortality ratio (per 100 000 live bir...   \n",
       "3     Afghanistan    2014  Maternal mortality ratio (per 100 000 live bir...   \n",
       "4     Afghanistan    2013  Maternal mortality ratio (per 100 000 live bir...   \n",
       "...           ...     ...                                                ...   \n",
       "3289     Zimbabwe    2004  Maternal mortality ratio (per 100 000 live bir...   \n",
       "3290     Zimbabwe    2003  Maternal mortality ratio (per 100 000 live bir...   \n",
       "3291     Zimbabwe    2002  Maternal mortality ratio (per 100 000 live bir...   \n",
       "3292     Zimbabwe    2001  Maternal mortality ratio (per 100 000 live bir...   \n",
       "3293     Zimbabwe    2000  Maternal mortality ratio (per 100 000 live bir...   \n",
       "\n",
       "       First Tooltip  \n",
       "0     638 [427-1010]  \n",
       "1     673 [457-1040]  \n",
       "2     701 [501-1020]  \n",
       "3     786 [592-1080]  \n",
       "4     810 [617-1080]  \n",
       "...              ...  \n",
       "3289   686 [597-784]  \n",
       "3290   680 [590-779]  \n",
       "3291   666 [577-766]  \n",
       "3292   629 [544-723]  \n",
       "3293   579 [500-667]  \n",
       "\n",
       "[3294 rows x 4 columns]"
      ]
     },
     "execution_count": 404,
     "metadata": {},
     "output_type": "execute_result"
    }
   ],
   "source": [
    "mmr_data = pd.read_csv(WHS_path/'maternalMortalityRatio.csv')\n",
    "mmr_data"
   ]
  },
  {
   "cell_type": "code",
   "execution_count": 407,
   "metadata": {},
   "outputs": [
    {
     "data": {
      "text/plain": [
       "Location         3294\n",
       "Period           3294\n",
       "Indicator        3294\n",
       "First Tooltip    3294\n",
       "dtype: int64"
      ]
     },
     "execution_count": 407,
     "metadata": {},
     "output_type": "execute_result"
    }
   ],
   "source": [
    "mmr_data.isnull().count()"
   ]
  },
  {
   "cell_type": "code",
   "execution_count": 408,
   "metadata": {},
   "outputs": [
    {
     "data": {
      "text/html": [
       "<div>\n",
       "<style scoped>\n",
       "    .dataframe tbody tr th:only-of-type {\n",
       "        vertical-align: middle;\n",
       "    }\n",
       "\n",
       "    .dataframe tbody tr th {\n",
       "        vertical-align: top;\n",
       "    }\n",
       "\n",
       "    .dataframe thead th {\n",
       "        text-align: right;\n",
       "    }\n",
       "</style>\n",
       "<table border=\"1\" class=\"dataframe\">\n",
       "  <thead>\n",
       "    <tr style=\"text-align: right;\">\n",
       "      <th></th>\n",
       "      <th>Location</th>\n",
       "      <th>Period</th>\n",
       "      <th>Indicator</th>\n",
       "      <th>First Tooltip</th>\n",
       "    </tr>\n",
       "  </thead>\n",
       "  <tbody>\n",
       "  </tbody>\n",
       "</table>\n",
       "</div>"
      ],
      "text/plain": [
       "Empty DataFrame\n",
       "Columns: [Location, Period, Indicator, First Tooltip]\n",
       "Index: []"
      ]
     },
     "execution_count": 408,
     "metadata": {},
     "output_type": "execute_result"
    }
   ],
   "source": [
    "mmr_data[mmr_data['First Tooltip'] == '0 [0-0]']"
   ]
  },
  {
   "cell_type": "code",
   "execution_count": 410,
   "metadata": {},
   "outputs": [
    {
     "data": {
      "text/plain": [
       "array(['Maternal mortality ratio (per 100 000 live births)'], dtype=object)"
      ]
     },
     "execution_count": 410,
     "metadata": {},
     "output_type": "execute_result"
    }
   ],
   "source": [
    "mmr_data['Indicator'].unique()"
   ]
  },
  {
   "cell_type": "markdown",
   "metadata": {},
   "source": [
    "All year values are the same at 183, so I picked 2015 and 2016."
   ]
  },
  {
   "cell_type": "code",
   "execution_count": 409,
   "metadata": {},
   "outputs": [
    {
     "data": {
      "text/plain": [
       "array([2017, 2016, 2015, 2014, 2013, 2012, 2011, 2010, 2009, 2008, 2007,\n",
       "       2006, 2005, 2004, 2003, 2002, 2001, 2000])"
      ]
     },
     "execution_count": 409,
     "metadata": {},
     "output_type": "execute_result"
    }
   ],
   "source": [
    "mmr_data['Period'].unique()"
   ]
  },
  {
   "cell_type": "code",
   "execution_count": 411,
   "metadata": {},
   "outputs": [
    {
     "data": {
      "text/plain": [
       "Location         183\n",
       "Period           183\n",
       "Indicator        183\n",
       "First Tooltip    183\n",
       "dtype: int64"
      ]
     },
     "execution_count": 411,
     "metadata": {},
     "output_type": "execute_result"
    }
   ],
   "source": [
    "mmr_data[mmr_data['Period'] == 2017].count()"
   ]
  },
  {
   "cell_type": "code",
   "execution_count": 412,
   "metadata": {},
   "outputs": [
    {
     "data": {
      "text/plain": [
       "Location         183\n",
       "Period           183\n",
       "Indicator        183\n",
       "First Tooltip    183\n",
       "dtype: int64"
      ]
     },
     "execution_count": 412,
     "metadata": {},
     "output_type": "execute_result"
    }
   ],
   "source": [
    "mmr_data[mmr_data['Period'] == 2016].count()"
   ]
  },
  {
   "cell_type": "code",
   "execution_count": 413,
   "metadata": {},
   "outputs": [
    {
     "data": {
      "text/plain": [
       "Location         183\n",
       "Period           183\n",
       "Indicator        183\n",
       "First Tooltip    183\n",
       "dtype: int64"
      ]
     },
     "execution_count": 413,
     "metadata": {},
     "output_type": "execute_result"
    }
   ],
   "source": [
    "mmr_data[mmr_data['Period'] == 2015].count()"
   ]
  },
  {
   "cell_type": "code",
   "execution_count": 414,
   "metadata": {},
   "outputs": [
    {
     "data": {
      "text/plain": [
       "Location         183\n",
       "Period           183\n",
       "Indicator        183\n",
       "First Tooltip    183\n",
       "dtype: int64"
      ]
     },
     "execution_count": 414,
     "metadata": {},
     "output_type": "execute_result"
    }
   ],
   "source": [
    "mmr_data[mmr_data['Period'] == 2014].count()"
   ]
  },
  {
   "cell_type": "code",
   "execution_count": 415,
   "metadata": {},
   "outputs": [
    {
     "data": {
      "text/plain": [
       "Location         183\n",
       "Period           183\n",
       "Indicator        183\n",
       "First Tooltip    183\n",
       "dtype: int64"
      ]
     },
     "execution_count": 415,
     "metadata": {},
     "output_type": "execute_result"
    }
   ],
   "source": [
    "mmr_data[mmr_data['Period'] == 2013].count()"
   ]
  },
  {
   "cell_type": "code",
   "execution_count": 416,
   "metadata": {},
   "outputs": [
    {
     "data": {
      "text/plain": [
       "Location         183\n",
       "Period           183\n",
       "Indicator        183\n",
       "First Tooltip    183\n",
       "dtype: int64"
      ]
     },
     "execution_count": 416,
     "metadata": {},
     "output_type": "execute_result"
    }
   ],
   "source": [
    "mmr_data[mmr_data['Period'] == 2012].count()"
   ]
  },
  {
   "cell_type": "code",
   "execution_count": 417,
   "metadata": {},
   "outputs": [
    {
     "data": {
      "text/plain": [
       "Location         183\n",
       "Period           183\n",
       "Indicator        183\n",
       "First Tooltip    183\n",
       "dtype: int64"
      ]
     },
     "execution_count": 417,
     "metadata": {},
     "output_type": "execute_result"
    }
   ],
   "source": [
    "mmr_data[mmr_data['Period'] == 2011].count()"
   ]
  },
  {
   "cell_type": "code",
   "execution_count": 418,
   "metadata": {},
   "outputs": [
    {
     "data": {
      "text/plain": [
       "Location         183\n",
       "Period           183\n",
       "Indicator        183\n",
       "First Tooltip    183\n",
       "dtype: int64"
      ]
     },
     "execution_count": 418,
     "metadata": {},
     "output_type": "execute_result"
    }
   ],
   "source": [
    "mmr_data[mmr_data['Period'] == 2010].count()"
   ]
  },
  {
   "cell_type": "code",
   "execution_count": 419,
   "metadata": {},
   "outputs": [
    {
     "data": {
      "text/plain": [
       "Location         183\n",
       "Period           183\n",
       "Indicator        183\n",
       "First Tooltip    183\n",
       "dtype: int64"
      ]
     },
     "execution_count": 419,
     "metadata": {},
     "output_type": "execute_result"
    }
   ],
   "source": [
    "mmr_data[mmr_data['Period'] == 2009].count()"
   ]
  },
  {
   "cell_type": "code",
   "execution_count": 420,
   "metadata": {},
   "outputs": [
    {
     "data": {
      "text/plain": [
       "Location         183\n",
       "Period           183\n",
       "Indicator        183\n",
       "First Tooltip    183\n",
       "dtype: int64"
      ]
     },
     "execution_count": 420,
     "metadata": {},
     "output_type": "execute_result"
    }
   ],
   "source": [
    "mmr_data[mmr_data['Period'] == 2008].count()"
   ]
  },
  {
   "cell_type": "code",
   "execution_count": 421,
   "metadata": {},
   "outputs": [
    {
     "data": {
      "text/plain": [
       "Location         183\n",
       "Period           183\n",
       "Indicator        183\n",
       "First Tooltip    183\n",
       "dtype: int64"
      ]
     },
     "execution_count": 421,
     "metadata": {},
     "output_type": "execute_result"
    }
   ],
   "source": [
    "mmr_data[mmr_data['Period'] == 2007].count()"
   ]
  },
  {
   "cell_type": "code",
   "execution_count": 422,
   "metadata": {},
   "outputs": [
    {
     "data": {
      "text/plain": [
       "Location         183\n",
       "Period           183\n",
       "Indicator        183\n",
       "First Tooltip    183\n",
       "dtype: int64"
      ]
     },
     "execution_count": 422,
     "metadata": {},
     "output_type": "execute_result"
    }
   ],
   "source": [
    "mmr_data[mmr_data['Period'] == 2006].count()"
   ]
  },
  {
   "cell_type": "code",
   "execution_count": 423,
   "metadata": {},
   "outputs": [
    {
     "data": {
      "text/plain": [
       "Location         183\n",
       "Period           183\n",
       "Indicator        183\n",
       "First Tooltip    183\n",
       "dtype: int64"
      ]
     },
     "execution_count": 423,
     "metadata": {},
     "output_type": "execute_result"
    }
   ],
   "source": [
    "mmr_data[mmr_data['Period'] == 2005].count()"
   ]
  },
  {
   "cell_type": "code",
   "execution_count": 424,
   "metadata": {},
   "outputs": [
    {
     "data": {
      "text/plain": [
       "Location         183\n",
       "Period           183\n",
       "Indicator        183\n",
       "First Tooltip    183\n",
       "dtype: int64"
      ]
     },
     "execution_count": 424,
     "metadata": {},
     "output_type": "execute_result"
    }
   ],
   "source": [
    "mmr_data[mmr_data['Period'] == 2004].count()"
   ]
  },
  {
   "cell_type": "code",
   "execution_count": 425,
   "metadata": {},
   "outputs": [
    {
     "data": {
      "text/plain": [
       "Location         183\n",
       "Period           183\n",
       "Indicator        183\n",
       "First Tooltip    183\n",
       "dtype: int64"
      ]
     },
     "execution_count": 425,
     "metadata": {},
     "output_type": "execute_result"
    }
   ],
   "source": [
    "mmr_data[mmr_data['Period'] == 2003].count()"
   ]
  },
  {
   "cell_type": "code",
   "execution_count": 426,
   "metadata": {},
   "outputs": [
    {
     "data": {
      "text/plain": [
       "Location         183\n",
       "Period           183\n",
       "Indicator        183\n",
       "First Tooltip    183\n",
       "dtype: int64"
      ]
     },
     "execution_count": 426,
     "metadata": {},
     "output_type": "execute_result"
    }
   ],
   "source": [
    "mmr_data[mmr_data['Period'] == 2002].count()"
   ]
  },
  {
   "cell_type": "code",
   "execution_count": 427,
   "metadata": {},
   "outputs": [
    {
     "data": {
      "text/plain": [
       "Location         183\n",
       "Period           183\n",
       "Indicator        183\n",
       "First Tooltip    183\n",
       "dtype: int64"
      ]
     },
     "execution_count": 427,
     "metadata": {},
     "output_type": "execute_result"
    }
   ],
   "source": [
    "mmr_data[mmr_data['Period'] == 2001].count()"
   ]
  },
  {
   "cell_type": "code",
   "execution_count": 428,
   "metadata": {},
   "outputs": [
    {
     "data": {
      "text/plain": [
       "Location         183\n",
       "Period           183\n",
       "Indicator        183\n",
       "First Tooltip    183\n",
       "dtype: int64"
      ]
     },
     "execution_count": 428,
     "metadata": {},
     "output_type": "execute_result"
    }
   ],
   "source": [
    "mmr_data[mmr_data['Period'] == 2000].count()"
   ]
  },
  {
   "cell_type": "markdown",
   "metadata": {},
   "source": [
    "## Dataset to export"
   ]
  },
  {
   "cell_type": "code",
   "execution_count": 429,
   "metadata": {},
   "outputs": [
    {
     "data": {
      "text/html": [
       "<div>\n",
       "<style scoped>\n",
       "    .dataframe tbody tr th:only-of-type {\n",
       "        vertical-align: middle;\n",
       "    }\n",
       "\n",
       "    .dataframe tbody tr th {\n",
       "        vertical-align: top;\n",
       "    }\n",
       "\n",
       "    .dataframe thead th {\n",
       "        text-align: right;\n",
       "    }\n",
       "</style>\n",
       "<table border=\"1\" class=\"dataframe\">\n",
       "  <thead>\n",
       "    <tr style=\"text-align: right;\">\n",
       "      <th></th>\n",
       "      <th>Location</th>\n",
       "      <th>Period</th>\n",
       "      <th>Indicator</th>\n",
       "      <th>First Tooltip</th>\n",
       "    </tr>\n",
       "  </thead>\n",
       "  <tbody>\n",
       "    <tr>\n",
       "      <th>1</th>\n",
       "      <td>Afghanistan</td>\n",
       "      <td>2016</td>\n",
       "      <td>Maternal mortality ratio (per 100 000 live bir...</td>\n",
       "      <td>673 [457-1040]</td>\n",
       "    </tr>\n",
       "    <tr>\n",
       "      <th>19</th>\n",
       "      <td>Albania</td>\n",
       "      <td>2016</td>\n",
       "      <td>Maternal mortality ratio (per 100 000 live bir...</td>\n",
       "      <td>16 [8-26]</td>\n",
       "    </tr>\n",
       "    <tr>\n",
       "      <th>37</th>\n",
       "      <td>Algeria</td>\n",
       "      <td>2016</td>\n",
       "      <td>Maternal mortality ratio (per 100 000 live bir...</td>\n",
       "      <td>113 [66-203]</td>\n",
       "    </tr>\n",
       "    <tr>\n",
       "      <th>55</th>\n",
       "      <td>Angola</td>\n",
       "      <td>2016</td>\n",
       "      <td>Maternal mortality ratio (per 100 000 live bir...</td>\n",
       "      <td>246 [172-349]</td>\n",
       "    </tr>\n",
       "    <tr>\n",
       "      <th>73</th>\n",
       "      <td>Antigua and Barbuda</td>\n",
       "      <td>2016</td>\n",
       "      <td>Maternal mortality ratio (per 100 000 live bir...</td>\n",
       "      <td>43 [25-70]</td>\n",
       "    </tr>\n",
       "    <tr>\n",
       "      <th>...</th>\n",
       "      <td>...</td>\n",
       "      <td>...</td>\n",
       "      <td>...</td>\n",
       "      <td>...</td>\n",
       "    </tr>\n",
       "    <tr>\n",
       "      <th>3205</th>\n",
       "      <td>Venezuela (Bolivarian Republic of)</td>\n",
       "      <td>2016</td>\n",
       "      <td>Maternal mortality ratio (per 100 000 live bir...</td>\n",
       "      <td>121 [96-162]</td>\n",
       "    </tr>\n",
       "    <tr>\n",
       "      <th>3223</th>\n",
       "      <td>Viet Nam</td>\n",
       "      <td>2016</td>\n",
       "      <td>Maternal mortality ratio (per 100 000 live bir...</td>\n",
       "      <td>44 [32-61]</td>\n",
       "    </tr>\n",
       "    <tr>\n",
       "      <th>3241</th>\n",
       "      <td>Yemen</td>\n",
       "      <td>2016</td>\n",
       "      <td>Maternal mortality ratio (per 100 000 live bir...</td>\n",
       "      <td>165 [104-249]</td>\n",
       "    </tr>\n",
       "    <tr>\n",
       "      <th>3259</th>\n",
       "      <td>Zambia</td>\n",
       "      <td>2016</td>\n",
       "      <td>Maternal mortality ratio (per 100 000 live bir...</td>\n",
       "      <td>222 [168-295]</td>\n",
       "    </tr>\n",
       "    <tr>\n",
       "      <th>3277</th>\n",
       "      <td>Zimbabwe</td>\n",
       "      <td>2016</td>\n",
       "      <td>Maternal mortality ratio (per 100 000 live bir...</td>\n",
       "      <td>468 [372-580]</td>\n",
       "    </tr>\n",
       "  </tbody>\n",
       "</table>\n",
       "<p>183 rows × 4 columns</p>\n",
       "</div>"
      ],
      "text/plain": [
       "                                Location  Period  \\\n",
       "1                            Afghanistan    2016   \n",
       "19                               Albania    2016   \n",
       "37                               Algeria    2016   \n",
       "55                                Angola    2016   \n",
       "73                   Antigua and Barbuda    2016   \n",
       "...                                  ...     ...   \n",
       "3205  Venezuela (Bolivarian Republic of)    2016   \n",
       "3223                            Viet Nam    2016   \n",
       "3241                               Yemen    2016   \n",
       "3259                              Zambia    2016   \n",
       "3277                            Zimbabwe    2016   \n",
       "\n",
       "                                              Indicator   First Tooltip  \n",
       "1     Maternal mortality ratio (per 100 000 live bir...  673 [457-1040]  \n",
       "19    Maternal mortality ratio (per 100 000 live bir...       16 [8-26]  \n",
       "37    Maternal mortality ratio (per 100 000 live bir...    113 [66-203]  \n",
       "55    Maternal mortality ratio (per 100 000 live bir...   246 [172-349]  \n",
       "73    Maternal mortality ratio (per 100 000 live bir...      43 [25-70]  \n",
       "...                                                 ...             ...  \n",
       "3205  Maternal mortality ratio (per 100 000 live bir...    121 [96-162]  \n",
       "3223  Maternal mortality ratio (per 100 000 live bir...      44 [32-61]  \n",
       "3241  Maternal mortality ratio (per 100 000 live bir...   165 [104-249]  \n",
       "3259  Maternal mortality ratio (per 100 000 live bir...   222 [168-295]  \n",
       "3277  Maternal mortality ratio (per 100 000 live bir...   468 [372-580]  \n",
       "\n",
       "[183 rows x 4 columns]"
      ]
     },
     "execution_count": 429,
     "metadata": {},
     "output_type": "execute_result"
    }
   ],
   "source": [
    "mmr_2016 = mmr_data[mmr_data['Period'] == 2016]\n",
    "mmr_2016"
   ]
  },
  {
   "cell_type": "markdown",
   "metadata": {},
   "source": [
    "## Dataset to export"
   ]
  },
  {
   "cell_type": "code",
   "execution_count": 430,
   "metadata": {},
   "outputs": [
    {
     "data": {
      "text/html": [
       "<div>\n",
       "<style scoped>\n",
       "    .dataframe tbody tr th:only-of-type {\n",
       "        vertical-align: middle;\n",
       "    }\n",
       "\n",
       "    .dataframe tbody tr th {\n",
       "        vertical-align: top;\n",
       "    }\n",
       "\n",
       "    .dataframe thead th {\n",
       "        text-align: right;\n",
       "    }\n",
       "</style>\n",
       "<table border=\"1\" class=\"dataframe\">\n",
       "  <thead>\n",
       "    <tr style=\"text-align: right;\">\n",
       "      <th></th>\n",
       "      <th>Location</th>\n",
       "      <th>Period</th>\n",
       "      <th>Indicator</th>\n",
       "      <th>First Tooltip</th>\n",
       "    </tr>\n",
       "  </thead>\n",
       "  <tbody>\n",
       "    <tr>\n",
       "      <th>2</th>\n",
       "      <td>Afghanistan</td>\n",
       "      <td>2015</td>\n",
       "      <td>Maternal mortality ratio (per 100 000 live bir...</td>\n",
       "      <td>701 [501-1020]</td>\n",
       "    </tr>\n",
       "    <tr>\n",
       "      <th>20</th>\n",
       "      <td>Albania</td>\n",
       "      <td>2015</td>\n",
       "      <td>Maternal mortality ratio (per 100 000 live bir...</td>\n",
       "      <td>15 [8-25]</td>\n",
       "    </tr>\n",
       "    <tr>\n",
       "      <th>38</th>\n",
       "      <td>Algeria</td>\n",
       "      <td>2015</td>\n",
       "      <td>Maternal mortality ratio (per 100 000 live bir...</td>\n",
       "      <td>114 [67-199]</td>\n",
       "    </tr>\n",
       "    <tr>\n",
       "      <th>56</th>\n",
       "      <td>Angola</td>\n",
       "      <td>2015</td>\n",
       "      <td>Maternal mortality ratio (per 100 000 live bir...</td>\n",
       "      <td>251 [178-353]</td>\n",
       "    </tr>\n",
       "    <tr>\n",
       "      <th>74</th>\n",
       "      <td>Antigua and Barbuda</td>\n",
       "      <td>2015</td>\n",
       "      <td>Maternal mortality ratio (per 100 000 live bir...</td>\n",
       "      <td>43 [25-70]</td>\n",
       "    </tr>\n",
       "    <tr>\n",
       "      <th>...</th>\n",
       "      <td>...</td>\n",
       "      <td>...</td>\n",
       "      <td>...</td>\n",
       "      <td>...</td>\n",
       "    </tr>\n",
       "    <tr>\n",
       "      <th>3206</th>\n",
       "      <td>Venezuela (Bolivarian Republic of)</td>\n",
       "      <td>2015</td>\n",
       "      <td>Maternal mortality ratio (per 100 000 live bir...</td>\n",
       "      <td>115 [92-151]</td>\n",
       "    </tr>\n",
       "    <tr>\n",
       "      <th>3224</th>\n",
       "      <td>Viet Nam</td>\n",
       "      <td>2015</td>\n",
       "      <td>Maternal mortality ratio (per 100 000 live bir...</td>\n",
       "      <td>45 [33-62]</td>\n",
       "    </tr>\n",
       "    <tr>\n",
       "      <th>3242</th>\n",
       "      <td>Yemen</td>\n",
       "      <td>2015</td>\n",
       "      <td>Maternal mortality ratio (per 100 000 live bir...</td>\n",
       "      <td>169 [105-264]</td>\n",
       "    </tr>\n",
       "    <tr>\n",
       "      <th>3260</th>\n",
       "      <td>Zambia</td>\n",
       "      <td>2015</td>\n",
       "      <td>Maternal mortality ratio (per 100 000 live bir...</td>\n",
       "      <td>232 [178-305]</td>\n",
       "    </tr>\n",
       "    <tr>\n",
       "      <th>3278</th>\n",
       "      <td>Zimbabwe</td>\n",
       "      <td>2015</td>\n",
       "      <td>Maternal mortality ratio (per 100 000 live bir...</td>\n",
       "      <td>480 [385-588]</td>\n",
       "    </tr>\n",
       "  </tbody>\n",
       "</table>\n",
       "<p>183 rows × 4 columns</p>\n",
       "</div>"
      ],
      "text/plain": [
       "                                Location  Period  \\\n",
       "2                            Afghanistan    2015   \n",
       "20                               Albania    2015   \n",
       "38                               Algeria    2015   \n",
       "56                                Angola    2015   \n",
       "74                   Antigua and Barbuda    2015   \n",
       "...                                  ...     ...   \n",
       "3206  Venezuela (Bolivarian Republic of)    2015   \n",
       "3224                            Viet Nam    2015   \n",
       "3242                               Yemen    2015   \n",
       "3260                              Zambia    2015   \n",
       "3278                            Zimbabwe    2015   \n",
       "\n",
       "                                              Indicator   First Tooltip  \n",
       "2     Maternal mortality ratio (per 100 000 live bir...  701 [501-1020]  \n",
       "20    Maternal mortality ratio (per 100 000 live bir...       15 [8-25]  \n",
       "38    Maternal mortality ratio (per 100 000 live bir...    114 [67-199]  \n",
       "56    Maternal mortality ratio (per 100 000 live bir...   251 [178-353]  \n",
       "74    Maternal mortality ratio (per 100 000 live bir...      43 [25-70]  \n",
       "...                                                 ...             ...  \n",
       "3206  Maternal mortality ratio (per 100 000 live bir...    115 [92-151]  \n",
       "3224  Maternal mortality ratio (per 100 000 live bir...      45 [33-62]  \n",
       "3242  Maternal mortality ratio (per 100 000 live bir...   169 [105-264]  \n",
       "3260  Maternal mortality ratio (per 100 000 live bir...   232 [178-305]  \n",
       "3278  Maternal mortality ratio (per 100 000 live bir...   480 [385-588]  \n",
       "\n",
       "[183 rows x 4 columns]"
      ]
     },
     "execution_count": 430,
     "metadata": {},
     "output_type": "execute_result"
    }
   ],
   "source": [
    "mmr_2015 = mmr_data[mmr_data['Period'] == 2015]\n",
    "mmr_2015"
   ]
  },
  {
   "cell_type": "code",
   "execution_count": null,
   "metadata": {},
   "outputs": [],
   "source": []
  },
  {
   "cell_type": "markdown",
   "metadata": {},
   "source": [
    "## Medical Doctors"
   ]
  },
  {
   "cell_type": "code",
   "execution_count": 431,
   "metadata": {},
   "outputs": [
    {
     "data": {
      "text/html": [
       "<div>\n",
       "<style scoped>\n",
       "    .dataframe tbody tr th:only-of-type {\n",
       "        vertical-align: middle;\n",
       "    }\n",
       "\n",
       "    .dataframe tbody tr th {\n",
       "        vertical-align: top;\n",
       "    }\n",
       "\n",
       "    .dataframe thead th {\n",
       "        text-align: right;\n",
       "    }\n",
       "</style>\n",
       "<table border=\"1\" class=\"dataframe\">\n",
       "  <thead>\n",
       "    <tr style=\"text-align: right;\">\n",
       "      <th></th>\n",
       "      <th>Location</th>\n",
       "      <th>Period</th>\n",
       "      <th>Indicator</th>\n",
       "      <th>First Tooltip</th>\n",
       "    </tr>\n",
       "  </thead>\n",
       "  <tbody>\n",
       "    <tr>\n",
       "      <th>0</th>\n",
       "      <td>Afghanistan</td>\n",
       "      <td>2016</td>\n",
       "      <td>Medical doctors (per 10,000)</td>\n",
       "      <td>2.78</td>\n",
       "    </tr>\n",
       "    <tr>\n",
       "      <th>1</th>\n",
       "      <td>Afghanistan</td>\n",
       "      <td>2015</td>\n",
       "      <td>Medical doctors (per 10,000)</td>\n",
       "      <td>2.85</td>\n",
       "    </tr>\n",
       "    <tr>\n",
       "      <th>2</th>\n",
       "      <td>Afghanistan</td>\n",
       "      <td>2014</td>\n",
       "      <td>Medical doctors (per 10,000)</td>\n",
       "      <td>2.98</td>\n",
       "    </tr>\n",
       "    <tr>\n",
       "      <th>3</th>\n",
       "      <td>Afghanistan</td>\n",
       "      <td>2013</td>\n",
       "      <td>Medical doctors (per 10,000)</td>\n",
       "      <td>2.85</td>\n",
       "    </tr>\n",
       "    <tr>\n",
       "      <th>4</th>\n",
       "      <td>Afghanistan</td>\n",
       "      <td>2012</td>\n",
       "      <td>Medical doctors (per 10,000)</td>\n",
       "      <td>2.41</td>\n",
       "    </tr>\n",
       "    <tr>\n",
       "      <th>...</th>\n",
       "      <td>...</td>\n",
       "      <td>...</td>\n",
       "      <td>...</td>\n",
       "      <td>...</td>\n",
       "    </tr>\n",
       "    <tr>\n",
       "      <th>2501</th>\n",
       "      <td>Zimbabwe</td>\n",
       "      <td>2005</td>\n",
       "      <td>Medical doctors (per 10,000)</td>\n",
       "      <td>1.26</td>\n",
       "    </tr>\n",
       "    <tr>\n",
       "      <th>2502</th>\n",
       "      <td>Zimbabwe</td>\n",
       "      <td>2004</td>\n",
       "      <td>Medical doctors (per 10,000)</td>\n",
       "      <td>1.74</td>\n",
       "    </tr>\n",
       "    <tr>\n",
       "      <th>2503</th>\n",
       "      <td>Zimbabwe</td>\n",
       "      <td>2000</td>\n",
       "      <td>Medical doctors (per 10,000)</td>\n",
       "      <td>1.26</td>\n",
       "    </tr>\n",
       "    <tr>\n",
       "      <th>2504</th>\n",
       "      <td>Zimbabwe</td>\n",
       "      <td>1995</td>\n",
       "      <td>Medical doctors (per 10,000)</td>\n",
       "      <td>1.43</td>\n",
       "    </tr>\n",
       "    <tr>\n",
       "      <th>2505</th>\n",
       "      <td>Zimbabwe</td>\n",
       "      <td>1990</td>\n",
       "      <td>Medical doctors (per 10,000)</td>\n",
       "      <td>1.27</td>\n",
       "    </tr>\n",
       "  </tbody>\n",
       "</table>\n",
       "<p>2506 rows × 4 columns</p>\n",
       "</div>"
      ],
      "text/plain": [
       "         Location  Period                     Indicator  First Tooltip\n",
       "0     Afghanistan    2016  Medical doctors (per 10,000)           2.78\n",
       "1     Afghanistan    2015  Medical doctors (per 10,000)           2.85\n",
       "2     Afghanistan    2014  Medical doctors (per 10,000)           2.98\n",
       "3     Afghanistan    2013  Medical doctors (per 10,000)           2.85\n",
       "4     Afghanistan    2012  Medical doctors (per 10,000)           2.41\n",
       "...           ...     ...                           ...            ...\n",
       "2501     Zimbabwe    2005  Medical doctors (per 10,000)           1.26\n",
       "2502     Zimbabwe    2004  Medical doctors (per 10,000)           1.74\n",
       "2503     Zimbabwe    2000  Medical doctors (per 10,000)           1.26\n",
       "2504     Zimbabwe    1995  Medical doctors (per 10,000)           1.43\n",
       "2505     Zimbabwe    1990  Medical doctors (per 10,000)           1.27\n",
       "\n",
       "[2506 rows x 4 columns]"
      ]
     },
     "execution_count": 431,
     "metadata": {},
     "output_type": "execute_result"
    }
   ],
   "source": [
    "doc_data = pd.read_csv(WHS_path/'medicalDoctors.csv')\n",
    "doc_data"
   ]
  },
  {
   "cell_type": "code",
   "execution_count": 432,
   "metadata": {},
   "outputs": [
    {
     "data": {
      "text/plain": [
       "Location         2506\n",
       "Period           2506\n",
       "Indicator        2506\n",
       "First Tooltip    2506\n",
       "dtype: int64"
      ]
     },
     "execution_count": 432,
     "metadata": {},
     "output_type": "execute_result"
    }
   ],
   "source": [
    "doc_data.isnull().count()"
   ]
  },
  {
   "cell_type": "code",
   "execution_count": 433,
   "metadata": {},
   "outputs": [
    {
     "data": {
      "text/html": [
       "<div>\n",
       "<style scoped>\n",
       "    .dataframe tbody tr th:only-of-type {\n",
       "        vertical-align: middle;\n",
       "    }\n",
       "\n",
       "    .dataframe tbody tr th {\n",
       "        vertical-align: top;\n",
       "    }\n",
       "\n",
       "    .dataframe thead th {\n",
       "        text-align: right;\n",
       "    }\n",
       "</style>\n",
       "<table border=\"1\" class=\"dataframe\">\n",
       "  <thead>\n",
       "    <tr style=\"text-align: right;\">\n",
       "      <th></th>\n",
       "      <th>Location</th>\n",
       "      <th>Period</th>\n",
       "      <th>Indicator</th>\n",
       "      <th>First Tooltip</th>\n",
       "    </tr>\n",
       "  </thead>\n",
       "  <tbody>\n",
       "  </tbody>\n",
       "</table>\n",
       "</div>"
      ],
      "text/plain": [
       "Empty DataFrame\n",
       "Columns: [Location, Period, Indicator, First Tooltip]\n",
       "Index: []"
      ]
     },
     "execution_count": 433,
     "metadata": {},
     "output_type": "execute_result"
    }
   ],
   "source": [
    "doc_data[doc_data['First Tooltip'] == 0.0]"
   ]
  },
  {
   "cell_type": "code",
   "execution_count": 435,
   "metadata": {},
   "outputs": [
    {
     "data": {
      "text/plain": [
       "array(['Medical doctors (per 10,000)'], dtype=object)"
      ]
     },
     "execution_count": 435,
     "metadata": {},
     "output_type": "execute_result"
    }
   ],
   "source": [
    "doc_data['Indicator'].unique()"
   ]
  },
  {
   "cell_type": "markdown",
   "metadata": {},
   "source": [
    "I ignored the years before 2000. The best years are 2008 and 2009."
   ]
  },
  {
   "cell_type": "code",
   "execution_count": 436,
   "metadata": {},
   "outputs": [
    {
     "data": {
      "text/plain": [
       "array([2016, 2015, 2014, 2013, 2012, 2011, 2010, 2009, 2008, 2007, 2006,\n",
       "       2001, 2004, 2003, 2002, 2000, 1998, 1997, 1996, 1995, 1994, 1993,\n",
       "       1992, 1991, 1990, 2018, 2017, 2005, 1999])"
      ]
     },
     "execution_count": 436,
     "metadata": {},
     "output_type": "execute_result"
    }
   ],
   "source": [
    "doc_data['Period'].unique()"
   ]
  },
  {
   "cell_type": "code",
   "execution_count": 437,
   "metadata": {},
   "outputs": [
    {
     "data": {
      "text/plain": [
       "Location         110\n",
       "Period           110\n",
       "Indicator        110\n",
       "First Tooltip    110\n",
       "dtype: int64"
      ]
     },
     "execution_count": 437,
     "metadata": {},
     "output_type": "execute_result"
    }
   ],
   "source": [
    "doc_data[doc_data['Period'] == 2016].count()"
   ]
  },
  {
   "cell_type": "code",
   "execution_count": 438,
   "metadata": {},
   "outputs": [
    {
     "data": {
      "text/plain": [
       "Location         105\n",
       "Period           105\n",
       "Indicator        105\n",
       "First Tooltip    105\n",
       "dtype: int64"
      ]
     },
     "execution_count": 438,
     "metadata": {},
     "output_type": "execute_result"
    }
   ],
   "source": [
    "doc_data[doc_data['Period'] == 2015].count()"
   ]
  },
  {
   "cell_type": "code",
   "execution_count": 439,
   "metadata": {},
   "outputs": [
    {
     "data": {
      "text/plain": [
       "Location         114\n",
       "Period           114\n",
       "Indicator        114\n",
       "First Tooltip    114\n",
       "dtype: int64"
      ]
     },
     "execution_count": 439,
     "metadata": {},
     "output_type": "execute_result"
    }
   ],
   "source": [
    "doc_data[doc_data['Period'] == 2014].count()"
   ]
  },
  {
   "cell_type": "code",
   "execution_count": 440,
   "metadata": {},
   "outputs": [
    {
     "data": {
      "text/plain": [
       "Location         109\n",
       "Period           109\n",
       "Indicator        109\n",
       "First Tooltip    109\n",
       "dtype: int64"
      ]
     },
     "execution_count": 440,
     "metadata": {},
     "output_type": "execute_result"
    }
   ],
   "source": [
    "doc_data[doc_data['Period'] == 2013].count()"
   ]
  },
  {
   "cell_type": "code",
   "execution_count": 441,
   "metadata": {},
   "outputs": [
    {
     "data": {
      "text/plain": [
       "Location         112\n",
       "Period           112\n",
       "Indicator        112\n",
       "First Tooltip    112\n",
       "dtype: int64"
      ]
     },
     "execution_count": 441,
     "metadata": {},
     "output_type": "execute_result"
    }
   ],
   "source": [
    "doc_data[doc_data['Period'] == 2012].count()"
   ]
  },
  {
   "cell_type": "code",
   "execution_count": 442,
   "metadata": {},
   "outputs": [
    {
     "data": {
      "text/plain": [
       "Location         114\n",
       "Period           114\n",
       "Indicator        114\n",
       "First Tooltip    114\n",
       "dtype: int64"
      ]
     },
     "execution_count": 442,
     "metadata": {},
     "output_type": "execute_result"
    }
   ],
   "source": [
    "doc_data[doc_data['Period'] == 2011].count()"
   ]
  },
  {
   "cell_type": "code",
   "execution_count": 443,
   "metadata": {},
   "outputs": [
    {
     "data": {
      "text/plain": [
       "Location         128\n",
       "Period           128\n",
       "Indicator        128\n",
       "First Tooltip    128\n",
       "dtype: int64"
      ]
     },
     "execution_count": 443,
     "metadata": {},
     "output_type": "execute_result"
    }
   ],
   "source": [
    "doc_data[doc_data['Period'] == 2010].count()"
   ]
  },
  {
   "cell_type": "code",
   "execution_count": 444,
   "metadata": {},
   "outputs": [
    {
     "data": {
      "text/plain": [
       "Location         132\n",
       "Period           132\n",
       "Indicator        132\n",
       "First Tooltip    132\n",
       "dtype: int64"
      ]
     },
     "execution_count": 444,
     "metadata": {},
     "output_type": "execute_result"
    }
   ],
   "source": [
    "doc_data[doc_data['Period'] == 2009].count()"
   ]
  },
  {
   "cell_type": "code",
   "execution_count": 445,
   "metadata": {},
   "outputs": [
    {
     "data": {
      "text/plain": [
       "Location         133\n",
       "Period           133\n",
       "Indicator        133\n",
       "First Tooltip    133\n",
       "dtype: int64"
      ]
     },
     "execution_count": 445,
     "metadata": {},
     "output_type": "execute_result"
    }
   ],
   "source": [
    "doc_data[doc_data['Period'] == 2008].count()"
   ]
  },
  {
   "cell_type": "code",
   "execution_count": 446,
   "metadata": {},
   "outputs": [
    {
     "data": {
      "text/plain": [
       "Location         109\n",
       "Period           109\n",
       "Indicator        109\n",
       "First Tooltip    109\n",
       "dtype: int64"
      ]
     },
     "execution_count": 446,
     "metadata": {},
     "output_type": "execute_result"
    }
   ],
   "source": [
    "doc_data[doc_data['Period'] == 2007].count()"
   ]
  },
  {
   "cell_type": "code",
   "execution_count": 447,
   "metadata": {},
   "outputs": [
    {
     "data": {
      "text/plain": [
       "Location         99\n",
       "Period           99\n",
       "Indicator        99\n",
       "First Tooltip    99\n",
       "dtype: int64"
      ]
     },
     "execution_count": 447,
     "metadata": {},
     "output_type": "execute_result"
    }
   ],
   "source": [
    "doc_data[doc_data['Period'] == 2006].count()"
   ]
  },
  {
   "cell_type": "code",
   "execution_count": 448,
   "metadata": {},
   "outputs": [
    {
     "data": {
      "text/plain": [
       "Location         101\n",
       "Period           101\n",
       "Indicator        101\n",
       "First Tooltip    101\n",
       "dtype: int64"
      ]
     },
     "execution_count": 448,
     "metadata": {},
     "output_type": "execute_result"
    }
   ],
   "source": [
    "doc_data[doc_data['Period'] == 2005].count()"
   ]
  },
  {
   "cell_type": "code",
   "execution_count": 449,
   "metadata": {},
   "outputs": [
    {
     "data": {
      "text/plain": [
       "Location         127\n",
       "Period           127\n",
       "Indicator        127\n",
       "First Tooltip    127\n",
       "dtype: int64"
      ]
     },
     "execution_count": 449,
     "metadata": {},
     "output_type": "execute_result"
    }
   ],
   "source": [
    "doc_data[doc_data['Period'] == 2004].count()"
   ]
  },
  {
   "cell_type": "code",
   "execution_count": 450,
   "metadata": {},
   "outputs": [
    {
     "data": {
      "text/plain": [
       "Location         84\n",
       "Period           84\n",
       "Indicator        84\n",
       "First Tooltip    84\n",
       "dtype: int64"
      ]
     },
     "execution_count": 450,
     "metadata": {},
     "output_type": "execute_result"
    }
   ],
   "source": [
    "doc_data[doc_data['Period'] == 2003].count()"
   ]
  },
  {
   "cell_type": "code",
   "execution_count": 451,
   "metadata": {},
   "outputs": [
    {
     "data": {
      "text/plain": [
       "Location         83\n",
       "Period           83\n",
       "Indicator        83\n",
       "First Tooltip    83\n",
       "dtype: int64"
      ]
     },
     "execution_count": 451,
     "metadata": {},
     "output_type": "execute_result"
    }
   ],
   "source": [
    "doc_data[doc_data['Period'] == 2002].count()"
   ]
  },
  {
   "cell_type": "code",
   "execution_count": 452,
   "metadata": {},
   "outputs": [
    {
     "data": {
      "text/plain": [
       "Location         82\n",
       "Period           82\n",
       "Indicator        82\n",
       "First Tooltip    82\n",
       "dtype: int64"
      ]
     },
     "execution_count": 452,
     "metadata": {},
     "output_type": "execute_result"
    }
   ],
   "source": [
    "doc_data[doc_data['Period'] == 2001].count()"
   ]
  },
  {
   "cell_type": "code",
   "execution_count": 453,
   "metadata": {},
   "outputs": [
    {
     "data": {
      "text/plain": [
       "Location         86\n",
       "Period           86\n",
       "Indicator        86\n",
       "First Tooltip    86\n",
       "dtype: int64"
      ]
     },
     "execution_count": 453,
     "metadata": {},
     "output_type": "execute_result"
    }
   ],
   "source": [
    "doc_data[doc_data['Period'] == 2000].count()"
   ]
  },
  {
   "cell_type": "markdown",
   "metadata": {},
   "source": [
    "## Dataset to export"
   ]
  },
  {
   "cell_type": "code",
   "execution_count": 455,
   "metadata": {},
   "outputs": [
    {
     "data": {
      "text/html": [
       "<div>\n",
       "<style scoped>\n",
       "    .dataframe tbody tr th:only-of-type {\n",
       "        vertical-align: middle;\n",
       "    }\n",
       "\n",
       "    .dataframe tbody tr th {\n",
       "        vertical-align: top;\n",
       "    }\n",
       "\n",
       "    .dataframe thead th {\n",
       "        text-align: right;\n",
       "    }\n",
       "</style>\n",
       "<table border=\"1\" class=\"dataframe\">\n",
       "  <thead>\n",
       "    <tr style=\"text-align: right;\">\n",
       "      <th></th>\n",
       "      <th>Location</th>\n",
       "      <th>Period</th>\n",
       "      <th>Indicator</th>\n",
       "      <th>First Tooltip</th>\n",
       "    </tr>\n",
       "  </thead>\n",
       "  <tbody>\n",
       "    <tr>\n",
       "      <th>7</th>\n",
       "      <td>Afghanistan</td>\n",
       "      <td>2009</td>\n",
       "      <td>Medical doctors (per 10,000)</td>\n",
       "      <td>2.13</td>\n",
       "    </tr>\n",
       "    <tr>\n",
       "      <th>17</th>\n",
       "      <td>Albania</td>\n",
       "      <td>2009</td>\n",
       "      <td>Medical doctors (per 10,000)</td>\n",
       "      <td>12.30</td>\n",
       "    </tr>\n",
       "    <tr>\n",
       "      <th>41</th>\n",
       "      <td>Andorra</td>\n",
       "      <td>2009</td>\n",
       "      <td>Medical doctors (per 10,000)</td>\n",
       "      <td>31.48</td>\n",
       "    </tr>\n",
       "    <tr>\n",
       "      <th>54</th>\n",
       "      <td>Angola</td>\n",
       "      <td>2009</td>\n",
       "      <td>Medical doctors (per 10,000)</td>\n",
       "      <td>1.31</td>\n",
       "    </tr>\n",
       "    <tr>\n",
       "      <th>75</th>\n",
       "      <td>Armenia</td>\n",
       "      <td>2009</td>\n",
       "      <td>Medical doctors (per 10,000)</td>\n",
       "      <td>27.68</td>\n",
       "    </tr>\n",
       "    <tr>\n",
       "      <th>...</th>\n",
       "      <td>...</td>\n",
       "      <td>...</td>\n",
       "      <td>...</td>\n",
       "      <td>...</td>\n",
       "    </tr>\n",
       "    <tr>\n",
       "      <th>2436</th>\n",
       "      <td>Uzbekistan</td>\n",
       "      <td>2009</td>\n",
       "      <td>Medical doctors (per 10,000)</td>\n",
       "      <td>25.71</td>\n",
       "    </tr>\n",
       "    <tr>\n",
       "      <th>2467</th>\n",
       "      <td>Viet Nam</td>\n",
       "      <td>2009</td>\n",
       "      <td>Medical doctors (per 10,000)</td>\n",
       "      <td>6.98</td>\n",
       "    </tr>\n",
       "    <tr>\n",
       "      <th>2475</th>\n",
       "      <td>Yemen</td>\n",
       "      <td>2009</td>\n",
       "      <td>Medical doctors (per 10,000)</td>\n",
       "      <td>3.17</td>\n",
       "    </tr>\n",
       "    <tr>\n",
       "      <th>2484</th>\n",
       "      <td>Zambia</td>\n",
       "      <td>2009</td>\n",
       "      <td>Medical doctors (per 10,000)</td>\n",
       "      <td>0.61</td>\n",
       "    </tr>\n",
       "    <tr>\n",
       "      <th>2498</th>\n",
       "      <td>Zimbabwe</td>\n",
       "      <td>2009</td>\n",
       "      <td>Medical doctors (per 10,000)</td>\n",
       "      <td>1.21</td>\n",
       "    </tr>\n",
       "  </tbody>\n",
       "</table>\n",
       "<p>132 rows × 4 columns</p>\n",
       "</div>"
      ],
      "text/plain": [
       "         Location  Period                     Indicator  First Tooltip\n",
       "7     Afghanistan    2009  Medical doctors (per 10,000)           2.13\n",
       "17        Albania    2009  Medical doctors (per 10,000)          12.30\n",
       "41        Andorra    2009  Medical doctors (per 10,000)          31.48\n",
       "54         Angola    2009  Medical doctors (per 10,000)           1.31\n",
       "75        Armenia    2009  Medical doctors (per 10,000)          27.68\n",
       "...           ...     ...                           ...            ...\n",
       "2436   Uzbekistan    2009  Medical doctors (per 10,000)          25.71\n",
       "2467     Viet Nam    2009  Medical doctors (per 10,000)           6.98\n",
       "2475        Yemen    2009  Medical doctors (per 10,000)           3.17\n",
       "2484       Zambia    2009  Medical doctors (per 10,000)           0.61\n",
       "2498     Zimbabwe    2009  Medical doctors (per 10,000)           1.21\n",
       "\n",
       "[132 rows x 4 columns]"
      ]
     },
     "execution_count": 455,
     "metadata": {},
     "output_type": "execute_result"
    }
   ],
   "source": [
    "doc_2009 = doc_data[doc_data['Period'] == 2009]\n",
    "doc_2009"
   ]
  },
  {
   "cell_type": "markdown",
   "metadata": {},
   "source": [
    "## Dataset to export"
   ]
  },
  {
   "cell_type": "code",
   "execution_count": 456,
   "metadata": {},
   "outputs": [
    {
     "data": {
      "text/html": [
       "<div>\n",
       "<style scoped>\n",
       "    .dataframe tbody tr th:only-of-type {\n",
       "        vertical-align: middle;\n",
       "    }\n",
       "\n",
       "    .dataframe tbody tr th {\n",
       "        vertical-align: top;\n",
       "    }\n",
       "\n",
       "    .dataframe thead th {\n",
       "        text-align: right;\n",
       "    }\n",
       "</style>\n",
       "<table border=\"1\" class=\"dataframe\">\n",
       "  <thead>\n",
       "    <tr style=\"text-align: right;\">\n",
       "      <th></th>\n",
       "      <th>Location</th>\n",
       "      <th>Period</th>\n",
       "      <th>Indicator</th>\n",
       "      <th>First Tooltip</th>\n",
       "    </tr>\n",
       "  </thead>\n",
       "  <tbody>\n",
       "    <tr>\n",
       "      <th>8</th>\n",
       "      <td>Afghanistan</td>\n",
       "      <td>2008</td>\n",
       "      <td>Medical doctors (per 10,000)</td>\n",
       "      <td>1.74</td>\n",
       "    </tr>\n",
       "    <tr>\n",
       "      <th>58</th>\n",
       "      <td>Antigua and Barbuda</td>\n",
       "      <td>2008</td>\n",
       "      <td>Medical doctors (per 10,000)</td>\n",
       "      <td>5.27</td>\n",
       "    </tr>\n",
       "    <tr>\n",
       "      <th>76</th>\n",
       "      <td>Armenia</td>\n",
       "      <td>2008</td>\n",
       "      <td>Medical doctors (per 10,000)</td>\n",
       "      <td>27.43</td>\n",
       "    </tr>\n",
       "    <tr>\n",
       "      <th>104</th>\n",
       "      <td>Australia</td>\n",
       "      <td>2008</td>\n",
       "      <td>Medical doctors (per 10,000)</td>\n",
       "      <td>30.06</td>\n",
       "    </tr>\n",
       "    <tr>\n",
       "      <th>119</th>\n",
       "      <td>Austria</td>\n",
       "      <td>2008</td>\n",
       "      <td>Medical doctors (per 10,000)</td>\n",
       "      <td>46.17</td>\n",
       "    </tr>\n",
       "    <tr>\n",
       "      <th>...</th>\n",
       "      <td>...</td>\n",
       "      <td>...</td>\n",
       "      <td>...</td>\n",
       "      <td>...</td>\n",
       "    </tr>\n",
       "    <tr>\n",
       "      <th>2457</th>\n",
       "      <td>Vanuatu</td>\n",
       "      <td>2008</td>\n",
       "      <td>Medical doctors (per 10,000)</td>\n",
       "      <td>1.16</td>\n",
       "    </tr>\n",
       "    <tr>\n",
       "      <th>2468</th>\n",
       "      <td>Viet Nam</td>\n",
       "      <td>2008</td>\n",
       "      <td>Medical doctors (per 10,000)</td>\n",
       "      <td>6.65</td>\n",
       "    </tr>\n",
       "    <tr>\n",
       "      <th>2476</th>\n",
       "      <td>Yemen</td>\n",
       "      <td>2008</td>\n",
       "      <td>Medical doctors (per 10,000)</td>\n",
       "      <td>3.16</td>\n",
       "    </tr>\n",
       "    <tr>\n",
       "      <th>2485</th>\n",
       "      <td>Zambia</td>\n",
       "      <td>2008</td>\n",
       "      <td>Medical doctors (per 10,000)</td>\n",
       "      <td>0.62</td>\n",
       "    </tr>\n",
       "    <tr>\n",
       "      <th>2499</th>\n",
       "      <td>Zimbabwe</td>\n",
       "      <td>2008</td>\n",
       "      <td>Medical doctors (per 10,000)</td>\n",
       "      <td>0.60</td>\n",
       "    </tr>\n",
       "  </tbody>\n",
       "</table>\n",
       "<p>133 rows × 4 columns</p>\n",
       "</div>"
      ],
      "text/plain": [
       "                 Location  Period                     Indicator  First Tooltip\n",
       "8             Afghanistan    2008  Medical doctors (per 10,000)           1.74\n",
       "58    Antigua and Barbuda    2008  Medical doctors (per 10,000)           5.27\n",
       "76                Armenia    2008  Medical doctors (per 10,000)          27.43\n",
       "104             Australia    2008  Medical doctors (per 10,000)          30.06\n",
       "119               Austria    2008  Medical doctors (per 10,000)          46.17\n",
       "...                   ...     ...                           ...            ...\n",
       "2457              Vanuatu    2008  Medical doctors (per 10,000)           1.16\n",
       "2468             Viet Nam    2008  Medical doctors (per 10,000)           6.65\n",
       "2476                Yemen    2008  Medical doctors (per 10,000)           3.16\n",
       "2485               Zambia    2008  Medical doctors (per 10,000)           0.62\n",
       "2499             Zimbabwe    2008  Medical doctors (per 10,000)           0.60\n",
       "\n",
       "[133 rows x 4 columns]"
      ]
     },
     "execution_count": 456,
     "metadata": {},
     "output_type": "execute_result"
    }
   ],
   "source": [
    "doc_2008 = doc_data[doc_data['Period'] == 2008]\n",
    "doc_2008"
   ]
  },
  {
   "cell_type": "code",
   "execution_count": null,
   "metadata": {},
   "outputs": [],
   "source": []
  },
  {
   "cell_type": "markdown",
   "metadata": {},
   "source": [
    "## Mortality Rate by Poisoning"
   ]
  },
  {
   "cell_type": "code",
   "execution_count": 457,
   "metadata": {},
   "outputs": [
    {
     "data": {
      "text/html": [
       "<div>\n",
       "<style scoped>\n",
       "    .dataframe tbody tr th:only-of-type {\n",
       "        vertical-align: middle;\n",
       "    }\n",
       "\n",
       "    .dataframe tbody tr th {\n",
       "        vertical-align: top;\n",
       "    }\n",
       "\n",
       "    .dataframe thead th {\n",
       "        text-align: right;\n",
       "    }\n",
       "</style>\n",
       "<table border=\"1\" class=\"dataframe\">\n",
       "  <thead>\n",
       "    <tr style=\"text-align: right;\">\n",
       "      <th></th>\n",
       "      <th>Location</th>\n",
       "      <th>Indicator</th>\n",
       "      <th>Period</th>\n",
       "      <th>Dim1</th>\n",
       "      <th>First Tooltip</th>\n",
       "    </tr>\n",
       "  </thead>\n",
       "  <tbody>\n",
       "    <tr>\n",
       "      <th>0</th>\n",
       "      <td>Afghanistan</td>\n",
       "      <td>Mortality rate attributed to unintentional poi...</td>\n",
       "      <td>2016</td>\n",
       "      <td>Both sexes</td>\n",
       "      <td>1.19</td>\n",
       "    </tr>\n",
       "    <tr>\n",
       "      <th>1</th>\n",
       "      <td>Afghanistan</td>\n",
       "      <td>Mortality rate attributed to unintentional poi...</td>\n",
       "      <td>2016</td>\n",
       "      <td>Male</td>\n",
       "      <td>0.53</td>\n",
       "    </tr>\n",
       "    <tr>\n",
       "      <th>2</th>\n",
       "      <td>Afghanistan</td>\n",
       "      <td>Mortality rate attributed to unintentional poi...</td>\n",
       "      <td>2016</td>\n",
       "      <td>Female</td>\n",
       "      <td>1.89</td>\n",
       "    </tr>\n",
       "    <tr>\n",
       "      <th>3</th>\n",
       "      <td>Afghanistan</td>\n",
       "      <td>Mortality rate attributed to unintentional poi...</td>\n",
       "      <td>2015</td>\n",
       "      <td>Both sexes</td>\n",
       "      <td>1.22</td>\n",
       "    </tr>\n",
       "    <tr>\n",
       "      <th>4</th>\n",
       "      <td>Afghanistan</td>\n",
       "      <td>Mortality rate attributed to unintentional poi...</td>\n",
       "      <td>2015</td>\n",
       "      <td>Male</td>\n",
       "      <td>0.55</td>\n",
       "    </tr>\n",
       "    <tr>\n",
       "      <th>...</th>\n",
       "      <td>...</td>\n",
       "      <td>...</td>\n",
       "      <td>...</td>\n",
       "      <td>...</td>\n",
       "      <td>...</td>\n",
       "    </tr>\n",
       "    <tr>\n",
       "      <th>2740</th>\n",
       "      <td>Zimbabwe</td>\n",
       "      <td>Mortality rate attributed to unintentional poi...</td>\n",
       "      <td>2005</td>\n",
       "      <td>Male</td>\n",
       "      <td>2.85</td>\n",
       "    </tr>\n",
       "    <tr>\n",
       "      <th>2741</th>\n",
       "      <td>Zimbabwe</td>\n",
       "      <td>Mortality rate attributed to unintentional poi...</td>\n",
       "      <td>2005</td>\n",
       "      <td>Female</td>\n",
       "      <td>2.62</td>\n",
       "    </tr>\n",
       "    <tr>\n",
       "      <th>2742</th>\n",
       "      <td>Zimbabwe</td>\n",
       "      <td>Mortality rate attributed to unintentional poi...</td>\n",
       "      <td>2000</td>\n",
       "      <td>Both sexes</td>\n",
       "      <td>3.44</td>\n",
       "    </tr>\n",
       "    <tr>\n",
       "      <th>2743</th>\n",
       "      <td>Zimbabwe</td>\n",
       "      <td>Mortality rate attributed to unintentional poi...</td>\n",
       "      <td>2000</td>\n",
       "      <td>Male</td>\n",
       "      <td>3.75</td>\n",
       "    </tr>\n",
       "    <tr>\n",
       "      <th>2744</th>\n",
       "      <td>Zimbabwe</td>\n",
       "      <td>Mortality rate attributed to unintentional poi...</td>\n",
       "      <td>2000</td>\n",
       "      <td>Female</td>\n",
       "      <td>3.15</td>\n",
       "    </tr>\n",
       "  </tbody>\n",
       "</table>\n",
       "<p>2745 rows × 5 columns</p>\n",
       "</div>"
      ],
      "text/plain": [
       "         Location                                          Indicator  Period  \\\n",
       "0     Afghanistan  Mortality rate attributed to unintentional poi...    2016   \n",
       "1     Afghanistan  Mortality rate attributed to unintentional poi...    2016   \n",
       "2     Afghanistan  Mortality rate attributed to unintentional poi...    2016   \n",
       "3     Afghanistan  Mortality rate attributed to unintentional poi...    2015   \n",
       "4     Afghanistan  Mortality rate attributed to unintentional poi...    2015   \n",
       "...           ...                                                ...     ...   \n",
       "2740     Zimbabwe  Mortality rate attributed to unintentional poi...    2005   \n",
       "2741     Zimbabwe  Mortality rate attributed to unintentional poi...    2005   \n",
       "2742     Zimbabwe  Mortality rate attributed to unintentional poi...    2000   \n",
       "2743     Zimbabwe  Mortality rate attributed to unintentional poi...    2000   \n",
       "2744     Zimbabwe  Mortality rate attributed to unintentional poi...    2000   \n",
       "\n",
       "            Dim1  First Tooltip  \n",
       "0     Both sexes           1.19  \n",
       "1           Male           0.53  \n",
       "2         Female           1.89  \n",
       "3     Both sexes           1.22  \n",
       "4           Male           0.55  \n",
       "...          ...            ...  \n",
       "2740        Male           2.85  \n",
       "2741      Female           2.62  \n",
       "2742  Both sexes           3.44  \n",
       "2743        Male           3.75  \n",
       "2744      Female           3.15  \n",
       "\n",
       "[2745 rows x 5 columns]"
      ]
     },
     "execution_count": 457,
     "metadata": {},
     "output_type": "execute_result"
    }
   ],
   "source": [
    "poison_data = pd.read_csv(WHS_path/'mortalityRatePoisoning.csv')\n",
    "poison_data"
   ]
  },
  {
   "cell_type": "code",
   "execution_count": 459,
   "metadata": {},
   "outputs": [
    {
     "data": {
      "text/plain": [
       "Location         2745\n",
       "Indicator        2745\n",
       "Period           2745\n",
       "Dim1             2745\n",
       "First Tooltip    2745\n",
       "dtype: int64"
      ]
     },
     "execution_count": 459,
     "metadata": {},
     "output_type": "execute_result"
    }
   ],
   "source": [
    "poison_data.isnull().count()"
   ]
  },
  {
   "cell_type": "code",
   "execution_count": 460,
   "metadata": {},
   "outputs": [
    {
     "data": {
      "text/html": [
       "<div>\n",
       "<style scoped>\n",
       "    .dataframe tbody tr th:only-of-type {\n",
       "        vertical-align: middle;\n",
       "    }\n",
       "\n",
       "    .dataframe tbody tr th {\n",
       "        vertical-align: top;\n",
       "    }\n",
       "\n",
       "    .dataframe thead th {\n",
       "        text-align: right;\n",
       "    }\n",
       "</style>\n",
       "<table border=\"1\" class=\"dataframe\">\n",
       "  <thead>\n",
       "    <tr style=\"text-align: right;\">\n",
       "      <th></th>\n",
       "      <th>Location</th>\n",
       "      <th>Indicator</th>\n",
       "      <th>Period</th>\n",
       "      <th>Dim1</th>\n",
       "      <th>First Tooltip</th>\n",
       "    </tr>\n",
       "  </thead>\n",
       "  <tbody>\n",
       "  </tbody>\n",
       "</table>\n",
       "</div>"
      ],
      "text/plain": [
       "Empty DataFrame\n",
       "Columns: [Location, Indicator, Period, Dim1, First Tooltip]\n",
       "Index: []"
      ]
     },
     "execution_count": 460,
     "metadata": {},
     "output_type": "execute_result"
    }
   ],
   "source": [
    "poison_data[poison_data['First Tooltip'] == 0.0]"
   ]
  },
  {
   "cell_type": "code",
   "execution_count": 461,
   "metadata": {},
   "outputs": [
    {
     "data": {
      "text/html": [
       "<div>\n",
       "<style scoped>\n",
       "    .dataframe tbody tr th:only-of-type {\n",
       "        vertical-align: middle;\n",
       "    }\n",
       "\n",
       "    .dataframe tbody tr th {\n",
       "        vertical-align: top;\n",
       "    }\n",
       "\n",
       "    .dataframe thead th {\n",
       "        text-align: right;\n",
       "    }\n",
       "</style>\n",
       "<table border=\"1\" class=\"dataframe\">\n",
       "  <thead>\n",
       "    <tr style=\"text-align: right;\">\n",
       "      <th></th>\n",
       "      <th>Location</th>\n",
       "      <th>Indicator</th>\n",
       "      <th>Period</th>\n",
       "      <th>Dim1</th>\n",
       "      <th>First Tooltip</th>\n",
       "    </tr>\n",
       "  </thead>\n",
       "  <tbody>\n",
       "    <tr>\n",
       "      <th>0</th>\n",
       "      <td>Afghanistan</td>\n",
       "      <td>Mortality rate attributed to unintentional poi...</td>\n",
       "      <td>2016</td>\n",
       "      <td>Both sexes</td>\n",
       "      <td>1.19</td>\n",
       "    </tr>\n",
       "    <tr>\n",
       "      <th>3</th>\n",
       "      <td>Afghanistan</td>\n",
       "      <td>Mortality rate attributed to unintentional poi...</td>\n",
       "      <td>2015</td>\n",
       "      <td>Both sexes</td>\n",
       "      <td>1.22</td>\n",
       "    </tr>\n",
       "    <tr>\n",
       "      <th>6</th>\n",
       "      <td>Afghanistan</td>\n",
       "      <td>Mortality rate attributed to unintentional poi...</td>\n",
       "      <td>2010</td>\n",
       "      <td>Both sexes</td>\n",
       "      <td>1.42</td>\n",
       "    </tr>\n",
       "    <tr>\n",
       "      <th>9</th>\n",
       "      <td>Afghanistan</td>\n",
       "      <td>Mortality rate attributed to unintentional poi...</td>\n",
       "      <td>2005</td>\n",
       "      <td>Both sexes</td>\n",
       "      <td>1.54</td>\n",
       "    </tr>\n",
       "    <tr>\n",
       "      <th>12</th>\n",
       "      <td>Afghanistan</td>\n",
       "      <td>Mortality rate attributed to unintentional poi...</td>\n",
       "      <td>2000</td>\n",
       "      <td>Both sexes</td>\n",
       "      <td>1.70</td>\n",
       "    </tr>\n",
       "    <tr>\n",
       "      <th>...</th>\n",
       "      <td>...</td>\n",
       "      <td>...</td>\n",
       "      <td>...</td>\n",
       "      <td>...</td>\n",
       "      <td>...</td>\n",
       "    </tr>\n",
       "    <tr>\n",
       "      <th>2730</th>\n",
       "      <td>Zimbabwe</td>\n",
       "      <td>Mortality rate attributed to unintentional poi...</td>\n",
       "      <td>2016</td>\n",
       "      <td>Both sexes</td>\n",
       "      <td>2.23</td>\n",
       "    </tr>\n",
       "    <tr>\n",
       "      <th>2733</th>\n",
       "      <td>Zimbabwe</td>\n",
       "      <td>Mortality rate attributed to unintentional poi...</td>\n",
       "      <td>2015</td>\n",
       "      <td>Both sexes</td>\n",
       "      <td>2.37</td>\n",
       "    </tr>\n",
       "    <tr>\n",
       "      <th>2736</th>\n",
       "      <td>Zimbabwe</td>\n",
       "      <td>Mortality rate attributed to unintentional poi...</td>\n",
       "      <td>2010</td>\n",
       "      <td>Both sexes</td>\n",
       "      <td>2.55</td>\n",
       "    </tr>\n",
       "    <tr>\n",
       "      <th>2739</th>\n",
       "      <td>Zimbabwe</td>\n",
       "      <td>Mortality rate attributed to unintentional poi...</td>\n",
       "      <td>2005</td>\n",
       "      <td>Both sexes</td>\n",
       "      <td>2.73</td>\n",
       "    </tr>\n",
       "    <tr>\n",
       "      <th>2742</th>\n",
       "      <td>Zimbabwe</td>\n",
       "      <td>Mortality rate attributed to unintentional poi...</td>\n",
       "      <td>2000</td>\n",
       "      <td>Both sexes</td>\n",
       "      <td>3.44</td>\n",
       "    </tr>\n",
       "  </tbody>\n",
       "</table>\n",
       "<p>915 rows × 5 columns</p>\n",
       "</div>"
      ],
      "text/plain": [
       "         Location                                          Indicator  Period  \\\n",
       "0     Afghanistan  Mortality rate attributed to unintentional poi...    2016   \n",
       "3     Afghanistan  Mortality rate attributed to unintentional poi...    2015   \n",
       "6     Afghanistan  Mortality rate attributed to unintentional poi...    2010   \n",
       "9     Afghanistan  Mortality rate attributed to unintentional poi...    2005   \n",
       "12    Afghanistan  Mortality rate attributed to unintentional poi...    2000   \n",
       "...           ...                                                ...     ...   \n",
       "2730     Zimbabwe  Mortality rate attributed to unintentional poi...    2016   \n",
       "2733     Zimbabwe  Mortality rate attributed to unintentional poi...    2015   \n",
       "2736     Zimbabwe  Mortality rate attributed to unintentional poi...    2010   \n",
       "2739     Zimbabwe  Mortality rate attributed to unintentional poi...    2005   \n",
       "2742     Zimbabwe  Mortality rate attributed to unintentional poi...    2000   \n",
       "\n",
       "            Dim1  First Tooltip  \n",
       "0     Both sexes           1.19  \n",
       "3     Both sexes           1.22  \n",
       "6     Both sexes           1.42  \n",
       "9     Both sexes           1.54  \n",
       "12    Both sexes           1.70  \n",
       "...          ...            ...  \n",
       "2730  Both sexes           2.23  \n",
       "2733  Both sexes           2.37  \n",
       "2736  Both sexes           2.55  \n",
       "2739  Both sexes           2.73  \n",
       "2742  Both sexes           3.44  \n",
       "\n",
       "[915 rows x 5 columns]"
      ]
     },
     "execution_count": 461,
     "metadata": {},
     "output_type": "execute_result"
    }
   ],
   "source": [
    "poison_bs = poison_data[poison_data['Dim1'] == 'Both sexes']\n",
    "poison_bs"
   ]
  },
  {
   "cell_type": "markdown",
   "metadata": {},
   "source": [
    "Years are all the same, so I picked 2016 and 2015."
   ]
  },
  {
   "cell_type": "code",
   "execution_count": 462,
   "metadata": {},
   "outputs": [
    {
     "data": {
      "text/plain": [
       "array([2016, 2015, 2010, 2005, 2000])"
      ]
     },
     "execution_count": 462,
     "metadata": {},
     "output_type": "execute_result"
    }
   ],
   "source": [
    "poison_bs['Period'].unique()"
   ]
  },
  {
   "cell_type": "code",
   "execution_count": 463,
   "metadata": {},
   "outputs": [
    {
     "data": {
      "text/plain": [
       "Location         183\n",
       "Indicator        183\n",
       "Period           183\n",
       "Dim1             183\n",
       "First Tooltip    183\n",
       "dtype: int64"
      ]
     },
     "execution_count": 463,
     "metadata": {},
     "output_type": "execute_result"
    }
   ],
   "source": [
    "poison_bs[poison_bs['Period'] == 2016].count()"
   ]
  },
  {
   "cell_type": "code",
   "execution_count": 464,
   "metadata": {},
   "outputs": [
    {
     "data": {
      "text/plain": [
       "Location         183\n",
       "Indicator        183\n",
       "Period           183\n",
       "Dim1             183\n",
       "First Tooltip    183\n",
       "dtype: int64"
      ]
     },
     "execution_count": 464,
     "metadata": {},
     "output_type": "execute_result"
    }
   ],
   "source": [
    "poison_bs[poison_bs['Period'] == 2015].count()"
   ]
  },
  {
   "cell_type": "code",
   "execution_count": 466,
   "metadata": {},
   "outputs": [
    {
     "data": {
      "text/plain": [
       "Location         183\n",
       "Indicator        183\n",
       "Period           183\n",
       "Dim1             183\n",
       "First Tooltip    183\n",
       "dtype: int64"
      ]
     },
     "execution_count": 466,
     "metadata": {},
     "output_type": "execute_result"
    }
   ],
   "source": [
    "poison_bs[poison_bs['Period'] == 2010].count()"
   ]
  },
  {
   "cell_type": "code",
   "execution_count": 467,
   "metadata": {},
   "outputs": [
    {
     "data": {
      "text/plain": [
       "Location         183\n",
       "Indicator        183\n",
       "Period           183\n",
       "Dim1             183\n",
       "First Tooltip    183\n",
       "dtype: int64"
      ]
     },
     "execution_count": 467,
     "metadata": {},
     "output_type": "execute_result"
    }
   ],
   "source": [
    "poison_bs[poison_bs['Period'] == 2005].count()"
   ]
  },
  {
   "cell_type": "code",
   "execution_count": 468,
   "metadata": {},
   "outputs": [
    {
     "data": {
      "text/plain": [
       "Location         183\n",
       "Indicator        183\n",
       "Period           183\n",
       "Dim1             183\n",
       "First Tooltip    183\n",
       "dtype: int64"
      ]
     },
     "execution_count": 468,
     "metadata": {},
     "output_type": "execute_result"
    }
   ],
   "source": [
    "poison_bs[poison_bs['Period'] == 2000].count()"
   ]
  },
  {
   "cell_type": "markdown",
   "metadata": {},
   "source": [
    "## Dataset to export"
   ]
  },
  {
   "cell_type": "code",
   "execution_count": 470,
   "metadata": {},
   "outputs": [
    {
     "data": {
      "text/html": [
       "<div>\n",
       "<style scoped>\n",
       "    .dataframe tbody tr th:only-of-type {\n",
       "        vertical-align: middle;\n",
       "    }\n",
       "\n",
       "    .dataframe tbody tr th {\n",
       "        vertical-align: top;\n",
       "    }\n",
       "\n",
       "    .dataframe thead th {\n",
       "        text-align: right;\n",
       "    }\n",
       "</style>\n",
       "<table border=\"1\" class=\"dataframe\">\n",
       "  <thead>\n",
       "    <tr style=\"text-align: right;\">\n",
       "      <th></th>\n",
       "      <th>Location</th>\n",
       "      <th>Indicator</th>\n",
       "      <th>Period</th>\n",
       "      <th>Dim1</th>\n",
       "      <th>First Tooltip</th>\n",
       "    </tr>\n",
       "  </thead>\n",
       "  <tbody>\n",
       "    <tr>\n",
       "      <th>0</th>\n",
       "      <td>Afghanistan</td>\n",
       "      <td>Mortality rate attributed to unintentional poi...</td>\n",
       "      <td>2016</td>\n",
       "      <td>Both sexes</td>\n",
       "      <td>1.19</td>\n",
       "    </tr>\n",
       "    <tr>\n",
       "      <th>15</th>\n",
       "      <td>Albania</td>\n",
       "      <td>Mortality rate attributed to unintentional poi...</td>\n",
       "      <td>2016</td>\n",
       "      <td>Both sexes</td>\n",
       "      <td>0.44</td>\n",
       "    </tr>\n",
       "    <tr>\n",
       "      <th>30</th>\n",
       "      <td>Algeria</td>\n",
       "      <td>Mortality rate attributed to unintentional poi...</td>\n",
       "      <td>2016</td>\n",
       "      <td>Both sexes</td>\n",
       "      <td>0.77</td>\n",
       "    </tr>\n",
       "    <tr>\n",
       "      <th>45</th>\n",
       "      <td>Angola</td>\n",
       "      <td>Mortality rate attributed to unintentional poi...</td>\n",
       "      <td>2016</td>\n",
       "      <td>Both sexes</td>\n",
       "      <td>2.70</td>\n",
       "    </tr>\n",
       "    <tr>\n",
       "      <th>60</th>\n",
       "      <td>Antigua and Barbuda</td>\n",
       "      <td>Mortality rate attributed to unintentional poi...</td>\n",
       "      <td>2016</td>\n",
       "      <td>Both sexes</td>\n",
       "      <td>0.39</td>\n",
       "    </tr>\n",
       "    <tr>\n",
       "      <th>...</th>\n",
       "      <td>...</td>\n",
       "      <td>...</td>\n",
       "      <td>...</td>\n",
       "      <td>...</td>\n",
       "      <td>...</td>\n",
       "    </tr>\n",
       "    <tr>\n",
       "      <th>2670</th>\n",
       "      <td>Venezuela (Bolivarian Republic of)</td>\n",
       "      <td>Mortality rate attributed to unintentional poi...</td>\n",
       "      <td>2016</td>\n",
       "      <td>Both sexes</td>\n",
       "      <td>0.29</td>\n",
       "    </tr>\n",
       "    <tr>\n",
       "      <th>2685</th>\n",
       "      <td>Viet Nam</td>\n",
       "      <td>Mortality rate attributed to unintentional poi...</td>\n",
       "      <td>2016</td>\n",
       "      <td>Both sexes</td>\n",
       "      <td>0.92</td>\n",
       "    </tr>\n",
       "    <tr>\n",
       "      <th>2700</th>\n",
       "      <td>Yemen</td>\n",
       "      <td>Mortality rate attributed to unintentional poi...</td>\n",
       "      <td>2016</td>\n",
       "      <td>Both sexes</td>\n",
       "      <td>3.77</td>\n",
       "    </tr>\n",
       "    <tr>\n",
       "      <th>2715</th>\n",
       "      <td>Zambia</td>\n",
       "      <td>Mortality rate attributed to unintentional poi...</td>\n",
       "      <td>2016</td>\n",
       "      <td>Both sexes</td>\n",
       "      <td>2.94</td>\n",
       "    </tr>\n",
       "    <tr>\n",
       "      <th>2730</th>\n",
       "      <td>Zimbabwe</td>\n",
       "      <td>Mortality rate attributed to unintentional poi...</td>\n",
       "      <td>2016</td>\n",
       "      <td>Both sexes</td>\n",
       "      <td>2.23</td>\n",
       "    </tr>\n",
       "  </tbody>\n",
       "</table>\n",
       "<p>183 rows × 5 columns</p>\n",
       "</div>"
      ],
      "text/plain": [
       "                                Location  \\\n",
       "0                            Afghanistan   \n",
       "15                               Albania   \n",
       "30                               Algeria   \n",
       "45                                Angola   \n",
       "60                   Antigua and Barbuda   \n",
       "...                                  ...   \n",
       "2670  Venezuela (Bolivarian Republic of)   \n",
       "2685                            Viet Nam   \n",
       "2700                               Yemen   \n",
       "2715                              Zambia   \n",
       "2730                            Zimbabwe   \n",
       "\n",
       "                                              Indicator  Period        Dim1  \\\n",
       "0     Mortality rate attributed to unintentional poi...    2016  Both sexes   \n",
       "15    Mortality rate attributed to unintentional poi...    2016  Both sexes   \n",
       "30    Mortality rate attributed to unintentional poi...    2016  Both sexes   \n",
       "45    Mortality rate attributed to unintentional poi...    2016  Both sexes   \n",
       "60    Mortality rate attributed to unintentional poi...    2016  Both sexes   \n",
       "...                                                 ...     ...         ...   \n",
       "2670  Mortality rate attributed to unintentional poi...    2016  Both sexes   \n",
       "2685  Mortality rate attributed to unintentional poi...    2016  Both sexes   \n",
       "2700  Mortality rate attributed to unintentional poi...    2016  Both sexes   \n",
       "2715  Mortality rate attributed to unintentional poi...    2016  Both sexes   \n",
       "2730  Mortality rate attributed to unintentional poi...    2016  Both sexes   \n",
       "\n",
       "      First Tooltip  \n",
       "0              1.19  \n",
       "15             0.44  \n",
       "30             0.77  \n",
       "45             2.70  \n",
       "60             0.39  \n",
       "...             ...  \n",
       "2670           0.29  \n",
       "2685           0.92  \n",
       "2700           3.77  \n",
       "2715           2.94  \n",
       "2730           2.23  \n",
       "\n",
       "[183 rows x 5 columns]"
      ]
     },
     "execution_count": 470,
     "metadata": {},
     "output_type": "execute_result"
    }
   ],
   "source": [
    "poison_2016 = poison_bs[poison_bs['Period'] == 2016]\n",
    "poison_2016"
   ]
  },
  {
   "cell_type": "markdown",
   "metadata": {},
   "source": [
    "## Dataset to export"
   ]
  },
  {
   "cell_type": "code",
   "execution_count": 471,
   "metadata": {},
   "outputs": [
    {
     "data": {
      "text/html": [
       "<div>\n",
       "<style scoped>\n",
       "    .dataframe tbody tr th:only-of-type {\n",
       "        vertical-align: middle;\n",
       "    }\n",
       "\n",
       "    .dataframe tbody tr th {\n",
       "        vertical-align: top;\n",
       "    }\n",
       "\n",
       "    .dataframe thead th {\n",
       "        text-align: right;\n",
       "    }\n",
       "</style>\n",
       "<table border=\"1\" class=\"dataframe\">\n",
       "  <thead>\n",
       "    <tr style=\"text-align: right;\">\n",
       "      <th></th>\n",
       "      <th>Location</th>\n",
       "      <th>Indicator</th>\n",
       "      <th>Period</th>\n",
       "      <th>Dim1</th>\n",
       "      <th>First Tooltip</th>\n",
       "    </tr>\n",
       "  </thead>\n",
       "  <tbody>\n",
       "    <tr>\n",
       "      <th>3</th>\n",
       "      <td>Afghanistan</td>\n",
       "      <td>Mortality rate attributed to unintentional poi...</td>\n",
       "      <td>2015</td>\n",
       "      <td>Both sexes</td>\n",
       "      <td>1.22</td>\n",
       "    </tr>\n",
       "    <tr>\n",
       "      <th>18</th>\n",
       "      <td>Albania</td>\n",
       "      <td>Mortality rate attributed to unintentional poi...</td>\n",
       "      <td>2015</td>\n",
       "      <td>Both sexes</td>\n",
       "      <td>0.43</td>\n",
       "    </tr>\n",
       "    <tr>\n",
       "      <th>33</th>\n",
       "      <td>Algeria</td>\n",
       "      <td>Mortality rate attributed to unintentional poi...</td>\n",
       "      <td>2015</td>\n",
       "      <td>Both sexes</td>\n",
       "      <td>0.80</td>\n",
       "    </tr>\n",
       "    <tr>\n",
       "      <th>48</th>\n",
       "      <td>Angola</td>\n",
       "      <td>Mortality rate attributed to unintentional poi...</td>\n",
       "      <td>2015</td>\n",
       "      <td>Both sexes</td>\n",
       "      <td>2.95</td>\n",
       "    </tr>\n",
       "    <tr>\n",
       "      <th>63</th>\n",
       "      <td>Antigua and Barbuda</td>\n",
       "      <td>Mortality rate attributed to unintentional poi...</td>\n",
       "      <td>2015</td>\n",
       "      <td>Both sexes</td>\n",
       "      <td>0.38</td>\n",
       "    </tr>\n",
       "    <tr>\n",
       "      <th>...</th>\n",
       "      <td>...</td>\n",
       "      <td>...</td>\n",
       "      <td>...</td>\n",
       "      <td>...</td>\n",
       "      <td>...</td>\n",
       "    </tr>\n",
       "    <tr>\n",
       "      <th>2673</th>\n",
       "      <td>Venezuela (Bolivarian Republic of)</td>\n",
       "      <td>Mortality rate attributed to unintentional poi...</td>\n",
       "      <td>2015</td>\n",
       "      <td>Both sexes</td>\n",
       "      <td>0.30</td>\n",
       "    </tr>\n",
       "    <tr>\n",
       "      <th>2688</th>\n",
       "      <td>Viet Nam</td>\n",
       "      <td>Mortality rate attributed to unintentional poi...</td>\n",
       "      <td>2015</td>\n",
       "      <td>Both sexes</td>\n",
       "      <td>0.93</td>\n",
       "    </tr>\n",
       "    <tr>\n",
       "      <th>2703</th>\n",
       "      <td>Yemen</td>\n",
       "      <td>Mortality rate attributed to unintentional poi...</td>\n",
       "      <td>2015</td>\n",
       "      <td>Both sexes</td>\n",
       "      <td>3.74</td>\n",
       "    </tr>\n",
       "    <tr>\n",
       "      <th>2718</th>\n",
       "      <td>Zambia</td>\n",
       "      <td>Mortality rate attributed to unintentional poi...</td>\n",
       "      <td>2015</td>\n",
       "      <td>Both sexes</td>\n",
       "      <td>3.06</td>\n",
       "    </tr>\n",
       "    <tr>\n",
       "      <th>2733</th>\n",
       "      <td>Zimbabwe</td>\n",
       "      <td>Mortality rate attributed to unintentional poi...</td>\n",
       "      <td>2015</td>\n",
       "      <td>Both sexes</td>\n",
       "      <td>2.37</td>\n",
       "    </tr>\n",
       "  </tbody>\n",
       "</table>\n",
       "<p>183 rows × 5 columns</p>\n",
       "</div>"
      ],
      "text/plain": [
       "                                Location  \\\n",
       "3                            Afghanistan   \n",
       "18                               Albania   \n",
       "33                               Algeria   \n",
       "48                                Angola   \n",
       "63                   Antigua and Barbuda   \n",
       "...                                  ...   \n",
       "2673  Venezuela (Bolivarian Republic of)   \n",
       "2688                            Viet Nam   \n",
       "2703                               Yemen   \n",
       "2718                              Zambia   \n",
       "2733                            Zimbabwe   \n",
       "\n",
       "                                              Indicator  Period        Dim1  \\\n",
       "3     Mortality rate attributed to unintentional poi...    2015  Both sexes   \n",
       "18    Mortality rate attributed to unintentional poi...    2015  Both sexes   \n",
       "33    Mortality rate attributed to unintentional poi...    2015  Both sexes   \n",
       "48    Mortality rate attributed to unintentional poi...    2015  Both sexes   \n",
       "63    Mortality rate attributed to unintentional poi...    2015  Both sexes   \n",
       "...                                                 ...     ...         ...   \n",
       "2673  Mortality rate attributed to unintentional poi...    2015  Both sexes   \n",
       "2688  Mortality rate attributed to unintentional poi...    2015  Both sexes   \n",
       "2703  Mortality rate attributed to unintentional poi...    2015  Both sexes   \n",
       "2718  Mortality rate attributed to unintentional poi...    2015  Both sexes   \n",
       "2733  Mortality rate attributed to unintentional poi...    2015  Both sexes   \n",
       "\n",
       "      First Tooltip  \n",
       "3              1.22  \n",
       "18             0.43  \n",
       "33             0.80  \n",
       "48             2.95  \n",
       "63             0.38  \n",
       "...             ...  \n",
       "2673           0.30  \n",
       "2688           0.93  \n",
       "2703           3.74  \n",
       "2718           3.06  \n",
       "2733           2.37  \n",
       "\n",
       "[183 rows x 5 columns]"
      ]
     },
     "execution_count": 471,
     "metadata": {},
     "output_type": "execute_result"
    }
   ],
   "source": [
    "poison_2015 = poison_bs[poison_bs['Period'] == 2015]\n",
    "poison_2015"
   ]
  },
  {
   "cell_type": "code",
   "execution_count": null,
   "metadata": {},
   "outputs": [],
   "source": []
  },
  {
   "cell_type": "markdown",
   "metadata": {},
   "source": [
    "## Mortality Rate Due to Unsafe Wash Services"
   ]
  },
  {
   "cell_type": "code",
   "execution_count": 472,
   "metadata": {},
   "outputs": [
    {
     "data": {
      "text/html": [
       "<div>\n",
       "<style scoped>\n",
       "    .dataframe tbody tr th:only-of-type {\n",
       "        vertical-align: middle;\n",
       "    }\n",
       "\n",
       "    .dataframe tbody tr th {\n",
       "        vertical-align: top;\n",
       "    }\n",
       "\n",
       "    .dataframe thead th {\n",
       "        text-align: right;\n",
       "    }\n",
       "</style>\n",
       "<table border=\"1\" class=\"dataframe\">\n",
       "  <thead>\n",
       "    <tr style=\"text-align: right;\">\n",
       "      <th></th>\n",
       "      <th>Location</th>\n",
       "      <th>Period</th>\n",
       "      <th>Indicator</th>\n",
       "      <th>Dim1</th>\n",
       "      <th>First Tooltip</th>\n",
       "    </tr>\n",
       "  </thead>\n",
       "  <tbody>\n",
       "    <tr>\n",
       "      <th>0</th>\n",
       "      <td>Afghanistan</td>\n",
       "      <td>2016</td>\n",
       "      <td>Mortality rate attributed to exposure to unsaf...</td>\n",
       "      <td>Both sexes</td>\n",
       "      <td>13.92</td>\n",
       "    </tr>\n",
       "    <tr>\n",
       "      <th>1</th>\n",
       "      <td>Afghanistan</td>\n",
       "      <td>2016</td>\n",
       "      <td>Mortality rate attributed to exposure to unsaf...</td>\n",
       "      <td>Male</td>\n",
       "      <td>12.61</td>\n",
       "    </tr>\n",
       "    <tr>\n",
       "      <th>2</th>\n",
       "      <td>Afghanistan</td>\n",
       "      <td>2016</td>\n",
       "      <td>Mortality rate attributed to exposure to unsaf...</td>\n",
       "      <td>Female</td>\n",
       "      <td>15.31</td>\n",
       "    </tr>\n",
       "    <tr>\n",
       "      <th>3</th>\n",
       "      <td>Albania</td>\n",
       "      <td>2016</td>\n",
       "      <td>Mortality rate attributed to exposure to unsaf...</td>\n",
       "      <td>Both sexes</td>\n",
       "      <td>0.17</td>\n",
       "    </tr>\n",
       "    <tr>\n",
       "      <th>4</th>\n",
       "      <td>Albania</td>\n",
       "      <td>2016</td>\n",
       "      <td>Mortality rate attributed to exposure to unsaf...</td>\n",
       "      <td>Male</td>\n",
       "      <td>0.21</td>\n",
       "    </tr>\n",
       "    <tr>\n",
       "      <th>...</th>\n",
       "      <td>...</td>\n",
       "      <td>...</td>\n",
       "      <td>...</td>\n",
       "      <td>...</td>\n",
       "      <td>...</td>\n",
       "    </tr>\n",
       "    <tr>\n",
       "      <th>544</th>\n",
       "      <td>Zambia</td>\n",
       "      <td>2016</td>\n",
       "      <td>Mortality rate attributed to exposure to unsaf...</td>\n",
       "      <td>Male</td>\n",
       "      <td>36.62</td>\n",
       "    </tr>\n",
       "    <tr>\n",
       "      <th>545</th>\n",
       "      <td>Zambia</td>\n",
       "      <td>2016</td>\n",
       "      <td>Mortality rate attributed to exposure to unsaf...</td>\n",
       "      <td>Female</td>\n",
       "      <td>33.23</td>\n",
       "    </tr>\n",
       "    <tr>\n",
       "      <th>546</th>\n",
       "      <td>Zimbabwe</td>\n",
       "      <td>2016</td>\n",
       "      <td>Mortality rate attributed to exposure to unsaf...</td>\n",
       "      <td>Both sexes</td>\n",
       "      <td>24.55</td>\n",
       "    </tr>\n",
       "    <tr>\n",
       "      <th>547</th>\n",
       "      <td>Zimbabwe</td>\n",
       "      <td>2016</td>\n",
       "      <td>Mortality rate attributed to exposure to unsaf...</td>\n",
       "      <td>Male</td>\n",
       "      <td>27.07</td>\n",
       "    </tr>\n",
       "    <tr>\n",
       "      <th>548</th>\n",
       "      <td>Zimbabwe</td>\n",
       "      <td>2016</td>\n",
       "      <td>Mortality rate attributed to exposure to unsaf...</td>\n",
       "      <td>Female</td>\n",
       "      <td>22.16</td>\n",
       "    </tr>\n",
       "  </tbody>\n",
       "</table>\n",
       "<p>549 rows × 5 columns</p>\n",
       "</div>"
      ],
      "text/plain": [
       "        Location  Period                                          Indicator  \\\n",
       "0    Afghanistan    2016  Mortality rate attributed to exposure to unsaf...   \n",
       "1    Afghanistan    2016  Mortality rate attributed to exposure to unsaf...   \n",
       "2    Afghanistan    2016  Mortality rate attributed to exposure to unsaf...   \n",
       "3        Albania    2016  Mortality rate attributed to exposure to unsaf...   \n",
       "4        Albania    2016  Mortality rate attributed to exposure to unsaf...   \n",
       "..           ...     ...                                                ...   \n",
       "544       Zambia    2016  Mortality rate attributed to exposure to unsaf...   \n",
       "545       Zambia    2016  Mortality rate attributed to exposure to unsaf...   \n",
       "546     Zimbabwe    2016  Mortality rate attributed to exposure to unsaf...   \n",
       "547     Zimbabwe    2016  Mortality rate attributed to exposure to unsaf...   \n",
       "548     Zimbabwe    2016  Mortality rate attributed to exposure to unsaf...   \n",
       "\n",
       "           Dim1  First Tooltip  \n",
       "0    Both sexes          13.92  \n",
       "1          Male          12.61  \n",
       "2        Female          15.31  \n",
       "3    Both sexes           0.17  \n",
       "4          Male           0.21  \n",
       "..          ...            ...  \n",
       "544        Male          36.62  \n",
       "545      Female          33.23  \n",
       "546  Both sexes          24.55  \n",
       "547        Male          27.07  \n",
       "548      Female          22.16  \n",
       "\n",
       "[549 rows x 5 columns]"
      ]
     },
     "execution_count": 472,
     "metadata": {},
     "output_type": "execute_result"
    }
   ],
   "source": [
    "wash_data = pd.read_csv(WHS_path/'mortalityRateUnsafeWash.csv')\n",
    "wash_data"
   ]
  },
  {
   "cell_type": "code",
   "execution_count": 473,
   "metadata": {},
   "outputs": [
    {
     "data": {
      "text/plain": [
       "Location         549\n",
       "Period           549\n",
       "Indicator        549\n",
       "Dim1             549\n",
       "First Tooltip    549\n",
       "dtype: int64"
      ]
     },
     "execution_count": 473,
     "metadata": {},
     "output_type": "execute_result"
    }
   ],
   "source": [
    "wash_data.isnull().count()"
   ]
  },
  {
   "cell_type": "code",
   "execution_count": 474,
   "metadata": {},
   "outputs": [
    {
     "data": {
      "text/html": [
       "<div>\n",
       "<style scoped>\n",
       "    .dataframe tbody tr th:only-of-type {\n",
       "        vertical-align: middle;\n",
       "    }\n",
       "\n",
       "    .dataframe tbody tr th {\n",
       "        vertical-align: top;\n",
       "    }\n",
       "\n",
       "    .dataframe thead th {\n",
       "        text-align: right;\n",
       "    }\n",
       "</style>\n",
       "<table border=\"1\" class=\"dataframe\">\n",
       "  <thead>\n",
       "    <tr style=\"text-align: right;\">\n",
       "      <th></th>\n",
       "      <th>Location</th>\n",
       "      <th>Period</th>\n",
       "      <th>Indicator</th>\n",
       "      <th>Dim1</th>\n",
       "      <th>First Tooltip</th>\n",
       "    </tr>\n",
       "  </thead>\n",
       "  <tbody>\n",
       "  </tbody>\n",
       "</table>\n",
       "</div>"
      ],
      "text/plain": [
       "Empty DataFrame\n",
       "Columns: [Location, Period, Indicator, Dim1, First Tooltip]\n",
       "Index: []"
      ]
     },
     "execution_count": 474,
     "metadata": {},
     "output_type": "execute_result"
    }
   ],
   "source": [
    "wash_data[wash_data['First Tooltip'] == 0.0]"
   ]
  },
  {
   "cell_type": "code",
   "execution_count": 475,
   "metadata": {},
   "outputs": [
    {
     "data": {
      "text/plain": [
       "array(['Mortality rate attributed to exposure to unsafe WASH services (per 100 000 population) (SDG 3.9.2)'],\n",
       "      dtype=object)"
      ]
     },
     "execution_count": 475,
     "metadata": {},
     "output_type": "execute_result"
    }
   ],
   "source": [
    "wash_data['Indicator'].unique()"
   ]
  },
  {
   "cell_type": "code",
   "execution_count": 476,
   "metadata": {},
   "outputs": [
    {
     "data": {
      "text/html": [
       "<div>\n",
       "<style scoped>\n",
       "    .dataframe tbody tr th:only-of-type {\n",
       "        vertical-align: middle;\n",
       "    }\n",
       "\n",
       "    .dataframe tbody tr th {\n",
       "        vertical-align: top;\n",
       "    }\n",
       "\n",
       "    .dataframe thead th {\n",
       "        text-align: right;\n",
       "    }\n",
       "</style>\n",
       "<table border=\"1\" class=\"dataframe\">\n",
       "  <thead>\n",
       "    <tr style=\"text-align: right;\">\n",
       "      <th></th>\n",
       "      <th>Location</th>\n",
       "      <th>Period</th>\n",
       "      <th>Indicator</th>\n",
       "      <th>Dim1</th>\n",
       "      <th>First Tooltip</th>\n",
       "    </tr>\n",
       "  </thead>\n",
       "  <tbody>\n",
       "    <tr>\n",
       "      <th>0</th>\n",
       "      <td>Afghanistan</td>\n",
       "      <td>2016</td>\n",
       "      <td>Mortality rate attributed to exposure to unsaf...</td>\n",
       "      <td>Both sexes</td>\n",
       "      <td>13.92</td>\n",
       "    </tr>\n",
       "    <tr>\n",
       "      <th>3</th>\n",
       "      <td>Albania</td>\n",
       "      <td>2016</td>\n",
       "      <td>Mortality rate attributed to exposure to unsaf...</td>\n",
       "      <td>Both sexes</td>\n",
       "      <td>0.17</td>\n",
       "    </tr>\n",
       "    <tr>\n",
       "      <th>6</th>\n",
       "      <td>Algeria</td>\n",
       "      <td>2016</td>\n",
       "      <td>Mortality rate attributed to exposure to unsaf...</td>\n",
       "      <td>Both sexes</td>\n",
       "      <td>1.87</td>\n",
       "    </tr>\n",
       "    <tr>\n",
       "      <th>9</th>\n",
       "      <td>Angola</td>\n",
       "      <td>2016</td>\n",
       "      <td>Mortality rate attributed to exposure to unsaf...</td>\n",
       "      <td>Both sexes</td>\n",
       "      <td>48.81</td>\n",
       "    </tr>\n",
       "    <tr>\n",
       "      <th>12</th>\n",
       "      <td>Antigua and Barbuda</td>\n",
       "      <td>2016</td>\n",
       "      <td>Mortality rate attributed to exposure to unsaf...</td>\n",
       "      <td>Both sexes</td>\n",
       "      <td>0.11</td>\n",
       "    </tr>\n",
       "    <tr>\n",
       "      <th>...</th>\n",
       "      <td>...</td>\n",
       "      <td>...</td>\n",
       "      <td>...</td>\n",
       "      <td>...</td>\n",
       "      <td>...</td>\n",
       "    </tr>\n",
       "    <tr>\n",
       "      <th>534</th>\n",
       "      <td>Venezuela (Bolivarian Republic of)</td>\n",
       "      <td>2016</td>\n",
       "      <td>Mortality rate attributed to exposure to unsaf...</td>\n",
       "      <td>Both sexes</td>\n",
       "      <td>1.39</td>\n",
       "    </tr>\n",
       "    <tr>\n",
       "      <th>537</th>\n",
       "      <td>Viet Nam</td>\n",
       "      <td>2016</td>\n",
       "      <td>Mortality rate attributed to exposure to unsaf...</td>\n",
       "      <td>Both sexes</td>\n",
       "      <td>1.62</td>\n",
       "    </tr>\n",
       "    <tr>\n",
       "      <th>540</th>\n",
       "      <td>Yemen</td>\n",
       "      <td>2016</td>\n",
       "      <td>Mortality rate attributed to exposure to unsaf...</td>\n",
       "      <td>Both sexes</td>\n",
       "      <td>10.20</td>\n",
       "    </tr>\n",
       "    <tr>\n",
       "      <th>543</th>\n",
       "      <td>Zambia</td>\n",
       "      <td>2016</td>\n",
       "      <td>Mortality rate attributed to exposure to unsaf...</td>\n",
       "      <td>Both sexes</td>\n",
       "      <td>34.91</td>\n",
       "    </tr>\n",
       "    <tr>\n",
       "      <th>546</th>\n",
       "      <td>Zimbabwe</td>\n",
       "      <td>2016</td>\n",
       "      <td>Mortality rate attributed to exposure to unsaf...</td>\n",
       "      <td>Both sexes</td>\n",
       "      <td>24.55</td>\n",
       "    </tr>\n",
       "  </tbody>\n",
       "</table>\n",
       "<p>183 rows × 5 columns</p>\n",
       "</div>"
      ],
      "text/plain": [
       "                               Location  Period  \\\n",
       "0                           Afghanistan    2016   \n",
       "3                               Albania    2016   \n",
       "6                               Algeria    2016   \n",
       "9                                Angola    2016   \n",
       "12                  Antigua and Barbuda    2016   \n",
       "..                                  ...     ...   \n",
       "534  Venezuela (Bolivarian Republic of)    2016   \n",
       "537                            Viet Nam    2016   \n",
       "540                               Yemen    2016   \n",
       "543                              Zambia    2016   \n",
       "546                            Zimbabwe    2016   \n",
       "\n",
       "                                             Indicator        Dim1  \\\n",
       "0    Mortality rate attributed to exposure to unsaf...  Both sexes   \n",
       "3    Mortality rate attributed to exposure to unsaf...  Both sexes   \n",
       "6    Mortality rate attributed to exposure to unsaf...  Both sexes   \n",
       "9    Mortality rate attributed to exposure to unsaf...  Both sexes   \n",
       "12   Mortality rate attributed to exposure to unsaf...  Both sexes   \n",
       "..                                                 ...         ...   \n",
       "534  Mortality rate attributed to exposure to unsaf...  Both sexes   \n",
       "537  Mortality rate attributed to exposure to unsaf...  Both sexes   \n",
       "540  Mortality rate attributed to exposure to unsaf...  Both sexes   \n",
       "543  Mortality rate attributed to exposure to unsaf...  Both sexes   \n",
       "546  Mortality rate attributed to exposure to unsaf...  Both sexes   \n",
       "\n",
       "     First Tooltip  \n",
       "0            13.92  \n",
       "3             0.17  \n",
       "6             1.87  \n",
       "9            48.81  \n",
       "12            0.11  \n",
       "..             ...  \n",
       "534           1.39  \n",
       "537           1.62  \n",
       "540          10.20  \n",
       "543          34.91  \n",
       "546          24.55  \n",
       "\n",
       "[183 rows x 5 columns]"
      ]
     },
     "execution_count": 476,
     "metadata": {},
     "output_type": "execute_result"
    }
   ],
   "source": [
    "wash_bs = wash_data[wash_data['Dim1'] == 'Both sexes']\n",
    "wash_bs"
   ]
  },
  {
   "cell_type": "code",
   "execution_count": 477,
   "metadata": {},
   "outputs": [
    {
     "data": {
      "text/plain": [
       "array([2016])"
      ]
     },
     "execution_count": 477,
     "metadata": {},
     "output_type": "execute_result"
    }
   ],
   "source": [
    "wash_bs['Period'].unique()"
   ]
  },
  {
   "cell_type": "markdown",
   "metadata": {},
   "source": [
    "## Dataset to export - Ony has 1 year, so maybe ignore"
   ]
  },
  {
   "cell_type": "code",
   "execution_count": 478,
   "metadata": {},
   "outputs": [
    {
     "data": {
      "text/html": [
       "<div>\n",
       "<style scoped>\n",
       "    .dataframe tbody tr th:only-of-type {\n",
       "        vertical-align: middle;\n",
       "    }\n",
       "\n",
       "    .dataframe tbody tr th {\n",
       "        vertical-align: top;\n",
       "    }\n",
       "\n",
       "    .dataframe thead th {\n",
       "        text-align: right;\n",
       "    }\n",
       "</style>\n",
       "<table border=\"1\" class=\"dataframe\">\n",
       "  <thead>\n",
       "    <tr style=\"text-align: right;\">\n",
       "      <th></th>\n",
       "      <th>Location</th>\n",
       "      <th>Period</th>\n",
       "      <th>Indicator</th>\n",
       "      <th>Dim1</th>\n",
       "      <th>First Tooltip</th>\n",
       "    </tr>\n",
       "  </thead>\n",
       "  <tbody>\n",
       "    <tr>\n",
       "      <th>0</th>\n",
       "      <td>Afghanistan</td>\n",
       "      <td>2016</td>\n",
       "      <td>Mortality rate attributed to exposure to unsaf...</td>\n",
       "      <td>Both sexes</td>\n",
       "      <td>13.92</td>\n",
       "    </tr>\n",
       "    <tr>\n",
       "      <th>3</th>\n",
       "      <td>Albania</td>\n",
       "      <td>2016</td>\n",
       "      <td>Mortality rate attributed to exposure to unsaf...</td>\n",
       "      <td>Both sexes</td>\n",
       "      <td>0.17</td>\n",
       "    </tr>\n",
       "    <tr>\n",
       "      <th>6</th>\n",
       "      <td>Algeria</td>\n",
       "      <td>2016</td>\n",
       "      <td>Mortality rate attributed to exposure to unsaf...</td>\n",
       "      <td>Both sexes</td>\n",
       "      <td>1.87</td>\n",
       "    </tr>\n",
       "    <tr>\n",
       "      <th>9</th>\n",
       "      <td>Angola</td>\n",
       "      <td>2016</td>\n",
       "      <td>Mortality rate attributed to exposure to unsaf...</td>\n",
       "      <td>Both sexes</td>\n",
       "      <td>48.81</td>\n",
       "    </tr>\n",
       "    <tr>\n",
       "      <th>12</th>\n",
       "      <td>Antigua and Barbuda</td>\n",
       "      <td>2016</td>\n",
       "      <td>Mortality rate attributed to exposure to unsaf...</td>\n",
       "      <td>Both sexes</td>\n",
       "      <td>0.11</td>\n",
       "    </tr>\n",
       "    <tr>\n",
       "      <th>...</th>\n",
       "      <td>...</td>\n",
       "      <td>...</td>\n",
       "      <td>...</td>\n",
       "      <td>...</td>\n",
       "      <td>...</td>\n",
       "    </tr>\n",
       "    <tr>\n",
       "      <th>534</th>\n",
       "      <td>Venezuela (Bolivarian Republic of)</td>\n",
       "      <td>2016</td>\n",
       "      <td>Mortality rate attributed to exposure to unsaf...</td>\n",
       "      <td>Both sexes</td>\n",
       "      <td>1.39</td>\n",
       "    </tr>\n",
       "    <tr>\n",
       "      <th>537</th>\n",
       "      <td>Viet Nam</td>\n",
       "      <td>2016</td>\n",
       "      <td>Mortality rate attributed to exposure to unsaf...</td>\n",
       "      <td>Both sexes</td>\n",
       "      <td>1.62</td>\n",
       "    </tr>\n",
       "    <tr>\n",
       "      <th>540</th>\n",
       "      <td>Yemen</td>\n",
       "      <td>2016</td>\n",
       "      <td>Mortality rate attributed to exposure to unsaf...</td>\n",
       "      <td>Both sexes</td>\n",
       "      <td>10.20</td>\n",
       "    </tr>\n",
       "    <tr>\n",
       "      <th>543</th>\n",
       "      <td>Zambia</td>\n",
       "      <td>2016</td>\n",
       "      <td>Mortality rate attributed to exposure to unsaf...</td>\n",
       "      <td>Both sexes</td>\n",
       "      <td>34.91</td>\n",
       "    </tr>\n",
       "    <tr>\n",
       "      <th>546</th>\n",
       "      <td>Zimbabwe</td>\n",
       "      <td>2016</td>\n",
       "      <td>Mortality rate attributed to exposure to unsaf...</td>\n",
       "      <td>Both sexes</td>\n",
       "      <td>24.55</td>\n",
       "    </tr>\n",
       "  </tbody>\n",
       "</table>\n",
       "<p>183 rows × 5 columns</p>\n",
       "</div>"
      ],
      "text/plain": [
       "                               Location  Period  \\\n",
       "0                           Afghanistan    2016   \n",
       "3                               Albania    2016   \n",
       "6                               Algeria    2016   \n",
       "9                                Angola    2016   \n",
       "12                  Antigua and Barbuda    2016   \n",
       "..                                  ...     ...   \n",
       "534  Venezuela (Bolivarian Republic of)    2016   \n",
       "537                            Viet Nam    2016   \n",
       "540                               Yemen    2016   \n",
       "543                              Zambia    2016   \n",
       "546                            Zimbabwe    2016   \n",
       "\n",
       "                                             Indicator        Dim1  \\\n",
       "0    Mortality rate attributed to exposure to unsaf...  Both sexes   \n",
       "3    Mortality rate attributed to exposure to unsaf...  Both sexes   \n",
       "6    Mortality rate attributed to exposure to unsaf...  Both sexes   \n",
       "9    Mortality rate attributed to exposure to unsaf...  Both sexes   \n",
       "12   Mortality rate attributed to exposure to unsaf...  Both sexes   \n",
       "..                                                 ...         ...   \n",
       "534  Mortality rate attributed to exposure to unsaf...  Both sexes   \n",
       "537  Mortality rate attributed to exposure to unsaf...  Both sexes   \n",
       "540  Mortality rate attributed to exposure to unsaf...  Both sexes   \n",
       "543  Mortality rate attributed to exposure to unsaf...  Both sexes   \n",
       "546  Mortality rate attributed to exposure to unsaf...  Both sexes   \n",
       "\n",
       "     First Tooltip  \n",
       "0            13.92  \n",
       "3             0.17  \n",
       "6             1.87  \n",
       "9            48.81  \n",
       "12            0.11  \n",
       "..             ...  \n",
       "534           1.39  \n",
       "537           1.62  \n",
       "540          10.20  \n",
       "543          34.91  \n",
       "546          24.55  \n",
       "\n",
       "[183 rows x 5 columns]"
      ]
     },
     "execution_count": 478,
     "metadata": {},
     "output_type": "execute_result"
    }
   ],
   "source": [
    "wash_bs"
   ]
  },
  {
   "cell_type": "code",
   "execution_count": null,
   "metadata": {},
   "outputs": [],
   "source": []
  },
  {
   "cell_type": "markdown",
   "metadata": {},
   "source": [
    "## Neonatal Mortality Rate"
   ]
  },
  {
   "cell_type": "code",
   "execution_count": 479,
   "metadata": {},
   "outputs": [
    {
     "data": {
      "text/html": [
       "<div>\n",
       "<style scoped>\n",
       "    .dataframe tbody tr th:only-of-type {\n",
       "        vertical-align: middle;\n",
       "    }\n",
       "\n",
       "    .dataframe tbody tr th {\n",
       "        vertical-align: top;\n",
       "    }\n",
       "\n",
       "    .dataframe thead th {\n",
       "        text-align: right;\n",
       "    }\n",
       "</style>\n",
       "<table border=\"1\" class=\"dataframe\">\n",
       "  <thead>\n",
       "    <tr style=\"text-align: right;\">\n",
       "      <th></th>\n",
       "      <th>Location</th>\n",
       "      <th>Period</th>\n",
       "      <th>Indicator</th>\n",
       "      <th>Dim1</th>\n",
       "      <th>First Tooltip</th>\n",
       "    </tr>\n",
       "  </thead>\n",
       "  <tbody>\n",
       "    <tr>\n",
       "      <th>0</th>\n",
       "      <td>Afghanistan</td>\n",
       "      <td>2019</td>\n",
       "      <td>Neonatal mortality rate (per 1000 live births)</td>\n",
       "      <td>Both sexes</td>\n",
       "      <td>35.86 [27.77-45.18]</td>\n",
       "    </tr>\n",
       "    <tr>\n",
       "      <th>1</th>\n",
       "      <td>Afghanistan</td>\n",
       "      <td>2018</td>\n",
       "      <td>Neonatal mortality rate (per 1000 live births)</td>\n",
       "      <td>Both sexes</td>\n",
       "      <td>36.89 [29.34-45.28]</td>\n",
       "    </tr>\n",
       "    <tr>\n",
       "      <th>2</th>\n",
       "      <td>Afghanistan</td>\n",
       "      <td>2017</td>\n",
       "      <td>Neonatal mortality rate (per 1000 live births)</td>\n",
       "      <td>Both sexes</td>\n",
       "      <td>37.98 [30.95-45.6]</td>\n",
       "    </tr>\n",
       "    <tr>\n",
       "      <th>3</th>\n",
       "      <td>Afghanistan</td>\n",
       "      <td>2016</td>\n",
       "      <td>Neonatal mortality rate (per 1000 live births)</td>\n",
       "      <td>Both sexes</td>\n",
       "      <td>39.05 [32.59-46.17]</td>\n",
       "    </tr>\n",
       "    <tr>\n",
       "      <th>4</th>\n",
       "      <td>Afghanistan</td>\n",
       "      <td>2015</td>\n",
       "      <td>Neonatal mortality rate (per 1000 live births)</td>\n",
       "      <td>Both sexes</td>\n",
       "      <td>40.27 [34.34-46.94]</td>\n",
       "    </tr>\n",
       "    <tr>\n",
       "      <th>...</th>\n",
       "      <td>...</td>\n",
       "      <td>...</td>\n",
       "      <td>...</td>\n",
       "      <td>...</td>\n",
       "      <td>...</td>\n",
       "    </tr>\n",
       "    <tr>\n",
       "      <th>9130</th>\n",
       "      <td>Zimbabwe</td>\n",
       "      <td>1969</td>\n",
       "      <td>Neonatal mortality rate (per 1000 live births)</td>\n",
       "      <td>Both sexes</td>\n",
       "      <td>31.66 [26.63-37.36]</td>\n",
       "    </tr>\n",
       "    <tr>\n",
       "      <th>9131</th>\n",
       "      <td>Zimbabwe</td>\n",
       "      <td>1968</td>\n",
       "      <td>Neonatal mortality rate (per 1000 live births)</td>\n",
       "      <td>Both sexes</td>\n",
       "      <td>31.67 [26.41-37.75]</td>\n",
       "    </tr>\n",
       "    <tr>\n",
       "      <th>9132</th>\n",
       "      <td>Zimbabwe</td>\n",
       "      <td>1967</td>\n",
       "      <td>Neonatal mortality rate (per 1000 live births)</td>\n",
       "      <td>Both sexes</td>\n",
       "      <td>31.76 [26.17-38.31]</td>\n",
       "    </tr>\n",
       "    <tr>\n",
       "      <th>9133</th>\n",
       "      <td>Zimbabwe</td>\n",
       "      <td>1966</td>\n",
       "      <td>Neonatal mortality rate (per 1000 live births)</td>\n",
       "      <td>Both sexes</td>\n",
       "      <td>31.96 [25.96-39.16]</td>\n",
       "    </tr>\n",
       "    <tr>\n",
       "      <th>9134</th>\n",
       "      <td>Zimbabwe</td>\n",
       "      <td>1965</td>\n",
       "      <td>Neonatal mortality rate (per 1000 live births)</td>\n",
       "      <td>Both sexes</td>\n",
       "      <td>32.38 [25.6-40.27]</td>\n",
       "    </tr>\n",
       "  </tbody>\n",
       "</table>\n",
       "<p>9135 rows × 5 columns</p>\n",
       "</div>"
      ],
      "text/plain": [
       "         Location  Period                                       Indicator  \\\n",
       "0     Afghanistan    2019  Neonatal mortality rate (per 1000 live births)   \n",
       "1     Afghanistan    2018  Neonatal mortality rate (per 1000 live births)   \n",
       "2     Afghanistan    2017  Neonatal mortality rate (per 1000 live births)   \n",
       "3     Afghanistan    2016  Neonatal mortality rate (per 1000 live births)   \n",
       "4     Afghanistan    2015  Neonatal mortality rate (per 1000 live births)   \n",
       "...           ...     ...                                             ...   \n",
       "9130     Zimbabwe    1969  Neonatal mortality rate (per 1000 live births)   \n",
       "9131     Zimbabwe    1968  Neonatal mortality rate (per 1000 live births)   \n",
       "9132     Zimbabwe    1967  Neonatal mortality rate (per 1000 live births)   \n",
       "9133     Zimbabwe    1966  Neonatal mortality rate (per 1000 live births)   \n",
       "9134     Zimbabwe    1965  Neonatal mortality rate (per 1000 live births)   \n",
       "\n",
       "            Dim1        First Tooltip  \n",
       "0     Both sexes  35.86 [27.77-45.18]  \n",
       "1     Both sexes  36.89 [29.34-45.28]  \n",
       "2     Both sexes   37.98 [30.95-45.6]  \n",
       "3     Both sexes  39.05 [32.59-46.17]  \n",
       "4     Both sexes  40.27 [34.34-46.94]  \n",
       "...          ...                  ...  \n",
       "9130  Both sexes  31.66 [26.63-37.36]  \n",
       "9131  Both sexes  31.67 [26.41-37.75]  \n",
       "9132  Both sexes  31.76 [26.17-38.31]  \n",
       "9133  Both sexes  31.96 [25.96-39.16]  \n",
       "9134  Both sexes   32.38 [25.6-40.27]  \n",
       "\n",
       "[9135 rows x 5 columns]"
      ]
     },
     "execution_count": 479,
     "metadata": {},
     "output_type": "execute_result"
    }
   ],
   "source": [
    "neo_mort = pd.read_csv(WHS_path/'neonatalMortalityRate.csv')\n",
    "neo_mort"
   ]
  },
  {
   "cell_type": "code",
   "execution_count": 480,
   "metadata": {},
   "outputs": [
    {
     "data": {
      "text/plain": [
       "Location         9135\n",
       "Period           9135\n",
       "Indicator        9135\n",
       "Dim1             9135\n",
       "First Tooltip    9135\n",
       "dtype: int64"
      ]
     },
     "execution_count": 480,
     "metadata": {},
     "output_type": "execute_result"
    }
   ],
   "source": [
    "neo_mort.isnull().count()"
   ]
  },
  {
   "cell_type": "code",
   "execution_count": 482,
   "metadata": {},
   "outputs": [
    {
     "data": {
      "text/html": [
       "<div>\n",
       "<style scoped>\n",
       "    .dataframe tbody tr th:only-of-type {\n",
       "        vertical-align: middle;\n",
       "    }\n",
       "\n",
       "    .dataframe tbody tr th {\n",
       "        vertical-align: top;\n",
       "    }\n",
       "\n",
       "    .dataframe thead th {\n",
       "        text-align: right;\n",
       "    }\n",
       "</style>\n",
       "<table border=\"1\" class=\"dataframe\">\n",
       "  <thead>\n",
       "    <tr style=\"text-align: right;\">\n",
       "      <th></th>\n",
       "      <th>Location</th>\n",
       "      <th>Period</th>\n",
       "      <th>Indicator</th>\n",
       "      <th>Dim1</th>\n",
       "      <th>First Tooltip</th>\n",
       "    </tr>\n",
       "  </thead>\n",
       "  <tbody>\n",
       "  </tbody>\n",
       "</table>\n",
       "</div>"
      ],
      "text/plain": [
       "Empty DataFrame\n",
       "Columns: [Location, Period, Indicator, Dim1, First Tooltip]\n",
       "Index: []"
      ]
     },
     "execution_count": 482,
     "metadata": {},
     "output_type": "execute_result"
    }
   ],
   "source": [
    "neo_mort[neo_mort['First Tooltip'] == '0.0 [0.0-0.0]']"
   ]
  },
  {
   "cell_type": "code",
   "execution_count": 483,
   "metadata": {},
   "outputs": [
    {
     "data": {
      "text/plain": [
       "array(['Neonatal mortality rate (per 1000 live births)'], dtype=object)"
      ]
     },
     "execution_count": 483,
     "metadata": {},
     "output_type": "execute_result"
    }
   ],
   "source": [
    "neo_mort['Indicator'].unique()"
   ]
  },
  {
   "cell_type": "code",
   "execution_count": 484,
   "metadata": {},
   "outputs": [
    {
     "data": {
      "text/plain": [
       "array(['Both sexes'], dtype=object)"
      ]
     },
     "execution_count": 484,
     "metadata": {},
     "output_type": "execute_result"
    }
   ],
   "source": [
    "neo_mort['Dim1'].unique()"
   ]
  },
  {
   "cell_type": "markdown",
   "metadata": {},
   "source": [
    "Years go way back, but I ignore after 2000. All years are the same, so I picked 2015 and 2016."
   ]
  },
  {
   "cell_type": "code",
   "execution_count": 485,
   "metadata": {},
   "outputs": [
    {
     "data": {
      "text/plain": [
       "array([2019, 2018, 2017, 2016, 2015, 2014, 2013, 2012, 2011, 2010, 2009,\n",
       "       2008, 2007, 2006, 2005, 2004, 2003, 2002, 2001, 2000, 1999, 1998,\n",
       "       1997, 1996, 1995, 1994, 1993, 1992, 1991, 1990, 1989, 1988, 1987,\n",
       "       1986, 1985, 1984, 1983, 1982, 1981, 1980, 1979, 1978, 1977, 1976,\n",
       "       1975, 1974, 1973, 1972, 1971, 1970, 1969, 1968, 1967, 1966, 1965,\n",
       "       1964, 1963, 1962, 1961, 1960, 1959, 1958, 1957, 1956, 1955, 1954,\n",
       "       1953, 1952, 1951])"
      ]
     },
     "execution_count": 485,
     "metadata": {},
     "output_type": "execute_result"
    }
   ],
   "source": [
    "neo_mort['Period'].unique()"
   ]
  },
  {
   "cell_type": "code",
   "execution_count": 486,
   "metadata": {},
   "outputs": [
    {
     "data": {
      "text/plain": [
       "Location         193\n",
       "Period           193\n",
       "Indicator        193\n",
       "Dim1             193\n",
       "First Tooltip    193\n",
       "dtype: int64"
      ]
     },
     "execution_count": 486,
     "metadata": {},
     "output_type": "execute_result"
    }
   ],
   "source": [
    "neo_mort[neo_mort['Period'] == 2019].count()"
   ]
  },
  {
   "cell_type": "code",
   "execution_count": 488,
   "metadata": {},
   "outputs": [
    {
     "data": {
      "text/plain": [
       "Location         193\n",
       "Period           193\n",
       "Indicator        193\n",
       "Dim1             193\n",
       "First Tooltip    193\n",
       "dtype: int64"
      ]
     },
     "execution_count": 488,
     "metadata": {},
     "output_type": "execute_result"
    }
   ],
   "source": [
    "neo_mort[neo_mort['Period'] == 2018].count()"
   ]
  },
  {
   "cell_type": "code",
   "execution_count": 490,
   "metadata": {},
   "outputs": [
    {
     "data": {
      "text/plain": [
       "Location         193\n",
       "Period           193\n",
       "Indicator        193\n",
       "Dim1             193\n",
       "First Tooltip    193\n",
       "dtype: int64"
      ]
     },
     "execution_count": 490,
     "metadata": {},
     "output_type": "execute_result"
    }
   ],
   "source": [
    "neo_mort[neo_mort['Period'] == 2017].count()"
   ]
  },
  {
   "cell_type": "code",
   "execution_count": 491,
   "metadata": {},
   "outputs": [
    {
     "data": {
      "text/plain": [
       "Location         193\n",
       "Period           193\n",
       "Indicator        193\n",
       "Dim1             193\n",
       "First Tooltip    193\n",
       "dtype: int64"
      ]
     },
     "execution_count": 491,
     "metadata": {},
     "output_type": "execute_result"
    }
   ],
   "source": [
    "neo_mort[neo_mort['Period'] == 2016].count()"
   ]
  },
  {
   "cell_type": "code",
   "execution_count": 492,
   "metadata": {},
   "outputs": [
    {
     "data": {
      "text/plain": [
       "Location         193\n",
       "Period           193\n",
       "Indicator        193\n",
       "Dim1             193\n",
       "First Tooltip    193\n",
       "dtype: int64"
      ]
     },
     "execution_count": 492,
     "metadata": {},
     "output_type": "execute_result"
    }
   ],
   "source": [
    "neo_mort[neo_mort['Period'] == 2015].count()"
   ]
  },
  {
   "cell_type": "code",
   "execution_count": 493,
   "metadata": {},
   "outputs": [
    {
     "data": {
      "text/plain": [
       "Location         193\n",
       "Period           193\n",
       "Indicator        193\n",
       "Dim1             193\n",
       "First Tooltip    193\n",
       "dtype: int64"
      ]
     },
     "execution_count": 493,
     "metadata": {},
     "output_type": "execute_result"
    }
   ],
   "source": [
    "neo_mort[neo_mort['Period'] == 2014].count()"
   ]
  },
  {
   "cell_type": "code",
   "execution_count": 494,
   "metadata": {},
   "outputs": [
    {
     "data": {
      "text/plain": [
       "Location         193\n",
       "Period           193\n",
       "Indicator        193\n",
       "Dim1             193\n",
       "First Tooltip    193\n",
       "dtype: int64"
      ]
     },
     "execution_count": 494,
     "metadata": {},
     "output_type": "execute_result"
    }
   ],
   "source": [
    "neo_mort[neo_mort['Period'] == 2013].count()"
   ]
  },
  {
   "cell_type": "code",
   "execution_count": 495,
   "metadata": {},
   "outputs": [
    {
     "data": {
      "text/plain": [
       "Location         193\n",
       "Period           193\n",
       "Indicator        193\n",
       "Dim1             193\n",
       "First Tooltip    193\n",
       "dtype: int64"
      ]
     },
     "execution_count": 495,
     "metadata": {},
     "output_type": "execute_result"
    }
   ],
   "source": [
    "neo_mort[neo_mort['Period'] == 2012].count()"
   ]
  },
  {
   "cell_type": "code",
   "execution_count": 496,
   "metadata": {},
   "outputs": [
    {
     "data": {
      "text/plain": [
       "Location         193\n",
       "Period           193\n",
       "Indicator        193\n",
       "Dim1             193\n",
       "First Tooltip    193\n",
       "dtype: int64"
      ]
     },
     "execution_count": 496,
     "metadata": {},
     "output_type": "execute_result"
    }
   ],
   "source": [
    "neo_mort[neo_mort['Period'] == 2011].count()"
   ]
  },
  {
   "cell_type": "code",
   "execution_count": 497,
   "metadata": {},
   "outputs": [
    {
     "data": {
      "text/plain": [
       "Location         193\n",
       "Period           193\n",
       "Indicator        193\n",
       "Dim1             193\n",
       "First Tooltip    193\n",
       "dtype: int64"
      ]
     },
     "execution_count": 497,
     "metadata": {},
     "output_type": "execute_result"
    }
   ],
   "source": [
    "neo_mort[neo_mort['Period'] == 2010].count()"
   ]
  },
  {
   "cell_type": "code",
   "execution_count": 498,
   "metadata": {},
   "outputs": [
    {
     "data": {
      "text/plain": [
       "Location         193\n",
       "Period           193\n",
       "Indicator        193\n",
       "Dim1             193\n",
       "First Tooltip    193\n",
       "dtype: int64"
      ]
     },
     "execution_count": 498,
     "metadata": {},
     "output_type": "execute_result"
    }
   ],
   "source": [
    "neo_mort[neo_mort['Period'] == 2009].count()"
   ]
  },
  {
   "cell_type": "code",
   "execution_count": 499,
   "metadata": {},
   "outputs": [
    {
     "data": {
      "text/plain": [
       "Location         193\n",
       "Period           193\n",
       "Indicator        193\n",
       "Dim1             193\n",
       "First Tooltip    193\n",
       "dtype: int64"
      ]
     },
     "execution_count": 499,
     "metadata": {},
     "output_type": "execute_result"
    }
   ],
   "source": [
    "neo_mort[neo_mort['Period'] == 2008].count()"
   ]
  },
  {
   "cell_type": "code",
   "execution_count": 500,
   "metadata": {},
   "outputs": [
    {
     "data": {
      "text/plain": [
       "Location         193\n",
       "Period           193\n",
       "Indicator        193\n",
       "Dim1             193\n",
       "First Tooltip    193\n",
       "dtype: int64"
      ]
     },
     "execution_count": 500,
     "metadata": {},
     "output_type": "execute_result"
    }
   ],
   "source": [
    "neo_mort[neo_mort['Period'] == 2007].count()"
   ]
  },
  {
   "cell_type": "code",
   "execution_count": 501,
   "metadata": {},
   "outputs": [
    {
     "data": {
      "text/plain": [
       "Location         193\n",
       "Period           193\n",
       "Indicator        193\n",
       "Dim1             193\n",
       "First Tooltip    193\n",
       "dtype: int64"
      ]
     },
     "execution_count": 501,
     "metadata": {},
     "output_type": "execute_result"
    }
   ],
   "source": [
    "neo_mort[neo_mort['Period'] == 2006].count()"
   ]
  },
  {
   "cell_type": "code",
   "execution_count": 502,
   "metadata": {},
   "outputs": [
    {
     "data": {
      "text/plain": [
       "Location         193\n",
       "Period           193\n",
       "Indicator        193\n",
       "Dim1             193\n",
       "First Tooltip    193\n",
       "dtype: int64"
      ]
     },
     "execution_count": 502,
     "metadata": {},
     "output_type": "execute_result"
    }
   ],
   "source": [
    "neo_mort[neo_mort['Period'] == 2005].count()"
   ]
  },
  {
   "cell_type": "code",
   "execution_count": 503,
   "metadata": {},
   "outputs": [
    {
     "data": {
      "text/plain": [
       "Location         193\n",
       "Period           193\n",
       "Indicator        193\n",
       "Dim1             193\n",
       "First Tooltip    193\n",
       "dtype: int64"
      ]
     },
     "execution_count": 503,
     "metadata": {},
     "output_type": "execute_result"
    }
   ],
   "source": [
    "neo_mort[neo_mort['Period'] == 2004].count()"
   ]
  },
  {
   "cell_type": "code",
   "execution_count": 504,
   "metadata": {},
   "outputs": [
    {
     "data": {
      "text/plain": [
       "Location         193\n",
       "Period           193\n",
       "Indicator        193\n",
       "Dim1             193\n",
       "First Tooltip    193\n",
       "dtype: int64"
      ]
     },
     "execution_count": 504,
     "metadata": {},
     "output_type": "execute_result"
    }
   ],
   "source": [
    "neo_mort[neo_mort['Period'] == 2003].count()"
   ]
  },
  {
   "cell_type": "code",
   "execution_count": 505,
   "metadata": {},
   "outputs": [
    {
     "data": {
      "text/plain": [
       "Location         193\n",
       "Period           193\n",
       "Indicator        193\n",
       "Dim1             193\n",
       "First Tooltip    193\n",
       "dtype: int64"
      ]
     },
     "execution_count": 505,
     "metadata": {},
     "output_type": "execute_result"
    }
   ],
   "source": [
    "neo_mort[neo_mort['Period'] == 2002].count()"
   ]
  },
  {
   "cell_type": "code",
   "execution_count": 506,
   "metadata": {},
   "outputs": [
    {
     "data": {
      "text/plain": [
       "Location         193\n",
       "Period           193\n",
       "Indicator        193\n",
       "Dim1             193\n",
       "First Tooltip    193\n",
       "dtype: int64"
      ]
     },
     "execution_count": 506,
     "metadata": {},
     "output_type": "execute_result"
    }
   ],
   "source": [
    "neo_mort[neo_mort['Period'] == 2001].count()"
   ]
  },
  {
   "cell_type": "code",
   "execution_count": 507,
   "metadata": {},
   "outputs": [
    {
     "data": {
      "text/plain": [
       "Location         193\n",
       "Period           193\n",
       "Indicator        193\n",
       "Dim1             193\n",
       "First Tooltip    193\n",
       "dtype: int64"
      ]
     },
     "execution_count": 507,
     "metadata": {},
     "output_type": "execute_result"
    }
   ],
   "source": [
    "neo_mort[neo_mort['Period'] == 2000].count()"
   ]
  },
  {
   "cell_type": "markdown",
   "metadata": {},
   "source": [
    "## Dataset to export"
   ]
  },
  {
   "cell_type": "code",
   "execution_count": 508,
   "metadata": {},
   "outputs": [
    {
     "data": {
      "text/html": [
       "<div>\n",
       "<style scoped>\n",
       "    .dataframe tbody tr th:only-of-type {\n",
       "        vertical-align: middle;\n",
       "    }\n",
       "\n",
       "    .dataframe tbody tr th {\n",
       "        vertical-align: top;\n",
       "    }\n",
       "\n",
       "    .dataframe thead th {\n",
       "        text-align: right;\n",
       "    }\n",
       "</style>\n",
       "<table border=\"1\" class=\"dataframe\">\n",
       "  <thead>\n",
       "    <tr style=\"text-align: right;\">\n",
       "      <th></th>\n",
       "      <th>Location</th>\n",
       "      <th>Period</th>\n",
       "      <th>Indicator</th>\n",
       "      <th>Dim1</th>\n",
       "      <th>First Tooltip</th>\n",
       "    </tr>\n",
       "  </thead>\n",
       "  <tbody>\n",
       "    <tr>\n",
       "      <th>3</th>\n",
       "      <td>Afghanistan</td>\n",
       "      <td>2016</td>\n",
       "      <td>Neonatal mortality rate (per 1000 live births)</td>\n",
       "      <td>Both sexes</td>\n",
       "      <td>39.05 [32.59-46.17]</td>\n",
       "    </tr>\n",
       "    <tr>\n",
       "      <th>36</th>\n",
       "      <td>Albania</td>\n",
       "      <td>2016</td>\n",
       "      <td>Neonatal mortality rate (per 1000 live births)</td>\n",
       "      <td>Both sexes</td>\n",
       "      <td>6.33 [5.82-6.82]</td>\n",
       "    </tr>\n",
       "    <tr>\n",
       "      <th>77</th>\n",
       "      <td>Algeria</td>\n",
       "      <td>2016</td>\n",
       "      <td>Neonatal mortality rate (per 1000 live births)</td>\n",
       "      <td>Both sexes</td>\n",
       "      <td>15.07 [14.46-15.67]</td>\n",
       "    </tr>\n",
       "    <tr>\n",
       "      <th>128</th>\n",
       "      <td>Andorra</td>\n",
       "      <td>2016</td>\n",
       "      <td>Neonatal mortality rate (per 1000 live births)</td>\n",
       "      <td>Both sexes</td>\n",
       "      <td>1.63 [0.49-5.42]</td>\n",
       "    </tr>\n",
       "    <tr>\n",
       "      <th>159</th>\n",
       "      <td>Angola</td>\n",
       "      <td>2016</td>\n",
       "      <td>Neonatal mortality rate (per 1000 live births)</td>\n",
       "      <td>Both sexes</td>\n",
       "      <td>29.78 [14.55-53.42]</td>\n",
       "    </tr>\n",
       "    <tr>\n",
       "      <th>...</th>\n",
       "      <td>...</td>\n",
       "      <td>...</td>\n",
       "      <td>...</td>\n",
       "      <td>...</td>\n",
       "      <td>...</td>\n",
       "    </tr>\n",
       "    <tr>\n",
       "      <th>8900</th>\n",
       "      <td>Venezuela (Bolivarian Republic of)</td>\n",
       "      <td>2016</td>\n",
       "      <td>Neonatal mortality rate (per 1000 live births)</td>\n",
       "      <td>Both sexes</td>\n",
       "      <td>14.62 [13.24-16.09]</td>\n",
       "    </tr>\n",
       "    <tr>\n",
       "      <th>8931</th>\n",
       "      <td>Viet Nam</td>\n",
       "      <td>2016</td>\n",
       "      <td>Neonatal mortality rate (per 1000 live births)</td>\n",
       "      <td>Both sexes</td>\n",
       "      <td>11.19 [8.84-13.91]</td>\n",
       "    </tr>\n",
       "    <tr>\n",
       "      <th>8974</th>\n",
       "      <td>Yemen</td>\n",
       "      <td>2016</td>\n",
       "      <td>Neonatal mortality rate (per 1000 live births)</td>\n",
       "      <td>Both sexes</td>\n",
       "      <td>26.62 [18.58-37.89]</td>\n",
       "    </tr>\n",
       "    <tr>\n",
       "      <th>9032</th>\n",
       "      <td>Zambia</td>\n",
       "      <td>2016</td>\n",
       "      <td>Neonatal mortality rate (per 1000 live births)</td>\n",
       "      <td>Both sexes</td>\n",
       "      <td>24.25 [20.64-28.7]</td>\n",
       "    </tr>\n",
       "    <tr>\n",
       "      <th>9083</th>\n",
       "      <td>Zimbabwe</td>\n",
       "      <td>2016</td>\n",
       "      <td>Neonatal mortality rate (per 1000 live births)</td>\n",
       "      <td>Both sexes</td>\n",
       "      <td>27.33 [22.65-32.75]</td>\n",
       "    </tr>\n",
       "  </tbody>\n",
       "</table>\n",
       "<p>193 rows × 5 columns</p>\n",
       "</div>"
      ],
      "text/plain": [
       "                                Location  Period  \\\n",
       "3                            Afghanistan    2016   \n",
       "36                               Albania    2016   \n",
       "77                               Algeria    2016   \n",
       "128                              Andorra    2016   \n",
       "159                               Angola    2016   \n",
       "...                                  ...     ...   \n",
       "8900  Venezuela (Bolivarian Republic of)    2016   \n",
       "8931                            Viet Nam    2016   \n",
       "8974                               Yemen    2016   \n",
       "9032                              Zambia    2016   \n",
       "9083                            Zimbabwe    2016   \n",
       "\n",
       "                                           Indicator        Dim1  \\\n",
       "3     Neonatal mortality rate (per 1000 live births)  Both sexes   \n",
       "36    Neonatal mortality rate (per 1000 live births)  Both sexes   \n",
       "77    Neonatal mortality rate (per 1000 live births)  Both sexes   \n",
       "128   Neonatal mortality rate (per 1000 live births)  Both sexes   \n",
       "159   Neonatal mortality rate (per 1000 live births)  Both sexes   \n",
       "...                                              ...         ...   \n",
       "8900  Neonatal mortality rate (per 1000 live births)  Both sexes   \n",
       "8931  Neonatal mortality rate (per 1000 live births)  Both sexes   \n",
       "8974  Neonatal mortality rate (per 1000 live births)  Both sexes   \n",
       "9032  Neonatal mortality rate (per 1000 live births)  Both sexes   \n",
       "9083  Neonatal mortality rate (per 1000 live births)  Both sexes   \n",
       "\n",
       "            First Tooltip  \n",
       "3     39.05 [32.59-46.17]  \n",
       "36       6.33 [5.82-6.82]  \n",
       "77    15.07 [14.46-15.67]  \n",
       "128      1.63 [0.49-5.42]  \n",
       "159   29.78 [14.55-53.42]  \n",
       "...                   ...  \n",
       "8900  14.62 [13.24-16.09]  \n",
       "8931   11.19 [8.84-13.91]  \n",
       "8974  26.62 [18.58-37.89]  \n",
       "9032   24.25 [20.64-28.7]  \n",
       "9083  27.33 [22.65-32.75]  \n",
       "\n",
       "[193 rows x 5 columns]"
      ]
     },
     "execution_count": 508,
     "metadata": {},
     "output_type": "execute_result"
    }
   ],
   "source": [
    "neo_mort_2016 = neo_mort[neo_mort['Period'] == 2016]\n",
    "neo_mort_2016"
   ]
  },
  {
   "cell_type": "markdown",
   "metadata": {},
   "source": [
    "## Dataset to export"
   ]
  },
  {
   "cell_type": "code",
   "execution_count": 509,
   "metadata": {},
   "outputs": [
    {
     "data": {
      "text/html": [
       "<div>\n",
       "<style scoped>\n",
       "    .dataframe tbody tr th:only-of-type {\n",
       "        vertical-align: middle;\n",
       "    }\n",
       "\n",
       "    .dataframe tbody tr th {\n",
       "        vertical-align: top;\n",
       "    }\n",
       "\n",
       "    .dataframe thead th {\n",
       "        text-align: right;\n",
       "    }\n",
       "</style>\n",
       "<table border=\"1\" class=\"dataframe\">\n",
       "  <thead>\n",
       "    <tr style=\"text-align: right;\">\n",
       "      <th></th>\n",
       "      <th>Location</th>\n",
       "      <th>Period</th>\n",
       "      <th>Indicator</th>\n",
       "      <th>Dim1</th>\n",
       "      <th>First Tooltip</th>\n",
       "    </tr>\n",
       "  </thead>\n",
       "  <tbody>\n",
       "    <tr>\n",
       "      <th>4</th>\n",
       "      <td>Afghanistan</td>\n",
       "      <td>2015</td>\n",
       "      <td>Neonatal mortality rate (per 1000 live births)</td>\n",
       "      <td>Both sexes</td>\n",
       "      <td>40.27 [34.34-46.94]</td>\n",
       "    </tr>\n",
       "    <tr>\n",
       "      <th>37</th>\n",
       "      <td>Albania</td>\n",
       "      <td>2015</td>\n",
       "      <td>Neonatal mortality rate (per 1000 live births)</td>\n",
       "      <td>Both sexes</td>\n",
       "      <td>6.03 [5.49-6.54]</td>\n",
       "    </tr>\n",
       "    <tr>\n",
       "      <th>78</th>\n",
       "      <td>Algeria</td>\n",
       "      <td>2015</td>\n",
       "      <td>Neonatal mortality rate (per 1000 live births)</td>\n",
       "      <td>Both sexes</td>\n",
       "      <td>15.05 [14.4-15.68]</td>\n",
       "    </tr>\n",
       "    <tr>\n",
       "      <th>129</th>\n",
       "      <td>Andorra</td>\n",
       "      <td>2015</td>\n",
       "      <td>Neonatal mortality rate (per 1000 live births)</td>\n",
       "      <td>Both sexes</td>\n",
       "      <td>1.71 [0.56-5.27]</td>\n",
       "    </tr>\n",
       "    <tr>\n",
       "      <th>160</th>\n",
       "      <td>Angola</td>\n",
       "      <td>2015</td>\n",
       "      <td>Neonatal mortality rate (per 1000 live births)</td>\n",
       "      <td>Both sexes</td>\n",
       "      <td>30.63 [15.65-53.27]</td>\n",
       "    </tr>\n",
       "    <tr>\n",
       "      <th>...</th>\n",
       "      <td>...</td>\n",
       "      <td>...</td>\n",
       "      <td>...</td>\n",
       "      <td>...</td>\n",
       "      <td>...</td>\n",
       "    </tr>\n",
       "    <tr>\n",
       "      <th>8901</th>\n",
       "      <td>Venezuela (Bolivarian Republic of)</td>\n",
       "      <td>2015</td>\n",
       "      <td>Neonatal mortality rate (per 1000 live births)</td>\n",
       "      <td>Both sexes</td>\n",
       "      <td>14.45 [13.64-15.31]</td>\n",
       "    </tr>\n",
       "    <tr>\n",
       "      <th>8932</th>\n",
       "      <td>Viet Nam</td>\n",
       "      <td>2015</td>\n",
       "      <td>Neonatal mortality rate (per 1000 live births)</td>\n",
       "      <td>Both sexes</td>\n",
       "      <td>11.37 [9.16-13.76]</td>\n",
       "    </tr>\n",
       "    <tr>\n",
       "      <th>8975</th>\n",
       "      <td>Yemen</td>\n",
       "      <td>2015</td>\n",
       "      <td>Neonatal mortality rate (per 1000 live births)</td>\n",
       "      <td>Both sexes</td>\n",
       "      <td>26.65 [19.45-36.23]</td>\n",
       "    </tr>\n",
       "    <tr>\n",
       "      <th>9033</th>\n",
       "      <td>Zambia</td>\n",
       "      <td>2015</td>\n",
       "      <td>Neonatal mortality rate (per 1000 live births)</td>\n",
       "      <td>Both sexes</td>\n",
       "      <td>24.53 [21.29-28.42]</td>\n",
       "    </tr>\n",
       "    <tr>\n",
       "      <th>9084</th>\n",
       "      <td>Zimbabwe</td>\n",
       "      <td>2015</td>\n",
       "      <td>Neonatal mortality rate (per 1000 live births)</td>\n",
       "      <td>Both sexes</td>\n",
       "      <td>27.89 [23.72-32.63]</td>\n",
       "    </tr>\n",
       "  </tbody>\n",
       "</table>\n",
       "<p>193 rows × 5 columns</p>\n",
       "</div>"
      ],
      "text/plain": [
       "                                Location  Period  \\\n",
       "4                            Afghanistan    2015   \n",
       "37                               Albania    2015   \n",
       "78                               Algeria    2015   \n",
       "129                              Andorra    2015   \n",
       "160                               Angola    2015   \n",
       "...                                  ...     ...   \n",
       "8901  Venezuela (Bolivarian Republic of)    2015   \n",
       "8932                            Viet Nam    2015   \n",
       "8975                               Yemen    2015   \n",
       "9033                              Zambia    2015   \n",
       "9084                            Zimbabwe    2015   \n",
       "\n",
       "                                           Indicator        Dim1  \\\n",
       "4     Neonatal mortality rate (per 1000 live births)  Both sexes   \n",
       "37    Neonatal mortality rate (per 1000 live births)  Both sexes   \n",
       "78    Neonatal mortality rate (per 1000 live births)  Both sexes   \n",
       "129   Neonatal mortality rate (per 1000 live births)  Both sexes   \n",
       "160   Neonatal mortality rate (per 1000 live births)  Both sexes   \n",
       "...                                              ...         ...   \n",
       "8901  Neonatal mortality rate (per 1000 live births)  Both sexes   \n",
       "8932  Neonatal mortality rate (per 1000 live births)  Both sexes   \n",
       "8975  Neonatal mortality rate (per 1000 live births)  Both sexes   \n",
       "9033  Neonatal mortality rate (per 1000 live births)  Both sexes   \n",
       "9084  Neonatal mortality rate (per 1000 live births)  Both sexes   \n",
       "\n",
       "            First Tooltip  \n",
       "4     40.27 [34.34-46.94]  \n",
       "37       6.03 [5.49-6.54]  \n",
       "78     15.05 [14.4-15.68]  \n",
       "129      1.71 [0.56-5.27]  \n",
       "160   30.63 [15.65-53.27]  \n",
       "...                   ...  \n",
       "8901  14.45 [13.64-15.31]  \n",
       "8932   11.37 [9.16-13.76]  \n",
       "8975  26.65 [19.45-36.23]  \n",
       "9033  24.53 [21.29-28.42]  \n",
       "9084  27.89 [23.72-32.63]  \n",
       "\n",
       "[193 rows x 5 columns]"
      ]
     },
     "execution_count": 509,
     "metadata": {},
     "output_type": "execute_result"
    }
   ],
   "source": [
    "neo_mort_2015 = neo_mort[neo_mort['Period'] == 2015]\n",
    "neo_mort_2015"
   ]
  },
  {
   "cell_type": "code",
   "execution_count": null,
   "metadata": {},
   "outputs": [],
   "source": []
  },
  {
   "cell_type": "markdown",
   "metadata": {},
   "source": [
    "## New HIV Infections"
   ]
  },
  {
   "cell_type": "code",
   "execution_count": 510,
   "metadata": {},
   "outputs": [
    {
     "data": {
      "text/html": [
       "<div>\n",
       "<style scoped>\n",
       "    .dataframe tbody tr th:only-of-type {\n",
       "        vertical-align: middle;\n",
       "    }\n",
       "\n",
       "    .dataframe tbody tr th {\n",
       "        vertical-align: top;\n",
       "    }\n",
       "\n",
       "    .dataframe thead th {\n",
       "        text-align: right;\n",
       "    }\n",
       "</style>\n",
       "<table border=\"1\" class=\"dataframe\">\n",
       "  <thead>\n",
       "    <tr style=\"text-align: right;\">\n",
       "      <th></th>\n",
       "      <th>Location</th>\n",
       "      <th>Period</th>\n",
       "      <th>Indicator</th>\n",
       "      <th>Dim1</th>\n",
       "      <th>First Tooltip</th>\n",
       "    </tr>\n",
       "  </thead>\n",
       "  <tbody>\n",
       "    <tr>\n",
       "      <th>0</th>\n",
       "      <td>Afghanistan</td>\n",
       "      <td>2019</td>\n",
       "      <td>New HIV infections (per 1000 uninfected popula...</td>\n",
       "      <td>Both sexes</td>\n",
       "      <td>0.04 [0.01-0.15]</td>\n",
       "    </tr>\n",
       "    <tr>\n",
       "      <th>1</th>\n",
       "      <td>Afghanistan</td>\n",
       "      <td>2019</td>\n",
       "      <td>New HIV infections (per 1000 uninfected popula...</td>\n",
       "      <td>Male</td>\n",
       "      <td>0.06 [0.02-0.21]</td>\n",
       "    </tr>\n",
       "    <tr>\n",
       "      <th>2</th>\n",
       "      <td>Afghanistan</td>\n",
       "      <td>2019</td>\n",
       "      <td>New HIV infections (per 1000 uninfected popula...</td>\n",
       "      <td>Female</td>\n",
       "      <td>0.03</td>\n",
       "    </tr>\n",
       "    <tr>\n",
       "      <th>3</th>\n",
       "      <td>Afghanistan</td>\n",
       "      <td>2015</td>\n",
       "      <td>New HIV infections (per 1000 uninfected popula...</td>\n",
       "      <td>Both sexes</td>\n",
       "      <td>0.03 [0.01-0.11]</td>\n",
       "    </tr>\n",
       "    <tr>\n",
       "      <th>4</th>\n",
       "      <td>Afghanistan</td>\n",
       "      <td>2015</td>\n",
       "      <td>New HIV infections (per 1000 uninfected popula...</td>\n",
       "      <td>Male</td>\n",
       "      <td>0.05 [0.02-0.16]</td>\n",
       "    </tr>\n",
       "    <tr>\n",
       "      <th>...</th>\n",
       "      <td>...</td>\n",
       "      <td>...</td>\n",
       "      <td>...</td>\n",
       "      <td>...</td>\n",
       "      <td>...</td>\n",
       "    </tr>\n",
       "    <tr>\n",
       "      <th>2545</th>\n",
       "      <td>Zimbabwe</td>\n",
       "      <td>2005</td>\n",
       "      <td>New HIV infections (per 1000 uninfected popula...</td>\n",
       "      <td>Male</td>\n",
       "      <td>7.36 [5.12-10.23]</td>\n",
       "    </tr>\n",
       "    <tr>\n",
       "      <th>2546</th>\n",
       "      <td>Zimbabwe</td>\n",
       "      <td>2005</td>\n",
       "      <td>New HIV infections (per 1000 uninfected popula...</td>\n",
       "      <td>Female</td>\n",
       "      <td>8.91 [6.2-12.29]</td>\n",
       "    </tr>\n",
       "    <tr>\n",
       "      <th>2547</th>\n",
       "      <td>Zimbabwe</td>\n",
       "      <td>2000</td>\n",
       "      <td>New HIV infections (per 1000 uninfected popula...</td>\n",
       "      <td>Both sexes</td>\n",
       "      <td>11.48 [8.06-15.85]</td>\n",
       "    </tr>\n",
       "    <tr>\n",
       "      <th>2548</th>\n",
       "      <td>Zimbabwe</td>\n",
       "      <td>2000</td>\n",
       "      <td>New HIV infections (per 1000 uninfected popula...</td>\n",
       "      <td>Male</td>\n",
       "      <td>10.44 [7.26-14.5]</td>\n",
       "    </tr>\n",
       "    <tr>\n",
       "      <th>2549</th>\n",
       "      <td>Zimbabwe</td>\n",
       "      <td>2000</td>\n",
       "      <td>New HIV infections (per 1000 uninfected popula...</td>\n",
       "      <td>Female</td>\n",
       "      <td>12.51 [8.7-17.26]</td>\n",
       "    </tr>\n",
       "  </tbody>\n",
       "</table>\n",
       "<p>2550 rows × 5 columns</p>\n",
       "</div>"
      ],
      "text/plain": [
       "         Location  Period                                          Indicator  \\\n",
       "0     Afghanistan    2019  New HIV infections (per 1000 uninfected popula...   \n",
       "1     Afghanistan    2019  New HIV infections (per 1000 uninfected popula...   \n",
       "2     Afghanistan    2019  New HIV infections (per 1000 uninfected popula...   \n",
       "3     Afghanistan    2015  New HIV infections (per 1000 uninfected popula...   \n",
       "4     Afghanistan    2015  New HIV infections (per 1000 uninfected popula...   \n",
       "...           ...     ...                                                ...   \n",
       "2545     Zimbabwe    2005  New HIV infections (per 1000 uninfected popula...   \n",
       "2546     Zimbabwe    2005  New HIV infections (per 1000 uninfected popula...   \n",
       "2547     Zimbabwe    2000  New HIV infections (per 1000 uninfected popula...   \n",
       "2548     Zimbabwe    2000  New HIV infections (per 1000 uninfected popula...   \n",
       "2549     Zimbabwe    2000  New HIV infections (per 1000 uninfected popula...   \n",
       "\n",
       "            Dim1       First Tooltip  \n",
       "0     Both sexes    0.04 [0.01-0.15]  \n",
       "1           Male    0.06 [0.02-0.21]  \n",
       "2         Female                0.03  \n",
       "3     Both sexes    0.03 [0.01-0.11]  \n",
       "4           Male    0.05 [0.02-0.16]  \n",
       "...          ...                 ...  \n",
       "2545        Male   7.36 [5.12-10.23]  \n",
       "2546      Female    8.91 [6.2-12.29]  \n",
       "2547  Both sexes  11.48 [8.06-15.85]  \n",
       "2548        Male   10.44 [7.26-14.5]  \n",
       "2549      Female   12.51 [8.7-17.26]  \n",
       "\n",
       "[2550 rows x 5 columns]"
      ]
     },
     "execution_count": 510,
     "metadata": {},
     "output_type": "execute_result"
    }
   ],
   "source": [
    "hiv_data = pd.read_csv(WHS_path/'newHivInfections.csv')\n",
    "hiv_data"
   ]
  },
  {
   "cell_type": "code",
   "execution_count": 511,
   "metadata": {},
   "outputs": [
    {
     "data": {
      "text/plain": [
       "Location         2550\n",
       "Period           2550\n",
       "Indicator        2550\n",
       "Dim1             2550\n",
       "First Tooltip    2550\n",
       "dtype: int64"
      ]
     },
     "execution_count": 511,
     "metadata": {},
     "output_type": "execute_result"
    }
   ],
   "source": [
    "hiv_data.isnull().count()"
   ]
  },
  {
   "cell_type": "code",
   "execution_count": 516,
   "metadata": {},
   "outputs": [
    {
     "data": {
      "text/html": [
       "<div>\n",
       "<style scoped>\n",
       "    .dataframe tbody tr th:only-of-type {\n",
       "        vertical-align: middle;\n",
       "    }\n",
       "\n",
       "    .dataframe tbody tr th {\n",
       "        vertical-align: top;\n",
       "    }\n",
       "\n",
       "    .dataframe thead th {\n",
       "        text-align: right;\n",
       "    }\n",
       "</style>\n",
       "<table border=\"1\" class=\"dataframe\">\n",
       "  <thead>\n",
       "    <tr style=\"text-align: right;\">\n",
       "      <th></th>\n",
       "      <th>Location</th>\n",
       "      <th>Period</th>\n",
       "      <th>Indicator</th>\n",
       "      <th>Dim1</th>\n",
       "      <th>First Tooltip</th>\n",
       "    </tr>\n",
       "  </thead>\n",
       "  <tbody>\n",
       "  </tbody>\n",
       "</table>\n",
       "</div>"
      ],
      "text/plain": [
       "Empty DataFrame\n",
       "Columns: [Location, Period, Indicator, Dim1, First Tooltip]\n",
       "Index: []"
      ]
     },
     "execution_count": 516,
     "metadata": {},
     "output_type": "execute_result"
    }
   ],
   "source": [
    "hiv_data[hiv_data['First Tooltip'] == '0.0 [0.0-0.0]']"
   ]
  },
  {
   "cell_type": "code",
   "execution_count": 513,
   "metadata": {},
   "outputs": [
    {
     "data": {
      "text/plain": [
       "array(['New HIV infections (per 1000 uninfected population)'],\n",
       "      dtype=object)"
      ]
     },
     "execution_count": 513,
     "metadata": {},
     "output_type": "execute_result"
    }
   ],
   "source": [
    "hiv_data['Indicator']. unique()"
   ]
  },
  {
   "cell_type": "code",
   "execution_count": 514,
   "metadata": {},
   "outputs": [
    {
     "data": {
      "text/html": [
       "<div>\n",
       "<style scoped>\n",
       "    .dataframe tbody tr th:only-of-type {\n",
       "        vertical-align: middle;\n",
       "    }\n",
       "\n",
       "    .dataframe tbody tr th {\n",
       "        vertical-align: top;\n",
       "    }\n",
       "\n",
       "    .dataframe thead th {\n",
       "        text-align: right;\n",
       "    }\n",
       "</style>\n",
       "<table border=\"1\" class=\"dataframe\">\n",
       "  <thead>\n",
       "    <tr style=\"text-align: right;\">\n",
       "      <th></th>\n",
       "      <th>Location</th>\n",
       "      <th>Period</th>\n",
       "      <th>Indicator</th>\n",
       "      <th>Dim1</th>\n",
       "      <th>First Tooltip</th>\n",
       "    </tr>\n",
       "  </thead>\n",
       "  <tbody>\n",
       "    <tr>\n",
       "      <th>0</th>\n",
       "      <td>Afghanistan</td>\n",
       "      <td>2019</td>\n",
       "      <td>New HIV infections (per 1000 uninfected popula...</td>\n",
       "      <td>Both sexes</td>\n",
       "      <td>0.04 [0.01-0.15]</td>\n",
       "    </tr>\n",
       "    <tr>\n",
       "      <th>3</th>\n",
       "      <td>Afghanistan</td>\n",
       "      <td>2015</td>\n",
       "      <td>New HIV infections (per 1000 uninfected popula...</td>\n",
       "      <td>Both sexes</td>\n",
       "      <td>0.03 [0.01-0.11]</td>\n",
       "    </tr>\n",
       "    <tr>\n",
       "      <th>6</th>\n",
       "      <td>Afghanistan</td>\n",
       "      <td>2010</td>\n",
       "      <td>New HIV infections (per 1000 uninfected popula...</td>\n",
       "      <td>Both sexes</td>\n",
       "      <td>0.03 [0.01-0.06]</td>\n",
       "    </tr>\n",
       "    <tr>\n",
       "      <th>9</th>\n",
       "      <td>Afghanistan</td>\n",
       "      <td>2005</td>\n",
       "      <td>New HIV infections (per 1000 uninfected popula...</td>\n",
       "      <td>Both sexes</td>\n",
       "      <td>0.02</td>\n",
       "    </tr>\n",
       "    <tr>\n",
       "      <th>12</th>\n",
       "      <td>Afghanistan</td>\n",
       "      <td>2000</td>\n",
       "      <td>New HIV infections (per 1000 uninfected popula...</td>\n",
       "      <td>Both sexes</td>\n",
       "      <td>0.01</td>\n",
       "    </tr>\n",
       "    <tr>\n",
       "      <th>...</th>\n",
       "      <td>...</td>\n",
       "      <td>...</td>\n",
       "      <td>...</td>\n",
       "      <td>...</td>\n",
       "      <td>...</td>\n",
       "    </tr>\n",
       "    <tr>\n",
       "      <th>2535</th>\n",
       "      <td>Zimbabwe</td>\n",
       "      <td>2019</td>\n",
       "      <td>New HIV infections (per 1000 uninfected popula...</td>\n",
       "      <td>Both sexes</td>\n",
       "      <td>2.81 [1.97-3.87]</td>\n",
       "    </tr>\n",
       "    <tr>\n",
       "      <th>2538</th>\n",
       "      <td>Zimbabwe</td>\n",
       "      <td>2015</td>\n",
       "      <td>New HIV infections (per 1000 uninfected popula...</td>\n",
       "      <td>Both sexes</td>\n",
       "      <td>3.91 [2.75-5.4]</td>\n",
       "    </tr>\n",
       "    <tr>\n",
       "      <th>2541</th>\n",
       "      <td>Zimbabwe</td>\n",
       "      <td>2010</td>\n",
       "      <td>New HIV infections (per 1000 uninfected popula...</td>\n",
       "      <td>Both sexes</td>\n",
       "      <td>6.39 [4.49-8.82]</td>\n",
       "    </tr>\n",
       "    <tr>\n",
       "      <th>2544</th>\n",
       "      <td>Zimbabwe</td>\n",
       "      <td>2005</td>\n",
       "      <td>New HIV infections (per 1000 uninfected popula...</td>\n",
       "      <td>Both sexes</td>\n",
       "      <td>8.14 [5.72-11.24]</td>\n",
       "    </tr>\n",
       "    <tr>\n",
       "      <th>2547</th>\n",
       "      <td>Zimbabwe</td>\n",
       "      <td>2000</td>\n",
       "      <td>New HIV infections (per 1000 uninfected popula...</td>\n",
       "      <td>Both sexes</td>\n",
       "      <td>11.48 [8.06-15.85]</td>\n",
       "    </tr>\n",
       "  </tbody>\n",
       "</table>\n",
       "<p>850 rows × 5 columns</p>\n",
       "</div>"
      ],
      "text/plain": [
       "         Location  Period                                          Indicator  \\\n",
       "0     Afghanistan    2019  New HIV infections (per 1000 uninfected popula...   \n",
       "3     Afghanistan    2015  New HIV infections (per 1000 uninfected popula...   \n",
       "6     Afghanistan    2010  New HIV infections (per 1000 uninfected popula...   \n",
       "9     Afghanistan    2005  New HIV infections (per 1000 uninfected popula...   \n",
       "12    Afghanistan    2000  New HIV infections (per 1000 uninfected popula...   \n",
       "...           ...     ...                                                ...   \n",
       "2535     Zimbabwe    2019  New HIV infections (per 1000 uninfected popula...   \n",
       "2538     Zimbabwe    2015  New HIV infections (per 1000 uninfected popula...   \n",
       "2541     Zimbabwe    2010  New HIV infections (per 1000 uninfected popula...   \n",
       "2544     Zimbabwe    2005  New HIV infections (per 1000 uninfected popula...   \n",
       "2547     Zimbabwe    2000  New HIV infections (per 1000 uninfected popula...   \n",
       "\n",
       "            Dim1       First Tooltip  \n",
       "0     Both sexes    0.04 [0.01-0.15]  \n",
       "3     Both sexes    0.03 [0.01-0.11]  \n",
       "6     Both sexes    0.03 [0.01-0.06]  \n",
       "9     Both sexes                0.02  \n",
       "12    Both sexes                0.01  \n",
       "...          ...                 ...  \n",
       "2535  Both sexes    2.81 [1.97-3.87]  \n",
       "2538  Both sexes     3.91 [2.75-5.4]  \n",
       "2541  Both sexes    6.39 [4.49-8.82]  \n",
       "2544  Both sexes   8.14 [5.72-11.24]  \n",
       "2547  Both sexes  11.48 [8.06-15.85]  \n",
       "\n",
       "[850 rows x 5 columns]"
      ]
     },
     "execution_count": 514,
     "metadata": {},
     "output_type": "execute_result"
    }
   ],
   "source": [
    "hiv_bs = hiv_data[hiv_data['Dim1'] == 'Both sexes']\n",
    "hiv_bs"
   ]
  },
  {
   "cell_type": "markdown",
   "metadata": {},
   "source": [
    "All years are the same, so I picked 2019 and 2015."
   ]
  },
  {
   "cell_type": "code",
   "execution_count": 517,
   "metadata": {},
   "outputs": [
    {
     "data": {
      "text/plain": [
       "array([2019, 2015, 2010, 2005, 2000])"
      ]
     },
     "execution_count": 517,
     "metadata": {},
     "output_type": "execute_result"
    }
   ],
   "source": [
    "hiv_bs['Period'].unique()"
   ]
  },
  {
   "cell_type": "code",
   "execution_count": 518,
   "metadata": {},
   "outputs": [
    {
     "data": {
      "text/plain": [
       "Location         170\n",
       "Period           170\n",
       "Indicator        170\n",
       "Dim1             170\n",
       "First Tooltip    170\n",
       "dtype: int64"
      ]
     },
     "execution_count": 518,
     "metadata": {},
     "output_type": "execute_result"
    }
   ],
   "source": [
    "hiv_bs[hiv_bs['Period'] == 2019].count()"
   ]
  },
  {
   "cell_type": "code",
   "execution_count": 519,
   "metadata": {},
   "outputs": [
    {
     "data": {
      "text/plain": [
       "Location         170\n",
       "Period           170\n",
       "Indicator        170\n",
       "Dim1             170\n",
       "First Tooltip    170\n",
       "dtype: int64"
      ]
     },
     "execution_count": 519,
     "metadata": {},
     "output_type": "execute_result"
    }
   ],
   "source": [
    "hiv_bs[hiv_bs['Period'] == 2015].count()"
   ]
  },
  {
   "cell_type": "code",
   "execution_count": 520,
   "metadata": {},
   "outputs": [
    {
     "data": {
      "text/plain": [
       "Location         170\n",
       "Period           170\n",
       "Indicator        170\n",
       "Dim1             170\n",
       "First Tooltip    170\n",
       "dtype: int64"
      ]
     },
     "execution_count": 520,
     "metadata": {},
     "output_type": "execute_result"
    }
   ],
   "source": [
    "hiv_bs[hiv_bs['Period'] == 2010].count()"
   ]
  },
  {
   "cell_type": "code",
   "execution_count": 521,
   "metadata": {},
   "outputs": [
    {
     "data": {
      "text/plain": [
       "Location         170\n",
       "Period           170\n",
       "Indicator        170\n",
       "Dim1             170\n",
       "First Tooltip    170\n",
       "dtype: int64"
      ]
     },
     "execution_count": 521,
     "metadata": {},
     "output_type": "execute_result"
    }
   ],
   "source": [
    "hiv_bs[hiv_bs['Period'] == 2005].count()"
   ]
  },
  {
   "cell_type": "code",
   "execution_count": 522,
   "metadata": {},
   "outputs": [
    {
     "data": {
      "text/plain": [
       "Location         170\n",
       "Period           170\n",
       "Indicator        170\n",
       "Dim1             170\n",
       "First Tooltip    170\n",
       "dtype: int64"
      ]
     },
     "execution_count": 522,
     "metadata": {},
     "output_type": "execute_result"
    }
   ],
   "source": [
    "hiv_bs[hiv_bs['Period'] == 2000].count()"
   ]
  },
  {
   "cell_type": "markdown",
   "metadata": {},
   "source": [
    "## Dataset to export"
   ]
  },
  {
   "cell_type": "code",
   "execution_count": 523,
   "metadata": {},
   "outputs": [
    {
     "data": {
      "text/html": [
       "<div>\n",
       "<style scoped>\n",
       "    .dataframe tbody tr th:only-of-type {\n",
       "        vertical-align: middle;\n",
       "    }\n",
       "\n",
       "    .dataframe tbody tr th {\n",
       "        vertical-align: top;\n",
       "    }\n",
       "\n",
       "    .dataframe thead th {\n",
       "        text-align: right;\n",
       "    }\n",
       "</style>\n",
       "<table border=\"1\" class=\"dataframe\">\n",
       "  <thead>\n",
       "    <tr style=\"text-align: right;\">\n",
       "      <th></th>\n",
       "      <th>Location</th>\n",
       "      <th>Period</th>\n",
       "      <th>Indicator</th>\n",
       "      <th>Dim1</th>\n",
       "      <th>First Tooltip</th>\n",
       "    </tr>\n",
       "  </thead>\n",
       "  <tbody>\n",
       "    <tr>\n",
       "      <th>0</th>\n",
       "      <td>Afghanistan</td>\n",
       "      <td>2019</td>\n",
       "      <td>New HIV infections (per 1000 uninfected popula...</td>\n",
       "      <td>Both sexes</td>\n",
       "      <td>0.04 [0.01-0.15]</td>\n",
       "    </tr>\n",
       "    <tr>\n",
       "      <th>15</th>\n",
       "      <td>Albania</td>\n",
       "      <td>2019</td>\n",
       "      <td>New HIV infections (per 1000 uninfected popula...</td>\n",
       "      <td>Both sexes</td>\n",
       "      <td>0.03</td>\n",
       "    </tr>\n",
       "    <tr>\n",
       "      <th>30</th>\n",
       "      <td>Algeria</td>\n",
       "      <td>2019</td>\n",
       "      <td>New HIV infections (per 1000 uninfected popula...</td>\n",
       "      <td>Both sexes</td>\n",
       "      <td>0.05 [0.01-0.1]</td>\n",
       "    </tr>\n",
       "    <tr>\n",
       "      <th>45</th>\n",
       "      <td>Angola</td>\n",
       "      <td>2019</td>\n",
       "      <td>New HIV infections (per 1000 uninfected popula...</td>\n",
       "      <td>Both sexes</td>\n",
       "      <td>0.84 [0.59-1.12]</td>\n",
       "    </tr>\n",
       "    <tr>\n",
       "      <th>60</th>\n",
       "      <td>Argentina</td>\n",
       "      <td>2019</td>\n",
       "      <td>New HIV infections (per 1000 uninfected popula...</td>\n",
       "      <td>Both sexes</td>\n",
       "      <td>0.13 [0.1-0.19]</td>\n",
       "    </tr>\n",
       "    <tr>\n",
       "      <th>...</th>\n",
       "      <td>...</td>\n",
       "      <td>...</td>\n",
       "      <td>...</td>\n",
       "      <td>...</td>\n",
       "      <td>...</td>\n",
       "    </tr>\n",
       "    <tr>\n",
       "      <th>2475</th>\n",
       "      <td>Venezuela (Bolivarian Republic of)</td>\n",
       "      <td>2019</td>\n",
       "      <td>New HIV infections (per 1000 uninfected popula...</td>\n",
       "      <td>Both sexes</td>\n",
       "      <td>0.19 [0.12-0.26]</td>\n",
       "    </tr>\n",
       "    <tr>\n",
       "      <th>2490</th>\n",
       "      <td>Viet Nam</td>\n",
       "      <td>2019</td>\n",
       "      <td>New HIV infections (per 1000 uninfected popula...</td>\n",
       "      <td>Both sexes</td>\n",
       "      <td>0.05 [0.05-0.06]</td>\n",
       "    </tr>\n",
       "    <tr>\n",
       "      <th>2505</th>\n",
       "      <td>Yemen</td>\n",
       "      <td>2019</td>\n",
       "      <td>New HIV infections (per 1000 uninfected popula...</td>\n",
       "      <td>Both sexes</td>\n",
       "      <td>0.04 [0.02-0.08]</td>\n",
       "    </tr>\n",
       "    <tr>\n",
       "      <th>2520</th>\n",
       "      <td>Zambia</td>\n",
       "      <td>2019</td>\n",
       "      <td>New HIV infections (per 1000 uninfected popula...</td>\n",
       "      <td>Both sexes</td>\n",
       "      <td>3.17 [2.65-3.88]</td>\n",
       "    </tr>\n",
       "    <tr>\n",
       "      <th>2535</th>\n",
       "      <td>Zimbabwe</td>\n",
       "      <td>2019</td>\n",
       "      <td>New HIV infections (per 1000 uninfected popula...</td>\n",
       "      <td>Both sexes</td>\n",
       "      <td>2.81 [1.97-3.87]</td>\n",
       "    </tr>\n",
       "  </tbody>\n",
       "</table>\n",
       "<p>170 rows × 5 columns</p>\n",
       "</div>"
      ],
      "text/plain": [
       "                                Location  Period  \\\n",
       "0                            Afghanistan    2019   \n",
       "15                               Albania    2019   \n",
       "30                               Algeria    2019   \n",
       "45                                Angola    2019   \n",
       "60                             Argentina    2019   \n",
       "...                                  ...     ...   \n",
       "2475  Venezuela (Bolivarian Republic of)    2019   \n",
       "2490                            Viet Nam    2019   \n",
       "2505                               Yemen    2019   \n",
       "2520                              Zambia    2019   \n",
       "2535                            Zimbabwe    2019   \n",
       "\n",
       "                                              Indicator        Dim1  \\\n",
       "0     New HIV infections (per 1000 uninfected popula...  Both sexes   \n",
       "15    New HIV infections (per 1000 uninfected popula...  Both sexes   \n",
       "30    New HIV infections (per 1000 uninfected popula...  Both sexes   \n",
       "45    New HIV infections (per 1000 uninfected popula...  Both sexes   \n",
       "60    New HIV infections (per 1000 uninfected popula...  Both sexes   \n",
       "...                                                 ...         ...   \n",
       "2475  New HIV infections (per 1000 uninfected popula...  Both sexes   \n",
       "2490  New HIV infections (per 1000 uninfected popula...  Both sexes   \n",
       "2505  New HIV infections (per 1000 uninfected popula...  Both sexes   \n",
       "2520  New HIV infections (per 1000 uninfected popula...  Both sexes   \n",
       "2535  New HIV infections (per 1000 uninfected popula...  Both sexes   \n",
       "\n",
       "         First Tooltip  \n",
       "0     0.04 [0.01-0.15]  \n",
       "15                0.03  \n",
       "30     0.05 [0.01-0.1]  \n",
       "45    0.84 [0.59-1.12]  \n",
       "60     0.13 [0.1-0.19]  \n",
       "...                ...  \n",
       "2475  0.19 [0.12-0.26]  \n",
       "2490  0.05 [0.05-0.06]  \n",
       "2505  0.04 [0.02-0.08]  \n",
       "2520  3.17 [2.65-3.88]  \n",
       "2535  2.81 [1.97-3.87]  \n",
       "\n",
       "[170 rows x 5 columns]"
      ]
     },
     "execution_count": 523,
     "metadata": {},
     "output_type": "execute_result"
    }
   ],
   "source": [
    "hiv_2019 = hiv_bs[hiv_bs['Period'] == 2019]\n",
    "hiv_2019"
   ]
  },
  {
   "cell_type": "markdown",
   "metadata": {},
   "source": [
    "## Dataset to export"
   ]
  },
  {
   "cell_type": "code",
   "execution_count": 524,
   "metadata": {},
   "outputs": [
    {
     "data": {
      "text/html": [
       "<div>\n",
       "<style scoped>\n",
       "    .dataframe tbody tr th:only-of-type {\n",
       "        vertical-align: middle;\n",
       "    }\n",
       "\n",
       "    .dataframe tbody tr th {\n",
       "        vertical-align: top;\n",
       "    }\n",
       "\n",
       "    .dataframe thead th {\n",
       "        text-align: right;\n",
       "    }\n",
       "</style>\n",
       "<table border=\"1\" class=\"dataframe\">\n",
       "  <thead>\n",
       "    <tr style=\"text-align: right;\">\n",
       "      <th></th>\n",
       "      <th>Location</th>\n",
       "      <th>Period</th>\n",
       "      <th>Indicator</th>\n",
       "      <th>Dim1</th>\n",
       "      <th>First Tooltip</th>\n",
       "    </tr>\n",
       "  </thead>\n",
       "  <tbody>\n",
       "    <tr>\n",
       "      <th>3</th>\n",
       "      <td>Afghanistan</td>\n",
       "      <td>2015</td>\n",
       "      <td>New HIV infections (per 1000 uninfected popula...</td>\n",
       "      <td>Both sexes</td>\n",
       "      <td>0.03 [0.01-0.11]</td>\n",
       "    </tr>\n",
       "    <tr>\n",
       "      <th>18</th>\n",
       "      <td>Albania</td>\n",
       "      <td>2015</td>\n",
       "      <td>New HIV infections (per 1000 uninfected popula...</td>\n",
       "      <td>Both sexes</td>\n",
       "      <td>0.04 [0.01-0.08]</td>\n",
       "    </tr>\n",
       "    <tr>\n",
       "      <th>33</th>\n",
       "      <td>Algeria</td>\n",
       "      <td>2015</td>\n",
       "      <td>New HIV infections (per 1000 uninfected popula...</td>\n",
       "      <td>Both sexes</td>\n",
       "      <td>0.05 [0.02-0.07]</td>\n",
       "    </tr>\n",
       "    <tr>\n",
       "      <th>48</th>\n",
       "      <td>Angola</td>\n",
       "      <td>2015</td>\n",
       "      <td>New HIV infections (per 1000 uninfected popula...</td>\n",
       "      <td>Both sexes</td>\n",
       "      <td>0.95 [0.73-1.19]</td>\n",
       "    </tr>\n",
       "    <tr>\n",
       "      <th>63</th>\n",
       "      <td>Argentina</td>\n",
       "      <td>2015</td>\n",
       "      <td>New HIV infections (per 1000 uninfected popula...</td>\n",
       "      <td>Both sexes</td>\n",
       "      <td>0.14 [0.11-0.2]</td>\n",
       "    </tr>\n",
       "    <tr>\n",
       "      <th>...</th>\n",
       "      <td>...</td>\n",
       "      <td>...</td>\n",
       "      <td>...</td>\n",
       "      <td>...</td>\n",
       "      <td>...</td>\n",
       "    </tr>\n",
       "    <tr>\n",
       "      <th>2478</th>\n",
       "      <td>Venezuela (Bolivarian Republic of)</td>\n",
       "      <td>2015</td>\n",
       "      <td>New HIV infections (per 1000 uninfected popula...</td>\n",
       "      <td>Both sexes</td>\n",
       "      <td>0.2 [0.14-0.26]</td>\n",
       "    </tr>\n",
       "    <tr>\n",
       "      <th>2493</th>\n",
       "      <td>Viet Nam</td>\n",
       "      <td>2015</td>\n",
       "      <td>New HIV infections (per 1000 uninfected popula...</td>\n",
       "      <td>Both sexes</td>\n",
       "      <td>0.11 [0.09-0.12]</td>\n",
       "    </tr>\n",
       "    <tr>\n",
       "      <th>2508</th>\n",
       "      <td>Yemen</td>\n",
       "      <td>2015</td>\n",
       "      <td>New HIV infections (per 1000 uninfected popula...</td>\n",
       "      <td>Both sexes</td>\n",
       "      <td>0.04 [0.02-0.07]</td>\n",
       "    </tr>\n",
       "    <tr>\n",
       "      <th>2523</th>\n",
       "      <td>Zambia</td>\n",
       "      <td>2015</td>\n",
       "      <td>New HIV infections (per 1000 uninfected popula...</td>\n",
       "      <td>Both sexes</td>\n",
       "      <td>4.11 [3.45-5.04]</td>\n",
       "    </tr>\n",
       "    <tr>\n",
       "      <th>2538</th>\n",
       "      <td>Zimbabwe</td>\n",
       "      <td>2015</td>\n",
       "      <td>New HIV infections (per 1000 uninfected popula...</td>\n",
       "      <td>Both sexes</td>\n",
       "      <td>3.91 [2.75-5.4]</td>\n",
       "    </tr>\n",
       "  </tbody>\n",
       "</table>\n",
       "<p>170 rows × 5 columns</p>\n",
       "</div>"
      ],
      "text/plain": [
       "                                Location  Period  \\\n",
       "3                            Afghanistan    2015   \n",
       "18                               Albania    2015   \n",
       "33                               Algeria    2015   \n",
       "48                                Angola    2015   \n",
       "63                             Argentina    2015   \n",
       "...                                  ...     ...   \n",
       "2478  Venezuela (Bolivarian Republic of)    2015   \n",
       "2493                            Viet Nam    2015   \n",
       "2508                               Yemen    2015   \n",
       "2523                              Zambia    2015   \n",
       "2538                            Zimbabwe    2015   \n",
       "\n",
       "                                              Indicator        Dim1  \\\n",
       "3     New HIV infections (per 1000 uninfected popula...  Both sexes   \n",
       "18    New HIV infections (per 1000 uninfected popula...  Both sexes   \n",
       "33    New HIV infections (per 1000 uninfected popula...  Both sexes   \n",
       "48    New HIV infections (per 1000 uninfected popula...  Both sexes   \n",
       "63    New HIV infections (per 1000 uninfected popula...  Both sexes   \n",
       "...                                                 ...         ...   \n",
       "2478  New HIV infections (per 1000 uninfected popula...  Both sexes   \n",
       "2493  New HIV infections (per 1000 uninfected popula...  Both sexes   \n",
       "2508  New HIV infections (per 1000 uninfected popula...  Both sexes   \n",
       "2523  New HIV infections (per 1000 uninfected popula...  Both sexes   \n",
       "2538  New HIV infections (per 1000 uninfected popula...  Both sexes   \n",
       "\n",
       "         First Tooltip  \n",
       "3     0.03 [0.01-0.11]  \n",
       "18    0.04 [0.01-0.08]  \n",
       "33    0.05 [0.02-0.07]  \n",
       "48    0.95 [0.73-1.19]  \n",
       "63     0.14 [0.11-0.2]  \n",
       "...                ...  \n",
       "2478   0.2 [0.14-0.26]  \n",
       "2493  0.11 [0.09-0.12]  \n",
       "2508  0.04 [0.02-0.07]  \n",
       "2523  4.11 [3.45-5.04]  \n",
       "2538   3.91 [2.75-5.4]  \n",
       "\n",
       "[170 rows x 5 columns]"
      ]
     },
     "execution_count": 524,
     "metadata": {},
     "output_type": "execute_result"
    }
   ],
   "source": [
    "hiv_2015 = hiv_bs[hiv_bs['Period'] == 2015]\n",
    "hiv_2015"
   ]
  },
  {
   "cell_type": "code",
   "execution_count": null,
   "metadata": {},
   "outputs": [],
   "source": []
  },
  {
   "cell_type": "markdown",
   "metadata": {},
   "source": [
    "## Nursing and Midwife"
   ]
  },
  {
   "cell_type": "code",
   "execution_count": 525,
   "metadata": {},
   "outputs": [
    {
     "data": {
      "text/html": [
       "<div>\n",
       "<style scoped>\n",
       "    .dataframe tbody tr th:only-of-type {\n",
       "        vertical-align: middle;\n",
       "    }\n",
       "\n",
       "    .dataframe tbody tr th {\n",
       "        vertical-align: top;\n",
       "    }\n",
       "\n",
       "    .dataframe thead th {\n",
       "        text-align: right;\n",
       "    }\n",
       "</style>\n",
       "<table border=\"1\" class=\"dataframe\">\n",
       "  <thead>\n",
       "    <tr style=\"text-align: right;\">\n",
       "      <th></th>\n",
       "      <th>Location</th>\n",
       "      <th>Period</th>\n",
       "      <th>Indicator</th>\n",
       "      <th>First Tooltip</th>\n",
       "    </tr>\n",
       "  </thead>\n",
       "  <tbody>\n",
       "    <tr>\n",
       "      <th>0</th>\n",
       "      <td>Afghanistan</td>\n",
       "      <td>2017</td>\n",
       "      <td>Nursing and midwifery personnel (per 10,000)</td>\n",
       "      <td>1.76</td>\n",
       "    </tr>\n",
       "    <tr>\n",
       "      <th>1</th>\n",
       "      <td>Afghanistan</td>\n",
       "      <td>2016</td>\n",
       "      <td>Nursing and midwifery personnel (per 10,000)</td>\n",
       "      <td>1.48</td>\n",
       "    </tr>\n",
       "    <tr>\n",
       "      <th>2</th>\n",
       "      <td>Afghanistan</td>\n",
       "      <td>2015</td>\n",
       "      <td>Nursing and midwifery personnel (per 10,000)</td>\n",
       "      <td>1.30</td>\n",
       "    </tr>\n",
       "    <tr>\n",
       "      <th>3</th>\n",
       "      <td>Afghanistan</td>\n",
       "      <td>2014</td>\n",
       "      <td>Nursing and midwifery personnel (per 10,000)</td>\n",
       "      <td>1.48</td>\n",
       "    </tr>\n",
       "    <tr>\n",
       "      <th>4</th>\n",
       "      <td>Afghanistan</td>\n",
       "      <td>2013</td>\n",
       "      <td>Nursing and midwifery personnel (per 10,000)</td>\n",
       "      <td>2.50</td>\n",
       "    </tr>\n",
       "    <tr>\n",
       "      <th>...</th>\n",
       "      <td>...</td>\n",
       "      <td>...</td>\n",
       "      <td>...</td>\n",
       "      <td>...</td>\n",
       "    </tr>\n",
       "    <tr>\n",
       "      <th>2582</th>\n",
       "      <td>Zimbabwe</td>\n",
       "      <td>2011</td>\n",
       "      <td>Nursing and midwifery personnel (per 10,000)</td>\n",
       "      <td>13.20</td>\n",
       "    </tr>\n",
       "    <tr>\n",
       "      <th>2583</th>\n",
       "      <td>Zimbabwe</td>\n",
       "      <td>2010</td>\n",
       "      <td>Nursing and midwifery personnel (per 10,000)</td>\n",
       "      <td>8.29</td>\n",
       "    </tr>\n",
       "    <tr>\n",
       "      <th>2584</th>\n",
       "      <td>Zimbabwe</td>\n",
       "      <td>2009</td>\n",
       "      <td>Nursing and midwifery personnel (per 10,000)</td>\n",
       "      <td>9.49</td>\n",
       "    </tr>\n",
       "    <tr>\n",
       "      <th>2585</th>\n",
       "      <td>Zimbabwe</td>\n",
       "      <td>1995</td>\n",
       "      <td>Nursing and midwifery personnel (per 10,000)</td>\n",
       "      <td>15.27</td>\n",
       "    </tr>\n",
       "    <tr>\n",
       "      <th>2586</th>\n",
       "      <td>Zimbabwe</td>\n",
       "      <td>1990</td>\n",
       "      <td>Nursing and midwifery personnel (per 10,000)</td>\n",
       "      <td>14.54</td>\n",
       "    </tr>\n",
       "  </tbody>\n",
       "</table>\n",
       "<p>2587 rows × 4 columns</p>\n",
       "</div>"
      ],
      "text/plain": [
       "         Location  Period                                     Indicator  \\\n",
       "0     Afghanistan    2017  Nursing and midwifery personnel (per 10,000)   \n",
       "1     Afghanistan    2016  Nursing and midwifery personnel (per 10,000)   \n",
       "2     Afghanistan    2015  Nursing and midwifery personnel (per 10,000)   \n",
       "3     Afghanistan    2014  Nursing and midwifery personnel (per 10,000)   \n",
       "4     Afghanistan    2013  Nursing and midwifery personnel (per 10,000)   \n",
       "...           ...     ...                                           ...   \n",
       "2582     Zimbabwe    2011  Nursing and midwifery personnel (per 10,000)   \n",
       "2583     Zimbabwe    2010  Nursing and midwifery personnel (per 10,000)   \n",
       "2584     Zimbabwe    2009  Nursing and midwifery personnel (per 10,000)   \n",
       "2585     Zimbabwe    1995  Nursing and midwifery personnel (per 10,000)   \n",
       "2586     Zimbabwe    1990  Nursing and midwifery personnel (per 10,000)   \n",
       "\n",
       "      First Tooltip  \n",
       "0              1.76  \n",
       "1              1.48  \n",
       "2              1.30  \n",
       "3              1.48  \n",
       "4              2.50  \n",
       "...             ...  \n",
       "2582          13.20  \n",
       "2583           8.29  \n",
       "2584           9.49  \n",
       "2585          15.27  \n",
       "2586          14.54  \n",
       "\n",
       "[2587 rows x 4 columns]"
      ]
     },
     "execution_count": 525,
     "metadata": {},
     "output_type": "execute_result"
    }
   ],
   "source": [
    "midwife_data = pd.read_csv(WHS_path/'nursingAndMidwife.csv')\n",
    "midwife_data"
   ]
  },
  {
   "cell_type": "code",
   "execution_count": 526,
   "metadata": {},
   "outputs": [
    {
     "data": {
      "text/plain": [
       "Location         2587\n",
       "Period           2587\n",
       "Indicator        2587\n",
       "First Tooltip    2587\n",
       "dtype: int64"
      ]
     },
     "execution_count": 526,
     "metadata": {},
     "output_type": "execute_result"
    }
   ],
   "source": [
    "midwife_data.isnull().count()"
   ]
  },
  {
   "cell_type": "code",
   "execution_count": 527,
   "metadata": {},
   "outputs": [
    {
     "data": {
      "text/html": [
       "<div>\n",
       "<style scoped>\n",
       "    .dataframe tbody tr th:only-of-type {\n",
       "        vertical-align: middle;\n",
       "    }\n",
       "\n",
       "    .dataframe tbody tr th {\n",
       "        vertical-align: top;\n",
       "    }\n",
       "\n",
       "    .dataframe thead th {\n",
       "        text-align: right;\n",
       "    }\n",
       "</style>\n",
       "<table border=\"1\" class=\"dataframe\">\n",
       "  <thead>\n",
       "    <tr style=\"text-align: right;\">\n",
       "      <th></th>\n",
       "      <th>Location</th>\n",
       "      <th>Period</th>\n",
       "      <th>Indicator</th>\n",
       "      <th>First Tooltip</th>\n",
       "    </tr>\n",
       "  </thead>\n",
       "  <tbody>\n",
       "  </tbody>\n",
       "</table>\n",
       "</div>"
      ],
      "text/plain": [
       "Empty DataFrame\n",
       "Columns: [Location, Period, Indicator, First Tooltip]\n",
       "Index: []"
      ]
     },
     "execution_count": 527,
     "metadata": {},
     "output_type": "execute_result"
    }
   ],
   "source": [
    "midwife_data[midwife_data['First Tooltip'] == 0.0]"
   ]
  },
  {
   "cell_type": "code",
   "execution_count": 528,
   "metadata": {},
   "outputs": [
    {
     "data": {
      "text/plain": [
       "array(['Nursing and midwifery personnel (per 10,000)'], dtype=object)"
      ]
     },
     "execution_count": 528,
     "metadata": {},
     "output_type": "execute_result"
    }
   ],
   "source": [
    "midwife_data['Indicator'].unique()"
   ]
  },
  {
   "cell_type": "markdown",
   "metadata": {},
   "source": [
    "Ignored the years before 2000. I picked 2014 and 2013"
   ]
  },
  {
   "cell_type": "code",
   "execution_count": 529,
   "metadata": {},
   "outputs": [
    {
     "data": {
      "text/plain": [
       "array([2017, 2016, 2015, 2014, 2013, 2009, 2008, 2007, 2006, 2005, 2012,\n",
       "       2011, 2010, 2004, 2003, 2002, 2001, 2000, 1999, 1998, 1997, 1996,\n",
       "       1995, 1994, 1993, 1990, 2018, 1992, 1991])"
      ]
     },
     "execution_count": 529,
     "metadata": {},
     "output_type": "execute_result"
    }
   ],
   "source": [
    "midwife_data['Period'].unique()"
   ]
  },
  {
   "cell_type": "code",
   "execution_count": 531,
   "metadata": {},
   "outputs": [
    {
     "data": {
      "text/plain": [
       "Location         131\n",
       "Period           131\n",
       "Indicator        131\n",
       "First Tooltip    131\n",
       "dtype: int64"
      ]
     },
     "execution_count": 531,
     "metadata": {},
     "output_type": "execute_result"
    }
   ],
   "source": [
    "midwife_data[midwife_data['Period'] == 2017].count()"
   ]
  },
  {
   "cell_type": "code",
   "execution_count": 532,
   "metadata": {},
   "outputs": [
    {
     "data": {
      "text/plain": [
       "Location         127\n",
       "Period           127\n",
       "Indicator        127\n",
       "First Tooltip    127\n",
       "dtype: int64"
      ]
     },
     "execution_count": 532,
     "metadata": {},
     "output_type": "execute_result"
    }
   ],
   "source": [
    "midwife_data[midwife_data['Period'] == 2016].count()"
   ]
  },
  {
   "cell_type": "code",
   "execution_count": 533,
   "metadata": {},
   "outputs": [
    {
     "data": {
      "text/plain": [
       "Location         133\n",
       "Period           133\n",
       "Indicator        133\n",
       "First Tooltip    133\n",
       "dtype: int64"
      ]
     },
     "execution_count": 533,
     "metadata": {},
     "output_type": "execute_result"
    }
   ],
   "source": [
    "midwife_data[midwife_data['Period'] == 2015].count()"
   ]
  },
  {
   "cell_type": "code",
   "execution_count": 534,
   "metadata": {},
   "outputs": [
    {
     "data": {
      "text/plain": [
       "Location         140\n",
       "Period           140\n",
       "Indicator        140\n",
       "First Tooltip    140\n",
       "dtype: int64"
      ]
     },
     "execution_count": 534,
     "metadata": {},
     "output_type": "execute_result"
    }
   ],
   "source": [
    "midwife_data[midwife_data['Period'] == 2014].count()"
   ]
  },
  {
   "cell_type": "code",
   "execution_count": 535,
   "metadata": {},
   "outputs": [
    {
     "data": {
      "text/plain": [
       "Location         157\n",
       "Period           157\n",
       "Indicator        157\n",
       "First Tooltip    157\n",
       "dtype: int64"
      ]
     },
     "execution_count": 535,
     "metadata": {},
     "output_type": "execute_result"
    }
   ],
   "source": [
    "midwife_data[midwife_data['Period'] == 2013].count()"
   ]
  },
  {
   "cell_type": "code",
   "execution_count": 536,
   "metadata": {},
   "outputs": [
    {
     "data": {
      "text/plain": [
       "Location         108\n",
       "Period           108\n",
       "Indicator        108\n",
       "First Tooltip    108\n",
       "dtype: int64"
      ]
     },
     "execution_count": 536,
     "metadata": {},
     "output_type": "execute_result"
    }
   ],
   "source": [
    "midwife_data[midwife_data['Period'] == 2012].count()"
   ]
  },
  {
   "cell_type": "code",
   "execution_count": 537,
   "metadata": {},
   "outputs": [
    {
     "data": {
      "text/plain": [
       "Location         110\n",
       "Period           110\n",
       "Indicator        110\n",
       "First Tooltip    110\n",
       "dtype: int64"
      ]
     },
     "execution_count": 537,
     "metadata": {},
     "output_type": "execute_result"
    }
   ],
   "source": [
    "midwife_data[midwife_data['Period'] == 2011].count()"
   ]
  },
  {
   "cell_type": "code",
   "execution_count": 538,
   "metadata": {},
   "outputs": [
    {
     "data": {
      "text/plain": [
       "Location         126\n",
       "Period           126\n",
       "Indicator        126\n",
       "First Tooltip    126\n",
       "dtype: int64"
      ]
     },
     "execution_count": 538,
     "metadata": {},
     "output_type": "execute_result"
    }
   ],
   "source": [
    "midwife_data[midwife_data['Period'] == 2010].count()"
   ]
  },
  {
   "cell_type": "code",
   "execution_count": 539,
   "metadata": {},
   "outputs": [
    {
     "data": {
      "text/plain": [
       "Location         129\n",
       "Period           129\n",
       "Indicator        129\n",
       "First Tooltip    129\n",
       "dtype: int64"
      ]
     },
     "execution_count": 539,
     "metadata": {},
     "output_type": "execute_result"
    }
   ],
   "source": [
    "midwife_data[midwife_data['Period'] == 2009].count()"
   ]
  },
  {
   "cell_type": "code",
   "execution_count": 549,
   "metadata": {},
   "outputs": [
    {
     "data": {
      "text/plain": [
       "Location         125\n",
       "Period           125\n",
       "Indicator        125\n",
       "First Tooltip    125\n",
       "dtype: int64"
      ]
     },
     "execution_count": 549,
     "metadata": {},
     "output_type": "execute_result"
    }
   ],
   "source": [
    "midwife_data[midwife_data['Period'] == 2008].count()"
   ]
  },
  {
   "cell_type": "code",
   "execution_count": 541,
   "metadata": {},
   "outputs": [
    {
     "data": {
      "text/plain": [
       "Location         104\n",
       "Period           104\n",
       "Indicator        104\n",
       "First Tooltip    104\n",
       "dtype: int64"
      ]
     },
     "execution_count": 541,
     "metadata": {},
     "output_type": "execute_result"
    }
   ],
   "source": [
    "midwife_data[midwife_data['Period'] == 2007].count()"
   ]
  },
  {
   "cell_type": "code",
   "execution_count": 542,
   "metadata": {},
   "outputs": [
    {
     "data": {
      "text/plain": [
       "Location         100\n",
       "Period           100\n",
       "Indicator        100\n",
       "First Tooltip    100\n",
       "dtype: int64"
      ]
     },
     "execution_count": 542,
     "metadata": {},
     "output_type": "execute_result"
    }
   ],
   "source": [
    "midwife_data[midwife_data['Period'] == 2006].count()"
   ]
  },
  {
   "cell_type": "code",
   "execution_count": 543,
   "metadata": {},
   "outputs": [
    {
     "data": {
      "text/plain": [
       "Location         99\n",
       "Period           99\n",
       "Indicator        99\n",
       "First Tooltip    99\n",
       "dtype: int64"
      ]
     },
     "execution_count": 543,
     "metadata": {},
     "output_type": "execute_result"
    }
   ],
   "source": [
    "midwife_data[midwife_data['Period'] == 2005].count()"
   ]
  },
  {
   "cell_type": "code",
   "execution_count": 544,
   "metadata": {},
   "outputs": [
    {
     "data": {
      "text/plain": [
       "Location         127\n",
       "Period           127\n",
       "Indicator        127\n",
       "First Tooltip    127\n",
       "dtype: int64"
      ]
     },
     "execution_count": 544,
     "metadata": {},
     "output_type": "execute_result"
    }
   ],
   "source": [
    "midwife_data[midwife_data['Period'] == 2004].count()"
   ]
  },
  {
   "cell_type": "code",
   "execution_count": 545,
   "metadata": {},
   "outputs": [
    {
     "data": {
      "text/plain": [
       "Location         84\n",
       "Period           84\n",
       "Indicator        84\n",
       "First Tooltip    84\n",
       "dtype: int64"
      ]
     },
     "execution_count": 545,
     "metadata": {},
     "output_type": "execute_result"
    }
   ],
   "source": [
    "midwife_data[midwife_data['Period'] == 2003].count()"
   ]
  },
  {
   "cell_type": "code",
   "execution_count": 546,
   "metadata": {},
   "outputs": [
    {
     "data": {
      "text/plain": [
       "Location         79\n",
       "Period           79\n",
       "Indicator        79\n",
       "First Tooltip    79\n",
       "dtype: int64"
      ]
     },
     "execution_count": 546,
     "metadata": {},
     "output_type": "execute_result"
    }
   ],
   "source": [
    "midwife_data[midwife_data['Period'] == 2002].count()"
   ]
  },
  {
   "cell_type": "code",
   "execution_count": 547,
   "metadata": {},
   "outputs": [
    {
     "data": {
      "text/plain": [
       "Location         78\n",
       "Period           78\n",
       "Indicator        78\n",
       "First Tooltip    78\n",
       "dtype: int64"
      ]
     },
     "execution_count": 547,
     "metadata": {},
     "output_type": "execute_result"
    }
   ],
   "source": [
    "midwife_data[midwife_data['Period'] == 2001].count()"
   ]
  },
  {
   "cell_type": "code",
   "execution_count": 548,
   "metadata": {},
   "outputs": [
    {
     "data": {
      "text/plain": [
       "Location         82\n",
       "Period           82\n",
       "Indicator        82\n",
       "First Tooltip    82\n",
       "dtype: int64"
      ]
     },
     "execution_count": 548,
     "metadata": {},
     "output_type": "execute_result"
    }
   ],
   "source": [
    "midwife_data[midwife_data['Period'] == 2000].count()"
   ]
  },
  {
   "cell_type": "markdown",
   "metadata": {},
   "source": [
    "## Dataset to export"
   ]
  },
  {
   "cell_type": "code",
   "execution_count": 550,
   "metadata": {},
   "outputs": [
    {
     "data": {
      "text/html": [
       "<div>\n",
       "<style scoped>\n",
       "    .dataframe tbody tr th:only-of-type {\n",
       "        vertical-align: middle;\n",
       "    }\n",
       "\n",
       "    .dataframe tbody tr th {\n",
       "        vertical-align: top;\n",
       "    }\n",
       "\n",
       "    .dataframe thead th {\n",
       "        text-align: right;\n",
       "    }\n",
       "</style>\n",
       "<table border=\"1\" class=\"dataframe\">\n",
       "  <thead>\n",
       "    <tr style=\"text-align: right;\">\n",
       "      <th></th>\n",
       "      <th>Location</th>\n",
       "      <th>Period</th>\n",
       "      <th>Indicator</th>\n",
       "      <th>First Tooltip</th>\n",
       "    </tr>\n",
       "  </thead>\n",
       "  <tbody>\n",
       "    <tr>\n",
       "      <th>3</th>\n",
       "      <td>Afghanistan</td>\n",
       "      <td>2014</td>\n",
       "      <td>Nursing and midwifery personnel (per 10,000)</td>\n",
       "      <td>1.48</td>\n",
       "    </tr>\n",
       "    <tr>\n",
       "      <th>35</th>\n",
       "      <td>Algeria</td>\n",
       "      <td>2014</td>\n",
       "      <td>Nursing and midwifery personnel (per 10,000)</td>\n",
       "      <td>2.86</td>\n",
       "    </tr>\n",
       "    <tr>\n",
       "      <th>61</th>\n",
       "      <td>Antigua and Barbuda</td>\n",
       "      <td>2014</td>\n",
       "      <td>Nursing and midwifery personnel (per 10,000)</td>\n",
       "      <td>46.87</td>\n",
       "    </tr>\n",
       "    <tr>\n",
       "      <th>75</th>\n",
       "      <td>Armenia</td>\n",
       "      <td>2014</td>\n",
       "      <td>Nursing and midwifery personnel (per 10,000)</td>\n",
       "      <td>51.55</td>\n",
       "    </tr>\n",
       "    <tr>\n",
       "      <th>93</th>\n",
       "      <td>Australia</td>\n",
       "      <td>2014</td>\n",
       "      <td>Nursing and midwifery personnel (per 10,000)</td>\n",
       "      <td>121.10</td>\n",
       "    </tr>\n",
       "    <tr>\n",
       "      <th>...</th>\n",
       "      <td>...</td>\n",
       "      <td>...</td>\n",
       "      <td>...</td>\n",
       "      <td>...</td>\n",
       "    </tr>\n",
       "    <tr>\n",
       "      <th>2500</th>\n",
       "      <td>United Republic of Tanzania</td>\n",
       "      <td>2014</td>\n",
       "      <td>Nursing and midwifery personnel (per 10,000)</td>\n",
       "      <td>4.31</td>\n",
       "    </tr>\n",
       "    <tr>\n",
       "      <th>2510</th>\n",
       "      <td>Uzbekistan</td>\n",
       "      <td>2014</td>\n",
       "      <td>Nursing and midwifery personnel (per 10,000)</td>\n",
       "      <td>112.80</td>\n",
       "    </tr>\n",
       "    <tr>\n",
       "      <th>2546</th>\n",
       "      <td>Viet Nam</td>\n",
       "      <td>2014</td>\n",
       "      <td>Nursing and midwifery personnel (per 10,000)</td>\n",
       "      <td>14.30</td>\n",
       "    </tr>\n",
       "    <tr>\n",
       "      <th>2561</th>\n",
       "      <td>Yemen</td>\n",
       "      <td>2014</td>\n",
       "      <td>Nursing and midwifery personnel (per 10,000)</td>\n",
       "      <td>8.79</td>\n",
       "    </tr>\n",
       "    <tr>\n",
       "      <th>2579</th>\n",
       "      <td>Zimbabwe</td>\n",
       "      <td>2014</td>\n",
       "      <td>Nursing and midwifery personnel (per 10,000)</td>\n",
       "      <td>15.37</td>\n",
       "    </tr>\n",
       "  </tbody>\n",
       "</table>\n",
       "<p>140 rows × 4 columns</p>\n",
       "</div>"
      ],
      "text/plain": [
       "                         Location  Period  \\\n",
       "3                     Afghanistan    2014   \n",
       "35                        Algeria    2014   \n",
       "61            Antigua and Barbuda    2014   \n",
       "75                        Armenia    2014   \n",
       "93                      Australia    2014   \n",
       "...                           ...     ...   \n",
       "2500  United Republic of Tanzania    2014   \n",
       "2510                   Uzbekistan    2014   \n",
       "2546                     Viet Nam    2014   \n",
       "2561                        Yemen    2014   \n",
       "2579                     Zimbabwe    2014   \n",
       "\n",
       "                                         Indicator  First Tooltip  \n",
       "3     Nursing and midwifery personnel (per 10,000)           1.48  \n",
       "35    Nursing and midwifery personnel (per 10,000)           2.86  \n",
       "61    Nursing and midwifery personnel (per 10,000)          46.87  \n",
       "75    Nursing and midwifery personnel (per 10,000)          51.55  \n",
       "93    Nursing and midwifery personnel (per 10,000)         121.10  \n",
       "...                                            ...            ...  \n",
       "2500  Nursing and midwifery personnel (per 10,000)           4.31  \n",
       "2510  Nursing and midwifery personnel (per 10,000)         112.80  \n",
       "2546  Nursing and midwifery personnel (per 10,000)          14.30  \n",
       "2561  Nursing and midwifery personnel (per 10,000)           8.79  \n",
       "2579  Nursing and midwifery personnel (per 10,000)          15.37  \n",
       "\n",
       "[140 rows x 4 columns]"
      ]
     },
     "execution_count": 550,
     "metadata": {},
     "output_type": "execute_result"
    }
   ],
   "source": [
    "midwife_2014 = midwife_data[midwife_data['Period'] == 2014]\n",
    "midwife_2014"
   ]
  },
  {
   "cell_type": "markdown",
   "metadata": {},
   "source": [
    "## Dataset to export"
   ]
  },
  {
   "cell_type": "code",
   "execution_count": 551,
   "metadata": {},
   "outputs": [
    {
     "data": {
      "text/html": [
       "<div>\n",
       "<style scoped>\n",
       "    .dataframe tbody tr th:only-of-type {\n",
       "        vertical-align: middle;\n",
       "    }\n",
       "\n",
       "    .dataframe tbody tr th {\n",
       "        vertical-align: top;\n",
       "    }\n",
       "\n",
       "    .dataframe thead th {\n",
       "        text-align: right;\n",
       "    }\n",
       "</style>\n",
       "<table border=\"1\" class=\"dataframe\">\n",
       "  <thead>\n",
       "    <tr style=\"text-align: right;\">\n",
       "      <th></th>\n",
       "      <th>Location</th>\n",
       "      <th>Period</th>\n",
       "      <th>Indicator</th>\n",
       "      <th>First Tooltip</th>\n",
       "    </tr>\n",
       "  </thead>\n",
       "  <tbody>\n",
       "    <tr>\n",
       "      <th>4</th>\n",
       "      <td>Afghanistan</td>\n",
       "      <td>2013</td>\n",
       "      <td>Nursing and midwifery personnel (per 10,000)</td>\n",
       "      <td>2.500</td>\n",
       "    </tr>\n",
       "    <tr>\n",
       "      <th>11</th>\n",
       "      <td>Albania</td>\n",
       "      <td>2013</td>\n",
       "      <td>Nursing and midwifery personnel (per 10,000)</td>\n",
       "      <td>42.890</td>\n",
       "    </tr>\n",
       "    <tr>\n",
       "      <th>53</th>\n",
       "      <td>Angola</td>\n",
       "      <td>2013</td>\n",
       "      <td>Nursing and midwifery personnel (per 10,000)</td>\n",
       "      <td>0.012</td>\n",
       "    </tr>\n",
       "    <tr>\n",
       "      <th>62</th>\n",
       "      <td>Antigua and Barbuda</td>\n",
       "      <td>2013</td>\n",
       "      <td>Nursing and midwifery personnel (per 10,000)</td>\n",
       "      <td>46.010</td>\n",
       "    </tr>\n",
       "    <tr>\n",
       "      <th>67</th>\n",
       "      <td>Argentina</td>\n",
       "      <td>2013</td>\n",
       "      <td>Nursing and midwifery personnel (per 10,000)</td>\n",
       "      <td>42.460</td>\n",
       "    </tr>\n",
       "    <tr>\n",
       "      <th>...</th>\n",
       "      <td>...</td>\n",
       "      <td>...</td>\n",
       "      <td>...</td>\n",
       "      <td>...</td>\n",
       "    </tr>\n",
       "    <tr>\n",
       "      <th>2511</th>\n",
       "      <td>Uzbekistan</td>\n",
       "      <td>2013</td>\n",
       "      <td>Nursing and midwifery personnel (per 10,000)</td>\n",
       "      <td>115.600</td>\n",
       "    </tr>\n",
       "    <tr>\n",
       "      <th>2547</th>\n",
       "      <td>Viet Nam</td>\n",
       "      <td>2013</td>\n",
       "      <td>Nursing and midwifery personnel (per 10,000)</td>\n",
       "      <td>2.870</td>\n",
       "    </tr>\n",
       "    <tr>\n",
       "      <th>2562</th>\n",
       "      <td>Yemen</td>\n",
       "      <td>2013</td>\n",
       "      <td>Nursing and midwifery personnel (per 10,000)</td>\n",
       "      <td>8.650</td>\n",
       "    </tr>\n",
       "    <tr>\n",
       "      <th>2569</th>\n",
       "      <td>Zambia</td>\n",
       "      <td>2013</td>\n",
       "      <td>Nursing and midwifery personnel (per 10,000)</td>\n",
       "      <td>1.860</td>\n",
       "    </tr>\n",
       "    <tr>\n",
       "      <th>2580</th>\n",
       "      <td>Zimbabwe</td>\n",
       "      <td>2013</td>\n",
       "      <td>Nursing and midwifery personnel (per 10,000)</td>\n",
       "      <td>14.020</td>\n",
       "    </tr>\n",
       "  </tbody>\n",
       "</table>\n",
       "<p>157 rows × 4 columns</p>\n",
       "</div>"
      ],
      "text/plain": [
       "                 Location  Period  \\\n",
       "4             Afghanistan    2013   \n",
       "11                Albania    2013   \n",
       "53                 Angola    2013   \n",
       "62    Antigua and Barbuda    2013   \n",
       "67              Argentina    2013   \n",
       "...                   ...     ...   \n",
       "2511           Uzbekistan    2013   \n",
       "2547             Viet Nam    2013   \n",
       "2562                Yemen    2013   \n",
       "2569               Zambia    2013   \n",
       "2580             Zimbabwe    2013   \n",
       "\n",
       "                                         Indicator  First Tooltip  \n",
       "4     Nursing and midwifery personnel (per 10,000)          2.500  \n",
       "11    Nursing and midwifery personnel (per 10,000)         42.890  \n",
       "53    Nursing and midwifery personnel (per 10,000)          0.012  \n",
       "62    Nursing and midwifery personnel (per 10,000)         46.010  \n",
       "67    Nursing and midwifery personnel (per 10,000)         42.460  \n",
       "...                                            ...            ...  \n",
       "2511  Nursing and midwifery personnel (per 10,000)        115.600  \n",
       "2547  Nursing and midwifery personnel (per 10,000)          2.870  \n",
       "2562  Nursing and midwifery personnel (per 10,000)          8.650  \n",
       "2569  Nursing and midwifery personnel (per 10,000)          1.860  \n",
       "2580  Nursing and midwifery personnel (per 10,000)         14.020  \n",
       "\n",
       "[157 rows x 4 columns]"
      ]
     },
     "execution_count": 551,
     "metadata": {},
     "output_type": "execute_result"
    }
   ],
   "source": [
    "midwife_2013 = midwife_data[midwife_data['Period'] == 2013]\n",
    "midwife_2013"
   ]
  },
  {
   "cell_type": "code",
   "execution_count": null,
   "metadata": {},
   "outputs": [],
   "source": []
  },
  {
   "cell_type": "markdown",
   "metadata": {},
   "source": [
    "## Healthy Life Expectancy at Birth by Region - IGNORE"
   ]
  },
  {
   "cell_type": "code",
   "execution_count": null,
   "metadata": {},
   "outputs": [],
   "source": []
  },
  {
   "cell_type": "markdown",
   "metadata": {},
   "source": [
    "## Pharmacists"
   ]
  },
  {
   "cell_type": "code",
   "execution_count": 552,
   "metadata": {},
   "outputs": [
    {
     "data": {
      "text/html": [
       "<div>\n",
       "<style scoped>\n",
       "    .dataframe tbody tr th:only-of-type {\n",
       "        vertical-align: middle;\n",
       "    }\n",
       "\n",
       "    .dataframe tbody tr th {\n",
       "        vertical-align: top;\n",
       "    }\n",
       "\n",
       "    .dataframe thead th {\n",
       "        text-align: right;\n",
       "    }\n",
       "</style>\n",
       "<table border=\"1\" class=\"dataframe\">\n",
       "  <thead>\n",
       "    <tr style=\"text-align: right;\">\n",
       "      <th></th>\n",
       "      <th>Location</th>\n",
       "      <th>Period</th>\n",
       "      <th>Indicator</th>\n",
       "      <th>First Tooltip</th>\n",
       "    </tr>\n",
       "  </thead>\n",
       "  <tbody>\n",
       "    <tr>\n",
       "      <th>0</th>\n",
       "      <td>Afghanistan</td>\n",
       "      <td>2016</td>\n",
       "      <td>Pharmacists  (per 10,000)</td>\n",
       "      <td>0.470</td>\n",
       "    </tr>\n",
       "    <tr>\n",
       "      <th>1</th>\n",
       "      <td>Afghanistan</td>\n",
       "      <td>2015</td>\n",
       "      <td>Pharmacists  (per 10,000)</td>\n",
       "      <td>0.500</td>\n",
       "    </tr>\n",
       "    <tr>\n",
       "      <th>2</th>\n",
       "      <td>Afghanistan</td>\n",
       "      <td>2014</td>\n",
       "      <td>Pharmacists  (per 10,000)</td>\n",
       "      <td>0.510</td>\n",
       "    </tr>\n",
       "    <tr>\n",
       "      <th>3</th>\n",
       "      <td>Afghanistan</td>\n",
       "      <td>2012</td>\n",
       "      <td>Pharmacists  (per 10,000)</td>\n",
       "      <td>0.270</td>\n",
       "    </tr>\n",
       "    <tr>\n",
       "      <th>4</th>\n",
       "      <td>Afghanistan</td>\n",
       "      <td>2011</td>\n",
       "      <td>Pharmacists  (per 10,000)</td>\n",
       "      <td>0.280</td>\n",
       "    </tr>\n",
       "    <tr>\n",
       "      <th>...</th>\n",
       "      <td>...</td>\n",
       "      <td>...</td>\n",
       "      <td>...</td>\n",
       "      <td>...</td>\n",
       "    </tr>\n",
       "    <tr>\n",
       "      <th>1790</th>\n",
       "      <td>Zimbabwe</td>\n",
       "      <td>2010</td>\n",
       "      <td>Pharmacists  (per 10,000)</td>\n",
       "      <td>0.043</td>\n",
       "    </tr>\n",
       "    <tr>\n",
       "      <th>1791</th>\n",
       "      <td>Zimbabwe</td>\n",
       "      <td>2009</td>\n",
       "      <td>Pharmacists  (per 10,000)</td>\n",
       "      <td>0.540</td>\n",
       "    </tr>\n",
       "    <tr>\n",
       "      <th>1792</th>\n",
       "      <td>Zimbabwe</td>\n",
       "      <td>2004</td>\n",
       "      <td>Pharmacists  (per 10,000)</td>\n",
       "      <td>0.500</td>\n",
       "    </tr>\n",
       "    <tr>\n",
       "      <th>1793</th>\n",
       "      <td>Zimbabwe</td>\n",
       "      <td>1995</td>\n",
       "      <td>Pharmacists  (per 10,000)</td>\n",
       "      <td>0.440</td>\n",
       "    </tr>\n",
       "    <tr>\n",
       "      <th>1794</th>\n",
       "      <td>Zimbabwe</td>\n",
       "      <td>1990</td>\n",
       "      <td>Pharmacists  (per 10,000)</td>\n",
       "      <td>0.330</td>\n",
       "    </tr>\n",
       "  </tbody>\n",
       "</table>\n",
       "<p>1795 rows × 4 columns</p>\n",
       "</div>"
      ],
      "text/plain": [
       "         Location  Period                  Indicator  First Tooltip\n",
       "0     Afghanistan    2016  Pharmacists  (per 10,000)          0.470\n",
       "1     Afghanistan    2015  Pharmacists  (per 10,000)          0.500\n",
       "2     Afghanistan    2014  Pharmacists  (per 10,000)          0.510\n",
       "3     Afghanistan    2012  Pharmacists  (per 10,000)          0.270\n",
       "4     Afghanistan    2011  Pharmacists  (per 10,000)          0.280\n",
       "...           ...     ...                        ...            ...\n",
       "1790     Zimbabwe    2010  Pharmacists  (per 10,000)          0.043\n",
       "1791     Zimbabwe    2009  Pharmacists  (per 10,000)          0.540\n",
       "1792     Zimbabwe    2004  Pharmacists  (per 10,000)          0.500\n",
       "1793     Zimbabwe    1995  Pharmacists  (per 10,000)          0.440\n",
       "1794     Zimbabwe    1990  Pharmacists  (per 10,000)          0.330\n",
       "\n",
       "[1795 rows x 4 columns]"
      ]
     },
     "execution_count": 552,
     "metadata": {},
     "output_type": "execute_result"
    }
   ],
   "source": [
    "pharma_data = pd.read_csv(WHS_path/'pharmacists.csv')\n",
    "pharma_data"
   ]
  },
  {
   "cell_type": "code",
   "execution_count": 553,
   "metadata": {},
   "outputs": [
    {
     "data": {
      "text/plain": [
       "Location         1795\n",
       "Period           1795\n",
       "Indicator        1795\n",
       "First Tooltip    1795\n",
       "dtype: int64"
      ]
     },
     "execution_count": 553,
     "metadata": {},
     "output_type": "execute_result"
    }
   ],
   "source": [
    "pharma_data.isnull().count()"
   ]
  },
  {
   "cell_type": "code",
   "execution_count": 555,
   "metadata": {},
   "outputs": [
    {
     "data": {
      "text/html": [
       "<div>\n",
       "<style scoped>\n",
       "    .dataframe tbody tr th:only-of-type {\n",
       "        vertical-align: middle;\n",
       "    }\n",
       "\n",
       "    .dataframe tbody tr th {\n",
       "        vertical-align: top;\n",
       "    }\n",
       "\n",
       "    .dataframe thead th {\n",
       "        text-align: right;\n",
       "    }\n",
       "</style>\n",
       "<table border=\"1\" class=\"dataframe\">\n",
       "  <thead>\n",
       "    <tr style=\"text-align: right;\">\n",
       "      <th></th>\n",
       "      <th>Location</th>\n",
       "      <th>Period</th>\n",
       "      <th>Indicator</th>\n",
       "      <th>First Tooltip</th>\n",
       "    </tr>\n",
       "  </thead>\n",
       "  <tbody>\n",
       "  </tbody>\n",
       "</table>\n",
       "</div>"
      ],
      "text/plain": [
       "Empty DataFrame\n",
       "Columns: [Location, Period, Indicator, First Tooltip]\n",
       "Index: []"
      ]
     },
     "execution_count": 555,
     "metadata": {},
     "output_type": "execute_result"
    }
   ],
   "source": [
    "pharma_data[pharma_data['First Tooltip'] == 0.0]"
   ]
  },
  {
   "cell_type": "code",
   "execution_count": 556,
   "metadata": {},
   "outputs": [
    {
     "data": {
      "text/plain": [
       "array(['Pharmacists  (per 10,000)'], dtype=object)"
      ]
     },
     "execution_count": 556,
     "metadata": {},
     "output_type": "execute_result"
    }
   ],
   "source": [
    "pharma_data['Indicator'].unique()"
   ]
  },
  {
   "cell_type": "markdown",
   "metadata": {},
   "source": [
    "Ignore data before 2000. These years aren't looking strong. Most of the years have under 100."
   ]
  },
  {
   "cell_type": "code",
   "execution_count": 557,
   "metadata": {},
   "outputs": [
    {
     "data": {
      "text/plain": [
       "array([2016, 2015, 2014, 2012, 2011, 2010, 2009, 2008, 2007, 2006, 2005,\n",
       "       2001, 2013, 2003, 2002, 2000, 1999, 1994, 1993, 1992, 1991, 1990,\n",
       "       2018, 2004, 1998, 1997, 1995, 2017, 1996])"
      ]
     },
     "execution_count": 557,
     "metadata": {},
     "output_type": "execute_result"
    }
   ],
   "source": [
    "pharma_data['Period'].unique()"
   ]
  },
  {
   "cell_type": "code",
   "execution_count": 558,
   "metadata": {},
   "outputs": [
    {
     "data": {
      "text/plain": [
       "Location         51\n",
       "Period           51\n",
       "Indicator        51\n",
       "First Tooltip    51\n",
       "dtype: int64"
      ]
     },
     "execution_count": 558,
     "metadata": {},
     "output_type": "execute_result"
    }
   ],
   "source": [
    "pharma_data[pharma_data['Period'] == 2018].count()"
   ]
  },
  {
   "cell_type": "code",
   "execution_count": 559,
   "metadata": {},
   "outputs": [
    {
     "data": {
      "text/plain": [
       "Location         73\n",
       "Period           73\n",
       "Indicator        73\n",
       "First Tooltip    73\n",
       "dtype: int64"
      ]
     },
     "execution_count": 559,
     "metadata": {},
     "output_type": "execute_result"
    }
   ],
   "source": [
    "pharma_data[pharma_data['Period'] == 2017].count()"
   ]
  },
  {
   "cell_type": "code",
   "execution_count": 560,
   "metadata": {},
   "outputs": [
    {
     "data": {
      "text/plain": [
       "Location         79\n",
       "Period           79\n",
       "Indicator        79\n",
       "First Tooltip    79\n",
       "dtype: int64"
      ]
     },
     "execution_count": 560,
     "metadata": {},
     "output_type": "execute_result"
    }
   ],
   "source": [
    "pharma_data[pharma_data['Period'] == 2016].count()"
   ]
  },
  {
   "cell_type": "code",
   "execution_count": 561,
   "metadata": {},
   "outputs": [
    {
     "data": {
      "text/plain": [
       "Location         81\n",
       "Period           81\n",
       "Indicator        81\n",
       "First Tooltip    81\n",
       "dtype: int64"
      ]
     },
     "execution_count": 561,
     "metadata": {},
     "output_type": "execute_result"
    }
   ],
   "source": [
    "pharma_data[pharma_data['Period'] == 2015].count()"
   ]
  },
  {
   "cell_type": "code",
   "execution_count": 562,
   "metadata": {},
   "outputs": [
    {
     "data": {
      "text/plain": [
       "Location         84\n",
       "Period           84\n",
       "Indicator        84\n",
       "First Tooltip    84\n",
       "dtype: int64"
      ]
     },
     "execution_count": 562,
     "metadata": {},
     "output_type": "execute_result"
    }
   ],
   "source": [
    "pharma_data[pharma_data['Period'] == 2014].count()"
   ]
  },
  {
   "cell_type": "code",
   "execution_count": 563,
   "metadata": {},
   "outputs": [
    {
     "data": {
      "text/plain": [
       "Location         77\n",
       "Period           77\n",
       "Indicator        77\n",
       "First Tooltip    77\n",
       "dtype: int64"
      ]
     },
     "execution_count": 563,
     "metadata": {},
     "output_type": "execute_result"
    }
   ],
   "source": [
    "pharma_data[pharma_data['Period'] == 2013].count()"
   ]
  },
  {
   "cell_type": "code",
   "execution_count": 564,
   "metadata": {},
   "outputs": [
    {
     "data": {
      "text/plain": [
       "Location         89\n",
       "Period           89\n",
       "Indicator        89\n",
       "First Tooltip    89\n",
       "dtype: int64"
      ]
     },
     "execution_count": 564,
     "metadata": {},
     "output_type": "execute_result"
    }
   ],
   "source": [
    "pharma_data[pharma_data['Period'] == 2012].count()"
   ]
  },
  {
   "cell_type": "code",
   "execution_count": 566,
   "metadata": {},
   "outputs": [
    {
     "data": {
      "text/plain": [
       "Location         90\n",
       "Period           90\n",
       "Indicator        90\n",
       "First Tooltip    90\n",
       "dtype: int64"
      ]
     },
     "execution_count": 566,
     "metadata": {},
     "output_type": "execute_result"
    }
   ],
   "source": [
    "pharma_data[pharma_data['Period'] == 2011].count()"
   ]
  },
  {
   "cell_type": "code",
   "execution_count": 567,
   "metadata": {},
   "outputs": [
    {
     "data": {
      "text/plain": [
       "Location         95\n",
       "Period           95\n",
       "Indicator        95\n",
       "First Tooltip    95\n",
       "dtype: int64"
      ]
     },
     "execution_count": 567,
     "metadata": {},
     "output_type": "execute_result"
    }
   ],
   "source": [
    "pharma_data[pharma_data['Period'] == 2010].count()"
   ]
  },
  {
   "cell_type": "code",
   "execution_count": 568,
   "metadata": {},
   "outputs": [
    {
     "data": {
      "text/plain": [
       "Location         100\n",
       "Period           100\n",
       "Indicator        100\n",
       "First Tooltip    100\n",
       "dtype: int64"
      ]
     },
     "execution_count": 568,
     "metadata": {},
     "output_type": "execute_result"
    }
   ],
   "source": [
    "pharma_data[pharma_data['Period'] == 2009].count()"
   ]
  },
  {
   "cell_type": "code",
   "execution_count": 569,
   "metadata": {},
   "outputs": [
    {
     "data": {
      "text/plain": [
       "Location         95\n",
       "Period           95\n",
       "Indicator        95\n",
       "First Tooltip    95\n",
       "dtype: int64"
      ]
     },
     "execution_count": 569,
     "metadata": {},
     "output_type": "execute_result"
    }
   ],
   "source": [
    "pharma_data[pharma_data['Period'] == 2008].count()"
   ]
  },
  {
   "cell_type": "code",
   "execution_count": 570,
   "metadata": {},
   "outputs": [
    {
     "data": {
      "text/plain": [
       "Location         84\n",
       "Period           84\n",
       "Indicator        84\n",
       "First Tooltip    84\n",
       "dtype: int64"
      ]
     },
     "execution_count": 570,
     "metadata": {},
     "output_type": "execute_result"
    }
   ],
   "source": [
    "pharma_data[pharma_data['Period'] == 2007].count()"
   ]
  },
  {
   "cell_type": "code",
   "execution_count": 571,
   "metadata": {},
   "outputs": [
    {
     "data": {
      "text/plain": [
       "Location         72\n",
       "Period           72\n",
       "Indicator        72\n",
       "First Tooltip    72\n",
       "dtype: int64"
      ]
     },
     "execution_count": 571,
     "metadata": {},
     "output_type": "execute_result"
    }
   ],
   "source": [
    "pharma_data[pharma_data['Period'] == 2006].count()"
   ]
  },
  {
   "cell_type": "code",
   "execution_count": 572,
   "metadata": {},
   "outputs": [
    {
     "data": {
      "text/plain": [
       "Location         72\n",
       "Period           72\n",
       "Indicator        72\n",
       "First Tooltip    72\n",
       "dtype: int64"
      ]
     },
     "execution_count": 572,
     "metadata": {},
     "output_type": "execute_result"
    }
   ],
   "source": [
    "pharma_data[pharma_data['Period'] == 2005].count()"
   ]
  },
  {
   "cell_type": "code",
   "execution_count": 573,
   "metadata": {},
   "outputs": [
    {
     "data": {
      "text/plain": [
       "Location         103\n",
       "Period           103\n",
       "Indicator        103\n",
       "First Tooltip    103\n",
       "dtype: int64"
      ]
     },
     "execution_count": 573,
     "metadata": {},
     "output_type": "execute_result"
    }
   ],
   "source": [
    "pharma_data[pharma_data['Period'] == 2004].count()"
   ]
  },
  {
   "cell_type": "code",
   "execution_count": 574,
   "metadata": {},
   "outputs": [
    {
     "data": {
      "text/plain": [
       "Location         58\n",
       "Period           58\n",
       "Indicator        58\n",
       "First Tooltip    58\n",
       "dtype: int64"
      ]
     },
     "execution_count": 574,
     "metadata": {},
     "output_type": "execute_result"
    }
   ],
   "source": [
    "pharma_data[pharma_data['Period'] == 2003].count()"
   ]
  },
  {
   "cell_type": "code",
   "execution_count": 575,
   "metadata": {},
   "outputs": [
    {
     "data": {
      "text/plain": [
       "Location         60\n",
       "Period           60\n",
       "Indicator        60\n",
       "First Tooltip    60\n",
       "dtype: int64"
      ]
     },
     "execution_count": 575,
     "metadata": {},
     "output_type": "execute_result"
    }
   ],
   "source": [
    "pharma_data[pharma_data['Period'] == 2002].count()"
   ]
  },
  {
   "cell_type": "code",
   "execution_count": 576,
   "metadata": {},
   "outputs": [
    {
     "data": {
      "text/plain": [
       "Location         61\n",
       "Period           61\n",
       "Indicator        61\n",
       "First Tooltip    61\n",
       "dtype: int64"
      ]
     },
     "execution_count": 576,
     "metadata": {},
     "output_type": "execute_result"
    }
   ],
   "source": [
    "pharma_data[pharma_data['Period'] == 2001].count()"
   ]
  },
  {
   "cell_type": "code",
   "execution_count": 577,
   "metadata": {},
   "outputs": [
    {
     "data": {
      "text/plain": [
       "Location         57\n",
       "Period           57\n",
       "Indicator        57\n",
       "First Tooltip    57\n",
       "dtype: int64"
      ]
     },
     "execution_count": 577,
     "metadata": {},
     "output_type": "execute_result"
    }
   ],
   "source": [
    "pharma_data[pharma_data['Period'] == 2000].count()"
   ]
  },
  {
   "cell_type": "markdown",
   "metadata": {},
   "source": [
    "# Ignore Pharmacist dataset unless selecting 2004 or 2009."
   ]
  },
  {
   "cell_type": "code",
   "execution_count": null,
   "metadata": {},
   "outputs": [],
   "source": []
  },
  {
   "cell_type": "markdown",
   "metadata": {},
   "source": [
    "## Population with Household Health Expenditures Greater than 10%"
   ]
  },
  {
   "cell_type": "code",
   "execution_count": 578,
   "metadata": {},
   "outputs": [
    {
     "data": {
      "text/html": [
       "<div>\n",
       "<style scoped>\n",
       "    .dataframe tbody tr th:only-of-type {\n",
       "        vertical-align: middle;\n",
       "    }\n",
       "\n",
       "    .dataframe tbody tr th {\n",
       "        vertical-align: top;\n",
       "    }\n",
       "\n",
       "    .dataframe thead th {\n",
       "        text-align: right;\n",
       "    }\n",
       "</style>\n",
       "<table border=\"1\" class=\"dataframe\">\n",
       "  <thead>\n",
       "    <tr style=\"text-align: right;\">\n",
       "      <th></th>\n",
       "      <th>Location</th>\n",
       "      <th>Period</th>\n",
       "      <th>Indicator</th>\n",
       "      <th>Dim1</th>\n",
       "      <th>First Tooltip</th>\n",
       "    </tr>\n",
       "  </thead>\n",
       "  <tbody>\n",
       "    <tr>\n",
       "      <th>0</th>\n",
       "      <td>Afghanistan</td>\n",
       "      <td>2013</td>\n",
       "      <td>Population with household expenditures on heal...</td>\n",
       "      <td>Total</td>\n",
       "      <td>14.63</td>\n",
       "    </tr>\n",
       "    <tr>\n",
       "      <th>1</th>\n",
       "      <td>Afghanistan</td>\n",
       "      <td>2013</td>\n",
       "      <td>Population with household expenditures on heal...</td>\n",
       "      <td>Urban</td>\n",
       "      <td>11.11</td>\n",
       "    </tr>\n",
       "    <tr>\n",
       "      <th>2</th>\n",
       "      <td>Afghanistan</td>\n",
       "      <td>2013</td>\n",
       "      <td>Population with household expenditures on heal...</td>\n",
       "      <td>Rural</td>\n",
       "      <td>15.73</td>\n",
       "    </tr>\n",
       "    <tr>\n",
       "      <th>3</th>\n",
       "      <td>Afghanistan</td>\n",
       "      <td>2007</td>\n",
       "      <td>Population with household expenditures on heal...</td>\n",
       "      <td>Total</td>\n",
       "      <td>4.84</td>\n",
       "    </tr>\n",
       "    <tr>\n",
       "      <th>4</th>\n",
       "      <td>Afghanistan</td>\n",
       "      <td>2007</td>\n",
       "      <td>Population with household expenditures on heal...</td>\n",
       "      <td>Urban</td>\n",
       "      <td>2.25</td>\n",
       "    </tr>\n",
       "    <tr>\n",
       "      <th>...</th>\n",
       "      <td>...</td>\n",
       "      <td>...</td>\n",
       "      <td>...</td>\n",
       "      <td>...</td>\n",
       "      <td>...</td>\n",
       "    </tr>\n",
       "    <tr>\n",
       "      <th>1888</th>\n",
       "      <td>Zambia</td>\n",
       "      <td>2004</td>\n",
       "      <td>Population with household expenditures on heal...</td>\n",
       "      <td>Urban</td>\n",
       "      <td>3.30</td>\n",
       "    </tr>\n",
       "    <tr>\n",
       "      <th>1889</th>\n",
       "      <td>Zambia</td>\n",
       "      <td>2004</td>\n",
       "      <td>Population with household expenditures on heal...</td>\n",
       "      <td>Rural</td>\n",
       "      <td>2.45</td>\n",
       "    </tr>\n",
       "    <tr>\n",
       "      <th>1890</th>\n",
       "      <td>Zimbabwe</td>\n",
       "      <td>2007</td>\n",
       "      <td>Population with household expenditures on heal...</td>\n",
       "      <td>Total</td>\n",
       "      <td>2.09</td>\n",
       "    </tr>\n",
       "    <tr>\n",
       "      <th>1891</th>\n",
       "      <td>Zimbabwe</td>\n",
       "      <td>2007</td>\n",
       "      <td>Population with household expenditures on heal...</td>\n",
       "      <td>Urban</td>\n",
       "      <td>4.19</td>\n",
       "    </tr>\n",
       "    <tr>\n",
       "      <th>1892</th>\n",
       "      <td>Zimbabwe</td>\n",
       "      <td>2007</td>\n",
       "      <td>Population with household expenditures on heal...</td>\n",
       "      <td>Rural</td>\n",
       "      <td>1.07</td>\n",
       "    </tr>\n",
       "  </tbody>\n",
       "</table>\n",
       "<p>1893 rows × 5 columns</p>\n",
       "</div>"
      ],
      "text/plain": [
       "         Location  Period                                          Indicator  \\\n",
       "0     Afghanistan    2013  Population with household expenditures on heal...   \n",
       "1     Afghanistan    2013  Population with household expenditures on heal...   \n",
       "2     Afghanistan    2013  Population with household expenditures on heal...   \n",
       "3     Afghanistan    2007  Population with household expenditures on heal...   \n",
       "4     Afghanistan    2007  Population with household expenditures on heal...   \n",
       "...           ...     ...                                                ...   \n",
       "1888       Zambia    2004  Population with household expenditures on heal...   \n",
       "1889       Zambia    2004  Population with household expenditures on heal...   \n",
       "1890     Zimbabwe    2007  Population with household expenditures on heal...   \n",
       "1891     Zimbabwe    2007  Population with household expenditures on heal...   \n",
       "1892     Zimbabwe    2007  Population with household expenditures on heal...   \n",
       "\n",
       "       Dim1  First Tooltip  \n",
       "0     Total          14.63  \n",
       "1     Urban          11.11  \n",
       "2     Rural          15.73  \n",
       "3     Total           4.84  \n",
       "4     Urban           2.25  \n",
       "...     ...            ...  \n",
       "1888  Urban           3.30  \n",
       "1889  Rural           2.45  \n",
       "1890  Total           2.09  \n",
       "1891  Urban           4.19  \n",
       "1892  Rural           1.07  \n",
       "\n",
       "[1893 rows x 5 columns]"
      ]
     },
     "execution_count": 578,
     "metadata": {},
     "output_type": "execute_result"
    }
   ],
   "source": [
    "he10_data = pd.read_csv(WHS_path/'population10SDG3.8.2.csv')\n",
    "he10_data"
   ]
  },
  {
   "cell_type": "code",
   "execution_count": 579,
   "metadata": {},
   "outputs": [
    {
     "data": {
      "text/plain": [
       "Location         1893\n",
       "Period           1893\n",
       "Indicator        1893\n",
       "Dim1             1893\n",
       "First Tooltip    1893\n",
       "dtype: int64"
      ]
     },
     "execution_count": 579,
     "metadata": {},
     "output_type": "execute_result"
    }
   ],
   "source": [
    "he10_data.isnull().count()"
   ]
  },
  {
   "cell_type": "code",
   "execution_count": 580,
   "metadata": {},
   "outputs": [
    {
     "data": {
      "text/html": [
       "<div>\n",
       "<style scoped>\n",
       "    .dataframe tbody tr th:only-of-type {\n",
       "        vertical-align: middle;\n",
       "    }\n",
       "\n",
       "    .dataframe tbody tr th {\n",
       "        vertical-align: top;\n",
       "    }\n",
       "\n",
       "    .dataframe thead th {\n",
       "        text-align: right;\n",
       "    }\n",
       "</style>\n",
       "<table border=\"1\" class=\"dataframe\">\n",
       "  <thead>\n",
       "    <tr style=\"text-align: right;\">\n",
       "      <th></th>\n",
       "      <th>Location</th>\n",
       "      <th>Period</th>\n",
       "      <th>Indicator</th>\n",
       "      <th>Dim1</th>\n",
       "      <th>First Tooltip</th>\n",
       "    </tr>\n",
       "  </thead>\n",
       "  <tbody>\n",
       "    <tr>\n",
       "      <th>1656</th>\n",
       "      <td>Timor-Leste</td>\n",
       "      <td>2011</td>\n",
       "      <td>Population with household expenditures on heal...</td>\n",
       "      <td>Urban</td>\n",
       "      <td>0.0</td>\n",
       "    </tr>\n",
       "    <tr>\n",
       "      <th>1658</th>\n",
       "      <td>Timor-Leste</td>\n",
       "      <td>2007</td>\n",
       "      <td>Population with household expenditures on heal...</td>\n",
       "      <td>Total</td>\n",
       "      <td>0.0</td>\n",
       "    </tr>\n",
       "    <tr>\n",
       "      <th>1659</th>\n",
       "      <td>Timor-Leste</td>\n",
       "      <td>2007</td>\n",
       "      <td>Population with household expenditures on heal...</td>\n",
       "      <td>Urban</td>\n",
       "      <td>0.0</td>\n",
       "    </tr>\n",
       "    <tr>\n",
       "      <th>1660</th>\n",
       "      <td>Timor-Leste</td>\n",
       "      <td>2007</td>\n",
       "      <td>Population with household expenditures on heal...</td>\n",
       "      <td>Rural</td>\n",
       "      <td>0.0</td>\n",
       "    </tr>\n",
       "  </tbody>\n",
       "</table>\n",
       "</div>"
      ],
      "text/plain": [
       "         Location  Period                                          Indicator  \\\n",
       "1656  Timor-Leste    2011  Population with household expenditures on heal...   \n",
       "1658  Timor-Leste    2007  Population with household expenditures on heal...   \n",
       "1659  Timor-Leste    2007  Population with household expenditures on heal...   \n",
       "1660  Timor-Leste    2007  Population with household expenditures on heal...   \n",
       "\n",
       "       Dim1  First Tooltip  \n",
       "1656  Urban            0.0  \n",
       "1658  Total            0.0  \n",
       "1659  Urban            0.0  \n",
       "1660  Rural            0.0  "
      ]
     },
     "execution_count": 580,
     "metadata": {},
     "output_type": "execute_result"
    }
   ],
   "source": [
    "he10_data[he10_data['First Tooltip'] == 0.0]"
   ]
  },
  {
   "cell_type": "code",
   "execution_count": 581,
   "metadata": {},
   "outputs": [
    {
     "data": {
      "text/plain": [
       "array(['Population with household expenditures on health greater than 10% of total household expenditure or income (SDG 3.8.2) (%)'],\n",
       "      dtype=object)"
      ]
     },
     "execution_count": 581,
     "metadata": {},
     "output_type": "execute_result"
    }
   ],
   "source": [
    "he10_data['Indicator'].unique()"
   ]
  },
  {
   "cell_type": "code",
   "execution_count": 585,
   "metadata": {},
   "outputs": [
    {
     "data": {
      "text/html": [
       "<div>\n",
       "<style scoped>\n",
       "    .dataframe tbody tr th:only-of-type {\n",
       "        vertical-align: middle;\n",
       "    }\n",
       "\n",
       "    .dataframe tbody tr th {\n",
       "        vertical-align: top;\n",
       "    }\n",
       "\n",
       "    .dataframe thead th {\n",
       "        text-align: right;\n",
       "    }\n",
       "</style>\n",
       "<table border=\"1\" class=\"dataframe\">\n",
       "  <thead>\n",
       "    <tr style=\"text-align: right;\">\n",
       "      <th></th>\n",
       "      <th>Location</th>\n",
       "      <th>Period</th>\n",
       "      <th>Indicator</th>\n",
       "      <th>Dim1</th>\n",
       "      <th>First Tooltip</th>\n",
       "    </tr>\n",
       "  </thead>\n",
       "  <tbody>\n",
       "    <tr>\n",
       "      <th>0</th>\n",
       "      <td>Afghanistan</td>\n",
       "      <td>2013</td>\n",
       "      <td>Population with household expenditures on heal...</td>\n",
       "      <td>Total</td>\n",
       "      <td>14.63</td>\n",
       "    </tr>\n",
       "    <tr>\n",
       "      <th>3</th>\n",
       "      <td>Afghanistan</td>\n",
       "      <td>2007</td>\n",
       "      <td>Population with household expenditures on heal...</td>\n",
       "      <td>Total</td>\n",
       "      <td>4.84</td>\n",
       "    </tr>\n",
       "    <tr>\n",
       "      <th>6</th>\n",
       "      <td>Albania</td>\n",
       "      <td>2012</td>\n",
       "      <td>Population with household expenditures on heal...</td>\n",
       "      <td>Total</td>\n",
       "      <td>16.72</td>\n",
       "    </tr>\n",
       "    <tr>\n",
       "      <th>9</th>\n",
       "      <td>Albania</td>\n",
       "      <td>2008</td>\n",
       "      <td>Population with household expenditures on heal...</td>\n",
       "      <td>Total</td>\n",
       "      <td>13.91</td>\n",
       "    </tr>\n",
       "    <tr>\n",
       "      <th>12</th>\n",
       "      <td>Albania</td>\n",
       "      <td>2005</td>\n",
       "      <td>Population with household expenditures on heal...</td>\n",
       "      <td>Total</td>\n",
       "      <td>19.51</td>\n",
       "    </tr>\n",
       "    <tr>\n",
       "      <th>...</th>\n",
       "      <td>...</td>\n",
       "      <td>...</td>\n",
       "      <td>...</td>\n",
       "      <td>...</td>\n",
       "      <td>...</td>\n",
       "    </tr>\n",
       "    <tr>\n",
       "      <th>1878</th>\n",
       "      <td>Yemen</td>\n",
       "      <td>1998</td>\n",
       "      <td>Population with household expenditures on heal...</td>\n",
       "      <td>Total</td>\n",
       "      <td>6.09</td>\n",
       "    </tr>\n",
       "    <tr>\n",
       "      <th>1881</th>\n",
       "      <td>Zambia</td>\n",
       "      <td>2010</td>\n",
       "      <td>Population with household expenditures on heal...</td>\n",
       "      <td>Total</td>\n",
       "      <td>0.29</td>\n",
       "    </tr>\n",
       "    <tr>\n",
       "      <th>1884</th>\n",
       "      <td>Zambia</td>\n",
       "      <td>2006</td>\n",
       "      <td>Population with household expenditures on heal...</td>\n",
       "      <td>Total</td>\n",
       "      <td>1.85</td>\n",
       "    </tr>\n",
       "    <tr>\n",
       "      <th>1887</th>\n",
       "      <td>Zambia</td>\n",
       "      <td>2004</td>\n",
       "      <td>Population with household expenditures on heal...</td>\n",
       "      <td>Total</td>\n",
       "      <td>2.79</td>\n",
       "    </tr>\n",
       "    <tr>\n",
       "      <th>1890</th>\n",
       "      <td>Zimbabwe</td>\n",
       "      <td>2007</td>\n",
       "      <td>Population with household expenditures on heal...</td>\n",
       "      <td>Total</td>\n",
       "      <td>2.09</td>\n",
       "    </tr>\n",
       "  </tbody>\n",
       "</table>\n",
       "<p>711 rows × 5 columns</p>\n",
       "</div>"
      ],
      "text/plain": [
       "         Location  Period                                          Indicator  \\\n",
       "0     Afghanistan    2013  Population with household expenditures on heal...   \n",
       "3     Afghanistan    2007  Population with household expenditures on heal...   \n",
       "6         Albania    2012  Population with household expenditures on heal...   \n",
       "9         Albania    2008  Population with household expenditures on heal...   \n",
       "12        Albania    2005  Population with household expenditures on heal...   \n",
       "...           ...     ...                                                ...   \n",
       "1878        Yemen    1998  Population with household expenditures on heal...   \n",
       "1881       Zambia    2010  Population with household expenditures on heal...   \n",
       "1884       Zambia    2006  Population with household expenditures on heal...   \n",
       "1887       Zambia    2004  Population with household expenditures on heal...   \n",
       "1890     Zimbabwe    2007  Population with household expenditures on heal...   \n",
       "\n",
       "       Dim1  First Tooltip  \n",
       "0     Total          14.63  \n",
       "3     Total           4.84  \n",
       "6     Total          16.72  \n",
       "9     Total          13.91  \n",
       "12    Total          19.51  \n",
       "...     ...            ...  \n",
       "1878  Total           6.09  \n",
       "1881  Total           0.29  \n",
       "1884  Total           1.85  \n",
       "1887  Total           2.79  \n",
       "1890  Total           2.09  \n",
       "\n",
       "[711 rows x 5 columns]"
      ]
     },
     "execution_count": 585,
     "metadata": {},
     "output_type": "execute_result"
    }
   ],
   "source": [
    "he10_tot = he10_data[he10_data['Dim1'] == 'Total']\n",
    "he10_tot"
   ]
  },
  {
   "cell_type": "markdown",
   "metadata": {},
   "source": [
    "All years have too low of value counts"
   ]
  },
  {
   "cell_type": "code",
   "execution_count": 586,
   "metadata": {},
   "outputs": [
    {
     "data": {
      "text/plain": [
       "array([2013, 2007, 2012, 2008, 2005, 2002, 1996, 2004, 2011, 2010, 2009,\n",
       "       2006, 2003, 2001, 1999, 2016, 2000, 2015, 2014, 1998, 1997, 2017,\n",
       "       1993, 1995, 1986, 1994, 1992, 1988, 1987, 1985, 1991, 2018, 1990])"
      ]
     },
     "execution_count": 586,
     "metadata": {},
     "output_type": "execute_result"
    }
   ],
   "source": [
    "he10_tot['Period'].unique()"
   ]
  },
  {
   "cell_type": "code",
   "execution_count": 587,
   "metadata": {},
   "outputs": [
    {
     "data": {
      "text/plain": [
       "Location         2\n",
       "Period           2\n",
       "Indicator        2\n",
       "Dim1             2\n",
       "First Tooltip    2\n",
       "dtype: int64"
      ]
     },
     "execution_count": 587,
     "metadata": {},
     "output_type": "execute_result"
    }
   ],
   "source": [
    "he10_tot[he10_tot['Period'] == 2018].count()"
   ]
  },
  {
   "cell_type": "code",
   "execution_count": 588,
   "metadata": {},
   "outputs": [
    {
     "data": {
      "text/plain": [
       "Location         3\n",
       "Period           3\n",
       "Indicator        3\n",
       "Dim1             3\n",
       "First Tooltip    3\n",
       "dtype: int64"
      ]
     },
     "execution_count": 588,
     "metadata": {},
     "output_type": "execute_result"
    }
   ],
   "source": [
    "he10_tot[he10_tot['Period'] == 2017].count()"
   ]
  },
  {
   "cell_type": "code",
   "execution_count": 589,
   "metadata": {},
   "outputs": [
    {
     "data": {
      "text/plain": [
       "Location         22\n",
       "Period           22\n",
       "Indicator        22\n",
       "Dim1             22\n",
       "First Tooltip    22\n",
       "dtype: int64"
      ]
     },
     "execution_count": 589,
     "metadata": {},
     "output_type": "execute_result"
    }
   ],
   "source": [
    "he10_tot[he10_tot['Period'] == 2016].count()"
   ]
  },
  {
   "cell_type": "code",
   "execution_count": 590,
   "metadata": {},
   "outputs": [
    {
     "data": {
      "text/plain": [
       "Location         23\n",
       "Period           23\n",
       "Indicator        23\n",
       "Dim1             23\n",
       "First Tooltip    23\n",
       "dtype: int64"
      ]
     },
     "execution_count": 590,
     "metadata": {},
     "output_type": "execute_result"
    }
   ],
   "source": [
    "he10_tot[he10_tot['Period'] == 2015].count()"
   ]
  },
  {
   "cell_type": "code",
   "execution_count": 591,
   "metadata": {},
   "outputs": [
    {
     "data": {
      "text/plain": [
       "Location         31\n",
       "Period           31\n",
       "Indicator        31\n",
       "Dim1             31\n",
       "First Tooltip    31\n",
       "dtype: int64"
      ]
     },
     "execution_count": 591,
     "metadata": {},
     "output_type": "execute_result"
    }
   ],
   "source": [
    "he10_tot[he10_tot['Period'] == 2014].count()"
   ]
  },
  {
   "cell_type": "code",
   "execution_count": 592,
   "metadata": {},
   "outputs": [
    {
     "data": {
      "text/plain": [
       "Location         30\n",
       "Period           30\n",
       "Indicator        30\n",
       "Dim1             30\n",
       "First Tooltip    30\n",
       "dtype: int64"
      ]
     },
     "execution_count": 592,
     "metadata": {},
     "output_type": "execute_result"
    }
   ],
   "source": [
    "he10_tot[he10_tot['Period'] == 2013].count()"
   ]
  },
  {
   "cell_type": "code",
   "execution_count": 593,
   "metadata": {},
   "outputs": [
    {
     "data": {
      "text/plain": [
       "Location         39\n",
       "Period           39\n",
       "Indicator        39\n",
       "Dim1             39\n",
       "First Tooltip    39\n",
       "dtype: int64"
      ]
     },
     "execution_count": 593,
     "metadata": {},
     "output_type": "execute_result"
    }
   ],
   "source": [
    "he10_tot[he10_tot['Period'] == 2012].count()"
   ]
  },
  {
   "cell_type": "code",
   "execution_count": 594,
   "metadata": {},
   "outputs": [
    {
     "data": {
      "text/plain": [
       "Location         35\n",
       "Period           35\n",
       "Indicator        35\n",
       "Dim1             35\n",
       "First Tooltip    35\n",
       "dtype: int64"
      ]
     },
     "execution_count": 594,
     "metadata": {},
     "output_type": "execute_result"
    }
   ],
   "source": [
    "he10_tot[he10_tot['Period'] == 2011].count()"
   ]
  },
  {
   "cell_type": "code",
   "execution_count": 595,
   "metadata": {},
   "outputs": [
    {
     "data": {
      "text/plain": [
       "Location         55\n",
       "Period           55\n",
       "Indicator        55\n",
       "Dim1             55\n",
       "First Tooltip    55\n",
       "dtype: int64"
      ]
     },
     "execution_count": 595,
     "metadata": {},
     "output_type": "execute_result"
    }
   ],
   "source": [
    "he10_tot[he10_tot['Period'] == 2010].count()"
   ]
  },
  {
   "cell_type": "code",
   "execution_count": 596,
   "metadata": {},
   "outputs": [
    {
     "data": {
      "text/plain": [
       "Location         37\n",
       "Period           37\n",
       "Indicator        37\n",
       "Dim1             37\n",
       "First Tooltip    37\n",
       "dtype: int64"
      ]
     },
     "execution_count": 596,
     "metadata": {},
     "output_type": "execute_result"
    }
   ],
   "source": [
    "he10_tot[he10_tot['Period'] == 2009].count()"
   ]
  },
  {
   "cell_type": "code",
   "execution_count": 597,
   "metadata": {},
   "outputs": [
    {
     "data": {
      "text/plain": [
       "Location         35\n",
       "Period           35\n",
       "Indicator        35\n",
       "Dim1             35\n",
       "First Tooltip    35\n",
       "dtype: int64"
      ]
     },
     "execution_count": 597,
     "metadata": {},
     "output_type": "execute_result"
    }
   ],
   "source": [
    "he10_tot[he10_tot['Period'] == 2008].count()"
   ]
  },
  {
   "cell_type": "code",
   "execution_count": 598,
   "metadata": {},
   "outputs": [
    {
     "data": {
      "text/plain": [
       "Location         44\n",
       "Period           44\n",
       "Indicator        44\n",
       "Dim1             44\n",
       "First Tooltip    44\n",
       "dtype: int64"
      ]
     },
     "execution_count": 598,
     "metadata": {},
     "output_type": "execute_result"
    }
   ],
   "source": [
    "he10_tot[he10_tot['Period'] == 2007].count()"
   ]
  },
  {
   "cell_type": "code",
   "execution_count": 599,
   "metadata": {},
   "outputs": [
    {
     "data": {
      "text/plain": [
       "Location         32\n",
       "Period           32\n",
       "Indicator        32\n",
       "Dim1             32\n",
       "First Tooltip    32\n",
       "dtype: int64"
      ]
     },
     "execution_count": 599,
     "metadata": {},
     "output_type": "execute_result"
    }
   ],
   "source": [
    "he10_tot[he10_tot['Period'] == 2006].count()"
   ]
  },
  {
   "cell_type": "code",
   "execution_count": 600,
   "metadata": {},
   "outputs": [
    {
     "data": {
      "text/plain": [
       "Location         38\n",
       "Period           38\n",
       "Indicator        38\n",
       "Dim1             38\n",
       "First Tooltip    38\n",
       "dtype: int64"
      ]
     },
     "execution_count": 600,
     "metadata": {},
     "output_type": "execute_result"
    }
   ],
   "source": [
    "he10_tot[he10_tot['Period'] == 2005].count()"
   ]
  },
  {
   "cell_type": "code",
   "execution_count": 601,
   "metadata": {},
   "outputs": [
    {
     "data": {
      "text/plain": [
       "Location         39\n",
       "Period           39\n",
       "Indicator        39\n",
       "Dim1             39\n",
       "First Tooltip    39\n",
       "dtype: int64"
      ]
     },
     "execution_count": 601,
     "metadata": {},
     "output_type": "execute_result"
    }
   ],
   "source": [
    "he10_tot[he10_tot['Period'] == 2004].count()"
   ]
  },
  {
   "cell_type": "code",
   "execution_count": 602,
   "metadata": {},
   "outputs": [
    {
     "data": {
      "text/plain": [
       "Location         35\n",
       "Period           35\n",
       "Indicator        35\n",
       "Dim1             35\n",
       "First Tooltip    35\n",
       "dtype: int64"
      ]
     },
     "execution_count": 602,
     "metadata": {},
     "output_type": "execute_result"
    }
   ],
   "source": [
    "he10_tot[he10_tot['Period'] == 2003].count()"
   ]
  },
  {
   "cell_type": "code",
   "execution_count": 603,
   "metadata": {},
   "outputs": [
    {
     "data": {
      "text/plain": [
       "Location         37\n",
       "Period           37\n",
       "Indicator        37\n",
       "Dim1             37\n",
       "First Tooltip    37\n",
       "dtype: int64"
      ]
     },
     "execution_count": 603,
     "metadata": {},
     "output_type": "execute_result"
    }
   ],
   "source": [
    "he10_tot[he10_tot['Period'] == 2002].count()"
   ]
  },
  {
   "cell_type": "code",
   "execution_count": 604,
   "metadata": {},
   "outputs": [
    {
     "data": {
      "text/plain": [
       "Location         27\n",
       "Period           27\n",
       "Indicator        27\n",
       "Dim1             27\n",
       "First Tooltip    27\n",
       "dtype: int64"
      ]
     },
     "execution_count": 604,
     "metadata": {},
     "output_type": "execute_result"
    }
   ],
   "source": [
    "he10_tot[he10_tot['Period'] == 2001].count()"
   ]
  },
  {
   "cell_type": "code",
   "execution_count": 605,
   "metadata": {},
   "outputs": [
    {
     "data": {
      "text/plain": [
       "Location         30\n",
       "Period           30\n",
       "Indicator        30\n",
       "Dim1             30\n",
       "First Tooltip    30\n",
       "dtype: int64"
      ]
     },
     "execution_count": 605,
     "metadata": {},
     "output_type": "execute_result"
    }
   ],
   "source": [
    "he10_tot[he10_tot['Period'] == 2000].count()"
   ]
  },
  {
   "cell_type": "markdown",
   "metadata": {},
   "source": [
    "## Ignore Health Expenditure 10% data"
   ]
  },
  {
   "cell_type": "code",
   "execution_count": null,
   "metadata": {},
   "outputs": [],
   "source": []
  },
  {
   "cell_type": "markdown",
   "metadata": {},
   "source": [
    "## Population with Household Health Expenditures Greater than 25%"
   ]
  },
  {
   "cell_type": "code",
   "execution_count": 608,
   "metadata": {},
   "outputs": [
    {
     "data": {
      "text/html": [
       "<div>\n",
       "<style scoped>\n",
       "    .dataframe tbody tr th:only-of-type {\n",
       "        vertical-align: middle;\n",
       "    }\n",
       "\n",
       "    .dataframe tbody tr th {\n",
       "        vertical-align: top;\n",
       "    }\n",
       "\n",
       "    .dataframe thead th {\n",
       "        text-align: right;\n",
       "    }\n",
       "</style>\n",
       "<table border=\"1\" class=\"dataframe\">\n",
       "  <thead>\n",
       "    <tr style=\"text-align: right;\">\n",
       "      <th></th>\n",
       "      <th>Location</th>\n",
       "      <th>Period</th>\n",
       "      <th>Indicator</th>\n",
       "      <th>Dim1</th>\n",
       "      <th>First Tooltip</th>\n",
       "    </tr>\n",
       "  </thead>\n",
       "  <tbody>\n",
       "    <tr>\n",
       "      <th>0</th>\n",
       "      <td>Afghanistan</td>\n",
       "      <td>2013</td>\n",
       "      <td>Population with household expenditures on heal...</td>\n",
       "      <td>Total</td>\n",
       "      <td>2.01</td>\n",
       "    </tr>\n",
       "    <tr>\n",
       "      <th>1</th>\n",
       "      <td>Afghanistan</td>\n",
       "      <td>2013</td>\n",
       "      <td>Population with household expenditures on heal...</td>\n",
       "      <td>Urban</td>\n",
       "      <td>1.49</td>\n",
       "    </tr>\n",
       "    <tr>\n",
       "      <th>2</th>\n",
       "      <td>Afghanistan</td>\n",
       "      <td>2013</td>\n",
       "      <td>Population with household expenditures on heal...</td>\n",
       "      <td>Rural</td>\n",
       "      <td>2.18</td>\n",
       "    </tr>\n",
       "    <tr>\n",
       "      <th>3</th>\n",
       "      <td>Afghanistan</td>\n",
       "      <td>2007</td>\n",
       "      <td>Population with household expenditures on heal...</td>\n",
       "      <td>Total</td>\n",
       "      <td>0.07</td>\n",
       "    </tr>\n",
       "    <tr>\n",
       "      <th>4</th>\n",
       "      <td>Afghanistan</td>\n",
       "      <td>2007</td>\n",
       "      <td>Population with household expenditures on heal...</td>\n",
       "      <td>Urban</td>\n",
       "      <td>0.00</td>\n",
       "    </tr>\n",
       "    <tr>\n",
       "      <th>...</th>\n",
       "      <td>...</td>\n",
       "      <td>...</td>\n",
       "      <td>...</td>\n",
       "      <td>...</td>\n",
       "      <td>...</td>\n",
       "    </tr>\n",
       "    <tr>\n",
       "      <th>1888</th>\n",
       "      <td>Zambia</td>\n",
       "      <td>2004</td>\n",
       "      <td>Population with household expenditures on heal...</td>\n",
       "      <td>Urban</td>\n",
       "      <td>0.66</td>\n",
       "    </tr>\n",
       "    <tr>\n",
       "      <th>1889</th>\n",
       "      <td>Zambia</td>\n",
       "      <td>2004</td>\n",
       "      <td>Population with household expenditures on heal...</td>\n",
       "      <td>Rural</td>\n",
       "      <td>0.45</td>\n",
       "    </tr>\n",
       "    <tr>\n",
       "      <th>1890</th>\n",
       "      <td>Zimbabwe</td>\n",
       "      <td>2007</td>\n",
       "      <td>Population with household expenditures on heal...</td>\n",
       "      <td>Total</td>\n",
       "      <td>0.71</td>\n",
       "    </tr>\n",
       "    <tr>\n",
       "      <th>1891</th>\n",
       "      <td>Zimbabwe</td>\n",
       "      <td>2007</td>\n",
       "      <td>Population with household expenditures on heal...</td>\n",
       "      <td>Urban</td>\n",
       "      <td>1.35</td>\n",
       "    </tr>\n",
       "    <tr>\n",
       "      <th>1892</th>\n",
       "      <td>Zimbabwe</td>\n",
       "      <td>2007</td>\n",
       "      <td>Population with household expenditures on heal...</td>\n",
       "      <td>Rural</td>\n",
       "      <td>0.40</td>\n",
       "    </tr>\n",
       "  </tbody>\n",
       "</table>\n",
       "<p>1893 rows × 5 columns</p>\n",
       "</div>"
      ],
      "text/plain": [
       "         Location  Period                                          Indicator  \\\n",
       "0     Afghanistan    2013  Population with household expenditures on heal...   \n",
       "1     Afghanistan    2013  Population with household expenditures on heal...   \n",
       "2     Afghanistan    2013  Population with household expenditures on heal...   \n",
       "3     Afghanistan    2007  Population with household expenditures on heal...   \n",
       "4     Afghanistan    2007  Population with household expenditures on heal...   \n",
       "...           ...     ...                                                ...   \n",
       "1888       Zambia    2004  Population with household expenditures on heal...   \n",
       "1889       Zambia    2004  Population with household expenditures on heal...   \n",
       "1890     Zimbabwe    2007  Population with household expenditures on heal...   \n",
       "1891     Zimbabwe    2007  Population with household expenditures on heal...   \n",
       "1892     Zimbabwe    2007  Population with household expenditures on heal...   \n",
       "\n",
       "       Dim1  First Tooltip  \n",
       "0     Total           2.01  \n",
       "1     Urban           1.49  \n",
       "2     Rural           2.18  \n",
       "3     Total           0.07  \n",
       "4     Urban           0.00  \n",
       "...     ...            ...  \n",
       "1888  Urban           0.66  \n",
       "1889  Rural           0.45  \n",
       "1890  Total           0.71  \n",
       "1891  Urban           1.35  \n",
       "1892  Rural           0.40  \n",
       "\n",
       "[1893 rows x 5 columns]"
      ]
     },
     "execution_count": 608,
     "metadata": {},
     "output_type": "execute_result"
    }
   ],
   "source": [
    "he25 = pd.read_csv(WHS_path/'population25SDG3.8.2.csv')\n",
    "he25"
   ]
  },
  {
   "cell_type": "code",
   "execution_count": 609,
   "metadata": {},
   "outputs": [
    {
     "data": {
      "text/html": [
       "<div>\n",
       "<style scoped>\n",
       "    .dataframe tbody tr th:only-of-type {\n",
       "        vertical-align: middle;\n",
       "    }\n",
       "\n",
       "    .dataframe tbody tr th {\n",
       "        vertical-align: top;\n",
       "    }\n",
       "\n",
       "    .dataframe thead th {\n",
       "        text-align: right;\n",
       "    }\n",
       "</style>\n",
       "<table border=\"1\" class=\"dataframe\">\n",
       "  <thead>\n",
       "    <tr style=\"text-align: right;\">\n",
       "      <th></th>\n",
       "      <th>Location</th>\n",
       "      <th>Period</th>\n",
       "      <th>Indicator</th>\n",
       "      <th>Dim1</th>\n",
       "      <th>First Tooltip</th>\n",
       "    </tr>\n",
       "  </thead>\n",
       "  <tbody>\n",
       "    <tr>\n",
       "      <th>0</th>\n",
       "      <td>Afghanistan</td>\n",
       "      <td>2013</td>\n",
       "      <td>Population with household expenditures on heal...</td>\n",
       "      <td>Total</td>\n",
       "      <td>2.01</td>\n",
       "    </tr>\n",
       "    <tr>\n",
       "      <th>3</th>\n",
       "      <td>Afghanistan</td>\n",
       "      <td>2007</td>\n",
       "      <td>Population with household expenditures on heal...</td>\n",
       "      <td>Total</td>\n",
       "      <td>0.07</td>\n",
       "    </tr>\n",
       "    <tr>\n",
       "      <th>6</th>\n",
       "      <td>Albania</td>\n",
       "      <td>2012</td>\n",
       "      <td>Population with household expenditures on heal...</td>\n",
       "      <td>Total</td>\n",
       "      <td>4.95</td>\n",
       "    </tr>\n",
       "    <tr>\n",
       "      <th>9</th>\n",
       "      <td>Albania</td>\n",
       "      <td>2008</td>\n",
       "      <td>Population with household expenditures on heal...</td>\n",
       "      <td>Total</td>\n",
       "      <td>4.08</td>\n",
       "    </tr>\n",
       "    <tr>\n",
       "      <th>12</th>\n",
       "      <td>Albania</td>\n",
       "      <td>2005</td>\n",
       "      <td>Population with household expenditures on heal...</td>\n",
       "      <td>Total</td>\n",
       "      <td>4.50</td>\n",
       "    </tr>\n",
       "    <tr>\n",
       "      <th>...</th>\n",
       "      <td>...</td>\n",
       "      <td>...</td>\n",
       "      <td>...</td>\n",
       "      <td>...</td>\n",
       "      <td>...</td>\n",
       "    </tr>\n",
       "    <tr>\n",
       "      <th>1878</th>\n",
       "      <td>Yemen</td>\n",
       "      <td>1998</td>\n",
       "      <td>Population with household expenditures on heal...</td>\n",
       "      <td>Total</td>\n",
       "      <td>1.35</td>\n",
       "    </tr>\n",
       "    <tr>\n",
       "      <th>1881</th>\n",
       "      <td>Zambia</td>\n",
       "      <td>2010</td>\n",
       "      <td>Population with household expenditures on heal...</td>\n",
       "      <td>Total</td>\n",
       "      <td>0.01</td>\n",
       "    </tr>\n",
       "    <tr>\n",
       "      <th>1884</th>\n",
       "      <td>Zambia</td>\n",
       "      <td>2006</td>\n",
       "      <td>Population with household expenditures on heal...</td>\n",
       "      <td>Total</td>\n",
       "      <td>0.43</td>\n",
       "    </tr>\n",
       "    <tr>\n",
       "      <th>1887</th>\n",
       "      <td>Zambia</td>\n",
       "      <td>2004</td>\n",
       "      <td>Population with household expenditures on heal...</td>\n",
       "      <td>Total</td>\n",
       "      <td>0.53</td>\n",
       "    </tr>\n",
       "    <tr>\n",
       "      <th>1890</th>\n",
       "      <td>Zimbabwe</td>\n",
       "      <td>2007</td>\n",
       "      <td>Population with household expenditures on heal...</td>\n",
       "      <td>Total</td>\n",
       "      <td>0.71</td>\n",
       "    </tr>\n",
       "  </tbody>\n",
       "</table>\n",
       "<p>711 rows × 5 columns</p>\n",
       "</div>"
      ],
      "text/plain": [
       "         Location  Period                                          Indicator  \\\n",
       "0     Afghanistan    2013  Population with household expenditures on heal...   \n",
       "3     Afghanistan    2007  Population with household expenditures on heal...   \n",
       "6         Albania    2012  Population with household expenditures on heal...   \n",
       "9         Albania    2008  Population with household expenditures on heal...   \n",
       "12        Albania    2005  Population with household expenditures on heal...   \n",
       "...           ...     ...                                                ...   \n",
       "1878        Yemen    1998  Population with household expenditures on heal...   \n",
       "1881       Zambia    2010  Population with household expenditures on heal...   \n",
       "1884       Zambia    2006  Population with household expenditures on heal...   \n",
       "1887       Zambia    2004  Population with household expenditures on heal...   \n",
       "1890     Zimbabwe    2007  Population with household expenditures on heal...   \n",
       "\n",
       "       Dim1  First Tooltip  \n",
       "0     Total           2.01  \n",
       "3     Total           0.07  \n",
       "6     Total           4.95  \n",
       "9     Total           4.08  \n",
       "12    Total           4.50  \n",
       "...     ...            ...  \n",
       "1878  Total           1.35  \n",
       "1881  Total           0.01  \n",
       "1884  Total           0.43  \n",
       "1887  Total           0.53  \n",
       "1890  Total           0.71  \n",
       "\n",
       "[711 rows x 5 columns]"
      ]
     },
     "execution_count": 609,
     "metadata": {},
     "output_type": "execute_result"
    }
   ],
   "source": [
    "he25_tot = he25[he25['Dim1'] == 'Total']\n",
    "he25_tot"
   ]
  },
  {
   "cell_type": "markdown",
   "metadata": {},
   "source": [
    "All the years don't have enough to be useable for us."
   ]
  },
  {
   "cell_type": "code",
   "execution_count": 610,
   "metadata": {},
   "outputs": [
    {
     "data": {
      "text/plain": [
       "array([2013, 2007, 2012, 2008, 2005, 2002, 1996, 2004, 2011, 2010, 2009,\n",
       "       2006, 2003, 2001, 1999, 2016, 2000, 2015, 2014, 1998, 1997, 2017,\n",
       "       1993, 1995, 1986, 1994, 1992, 1988, 1987, 1985, 1991, 2018, 1990])"
      ]
     },
     "execution_count": 610,
     "metadata": {},
     "output_type": "execute_result"
    }
   ],
   "source": [
    "he25_tot['Period'].unique()"
   ]
  },
  {
   "cell_type": "code",
   "execution_count": 611,
   "metadata": {},
   "outputs": [
    {
     "data": {
      "text/plain": [
       "Location         2\n",
       "Period           2\n",
       "Indicator        2\n",
       "Dim1             2\n",
       "First Tooltip    2\n",
       "dtype: int64"
      ]
     },
     "execution_count": 611,
     "metadata": {},
     "output_type": "execute_result"
    }
   ],
   "source": [
    "he25_tot[he25_tot['Period'] == 2018].count()"
   ]
  },
  {
   "cell_type": "code",
   "execution_count": 612,
   "metadata": {},
   "outputs": [
    {
     "data": {
      "text/plain": [
       "Location         3\n",
       "Period           3\n",
       "Indicator        3\n",
       "Dim1             3\n",
       "First Tooltip    3\n",
       "dtype: int64"
      ]
     },
     "execution_count": 612,
     "metadata": {},
     "output_type": "execute_result"
    }
   ],
   "source": [
    "he25_tot[he25_tot['Period'] == 2017].count()"
   ]
  },
  {
   "cell_type": "code",
   "execution_count": 613,
   "metadata": {},
   "outputs": [
    {
     "data": {
      "text/plain": [
       "Location         22\n",
       "Period           22\n",
       "Indicator        22\n",
       "Dim1             22\n",
       "First Tooltip    22\n",
       "dtype: int64"
      ]
     },
     "execution_count": 613,
     "metadata": {},
     "output_type": "execute_result"
    }
   ],
   "source": [
    "he25_tot[he25_tot['Period'] == 2016].count()"
   ]
  },
  {
   "cell_type": "code",
   "execution_count": 614,
   "metadata": {},
   "outputs": [
    {
     "data": {
      "text/plain": [
       "Location         23\n",
       "Period           23\n",
       "Indicator        23\n",
       "Dim1             23\n",
       "First Tooltip    23\n",
       "dtype: int64"
      ]
     },
     "execution_count": 614,
     "metadata": {},
     "output_type": "execute_result"
    }
   ],
   "source": [
    "he25_tot[he25_tot['Period'] == 2015].count()"
   ]
  },
  {
   "cell_type": "code",
   "execution_count": 615,
   "metadata": {},
   "outputs": [
    {
     "data": {
      "text/plain": [
       "Location         31\n",
       "Period           31\n",
       "Indicator        31\n",
       "Dim1             31\n",
       "First Tooltip    31\n",
       "dtype: int64"
      ]
     },
     "execution_count": 615,
     "metadata": {},
     "output_type": "execute_result"
    }
   ],
   "source": [
    "he25_tot[he25_tot['Period'] == 2014].count()"
   ]
  },
  {
   "cell_type": "code",
   "execution_count": 616,
   "metadata": {},
   "outputs": [
    {
     "data": {
      "text/plain": [
       "Location         30\n",
       "Period           30\n",
       "Indicator        30\n",
       "Dim1             30\n",
       "First Tooltip    30\n",
       "dtype: int64"
      ]
     },
     "execution_count": 616,
     "metadata": {},
     "output_type": "execute_result"
    }
   ],
   "source": [
    "he25_tot[he25_tot['Period'] == 2013].count()"
   ]
  },
  {
   "cell_type": "code",
   "execution_count": 617,
   "metadata": {},
   "outputs": [
    {
     "data": {
      "text/plain": [
       "Location         39\n",
       "Period           39\n",
       "Indicator        39\n",
       "Dim1             39\n",
       "First Tooltip    39\n",
       "dtype: int64"
      ]
     },
     "execution_count": 617,
     "metadata": {},
     "output_type": "execute_result"
    }
   ],
   "source": [
    "he25_tot[he25_tot['Period'] == 2012].count()"
   ]
  },
  {
   "cell_type": "code",
   "execution_count": 618,
   "metadata": {},
   "outputs": [
    {
     "data": {
      "text/plain": [
       "Location         35\n",
       "Period           35\n",
       "Indicator        35\n",
       "Dim1             35\n",
       "First Tooltip    35\n",
       "dtype: int64"
      ]
     },
     "execution_count": 618,
     "metadata": {},
     "output_type": "execute_result"
    }
   ],
   "source": [
    "he25_tot[he25_tot['Period'] == 2011].count()"
   ]
  },
  {
   "cell_type": "code",
   "execution_count": 619,
   "metadata": {},
   "outputs": [
    {
     "data": {
      "text/plain": [
       "Location         55\n",
       "Period           55\n",
       "Indicator        55\n",
       "Dim1             55\n",
       "First Tooltip    55\n",
       "dtype: int64"
      ]
     },
     "execution_count": 619,
     "metadata": {},
     "output_type": "execute_result"
    }
   ],
   "source": [
    "he25_tot[he25_tot['Period'] == 2010].count()"
   ]
  },
  {
   "cell_type": "code",
   "execution_count": 620,
   "metadata": {},
   "outputs": [
    {
     "data": {
      "text/plain": [
       "Location         37\n",
       "Period           37\n",
       "Indicator        37\n",
       "Dim1             37\n",
       "First Tooltip    37\n",
       "dtype: int64"
      ]
     },
     "execution_count": 620,
     "metadata": {},
     "output_type": "execute_result"
    }
   ],
   "source": [
    "he25_tot[he25_tot['Period'] == 2009].count()"
   ]
  },
  {
   "cell_type": "code",
   "execution_count": 621,
   "metadata": {},
   "outputs": [
    {
     "data": {
      "text/plain": [
       "Location         35\n",
       "Period           35\n",
       "Indicator        35\n",
       "Dim1             35\n",
       "First Tooltip    35\n",
       "dtype: int64"
      ]
     },
     "execution_count": 621,
     "metadata": {},
     "output_type": "execute_result"
    }
   ],
   "source": [
    "he25_tot[he25_tot['Period'] == 2008].count()"
   ]
  },
  {
   "cell_type": "code",
   "execution_count": 622,
   "metadata": {},
   "outputs": [
    {
     "data": {
      "text/plain": [
       "Location         44\n",
       "Period           44\n",
       "Indicator        44\n",
       "Dim1             44\n",
       "First Tooltip    44\n",
       "dtype: int64"
      ]
     },
     "execution_count": 622,
     "metadata": {},
     "output_type": "execute_result"
    }
   ],
   "source": [
    "he25_tot[he25_tot['Period'] == 2007].count()"
   ]
  },
  {
   "cell_type": "code",
   "execution_count": 623,
   "metadata": {},
   "outputs": [
    {
     "data": {
      "text/plain": [
       "Location         32\n",
       "Period           32\n",
       "Indicator        32\n",
       "Dim1             32\n",
       "First Tooltip    32\n",
       "dtype: int64"
      ]
     },
     "execution_count": 623,
     "metadata": {},
     "output_type": "execute_result"
    }
   ],
   "source": [
    "he25_tot[he25_tot['Period'] == 2006].count()"
   ]
  },
  {
   "cell_type": "code",
   "execution_count": 624,
   "metadata": {},
   "outputs": [
    {
     "data": {
      "text/plain": [
       "Location         38\n",
       "Period           38\n",
       "Indicator        38\n",
       "Dim1             38\n",
       "First Tooltip    38\n",
       "dtype: int64"
      ]
     },
     "execution_count": 624,
     "metadata": {},
     "output_type": "execute_result"
    }
   ],
   "source": [
    "he25_tot[he25_tot['Period'] == 2005].count()"
   ]
  },
  {
   "cell_type": "code",
   "execution_count": 625,
   "metadata": {},
   "outputs": [
    {
     "data": {
      "text/plain": [
       "Location         39\n",
       "Period           39\n",
       "Indicator        39\n",
       "Dim1             39\n",
       "First Tooltip    39\n",
       "dtype: int64"
      ]
     },
     "execution_count": 625,
     "metadata": {},
     "output_type": "execute_result"
    }
   ],
   "source": [
    "he25_tot[he25_tot['Period'] == 2004].count()"
   ]
  },
  {
   "cell_type": "code",
   "execution_count": 626,
   "metadata": {},
   "outputs": [
    {
     "data": {
      "text/plain": [
       "Location         35\n",
       "Period           35\n",
       "Indicator        35\n",
       "Dim1             35\n",
       "First Tooltip    35\n",
       "dtype: int64"
      ]
     },
     "execution_count": 626,
     "metadata": {},
     "output_type": "execute_result"
    }
   ],
   "source": [
    "he25_tot[he25_tot['Period'] == 2003].count()"
   ]
  },
  {
   "cell_type": "code",
   "execution_count": 627,
   "metadata": {},
   "outputs": [
    {
     "data": {
      "text/plain": [
       "Location         37\n",
       "Period           37\n",
       "Indicator        37\n",
       "Dim1             37\n",
       "First Tooltip    37\n",
       "dtype: int64"
      ]
     },
     "execution_count": 627,
     "metadata": {},
     "output_type": "execute_result"
    }
   ],
   "source": [
    "he25_tot[he25_tot['Period'] == 2002].count()"
   ]
  },
  {
   "cell_type": "code",
   "execution_count": 628,
   "metadata": {},
   "outputs": [
    {
     "data": {
      "text/plain": [
       "Location         27\n",
       "Period           27\n",
       "Indicator        27\n",
       "Dim1             27\n",
       "First Tooltip    27\n",
       "dtype: int64"
      ]
     },
     "execution_count": 628,
     "metadata": {},
     "output_type": "execute_result"
    }
   ],
   "source": [
    "he25_tot[he25_tot['Period'] == 2001].count()"
   ]
  },
  {
   "cell_type": "code",
   "execution_count": 629,
   "metadata": {},
   "outputs": [
    {
     "data": {
      "text/plain": [
       "Location         30\n",
       "Period           30\n",
       "Indicator        30\n",
       "Dim1             30\n",
       "First Tooltip    30\n",
       "dtype: int64"
      ]
     },
     "execution_count": 629,
     "metadata": {},
     "output_type": "execute_result"
    }
   ],
   "source": [
    "he25_tot[he25_tot['Period'] == 2000].count()"
   ]
  },
  {
   "cell_type": "markdown",
   "metadata": {},
   "source": [
    "## Ignore Popultion Health Expenditures over 25% dataset"
   ]
  },
  {
   "cell_type": "code",
   "execution_count": null,
   "metadata": {},
   "outputs": [],
   "source": []
  },
  {
   "cell_type": "markdown",
   "metadata": {},
   "source": [
    "## Women Reproductive Age"
   ]
  },
  {
   "cell_type": "code",
   "execution_count": 630,
   "metadata": {},
   "outputs": [
    {
     "data": {
      "text/html": [
       "<div>\n",
       "<style scoped>\n",
       "    .dataframe tbody tr th:only-of-type {\n",
       "        vertical-align: middle;\n",
       "    }\n",
       "\n",
       "    .dataframe tbody tr th {\n",
       "        vertical-align: top;\n",
       "    }\n",
       "\n",
       "    .dataframe thead th {\n",
       "        text-align: right;\n",
       "    }\n",
       "</style>\n",
       "<table border=\"1\" class=\"dataframe\">\n",
       "  <thead>\n",
       "    <tr style=\"text-align: right;\">\n",
       "      <th></th>\n",
       "      <th>Location</th>\n",
       "      <th>Indicator</th>\n",
       "      <th>Period</th>\n",
       "      <th>First Tooltip</th>\n",
       "    </tr>\n",
       "  </thead>\n",
       "  <tbody>\n",
       "    <tr>\n",
       "      <th>0</th>\n",
       "      <td>Afghanistan</td>\n",
       "      <td>Married or in-union women of reproductive age ...</td>\n",
       "      <td>2016</td>\n",
       "      <td>42.1</td>\n",
       "    </tr>\n",
       "    <tr>\n",
       "      <th>1</th>\n",
       "      <td>Albania</td>\n",
       "      <td>Married or in-union women of reproductive age ...</td>\n",
       "      <td>2009</td>\n",
       "      <td>12.9</td>\n",
       "    </tr>\n",
       "    <tr>\n",
       "      <th>2</th>\n",
       "      <td>Algeria</td>\n",
       "      <td>Married or in-union women of reproductive age ...</td>\n",
       "      <td>2013</td>\n",
       "      <td>77.2</td>\n",
       "    </tr>\n",
       "    <tr>\n",
       "      <th>3</th>\n",
       "      <td>Angola</td>\n",
       "      <td>Married or in-union women of reproductive age ...</td>\n",
       "      <td>2016</td>\n",
       "      <td>24.2</td>\n",
       "    </tr>\n",
       "    <tr>\n",
       "      <th>4</th>\n",
       "      <td>Armenia</td>\n",
       "      <td>Married or in-union women of reproductive age ...</td>\n",
       "      <td>2016</td>\n",
       "      <td>40.2</td>\n",
       "    </tr>\n",
       "    <tr>\n",
       "      <th>...</th>\n",
       "      <td>...</td>\n",
       "      <td>...</td>\n",
       "      <td>...</td>\n",
       "      <td>...</td>\n",
       "    </tr>\n",
       "    <tr>\n",
       "      <th>114</th>\n",
       "      <td>Vanuatu</td>\n",
       "      <td>Married or in-union women of reproductive age ...</td>\n",
       "      <td>2013</td>\n",
       "      <td>50.7</td>\n",
       "    </tr>\n",
       "    <tr>\n",
       "      <th>115</th>\n",
       "      <td>Viet Nam</td>\n",
       "      <td>Married or in-union women of reproductive age ...</td>\n",
       "      <td>2014</td>\n",
       "      <td>69.7</td>\n",
       "    </tr>\n",
       "    <tr>\n",
       "      <th>116</th>\n",
       "      <td>Yemen</td>\n",
       "      <td>Married or in-union women of reproductive age ...</td>\n",
       "      <td>2013</td>\n",
       "      <td>46.9</td>\n",
       "    </tr>\n",
       "    <tr>\n",
       "      <th>117</th>\n",
       "      <td>Zambia</td>\n",
       "      <td>Married or in-union women of reproductive age ...</td>\n",
       "      <td>2014</td>\n",
       "      <td>63.8</td>\n",
       "    </tr>\n",
       "    <tr>\n",
       "      <th>118</th>\n",
       "      <td>Zimbabwe</td>\n",
       "      <td>Married or in-union women of reproductive age ...</td>\n",
       "      <td>2015</td>\n",
       "      <td>85.2</td>\n",
       "    </tr>\n",
       "  </tbody>\n",
       "</table>\n",
       "<p>119 rows × 4 columns</p>\n",
       "</div>"
      ],
      "text/plain": [
       "        Location                                          Indicator  Period  \\\n",
       "0    Afghanistan  Married or in-union women of reproductive age ...    2016   \n",
       "1        Albania  Married or in-union women of reproductive age ...    2009   \n",
       "2        Algeria  Married or in-union women of reproductive age ...    2013   \n",
       "3         Angola  Married or in-union women of reproductive age ...    2016   \n",
       "4        Armenia  Married or in-union women of reproductive age ...    2016   \n",
       "..           ...                                                ...     ...   \n",
       "114      Vanuatu  Married or in-union women of reproductive age ...    2013   \n",
       "115     Viet Nam  Married or in-union women of reproductive age ...    2014   \n",
       "116        Yemen  Married or in-union women of reproductive age ...    2013   \n",
       "117       Zambia  Married or in-union women of reproductive age ...    2014   \n",
       "118     Zimbabwe  Married or in-union women of reproductive age ...    2015   \n",
       "\n",
       "     First Tooltip  \n",
       "0             42.1  \n",
       "1             12.9  \n",
       "2             77.2  \n",
       "3             24.2  \n",
       "4             40.2  \n",
       "..             ...  \n",
       "114           50.7  \n",
       "115           69.7  \n",
       "116           46.9  \n",
       "117           63.8  \n",
       "118           85.2  \n",
       "\n",
       "[119 rows x 4 columns]"
      ]
     },
     "execution_count": 630,
     "metadata": {},
     "output_type": "execute_result"
    }
   ],
   "source": [
    "repo_data = pd.read_csv(WHS_path/'reproductiveAgeWomen.csv')\n",
    "repo_data"
   ]
  },
  {
   "cell_type": "markdown",
   "metadata": {},
   "source": [
    "At only 119 rows from the start, there is no way that this will work."
   ]
  },
  {
   "cell_type": "markdown",
   "metadata": {},
   "source": [
    "## Ignore Women Repoductive Age dataset"
   ]
  },
  {
   "cell_type": "code",
   "execution_count": null,
   "metadata": {},
   "outputs": [],
   "source": []
  },
  {
   "cell_type": "markdown",
   "metadata": {},
   "source": [
    "## Road Traffic Deaths"
   ]
  },
  {
   "cell_type": "code",
   "execution_count": 632,
   "metadata": {},
   "outputs": [
    {
     "data": {
      "text/html": [
       "<div>\n",
       "<style scoped>\n",
       "    .dataframe tbody tr th:only-of-type {\n",
       "        vertical-align: middle;\n",
       "    }\n",
       "\n",
       "    .dataframe tbody tr th {\n",
       "        vertical-align: top;\n",
       "    }\n",
       "\n",
       "    .dataframe thead th {\n",
       "        text-align: right;\n",
       "    }\n",
       "</style>\n",
       "<table border=\"1\" class=\"dataframe\">\n",
       "  <thead>\n",
       "    <tr style=\"text-align: right;\">\n",
       "      <th></th>\n",
       "      <th>Location</th>\n",
       "      <th>Indicator</th>\n",
       "      <th>Period</th>\n",
       "      <th>First Tooltip</th>\n",
       "    </tr>\n",
       "  </thead>\n",
       "  <tbody>\n",
       "    <tr>\n",
       "      <th>0</th>\n",
       "      <td>Afghanistan</td>\n",
       "      <td>Estimated road traffic death rate (per 100 000...</td>\n",
       "      <td>2016</td>\n",
       "      <td>15.1</td>\n",
       "    </tr>\n",
       "    <tr>\n",
       "      <th>1</th>\n",
       "      <td>Albania</td>\n",
       "      <td>Estimated road traffic death rate (per 100 000...</td>\n",
       "      <td>2016</td>\n",
       "      <td>13.6</td>\n",
       "    </tr>\n",
       "    <tr>\n",
       "      <th>2</th>\n",
       "      <td>Angola</td>\n",
       "      <td>Estimated road traffic death rate (per 100 000...</td>\n",
       "      <td>2016</td>\n",
       "      <td>23.6</td>\n",
       "    </tr>\n",
       "    <tr>\n",
       "      <th>3</th>\n",
       "      <td>Antigua and Barbuda</td>\n",
       "      <td>Estimated road traffic death rate (per 100 000...</td>\n",
       "      <td>2016</td>\n",
       "      <td>7.9</td>\n",
       "    </tr>\n",
       "    <tr>\n",
       "      <th>4</th>\n",
       "      <td>Argentina</td>\n",
       "      <td>Estimated road traffic death rate (per 100 000...</td>\n",
       "      <td>2016</td>\n",
       "      <td>14.0</td>\n",
       "    </tr>\n",
       "    <tr>\n",
       "      <th>...</th>\n",
       "      <td>...</td>\n",
       "      <td>...</td>\n",
       "      <td>...</td>\n",
       "      <td>...</td>\n",
       "    </tr>\n",
       "    <tr>\n",
       "      <th>170</th>\n",
       "      <td>Uzbekistan</td>\n",
       "      <td>Estimated road traffic death rate (per 100 000...</td>\n",
       "      <td>2016</td>\n",
       "      <td>11.5</td>\n",
       "    </tr>\n",
       "    <tr>\n",
       "      <th>171</th>\n",
       "      <td>Vanuatu</td>\n",
       "      <td>Estimated road traffic death rate (per 100 000...</td>\n",
       "      <td>2016</td>\n",
       "      <td>15.9</td>\n",
       "    </tr>\n",
       "    <tr>\n",
       "      <th>172</th>\n",
       "      <td>Venezuela (Bolivarian Republic of)</td>\n",
       "      <td>Estimated road traffic death rate (per 100 000...</td>\n",
       "      <td>2016</td>\n",
       "      <td>33.7</td>\n",
       "    </tr>\n",
       "    <tr>\n",
       "      <th>173</th>\n",
       "      <td>Viet Nam</td>\n",
       "      <td>Estimated road traffic death rate (per 100 000...</td>\n",
       "      <td>2016</td>\n",
       "      <td>26.4</td>\n",
       "    </tr>\n",
       "    <tr>\n",
       "      <th>174</th>\n",
       "      <td>Zimbabwe</td>\n",
       "      <td>Estimated road traffic death rate (per 100 000...</td>\n",
       "      <td>2016</td>\n",
       "      <td>34.7</td>\n",
       "    </tr>\n",
       "  </tbody>\n",
       "</table>\n",
       "<p>175 rows × 4 columns</p>\n",
       "</div>"
      ],
      "text/plain": [
       "                               Location  \\\n",
       "0                           Afghanistan   \n",
       "1                               Albania   \n",
       "2                                Angola   \n",
       "3                   Antigua and Barbuda   \n",
       "4                             Argentina   \n",
       "..                                  ...   \n",
       "170                          Uzbekistan   \n",
       "171                             Vanuatu   \n",
       "172  Venezuela (Bolivarian Republic of)   \n",
       "173                            Viet Nam   \n",
       "174                            Zimbabwe   \n",
       "\n",
       "                                             Indicator  Period  First Tooltip  \n",
       "0    Estimated road traffic death rate (per 100 000...    2016           15.1  \n",
       "1    Estimated road traffic death rate (per 100 000...    2016           13.6  \n",
       "2    Estimated road traffic death rate (per 100 000...    2016           23.6  \n",
       "3    Estimated road traffic death rate (per 100 000...    2016            7.9  \n",
       "4    Estimated road traffic death rate (per 100 000...    2016           14.0  \n",
       "..                                                 ...     ...            ...  \n",
       "170  Estimated road traffic death rate (per 100 000...    2016           11.5  \n",
       "171  Estimated road traffic death rate (per 100 000...    2016           15.9  \n",
       "172  Estimated road traffic death rate (per 100 000...    2016           33.7  \n",
       "173  Estimated road traffic death rate (per 100 000...    2016           26.4  \n",
       "174  Estimated road traffic death rate (per 100 000...    2016           34.7  \n",
       "\n",
       "[175 rows x 4 columns]"
      ]
     },
     "execution_count": 632,
     "metadata": {},
     "output_type": "execute_result"
    }
   ],
   "source": [
    "road_data = pd.read_csv(WHS_path/'roadTrafficDeaths.csv')\n",
    "road_data"
   ]
  },
  {
   "cell_type": "code",
   "execution_count": 633,
   "metadata": {},
   "outputs": [
    {
     "data": {
      "text/plain": [
       "array([2016])"
      ]
     },
     "execution_count": 633,
     "metadata": {},
     "output_type": "execute_result"
    }
   ],
   "source": [
    "road_data['Period'].unique()"
   ]
  },
  {
   "cell_type": "markdown",
   "metadata": {},
   "source": [
    "This dataset only has 2016 data. Not useful to us."
   ]
  },
  {
   "cell_type": "markdown",
   "metadata": {},
   "source": [
    "## Ingore Road Traffic Death dataset. Only 1 year."
   ]
  },
  {
   "cell_type": "code",
   "execution_count": null,
   "metadata": {},
   "outputs": [],
   "source": []
  },
  {
   "cell_type": "markdown",
   "metadata": {},
   "source": [
    "## Safely Managed Sanitization Services"
   ]
  },
  {
   "cell_type": "code",
   "execution_count": 634,
   "metadata": {},
   "outputs": [
    {
     "data": {
      "text/html": [
       "<div>\n",
       "<style scoped>\n",
       "    .dataframe tbody tr th:only-of-type {\n",
       "        vertical-align: middle;\n",
       "    }\n",
       "\n",
       "    .dataframe tbody tr th {\n",
       "        vertical-align: top;\n",
       "    }\n",
       "\n",
       "    .dataframe thead th {\n",
       "        text-align: right;\n",
       "    }\n",
       "</style>\n",
       "<table border=\"1\" class=\"dataframe\">\n",
       "  <thead>\n",
       "    <tr style=\"text-align: right;\">\n",
       "      <th></th>\n",
       "      <th>Location</th>\n",
       "      <th>Indicator</th>\n",
       "      <th>Period</th>\n",
       "      <th>Dim1</th>\n",
       "      <th>First Tooltip</th>\n",
       "    </tr>\n",
       "  </thead>\n",
       "  <tbody>\n",
       "    <tr>\n",
       "      <th>0</th>\n",
       "      <td>Albania</td>\n",
       "      <td>Population using safely managed sanitation ser...</td>\n",
       "      <td>2017</td>\n",
       "      <td>Total</td>\n",
       "      <td>39.86</td>\n",
       "    </tr>\n",
       "    <tr>\n",
       "      <th>1</th>\n",
       "      <td>Albania</td>\n",
       "      <td>Population using safely managed sanitation ser...</td>\n",
       "      <td>2017</td>\n",
       "      <td>Urban</td>\n",
       "      <td>40.17</td>\n",
       "    </tr>\n",
       "    <tr>\n",
       "      <th>2</th>\n",
       "      <td>Albania</td>\n",
       "      <td>Population using safely managed sanitation ser...</td>\n",
       "      <td>2017</td>\n",
       "      <td>Rural</td>\n",
       "      <td>39.39</td>\n",
       "    </tr>\n",
       "    <tr>\n",
       "      <th>3</th>\n",
       "      <td>Albania</td>\n",
       "      <td>Population using safely managed sanitation ser...</td>\n",
       "      <td>2016</td>\n",
       "      <td>Total</td>\n",
       "      <td>39.85</td>\n",
       "    </tr>\n",
       "    <tr>\n",
       "      <th>4</th>\n",
       "      <td>Albania</td>\n",
       "      <td>Population using safely managed sanitation ser...</td>\n",
       "      <td>2016</td>\n",
       "      <td>Urban</td>\n",
       "      <td>40.17</td>\n",
       "    </tr>\n",
       "    <tr>\n",
       "      <th>...</th>\n",
       "      <td>...</td>\n",
       "      <td>...</td>\n",
       "      <td>...</td>\n",
       "      <td>...</td>\n",
       "      <td>...</td>\n",
       "    </tr>\n",
       "    <tr>\n",
       "      <th>3650</th>\n",
       "      <td>Zimbabwe</td>\n",
       "      <td>Population using safely managed sanitation ser...</td>\n",
       "      <td>2004</td>\n",
       "      <td>Urban</td>\n",
       "      <td>22.81</td>\n",
       "    </tr>\n",
       "    <tr>\n",
       "      <th>3651</th>\n",
       "      <td>Zimbabwe</td>\n",
       "      <td>Population using safely managed sanitation ser...</td>\n",
       "      <td>2003</td>\n",
       "      <td>Urban</td>\n",
       "      <td>23.31</td>\n",
       "    </tr>\n",
       "    <tr>\n",
       "      <th>3652</th>\n",
       "      <td>Zimbabwe</td>\n",
       "      <td>Population using safely managed sanitation ser...</td>\n",
       "      <td>2002</td>\n",
       "      <td>Urban</td>\n",
       "      <td>23.31</td>\n",
       "    </tr>\n",
       "    <tr>\n",
       "      <th>3653</th>\n",
       "      <td>Zimbabwe</td>\n",
       "      <td>Population using safely managed sanitation ser...</td>\n",
       "      <td>2001</td>\n",
       "      <td>Urban</td>\n",
       "      <td>23.31</td>\n",
       "    </tr>\n",
       "    <tr>\n",
       "      <th>3654</th>\n",
       "      <td>Zimbabwe</td>\n",
       "      <td>Population using safely managed sanitation ser...</td>\n",
       "      <td>2000</td>\n",
       "      <td>Urban</td>\n",
       "      <td>23.31</td>\n",
       "    </tr>\n",
       "  </tbody>\n",
       "</table>\n",
       "<p>3655 rows × 5 columns</p>\n",
       "</div>"
      ],
      "text/plain": [
       "      Location                                          Indicator  Period  \\\n",
       "0      Albania  Population using safely managed sanitation ser...    2017   \n",
       "1      Albania  Population using safely managed sanitation ser...    2017   \n",
       "2      Albania  Population using safely managed sanitation ser...    2017   \n",
       "3      Albania  Population using safely managed sanitation ser...    2016   \n",
       "4      Albania  Population using safely managed sanitation ser...    2016   \n",
       "...        ...                                                ...     ...   \n",
       "3650  Zimbabwe  Population using safely managed sanitation ser...    2004   \n",
       "3651  Zimbabwe  Population using safely managed sanitation ser...    2003   \n",
       "3652  Zimbabwe  Population using safely managed sanitation ser...    2002   \n",
       "3653  Zimbabwe  Population using safely managed sanitation ser...    2001   \n",
       "3654  Zimbabwe  Population using safely managed sanitation ser...    2000   \n",
       "\n",
       "       Dim1  First Tooltip  \n",
       "0     Total          39.86  \n",
       "1     Urban          40.17  \n",
       "2     Rural          39.39  \n",
       "3     Total          39.85  \n",
       "4     Urban          40.17  \n",
       "...     ...            ...  \n",
       "3650  Urban          22.81  \n",
       "3651  Urban          23.31  \n",
       "3652  Urban          23.31  \n",
       "3653  Urban          23.31  \n",
       "3654  Urban          23.31  \n",
       "\n",
       "[3655 rows x 5 columns]"
      ]
     },
     "execution_count": 634,
     "metadata": {},
     "output_type": "execute_result"
    }
   ],
   "source": [
    "sani_data = pd.read_csv(WHS_path/'safelySanitization.csv')\n",
    "sani_data"
   ]
  },
  {
   "cell_type": "code",
   "execution_count": null,
   "metadata": {},
   "outputs": [],
   "source": []
  },
  {
   "cell_type": "markdown",
   "metadata": {},
   "source": [
    "## Tobacco Age 15"
   ]
  },
  {
   "cell_type": "code",
   "execution_count": 635,
   "metadata": {},
   "outputs": [
    {
     "data": {
      "text/html": [
       "<div>\n",
       "<style scoped>\n",
       "    .dataframe tbody tr th:only-of-type {\n",
       "        vertical-align: middle;\n",
       "    }\n",
       "\n",
       "    .dataframe tbody tr th {\n",
       "        vertical-align: top;\n",
       "    }\n",
       "\n",
       "    .dataframe thead th {\n",
       "        text-align: right;\n",
       "    }\n",
       "</style>\n",
       "<table border=\"1\" class=\"dataframe\">\n",
       "  <thead>\n",
       "    <tr style=\"text-align: right;\">\n",
       "      <th></th>\n",
       "      <th>Location</th>\n",
       "      <th>Indicator</th>\n",
       "      <th>Period</th>\n",
       "      <th>Dim1</th>\n",
       "      <th>First Tooltip</th>\n",
       "    </tr>\n",
       "  </thead>\n",
       "  <tbody>\n",
       "    <tr>\n",
       "      <th>0</th>\n",
       "      <td>Albania</td>\n",
       "      <td>Age-standardized prevalence of current tobacco...</td>\n",
       "      <td>2018</td>\n",
       "      <td>Both sexes</td>\n",
       "      <td>29.2</td>\n",
       "    </tr>\n",
       "    <tr>\n",
       "      <th>1</th>\n",
       "      <td>Albania</td>\n",
       "      <td>Age-standardized prevalence of current tobacco...</td>\n",
       "      <td>2018</td>\n",
       "      <td>Male</td>\n",
       "      <td>50.5</td>\n",
       "    </tr>\n",
       "    <tr>\n",
       "      <th>2</th>\n",
       "      <td>Albania</td>\n",
       "      <td>Age-standardized prevalence of current tobacco...</td>\n",
       "      <td>2018</td>\n",
       "      <td>Female</td>\n",
       "      <td>7.9</td>\n",
       "    </tr>\n",
       "    <tr>\n",
       "      <th>3</th>\n",
       "      <td>Albania</td>\n",
       "      <td>Age-standardized prevalence of current tobacco...</td>\n",
       "      <td>2017</td>\n",
       "      <td>Both sexes</td>\n",
       "      <td>29.3</td>\n",
       "    </tr>\n",
       "    <tr>\n",
       "      <th>4</th>\n",
       "      <td>Albania</td>\n",
       "      <td>Age-standardized prevalence of current tobacco...</td>\n",
       "      <td>2017</td>\n",
       "      <td>Male</td>\n",
       "      <td>50.6</td>\n",
       "    </tr>\n",
       "    <tr>\n",
       "      <th>...</th>\n",
       "      <td>...</td>\n",
       "      <td>...</td>\n",
       "      <td>...</td>\n",
       "      <td>...</td>\n",
       "      <td>...</td>\n",
       "    </tr>\n",
       "    <tr>\n",
       "      <th>4018</th>\n",
       "      <td>Zimbabwe</td>\n",
       "      <td>Age-standardized prevalence of current tobacco...</td>\n",
       "      <td>2005</td>\n",
       "      <td>Male</td>\n",
       "      <td>31.6</td>\n",
       "    </tr>\n",
       "    <tr>\n",
       "      <th>4019</th>\n",
       "      <td>Zimbabwe</td>\n",
       "      <td>Age-standardized prevalence of current tobacco...</td>\n",
       "      <td>2005</td>\n",
       "      <td>Female</td>\n",
       "      <td>2.3</td>\n",
       "    </tr>\n",
       "    <tr>\n",
       "      <th>4020</th>\n",
       "      <td>Zimbabwe</td>\n",
       "      <td>Age-standardized prevalence of current tobacco...</td>\n",
       "      <td>2000</td>\n",
       "      <td>Both sexes</td>\n",
       "      <td>18.3</td>\n",
       "    </tr>\n",
       "    <tr>\n",
       "      <th>4021</th>\n",
       "      <td>Zimbabwe</td>\n",
       "      <td>Age-standardized prevalence of current tobacco...</td>\n",
       "      <td>2000</td>\n",
       "      <td>Male</td>\n",
       "      <td>33.7</td>\n",
       "    </tr>\n",
       "    <tr>\n",
       "      <th>4022</th>\n",
       "      <td>Zimbabwe</td>\n",
       "      <td>Age-standardized prevalence of current tobacco...</td>\n",
       "      <td>2000</td>\n",
       "      <td>Female</td>\n",
       "      <td>2.9</td>\n",
       "    </tr>\n",
       "  </tbody>\n",
       "</table>\n",
       "<p>4023 rows × 5 columns</p>\n",
       "</div>"
      ],
      "text/plain": [
       "      Location                                          Indicator  Period  \\\n",
       "0      Albania  Age-standardized prevalence of current tobacco...    2018   \n",
       "1      Albania  Age-standardized prevalence of current tobacco...    2018   \n",
       "2      Albania  Age-standardized prevalence of current tobacco...    2018   \n",
       "3      Albania  Age-standardized prevalence of current tobacco...    2017   \n",
       "4      Albania  Age-standardized prevalence of current tobacco...    2017   \n",
       "...        ...                                                ...     ...   \n",
       "4018  Zimbabwe  Age-standardized prevalence of current tobacco...    2005   \n",
       "4019  Zimbabwe  Age-standardized prevalence of current tobacco...    2005   \n",
       "4020  Zimbabwe  Age-standardized prevalence of current tobacco...    2000   \n",
       "4021  Zimbabwe  Age-standardized prevalence of current tobacco...    2000   \n",
       "4022  Zimbabwe  Age-standardized prevalence of current tobacco...    2000   \n",
       "\n",
       "            Dim1  First Tooltip  \n",
       "0     Both sexes           29.2  \n",
       "1           Male           50.5  \n",
       "2         Female            7.9  \n",
       "3     Both sexes           29.3  \n",
       "4           Male           50.6  \n",
       "...          ...            ...  \n",
       "4018        Male           31.6  \n",
       "4019      Female            2.3  \n",
       "4020  Both sexes           18.3  \n",
       "4021        Male           33.7  \n",
       "4022      Female            2.9  \n",
       "\n",
       "[4023 rows x 5 columns]"
      ]
     },
     "execution_count": 635,
     "metadata": {},
     "output_type": "execute_result"
    }
   ],
   "source": [
    "tob_data = pd.read_csv(WHS_path/'tobaccoAge15.csv')\n",
    "tob_data"
   ]
  },
  {
   "cell_type": "code",
   "execution_count": 636,
   "metadata": {},
   "outputs": [
    {
     "data": {
      "text/plain": [
       "Location         4023\n",
       "Indicator        4023\n",
       "Period           4023\n",
       "Dim1             4023\n",
       "First Tooltip    4023\n",
       "dtype: int64"
      ]
     },
     "execution_count": 636,
     "metadata": {},
     "output_type": "execute_result"
    }
   ],
   "source": [
    "tob_data.isnull().count()"
   ]
  },
  {
   "cell_type": "markdown",
   "metadata": {},
   "source": [
    "This is actually the most interesting thing I've come across in all these datasets. I guess North Korea doesn't think it's proper for women to use tobacco. Super interesting! In this case, I plan on using the total category, not femail category, but this likely skews the total category, so I will need to eliminate North Korea from the final dataset."
   ]
  },
  {
   "cell_type": "markdown",
   "metadata": {},
   "source": [
    "## Be sure to eliminate the Democratic People's Republic of Korea from final dataset"
   ]
  },
  {
   "cell_type": "code",
   "execution_count": 637,
   "metadata": {},
   "outputs": [
    {
     "data": {
      "text/html": [
       "<div>\n",
       "<style scoped>\n",
       "    .dataframe tbody tr th:only-of-type {\n",
       "        vertical-align: middle;\n",
       "    }\n",
       "\n",
       "    .dataframe tbody tr th {\n",
       "        vertical-align: top;\n",
       "    }\n",
       "\n",
       "    .dataframe thead th {\n",
       "        text-align: right;\n",
       "    }\n",
       "</style>\n",
       "<table border=\"1\" class=\"dataframe\">\n",
       "  <thead>\n",
       "    <tr style=\"text-align: right;\">\n",
       "      <th></th>\n",
       "      <th>Location</th>\n",
       "      <th>Indicator</th>\n",
       "      <th>Period</th>\n",
       "      <th>Dim1</th>\n",
       "      <th>First Tooltip</th>\n",
       "    </tr>\n",
       "  </thead>\n",
       "  <tbody>\n",
       "    <tr>\n",
       "      <th>1028</th>\n",
       "      <td>Democratic People's Republic of Korea</td>\n",
       "      <td>Age-standardized prevalence of current tobacco...</td>\n",
       "      <td>2018</td>\n",
       "      <td>Female</td>\n",
       "      <td>0.0</td>\n",
       "    </tr>\n",
       "    <tr>\n",
       "      <th>1031</th>\n",
       "      <td>Democratic People's Republic of Korea</td>\n",
       "      <td>Age-standardized prevalence of current tobacco...</td>\n",
       "      <td>2017</td>\n",
       "      <td>Female</td>\n",
       "      <td>0.0</td>\n",
       "    </tr>\n",
       "    <tr>\n",
       "      <th>1034</th>\n",
       "      <td>Democratic People's Republic of Korea</td>\n",
       "      <td>Age-standardized prevalence of current tobacco...</td>\n",
       "      <td>2016</td>\n",
       "      <td>Female</td>\n",
       "      <td>0.0</td>\n",
       "    </tr>\n",
       "    <tr>\n",
       "      <th>1037</th>\n",
       "      <td>Democratic People's Republic of Korea</td>\n",
       "      <td>Age-standardized prevalence of current tobacco...</td>\n",
       "      <td>2015</td>\n",
       "      <td>Female</td>\n",
       "      <td>0.0</td>\n",
       "    </tr>\n",
       "    <tr>\n",
       "      <th>1040</th>\n",
       "      <td>Democratic People's Republic of Korea</td>\n",
       "      <td>Age-standardized prevalence of current tobacco...</td>\n",
       "      <td>2014</td>\n",
       "      <td>Female</td>\n",
       "      <td>0.0</td>\n",
       "    </tr>\n",
       "    <tr>\n",
       "      <th>1043</th>\n",
       "      <td>Democratic People's Republic of Korea</td>\n",
       "      <td>Age-standardized prevalence of current tobacco...</td>\n",
       "      <td>2013</td>\n",
       "      <td>Female</td>\n",
       "      <td>0.0</td>\n",
       "    </tr>\n",
       "    <tr>\n",
       "      <th>1046</th>\n",
       "      <td>Democratic People's Republic of Korea</td>\n",
       "      <td>Age-standardized prevalence of current tobacco...</td>\n",
       "      <td>2010</td>\n",
       "      <td>Female</td>\n",
       "      <td>0.0</td>\n",
       "    </tr>\n",
       "    <tr>\n",
       "      <th>1049</th>\n",
       "      <td>Democratic People's Republic of Korea</td>\n",
       "      <td>Age-standardized prevalence of current tobacco...</td>\n",
       "      <td>2005</td>\n",
       "      <td>Female</td>\n",
       "      <td>0.0</td>\n",
       "    </tr>\n",
       "    <tr>\n",
       "      <th>1052</th>\n",
       "      <td>Democratic People's Republic of Korea</td>\n",
       "      <td>Age-standardized prevalence of current tobacco...</td>\n",
       "      <td>2000</td>\n",
       "      <td>Female</td>\n",
       "      <td>0.0</td>\n",
       "    </tr>\n",
       "  </tbody>\n",
       "</table>\n",
       "</div>"
      ],
      "text/plain": [
       "                                   Location  \\\n",
       "1028  Democratic People's Republic of Korea   \n",
       "1031  Democratic People's Republic of Korea   \n",
       "1034  Democratic People's Republic of Korea   \n",
       "1037  Democratic People's Republic of Korea   \n",
       "1040  Democratic People's Republic of Korea   \n",
       "1043  Democratic People's Republic of Korea   \n",
       "1046  Democratic People's Republic of Korea   \n",
       "1049  Democratic People's Republic of Korea   \n",
       "1052  Democratic People's Republic of Korea   \n",
       "\n",
       "                                              Indicator  Period    Dim1  \\\n",
       "1028  Age-standardized prevalence of current tobacco...    2018  Female   \n",
       "1031  Age-standardized prevalence of current tobacco...    2017  Female   \n",
       "1034  Age-standardized prevalence of current tobacco...    2016  Female   \n",
       "1037  Age-standardized prevalence of current tobacco...    2015  Female   \n",
       "1040  Age-standardized prevalence of current tobacco...    2014  Female   \n",
       "1043  Age-standardized prevalence of current tobacco...    2013  Female   \n",
       "1046  Age-standardized prevalence of current tobacco...    2010  Female   \n",
       "1049  Age-standardized prevalence of current tobacco...    2005  Female   \n",
       "1052  Age-standardized prevalence of current tobacco...    2000  Female   \n",
       "\n",
       "      First Tooltip  \n",
       "1028            0.0  \n",
       "1031            0.0  \n",
       "1034            0.0  \n",
       "1037            0.0  \n",
       "1040            0.0  \n",
       "1043            0.0  \n",
       "1046            0.0  \n",
       "1049            0.0  \n",
       "1052            0.0  "
      ]
     },
     "execution_count": 637,
     "metadata": {},
     "output_type": "execute_result"
    }
   ],
   "source": [
    "tob_data[tob_data['First Tooltip'] == 0.0]"
   ]
  },
  {
   "cell_type": "code",
   "execution_count": 638,
   "metadata": {},
   "outputs": [
    {
     "data": {
      "text/plain": [
       "array(['Age-standardized prevalence of current tobacco smoking among persons aged 15 years and older'],\n",
       "      dtype=object)"
      ]
     },
     "execution_count": 638,
     "metadata": {},
     "output_type": "execute_result"
    }
   ],
   "source": [
    "tob_data['Indicator'].unique()"
   ]
  },
  {
   "cell_type": "code",
   "execution_count": 639,
   "metadata": {},
   "outputs": [
    {
     "data": {
      "text/html": [
       "<div>\n",
       "<style scoped>\n",
       "    .dataframe tbody tr th:only-of-type {\n",
       "        vertical-align: middle;\n",
       "    }\n",
       "\n",
       "    .dataframe tbody tr th {\n",
       "        vertical-align: top;\n",
       "    }\n",
       "\n",
       "    .dataframe thead th {\n",
       "        text-align: right;\n",
       "    }\n",
       "</style>\n",
       "<table border=\"1\" class=\"dataframe\">\n",
       "  <thead>\n",
       "    <tr style=\"text-align: right;\">\n",
       "      <th></th>\n",
       "      <th>Location</th>\n",
       "      <th>Indicator</th>\n",
       "      <th>Period</th>\n",
       "      <th>Dim1</th>\n",
       "      <th>First Tooltip</th>\n",
       "    </tr>\n",
       "  </thead>\n",
       "  <tbody>\n",
       "    <tr>\n",
       "      <th>0</th>\n",
       "      <td>Albania</td>\n",
       "      <td>Age-standardized prevalence of current tobacco...</td>\n",
       "      <td>2018</td>\n",
       "      <td>Both sexes</td>\n",
       "      <td>29.2</td>\n",
       "    </tr>\n",
       "    <tr>\n",
       "      <th>3</th>\n",
       "      <td>Albania</td>\n",
       "      <td>Age-standardized prevalence of current tobacco...</td>\n",
       "      <td>2017</td>\n",
       "      <td>Both sexes</td>\n",
       "      <td>29.3</td>\n",
       "    </tr>\n",
       "    <tr>\n",
       "      <th>6</th>\n",
       "      <td>Albania</td>\n",
       "      <td>Age-standardized prevalence of current tobacco...</td>\n",
       "      <td>2016</td>\n",
       "      <td>Both sexes</td>\n",
       "      <td>29.7</td>\n",
       "    </tr>\n",
       "    <tr>\n",
       "      <th>9</th>\n",
       "      <td>Albania</td>\n",
       "      <td>Age-standardized prevalence of current tobacco...</td>\n",
       "      <td>2015</td>\n",
       "      <td>Both sexes</td>\n",
       "      <td>29.9</td>\n",
       "    </tr>\n",
       "    <tr>\n",
       "      <th>12</th>\n",
       "      <td>Albania</td>\n",
       "      <td>Age-standardized prevalence of current tobacco...</td>\n",
       "      <td>2014</td>\n",
       "      <td>Both sexes</td>\n",
       "      <td>30.1</td>\n",
       "    </tr>\n",
       "    <tr>\n",
       "      <th>...</th>\n",
       "      <td>...</td>\n",
       "      <td>...</td>\n",
       "      <td>...</td>\n",
       "      <td>...</td>\n",
       "      <td>...</td>\n",
       "    </tr>\n",
       "    <tr>\n",
       "      <th>4008</th>\n",
       "      <td>Zimbabwe</td>\n",
       "      <td>Age-standardized prevalence of current tobacco...</td>\n",
       "      <td>2014</td>\n",
       "      <td>Both sexes</td>\n",
       "      <td>14.7</td>\n",
       "    </tr>\n",
       "    <tr>\n",
       "      <th>4011</th>\n",
       "      <td>Zimbabwe</td>\n",
       "      <td>Age-standardized prevalence of current tobacco...</td>\n",
       "      <td>2013</td>\n",
       "      <td>Both sexes</td>\n",
       "      <td>14.9</td>\n",
       "    </tr>\n",
       "    <tr>\n",
       "      <th>4014</th>\n",
       "      <td>Zimbabwe</td>\n",
       "      <td>Age-standardized prevalence of current tobacco...</td>\n",
       "      <td>2010</td>\n",
       "      <td>Both sexes</td>\n",
       "      <td>15.6</td>\n",
       "    </tr>\n",
       "    <tr>\n",
       "      <th>4017</th>\n",
       "      <td>Zimbabwe</td>\n",
       "      <td>Age-standardized prevalence of current tobacco...</td>\n",
       "      <td>2005</td>\n",
       "      <td>Both sexes</td>\n",
       "      <td>17.0</td>\n",
       "    </tr>\n",
       "    <tr>\n",
       "      <th>4020</th>\n",
       "      <td>Zimbabwe</td>\n",
       "      <td>Age-standardized prevalence of current tobacco...</td>\n",
       "      <td>2000</td>\n",
       "      <td>Both sexes</td>\n",
       "      <td>18.3</td>\n",
       "    </tr>\n",
       "  </tbody>\n",
       "</table>\n",
       "<p>1341 rows × 5 columns</p>\n",
       "</div>"
      ],
      "text/plain": [
       "      Location                                          Indicator  Period  \\\n",
       "0      Albania  Age-standardized prevalence of current tobacco...    2018   \n",
       "3      Albania  Age-standardized prevalence of current tobacco...    2017   \n",
       "6      Albania  Age-standardized prevalence of current tobacco...    2016   \n",
       "9      Albania  Age-standardized prevalence of current tobacco...    2015   \n",
       "12     Albania  Age-standardized prevalence of current tobacco...    2014   \n",
       "...        ...                                                ...     ...   \n",
       "4008  Zimbabwe  Age-standardized prevalence of current tobacco...    2014   \n",
       "4011  Zimbabwe  Age-standardized prevalence of current tobacco...    2013   \n",
       "4014  Zimbabwe  Age-standardized prevalence of current tobacco...    2010   \n",
       "4017  Zimbabwe  Age-standardized prevalence of current tobacco...    2005   \n",
       "4020  Zimbabwe  Age-standardized prevalence of current tobacco...    2000   \n",
       "\n",
       "            Dim1  First Tooltip  \n",
       "0     Both sexes           29.2  \n",
       "3     Both sexes           29.3  \n",
       "6     Both sexes           29.7  \n",
       "9     Both sexes           29.9  \n",
       "12    Both sexes           30.1  \n",
       "...          ...            ...  \n",
       "4008  Both sexes           14.7  \n",
       "4011  Both sexes           14.9  \n",
       "4014  Both sexes           15.6  \n",
       "4017  Both sexes           17.0  \n",
       "4020  Both sexes           18.3  \n",
       "\n",
       "[1341 rows x 5 columns]"
      ]
     },
     "execution_count": 639,
     "metadata": {},
     "output_type": "execute_result"
    }
   ],
   "source": [
    "tob_bs = tob_data[tob_data['Dim1'] == 'Both sexes']\n",
    "tob_bs"
   ]
  },
  {
   "cell_type": "markdown",
   "metadata": {},
   "source": [
    "All years have the same value, so I pick 2015 and 2016."
   ]
  },
  {
   "cell_type": "code",
   "execution_count": 640,
   "metadata": {},
   "outputs": [
    {
     "data": {
      "text/plain": [
       "array([2018, 2017, 2016, 2015, 2014, 2013, 2010, 2005, 2000])"
      ]
     },
     "execution_count": 640,
     "metadata": {},
     "output_type": "execute_result"
    }
   ],
   "source": [
    "tob_bs['Period'].unique()"
   ]
  },
  {
   "cell_type": "code",
   "execution_count": 642,
   "metadata": {},
   "outputs": [
    {
     "data": {
      "text/plain": [
       "Location         149\n",
       "Indicator        149\n",
       "Period           149\n",
       "Dim1             149\n",
       "First Tooltip    149\n",
       "dtype: int64"
      ]
     },
     "execution_count": 642,
     "metadata": {},
     "output_type": "execute_result"
    }
   ],
   "source": [
    "tob_bs[tob_bs['Period'] == 2018].count()"
   ]
  },
  {
   "cell_type": "code",
   "execution_count": 643,
   "metadata": {},
   "outputs": [
    {
     "data": {
      "text/plain": [
       "Location         149\n",
       "Indicator        149\n",
       "Period           149\n",
       "Dim1             149\n",
       "First Tooltip    149\n",
       "dtype: int64"
      ]
     },
     "execution_count": 643,
     "metadata": {},
     "output_type": "execute_result"
    }
   ],
   "source": [
    "tob_bs[tob_bs['Period'] == 2017].count()"
   ]
  },
  {
   "cell_type": "code",
   "execution_count": 644,
   "metadata": {},
   "outputs": [
    {
     "data": {
      "text/plain": [
       "Location         149\n",
       "Indicator        149\n",
       "Period           149\n",
       "Dim1             149\n",
       "First Tooltip    149\n",
       "dtype: int64"
      ]
     },
     "execution_count": 644,
     "metadata": {},
     "output_type": "execute_result"
    }
   ],
   "source": [
    "tob_bs[tob_bs['Period'] == 2016].count()"
   ]
  },
  {
   "cell_type": "code",
   "execution_count": 645,
   "metadata": {},
   "outputs": [
    {
     "data": {
      "text/plain": [
       "Location         149\n",
       "Indicator        149\n",
       "Period           149\n",
       "Dim1             149\n",
       "First Tooltip    149\n",
       "dtype: int64"
      ]
     },
     "execution_count": 645,
     "metadata": {},
     "output_type": "execute_result"
    }
   ],
   "source": [
    "tob_bs[tob_bs['Period'] == 2015].count()"
   ]
  },
  {
   "cell_type": "code",
   "execution_count": 646,
   "metadata": {},
   "outputs": [
    {
     "data": {
      "text/plain": [
       "Location         149\n",
       "Indicator        149\n",
       "Period           149\n",
       "Dim1             149\n",
       "First Tooltip    149\n",
       "dtype: int64"
      ]
     },
     "execution_count": 646,
     "metadata": {},
     "output_type": "execute_result"
    }
   ],
   "source": [
    "tob_bs[tob_bs['Period'] == 2014].count()"
   ]
  },
  {
   "cell_type": "code",
   "execution_count": 647,
   "metadata": {},
   "outputs": [
    {
     "data": {
      "text/plain": [
       "Location         149\n",
       "Indicator        149\n",
       "Period           149\n",
       "Dim1             149\n",
       "First Tooltip    149\n",
       "dtype: int64"
      ]
     },
     "execution_count": 647,
     "metadata": {},
     "output_type": "execute_result"
    }
   ],
   "source": [
    "tob_bs[tob_bs['Period'] == 2013].count()"
   ]
  },
  {
   "cell_type": "code",
   "execution_count": 648,
   "metadata": {},
   "outputs": [
    {
     "data": {
      "text/plain": [
       "Location         149\n",
       "Indicator        149\n",
       "Period           149\n",
       "Dim1             149\n",
       "First Tooltip    149\n",
       "dtype: int64"
      ]
     },
     "execution_count": 648,
     "metadata": {},
     "output_type": "execute_result"
    }
   ],
   "source": [
    "tob_bs[tob_bs['Period'] == 2010].count()"
   ]
  },
  {
   "cell_type": "code",
   "execution_count": 649,
   "metadata": {},
   "outputs": [
    {
     "data": {
      "text/plain": [
       "Location         149\n",
       "Indicator        149\n",
       "Period           149\n",
       "Dim1             149\n",
       "First Tooltip    149\n",
       "dtype: int64"
      ]
     },
     "execution_count": 649,
     "metadata": {},
     "output_type": "execute_result"
    }
   ],
   "source": [
    "tob_bs[tob_bs['Period'] == 2005].count()"
   ]
  },
  {
   "cell_type": "code",
   "execution_count": 650,
   "metadata": {},
   "outputs": [
    {
     "data": {
      "text/plain": [
       "Location         149\n",
       "Indicator        149\n",
       "Period           149\n",
       "Dim1             149\n",
       "First Tooltip    149\n",
       "dtype: int64"
      ]
     },
     "execution_count": 650,
     "metadata": {},
     "output_type": "execute_result"
    }
   ],
   "source": [
    "tob_bs[tob_bs['Period'] == 2000].count()"
   ]
  },
  {
   "cell_type": "markdown",
   "metadata": {},
   "source": [
    "## Dataset to export"
   ]
  },
  {
   "cell_type": "code",
   "execution_count": 651,
   "metadata": {},
   "outputs": [
    {
     "data": {
      "text/html": [
       "<div>\n",
       "<style scoped>\n",
       "    .dataframe tbody tr th:only-of-type {\n",
       "        vertical-align: middle;\n",
       "    }\n",
       "\n",
       "    .dataframe tbody tr th {\n",
       "        vertical-align: top;\n",
       "    }\n",
       "\n",
       "    .dataframe thead th {\n",
       "        text-align: right;\n",
       "    }\n",
       "</style>\n",
       "<table border=\"1\" class=\"dataframe\">\n",
       "  <thead>\n",
       "    <tr style=\"text-align: right;\">\n",
       "      <th></th>\n",
       "      <th>Location</th>\n",
       "      <th>Indicator</th>\n",
       "      <th>Period</th>\n",
       "      <th>Dim1</th>\n",
       "      <th>First Tooltip</th>\n",
       "    </tr>\n",
       "  </thead>\n",
       "  <tbody>\n",
       "    <tr>\n",
       "      <th>6</th>\n",
       "      <td>Albania</td>\n",
       "      <td>Age-standardized prevalence of current tobacco...</td>\n",
       "      <td>2016</td>\n",
       "      <td>Both sexes</td>\n",
       "      <td>29.7</td>\n",
       "    </tr>\n",
       "    <tr>\n",
       "      <th>33</th>\n",
       "      <td>Algeria</td>\n",
       "      <td>Age-standardized prevalence of current tobacco...</td>\n",
       "      <td>2016</td>\n",
       "      <td>Both sexes</td>\n",
       "      <td>19.1</td>\n",
       "    </tr>\n",
       "    <tr>\n",
       "      <th>60</th>\n",
       "      <td>Andorra</td>\n",
       "      <td>Age-standardized prevalence of current tobacco...</td>\n",
       "      <td>2016</td>\n",
       "      <td>Both sexes</td>\n",
       "      <td>33.9</td>\n",
       "    </tr>\n",
       "    <tr>\n",
       "      <th>87</th>\n",
       "      <td>Argentina</td>\n",
       "      <td>Age-standardized prevalence of current tobacco...</td>\n",
       "      <td>2016</td>\n",
       "      <td>Both sexes</td>\n",
       "      <td>23.6</td>\n",
       "    </tr>\n",
       "    <tr>\n",
       "      <th>114</th>\n",
       "      <td>Armenia</td>\n",
       "      <td>Age-standardized prevalence of current tobacco...</td>\n",
       "      <td>2016</td>\n",
       "      <td>Both sexes</td>\n",
       "      <td>27.5</td>\n",
       "    </tr>\n",
       "    <tr>\n",
       "      <th>...</th>\n",
       "      <td>...</td>\n",
       "      <td>...</td>\n",
       "      <td>...</td>\n",
       "      <td>...</td>\n",
       "      <td>...</td>\n",
       "    </tr>\n",
       "    <tr>\n",
       "      <th>3894</th>\n",
       "      <td>Uzbekistan</td>\n",
       "      <td>Age-standardized prevalence of current tobacco...</td>\n",
       "      <td>2016</td>\n",
       "      <td>Both sexes</td>\n",
       "      <td>12.6</td>\n",
       "    </tr>\n",
       "    <tr>\n",
       "      <th>3921</th>\n",
       "      <td>Vanuatu</td>\n",
       "      <td>Age-standardized prevalence of current tobacco...</td>\n",
       "      <td>2016</td>\n",
       "      <td>Both sexes</td>\n",
       "      <td>24.8</td>\n",
       "    </tr>\n",
       "    <tr>\n",
       "      <th>3948</th>\n",
       "      <td>Yemen</td>\n",
       "      <td>Age-standardized prevalence of current tobacco...</td>\n",
       "      <td>2016</td>\n",
       "      <td>Both sexes</td>\n",
       "      <td>21.7</td>\n",
       "    </tr>\n",
       "    <tr>\n",
       "      <th>3975</th>\n",
       "      <td>Zambia</td>\n",
       "      <td>Age-standardized prevalence of current tobacco...</td>\n",
       "      <td>2016</td>\n",
       "      <td>Both sexes</td>\n",
       "      <td>15.2</td>\n",
       "    </tr>\n",
       "    <tr>\n",
       "      <th>4002</th>\n",
       "      <td>Zimbabwe</td>\n",
       "      <td>Age-standardized prevalence of current tobacco...</td>\n",
       "      <td>2016</td>\n",
       "      <td>Both sexes</td>\n",
       "      <td>14.3</td>\n",
       "    </tr>\n",
       "  </tbody>\n",
       "</table>\n",
       "<p>149 rows × 5 columns</p>\n",
       "</div>"
      ],
      "text/plain": [
       "        Location                                          Indicator  Period  \\\n",
       "6        Albania  Age-standardized prevalence of current tobacco...    2016   \n",
       "33       Algeria  Age-standardized prevalence of current tobacco...    2016   \n",
       "60       Andorra  Age-standardized prevalence of current tobacco...    2016   \n",
       "87     Argentina  Age-standardized prevalence of current tobacco...    2016   \n",
       "114      Armenia  Age-standardized prevalence of current tobacco...    2016   \n",
       "...          ...                                                ...     ...   \n",
       "3894  Uzbekistan  Age-standardized prevalence of current tobacco...    2016   \n",
       "3921     Vanuatu  Age-standardized prevalence of current tobacco...    2016   \n",
       "3948       Yemen  Age-standardized prevalence of current tobacco...    2016   \n",
       "3975      Zambia  Age-standardized prevalence of current tobacco...    2016   \n",
       "4002    Zimbabwe  Age-standardized prevalence of current tobacco...    2016   \n",
       "\n",
       "            Dim1  First Tooltip  \n",
       "6     Both sexes           29.7  \n",
       "33    Both sexes           19.1  \n",
       "60    Both sexes           33.9  \n",
       "87    Both sexes           23.6  \n",
       "114   Both sexes           27.5  \n",
       "...          ...            ...  \n",
       "3894  Both sexes           12.6  \n",
       "3921  Both sexes           24.8  \n",
       "3948  Both sexes           21.7  \n",
       "3975  Both sexes           15.2  \n",
       "4002  Both sexes           14.3  \n",
       "\n",
       "[149 rows x 5 columns]"
      ]
     },
     "execution_count": 651,
     "metadata": {},
     "output_type": "execute_result"
    }
   ],
   "source": [
    "tob_2016 = tob_bs[tob_bs['Period'] == 2016]\n",
    "tob_2016"
   ]
  },
  {
   "cell_type": "markdown",
   "metadata": {},
   "source": [
    "# Dataset to export"
   ]
  },
  {
   "cell_type": "code",
   "execution_count": 652,
   "metadata": {},
   "outputs": [
    {
     "data": {
      "text/html": [
       "<div>\n",
       "<style scoped>\n",
       "    .dataframe tbody tr th:only-of-type {\n",
       "        vertical-align: middle;\n",
       "    }\n",
       "\n",
       "    .dataframe tbody tr th {\n",
       "        vertical-align: top;\n",
       "    }\n",
       "\n",
       "    .dataframe thead th {\n",
       "        text-align: right;\n",
       "    }\n",
       "</style>\n",
       "<table border=\"1\" class=\"dataframe\">\n",
       "  <thead>\n",
       "    <tr style=\"text-align: right;\">\n",
       "      <th></th>\n",
       "      <th>Location</th>\n",
       "      <th>Indicator</th>\n",
       "      <th>Period</th>\n",
       "      <th>Dim1</th>\n",
       "      <th>First Tooltip</th>\n",
       "    </tr>\n",
       "  </thead>\n",
       "  <tbody>\n",
       "    <tr>\n",
       "      <th>9</th>\n",
       "      <td>Albania</td>\n",
       "      <td>Age-standardized prevalence of current tobacco...</td>\n",
       "      <td>2015</td>\n",
       "      <td>Both sexes</td>\n",
       "      <td>29.9</td>\n",
       "    </tr>\n",
       "    <tr>\n",
       "      <th>36</th>\n",
       "      <td>Algeria</td>\n",
       "      <td>Age-standardized prevalence of current tobacco...</td>\n",
       "      <td>2015</td>\n",
       "      <td>Both sexes</td>\n",
       "      <td>19.3</td>\n",
       "    </tr>\n",
       "    <tr>\n",
       "      <th>63</th>\n",
       "      <td>Andorra</td>\n",
       "      <td>Age-standardized prevalence of current tobacco...</td>\n",
       "      <td>2015</td>\n",
       "      <td>Both sexes</td>\n",
       "      <td>34.2</td>\n",
       "    </tr>\n",
       "    <tr>\n",
       "      <th>90</th>\n",
       "      <td>Argentina</td>\n",
       "      <td>Age-standardized prevalence of current tobacco...</td>\n",
       "      <td>2015</td>\n",
       "      <td>Both sexes</td>\n",
       "      <td>24.6</td>\n",
       "    </tr>\n",
       "    <tr>\n",
       "      <th>117</th>\n",
       "      <td>Armenia</td>\n",
       "      <td>Age-standardized prevalence of current tobacco...</td>\n",
       "      <td>2015</td>\n",
       "      <td>Both sexes</td>\n",
       "      <td>27.9</td>\n",
       "    </tr>\n",
       "    <tr>\n",
       "      <th>...</th>\n",
       "      <td>...</td>\n",
       "      <td>...</td>\n",
       "      <td>...</td>\n",
       "      <td>...</td>\n",
       "      <td>...</td>\n",
       "    </tr>\n",
       "    <tr>\n",
       "      <th>3897</th>\n",
       "      <td>Uzbekistan</td>\n",
       "      <td>Age-standardized prevalence of current tobacco...</td>\n",
       "      <td>2015</td>\n",
       "      <td>Both sexes</td>\n",
       "      <td>12.8</td>\n",
       "    </tr>\n",
       "    <tr>\n",
       "      <th>3924</th>\n",
       "      <td>Vanuatu</td>\n",
       "      <td>Age-standardized prevalence of current tobacco...</td>\n",
       "      <td>2015</td>\n",
       "      <td>Both sexes</td>\n",
       "      <td>25.1</td>\n",
       "    </tr>\n",
       "    <tr>\n",
       "      <th>3951</th>\n",
       "      <td>Yemen</td>\n",
       "      <td>Age-standardized prevalence of current tobacco...</td>\n",
       "      <td>2015</td>\n",
       "      <td>Both sexes</td>\n",
       "      <td>22.2</td>\n",
       "    </tr>\n",
       "    <tr>\n",
       "      <th>3978</th>\n",
       "      <td>Zambia</td>\n",
       "      <td>Age-standardized prevalence of current tobacco...</td>\n",
       "      <td>2015</td>\n",
       "      <td>Both sexes</td>\n",
       "      <td>15.4</td>\n",
       "    </tr>\n",
       "    <tr>\n",
       "      <th>4005</th>\n",
       "      <td>Zimbabwe</td>\n",
       "      <td>Age-standardized prevalence of current tobacco...</td>\n",
       "      <td>2015</td>\n",
       "      <td>Both sexes</td>\n",
       "      <td>14.5</td>\n",
       "    </tr>\n",
       "  </tbody>\n",
       "</table>\n",
       "<p>149 rows × 5 columns</p>\n",
       "</div>"
      ],
      "text/plain": [
       "        Location                                          Indicator  Period  \\\n",
       "9        Albania  Age-standardized prevalence of current tobacco...    2015   \n",
       "36       Algeria  Age-standardized prevalence of current tobacco...    2015   \n",
       "63       Andorra  Age-standardized prevalence of current tobacco...    2015   \n",
       "90     Argentina  Age-standardized prevalence of current tobacco...    2015   \n",
       "117      Armenia  Age-standardized prevalence of current tobacco...    2015   \n",
       "...          ...                                                ...     ...   \n",
       "3897  Uzbekistan  Age-standardized prevalence of current tobacco...    2015   \n",
       "3924     Vanuatu  Age-standardized prevalence of current tobacco...    2015   \n",
       "3951       Yemen  Age-standardized prevalence of current tobacco...    2015   \n",
       "3978      Zambia  Age-standardized prevalence of current tobacco...    2015   \n",
       "4005    Zimbabwe  Age-standardized prevalence of current tobacco...    2015   \n",
       "\n",
       "            Dim1  First Tooltip  \n",
       "9     Both sexes           29.9  \n",
       "36    Both sexes           19.3  \n",
       "63    Both sexes           34.2  \n",
       "90    Both sexes           24.6  \n",
       "117   Both sexes           27.9  \n",
       "...          ...            ...  \n",
       "3897  Both sexes           12.8  \n",
       "3924  Both sexes           25.1  \n",
       "3951  Both sexes           22.2  \n",
       "3978  Both sexes           15.4  \n",
       "4005  Both sexes           14.5  \n",
       "\n",
       "[149 rows x 5 columns]"
      ]
     },
     "execution_count": 652,
     "metadata": {},
     "output_type": "execute_result"
    }
   ],
   "source": [
    "tob_2015 = tob_bs[tob_bs['Period'] == 2015]\n",
    "tob_2015"
   ]
  },
  {
   "cell_type": "code",
   "execution_count": null,
   "metadata": {},
   "outputs": [],
   "source": []
  },
  {
   "cell_type": "markdown",
   "metadata": {},
   "source": [
    "## UHC Coverage - IGNORE"
   ]
  },
  {
   "cell_type": "code",
   "execution_count": null,
   "metadata": {},
   "outputs": [],
   "source": []
  },
  {
   "cell_type": "markdown",
   "metadata": {},
   "source": [
    "## Under 5 Mortality Rate"
   ]
  },
  {
   "cell_type": "code",
   "execution_count": 654,
   "metadata": {},
   "outputs": [
    {
     "data": {
      "text/html": [
       "<div>\n",
       "<style scoped>\n",
       "    .dataframe tbody tr th:only-of-type {\n",
       "        vertical-align: middle;\n",
       "    }\n",
       "\n",
       "    .dataframe tbody tr th {\n",
       "        vertical-align: top;\n",
       "    }\n",
       "\n",
       "    .dataframe thead th {\n",
       "        text-align: right;\n",
       "    }\n",
       "</style>\n",
       "<table border=\"1\" class=\"dataframe\">\n",
       "  <thead>\n",
       "    <tr style=\"text-align: right;\">\n",
       "      <th></th>\n",
       "      <th>Location</th>\n",
       "      <th>Period</th>\n",
       "      <th>Indicator</th>\n",
       "      <th>Dim1</th>\n",
       "      <th>First Tooltip</th>\n",
       "    </tr>\n",
       "  </thead>\n",
       "  <tbody>\n",
       "    <tr>\n",
       "      <th>0</th>\n",
       "      <td>Afghanistan</td>\n",
       "      <td>2019</td>\n",
       "      <td>Under-five mortality rate (probability of dyin...</td>\n",
       "      <td>Both sexes</td>\n",
       "      <td>60.27 [47.44-74.62]</td>\n",
       "    </tr>\n",
       "    <tr>\n",
       "      <th>1</th>\n",
       "      <td>Afghanistan</td>\n",
       "      <td>2019</td>\n",
       "      <td>Under-five mortality rate (probability of dyin...</td>\n",
       "      <td>Male</td>\n",
       "      <td>63.83 [50.04-79.16]</td>\n",
       "    </tr>\n",
       "    <tr>\n",
       "      <th>2</th>\n",
       "      <td>Afghanistan</td>\n",
       "      <td>2019</td>\n",
       "      <td>Under-five mortality rate (probability of dyin...</td>\n",
       "      <td>Female</td>\n",
       "      <td>56.57 [44.54-70.18]</td>\n",
       "    </tr>\n",
       "    <tr>\n",
       "      <th>3</th>\n",
       "      <td>Afghanistan</td>\n",
       "      <td>2018</td>\n",
       "      <td>Under-five mortality rate (probability of dyin...</td>\n",
       "      <td>Both sexes</td>\n",
       "      <td>62.54 [50.64-75.41]</td>\n",
       "    </tr>\n",
       "    <tr>\n",
       "      <th>4</th>\n",
       "      <td>Afghanistan</td>\n",
       "      <td>2018</td>\n",
       "      <td>Under-five mortality rate (probability of dyin...</td>\n",
       "      <td>Male</td>\n",
       "      <td>66.08 [53.41-79.76]</td>\n",
       "    </tr>\n",
       "    <tr>\n",
       "      <th>...</th>\n",
       "      <td>...</td>\n",
       "      <td>...</td>\n",
       "      <td>...</td>\n",
       "      <td>...</td>\n",
       "      <td>...</td>\n",
       "    </tr>\n",
       "    <tr>\n",
       "      <th>29994</th>\n",
       "      <td>Timor-Leste</td>\n",
       "      <td>2002</td>\n",
       "      <td>Under-five mortality rate (probability of dyin...</td>\n",
       "      <td>Both sexes</td>\n",
       "      <td>96.97 [87.36-107.7]</td>\n",
       "    </tr>\n",
       "    <tr>\n",
       "      <th>29995</th>\n",
       "      <td>Timor-Leste</td>\n",
       "      <td>2002</td>\n",
       "      <td>Under-five mortality rate (probability of dyin...</td>\n",
       "      <td>Male</td>\n",
       "      <td>102.6 [92.14-114]</td>\n",
       "    </tr>\n",
       "    <tr>\n",
       "      <th>29996</th>\n",
       "      <td>Timor-Leste</td>\n",
       "      <td>2002</td>\n",
       "      <td>Under-five mortality rate (probability of dyin...</td>\n",
       "      <td>Female</td>\n",
       "      <td>91.04 [81.92-101.5]</td>\n",
       "    </tr>\n",
       "    <tr>\n",
       "      <th>29997</th>\n",
       "      <td>Timor-Leste</td>\n",
       "      <td>2001</td>\n",
       "      <td>Under-five mortality rate (probability of dyin...</td>\n",
       "      <td>Both sexes</td>\n",
       "      <td>102.5 [92.72-113.3]</td>\n",
       "    </tr>\n",
       "    <tr>\n",
       "      <th>29998</th>\n",
       "      <td>Timor-Leste</td>\n",
       "      <td>2001</td>\n",
       "      <td>Under-five mortality rate (probability of dyin...</td>\n",
       "      <td>Male</td>\n",
       "      <td>108.2 [97.57-120]</td>\n",
       "    </tr>\n",
       "  </tbody>\n",
       "</table>\n",
       "<p>29999 rows × 5 columns</p>\n",
       "</div>"
      ],
      "text/plain": [
       "          Location  Period                                          Indicator  \\\n",
       "0      Afghanistan    2019  Under-five mortality rate (probability of dyin...   \n",
       "1      Afghanistan    2019  Under-five mortality rate (probability of dyin...   \n",
       "2      Afghanistan    2019  Under-five mortality rate (probability of dyin...   \n",
       "3      Afghanistan    2018  Under-five mortality rate (probability of dyin...   \n",
       "4      Afghanistan    2018  Under-five mortality rate (probability of dyin...   \n",
       "...            ...     ...                                                ...   \n",
       "29994  Timor-Leste    2002  Under-five mortality rate (probability of dyin...   \n",
       "29995  Timor-Leste    2002  Under-five mortality rate (probability of dyin...   \n",
       "29996  Timor-Leste    2002  Under-five mortality rate (probability of dyin...   \n",
       "29997  Timor-Leste    2001  Under-five mortality rate (probability of dyin...   \n",
       "29998  Timor-Leste    2001  Under-five mortality rate (probability of dyin...   \n",
       "\n",
       "             Dim1        First Tooltip  \n",
       "0      Both sexes  60.27 [47.44-74.62]  \n",
       "1            Male  63.83 [50.04-79.16]  \n",
       "2          Female  56.57 [44.54-70.18]  \n",
       "3      Both sexes  62.54 [50.64-75.41]  \n",
       "4            Male  66.08 [53.41-79.76]  \n",
       "...           ...                  ...  \n",
       "29994  Both sexes  96.97 [87.36-107.7]  \n",
       "29995        Male    102.6 [92.14-114]  \n",
       "29996      Female  91.04 [81.92-101.5]  \n",
       "29997  Both sexes  102.5 [92.72-113.3]  \n",
       "29998        Male    108.2 [97.57-120]  \n",
       "\n",
       "[29999 rows x 5 columns]"
      ]
     },
     "execution_count": 654,
     "metadata": {},
     "output_type": "execute_result"
    }
   ],
   "source": [
    "under5_mort = pd.read_csv(WHS_path/'under5MortalityRate.csv')\n",
    "under5_mort"
   ]
  },
  {
   "cell_type": "code",
   "execution_count": 655,
   "metadata": {},
   "outputs": [
    {
     "data": {
      "text/plain": [
       "Location         29999\n",
       "Period           29999\n",
       "Indicator        29999\n",
       "Dim1             29999\n",
       "First Tooltip    29999\n",
       "dtype: int64"
      ]
     },
     "execution_count": 655,
     "metadata": {},
     "output_type": "execute_result"
    }
   ],
   "source": [
    "under5_mort.isnull().count()"
   ]
  },
  {
   "cell_type": "code",
   "execution_count": 656,
   "metadata": {},
   "outputs": [
    {
     "data": {
      "text/html": [
       "<div>\n",
       "<style scoped>\n",
       "    .dataframe tbody tr th:only-of-type {\n",
       "        vertical-align: middle;\n",
       "    }\n",
       "\n",
       "    .dataframe tbody tr th {\n",
       "        vertical-align: top;\n",
       "    }\n",
       "\n",
       "    .dataframe thead th {\n",
       "        text-align: right;\n",
       "    }\n",
       "</style>\n",
       "<table border=\"1\" class=\"dataframe\">\n",
       "  <thead>\n",
       "    <tr style=\"text-align: right;\">\n",
       "      <th></th>\n",
       "      <th>Location</th>\n",
       "      <th>Period</th>\n",
       "      <th>Indicator</th>\n",
       "      <th>Dim1</th>\n",
       "      <th>First Tooltip</th>\n",
       "    </tr>\n",
       "  </thead>\n",
       "  <tbody>\n",
       "  </tbody>\n",
       "</table>\n",
       "</div>"
      ],
      "text/plain": [
       "Empty DataFrame\n",
       "Columns: [Location, Period, Indicator, Dim1, First Tooltip]\n",
       "Index: []"
      ]
     },
     "execution_count": 656,
     "metadata": {},
     "output_type": "execute_result"
    }
   ],
   "source": [
    "under5_mort[under5_mort['First Tooltip'] == '0.0 [0.0-0.0]']"
   ]
  },
  {
   "cell_type": "code",
   "execution_count": 657,
   "metadata": {},
   "outputs": [
    {
     "data": {
      "text/plain": [
       "array(['Under-five mortality rate (probability of dying by age 5 per 1000 live births)'],\n",
       "      dtype=object)"
      ]
     },
     "execution_count": 657,
     "metadata": {},
     "output_type": "execute_result"
    }
   ],
   "source": [
    "under5_mort['Indicator'].unique()"
   ]
  },
  {
   "cell_type": "code",
   "execution_count": 659,
   "metadata": {},
   "outputs": [
    {
     "data": {
      "text/html": [
       "<div>\n",
       "<style scoped>\n",
       "    .dataframe tbody tr th:only-of-type {\n",
       "        vertical-align: middle;\n",
       "    }\n",
       "\n",
       "    .dataframe tbody tr th {\n",
       "        vertical-align: top;\n",
       "    }\n",
       "\n",
       "    .dataframe thead th {\n",
       "        text-align: right;\n",
       "    }\n",
       "</style>\n",
       "<table border=\"1\" class=\"dataframe\">\n",
       "  <thead>\n",
       "    <tr style=\"text-align: right;\">\n",
       "      <th></th>\n",
       "      <th>Location</th>\n",
       "      <th>Period</th>\n",
       "      <th>Indicator</th>\n",
       "      <th>Dim1</th>\n",
       "      <th>First Tooltip</th>\n",
       "    </tr>\n",
       "  </thead>\n",
       "  <tbody>\n",
       "    <tr>\n",
       "      <th>0</th>\n",
       "      <td>Afghanistan</td>\n",
       "      <td>2019</td>\n",
       "      <td>Under-five mortality rate (probability of dyin...</td>\n",
       "      <td>Both sexes</td>\n",
       "      <td>60.27 [47.44-74.62]</td>\n",
       "    </tr>\n",
       "    <tr>\n",
       "      <th>3</th>\n",
       "      <td>Afghanistan</td>\n",
       "      <td>2018</td>\n",
       "      <td>Under-five mortality rate (probability of dyin...</td>\n",
       "      <td>Both sexes</td>\n",
       "      <td>62.54 [50.64-75.41]</td>\n",
       "    </tr>\n",
       "    <tr>\n",
       "      <th>6</th>\n",
       "      <td>Afghanistan</td>\n",
       "      <td>2017</td>\n",
       "      <td>Under-five mortality rate (probability of dyin...</td>\n",
       "      <td>Both sexes</td>\n",
       "      <td>64.94 [53.74-76.83]</td>\n",
       "    </tr>\n",
       "    <tr>\n",
       "      <th>9</th>\n",
       "      <td>Afghanistan</td>\n",
       "      <td>2016</td>\n",
       "      <td>Under-five mortality rate (probability of dyin...</td>\n",
       "      <td>Both sexes</td>\n",
       "      <td>67.57 [57.07-78.65]</td>\n",
       "    </tr>\n",
       "    <tr>\n",
       "      <th>12</th>\n",
       "      <td>Afghanistan</td>\n",
       "      <td>2015</td>\n",
       "      <td>Under-five mortality rate (probability of dyin...</td>\n",
       "      <td>Both sexes</td>\n",
       "      <td>70.44 [60.72-80.86]</td>\n",
       "    </tr>\n",
       "    <tr>\n",
       "      <th>...</th>\n",
       "      <td>...</td>\n",
       "      <td>...</td>\n",
       "      <td>...</td>\n",
       "      <td>...</td>\n",
       "      <td>...</td>\n",
       "    </tr>\n",
       "    <tr>\n",
       "      <th>29985</th>\n",
       "      <td>Timor-Leste</td>\n",
       "      <td>2005</td>\n",
       "      <td>Under-five mortality rate (probability of dyin...</td>\n",
       "      <td>Both sexes</td>\n",
       "      <td>81.27 [71.55-92.09]</td>\n",
       "    </tr>\n",
       "    <tr>\n",
       "      <th>29988</th>\n",
       "      <td>Timor-Leste</td>\n",
       "      <td>2004</td>\n",
       "      <td>Under-five mortality rate (probability of dyin...</td>\n",
       "      <td>Both sexes</td>\n",
       "      <td>86.34 [76.74-96.94]</td>\n",
       "    </tr>\n",
       "    <tr>\n",
       "      <th>29991</th>\n",
       "      <td>Timor-Leste</td>\n",
       "      <td>2003</td>\n",
       "      <td>Under-five mortality rate (probability of dyin...</td>\n",
       "      <td>Both sexes</td>\n",
       "      <td>91.59 [82-102.1]</td>\n",
       "    </tr>\n",
       "    <tr>\n",
       "      <th>29994</th>\n",
       "      <td>Timor-Leste</td>\n",
       "      <td>2002</td>\n",
       "      <td>Under-five mortality rate (probability of dyin...</td>\n",
       "      <td>Both sexes</td>\n",
       "      <td>96.97 [87.36-107.7]</td>\n",
       "    </tr>\n",
       "    <tr>\n",
       "      <th>29997</th>\n",
       "      <td>Timor-Leste</td>\n",
       "      <td>2001</td>\n",
       "      <td>Under-five mortality rate (probability of dyin...</td>\n",
       "      <td>Both sexes</td>\n",
       "      <td>102.5 [92.72-113.3]</td>\n",
       "    </tr>\n",
       "  </tbody>\n",
       "</table>\n",
       "<p>10000 rows × 5 columns</p>\n",
       "</div>"
      ],
      "text/plain": [
       "          Location  Period                                          Indicator  \\\n",
       "0      Afghanistan    2019  Under-five mortality rate (probability of dyin...   \n",
       "3      Afghanistan    2018  Under-five mortality rate (probability of dyin...   \n",
       "6      Afghanistan    2017  Under-five mortality rate (probability of dyin...   \n",
       "9      Afghanistan    2016  Under-five mortality rate (probability of dyin...   \n",
       "12     Afghanistan    2015  Under-five mortality rate (probability of dyin...   \n",
       "...            ...     ...                                                ...   \n",
       "29985  Timor-Leste    2005  Under-five mortality rate (probability of dyin...   \n",
       "29988  Timor-Leste    2004  Under-five mortality rate (probability of dyin...   \n",
       "29991  Timor-Leste    2003  Under-five mortality rate (probability of dyin...   \n",
       "29994  Timor-Leste    2002  Under-five mortality rate (probability of dyin...   \n",
       "29997  Timor-Leste    2001  Under-five mortality rate (probability of dyin...   \n",
       "\n",
       "             Dim1        First Tooltip  \n",
       "0      Both sexes  60.27 [47.44-74.62]  \n",
       "3      Both sexes  62.54 [50.64-75.41]  \n",
       "6      Both sexes  64.94 [53.74-76.83]  \n",
       "9      Both sexes  67.57 [57.07-78.65]  \n",
       "12     Both sexes  70.44 [60.72-80.86]  \n",
       "...           ...                  ...  \n",
       "29985  Both sexes  81.27 [71.55-92.09]  \n",
       "29988  Both sexes  86.34 [76.74-96.94]  \n",
       "29991  Both sexes     91.59 [82-102.1]  \n",
       "29994  Both sexes  96.97 [87.36-107.7]  \n",
       "29997  Both sexes  102.5 [92.72-113.3]  \n",
       "\n",
       "[10000 rows x 5 columns]"
      ]
     },
     "execution_count": 659,
     "metadata": {},
     "output_type": "execute_result"
    }
   ],
   "source": [
    "under5_bs = under5_mort[under5_mort['Dim1'] == 'Both sexes']\n",
    "under5_bs"
   ]
  },
  {
   "cell_type": "markdown",
   "metadata": {},
   "source": [
    "The years had almost all the same counts, so I picked 2015 and 2016."
   ]
  },
  {
   "cell_type": "code",
   "execution_count": 661,
   "metadata": {},
   "outputs": [
    {
     "data": {
      "text/plain": [
       "array([2019, 2018, 2017, 2016, 2015, 2014, 2013, 2012, 2011, 2010, 2009,\n",
       "       2008, 2007, 2006, 2005, 2004, 2003, 2002, 2001, 2000, 1999, 1998,\n",
       "       1997, 1996, 1995, 1994, 1993, 1992, 1991, 1990, 1989, 1988, 1987,\n",
       "       1986, 1985, 1984, 1983, 1982, 1981, 1980, 1979, 1978, 1977, 1976,\n",
       "       1975, 1974, 1973, 1972, 1971, 1970, 1969, 1968, 1967, 1966, 1965,\n",
       "       1964, 1963, 1962, 1961, 1960, 1959, 1958, 1957, 1956, 1955, 1954,\n",
       "       1953, 1952, 1951, 1950])"
      ]
     },
     "execution_count": 661,
     "metadata": {},
     "output_type": "execute_result"
    }
   ],
   "source": [
    "under5_bs['Period'].unique()"
   ]
  },
  {
   "cell_type": "code",
   "execution_count": 662,
   "metadata": {},
   "outputs": [
    {
     "data": {
      "text/plain": [
       "Location         172\n",
       "Period           172\n",
       "Indicator        172\n",
       "Dim1             172\n",
       "First Tooltip    172\n",
       "dtype: int64"
      ]
     },
     "execution_count": 662,
     "metadata": {},
     "output_type": "execute_result"
    }
   ],
   "source": [
    "under5_bs[under5_bs['Period'] == 2019].count()"
   ]
  },
  {
   "cell_type": "code",
   "execution_count": 663,
   "metadata": {},
   "outputs": [
    {
     "data": {
      "text/plain": [
       "Location         172\n",
       "Period           172\n",
       "Indicator        172\n",
       "Dim1             172\n",
       "First Tooltip    172\n",
       "dtype: int64"
      ]
     },
     "execution_count": 663,
     "metadata": {},
     "output_type": "execute_result"
    }
   ],
   "source": [
    "under5_bs[under5_bs['Period'] == 2018].count()"
   ]
  },
  {
   "cell_type": "code",
   "execution_count": 664,
   "metadata": {},
   "outputs": [
    {
     "data": {
      "text/plain": [
       "Location         172\n",
       "Period           172\n",
       "Indicator        172\n",
       "Dim1             172\n",
       "First Tooltip    172\n",
       "dtype: int64"
      ]
     },
     "execution_count": 664,
     "metadata": {},
     "output_type": "execute_result"
    }
   ],
   "source": [
    "under5_bs[under5_bs['Period'] == 2017].count()"
   ]
  },
  {
   "cell_type": "code",
   "execution_count": 665,
   "metadata": {},
   "outputs": [
    {
     "data": {
      "text/plain": [
       "Location         172\n",
       "Period           172\n",
       "Indicator        172\n",
       "Dim1             172\n",
       "First Tooltip    172\n",
       "dtype: int64"
      ]
     },
     "execution_count": 665,
     "metadata": {},
     "output_type": "execute_result"
    }
   ],
   "source": [
    "under5_bs[under5_bs['Period'] == 2016].count()"
   ]
  },
  {
   "cell_type": "code",
   "execution_count": 666,
   "metadata": {},
   "outputs": [
    {
     "data": {
      "text/plain": [
       "Location         172\n",
       "Period           172\n",
       "Indicator        172\n",
       "Dim1             172\n",
       "First Tooltip    172\n",
       "dtype: int64"
      ]
     },
     "execution_count": 666,
     "metadata": {},
     "output_type": "execute_result"
    }
   ],
   "source": [
    "under5_bs[under5_bs['Period'] == 2015].count()"
   ]
  },
  {
   "cell_type": "code",
   "execution_count": 667,
   "metadata": {},
   "outputs": [
    {
     "data": {
      "text/plain": [
       "Location         172\n",
       "Period           172\n",
       "Indicator        172\n",
       "Dim1             172\n",
       "First Tooltip    172\n",
       "dtype: int64"
      ]
     },
     "execution_count": 667,
     "metadata": {},
     "output_type": "execute_result"
    }
   ],
   "source": [
    "under5_bs[under5_bs['Period'] == 2014].count()"
   ]
  },
  {
   "cell_type": "code",
   "execution_count": 668,
   "metadata": {},
   "outputs": [
    {
     "data": {
      "text/plain": [
       "Location         172\n",
       "Period           172\n",
       "Indicator        172\n",
       "Dim1             172\n",
       "First Tooltip    172\n",
       "dtype: int64"
      ]
     },
     "execution_count": 668,
     "metadata": {},
     "output_type": "execute_result"
    }
   ],
   "source": [
    "under5_bs[under5_bs['Period'] == 2013].count()"
   ]
  },
  {
   "cell_type": "code",
   "execution_count": 669,
   "metadata": {},
   "outputs": [
    {
     "data": {
      "text/plain": [
       "Location         172\n",
       "Period           172\n",
       "Indicator        172\n",
       "Dim1             172\n",
       "First Tooltip    172\n",
       "dtype: int64"
      ]
     },
     "execution_count": 669,
     "metadata": {},
     "output_type": "execute_result"
    }
   ],
   "source": [
    "under5_bs[under5_bs['Period'] == 2012].count()"
   ]
  },
  {
   "cell_type": "code",
   "execution_count": 670,
   "metadata": {},
   "outputs": [
    {
     "data": {
      "text/plain": [
       "Location         172\n",
       "Period           172\n",
       "Indicator        172\n",
       "Dim1             172\n",
       "First Tooltip    172\n",
       "dtype: int64"
      ]
     },
     "execution_count": 670,
     "metadata": {},
     "output_type": "execute_result"
    }
   ],
   "source": [
    "under5_bs[under5_bs['Period'] == 2011].count()"
   ]
  },
  {
   "cell_type": "code",
   "execution_count": 671,
   "metadata": {},
   "outputs": [
    {
     "data": {
      "text/plain": [
       "Location         172\n",
       "Period           172\n",
       "Indicator        172\n",
       "Dim1             172\n",
       "First Tooltip    172\n",
       "dtype: int64"
      ]
     },
     "execution_count": 671,
     "metadata": {},
     "output_type": "execute_result"
    }
   ],
   "source": [
    "under5_bs[under5_bs['Period'] == 2010].count()"
   ]
  },
  {
   "cell_type": "code",
   "execution_count": 672,
   "metadata": {},
   "outputs": [
    {
     "data": {
      "text/plain": [
       "Location         172\n",
       "Period           172\n",
       "Indicator        172\n",
       "Dim1             172\n",
       "First Tooltip    172\n",
       "dtype: int64"
      ]
     },
     "execution_count": 672,
     "metadata": {},
     "output_type": "execute_result"
    }
   ],
   "source": [
    "under5_bs[under5_bs['Period'] == 2009].count()"
   ]
  },
  {
   "cell_type": "code",
   "execution_count": 673,
   "metadata": {},
   "outputs": [
    {
     "data": {
      "text/plain": [
       "Location         172\n",
       "Period           172\n",
       "Indicator        172\n",
       "Dim1             172\n",
       "First Tooltip    172\n",
       "dtype: int64"
      ]
     },
     "execution_count": 673,
     "metadata": {},
     "output_type": "execute_result"
    }
   ],
   "source": [
    "under5_bs[under5_bs['Period'] == 2008].count()"
   ]
  },
  {
   "cell_type": "code",
   "execution_count": 674,
   "metadata": {},
   "outputs": [
    {
     "data": {
      "text/plain": [
       "Location         172\n",
       "Period           172\n",
       "Indicator        172\n",
       "Dim1             172\n",
       "First Tooltip    172\n",
       "dtype: int64"
      ]
     },
     "execution_count": 674,
     "metadata": {},
     "output_type": "execute_result"
    }
   ],
   "source": [
    "under5_bs[under5_bs['Period'] == 2007].count()"
   ]
  },
  {
   "cell_type": "code",
   "execution_count": 675,
   "metadata": {},
   "outputs": [
    {
     "data": {
      "text/plain": [
       "Location         172\n",
       "Period           172\n",
       "Indicator        172\n",
       "Dim1             172\n",
       "First Tooltip    172\n",
       "dtype: int64"
      ]
     },
     "execution_count": 675,
     "metadata": {},
     "output_type": "execute_result"
    }
   ],
   "source": [
    "under5_bs[under5_bs['Period'] == 2006].count()"
   ]
  },
  {
   "cell_type": "code",
   "execution_count": 676,
   "metadata": {},
   "outputs": [
    {
     "data": {
      "text/plain": [
       "Location         172\n",
       "Period           172\n",
       "Indicator        172\n",
       "Dim1             172\n",
       "First Tooltip    172\n",
       "dtype: int64"
      ]
     },
     "execution_count": 676,
     "metadata": {},
     "output_type": "execute_result"
    }
   ],
   "source": [
    "under5_bs[under5_bs['Period'] == 2005].count()"
   ]
  },
  {
   "cell_type": "code",
   "execution_count": 677,
   "metadata": {},
   "outputs": [
    {
     "data": {
      "text/plain": [
       "Location         172\n",
       "Period           172\n",
       "Indicator        172\n",
       "Dim1             172\n",
       "First Tooltip    172\n",
       "dtype: int64"
      ]
     },
     "execution_count": 677,
     "metadata": {},
     "output_type": "execute_result"
    }
   ],
   "source": [
    "under5_bs[under5_bs['Period'] == 2004].count()"
   ]
  },
  {
   "cell_type": "code",
   "execution_count": 678,
   "metadata": {},
   "outputs": [
    {
     "data": {
      "text/plain": [
       "Location         172\n",
       "Period           172\n",
       "Indicator        172\n",
       "Dim1             172\n",
       "First Tooltip    172\n",
       "dtype: int64"
      ]
     },
     "execution_count": 678,
     "metadata": {},
     "output_type": "execute_result"
    }
   ],
   "source": [
    "under5_bs[under5_bs['Period'] == 2003].count()"
   ]
  },
  {
   "cell_type": "code",
   "execution_count": 679,
   "metadata": {},
   "outputs": [
    {
     "data": {
      "text/plain": [
       "Location         172\n",
       "Period           172\n",
       "Indicator        172\n",
       "Dim1             172\n",
       "First Tooltip    172\n",
       "dtype: int64"
      ]
     },
     "execution_count": 679,
     "metadata": {},
     "output_type": "execute_result"
    }
   ],
   "source": [
    "under5_bs[under5_bs['Period'] == 2002].count()"
   ]
  },
  {
   "cell_type": "code",
   "execution_count": 680,
   "metadata": {},
   "outputs": [
    {
     "data": {
      "text/plain": [
       "Location         172\n",
       "Period           172\n",
       "Indicator        172\n",
       "Dim1             172\n",
       "First Tooltip    172\n",
       "dtype: int64"
      ]
     },
     "execution_count": 680,
     "metadata": {},
     "output_type": "execute_result"
    }
   ],
   "source": [
    "under5_bs[under5_bs['Period'] == 2001].count()"
   ]
  },
  {
   "cell_type": "code",
   "execution_count": 681,
   "metadata": {},
   "outputs": [
    {
     "data": {
      "text/plain": [
       "Location         171\n",
       "Period           171\n",
       "Indicator        171\n",
       "Dim1             171\n",
       "First Tooltip    171\n",
       "dtype: int64"
      ]
     },
     "execution_count": 681,
     "metadata": {},
     "output_type": "execute_result"
    }
   ],
   "source": [
    "under5_bs[under5_bs['Period'] == 2000].count()"
   ]
  },
  {
   "cell_type": "markdown",
   "metadata": {},
   "source": [
    "## Dataset to export"
   ]
  },
  {
   "cell_type": "code",
   "execution_count": 682,
   "metadata": {},
   "outputs": [
    {
     "data": {
      "text/html": [
       "<div>\n",
       "<style scoped>\n",
       "    .dataframe tbody tr th:only-of-type {\n",
       "        vertical-align: middle;\n",
       "    }\n",
       "\n",
       "    .dataframe tbody tr th {\n",
       "        vertical-align: top;\n",
       "    }\n",
       "\n",
       "    .dataframe thead th {\n",
       "        text-align: right;\n",
       "    }\n",
       "</style>\n",
       "<table border=\"1\" class=\"dataframe\">\n",
       "  <thead>\n",
       "    <tr style=\"text-align: right;\">\n",
       "      <th></th>\n",
       "      <th>Location</th>\n",
       "      <th>Period</th>\n",
       "      <th>Indicator</th>\n",
       "      <th>Dim1</th>\n",
       "      <th>First Tooltip</th>\n",
       "    </tr>\n",
       "  </thead>\n",
       "  <tbody>\n",
       "    <tr>\n",
       "      <th>9</th>\n",
       "      <td>Afghanistan</td>\n",
       "      <td>2016</td>\n",
       "      <td>Under-five mortality rate (probability of dyin...</td>\n",
       "      <td>Both sexes</td>\n",
       "      <td>67.57 [57.07-78.65]</td>\n",
       "    </tr>\n",
       "    <tr>\n",
       "      <th>183</th>\n",
       "      <td>Albania</td>\n",
       "      <td>2016</td>\n",
       "      <td>Under-five mortality rate (probability of dyin...</td>\n",
       "      <td>Both sexes</td>\n",
       "      <td>9.42 [9.08-9.8]</td>\n",
       "    </tr>\n",
       "    <tr>\n",
       "      <th>309</th>\n",
       "      <td>Algeria</td>\n",
       "      <td>2016</td>\n",
       "      <td>Under-five mortality rate (probability of dyin...</td>\n",
       "      <td>Both sexes</td>\n",
       "      <td>24.79 [24.25-25.34]</td>\n",
       "    </tr>\n",
       "    <tr>\n",
       "      <th>507</th>\n",
       "      <td>Andorra</td>\n",
       "      <td>2016</td>\n",
       "      <td>Under-five mortality rate (probability of dyin...</td>\n",
       "      <td>Both sexes</td>\n",
       "      <td>3.37 [1.1-10.78]</td>\n",
       "    </tr>\n",
       "    <tr>\n",
       "      <th>612</th>\n",
       "      <td>Angola</td>\n",
       "      <td>2016</td>\n",
       "      <td>Under-five mortality rate (probability of dyin...</td>\n",
       "      <td>Both sexes</td>\n",
       "      <td>84.21 [42.56-146.4]</td>\n",
       "    </tr>\n",
       "    <tr>\n",
       "      <th>...</th>\n",
       "      <td>...</td>\n",
       "      <td>...</td>\n",
       "      <td>...</td>\n",
       "      <td>...</td>\n",
       "      <td>...</td>\n",
       "    </tr>\n",
       "    <tr>\n",
       "      <th>29187</th>\n",
       "      <td>Switzerland</td>\n",
       "      <td>2016</td>\n",
       "      <td>Under-five mortality rate (probability of dyin...</td>\n",
       "      <td>Both sexes</td>\n",
       "      <td>4.25 [4.06-4.45]</td>\n",
       "    </tr>\n",
       "    <tr>\n",
       "      <th>29397</th>\n",
       "      <td>Syrian Arab Republic</td>\n",
       "      <td>2016</td>\n",
       "      <td>Under-five mortality rate (probability of dyin...</td>\n",
       "      <td>Both sexes</td>\n",
       "      <td>23.27 [15.09-28.55]</td>\n",
       "    </tr>\n",
       "    <tr>\n",
       "      <th>29598</th>\n",
       "      <td>Tajikistan</td>\n",
       "      <td>2016</td>\n",
       "      <td>Under-five mortality rate (probability of dyin...</td>\n",
       "      <td>Both sexes</td>\n",
       "      <td>36.82 [27.93-48.82]</td>\n",
       "    </tr>\n",
       "    <tr>\n",
       "      <th>29742</th>\n",
       "      <td>Thailand</td>\n",
       "      <td>2016</td>\n",
       "      <td>Under-five mortality rate (probability of dyin...</td>\n",
       "      <td>Both sexes</td>\n",
       "      <td>10.32 [9.06-12.38]</td>\n",
       "    </tr>\n",
       "    <tr>\n",
       "      <th>29952</th>\n",
       "      <td>Timor-Leste</td>\n",
       "      <td>2016</td>\n",
       "      <td>Under-five mortality rate (probability of dyin...</td>\n",
       "      <td>Both sexes</td>\n",
       "      <td>49.01 [32.03-74.01]</td>\n",
       "    </tr>\n",
       "  </tbody>\n",
       "</table>\n",
       "<p>172 rows × 5 columns</p>\n",
       "</div>"
      ],
      "text/plain": [
       "                   Location  Period  \\\n",
       "9               Afghanistan    2016   \n",
       "183                 Albania    2016   \n",
       "309                 Algeria    2016   \n",
       "507                 Andorra    2016   \n",
       "612                  Angola    2016   \n",
       "...                     ...     ...   \n",
       "29187           Switzerland    2016   \n",
       "29397  Syrian Arab Republic    2016   \n",
       "29598            Tajikistan    2016   \n",
       "29742              Thailand    2016   \n",
       "29952           Timor-Leste    2016   \n",
       "\n",
       "                                               Indicator        Dim1  \\\n",
       "9      Under-five mortality rate (probability of dyin...  Both sexes   \n",
       "183    Under-five mortality rate (probability of dyin...  Both sexes   \n",
       "309    Under-five mortality rate (probability of dyin...  Both sexes   \n",
       "507    Under-five mortality rate (probability of dyin...  Both sexes   \n",
       "612    Under-five mortality rate (probability of dyin...  Both sexes   \n",
       "...                                                  ...         ...   \n",
       "29187  Under-five mortality rate (probability of dyin...  Both sexes   \n",
       "29397  Under-five mortality rate (probability of dyin...  Both sexes   \n",
       "29598  Under-five mortality rate (probability of dyin...  Both sexes   \n",
       "29742  Under-five mortality rate (probability of dyin...  Both sexes   \n",
       "29952  Under-five mortality rate (probability of dyin...  Both sexes   \n",
       "\n",
       "             First Tooltip  \n",
       "9      67.57 [57.07-78.65]  \n",
       "183        9.42 [9.08-9.8]  \n",
       "309    24.79 [24.25-25.34]  \n",
       "507       3.37 [1.1-10.78]  \n",
       "612    84.21 [42.56-146.4]  \n",
       "...                    ...  \n",
       "29187     4.25 [4.06-4.45]  \n",
       "29397  23.27 [15.09-28.55]  \n",
       "29598  36.82 [27.93-48.82]  \n",
       "29742   10.32 [9.06-12.38]  \n",
       "29952  49.01 [32.03-74.01]  \n",
       "\n",
       "[172 rows x 5 columns]"
      ]
     },
     "execution_count": 682,
     "metadata": {},
     "output_type": "execute_result"
    }
   ],
   "source": [
    "under5_2016 = under5_bs[under5_bs['Period'] == 2016]\n",
    "under5_2016"
   ]
  },
  {
   "cell_type": "markdown",
   "metadata": {},
   "source": [
    "## Dataset to export"
   ]
  },
  {
   "cell_type": "code",
   "execution_count": 683,
   "metadata": {},
   "outputs": [
    {
     "data": {
      "text/html": [
       "<div>\n",
       "<style scoped>\n",
       "    .dataframe tbody tr th:only-of-type {\n",
       "        vertical-align: middle;\n",
       "    }\n",
       "\n",
       "    .dataframe tbody tr th {\n",
       "        vertical-align: top;\n",
       "    }\n",
       "\n",
       "    .dataframe thead th {\n",
       "        text-align: right;\n",
       "    }\n",
       "</style>\n",
       "<table border=\"1\" class=\"dataframe\">\n",
       "  <thead>\n",
       "    <tr style=\"text-align: right;\">\n",
       "      <th></th>\n",
       "      <th>Location</th>\n",
       "      <th>Period</th>\n",
       "      <th>Indicator</th>\n",
       "      <th>Dim1</th>\n",
       "      <th>First Tooltip</th>\n",
       "    </tr>\n",
       "  </thead>\n",
       "  <tbody>\n",
       "    <tr>\n",
       "      <th>12</th>\n",
       "      <td>Afghanistan</td>\n",
       "      <td>2015</td>\n",
       "      <td>Under-five mortality rate (probability of dyin...</td>\n",
       "      <td>Both sexes</td>\n",
       "      <td>70.44 [60.72-80.86]</td>\n",
       "    </tr>\n",
       "    <tr>\n",
       "      <th>186</th>\n",
       "      <td>Albania</td>\n",
       "      <td>2015</td>\n",
       "      <td>Under-five mortality rate (probability of dyin...</td>\n",
       "      <td>Both sexes</td>\n",
       "      <td>9.57 [9.23-9.94]</td>\n",
       "    </tr>\n",
       "    <tr>\n",
       "      <th>312</th>\n",
       "      <td>Algeria</td>\n",
       "      <td>2015</td>\n",
       "      <td>Under-five mortality rate (probability of dyin...</td>\n",
       "      <td>Both sexes</td>\n",
       "      <td>25.18 [24.61-25.75]</td>\n",
       "    </tr>\n",
       "    <tr>\n",
       "      <th>510</th>\n",
       "      <td>Andorra</td>\n",
       "      <td>2015</td>\n",
       "      <td>Under-five mortality rate (probability of dyin...</td>\n",
       "      <td>Both sexes</td>\n",
       "      <td>3.53 [1.23-10.59]</td>\n",
       "    </tr>\n",
       "    <tr>\n",
       "      <th>615</th>\n",
       "      <td>Angola</td>\n",
       "      <td>2015</td>\n",
       "      <td>Under-five mortality rate (probability of dyin...</td>\n",
       "      <td>Both sexes</td>\n",
       "      <td>88.2 [46.58-149.6]</td>\n",
       "    </tr>\n",
       "    <tr>\n",
       "      <th>...</th>\n",
       "      <td>...</td>\n",
       "      <td>...</td>\n",
       "      <td>...</td>\n",
       "      <td>...</td>\n",
       "      <td>...</td>\n",
       "    </tr>\n",
       "    <tr>\n",
       "      <th>29190</th>\n",
       "      <td>Switzerland</td>\n",
       "      <td>2015</td>\n",
       "      <td>Under-five mortality rate (probability of dyin...</td>\n",
       "      <td>Both sexes</td>\n",
       "      <td>4.31 [4.15-4.47]</td>\n",
       "    </tr>\n",
       "    <tr>\n",
       "      <th>29400</th>\n",
       "      <td>Syrian Arab Republic</td>\n",
       "      <td>2015</td>\n",
       "      <td>Under-five mortality rate (probability of dyin...</td>\n",
       "      <td>Both sexes</td>\n",
       "      <td>23.18 [15.76-28.16]</td>\n",
       "    </tr>\n",
       "    <tr>\n",
       "      <th>29601</th>\n",
       "      <td>Tajikistan</td>\n",
       "      <td>2015</td>\n",
       "      <td>Under-five mortality rate (probability of dyin...</td>\n",
       "      <td>Both sexes</td>\n",
       "      <td>37.75 [30.11-47.75]</td>\n",
       "    </tr>\n",
       "    <tr>\n",
       "      <th>29745</th>\n",
       "      <td>Thailand</td>\n",
       "      <td>2015</td>\n",
       "      <td>Under-five mortality rate (probability of dyin...</td>\n",
       "      <td>Both sexes</td>\n",
       "      <td>10.8 [9.5-12.75]</td>\n",
       "    </tr>\n",
       "    <tr>\n",
       "      <th>29955</th>\n",
       "      <td>Timor-Leste</td>\n",
       "      <td>2015</td>\n",
       "      <td>Under-five mortality rate (probability of dyin...</td>\n",
       "      <td>Both sexes</td>\n",
       "      <td>50.76 [34.49-73.94]</td>\n",
       "    </tr>\n",
       "  </tbody>\n",
       "</table>\n",
       "<p>172 rows × 5 columns</p>\n",
       "</div>"
      ],
      "text/plain": [
       "                   Location  Period  \\\n",
       "12              Afghanistan    2015   \n",
       "186                 Albania    2015   \n",
       "312                 Algeria    2015   \n",
       "510                 Andorra    2015   \n",
       "615                  Angola    2015   \n",
       "...                     ...     ...   \n",
       "29190           Switzerland    2015   \n",
       "29400  Syrian Arab Republic    2015   \n",
       "29601            Tajikistan    2015   \n",
       "29745              Thailand    2015   \n",
       "29955           Timor-Leste    2015   \n",
       "\n",
       "                                               Indicator        Dim1  \\\n",
       "12     Under-five mortality rate (probability of dyin...  Both sexes   \n",
       "186    Under-five mortality rate (probability of dyin...  Both sexes   \n",
       "312    Under-five mortality rate (probability of dyin...  Both sexes   \n",
       "510    Under-five mortality rate (probability of dyin...  Both sexes   \n",
       "615    Under-five mortality rate (probability of dyin...  Both sexes   \n",
       "...                                                  ...         ...   \n",
       "29190  Under-five mortality rate (probability of dyin...  Both sexes   \n",
       "29400  Under-five mortality rate (probability of dyin...  Both sexes   \n",
       "29601  Under-five mortality rate (probability of dyin...  Both sexes   \n",
       "29745  Under-five mortality rate (probability of dyin...  Both sexes   \n",
       "29955  Under-five mortality rate (probability of dyin...  Both sexes   \n",
       "\n",
       "             First Tooltip  \n",
       "12     70.44 [60.72-80.86]  \n",
       "186       9.57 [9.23-9.94]  \n",
       "312    25.18 [24.61-25.75]  \n",
       "510      3.53 [1.23-10.59]  \n",
       "615     88.2 [46.58-149.6]  \n",
       "...                    ...  \n",
       "29190     4.31 [4.15-4.47]  \n",
       "29400  23.18 [15.76-28.16]  \n",
       "29601  37.75 [30.11-47.75]  \n",
       "29745     10.8 [9.5-12.75]  \n",
       "29955  50.76 [34.49-73.94]  \n",
       "\n",
       "[172 rows x 5 columns]"
      ]
     },
     "execution_count": 683,
     "metadata": {},
     "output_type": "execute_result"
    }
   ],
   "source": [
    "under5_2015 = under5_bs[under5_bs['Period'] == 2015]\n",
    "under5_2015"
   ]
  },
  {
   "cell_type": "code",
   "execution_count": null,
   "metadata": {},
   "outputs": [],
   "source": []
  },
  {
   "cell_type": "markdown",
   "metadata": {},
   "source": [
    "## WHO Region Life Expectancy at Birth - IGNORE"
   ]
  },
  {
   "cell_type": "code",
   "execution_count": null,
   "metadata": {},
   "outputs": [],
   "source": []
  }
 ],
 "metadata": {
  "kernelspec": {
   "display_name": "Python 3",
   "language": "python",
   "name": "python3"
  },
  "language_info": {
   "codemirror_mode": {
    "name": "ipython",
    "version": 3
   },
   "file_extension": ".py",
   "mimetype": "text/x-python",
   "name": "python",
   "nbconvert_exporter": "python",
   "pygments_lexer": "ipython3",
   "version": "3.8.5"
  }
 },
 "nbformat": 4,
 "nbformat_minor": 4
}
