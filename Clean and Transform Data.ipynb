{
 "cells": [
  {
   "cell_type": "code",
   "execution_count": 1,
   "metadata": {},
   "outputs": [],
   "source": [
    "import pandas as pd\n",
    "import pathlib"
   ]
  },
  {
   "cell_type": "code",
   "execution_count": 2,
   "metadata": {},
   "outputs": [],
   "source": [
    "dataset_path = pathlib.Path.cwd()/'Datasets'\n",
    "WHS_path = dataset_path/'World_Health_Statistics_archive'"
   ]
  },
  {
   "cell_type": "markdown",
   "metadata": {},
   "source": [
    "## Cancer"
   ]
  },
  {
   "cell_type": "code",
   "execution_count": 3,
   "metadata": {},
   "outputs": [],
   "source": [
    "cancer_data = pd.read_csv(WHS_path/'30-70cancerChdEtc.csv')"
   ]
  },
  {
   "cell_type": "code",
   "execution_count": 4,
   "metadata": {},
   "outputs": [
    {
     "data": {
      "text/html": [
       "<div>\n",
       "<style scoped>\n",
       "    .dataframe tbody tr th:only-of-type {\n",
       "        vertical-align: middle;\n",
       "    }\n",
       "\n",
       "    .dataframe tbody tr th {\n",
       "        vertical-align: top;\n",
       "    }\n",
       "\n",
       "    .dataframe thead th {\n",
       "        text-align: right;\n",
       "    }\n",
       "</style>\n",
       "<table border=\"1\" class=\"dataframe\">\n",
       "  <thead>\n",
       "    <tr style=\"text-align: right;\">\n",
       "      <th></th>\n",
       "      <th>Location</th>\n",
       "      <th>Period</th>\n",
       "      <th>Indicator</th>\n",
       "      <th>Dim1</th>\n",
       "      <th>First Tooltip</th>\n",
       "    </tr>\n",
       "  </thead>\n",
       "  <tbody>\n",
       "    <tr>\n",
       "      <th>0</th>\n",
       "      <td>Afghanistan</td>\n",
       "      <td>2016</td>\n",
       "      <td>Probability (%) of dying between age 30 and ex...</td>\n",
       "      <td>Both sexes</td>\n",
       "      <td>29.8</td>\n",
       "    </tr>\n",
       "    <tr>\n",
       "      <th>1</th>\n",
       "      <td>Afghanistan</td>\n",
       "      <td>2016</td>\n",
       "      <td>Probability (%) of dying between age 30 and ex...</td>\n",
       "      <td>Male</td>\n",
       "      <td>31.8</td>\n",
       "    </tr>\n",
       "    <tr>\n",
       "      <th>2</th>\n",
       "      <td>Afghanistan</td>\n",
       "      <td>2016</td>\n",
       "      <td>Probability (%) of dying between age 30 and ex...</td>\n",
       "      <td>Female</td>\n",
       "      <td>27.7</td>\n",
       "    </tr>\n",
       "    <tr>\n",
       "      <th>3</th>\n",
       "      <td>Afghanistan</td>\n",
       "      <td>2015</td>\n",
       "      <td>Probability (%) of dying between age 30 and ex...</td>\n",
       "      <td>Both sexes</td>\n",
       "      <td>29.8</td>\n",
       "    </tr>\n",
       "    <tr>\n",
       "      <th>4</th>\n",
       "      <td>Afghanistan</td>\n",
       "      <td>2015</td>\n",
       "      <td>Probability (%) of dying between age 30 and ex...</td>\n",
       "      <td>Male</td>\n",
       "      <td>31.9</td>\n",
       "    </tr>\n",
       "    <tr>\n",
       "      <th>...</th>\n",
       "      <td>...</td>\n",
       "      <td>...</td>\n",
       "      <td>...</td>\n",
       "      <td>...</td>\n",
       "      <td>...</td>\n",
       "    </tr>\n",
       "    <tr>\n",
       "      <th>2740</th>\n",
       "      <td>Zimbabwe</td>\n",
       "      <td>2005</td>\n",
       "      <td>Probability (%) of dying between age 30 and ex...</td>\n",
       "      <td>Male</td>\n",
       "      <td>22.1</td>\n",
       "    </tr>\n",
       "    <tr>\n",
       "      <th>2741</th>\n",
       "      <td>Zimbabwe</td>\n",
       "      <td>2005</td>\n",
       "      <td>Probability (%) of dying between age 30 and ex...</td>\n",
       "      <td>Female</td>\n",
       "      <td>22.9</td>\n",
       "    </tr>\n",
       "    <tr>\n",
       "      <th>2742</th>\n",
       "      <td>Zimbabwe</td>\n",
       "      <td>2000</td>\n",
       "      <td>Probability (%) of dying between age 30 and ex...</td>\n",
       "      <td>Both sexes</td>\n",
       "      <td>21.6</td>\n",
       "    </tr>\n",
       "    <tr>\n",
       "      <th>2743</th>\n",
       "      <td>Zimbabwe</td>\n",
       "      <td>2000</td>\n",
       "      <td>Probability (%) of dying between age 30 and ex...</td>\n",
       "      <td>Male</td>\n",
       "      <td>21.6</td>\n",
       "    </tr>\n",
       "    <tr>\n",
       "      <th>2744</th>\n",
       "      <td>Zimbabwe</td>\n",
       "      <td>2000</td>\n",
       "      <td>Probability (%) of dying between age 30 and ex...</td>\n",
       "      <td>Female</td>\n",
       "      <td>21.7</td>\n",
       "    </tr>\n",
       "  </tbody>\n",
       "</table>\n",
       "<p>2745 rows × 5 columns</p>\n",
       "</div>"
      ],
      "text/plain": [
       "         Location  Period                                          Indicator  \\\n",
       "0     Afghanistan    2016  Probability (%) of dying between age 30 and ex...   \n",
       "1     Afghanistan    2016  Probability (%) of dying between age 30 and ex...   \n",
       "2     Afghanistan    2016  Probability (%) of dying between age 30 and ex...   \n",
       "3     Afghanistan    2015  Probability (%) of dying between age 30 and ex...   \n",
       "4     Afghanistan    2015  Probability (%) of dying between age 30 and ex...   \n",
       "...           ...     ...                                                ...   \n",
       "2740     Zimbabwe    2005  Probability (%) of dying between age 30 and ex...   \n",
       "2741     Zimbabwe    2005  Probability (%) of dying between age 30 and ex...   \n",
       "2742     Zimbabwe    2000  Probability (%) of dying between age 30 and ex...   \n",
       "2743     Zimbabwe    2000  Probability (%) of dying between age 30 and ex...   \n",
       "2744     Zimbabwe    2000  Probability (%) of dying between age 30 and ex...   \n",
       "\n",
       "            Dim1  First Tooltip  \n",
       "0     Both sexes           29.8  \n",
       "1           Male           31.8  \n",
       "2         Female           27.7  \n",
       "3     Both sexes           29.8  \n",
       "4           Male           31.9  \n",
       "...          ...            ...  \n",
       "2740        Male           22.1  \n",
       "2741      Female           22.9  \n",
       "2742  Both sexes           21.6  \n",
       "2743        Male           21.6  \n",
       "2744      Female           21.7  \n",
       "\n",
       "[2745 rows x 5 columns]"
      ]
     },
     "execution_count": 4,
     "metadata": {},
     "output_type": "execute_result"
    }
   ],
   "source": [
    "cancer_data"
   ]
  },
  {
   "cell_type": "markdown",
   "metadata": {},
   "source": [
    "There is no nulls in this dataset"
   ]
  },
  {
   "cell_type": "code",
   "execution_count": 5,
   "metadata": {},
   "outputs": [
    {
     "data": {
      "text/plain": [
       "Location         2745\n",
       "Period           2745\n",
       "Indicator        2745\n",
       "Dim1             2745\n",
       "First Tooltip    2745\n",
       "dtype: int64"
      ]
     },
     "execution_count": 5,
     "metadata": {},
     "output_type": "execute_result"
    }
   ],
   "source": [
    "cancer_data.isnull().count()"
   ]
  },
  {
   "cell_type": "code",
   "execution_count": 191,
   "metadata": {},
   "outputs": [
    {
     "data": {
      "text/plain": [
       "Location         0\n",
       "Period           0\n",
       "Indicator        0\n",
       "Dim1             0\n",
       "First Tooltip    0\n",
       "dtype: int64"
      ]
     },
     "execution_count": 191,
     "metadata": {},
     "output_type": "execute_result"
    }
   ],
   "source": [
    "cancer_data[cancer_data['First Tooltip'] == 0.0].count()"
   ]
  },
  {
   "cell_type": "markdown",
   "metadata": {},
   "source": [
    "The years in this dataset are 2000, 2005, 2010, 2015, and 2016. It appears to be every 5 years except in regards to 2016."
   ]
  },
  {
   "cell_type": "code",
   "execution_count": 6,
   "metadata": {},
   "outputs": [
    {
     "data": {
      "text/plain": [
       "array([2016, 2015, 2010, 2005, 2000])"
      ]
     },
     "execution_count": 6,
     "metadata": {},
     "output_type": "execute_result"
    }
   ],
   "source": [
    "cancer_data['Period'].unique()"
   ]
  },
  {
   "cell_type": "markdown",
   "metadata": {},
   "source": [
    "All counts are the same for each year, so any year is a great choice."
   ]
  },
  {
   "cell_type": "code",
   "execution_count": 7,
   "metadata": {},
   "outputs": [
    {
     "data": {
      "text/plain": [
       "Location         549\n",
       "Period           549\n",
       "Indicator        549\n",
       "Dim1             549\n",
       "First Tooltip    549\n",
       "dtype: int64"
      ]
     },
     "execution_count": 7,
     "metadata": {},
     "output_type": "execute_result"
    }
   ],
   "source": [
    "cancer_data[cancer_data['Period'] == 2016].count()"
   ]
  },
  {
   "cell_type": "code",
   "execution_count": 8,
   "metadata": {},
   "outputs": [
    {
     "data": {
      "text/plain": [
       "Location         549\n",
       "Period           549\n",
       "Indicator        549\n",
       "Dim1             549\n",
       "First Tooltip    549\n",
       "dtype: int64"
      ]
     },
     "execution_count": 8,
     "metadata": {},
     "output_type": "execute_result"
    }
   ],
   "source": [
    "cancer_data[cancer_data['Period'] == 2015].count()"
   ]
  },
  {
   "cell_type": "code",
   "execution_count": 9,
   "metadata": {},
   "outputs": [
    {
     "data": {
      "text/plain": [
       "Location         549\n",
       "Period           549\n",
       "Indicator        549\n",
       "Dim1             549\n",
       "First Tooltip    549\n",
       "dtype: int64"
      ]
     },
     "execution_count": 9,
     "metadata": {},
     "output_type": "execute_result"
    }
   ],
   "source": [
    "cancer_data[cancer_data['Period'] == 2010].count()"
   ]
  },
  {
   "cell_type": "code",
   "execution_count": 10,
   "metadata": {},
   "outputs": [
    {
     "data": {
      "text/plain": [
       "Location         549\n",
       "Period           549\n",
       "Indicator        549\n",
       "Dim1             549\n",
       "First Tooltip    549\n",
       "dtype: int64"
      ]
     },
     "execution_count": 10,
     "metadata": {},
     "output_type": "execute_result"
    }
   ],
   "source": [
    "cancer_data[cancer_data['Period'] == 2005].count()"
   ]
  },
  {
   "cell_type": "code",
   "execution_count": 11,
   "metadata": {},
   "outputs": [
    {
     "data": {
      "text/plain": [
       "Location         549\n",
       "Period           549\n",
       "Indicator        549\n",
       "Dim1             549\n",
       "First Tooltip    549\n",
       "dtype: int64"
      ]
     },
     "execution_count": 11,
     "metadata": {},
     "output_type": "execute_result"
    }
   ],
   "source": [
    "cancer_data[cancer_data['Period'] == 2000].count()"
   ]
  },
  {
   "cell_type": "markdown",
   "metadata": {},
   "source": [
    "All data is about dying between the age 30 and 70 from cardiovascular disease, cancer, diabetes, or a chronic respiratory disease."
   ]
  },
  {
   "cell_type": "code",
   "execution_count": 12,
   "metadata": {},
   "outputs": [
    {
     "data": {
      "text/plain": [
       "array(['Probability (%) of dying between age 30 and exact age 70 from any of cardiovascular disease, cancer, diabetes, or chronic respiratory disease'],\n",
       "      dtype=object)"
      ]
     },
     "execution_count": 12,
     "metadata": {},
     "output_type": "execute_result"
    }
   ],
   "source": [
    "cancer_data['Indicator'].unique()"
   ]
  },
  {
   "cell_type": "code",
   "execution_count": 13,
   "metadata": {},
   "outputs": [],
   "source": [
    "#cancer_data['Dim1'].str.contains(\"Both Sexes\").count()"
   ]
  },
  {
   "cell_type": "code",
   "execution_count": 14,
   "metadata": {
    "scrolled": true
   },
   "outputs": [],
   "source": [
    "#cancer_data.iloc[[0]]"
   ]
  },
  {
   "cell_type": "code",
   "execution_count": 15,
   "metadata": {},
   "outputs": [
    {
     "data": {
      "text/html": [
       "<div>\n",
       "<style scoped>\n",
       "    .dataframe tbody tr th:only-of-type {\n",
       "        vertical-align: middle;\n",
       "    }\n",
       "\n",
       "    .dataframe tbody tr th {\n",
       "        vertical-align: top;\n",
       "    }\n",
       "\n",
       "    .dataframe thead th {\n",
       "        text-align: right;\n",
       "    }\n",
       "</style>\n",
       "<table border=\"1\" class=\"dataframe\">\n",
       "  <thead>\n",
       "    <tr style=\"text-align: right;\">\n",
       "      <th></th>\n",
       "      <th>Location</th>\n",
       "      <th>Period</th>\n",
       "      <th>Indicator</th>\n",
       "      <th>Dim1</th>\n",
       "      <th>First Tooltip</th>\n",
       "    </tr>\n",
       "  </thead>\n",
       "  <tbody>\n",
       "    <tr>\n",
       "      <th>0</th>\n",
       "      <td>Afghanistan</td>\n",
       "      <td>2016</td>\n",
       "      <td>Probability (%) of dying between age 30 and ex...</td>\n",
       "      <td>Both sexes</td>\n",
       "      <td>29.8</td>\n",
       "    </tr>\n",
       "    <tr>\n",
       "      <th>3</th>\n",
       "      <td>Afghanistan</td>\n",
       "      <td>2015</td>\n",
       "      <td>Probability (%) of dying between age 30 and ex...</td>\n",
       "      <td>Both sexes</td>\n",
       "      <td>29.8</td>\n",
       "    </tr>\n",
       "    <tr>\n",
       "      <th>6</th>\n",
       "      <td>Afghanistan</td>\n",
       "      <td>2010</td>\n",
       "      <td>Probability (%) of dying between age 30 and ex...</td>\n",
       "      <td>Both sexes</td>\n",
       "      <td>31.7</td>\n",
       "    </tr>\n",
       "    <tr>\n",
       "      <th>9</th>\n",
       "      <td>Afghanistan</td>\n",
       "      <td>2005</td>\n",
       "      <td>Probability (%) of dying between age 30 and ex...</td>\n",
       "      <td>Both sexes</td>\n",
       "      <td>34.1</td>\n",
       "    </tr>\n",
       "    <tr>\n",
       "      <th>12</th>\n",
       "      <td>Afghanistan</td>\n",
       "      <td>2000</td>\n",
       "      <td>Probability (%) of dying between age 30 and ex...</td>\n",
       "      <td>Both sexes</td>\n",
       "      <td>34.4</td>\n",
       "    </tr>\n",
       "    <tr>\n",
       "      <th>...</th>\n",
       "      <td>...</td>\n",
       "      <td>...</td>\n",
       "      <td>...</td>\n",
       "      <td>...</td>\n",
       "      <td>...</td>\n",
       "    </tr>\n",
       "    <tr>\n",
       "      <th>2730</th>\n",
       "      <td>Zimbabwe</td>\n",
       "      <td>2016</td>\n",
       "      <td>Probability (%) of dying between age 30 and ex...</td>\n",
       "      <td>Both sexes</td>\n",
       "      <td>19.3</td>\n",
       "    </tr>\n",
       "    <tr>\n",
       "      <th>2733</th>\n",
       "      <td>Zimbabwe</td>\n",
       "      <td>2015</td>\n",
       "      <td>Probability (%) of dying between age 30 and ex...</td>\n",
       "      <td>Both sexes</td>\n",
       "      <td>19.4</td>\n",
       "    </tr>\n",
       "    <tr>\n",
       "      <th>2736</th>\n",
       "      <td>Zimbabwe</td>\n",
       "      <td>2010</td>\n",
       "      <td>Probability (%) of dying between age 30 and ex...</td>\n",
       "      <td>Both sexes</td>\n",
       "      <td>21.1</td>\n",
       "    </tr>\n",
       "    <tr>\n",
       "      <th>2739</th>\n",
       "      <td>Zimbabwe</td>\n",
       "      <td>2005</td>\n",
       "      <td>Probability (%) of dying between age 30 and ex...</td>\n",
       "      <td>Both sexes</td>\n",
       "      <td>22.5</td>\n",
       "    </tr>\n",
       "    <tr>\n",
       "      <th>2742</th>\n",
       "      <td>Zimbabwe</td>\n",
       "      <td>2000</td>\n",
       "      <td>Probability (%) of dying between age 30 and ex...</td>\n",
       "      <td>Both sexes</td>\n",
       "      <td>21.6</td>\n",
       "    </tr>\n",
       "  </tbody>\n",
       "</table>\n",
       "<p>915 rows × 5 columns</p>\n",
       "</div>"
      ],
      "text/plain": [
       "         Location  Period                                          Indicator  \\\n",
       "0     Afghanistan    2016  Probability (%) of dying between age 30 and ex...   \n",
       "3     Afghanistan    2015  Probability (%) of dying between age 30 and ex...   \n",
       "6     Afghanistan    2010  Probability (%) of dying between age 30 and ex...   \n",
       "9     Afghanistan    2005  Probability (%) of dying between age 30 and ex...   \n",
       "12    Afghanistan    2000  Probability (%) of dying between age 30 and ex...   \n",
       "...           ...     ...                                                ...   \n",
       "2730     Zimbabwe    2016  Probability (%) of dying between age 30 and ex...   \n",
       "2733     Zimbabwe    2015  Probability (%) of dying between age 30 and ex...   \n",
       "2736     Zimbabwe    2010  Probability (%) of dying between age 30 and ex...   \n",
       "2739     Zimbabwe    2005  Probability (%) of dying between age 30 and ex...   \n",
       "2742     Zimbabwe    2000  Probability (%) of dying between age 30 and ex...   \n",
       "\n",
       "            Dim1  First Tooltip  \n",
       "0     Both sexes           29.8  \n",
       "3     Both sexes           29.8  \n",
       "6     Both sexes           31.7  \n",
       "9     Both sexes           34.1  \n",
       "12    Both sexes           34.4  \n",
       "...          ...            ...  \n",
       "2730  Both sexes           19.3  \n",
       "2733  Both sexes           19.4  \n",
       "2736  Both sexes           21.1  \n",
       "2739  Both sexes           22.5  \n",
       "2742  Both sexes           21.6  \n",
       "\n",
       "[915 rows x 5 columns]"
      ]
     },
     "execution_count": 15,
     "metadata": {},
     "output_type": "execute_result"
    }
   ],
   "source": [
    "cancer_both_sex = cancer_data[cancer_data['Dim1'] == 'Both sexes']\n",
    "cancer_both_sex"
   ]
  },
  {
   "cell_type": "markdown",
   "metadata": {},
   "source": [
    "## This dataframe will need to be exported."
   ]
  },
  {
   "cell_type": "code",
   "execution_count": 16,
   "metadata": {},
   "outputs": [
    {
     "data": {
      "text/html": [
       "<div>\n",
       "<style scoped>\n",
       "    .dataframe tbody tr th:only-of-type {\n",
       "        vertical-align: middle;\n",
       "    }\n",
       "\n",
       "    .dataframe tbody tr th {\n",
       "        vertical-align: top;\n",
       "    }\n",
       "\n",
       "    .dataframe thead th {\n",
       "        text-align: right;\n",
       "    }\n",
       "</style>\n",
       "<table border=\"1\" class=\"dataframe\">\n",
       "  <thead>\n",
       "    <tr style=\"text-align: right;\">\n",
       "      <th></th>\n",
       "      <th>Location</th>\n",
       "      <th>Period</th>\n",
       "      <th>Indicator</th>\n",
       "      <th>Dim1</th>\n",
       "      <th>First Tooltip</th>\n",
       "    </tr>\n",
       "  </thead>\n",
       "  <tbody>\n",
       "    <tr>\n",
       "      <th>0</th>\n",
       "      <td>Afghanistan</td>\n",
       "      <td>2016</td>\n",
       "      <td>Probability (%) of dying between age 30 and ex...</td>\n",
       "      <td>Both sexes</td>\n",
       "      <td>29.8</td>\n",
       "    </tr>\n",
       "    <tr>\n",
       "      <th>15</th>\n",
       "      <td>Albania</td>\n",
       "      <td>2016</td>\n",
       "      <td>Probability (%) of dying between age 30 and ex...</td>\n",
       "      <td>Both sexes</td>\n",
       "      <td>17.0</td>\n",
       "    </tr>\n",
       "    <tr>\n",
       "      <th>30</th>\n",
       "      <td>Algeria</td>\n",
       "      <td>2016</td>\n",
       "      <td>Probability (%) of dying between age 30 and ex...</td>\n",
       "      <td>Both sexes</td>\n",
       "      <td>14.2</td>\n",
       "    </tr>\n",
       "    <tr>\n",
       "      <th>45</th>\n",
       "      <td>Angola</td>\n",
       "      <td>2016</td>\n",
       "      <td>Probability (%) of dying between age 30 and ex...</td>\n",
       "      <td>Both sexes</td>\n",
       "      <td>16.5</td>\n",
       "    </tr>\n",
       "    <tr>\n",
       "      <th>60</th>\n",
       "      <td>Antigua and Barbuda</td>\n",
       "      <td>2016</td>\n",
       "      <td>Probability (%) of dying between age 30 and ex...</td>\n",
       "      <td>Both sexes</td>\n",
       "      <td>22.6</td>\n",
       "    </tr>\n",
       "    <tr>\n",
       "      <th>...</th>\n",
       "      <td>...</td>\n",
       "      <td>...</td>\n",
       "      <td>...</td>\n",
       "      <td>...</td>\n",
       "      <td>...</td>\n",
       "    </tr>\n",
       "    <tr>\n",
       "      <th>2670</th>\n",
       "      <td>Venezuela (Bolivarian Republic of)</td>\n",
       "      <td>2016</td>\n",
       "      <td>Probability (%) of dying between age 30 and ex...</td>\n",
       "      <td>Both sexes</td>\n",
       "      <td>18.1</td>\n",
       "    </tr>\n",
       "    <tr>\n",
       "      <th>2685</th>\n",
       "      <td>Viet Nam</td>\n",
       "      <td>2016</td>\n",
       "      <td>Probability (%) of dying between age 30 and ex...</td>\n",
       "      <td>Both sexes</td>\n",
       "      <td>17.1</td>\n",
       "    </tr>\n",
       "    <tr>\n",
       "      <th>2700</th>\n",
       "      <td>Yemen</td>\n",
       "      <td>2016</td>\n",
       "      <td>Probability (%) of dying between age 30 and ex...</td>\n",
       "      <td>Both sexes</td>\n",
       "      <td>30.6</td>\n",
       "    </tr>\n",
       "    <tr>\n",
       "      <th>2715</th>\n",
       "      <td>Zambia</td>\n",
       "      <td>2016</td>\n",
       "      <td>Probability (%) of dying between age 30 and ex...</td>\n",
       "      <td>Both sexes</td>\n",
       "      <td>17.9</td>\n",
       "    </tr>\n",
       "    <tr>\n",
       "      <th>2730</th>\n",
       "      <td>Zimbabwe</td>\n",
       "      <td>2016</td>\n",
       "      <td>Probability (%) of dying between age 30 and ex...</td>\n",
       "      <td>Both sexes</td>\n",
       "      <td>19.3</td>\n",
       "    </tr>\n",
       "  </tbody>\n",
       "</table>\n",
       "<p>183 rows × 5 columns</p>\n",
       "</div>"
      ],
      "text/plain": [
       "                                Location  Period  \\\n",
       "0                            Afghanistan    2016   \n",
       "15                               Albania    2016   \n",
       "30                               Algeria    2016   \n",
       "45                                Angola    2016   \n",
       "60                   Antigua and Barbuda    2016   \n",
       "...                                  ...     ...   \n",
       "2670  Venezuela (Bolivarian Republic of)    2016   \n",
       "2685                            Viet Nam    2016   \n",
       "2700                               Yemen    2016   \n",
       "2715                              Zambia    2016   \n",
       "2730                            Zimbabwe    2016   \n",
       "\n",
       "                                              Indicator        Dim1  \\\n",
       "0     Probability (%) of dying between age 30 and ex...  Both sexes   \n",
       "15    Probability (%) of dying between age 30 and ex...  Both sexes   \n",
       "30    Probability (%) of dying between age 30 and ex...  Both sexes   \n",
       "45    Probability (%) of dying between age 30 and ex...  Both sexes   \n",
       "60    Probability (%) of dying between age 30 and ex...  Both sexes   \n",
       "...                                                 ...         ...   \n",
       "2670  Probability (%) of dying between age 30 and ex...  Both sexes   \n",
       "2685  Probability (%) of dying between age 30 and ex...  Both sexes   \n",
       "2700  Probability (%) of dying between age 30 and ex...  Both sexes   \n",
       "2715  Probability (%) of dying between age 30 and ex...  Both sexes   \n",
       "2730  Probability (%) of dying between age 30 and ex...  Both sexes   \n",
       "\n",
       "      First Tooltip  \n",
       "0              29.8  \n",
       "15             17.0  \n",
       "30             14.2  \n",
       "45             16.5  \n",
       "60             22.6  \n",
       "...             ...  \n",
       "2670           18.1  \n",
       "2685           17.1  \n",
       "2700           30.6  \n",
       "2715           17.9  \n",
       "2730           19.3  \n",
       "\n",
       "[183 rows x 5 columns]"
      ]
     },
     "execution_count": 16,
     "metadata": {},
     "output_type": "execute_result"
    }
   ],
   "source": [
    "cancer_both_sex_2016 = cancer_both_sex[cancer_both_sex['Period'] == 2016]\n",
    "cancer_both_sex_2016"
   ]
  },
  {
   "cell_type": "markdown",
   "metadata": {},
   "source": [
    "## This dataframe will need to be exported."
   ]
  },
  {
   "cell_type": "code",
   "execution_count": 17,
   "metadata": {},
   "outputs": [
    {
     "data": {
      "text/html": [
       "<div>\n",
       "<style scoped>\n",
       "    .dataframe tbody tr th:only-of-type {\n",
       "        vertical-align: middle;\n",
       "    }\n",
       "\n",
       "    .dataframe tbody tr th {\n",
       "        vertical-align: top;\n",
       "    }\n",
       "\n",
       "    .dataframe thead th {\n",
       "        text-align: right;\n",
       "    }\n",
       "</style>\n",
       "<table border=\"1\" class=\"dataframe\">\n",
       "  <thead>\n",
       "    <tr style=\"text-align: right;\">\n",
       "      <th></th>\n",
       "      <th>Location</th>\n",
       "      <th>Period</th>\n",
       "      <th>Indicator</th>\n",
       "      <th>Dim1</th>\n",
       "      <th>First Tooltip</th>\n",
       "    </tr>\n",
       "  </thead>\n",
       "  <tbody>\n",
       "    <tr>\n",
       "      <th>3</th>\n",
       "      <td>Afghanistan</td>\n",
       "      <td>2015</td>\n",
       "      <td>Probability (%) of dying between age 30 and ex...</td>\n",
       "      <td>Both sexes</td>\n",
       "      <td>29.8</td>\n",
       "    </tr>\n",
       "    <tr>\n",
       "      <th>18</th>\n",
       "      <td>Albania</td>\n",
       "      <td>2015</td>\n",
       "      <td>Probability (%) of dying between age 30 and ex...</td>\n",
       "      <td>Both sexes</td>\n",
       "      <td>17.4</td>\n",
       "    </tr>\n",
       "    <tr>\n",
       "      <th>33</th>\n",
       "      <td>Algeria</td>\n",
       "      <td>2015</td>\n",
       "      <td>Probability (%) of dying between age 30 and ex...</td>\n",
       "      <td>Both sexes</td>\n",
       "      <td>14.4</td>\n",
       "    </tr>\n",
       "    <tr>\n",
       "      <th>48</th>\n",
       "      <td>Angola</td>\n",
       "      <td>2015</td>\n",
       "      <td>Probability (%) of dying between age 30 and ex...</td>\n",
       "      <td>Both sexes</td>\n",
       "      <td>16.9</td>\n",
       "    </tr>\n",
       "    <tr>\n",
       "      <th>63</th>\n",
       "      <td>Antigua and Barbuda</td>\n",
       "      <td>2015</td>\n",
       "      <td>Probability (%) of dying between age 30 and ex...</td>\n",
       "      <td>Both sexes</td>\n",
       "      <td>22.6</td>\n",
       "    </tr>\n",
       "    <tr>\n",
       "      <th>...</th>\n",
       "      <td>...</td>\n",
       "      <td>...</td>\n",
       "      <td>...</td>\n",
       "      <td>...</td>\n",
       "      <td>...</td>\n",
       "    </tr>\n",
       "    <tr>\n",
       "      <th>2673</th>\n",
       "      <td>Venezuela (Bolivarian Republic of)</td>\n",
       "      <td>2015</td>\n",
       "      <td>Probability (%) of dying between age 30 and ex...</td>\n",
       "      <td>Both sexes</td>\n",
       "      <td>18.2</td>\n",
       "    </tr>\n",
       "    <tr>\n",
       "      <th>2688</th>\n",
       "      <td>Viet Nam</td>\n",
       "      <td>2015</td>\n",
       "      <td>Probability (%) of dying between age 30 and ex...</td>\n",
       "      <td>Both sexes</td>\n",
       "      <td>17.3</td>\n",
       "    </tr>\n",
       "    <tr>\n",
       "      <th>2703</th>\n",
       "      <td>Yemen</td>\n",
       "      <td>2015</td>\n",
       "      <td>Probability (%) of dying between age 30 and ex...</td>\n",
       "      <td>Both sexes</td>\n",
       "      <td>30.7</td>\n",
       "    </tr>\n",
       "    <tr>\n",
       "      <th>2718</th>\n",
       "      <td>Zambia</td>\n",
       "      <td>2015</td>\n",
       "      <td>Probability (%) of dying between age 30 and ex...</td>\n",
       "      <td>Both sexes</td>\n",
       "      <td>18.0</td>\n",
       "    </tr>\n",
       "    <tr>\n",
       "      <th>2733</th>\n",
       "      <td>Zimbabwe</td>\n",
       "      <td>2015</td>\n",
       "      <td>Probability (%) of dying between age 30 and ex...</td>\n",
       "      <td>Both sexes</td>\n",
       "      <td>19.4</td>\n",
       "    </tr>\n",
       "  </tbody>\n",
       "</table>\n",
       "<p>183 rows × 5 columns</p>\n",
       "</div>"
      ],
      "text/plain": [
       "                                Location  Period  \\\n",
       "3                            Afghanistan    2015   \n",
       "18                               Albania    2015   \n",
       "33                               Algeria    2015   \n",
       "48                                Angola    2015   \n",
       "63                   Antigua and Barbuda    2015   \n",
       "...                                  ...     ...   \n",
       "2673  Venezuela (Bolivarian Republic of)    2015   \n",
       "2688                            Viet Nam    2015   \n",
       "2703                               Yemen    2015   \n",
       "2718                              Zambia    2015   \n",
       "2733                            Zimbabwe    2015   \n",
       "\n",
       "                                              Indicator        Dim1  \\\n",
       "3     Probability (%) of dying between age 30 and ex...  Both sexes   \n",
       "18    Probability (%) of dying between age 30 and ex...  Both sexes   \n",
       "33    Probability (%) of dying between age 30 and ex...  Both sexes   \n",
       "48    Probability (%) of dying between age 30 and ex...  Both sexes   \n",
       "63    Probability (%) of dying between age 30 and ex...  Both sexes   \n",
       "...                                                 ...         ...   \n",
       "2673  Probability (%) of dying between age 30 and ex...  Both sexes   \n",
       "2688  Probability (%) of dying between age 30 and ex...  Both sexes   \n",
       "2703  Probability (%) of dying between age 30 and ex...  Both sexes   \n",
       "2718  Probability (%) of dying between age 30 and ex...  Both sexes   \n",
       "2733  Probability (%) of dying between age 30 and ex...  Both sexes   \n",
       "\n",
       "      First Tooltip  \n",
       "3              29.8  \n",
       "18             17.4  \n",
       "33             14.4  \n",
       "48             16.9  \n",
       "63             22.6  \n",
       "...             ...  \n",
       "2673           18.2  \n",
       "2688           17.3  \n",
       "2703           30.7  \n",
       "2718           18.0  \n",
       "2733           19.4  \n",
       "\n",
       "[183 rows x 5 columns]"
      ]
     },
     "execution_count": 17,
     "metadata": {},
     "output_type": "execute_result"
    }
   ],
   "source": [
    "cancer_both_sex_2015 = cancer_both_sex[cancer_both_sex['Period'] == 2015]\n",
    "cancer_both_sex_2015"
   ]
  },
  {
   "cell_type": "code",
   "execution_count": null,
   "metadata": {},
   "outputs": [],
   "source": []
  },
  {
   "cell_type": "markdown",
   "metadata": {},
   "source": [
    "## Adolescent Birth Rate"
   ]
  },
  {
   "cell_type": "code",
   "execution_count": 194,
   "metadata": {},
   "outputs": [
    {
     "data": {
      "text/html": [
       "<div>\n",
       "<style scoped>\n",
       "    .dataframe tbody tr th:only-of-type {\n",
       "        vertical-align: middle;\n",
       "    }\n",
       "\n",
       "    .dataframe tbody tr th {\n",
       "        vertical-align: top;\n",
       "    }\n",
       "\n",
       "    .dataframe thead th {\n",
       "        text-align: right;\n",
       "    }\n",
       "</style>\n",
       "<table border=\"1\" class=\"dataframe\">\n",
       "  <thead>\n",
       "    <tr style=\"text-align: right;\">\n",
       "      <th></th>\n",
       "      <th>Location</th>\n",
       "      <th>Period</th>\n",
       "      <th>Indicator</th>\n",
       "      <th>First Tooltip</th>\n",
       "    </tr>\n",
       "  </thead>\n",
       "  <tbody>\n",
       "    <tr>\n",
       "      <th>0</th>\n",
       "      <td>Afghanistan</td>\n",
       "      <td>2017</td>\n",
       "      <td>Adolescent birth rate (per 1000 women aged 15-...</td>\n",
       "      <td>62.0</td>\n",
       "    </tr>\n",
       "    <tr>\n",
       "      <th>1</th>\n",
       "      <td>Afghanistan</td>\n",
       "      <td>2014</td>\n",
       "      <td>Adolescent birth rate (per 1000 women aged 15-...</td>\n",
       "      <td>77.2</td>\n",
       "    </tr>\n",
       "    <tr>\n",
       "      <th>2</th>\n",
       "      <td>Afghanistan</td>\n",
       "      <td>2013</td>\n",
       "      <td>Adolescent birth rate (per 1000 women aged 15-...</td>\n",
       "      <td>87.0</td>\n",
       "    </tr>\n",
       "    <tr>\n",
       "      <th>3</th>\n",
       "      <td>Afghanistan</td>\n",
       "      <td>2011</td>\n",
       "      <td>Adolescent birth rate (per 1000 women aged 15-...</td>\n",
       "      <td>125.7</td>\n",
       "    </tr>\n",
       "    <tr>\n",
       "      <th>4</th>\n",
       "      <td>Afghanistan</td>\n",
       "      <td>2009</td>\n",
       "      <td>Adolescent birth rate (per 1000 women aged 15-...</td>\n",
       "      <td>80.0</td>\n",
       "    </tr>\n",
       "    <tr>\n",
       "      <th>...</th>\n",
       "      <td>...</td>\n",
       "      <td>...</td>\n",
       "      <td>...</td>\n",
       "      <td>...</td>\n",
       "    </tr>\n",
       "    <tr>\n",
       "      <th>2184</th>\n",
       "      <td>Zimbabwe</td>\n",
       "      <td>2008</td>\n",
       "      <td>Adolescent birth rate (per 1000 women aged 15-...</td>\n",
       "      <td>112.0</td>\n",
       "    </tr>\n",
       "    <tr>\n",
       "      <th>2185</th>\n",
       "      <td>Zimbabwe</td>\n",
       "      <td>2007</td>\n",
       "      <td>Adolescent birth rate (per 1000 women aged 15-...</td>\n",
       "      <td>102.6</td>\n",
       "    </tr>\n",
       "    <tr>\n",
       "      <th>2186</th>\n",
       "      <td>Zimbabwe</td>\n",
       "      <td>2004</td>\n",
       "      <td>Adolescent birth rate (per 1000 women aged 15-...</td>\n",
       "      <td>98.7</td>\n",
       "    </tr>\n",
       "    <tr>\n",
       "      <th>2187</th>\n",
       "      <td>Zimbabwe</td>\n",
       "      <td>2003</td>\n",
       "      <td>Adolescent birth rate (per 1000 women aged 15-...</td>\n",
       "      <td>101.0</td>\n",
       "    </tr>\n",
       "    <tr>\n",
       "      <th>2188</th>\n",
       "      <td>Zimbabwe</td>\n",
       "      <td>2002</td>\n",
       "      <td>Adolescent birth rate (per 1000 women aged 15-...</td>\n",
       "      <td>102.6</td>\n",
       "    </tr>\n",
       "  </tbody>\n",
       "</table>\n",
       "<p>2189 rows × 4 columns</p>\n",
       "</div>"
      ],
      "text/plain": [
       "         Location  Period                                          Indicator  \\\n",
       "0     Afghanistan    2017  Adolescent birth rate (per 1000 women aged 15-...   \n",
       "1     Afghanistan    2014  Adolescent birth rate (per 1000 women aged 15-...   \n",
       "2     Afghanistan    2013  Adolescent birth rate (per 1000 women aged 15-...   \n",
       "3     Afghanistan    2011  Adolescent birth rate (per 1000 women aged 15-...   \n",
       "4     Afghanistan    2009  Adolescent birth rate (per 1000 women aged 15-...   \n",
       "...           ...     ...                                                ...   \n",
       "2184     Zimbabwe    2008  Adolescent birth rate (per 1000 women aged 15-...   \n",
       "2185     Zimbabwe    2007  Adolescent birth rate (per 1000 women aged 15-...   \n",
       "2186     Zimbabwe    2004  Adolescent birth rate (per 1000 women aged 15-...   \n",
       "2187     Zimbabwe    2003  Adolescent birth rate (per 1000 women aged 15-...   \n",
       "2188     Zimbabwe    2002  Adolescent birth rate (per 1000 women aged 15-...   \n",
       "\n",
       "      First Tooltip  \n",
       "0              62.0  \n",
       "1              77.2  \n",
       "2              87.0  \n",
       "3             125.7  \n",
       "4              80.0  \n",
       "...             ...  \n",
       "2184          112.0  \n",
       "2185          102.6  \n",
       "2186           98.7  \n",
       "2187          101.0  \n",
       "2188          102.6  \n",
       "\n",
       "[2189 rows x 4 columns]"
      ]
     },
     "execution_count": 194,
     "metadata": {},
     "output_type": "execute_result"
    }
   ],
   "source": [
    "ad_br_data = pd.read_csv(WHS_path/'adolescentBirthRate.csv')\n",
    "ad_br_data"
   ]
  },
  {
   "cell_type": "code",
   "execution_count": 189,
   "metadata": {},
   "outputs": [
    {
     "data": {
      "text/plain": [
       "Location         2189\n",
       "Period           2189\n",
       "Indicator        2189\n",
       "First Tooltip    2189\n",
       "dtype: int64"
      ]
     },
     "execution_count": 189,
     "metadata": {},
     "output_type": "execute_result"
    }
   ],
   "source": [
    "ad_br_data.isnull().count()"
   ]
  },
  {
   "cell_type": "code",
   "execution_count": 190,
   "metadata": {},
   "outputs": [
    {
     "data": {
      "text/plain": [
       "Location         1\n",
       "Period           1\n",
       "Indicator        1\n",
       "First Tooltip    1\n",
       "dtype: int64"
      ]
     },
     "execution_count": 190,
     "metadata": {},
     "output_type": "execute_result"
    }
   ],
   "source": [
    "ad_br_data[ad_br_data['First Tooltip'] == 0.0].count()"
   ]
  },
  {
   "cell_type": "code",
   "execution_count": 196,
   "metadata": {},
   "outputs": [
    {
     "data": {
      "text/html": [
       "<div>\n",
       "<style scoped>\n",
       "    .dataframe tbody tr th:only-of-type {\n",
       "        vertical-align: middle;\n",
       "    }\n",
       "\n",
       "    .dataframe tbody tr th {\n",
       "        vertical-align: top;\n",
       "    }\n",
       "\n",
       "    .dataframe thead th {\n",
       "        text-align: right;\n",
       "    }\n",
       "</style>\n",
       "<table border=\"1\" class=\"dataframe\">\n",
       "  <thead>\n",
       "    <tr style=\"text-align: right;\">\n",
       "      <th></th>\n",
       "      <th>Location</th>\n",
       "      <th>Period</th>\n",
       "      <th>Indicator</th>\n",
       "      <th>First Tooltip</th>\n",
       "    </tr>\n",
       "  </thead>\n",
       "  <tbody>\n",
       "    <tr>\n",
       "      <th>1707</th>\n",
       "      <td>San Marino</td>\n",
       "      <td>2012</td>\n",
       "      <td>Adolescent birth rate (per 1000 women aged 15-...</td>\n",
       "      <td>0.0</td>\n",
       "    </tr>\n",
       "  </tbody>\n",
       "</table>\n",
       "</div>"
      ],
      "text/plain": [
       "        Location  Period                                          Indicator  \\\n",
       "1707  San Marino    2012  Adolescent birth rate (per 1000 women aged 15-...   \n",
       "\n",
       "      First Tooltip  \n",
       "1707            0.0  "
      ]
     },
     "execution_count": 196,
     "metadata": {},
     "output_type": "execute_result"
    }
   ],
   "source": [
    "ad_br_data[ad_br_data['First Tooltip'] == 0.0]"
   ]
  },
  {
   "cell_type": "code",
   "execution_count": 20,
   "metadata": {},
   "outputs": [
    {
     "data": {
      "text/plain": [
       "array([2017, 2014, 2013, 2011, 2009, 2008, 2007, 2006, 2005, 2003, 2000,\n",
       "       2016, 2015, 2012, 2010, 2004, 2002, 2001, 2018])"
      ]
     },
     "execution_count": 20,
     "metadata": {},
     "output_type": "execute_result"
    }
   ],
   "source": [
    "ad_br_data['Period'].unique()"
   ]
  },
  {
   "cell_type": "markdown",
   "metadata": {},
   "source": [
    "Data counts are all different for each year. This will need to be evaluated further since 2015 and 2016 might not be the best options."
   ]
  },
  {
   "cell_type": "code",
   "execution_count": 21,
   "metadata": {},
   "outputs": [
    {
     "data": {
      "text/plain": [
       "Location         22\n",
       "Period           22\n",
       "Indicator        22\n",
       "First Tooltip    22\n",
       "dtype: int64"
      ]
     },
     "execution_count": 21,
     "metadata": {},
     "output_type": "execute_result"
    }
   ],
   "source": [
    "ad_br_data[ad_br_data['Period'] == 2018].count()"
   ]
  },
  {
   "cell_type": "code",
   "execution_count": 22,
   "metadata": {},
   "outputs": [
    {
     "data": {
      "text/plain": [
       "Location         99\n",
       "Period           99\n",
       "Indicator        99\n",
       "First Tooltip    99\n",
       "dtype: int64"
      ]
     },
     "execution_count": 22,
     "metadata": {},
     "output_type": "execute_result"
    }
   ],
   "source": [
    "ad_br_data[ad_br_data['Period'] == 2017].count()"
   ]
  },
  {
   "cell_type": "code",
   "execution_count": 23,
   "metadata": {},
   "outputs": [
    {
     "data": {
      "text/plain": [
       "Location         108\n",
       "Period           108\n",
       "Indicator        108\n",
       "First Tooltip    108\n",
       "dtype: int64"
      ]
     },
     "execution_count": 23,
     "metadata": {},
     "output_type": "execute_result"
    }
   ],
   "source": [
    "ad_br_data[ad_br_data['Period'] == 2016].count()"
   ]
  },
  {
   "cell_type": "code",
   "execution_count": 24,
   "metadata": {},
   "outputs": [
    {
     "data": {
      "text/plain": [
       "Location         106\n",
       "Period           106\n",
       "Indicator        106\n",
       "First Tooltip    106\n",
       "dtype: int64"
      ]
     },
     "execution_count": 24,
     "metadata": {},
     "output_type": "execute_result"
    }
   ],
   "source": [
    "ad_br_data[ad_br_data['Period'] == 2015].count()"
   ]
  },
  {
   "cell_type": "code",
   "execution_count": 25,
   "metadata": {},
   "outputs": [
    {
     "data": {
      "text/plain": [
       "Location         115\n",
       "Period           115\n",
       "Indicator        115\n",
       "First Tooltip    115\n",
       "dtype: int64"
      ]
     },
     "execution_count": 25,
     "metadata": {},
     "output_type": "execute_result"
    }
   ],
   "source": [
    "ad_br_data[ad_br_data['Period'] == 2014].count()"
   ]
  },
  {
   "cell_type": "code",
   "execution_count": 26,
   "metadata": {},
   "outputs": [
    {
     "data": {
      "text/plain": [
       "Location         116\n",
       "Period           116\n",
       "Indicator        116\n",
       "First Tooltip    116\n",
       "dtype: int64"
      ]
     },
     "execution_count": 26,
     "metadata": {},
     "output_type": "execute_result"
    }
   ],
   "source": [
    "ad_br_data[ad_br_data['Period'] == 2013].count()"
   ]
  },
  {
   "cell_type": "code",
   "execution_count": 27,
   "metadata": {},
   "outputs": [
    {
     "data": {
      "text/plain": [
       "Location         113\n",
       "Period           113\n",
       "Indicator        113\n",
       "First Tooltip    113\n",
       "dtype: int64"
      ]
     },
     "execution_count": 27,
     "metadata": {},
     "output_type": "execute_result"
    }
   ],
   "source": [
    "ad_br_data[ad_br_data['Period'] == 2012].count()"
   ]
  },
  {
   "cell_type": "code",
   "execution_count": 28,
   "metadata": {},
   "outputs": [
    {
     "data": {
      "text/plain": [
       "Location         117\n",
       "Period           117\n",
       "Indicator        117\n",
       "First Tooltip    117\n",
       "dtype: int64"
      ]
     },
     "execution_count": 28,
     "metadata": {},
     "output_type": "execute_result"
    }
   ],
   "source": [
    "ad_br_data[ad_br_data['Period'] == 2011].count()"
   ]
  },
  {
   "cell_type": "code",
   "execution_count": 29,
   "metadata": {},
   "outputs": [
    {
     "data": {
      "text/plain": [
       "Location         120\n",
       "Period           120\n",
       "Indicator        120\n",
       "First Tooltip    120\n",
       "dtype: int64"
      ]
     },
     "execution_count": 29,
     "metadata": {},
     "output_type": "execute_result"
    }
   ],
   "source": [
    "ad_br_data[ad_br_data['Period'] == 2010].count()"
   ]
  },
  {
   "cell_type": "code",
   "execution_count": 30,
   "metadata": {},
   "outputs": [
    {
     "data": {
      "text/plain": [
       "Location         133\n",
       "Period           133\n",
       "Indicator        133\n",
       "First Tooltip    133\n",
       "dtype: int64"
      ]
     },
     "execution_count": 30,
     "metadata": {},
     "output_type": "execute_result"
    }
   ],
   "source": [
    "ad_br_data[ad_br_data['Period'] == 2009].count()"
   ]
  },
  {
   "cell_type": "code",
   "execution_count": 31,
   "metadata": {},
   "outputs": [
    {
     "data": {
      "text/plain": [
       "Location         116\n",
       "Period           116\n",
       "Indicator        116\n",
       "First Tooltip    116\n",
       "dtype: int64"
      ]
     },
     "execution_count": 31,
     "metadata": {},
     "output_type": "execute_result"
    }
   ],
   "source": [
    "ad_br_data[ad_br_data['Period'] == 2008].count()"
   ]
  },
  {
   "cell_type": "code",
   "execution_count": 32,
   "metadata": {},
   "outputs": [
    {
     "data": {
      "text/plain": [
       "Location         121\n",
       "Period           121\n",
       "Indicator        121\n",
       "First Tooltip    121\n",
       "dtype: int64"
      ]
     },
     "execution_count": 32,
     "metadata": {},
     "output_type": "execute_result"
    }
   ],
   "source": [
    "ad_br_data[ad_br_data['Period'] == 2007].count()"
   ]
  },
  {
   "cell_type": "code",
   "execution_count": 33,
   "metadata": {},
   "outputs": [
    {
     "data": {
      "text/plain": [
       "Location         120\n",
       "Period           120\n",
       "Indicator        120\n",
       "First Tooltip    120\n",
       "dtype: int64"
      ]
     },
     "execution_count": 33,
     "metadata": {},
     "output_type": "execute_result"
    }
   ],
   "source": [
    "ad_br_data[ad_br_data['Period'] == 2006].count()"
   ]
  },
  {
   "cell_type": "code",
   "execution_count": 34,
   "metadata": {},
   "outputs": [
    {
     "data": {
      "text/plain": [
       "Location         130\n",
       "Period           130\n",
       "Indicator        130\n",
       "First Tooltip    130\n",
       "dtype: int64"
      ]
     },
     "execution_count": 34,
     "metadata": {},
     "output_type": "execute_result"
    }
   ],
   "source": [
    "ad_br_data[ad_br_data['Period'] == 2005].count()"
   ]
  },
  {
   "cell_type": "code",
   "execution_count": 35,
   "metadata": {},
   "outputs": [
    {
     "data": {
      "text/plain": [
       "Location         124\n",
       "Period           124\n",
       "Indicator        124\n",
       "First Tooltip    124\n",
       "dtype: int64"
      ]
     },
     "execution_count": 35,
     "metadata": {},
     "output_type": "execute_result"
    }
   ],
   "source": [
    "ad_br_data[ad_br_data['Period'] == 2004].count()"
   ]
  },
  {
   "cell_type": "code",
   "execution_count": 36,
   "metadata": {},
   "outputs": [
    {
     "data": {
      "text/plain": [
       "Location         120\n",
       "Period           120\n",
       "Indicator        120\n",
       "First Tooltip    120\n",
       "dtype: int64"
      ]
     },
     "execution_count": 36,
     "metadata": {},
     "output_type": "execute_result"
    }
   ],
   "source": [
    "ad_br_data[ad_br_data['Period'] == 2003].count()"
   ]
  },
  {
   "cell_type": "code",
   "execution_count": 37,
   "metadata": {},
   "outputs": [
    {
     "data": {
      "text/plain": [
       "Location         134\n",
       "Period           134\n",
       "Indicator        134\n",
       "First Tooltip    134\n",
       "dtype: int64"
      ]
     },
     "execution_count": 37,
     "metadata": {},
     "output_type": "execute_result"
    }
   ],
   "source": [
    "ad_br_data[ad_br_data['Period'] == 2002].count()"
   ]
  },
  {
   "cell_type": "code",
   "execution_count": 38,
   "metadata": {},
   "outputs": [
    {
     "data": {
      "text/plain": [
       "Location         133\n",
       "Period           133\n",
       "Indicator        133\n",
       "First Tooltip    133\n",
       "dtype: int64"
      ]
     },
     "execution_count": 38,
     "metadata": {},
     "output_type": "execute_result"
    }
   ],
   "source": [
    "ad_br_data[ad_br_data['Period'] == 2001].count()"
   ]
  },
  {
   "cell_type": "code",
   "execution_count": 39,
   "metadata": {},
   "outputs": [
    {
     "data": {
      "text/plain": [
       "Location         142\n",
       "Period           142\n",
       "Indicator        142\n",
       "First Tooltip    142\n",
       "dtype: int64"
      ]
     },
     "execution_count": 39,
     "metadata": {},
     "output_type": "execute_result"
    }
   ],
   "source": [
    "ad_br_data[ad_br_data['Period'] == 2000].count()"
   ]
  },
  {
   "cell_type": "code",
   "execution_count": 40,
   "metadata": {},
   "outputs": [
    {
     "data": {
      "text/plain": [
       "array(['Adolescent birth rate (per 1000 women aged 15-19 years)'],\n",
       "      dtype=object)"
      ]
     },
     "execution_count": 40,
     "metadata": {},
     "output_type": "execute_result"
    }
   ],
   "source": [
    "ad_br_data['Indicator'].unique()"
   ]
  },
  {
   "cell_type": "markdown",
   "metadata": {},
   "source": [
    "## Check if use this year"
   ]
  },
  {
   "cell_type": "markdown",
   "metadata": {},
   "source": [
    "This year only has 108 rows"
   ]
  },
  {
   "cell_type": "code",
   "execution_count": 41,
   "metadata": {
    "scrolled": true
   },
   "outputs": [
    {
     "data": {
      "text/html": [
       "<div>\n",
       "<style scoped>\n",
       "    .dataframe tbody tr th:only-of-type {\n",
       "        vertical-align: middle;\n",
       "    }\n",
       "\n",
       "    .dataframe tbody tr th {\n",
       "        vertical-align: top;\n",
       "    }\n",
       "\n",
       "    .dataframe thead th {\n",
       "        text-align: right;\n",
       "    }\n",
       "</style>\n",
       "<table border=\"1\" class=\"dataframe\">\n",
       "  <thead>\n",
       "    <tr style=\"text-align: right;\">\n",
       "      <th></th>\n",
       "      <th>Location</th>\n",
       "      <th>Period</th>\n",
       "      <th>Indicator</th>\n",
       "      <th>First Tooltip</th>\n",
       "    </tr>\n",
       "  </thead>\n",
       "  <tbody>\n",
       "    <tr>\n",
       "      <th>12</th>\n",
       "      <td>Albania</td>\n",
       "      <td>2016</td>\n",
       "      <td>Adolescent birth rate (per 1000 women aged 15-...</td>\n",
       "      <td>17.3</td>\n",
       "    </tr>\n",
       "    <tr>\n",
       "      <th>41</th>\n",
       "      <td>Andorra</td>\n",
       "      <td>2016</td>\n",
       "      <td>Adolescent birth rate (per 1000 women aged 15-...</td>\n",
       "      <td>2.6</td>\n",
       "    </tr>\n",
       "    <tr>\n",
       "      <th>66</th>\n",
       "      <td>Antigua and Barbuda</td>\n",
       "      <td>2016</td>\n",
       "      <td>Adolescent birth rate (per 1000 women aged 15-...</td>\n",
       "      <td>31.1</td>\n",
       "    </tr>\n",
       "    <tr>\n",
       "      <th>96</th>\n",
       "      <td>Armenia</td>\n",
       "      <td>2016</td>\n",
       "      <td>Adolescent birth rate (per 1000 women aged 15-...</td>\n",
       "      <td>24.5</td>\n",
       "    </tr>\n",
       "    <tr>\n",
       "      <th>114</th>\n",
       "      <td>Australia</td>\n",
       "      <td>2016</td>\n",
       "      <td>Adolescent birth rate (per 1000 women aged 15-...</td>\n",
       "      <td>10.3</td>\n",
       "    </tr>\n",
       "    <tr>\n",
       "      <th>...</th>\n",
       "      <td>...</td>\n",
       "      <td>...</td>\n",
       "      <td>...</td>\n",
       "      <td>...</td>\n",
       "    </tr>\n",
       "    <tr>\n",
       "      <th>2065</th>\n",
       "      <td>United Kingdom of Great Britain and Northern I...</td>\n",
       "      <td>2016</td>\n",
       "      <td>Adolescent birth rate (per 1000 women aged 15-...</td>\n",
       "      <td>13.7</td>\n",
       "    </tr>\n",
       "    <tr>\n",
       "      <th>2082</th>\n",
       "      <td>United Republic of Tanzania</td>\n",
       "      <td>2016</td>\n",
       "      <td>Adolescent birth rate (per 1000 women aged 15-...</td>\n",
       "      <td>138.9</td>\n",
       "    </tr>\n",
       "    <tr>\n",
       "      <th>2092</th>\n",
       "      <td>United States of America</td>\n",
       "      <td>2016</td>\n",
       "      <td>Adolescent birth rate (per 1000 women aged 15-...</td>\n",
       "      <td>20.3</td>\n",
       "    </tr>\n",
       "    <tr>\n",
       "      <th>2111</th>\n",
       "      <td>Uruguay</td>\n",
       "      <td>2016</td>\n",
       "      <td>Adolescent birth rate (per 1000 women aged 15-...</td>\n",
       "      <td>50.3</td>\n",
       "    </tr>\n",
       "    <tr>\n",
       "      <th>2129</th>\n",
       "      <td>Uzbekistan</td>\n",
       "      <td>2016</td>\n",
       "      <td>Adolescent birth rate (per 1000 women aged 15-...</td>\n",
       "      <td>20.9</td>\n",
       "    </tr>\n",
       "  </tbody>\n",
       "</table>\n",
       "<p>108 rows × 4 columns</p>\n",
       "</div>"
      ],
      "text/plain": [
       "                                               Location  Period  \\\n",
       "12                                              Albania    2016   \n",
       "41                                              Andorra    2016   \n",
       "66                                  Antigua and Barbuda    2016   \n",
       "96                                              Armenia    2016   \n",
       "114                                           Australia    2016   \n",
       "...                                                 ...     ...   \n",
       "2065  United Kingdom of Great Britain and Northern I...    2016   \n",
       "2082                        United Republic of Tanzania    2016   \n",
       "2092                           United States of America    2016   \n",
       "2111                                            Uruguay    2016   \n",
       "2129                                         Uzbekistan    2016   \n",
       "\n",
       "                                              Indicator  First Tooltip  \n",
       "12    Adolescent birth rate (per 1000 women aged 15-...           17.3  \n",
       "41    Adolescent birth rate (per 1000 women aged 15-...            2.6  \n",
       "66    Adolescent birth rate (per 1000 women aged 15-...           31.1  \n",
       "96    Adolescent birth rate (per 1000 women aged 15-...           24.5  \n",
       "114   Adolescent birth rate (per 1000 women aged 15-...           10.3  \n",
       "...                                                 ...            ...  \n",
       "2065  Adolescent birth rate (per 1000 women aged 15-...           13.7  \n",
       "2082  Adolescent birth rate (per 1000 women aged 15-...          138.9  \n",
       "2092  Adolescent birth rate (per 1000 women aged 15-...           20.3  \n",
       "2111  Adolescent birth rate (per 1000 women aged 15-...           50.3  \n",
       "2129  Adolescent birth rate (per 1000 women aged 15-...           20.9  \n",
       "\n",
       "[108 rows x 4 columns]"
      ]
     },
     "execution_count": 41,
     "metadata": {},
     "output_type": "execute_result"
    }
   ],
   "source": [
    "ad_br_2016 = ad_br_data[ad_br_data['Period'] == 2016]\n",
    "ad_br_2016"
   ]
  },
  {
   "cell_type": "markdown",
   "metadata": {},
   "source": [
    "## Check if use this year"
   ]
  },
  {
   "cell_type": "markdown",
   "metadata": {},
   "source": [
    "This row has only 106 rows"
   ]
  },
  {
   "cell_type": "code",
   "execution_count": 42,
   "metadata": {},
   "outputs": [
    {
     "data": {
      "text/html": [
       "<div>\n",
       "<style scoped>\n",
       "    .dataframe tbody tr th:only-of-type {\n",
       "        vertical-align: middle;\n",
       "    }\n",
       "\n",
       "    .dataframe tbody tr th {\n",
       "        vertical-align: top;\n",
       "    }\n",
       "\n",
       "    .dataframe thead th {\n",
       "        text-align: right;\n",
       "    }\n",
       "</style>\n",
       "<table border=\"1\" class=\"dataframe\">\n",
       "  <thead>\n",
       "    <tr style=\"text-align: right;\">\n",
       "      <th></th>\n",
       "      <th>Location</th>\n",
       "      <th>Period</th>\n",
       "      <th>Indicator</th>\n",
       "      <th>First Tooltip</th>\n",
       "    </tr>\n",
       "  </thead>\n",
       "  <tbody>\n",
       "    <tr>\n",
       "      <th>13</th>\n",
       "      <td>Albania</td>\n",
       "      <td>2015</td>\n",
       "      <td>Adolescent birth rate (per 1000 women aged 15-...</td>\n",
       "      <td>20.2</td>\n",
       "    </tr>\n",
       "    <tr>\n",
       "      <th>28</th>\n",
       "      <td>Algeria</td>\n",
       "      <td>2015</td>\n",
       "      <td>Adolescent birth rate (per 1000 women aged 15-...</td>\n",
       "      <td>9.7</td>\n",
       "    </tr>\n",
       "    <tr>\n",
       "      <th>42</th>\n",
       "      <td>Andorra</td>\n",
       "      <td>2015</td>\n",
       "      <td>Adolescent birth rate (per 1000 women aged 15-...</td>\n",
       "      <td>3.1</td>\n",
       "    </tr>\n",
       "    <tr>\n",
       "      <th>67</th>\n",
       "      <td>Antigua and Barbuda</td>\n",
       "      <td>2015</td>\n",
       "      <td>Adolescent birth rate (per 1000 women aged 15-...</td>\n",
       "      <td>37.7</td>\n",
       "    </tr>\n",
       "    <tr>\n",
       "      <th>79</th>\n",
       "      <td>Argentina</td>\n",
       "      <td>2015</td>\n",
       "      <td>Adolescent birth rate (per 1000 women aged 15-...</td>\n",
       "      <td>65.1</td>\n",
       "    </tr>\n",
       "    <tr>\n",
       "      <th>...</th>\n",
       "      <td>...</td>\n",
       "      <td>...</td>\n",
       "      <td>...</td>\n",
       "      <td>...</td>\n",
       "    </tr>\n",
       "    <tr>\n",
       "      <th>2000</th>\n",
       "      <td>Turkey</td>\n",
       "      <td>2015</td>\n",
       "      <td>Adolescent birth rate (per 1000 women aged 15-...</td>\n",
       "      <td>24.9</td>\n",
       "    </tr>\n",
       "    <tr>\n",
       "      <th>2027</th>\n",
       "      <td>Uganda</td>\n",
       "      <td>2015</td>\n",
       "      <td>Adolescent birth rate (per 1000 women aged 15-...</td>\n",
       "      <td>131.5</td>\n",
       "    </tr>\n",
       "    <tr>\n",
       "      <th>2066</th>\n",
       "      <td>United Kingdom of Great Britain and Northern I...</td>\n",
       "      <td>2015</td>\n",
       "      <td>Adolescent birth rate (per 1000 women aged 15-...</td>\n",
       "      <td>14.4</td>\n",
       "    </tr>\n",
       "    <tr>\n",
       "      <th>2093</th>\n",
       "      <td>United States of America</td>\n",
       "      <td>2015</td>\n",
       "      <td>Adolescent birth rate (per 1000 women aged 15-...</td>\n",
       "      <td>22.3</td>\n",
       "    </tr>\n",
       "    <tr>\n",
       "      <th>2112</th>\n",
       "      <td>Uruguay</td>\n",
       "      <td>2015</td>\n",
       "      <td>Adolescent birth rate (per 1000 women aged 15-...</td>\n",
       "      <td>55.6</td>\n",
       "    </tr>\n",
       "  </tbody>\n",
       "</table>\n",
       "<p>106 rows × 4 columns</p>\n",
       "</div>"
      ],
      "text/plain": [
       "                                               Location  Period  \\\n",
       "13                                              Albania    2015   \n",
       "28                                              Algeria    2015   \n",
       "42                                              Andorra    2015   \n",
       "67                                  Antigua and Barbuda    2015   \n",
       "79                                            Argentina    2015   \n",
       "...                                                 ...     ...   \n",
       "2000                                             Turkey    2015   \n",
       "2027                                             Uganda    2015   \n",
       "2066  United Kingdom of Great Britain and Northern I...    2015   \n",
       "2093                           United States of America    2015   \n",
       "2112                                            Uruguay    2015   \n",
       "\n",
       "                                              Indicator  First Tooltip  \n",
       "13    Adolescent birth rate (per 1000 women aged 15-...           20.2  \n",
       "28    Adolescent birth rate (per 1000 women aged 15-...            9.7  \n",
       "42    Adolescent birth rate (per 1000 women aged 15-...            3.1  \n",
       "67    Adolescent birth rate (per 1000 women aged 15-...           37.7  \n",
       "79    Adolescent birth rate (per 1000 women aged 15-...           65.1  \n",
       "...                                                 ...            ...  \n",
       "2000  Adolescent birth rate (per 1000 women aged 15-...           24.9  \n",
       "2027  Adolescent birth rate (per 1000 women aged 15-...          131.5  \n",
       "2066  Adolescent birth rate (per 1000 women aged 15-...           14.4  \n",
       "2093  Adolescent birth rate (per 1000 women aged 15-...           22.3  \n",
       "2112  Adolescent birth rate (per 1000 women aged 15-...           55.6  \n",
       "\n",
       "[106 rows x 4 columns]"
      ]
     },
     "execution_count": 42,
     "metadata": {},
     "output_type": "execute_result"
    }
   ],
   "source": [
    "ad_br_2015 = ad_br_data[ad_br_data['Period'] == 2015]\n",
    "ad_br_2015"
   ]
  },
  {
   "cell_type": "code",
   "execution_count": null,
   "metadata": {},
   "outputs": [],
   "source": []
  },
  {
   "cell_type": "markdown",
   "metadata": {},
   "source": [
    "## Air Pollution Deaths"
   ]
  },
  {
   "cell_type": "code",
   "execution_count": 43,
   "metadata": {},
   "outputs": [
    {
     "data": {
      "text/html": [
       "<div>\n",
       "<style scoped>\n",
       "    .dataframe tbody tr th:only-of-type {\n",
       "        vertical-align: middle;\n",
       "    }\n",
       "\n",
       "    .dataframe tbody tr th {\n",
       "        vertical-align: top;\n",
       "    }\n",
       "\n",
       "    .dataframe thead th {\n",
       "        text-align: right;\n",
       "    }\n",
       "</style>\n",
       "<table border=\"1\" class=\"dataframe\">\n",
       "  <thead>\n",
       "    <tr style=\"text-align: right;\">\n",
       "      <th></th>\n",
       "      <th>Location</th>\n",
       "      <th>Dim2</th>\n",
       "      <th>Indicator</th>\n",
       "      <th>Period</th>\n",
       "      <th>Dim1</th>\n",
       "      <th>First Tooltip</th>\n",
       "    </tr>\n",
       "  </thead>\n",
       "  <tbody>\n",
       "    <tr>\n",
       "      <th>0</th>\n",
       "      <td>Afghanistan</td>\n",
       "      <td>Total</td>\n",
       "      <td>Ambient and household air pollution attributab...</td>\n",
       "      <td>2016</td>\n",
       "      <td>Both sexes</td>\n",
       "      <td>95.12 [85.12-104.3]</td>\n",
       "    </tr>\n",
       "    <tr>\n",
       "      <th>1</th>\n",
       "      <td>Afghanistan</td>\n",
       "      <td>Total</td>\n",
       "      <td>Ambient and household air pollution attributab...</td>\n",
       "      <td>2016</td>\n",
       "      <td>Male</td>\n",
       "      <td>95.58 [85.5-106]</td>\n",
       "    </tr>\n",
       "    <tr>\n",
       "      <th>2</th>\n",
       "      <td>Afghanistan</td>\n",
       "      <td>Total</td>\n",
       "      <td>Ambient and household air pollution attributab...</td>\n",
       "      <td>2016</td>\n",
       "      <td>Female</td>\n",
       "      <td>94.63 [84.55-103.9]</td>\n",
       "    </tr>\n",
       "    <tr>\n",
       "      <th>3</th>\n",
       "      <td>Afghanistan</td>\n",
       "      <td>Total</td>\n",
       "      <td>Ambient and household air pollution attributab...</td>\n",
       "      <td>2016</td>\n",
       "      <td>Both sexes</td>\n",
       "      <td>211.1 [188.9-231.3]</td>\n",
       "    </tr>\n",
       "    <tr>\n",
       "      <th>4</th>\n",
       "      <td>Afghanistan</td>\n",
       "      <td>Total</td>\n",
       "      <td>Ambient and household air pollution attributab...</td>\n",
       "      <td>2016</td>\n",
       "      <td>Male</td>\n",
       "      <td>228.7 [204.6-253.6]</td>\n",
       "    </tr>\n",
       "    <tr>\n",
       "      <th>...</th>\n",
       "      <td>...</td>\n",
       "      <td>...</td>\n",
       "      <td>...</td>\n",
       "      <td>...</td>\n",
       "      <td>...</td>\n",
       "      <td>...</td>\n",
       "    </tr>\n",
       "    <tr>\n",
       "      <th>6583</th>\n",
       "      <td>Zimbabwe</td>\n",
       "      <td>Chronic obstructive pulmonary disease</td>\n",
       "      <td>Ambient and household air pollution attributab...</td>\n",
       "      <td>2016</td>\n",
       "      <td>Male</td>\n",
       "      <td>5.54 [2.74-7.66]</td>\n",
       "    </tr>\n",
       "    <tr>\n",
       "      <th>6584</th>\n",
       "      <td>Zimbabwe</td>\n",
       "      <td>Chronic obstructive pulmonary disease</td>\n",
       "      <td>Ambient and household air pollution attributab...</td>\n",
       "      <td>2016</td>\n",
       "      <td>Female</td>\n",
       "      <td>6.19 [4.73-7.3]</td>\n",
       "    </tr>\n",
       "    <tr>\n",
       "      <th>6585</th>\n",
       "      <td>Zimbabwe</td>\n",
       "      <td>Chronic obstructive pulmonary disease</td>\n",
       "      <td>Ambient and household air pollution attributab...</td>\n",
       "      <td>2016</td>\n",
       "      <td>Both sexes</td>\n",
       "      <td>16.09 [11.67-19.89]</td>\n",
       "    </tr>\n",
       "    <tr>\n",
       "      <th>6586</th>\n",
       "      <td>Zimbabwe</td>\n",
       "      <td>Chronic obstructive pulmonary disease</td>\n",
       "      <td>Ambient and household air pollution attributab...</td>\n",
       "      <td>2016</td>\n",
       "      <td>Male</td>\n",
       "      <td>17.72 [8.75-24.51]</td>\n",
       "    </tr>\n",
       "    <tr>\n",
       "      <th>6587</th>\n",
       "      <td>Zimbabwe</td>\n",
       "      <td>Chronic obstructive pulmonary disease</td>\n",
       "      <td>Ambient and household air pollution attributab...</td>\n",
       "      <td>2016</td>\n",
       "      <td>Female</td>\n",
       "      <td>14.95 [11.43-17.62]</td>\n",
       "    </tr>\n",
       "  </tbody>\n",
       "</table>\n",
       "<p>6588 rows × 6 columns</p>\n",
       "</div>"
      ],
      "text/plain": [
       "         Location                                   Dim2  \\\n",
       "0     Afghanistan                                  Total   \n",
       "1     Afghanistan                                  Total   \n",
       "2     Afghanistan                                  Total   \n",
       "3     Afghanistan                                  Total   \n",
       "4     Afghanistan                                  Total   \n",
       "...           ...                                    ...   \n",
       "6583     Zimbabwe  Chronic obstructive pulmonary disease   \n",
       "6584     Zimbabwe  Chronic obstructive pulmonary disease   \n",
       "6585     Zimbabwe  Chronic obstructive pulmonary disease   \n",
       "6586     Zimbabwe  Chronic obstructive pulmonary disease   \n",
       "6587     Zimbabwe  Chronic obstructive pulmonary disease   \n",
       "\n",
       "                                              Indicator  Period        Dim1  \\\n",
       "0     Ambient and household air pollution attributab...    2016  Both sexes   \n",
       "1     Ambient and household air pollution attributab...    2016        Male   \n",
       "2     Ambient and household air pollution attributab...    2016      Female   \n",
       "3     Ambient and household air pollution attributab...    2016  Both sexes   \n",
       "4     Ambient and household air pollution attributab...    2016        Male   \n",
       "...                                                 ...     ...         ...   \n",
       "6583  Ambient and household air pollution attributab...    2016        Male   \n",
       "6584  Ambient and household air pollution attributab...    2016      Female   \n",
       "6585  Ambient and household air pollution attributab...    2016  Both sexes   \n",
       "6586  Ambient and household air pollution attributab...    2016        Male   \n",
       "6587  Ambient and household air pollution attributab...    2016      Female   \n",
       "\n",
       "            First Tooltip  \n",
       "0     95.12 [85.12-104.3]  \n",
       "1        95.58 [85.5-106]  \n",
       "2     94.63 [84.55-103.9]  \n",
       "3     211.1 [188.9-231.3]  \n",
       "4     228.7 [204.6-253.6]  \n",
       "...                   ...  \n",
       "6583     5.54 [2.74-7.66]  \n",
       "6584      6.19 [4.73-7.3]  \n",
       "6585  16.09 [11.67-19.89]  \n",
       "6586   17.72 [8.75-24.51]  \n",
       "6587  14.95 [11.43-17.62]  \n",
       "\n",
       "[6588 rows x 6 columns]"
      ]
     },
     "execution_count": 43,
     "metadata": {},
     "output_type": "execute_result"
    }
   ],
   "source": [
    "ap_data = pd.read_csv(WHS_path/'airPollutionDeathRate.csv')\n",
    "ap_data"
   ]
  },
  {
   "cell_type": "code",
   "execution_count": 44,
   "metadata": {},
   "outputs": [
    {
     "data": {
      "text/plain": [
       "Location         6588\n",
       "Dim2             6588\n",
       "Indicator        6588\n",
       "Period           6588\n",
       "Dim1             6588\n",
       "First Tooltip    6588\n",
       "dtype: int64"
      ]
     },
     "execution_count": 44,
     "metadata": {},
     "output_type": "execute_result"
    }
   ],
   "source": [
    "ap_data.isnull().count()"
   ]
  },
  {
   "cell_type": "code",
   "execution_count": 45,
   "metadata": {},
   "outputs": [
    {
     "data": {
      "text/plain": [
       "array([2016])"
      ]
     },
     "execution_count": 45,
     "metadata": {},
     "output_type": "execute_result"
    }
   ],
   "source": [
    "ap_data['Period'].unique()"
   ]
  },
  {
   "cell_type": "code",
   "execution_count": 46,
   "metadata": {},
   "outputs": [
    {
     "data": {
      "text/plain": [
       "array(['Total', 'Lower respiratory infections',\n",
       "       'Trachea, bronchus, lung cancers', 'Ischaemic heart disease',\n",
       "       'Stroke', 'Chronic obstructive pulmonary disease'], dtype=object)"
      ]
     },
     "execution_count": 46,
     "metadata": {},
     "output_type": "execute_result"
    }
   ],
   "source": [
    "ap_data['Dim2'].unique()"
   ]
  },
  {
   "cell_type": "code",
   "execution_count": 47,
   "metadata": {},
   "outputs": [
    {
     "data": {
      "text/plain": [
       "array(['Ambient and household air pollution attributable death rate (per 100 000 population)',\n",
       "       'Ambient and household air pollution attributable death rate (per 100 000 population, age-standardized)'],\n",
       "      dtype=object)"
      ]
     },
     "execution_count": 47,
     "metadata": {},
     "output_type": "execute_result"
    }
   ],
   "source": [
    "ap_data['Indicator'].unique()"
   ]
  },
  {
   "cell_type": "markdown",
   "metadata": {},
   "source": [
    "I think it would be best to make each unique value in Dim2 as a column. That way we would have a single row for each country instead of a bunch of rows per country. Maybe see if the original dataset was set up like this."
   ]
  },
  {
   "cell_type": "code",
   "execution_count": 48,
   "metadata": {},
   "outputs": [
    {
     "data": {
      "text/html": [
       "<div>\n",
       "<style scoped>\n",
       "    .dataframe tbody tr th:only-of-type {\n",
       "        vertical-align: middle;\n",
       "    }\n",
       "\n",
       "    .dataframe tbody tr th {\n",
       "        vertical-align: top;\n",
       "    }\n",
       "\n",
       "    .dataframe thead th {\n",
       "        text-align: right;\n",
       "    }\n",
       "</style>\n",
       "<table border=\"1\" class=\"dataframe\">\n",
       "  <thead>\n",
       "    <tr style=\"text-align: right;\">\n",
       "      <th></th>\n",
       "      <th>Location</th>\n",
       "      <th>Dim2</th>\n",
       "      <th>Indicator</th>\n",
       "      <th>Period</th>\n",
       "      <th>Dim1</th>\n",
       "      <th>First Tooltip</th>\n",
       "    </tr>\n",
       "  </thead>\n",
       "  <tbody>\n",
       "    <tr>\n",
       "      <th>0</th>\n",
       "      <td>Afghanistan</td>\n",
       "      <td>Total</td>\n",
       "      <td>Ambient and household air pollution attributab...</td>\n",
       "      <td>2016</td>\n",
       "      <td>Both sexes</td>\n",
       "      <td>95.12 [85.12-104.3]</td>\n",
       "    </tr>\n",
       "    <tr>\n",
       "      <th>3</th>\n",
       "      <td>Afghanistan</td>\n",
       "      <td>Total</td>\n",
       "      <td>Ambient and household air pollution attributab...</td>\n",
       "      <td>2016</td>\n",
       "      <td>Both sexes</td>\n",
       "      <td>211.1 [188.9-231.3]</td>\n",
       "    </tr>\n",
       "    <tr>\n",
       "      <th>6</th>\n",
       "      <td>Afghanistan</td>\n",
       "      <td>Lower respiratory infections</td>\n",
       "      <td>Ambient and household air pollution attributab...</td>\n",
       "      <td>2016</td>\n",
       "      <td>Both sexes</td>\n",
       "      <td>31.26 [25.66-35.67]</td>\n",
       "    </tr>\n",
       "    <tr>\n",
       "      <th>9</th>\n",
       "      <td>Afghanistan</td>\n",
       "      <td>Lower respiratory infections</td>\n",
       "      <td>Ambient and household air pollution attributab...</td>\n",
       "      <td>2016</td>\n",
       "      <td>Both sexes</td>\n",
       "      <td>31.68 [26.01-36.15]</td>\n",
       "    </tr>\n",
       "    <tr>\n",
       "      <th>12</th>\n",
       "      <td>Afghanistan</td>\n",
       "      <td>Trachea, bronchus, lung cancers</td>\n",
       "      <td>Ambient and household air pollution attributab...</td>\n",
       "      <td>2016</td>\n",
       "      <td>Both sexes</td>\n",
       "      <td>1.61 [1.21-1.96]</td>\n",
       "    </tr>\n",
       "    <tr>\n",
       "      <th>...</th>\n",
       "      <td>...</td>\n",
       "      <td>...</td>\n",
       "      <td>...</td>\n",
       "      <td>...</td>\n",
       "      <td>...</td>\n",
       "      <td>...</td>\n",
       "    </tr>\n",
       "    <tr>\n",
       "      <th>6573</th>\n",
       "      <td>Zimbabwe</td>\n",
       "      <td>Ischaemic heart disease</td>\n",
       "      <td>Ambient and household air pollution attributab...</td>\n",
       "      <td>2016</td>\n",
       "      <td>Both sexes</td>\n",
       "      <td>33.24 [28.49-38.1]</td>\n",
       "    </tr>\n",
       "    <tr>\n",
       "      <th>6576</th>\n",
       "      <td>Zimbabwe</td>\n",
       "      <td>Stroke</td>\n",
       "      <td>Ambient and household air pollution attributab...</td>\n",
       "      <td>2016</td>\n",
       "      <td>Both sexes</td>\n",
       "      <td>8.27 [7.07-9.64]</td>\n",
       "    </tr>\n",
       "    <tr>\n",
       "      <th>6579</th>\n",
       "      <td>Zimbabwe</td>\n",
       "      <td>Stroke</td>\n",
       "      <td>Ambient and household air pollution attributab...</td>\n",
       "      <td>2016</td>\n",
       "      <td>Both sexes</td>\n",
       "      <td>20.08 [17.15-23.4]</td>\n",
       "    </tr>\n",
       "    <tr>\n",
       "      <th>6582</th>\n",
       "      <td>Zimbabwe</td>\n",
       "      <td>Chronic obstructive pulmonary disease</td>\n",
       "      <td>Ambient and household air pollution attributab...</td>\n",
       "      <td>2016</td>\n",
       "      <td>Both sexes</td>\n",
       "      <td>5.88 [4.26-7.26]</td>\n",
       "    </tr>\n",
       "    <tr>\n",
       "      <th>6585</th>\n",
       "      <td>Zimbabwe</td>\n",
       "      <td>Chronic obstructive pulmonary disease</td>\n",
       "      <td>Ambient and household air pollution attributab...</td>\n",
       "      <td>2016</td>\n",
       "      <td>Both sexes</td>\n",
       "      <td>16.09 [11.67-19.89]</td>\n",
       "    </tr>\n",
       "  </tbody>\n",
       "</table>\n",
       "<p>2196 rows × 6 columns</p>\n",
       "</div>"
      ],
      "text/plain": [
       "         Location                                   Dim2  \\\n",
       "0     Afghanistan                                  Total   \n",
       "3     Afghanistan                                  Total   \n",
       "6     Afghanistan           Lower respiratory infections   \n",
       "9     Afghanistan           Lower respiratory infections   \n",
       "12    Afghanistan        Trachea, bronchus, lung cancers   \n",
       "...           ...                                    ...   \n",
       "6573     Zimbabwe                Ischaemic heart disease   \n",
       "6576     Zimbabwe                                 Stroke   \n",
       "6579     Zimbabwe                                 Stroke   \n",
       "6582     Zimbabwe  Chronic obstructive pulmonary disease   \n",
       "6585     Zimbabwe  Chronic obstructive pulmonary disease   \n",
       "\n",
       "                                              Indicator  Period        Dim1  \\\n",
       "0     Ambient and household air pollution attributab...    2016  Both sexes   \n",
       "3     Ambient and household air pollution attributab...    2016  Both sexes   \n",
       "6     Ambient and household air pollution attributab...    2016  Both sexes   \n",
       "9     Ambient and household air pollution attributab...    2016  Both sexes   \n",
       "12    Ambient and household air pollution attributab...    2016  Both sexes   \n",
       "...                                                 ...     ...         ...   \n",
       "6573  Ambient and household air pollution attributab...    2016  Both sexes   \n",
       "6576  Ambient and household air pollution attributab...    2016  Both sexes   \n",
       "6579  Ambient and household air pollution attributab...    2016  Both sexes   \n",
       "6582  Ambient and household air pollution attributab...    2016  Both sexes   \n",
       "6585  Ambient and household air pollution attributab...    2016  Both sexes   \n",
       "\n",
       "            First Tooltip  \n",
       "0     95.12 [85.12-104.3]  \n",
       "3     211.1 [188.9-231.3]  \n",
       "6     31.26 [25.66-35.67]  \n",
       "9     31.68 [26.01-36.15]  \n",
       "12       1.61 [1.21-1.96]  \n",
       "...                   ...  \n",
       "6573   33.24 [28.49-38.1]  \n",
       "6576     8.27 [7.07-9.64]  \n",
       "6579   20.08 [17.15-23.4]  \n",
       "6582     5.88 [4.26-7.26]  \n",
       "6585  16.09 [11.67-19.89]  \n",
       "\n",
       "[2196 rows x 6 columns]"
      ]
     },
     "execution_count": 48,
     "metadata": {},
     "output_type": "execute_result"
    }
   ],
   "source": [
    "ap_bs_data = ap_data[ap_data['Dim1'] == 'Both sexes']\n",
    "ap_bs_data"
   ]
  },
  {
   "cell_type": "code",
   "execution_count": 49,
   "metadata": {},
   "outputs": [
    {
     "data": {
      "text/html": [
       "<div>\n",
       "<style scoped>\n",
       "    .dataframe tbody tr th:only-of-type {\n",
       "        vertical-align: middle;\n",
       "    }\n",
       "\n",
       "    .dataframe tbody tr th {\n",
       "        vertical-align: top;\n",
       "    }\n",
       "\n",
       "    .dataframe thead th {\n",
       "        text-align: right;\n",
       "    }\n",
       "</style>\n",
       "<table border=\"1\" class=\"dataframe\">\n",
       "  <thead>\n",
       "    <tr style=\"text-align: right;\">\n",
       "      <th></th>\n",
       "      <th>Location</th>\n",
       "      <th>Dim2</th>\n",
       "      <th>Indicator</th>\n",
       "      <th>Period</th>\n",
       "      <th>Dim1</th>\n",
       "      <th>First Tooltip</th>\n",
       "    </tr>\n",
       "  </thead>\n",
       "  <tbody>\n",
       "    <tr>\n",
       "      <th>3</th>\n",
       "      <td>Afghanistan</td>\n",
       "      <td>Total</td>\n",
       "      <td>Ambient and household air pollution attributab...</td>\n",
       "      <td>2016</td>\n",
       "      <td>Both sexes</td>\n",
       "      <td>211.1 [188.9-231.3]</td>\n",
       "    </tr>\n",
       "    <tr>\n",
       "      <th>9</th>\n",
       "      <td>Afghanistan</td>\n",
       "      <td>Lower respiratory infections</td>\n",
       "      <td>Ambient and household air pollution attributab...</td>\n",
       "      <td>2016</td>\n",
       "      <td>Both sexes</td>\n",
       "      <td>31.68 [26.01-36.15]</td>\n",
       "    </tr>\n",
       "    <tr>\n",
       "      <th>15</th>\n",
       "      <td>Afghanistan</td>\n",
       "      <td>Trachea, bronchus, lung cancers</td>\n",
       "      <td>Ambient and household air pollution attributab...</td>\n",
       "      <td>2016</td>\n",
       "      <td>Both sexes</td>\n",
       "      <td>4.05 [3.03-4.92]</td>\n",
       "    </tr>\n",
       "    <tr>\n",
       "      <th>21</th>\n",
       "      <td>Afghanistan</td>\n",
       "      <td>Ischaemic heart disease</td>\n",
       "      <td>Ambient and household air pollution attributab...</td>\n",
       "      <td>2016</td>\n",
       "      <td>Both sexes</td>\n",
       "      <td>106.9 [91.91-121.1]</td>\n",
       "    </tr>\n",
       "    <tr>\n",
       "      <th>27</th>\n",
       "      <td>Afghanistan</td>\n",
       "      <td>Stroke</td>\n",
       "      <td>Ambient and household air pollution attributab...</td>\n",
       "      <td>2016</td>\n",
       "      <td>Both sexes</td>\n",
       "      <td>45.1 [38.59-51.65]</td>\n",
       "    </tr>\n",
       "    <tr>\n",
       "      <th>...</th>\n",
       "      <td>...</td>\n",
       "      <td>...</td>\n",
       "      <td>...</td>\n",
       "      <td>...</td>\n",
       "      <td>...</td>\n",
       "      <td>...</td>\n",
       "    </tr>\n",
       "    <tr>\n",
       "      <th>6561</th>\n",
       "      <td>Zimbabwe</td>\n",
       "      <td>Lower respiratory infections</td>\n",
       "      <td>Ambient and household air pollution attributab...</td>\n",
       "      <td>2016</td>\n",
       "      <td>Both sexes</td>\n",
       "      <td>61.68 [51.05-71.05]</td>\n",
       "    </tr>\n",
       "    <tr>\n",
       "      <th>6567</th>\n",
       "      <td>Zimbabwe</td>\n",
       "      <td>Trachea, bronchus, lung cancers</td>\n",
       "      <td>Ambient and household air pollution attributab...</td>\n",
       "      <td>2016</td>\n",
       "      <td>Both sexes</td>\n",
       "      <td>1.89 [1.42-2.33]</td>\n",
       "    </tr>\n",
       "    <tr>\n",
       "      <th>6573</th>\n",
       "      <td>Zimbabwe</td>\n",
       "      <td>Ischaemic heart disease</td>\n",
       "      <td>Ambient and household air pollution attributab...</td>\n",
       "      <td>2016</td>\n",
       "      <td>Both sexes</td>\n",
       "      <td>33.24 [28.49-38.1]</td>\n",
       "    </tr>\n",
       "    <tr>\n",
       "      <th>6579</th>\n",
       "      <td>Zimbabwe</td>\n",
       "      <td>Stroke</td>\n",
       "      <td>Ambient and household air pollution attributab...</td>\n",
       "      <td>2016</td>\n",
       "      <td>Both sexes</td>\n",
       "      <td>20.08 [17.15-23.4]</td>\n",
       "    </tr>\n",
       "    <tr>\n",
       "      <th>6585</th>\n",
       "      <td>Zimbabwe</td>\n",
       "      <td>Chronic obstructive pulmonary disease</td>\n",
       "      <td>Ambient and household air pollution attributab...</td>\n",
       "      <td>2016</td>\n",
       "      <td>Both sexes</td>\n",
       "      <td>16.09 [11.67-19.89]</td>\n",
       "    </tr>\n",
       "  </tbody>\n",
       "</table>\n",
       "<p>1098 rows × 6 columns</p>\n",
       "</div>"
      ],
      "text/plain": [
       "         Location                                   Dim2  \\\n",
       "3     Afghanistan                                  Total   \n",
       "9     Afghanistan           Lower respiratory infections   \n",
       "15    Afghanistan        Trachea, bronchus, lung cancers   \n",
       "21    Afghanistan                Ischaemic heart disease   \n",
       "27    Afghanistan                                 Stroke   \n",
       "...           ...                                    ...   \n",
       "6561     Zimbabwe           Lower respiratory infections   \n",
       "6567     Zimbabwe        Trachea, bronchus, lung cancers   \n",
       "6573     Zimbabwe                Ischaemic heart disease   \n",
       "6579     Zimbabwe                                 Stroke   \n",
       "6585     Zimbabwe  Chronic obstructive pulmonary disease   \n",
       "\n",
       "                                              Indicator  Period        Dim1  \\\n",
       "3     Ambient and household air pollution attributab...    2016  Both sexes   \n",
       "9     Ambient and household air pollution attributab...    2016  Both sexes   \n",
       "15    Ambient and household air pollution attributab...    2016  Both sexes   \n",
       "21    Ambient and household air pollution attributab...    2016  Both sexes   \n",
       "27    Ambient and household air pollution attributab...    2016  Both sexes   \n",
       "...                                                 ...     ...         ...   \n",
       "6561  Ambient and household air pollution attributab...    2016  Both sexes   \n",
       "6567  Ambient and household air pollution attributab...    2016  Both sexes   \n",
       "6573  Ambient and household air pollution attributab...    2016  Both sexes   \n",
       "6579  Ambient and household air pollution attributab...    2016  Both sexes   \n",
       "6585  Ambient and household air pollution attributab...    2016  Both sexes   \n",
       "\n",
       "            First Tooltip  \n",
       "3     211.1 [188.9-231.3]  \n",
       "9     31.68 [26.01-36.15]  \n",
       "15       4.05 [3.03-4.92]  \n",
       "21    106.9 [91.91-121.1]  \n",
       "27     45.1 [38.59-51.65]  \n",
       "...                   ...  \n",
       "6561  61.68 [51.05-71.05]  \n",
       "6567     1.89 [1.42-2.33]  \n",
       "6573   33.24 [28.49-38.1]  \n",
       "6579   20.08 [17.15-23.4]  \n",
       "6585  16.09 [11.67-19.89]  \n",
       "\n",
       "[1098 rows x 6 columns]"
      ]
     },
     "execution_count": 49,
     "metadata": {},
     "output_type": "execute_result"
    }
   ],
   "source": [
    "ap_bs_standardized = ap_bs_data[ap_bs_data['Indicator'] == 'Ambient and household air pollution attributable death rate (per 100 000 population, age-standardized)']\n",
    "ap_bs_standardized"
   ]
  },
  {
   "cell_type": "code",
   "execution_count": 50,
   "metadata": {},
   "outputs": [
    {
     "data": {
      "text/plain": [
       "array(['Ambient and household air pollution attributable death rate (per 100 000 population, age-standardized)'],\n",
       "      dtype=object)"
      ]
     },
     "execution_count": 50,
     "metadata": {},
     "output_type": "execute_result"
    }
   ],
   "source": [
    "ap_bs_standardized['Indicator'].unique()"
   ]
  },
  {
   "cell_type": "markdown",
   "metadata": {},
   "source": [
    "## This data has only 1 year. Maybe best to ignore.\n"
   ]
  },
  {
   "cell_type": "code",
   "execution_count": 159,
   "metadata": {},
   "outputs": [
    {
     "data": {
      "text/html": [
       "<div>\n",
       "<style scoped>\n",
       "    .dataframe tbody tr th:only-of-type {\n",
       "        vertical-align: middle;\n",
       "    }\n",
       "\n",
       "    .dataframe tbody tr th {\n",
       "        vertical-align: top;\n",
       "    }\n",
       "\n",
       "    .dataframe thead th {\n",
       "        text-align: right;\n",
       "    }\n",
       "</style>\n",
       "<table border=\"1\" class=\"dataframe\">\n",
       "  <thead>\n",
       "    <tr style=\"text-align: right;\">\n",
       "      <th></th>\n",
       "      <th>Location</th>\n",
       "      <th>Dim2</th>\n",
       "      <th>Indicator</th>\n",
       "      <th>Period</th>\n",
       "      <th>Dim1</th>\n",
       "      <th>First Tooltip</th>\n",
       "    </tr>\n",
       "  </thead>\n",
       "  <tbody>\n",
       "    <tr>\n",
       "      <th>3</th>\n",
       "      <td>Afghanistan</td>\n",
       "      <td>Total</td>\n",
       "      <td>Ambient and household air pollution attributab...</td>\n",
       "      <td>2016</td>\n",
       "      <td>Both sexes</td>\n",
       "      <td>211.1 [188.9-231.3]</td>\n",
       "    </tr>\n",
       "    <tr>\n",
       "      <th>39</th>\n",
       "      <td>Albania</td>\n",
       "      <td>Total</td>\n",
       "      <td>Ambient and household air pollution attributab...</td>\n",
       "      <td>2016</td>\n",
       "      <td>Both sexes</td>\n",
       "      <td>67.99 [45.61-95.6]</td>\n",
       "    </tr>\n",
       "    <tr>\n",
       "      <th>75</th>\n",
       "      <td>Algeria</td>\n",
       "      <td>Total</td>\n",
       "      <td>Ambient and household air pollution attributab...</td>\n",
       "      <td>2016</td>\n",
       "      <td>Both sexes</td>\n",
       "      <td>49.68 [38.61-86.22]</td>\n",
       "    </tr>\n",
       "    <tr>\n",
       "      <th>111</th>\n",
       "      <td>Angola</td>\n",
       "      <td>Total</td>\n",
       "      <td>Ambient and household air pollution attributab...</td>\n",
       "      <td>2016</td>\n",
       "      <td>Both sexes</td>\n",
       "      <td>118.5 [101.9-134.7]</td>\n",
       "    </tr>\n",
       "    <tr>\n",
       "      <th>147</th>\n",
       "      <td>Antigua and Barbuda</td>\n",
       "      <td>Total</td>\n",
       "      <td>Ambient and household air pollution attributab...</td>\n",
       "      <td>2016</td>\n",
       "      <td>Both sexes</td>\n",
       "      <td>29.9 [25.18-35.55]</td>\n",
       "    </tr>\n",
       "    <tr>\n",
       "      <th>...</th>\n",
       "      <td>...</td>\n",
       "      <td>...</td>\n",
       "      <td>...</td>\n",
       "      <td>...</td>\n",
       "      <td>...</td>\n",
       "      <td>...</td>\n",
       "    </tr>\n",
       "    <tr>\n",
       "      <th>6411</th>\n",
       "      <td>Venezuela (Bolivarian Republic of)</td>\n",
       "      <td>Total</td>\n",
       "      <td>Ambient and household air pollution attributab...</td>\n",
       "      <td>2016</td>\n",
       "      <td>Both sexes</td>\n",
       "      <td>34.65 [28.14-43.04]</td>\n",
       "    </tr>\n",
       "    <tr>\n",
       "      <th>6447</th>\n",
       "      <td>Viet Nam</td>\n",
       "      <td>Total</td>\n",
       "      <td>Ambient and household air pollution attributab...</td>\n",
       "      <td>2016</td>\n",
       "      <td>Both sexes</td>\n",
       "      <td>64.48 [54.72-75.04]</td>\n",
       "    </tr>\n",
       "    <tr>\n",
       "      <th>6483</th>\n",
       "      <td>Yemen</td>\n",
       "      <td>Total</td>\n",
       "      <td>Ambient and household air pollution attributab...</td>\n",
       "      <td>2016</td>\n",
       "      <td>Both sexes</td>\n",
       "      <td>194.2 [167.8-221.6]</td>\n",
       "    </tr>\n",
       "    <tr>\n",
       "      <th>6519</th>\n",
       "      <td>Zambia</td>\n",
       "      <td>Total</td>\n",
       "      <td>Ambient and household air pollution attributab...</td>\n",
       "      <td>2016</td>\n",
       "      <td>Both sexes</td>\n",
       "      <td>127.2 [113.8-139.7]</td>\n",
       "    </tr>\n",
       "    <tr>\n",
       "      <th>6555</th>\n",
       "      <td>Zimbabwe</td>\n",
       "      <td>Total</td>\n",
       "      <td>Ambient and household air pollution attributab...</td>\n",
       "      <td>2016</td>\n",
       "      <td>Both sexes</td>\n",
       "      <td>133 [117.5-147.7]</td>\n",
       "    </tr>\n",
       "  </tbody>\n",
       "</table>\n",
       "<p>183 rows × 6 columns</p>\n",
       "</div>"
      ],
      "text/plain": [
       "                                Location   Dim2  \\\n",
       "3                            Afghanistan  Total   \n",
       "39                               Albania  Total   \n",
       "75                               Algeria  Total   \n",
       "111                               Angola  Total   \n",
       "147                  Antigua and Barbuda  Total   \n",
       "...                                  ...    ...   \n",
       "6411  Venezuela (Bolivarian Republic of)  Total   \n",
       "6447                            Viet Nam  Total   \n",
       "6483                               Yemen  Total   \n",
       "6519                              Zambia  Total   \n",
       "6555                            Zimbabwe  Total   \n",
       "\n",
       "                                              Indicator  Period        Dim1  \\\n",
       "3     Ambient and household air pollution attributab...    2016  Both sexes   \n",
       "39    Ambient and household air pollution attributab...    2016  Both sexes   \n",
       "75    Ambient and household air pollution attributab...    2016  Both sexes   \n",
       "111   Ambient and household air pollution attributab...    2016  Both sexes   \n",
       "147   Ambient and household air pollution attributab...    2016  Both sexes   \n",
       "...                                                 ...     ...         ...   \n",
       "6411  Ambient and household air pollution attributab...    2016  Both sexes   \n",
       "6447  Ambient and household air pollution attributab...    2016  Both sexes   \n",
       "6483  Ambient and household air pollution attributab...    2016  Both sexes   \n",
       "6519  Ambient and household air pollution attributab...    2016  Both sexes   \n",
       "6555  Ambient and household air pollution attributab...    2016  Both sexes   \n",
       "\n",
       "            First Tooltip  \n",
       "3     211.1 [188.9-231.3]  \n",
       "39     67.99 [45.61-95.6]  \n",
       "75    49.68 [38.61-86.22]  \n",
       "111   118.5 [101.9-134.7]  \n",
       "147    29.9 [25.18-35.55]  \n",
       "...                   ...  \n",
       "6411  34.65 [28.14-43.04]  \n",
       "6447  64.48 [54.72-75.04]  \n",
       "6483  194.2 [167.8-221.6]  \n",
       "6519  127.2 [113.8-139.7]  \n",
       "6555    133 [117.5-147.7]  \n",
       "\n",
       "[183 rows x 6 columns]"
      ]
     },
     "execution_count": 159,
     "metadata": {},
     "output_type": "execute_result"
    }
   ],
   "source": [
    "ap_bs_tot = ap_bs_standardized[ap_bs_standardized['Dim2'] == 'Total']\n",
    "ap_bs_tot"
   ]
  },
  {
   "cell_type": "markdown",
   "metadata": {},
   "source": [
    "## Alcohol Substance Abuse"
   ]
  },
  {
   "cell_type": "code",
   "execution_count": 51,
   "metadata": {},
   "outputs": [
    {
     "data": {
      "text/html": [
       "<div>\n",
       "<style scoped>\n",
       "    .dataframe tbody tr th:only-of-type {\n",
       "        vertical-align: middle;\n",
       "    }\n",
       "\n",
       "    .dataframe tbody tr th {\n",
       "        vertical-align: top;\n",
       "    }\n",
       "\n",
       "    .dataframe thead th {\n",
       "        text-align: right;\n",
       "    }\n",
       "</style>\n",
       "<table border=\"1\" class=\"dataframe\">\n",
       "  <thead>\n",
       "    <tr style=\"text-align: right;\">\n",
       "      <th></th>\n",
       "      <th>Location</th>\n",
       "      <th>Period</th>\n",
       "      <th>Indicator</th>\n",
       "      <th>Dim1</th>\n",
       "      <th>First Tooltip</th>\n",
       "    </tr>\n",
       "  </thead>\n",
       "  <tbody>\n",
       "    <tr>\n",
       "      <th>0</th>\n",
       "      <td>Afghanistan</td>\n",
       "      <td>2018</td>\n",
       "      <td>Total (recorded+unrecorded) alcohol per capita...</td>\n",
       "      <td>Both sexes</td>\n",
       "      <td>0.210</td>\n",
       "    </tr>\n",
       "    <tr>\n",
       "      <th>1</th>\n",
       "      <td>Afghanistan</td>\n",
       "      <td>2018</td>\n",
       "      <td>Total (recorded+unrecorded) alcohol per capita...</td>\n",
       "      <td>Male</td>\n",
       "      <td>0.360</td>\n",
       "    </tr>\n",
       "    <tr>\n",
       "      <th>2</th>\n",
       "      <td>Afghanistan</td>\n",
       "      <td>2018</td>\n",
       "      <td>Total (recorded+unrecorded) alcohol per capita...</td>\n",
       "      <td>Female</td>\n",
       "      <td>0.055</td>\n",
       "    </tr>\n",
       "    <tr>\n",
       "      <th>3</th>\n",
       "      <td>Afghanistan</td>\n",
       "      <td>2015</td>\n",
       "      <td>Total (recorded+unrecorded) alcohol per capita...</td>\n",
       "      <td>Both sexes</td>\n",
       "      <td>0.210</td>\n",
       "    </tr>\n",
       "    <tr>\n",
       "      <th>4</th>\n",
       "      <td>Afghanistan</td>\n",
       "      <td>2015</td>\n",
       "      <td>Total (recorded+unrecorded) alcohol per capita...</td>\n",
       "      <td>Male</td>\n",
       "      <td>0.350</td>\n",
       "    </tr>\n",
       "    <tr>\n",
       "      <th>...</th>\n",
       "      <td>...</td>\n",
       "      <td>...</td>\n",
       "      <td>...</td>\n",
       "      <td>...</td>\n",
       "      <td>...</td>\n",
       "    </tr>\n",
       "    <tr>\n",
       "      <th>2782</th>\n",
       "      <td>Zimbabwe</td>\n",
       "      <td>2005</td>\n",
       "      <td>Total (recorded+unrecorded) alcohol per capita...</td>\n",
       "      <td>Male</td>\n",
       "      <td>4.720</td>\n",
       "    </tr>\n",
       "    <tr>\n",
       "      <th>2783</th>\n",
       "      <td>Zimbabwe</td>\n",
       "      <td>2005</td>\n",
       "      <td>Total (recorded+unrecorded) alcohol per capita...</td>\n",
       "      <td>Female</td>\n",
       "      <td>0.990</td>\n",
       "    </tr>\n",
       "    <tr>\n",
       "      <th>2784</th>\n",
       "      <td>Zimbabwe</td>\n",
       "      <td>2000</td>\n",
       "      <td>Total (recorded+unrecorded) alcohol per capita...</td>\n",
       "      <td>Both sexes</td>\n",
       "      <td>2.460</td>\n",
       "    </tr>\n",
       "    <tr>\n",
       "      <th>2785</th>\n",
       "      <td>Zimbabwe</td>\n",
       "      <td>2000</td>\n",
       "      <td>Total (recorded+unrecorded) alcohol per capita...</td>\n",
       "      <td>Male</td>\n",
       "      <td>4.160</td>\n",
       "    </tr>\n",
       "    <tr>\n",
       "      <th>2786</th>\n",
       "      <td>Zimbabwe</td>\n",
       "      <td>2000</td>\n",
       "      <td>Total (recorded+unrecorded) alcohol per capita...</td>\n",
       "      <td>Female</td>\n",
       "      <td>0.880</td>\n",
       "    </tr>\n",
       "  </tbody>\n",
       "</table>\n",
       "<p>2787 rows × 5 columns</p>\n",
       "</div>"
      ],
      "text/plain": [
       "         Location  Period                                          Indicator  \\\n",
       "0     Afghanistan    2018  Total (recorded+unrecorded) alcohol per capita...   \n",
       "1     Afghanistan    2018  Total (recorded+unrecorded) alcohol per capita...   \n",
       "2     Afghanistan    2018  Total (recorded+unrecorded) alcohol per capita...   \n",
       "3     Afghanistan    2015  Total (recorded+unrecorded) alcohol per capita...   \n",
       "4     Afghanistan    2015  Total (recorded+unrecorded) alcohol per capita...   \n",
       "...           ...     ...                                                ...   \n",
       "2782     Zimbabwe    2005  Total (recorded+unrecorded) alcohol per capita...   \n",
       "2783     Zimbabwe    2005  Total (recorded+unrecorded) alcohol per capita...   \n",
       "2784     Zimbabwe    2000  Total (recorded+unrecorded) alcohol per capita...   \n",
       "2785     Zimbabwe    2000  Total (recorded+unrecorded) alcohol per capita...   \n",
       "2786     Zimbabwe    2000  Total (recorded+unrecorded) alcohol per capita...   \n",
       "\n",
       "            Dim1  First Tooltip  \n",
       "0     Both sexes          0.210  \n",
       "1           Male          0.360  \n",
       "2         Female          0.055  \n",
       "3     Both sexes          0.210  \n",
       "4           Male          0.350  \n",
       "...          ...            ...  \n",
       "2782        Male          4.720  \n",
       "2783      Female          0.990  \n",
       "2784  Both sexes          2.460  \n",
       "2785        Male          4.160  \n",
       "2786      Female          0.880  \n",
       "\n",
       "[2787 rows x 5 columns]"
      ]
     },
     "execution_count": 51,
     "metadata": {},
     "output_type": "execute_result"
    }
   ],
   "source": [
    "alcohol_data = pd.read_csv(WHS_path/'alcoholSubstanceAbuse.csv')\n",
    "alcohol_data"
   ]
  },
  {
   "cell_type": "code",
   "execution_count": 52,
   "metadata": {},
   "outputs": [
    {
     "data": {
      "text/plain": [
       "Location         2787\n",
       "Period           2787\n",
       "Indicator        2787\n",
       "Dim1             2787\n",
       "First Tooltip    2787\n",
       "dtype: int64"
      ]
     },
     "execution_count": 52,
     "metadata": {},
     "output_type": "execute_result"
    }
   ],
   "source": [
    "alcohol_data.isnull().count()"
   ]
  },
  {
   "cell_type": "code",
   "execution_count": 53,
   "metadata": {},
   "outputs": [
    {
     "data": {
      "text/plain": [
       "array([2018, 2015, 2010, 2005, 2000])"
      ]
     },
     "execution_count": 53,
     "metadata": {},
     "output_type": "execute_result"
    }
   ],
   "source": [
    "alcohol_data['Period'].unique()"
   ]
  },
  {
   "cell_type": "markdown",
   "metadata": {},
   "source": [
    "The years to use are 2018 and 2015."
   ]
  },
  {
   "cell_type": "code",
   "execution_count": 54,
   "metadata": {},
   "outputs": [
    {
     "data": {
      "text/plain": [
       "Location         564\n",
       "Period           564\n",
       "Indicator        564\n",
       "Dim1             564\n",
       "First Tooltip    564\n",
       "dtype: int64"
      ]
     },
     "execution_count": 54,
     "metadata": {},
     "output_type": "execute_result"
    }
   ],
   "source": [
    "alcohol_data[alcohol_data['Period'] == 2018].count()"
   ]
  },
  {
   "cell_type": "code",
   "execution_count": 55,
   "metadata": {},
   "outputs": [
    {
     "data": {
      "text/plain": [
       "Location         564\n",
       "Period           564\n",
       "Indicator        564\n",
       "Dim1             564\n",
       "First Tooltip    564\n",
       "dtype: int64"
      ]
     },
     "execution_count": 55,
     "metadata": {},
     "output_type": "execute_result"
    }
   ],
   "source": [
    "alcohol_data[alcohol_data['Period'] == 2015].count()"
   ]
  },
  {
   "cell_type": "code",
   "execution_count": 56,
   "metadata": {},
   "outputs": [
    {
     "data": {
      "text/plain": [
       "Location         561\n",
       "Period           561\n",
       "Indicator        561\n",
       "Dim1             561\n",
       "First Tooltip    561\n",
       "dtype: int64"
      ]
     },
     "execution_count": 56,
     "metadata": {},
     "output_type": "execute_result"
    }
   ],
   "source": [
    "alcohol_data[alcohol_data['Period'] == 2010].count()"
   ]
  },
  {
   "cell_type": "code",
   "execution_count": 57,
   "metadata": {},
   "outputs": [
    {
     "data": {
      "text/plain": [
       "Location         549\n",
       "Period           549\n",
       "Indicator        549\n",
       "Dim1             549\n",
       "First Tooltip    549\n",
       "dtype: int64"
      ]
     },
     "execution_count": 57,
     "metadata": {},
     "output_type": "execute_result"
    }
   ],
   "source": [
    "alcohol_data[alcohol_data['Period'] == 2005].count()"
   ]
  },
  {
   "cell_type": "code",
   "execution_count": 58,
   "metadata": {},
   "outputs": [
    {
     "data": {
      "text/plain": [
       "Location         549\n",
       "Period           549\n",
       "Indicator        549\n",
       "Dim1             549\n",
       "First Tooltip    549\n",
       "dtype: int64"
      ]
     },
     "execution_count": 58,
     "metadata": {},
     "output_type": "execute_result"
    }
   ],
   "source": [
    "alcohol_data[alcohol_data['Period'] == 2000].count()"
   ]
  },
  {
   "cell_type": "code",
   "execution_count": 59,
   "metadata": {},
   "outputs": [
    {
     "data": {
      "text/plain": [
       "array(['Total (recorded+unrecorded) alcohol per capita (15+) consumption'],\n",
       "      dtype=object)"
      ]
     },
     "execution_count": 59,
     "metadata": {},
     "output_type": "execute_result"
    }
   ],
   "source": [
    "alcohol_data['Indicator'].unique()"
   ]
  },
  {
   "cell_type": "code",
   "execution_count": 60,
   "metadata": {},
   "outputs": [
    {
     "data": {
      "text/html": [
       "<div>\n",
       "<style scoped>\n",
       "    .dataframe tbody tr th:only-of-type {\n",
       "        vertical-align: middle;\n",
       "    }\n",
       "\n",
       "    .dataframe tbody tr th {\n",
       "        vertical-align: top;\n",
       "    }\n",
       "\n",
       "    .dataframe thead th {\n",
       "        text-align: right;\n",
       "    }\n",
       "</style>\n",
       "<table border=\"1\" class=\"dataframe\">\n",
       "  <thead>\n",
       "    <tr style=\"text-align: right;\">\n",
       "      <th></th>\n",
       "      <th>Location</th>\n",
       "      <th>Period</th>\n",
       "      <th>Indicator</th>\n",
       "      <th>Dim1</th>\n",
       "      <th>First Tooltip</th>\n",
       "    </tr>\n",
       "  </thead>\n",
       "  <tbody>\n",
       "    <tr>\n",
       "      <th>0</th>\n",
       "      <td>Afghanistan</td>\n",
       "      <td>2018</td>\n",
       "      <td>Total (recorded+unrecorded) alcohol per capita...</td>\n",
       "      <td>Both sexes</td>\n",
       "      <td>0.21</td>\n",
       "    </tr>\n",
       "    <tr>\n",
       "      <th>3</th>\n",
       "      <td>Afghanistan</td>\n",
       "      <td>2015</td>\n",
       "      <td>Total (recorded+unrecorded) alcohol per capita...</td>\n",
       "      <td>Both sexes</td>\n",
       "      <td>0.21</td>\n",
       "    </tr>\n",
       "    <tr>\n",
       "      <th>6</th>\n",
       "      <td>Afghanistan</td>\n",
       "      <td>2010</td>\n",
       "      <td>Total (recorded+unrecorded) alcohol per capita...</td>\n",
       "      <td>Both sexes</td>\n",
       "      <td>0.21</td>\n",
       "    </tr>\n",
       "    <tr>\n",
       "      <th>9</th>\n",
       "      <td>Albania</td>\n",
       "      <td>2018</td>\n",
       "      <td>Total (recorded+unrecorded) alcohol per capita...</td>\n",
       "      <td>Both sexes</td>\n",
       "      <td>7.17</td>\n",
       "    </tr>\n",
       "    <tr>\n",
       "      <th>12</th>\n",
       "      <td>Albania</td>\n",
       "      <td>2015</td>\n",
       "      <td>Total (recorded+unrecorded) alcohol per capita...</td>\n",
       "      <td>Both sexes</td>\n",
       "      <td>6.74</td>\n",
       "    </tr>\n",
       "    <tr>\n",
       "      <th>...</th>\n",
       "      <td>...</td>\n",
       "      <td>...</td>\n",
       "      <td>...</td>\n",
       "      <td>...</td>\n",
       "      <td>...</td>\n",
       "    </tr>\n",
       "    <tr>\n",
       "      <th>2772</th>\n",
       "      <td>Zimbabwe</td>\n",
       "      <td>2018</td>\n",
       "      <td>Total (recorded+unrecorded) alcohol per capita...</td>\n",
       "      <td>Both sexes</td>\n",
       "      <td>4.67</td>\n",
       "    </tr>\n",
       "    <tr>\n",
       "      <th>2775</th>\n",
       "      <td>Zimbabwe</td>\n",
       "      <td>2015</td>\n",
       "      <td>Total (recorded+unrecorded) alcohol per capita...</td>\n",
       "      <td>Both sexes</td>\n",
       "      <td>4.92</td>\n",
       "    </tr>\n",
       "    <tr>\n",
       "      <th>2778</th>\n",
       "      <td>Zimbabwe</td>\n",
       "      <td>2010</td>\n",
       "      <td>Total (recorded+unrecorded) alcohol per capita...</td>\n",
       "      <td>Both sexes</td>\n",
       "      <td>3.93</td>\n",
       "    </tr>\n",
       "    <tr>\n",
       "      <th>2781</th>\n",
       "      <td>Zimbabwe</td>\n",
       "      <td>2005</td>\n",
       "      <td>Total (recorded+unrecorded) alcohol per capita...</td>\n",
       "      <td>Both sexes</td>\n",
       "      <td>2.77</td>\n",
       "    </tr>\n",
       "    <tr>\n",
       "      <th>2784</th>\n",
       "      <td>Zimbabwe</td>\n",
       "      <td>2000</td>\n",
       "      <td>Total (recorded+unrecorded) alcohol per capita...</td>\n",
       "      <td>Both sexes</td>\n",
       "      <td>2.46</td>\n",
       "    </tr>\n",
       "  </tbody>\n",
       "</table>\n",
       "<p>929 rows × 5 columns</p>\n",
       "</div>"
      ],
      "text/plain": [
       "         Location  Period                                          Indicator  \\\n",
       "0     Afghanistan    2018  Total (recorded+unrecorded) alcohol per capita...   \n",
       "3     Afghanistan    2015  Total (recorded+unrecorded) alcohol per capita...   \n",
       "6     Afghanistan    2010  Total (recorded+unrecorded) alcohol per capita...   \n",
       "9         Albania    2018  Total (recorded+unrecorded) alcohol per capita...   \n",
       "12        Albania    2015  Total (recorded+unrecorded) alcohol per capita...   \n",
       "...           ...     ...                                                ...   \n",
       "2772     Zimbabwe    2018  Total (recorded+unrecorded) alcohol per capita...   \n",
       "2775     Zimbabwe    2015  Total (recorded+unrecorded) alcohol per capita...   \n",
       "2778     Zimbabwe    2010  Total (recorded+unrecorded) alcohol per capita...   \n",
       "2781     Zimbabwe    2005  Total (recorded+unrecorded) alcohol per capita...   \n",
       "2784     Zimbabwe    2000  Total (recorded+unrecorded) alcohol per capita...   \n",
       "\n",
       "            Dim1  First Tooltip  \n",
       "0     Both sexes           0.21  \n",
       "3     Both sexes           0.21  \n",
       "6     Both sexes           0.21  \n",
       "9     Both sexes           7.17  \n",
       "12    Both sexes           6.74  \n",
       "...          ...            ...  \n",
       "2772  Both sexes           4.67  \n",
       "2775  Both sexes           4.92  \n",
       "2778  Both sexes           3.93  \n",
       "2781  Both sexes           2.77  \n",
       "2784  Both sexes           2.46  \n",
       "\n",
       "[929 rows x 5 columns]"
      ]
     },
     "execution_count": 60,
     "metadata": {},
     "output_type": "execute_result"
    }
   ],
   "source": [
    "alcohol_both_sex = alcohol_data[alcohol_data['Dim1'] == 'Both sexes']\n",
    "alcohol_both_sex"
   ]
  },
  {
   "cell_type": "markdown",
   "metadata": {},
   "source": [
    "## Dataset to export"
   ]
  },
  {
   "cell_type": "code",
   "execution_count": 61,
   "metadata": {},
   "outputs": [
    {
     "data": {
      "text/html": [
       "<div>\n",
       "<style scoped>\n",
       "    .dataframe tbody tr th:only-of-type {\n",
       "        vertical-align: middle;\n",
       "    }\n",
       "\n",
       "    .dataframe tbody tr th {\n",
       "        vertical-align: top;\n",
       "    }\n",
       "\n",
       "    .dataframe thead th {\n",
       "        text-align: right;\n",
       "    }\n",
       "</style>\n",
       "<table border=\"1\" class=\"dataframe\">\n",
       "  <thead>\n",
       "    <tr style=\"text-align: right;\">\n",
       "      <th></th>\n",
       "      <th>Location</th>\n",
       "      <th>Period</th>\n",
       "      <th>Indicator</th>\n",
       "      <th>Dim1</th>\n",
       "      <th>First Tooltip</th>\n",
       "    </tr>\n",
       "  </thead>\n",
       "  <tbody>\n",
       "    <tr>\n",
       "      <th>0</th>\n",
       "      <td>Afghanistan</td>\n",
       "      <td>2018</td>\n",
       "      <td>Total (recorded+unrecorded) alcohol per capita...</td>\n",
       "      <td>Both sexes</td>\n",
       "      <td>0.210</td>\n",
       "    </tr>\n",
       "    <tr>\n",
       "      <th>9</th>\n",
       "      <td>Albania</td>\n",
       "      <td>2018</td>\n",
       "      <td>Total (recorded+unrecorded) alcohol per capita...</td>\n",
       "      <td>Both sexes</td>\n",
       "      <td>7.170</td>\n",
       "    </tr>\n",
       "    <tr>\n",
       "      <th>24</th>\n",
       "      <td>Algeria</td>\n",
       "      <td>2018</td>\n",
       "      <td>Total (recorded+unrecorded) alcohol per capita...</td>\n",
       "      <td>Both sexes</td>\n",
       "      <td>0.950</td>\n",
       "    </tr>\n",
       "    <tr>\n",
       "      <th>39</th>\n",
       "      <td>Andorra</td>\n",
       "      <td>2018</td>\n",
       "      <td>Total (recorded+unrecorded) alcohol per capita...</td>\n",
       "      <td>Both sexes</td>\n",
       "      <td>11.020</td>\n",
       "    </tr>\n",
       "    <tr>\n",
       "      <th>54</th>\n",
       "      <td>Angola</td>\n",
       "      <td>2018</td>\n",
       "      <td>Total (recorded+unrecorded) alcohol per capita...</td>\n",
       "      <td>Both sexes</td>\n",
       "      <td>6.940</td>\n",
       "    </tr>\n",
       "    <tr>\n",
       "      <th>...</th>\n",
       "      <td>...</td>\n",
       "      <td>...</td>\n",
       "      <td>...</td>\n",
       "      <td>...</td>\n",
       "      <td>...</td>\n",
       "    </tr>\n",
       "    <tr>\n",
       "      <th>2712</th>\n",
       "      <td>Venezuela (Bolivarian Republic of)</td>\n",
       "      <td>2018</td>\n",
       "      <td>Total (recorded+unrecorded) alcohol per capita...</td>\n",
       "      <td>Both sexes</td>\n",
       "      <td>4.140</td>\n",
       "    </tr>\n",
       "    <tr>\n",
       "      <th>2727</th>\n",
       "      <td>Viet Nam</td>\n",
       "      <td>2018</td>\n",
       "      <td>Total (recorded+unrecorded) alcohol per capita...</td>\n",
       "      <td>Both sexes</td>\n",
       "      <td>8.660</td>\n",
       "    </tr>\n",
       "    <tr>\n",
       "      <th>2742</th>\n",
       "      <td>Yemen</td>\n",
       "      <td>2018</td>\n",
       "      <td>Total (recorded+unrecorded) alcohol per capita...</td>\n",
       "      <td>Both sexes</td>\n",
       "      <td>0.051</td>\n",
       "    </tr>\n",
       "    <tr>\n",
       "      <th>2757</th>\n",
       "      <td>Zambia</td>\n",
       "      <td>2018</td>\n",
       "      <td>Total (recorded+unrecorded) alcohol per capita...</td>\n",
       "      <td>Both sexes</td>\n",
       "      <td>6.540</td>\n",
       "    </tr>\n",
       "    <tr>\n",
       "      <th>2772</th>\n",
       "      <td>Zimbabwe</td>\n",
       "      <td>2018</td>\n",
       "      <td>Total (recorded+unrecorded) alcohol per capita...</td>\n",
       "      <td>Both sexes</td>\n",
       "      <td>4.670</td>\n",
       "    </tr>\n",
       "  </tbody>\n",
       "</table>\n",
       "<p>188 rows × 5 columns</p>\n",
       "</div>"
      ],
      "text/plain": [
       "                                Location  Period  \\\n",
       "0                            Afghanistan    2018   \n",
       "9                                Albania    2018   \n",
       "24                               Algeria    2018   \n",
       "39                               Andorra    2018   \n",
       "54                                Angola    2018   \n",
       "...                                  ...     ...   \n",
       "2712  Venezuela (Bolivarian Republic of)    2018   \n",
       "2727                            Viet Nam    2018   \n",
       "2742                               Yemen    2018   \n",
       "2757                              Zambia    2018   \n",
       "2772                            Zimbabwe    2018   \n",
       "\n",
       "                                              Indicator        Dim1  \\\n",
       "0     Total (recorded+unrecorded) alcohol per capita...  Both sexes   \n",
       "9     Total (recorded+unrecorded) alcohol per capita...  Both sexes   \n",
       "24    Total (recorded+unrecorded) alcohol per capita...  Both sexes   \n",
       "39    Total (recorded+unrecorded) alcohol per capita...  Both sexes   \n",
       "54    Total (recorded+unrecorded) alcohol per capita...  Both sexes   \n",
       "...                                                 ...         ...   \n",
       "2712  Total (recorded+unrecorded) alcohol per capita...  Both sexes   \n",
       "2727  Total (recorded+unrecorded) alcohol per capita...  Both sexes   \n",
       "2742  Total (recorded+unrecorded) alcohol per capita...  Both sexes   \n",
       "2757  Total (recorded+unrecorded) alcohol per capita...  Both sexes   \n",
       "2772  Total (recorded+unrecorded) alcohol per capita...  Both sexes   \n",
       "\n",
       "      First Tooltip  \n",
       "0             0.210  \n",
       "9             7.170  \n",
       "24            0.950  \n",
       "39           11.020  \n",
       "54            6.940  \n",
       "...             ...  \n",
       "2712          4.140  \n",
       "2727          8.660  \n",
       "2742          0.051  \n",
       "2757          6.540  \n",
       "2772          4.670  \n",
       "\n",
       "[188 rows x 5 columns]"
      ]
     },
     "execution_count": 61,
     "metadata": {},
     "output_type": "execute_result"
    }
   ],
   "source": [
    "alcohol_both_sex_2018 = alcohol_both_sex[alcohol_both_sex['Period'] == 2018]\n",
    "alcohol_both_sex_2018"
   ]
  },
  {
   "cell_type": "markdown",
   "metadata": {},
   "source": [
    "## Dataset to export"
   ]
  },
  {
   "cell_type": "code",
   "execution_count": 62,
   "metadata": {},
   "outputs": [
    {
     "data": {
      "text/html": [
       "<div>\n",
       "<style scoped>\n",
       "    .dataframe tbody tr th:only-of-type {\n",
       "        vertical-align: middle;\n",
       "    }\n",
       "\n",
       "    .dataframe tbody tr th {\n",
       "        vertical-align: top;\n",
       "    }\n",
       "\n",
       "    .dataframe thead th {\n",
       "        text-align: right;\n",
       "    }\n",
       "</style>\n",
       "<table border=\"1\" class=\"dataframe\">\n",
       "  <thead>\n",
       "    <tr style=\"text-align: right;\">\n",
       "      <th></th>\n",
       "      <th>Location</th>\n",
       "      <th>Period</th>\n",
       "      <th>Indicator</th>\n",
       "      <th>Dim1</th>\n",
       "      <th>First Tooltip</th>\n",
       "    </tr>\n",
       "  </thead>\n",
       "  <tbody>\n",
       "    <tr>\n",
       "      <th>3</th>\n",
       "      <td>Afghanistan</td>\n",
       "      <td>2015</td>\n",
       "      <td>Total (recorded+unrecorded) alcohol per capita...</td>\n",
       "      <td>Both sexes</td>\n",
       "      <td>0.210</td>\n",
       "    </tr>\n",
       "    <tr>\n",
       "      <th>12</th>\n",
       "      <td>Albania</td>\n",
       "      <td>2015</td>\n",
       "      <td>Total (recorded+unrecorded) alcohol per capita...</td>\n",
       "      <td>Both sexes</td>\n",
       "      <td>6.740</td>\n",
       "    </tr>\n",
       "    <tr>\n",
       "      <th>27</th>\n",
       "      <td>Algeria</td>\n",
       "      <td>2015</td>\n",
       "      <td>Total (recorded+unrecorded) alcohol per capita...</td>\n",
       "      <td>Both sexes</td>\n",
       "      <td>0.930</td>\n",
       "    </tr>\n",
       "    <tr>\n",
       "      <th>42</th>\n",
       "      <td>Andorra</td>\n",
       "      <td>2015</td>\n",
       "      <td>Total (recorded+unrecorded) alcohol per capita...</td>\n",
       "      <td>Both sexes</td>\n",
       "      <td>11.010</td>\n",
       "    </tr>\n",
       "    <tr>\n",
       "      <th>57</th>\n",
       "      <td>Angola</td>\n",
       "      <td>2015</td>\n",
       "      <td>Total (recorded+unrecorded) alcohol per capita...</td>\n",
       "      <td>Both sexes</td>\n",
       "      <td>7.960</td>\n",
       "    </tr>\n",
       "    <tr>\n",
       "      <th>...</th>\n",
       "      <td>...</td>\n",
       "      <td>...</td>\n",
       "      <td>...</td>\n",
       "      <td>...</td>\n",
       "      <td>...</td>\n",
       "    </tr>\n",
       "    <tr>\n",
       "      <th>2715</th>\n",
       "      <td>Venezuela (Bolivarian Republic of)</td>\n",
       "      <td>2015</td>\n",
       "      <td>Total (recorded+unrecorded) alcohol per capita...</td>\n",
       "      <td>Both sexes</td>\n",
       "      <td>6.820</td>\n",
       "    </tr>\n",
       "    <tr>\n",
       "      <th>2730</th>\n",
       "      <td>Viet Nam</td>\n",
       "      <td>2015</td>\n",
       "      <td>Total (recorded+unrecorded) alcohol per capita...</td>\n",
       "      <td>Both sexes</td>\n",
       "      <td>7.860</td>\n",
       "    </tr>\n",
       "    <tr>\n",
       "      <th>2745</th>\n",
       "      <td>Yemen</td>\n",
       "      <td>2015</td>\n",
       "      <td>Total (recorded+unrecorded) alcohol per capita...</td>\n",
       "      <td>Both sexes</td>\n",
       "      <td>0.055</td>\n",
       "    </tr>\n",
       "    <tr>\n",
       "      <th>2760</th>\n",
       "      <td>Zambia</td>\n",
       "      <td>2015</td>\n",
       "      <td>Total (recorded+unrecorded) alcohol per capita...</td>\n",
       "      <td>Both sexes</td>\n",
       "      <td>6.890</td>\n",
       "    </tr>\n",
       "    <tr>\n",
       "      <th>2775</th>\n",
       "      <td>Zimbabwe</td>\n",
       "      <td>2015</td>\n",
       "      <td>Total (recorded+unrecorded) alcohol per capita...</td>\n",
       "      <td>Both sexes</td>\n",
       "      <td>4.920</td>\n",
       "    </tr>\n",
       "  </tbody>\n",
       "</table>\n",
       "<p>188 rows × 5 columns</p>\n",
       "</div>"
      ],
      "text/plain": [
       "                                Location  Period  \\\n",
       "3                            Afghanistan    2015   \n",
       "12                               Albania    2015   \n",
       "27                               Algeria    2015   \n",
       "42                               Andorra    2015   \n",
       "57                                Angola    2015   \n",
       "...                                  ...     ...   \n",
       "2715  Venezuela (Bolivarian Republic of)    2015   \n",
       "2730                            Viet Nam    2015   \n",
       "2745                               Yemen    2015   \n",
       "2760                              Zambia    2015   \n",
       "2775                            Zimbabwe    2015   \n",
       "\n",
       "                                              Indicator        Dim1  \\\n",
       "3     Total (recorded+unrecorded) alcohol per capita...  Both sexes   \n",
       "12    Total (recorded+unrecorded) alcohol per capita...  Both sexes   \n",
       "27    Total (recorded+unrecorded) alcohol per capita...  Both sexes   \n",
       "42    Total (recorded+unrecorded) alcohol per capita...  Both sexes   \n",
       "57    Total (recorded+unrecorded) alcohol per capita...  Both sexes   \n",
       "...                                                 ...         ...   \n",
       "2715  Total (recorded+unrecorded) alcohol per capita...  Both sexes   \n",
       "2730  Total (recorded+unrecorded) alcohol per capita...  Both sexes   \n",
       "2745  Total (recorded+unrecorded) alcohol per capita...  Both sexes   \n",
       "2760  Total (recorded+unrecorded) alcohol per capita...  Both sexes   \n",
       "2775  Total (recorded+unrecorded) alcohol per capita...  Both sexes   \n",
       "\n",
       "      First Tooltip  \n",
       "3             0.210  \n",
       "12            6.740  \n",
       "27            0.930  \n",
       "42           11.010  \n",
       "57            7.960  \n",
       "...             ...  \n",
       "2715          6.820  \n",
       "2730          7.860  \n",
       "2745          0.055  \n",
       "2760          6.890  \n",
       "2775          4.920  \n",
       "\n",
       "[188 rows x 5 columns]"
      ]
     },
     "execution_count": 62,
     "metadata": {},
     "output_type": "execute_result"
    }
   ],
   "source": [
    "alcohol_both_sex_2015 = alcohol_both_sex[alcohol_both_sex['Period'] == 2015]\n",
    "alcohol_both_sex_2015"
   ]
  },
  {
   "cell_type": "code",
   "execution_count": null,
   "metadata": {},
   "outputs": [],
   "source": []
  },
  {
   "cell_type": "markdown",
   "metadata": {},
   "source": [
    "## Basic Sanitization"
   ]
  },
  {
   "cell_type": "code",
   "execution_count": 63,
   "metadata": {},
   "outputs": [
    {
     "data": {
      "text/html": [
       "<div>\n",
       "<style scoped>\n",
       "    .dataframe tbody tr th:only-of-type {\n",
       "        vertical-align: middle;\n",
       "    }\n",
       "\n",
       "    .dataframe tbody tr th {\n",
       "        vertical-align: top;\n",
       "    }\n",
       "\n",
       "    .dataframe thead th {\n",
       "        text-align: right;\n",
       "    }\n",
       "</style>\n",
       "<table border=\"1\" class=\"dataframe\">\n",
       "  <thead>\n",
       "    <tr style=\"text-align: right;\">\n",
       "      <th></th>\n",
       "      <th>Location</th>\n",
       "      <th>Indicator</th>\n",
       "      <th>Period</th>\n",
       "      <th>Dim1</th>\n",
       "      <th>First Tooltip</th>\n",
       "    </tr>\n",
       "  </thead>\n",
       "  <tbody>\n",
       "    <tr>\n",
       "      <th>0</th>\n",
       "      <td>Afghanistan</td>\n",
       "      <td>Population using at least basic sanitation ser...</td>\n",
       "      <td>2017</td>\n",
       "      <td>Total</td>\n",
       "      <td>43.42</td>\n",
       "    </tr>\n",
       "    <tr>\n",
       "      <th>1</th>\n",
       "      <td>Afghanistan</td>\n",
       "      <td>Population using at least basic sanitation ser...</td>\n",
       "      <td>2017</td>\n",
       "      <td>Urban</td>\n",
       "      <td>62.26</td>\n",
       "    </tr>\n",
       "    <tr>\n",
       "      <th>2</th>\n",
       "      <td>Afghanistan</td>\n",
       "      <td>Population using at least basic sanitation ser...</td>\n",
       "      <td>2017</td>\n",
       "      <td>Rural</td>\n",
       "      <td>37.05</td>\n",
       "    </tr>\n",
       "    <tr>\n",
       "      <th>3</th>\n",
       "      <td>Afghanistan</td>\n",
       "      <td>Population using at least basic sanitation ser...</td>\n",
       "      <td>2016</td>\n",
       "      <td>Total</td>\n",
       "      <td>42.05</td>\n",
       "    </tr>\n",
       "    <tr>\n",
       "      <th>4</th>\n",
       "      <td>Afghanistan</td>\n",
       "      <td>Population using at least basic sanitation ser...</td>\n",
       "      <td>2016</td>\n",
       "      <td>Urban</td>\n",
       "      <td>59.92</td>\n",
       "    </tr>\n",
       "    <tr>\n",
       "      <th>...</th>\n",
       "      <td>...</td>\n",
       "      <td>...</td>\n",
       "      <td>...</td>\n",
       "      <td>...</td>\n",
       "      <td>...</td>\n",
       "    </tr>\n",
       "    <tr>\n",
       "      <th>9363</th>\n",
       "      <td>Zimbabwe</td>\n",
       "      <td>Population using at least basic sanitation ser...</td>\n",
       "      <td>2001</td>\n",
       "      <td>Urban</td>\n",
       "      <td>65.05</td>\n",
       "    </tr>\n",
       "    <tr>\n",
       "      <th>9364</th>\n",
       "      <td>Zimbabwe</td>\n",
       "      <td>Population using at least basic sanitation ser...</td>\n",
       "      <td>2001</td>\n",
       "      <td>Rural</td>\n",
       "      <td>36.19</td>\n",
       "    </tr>\n",
       "    <tr>\n",
       "      <th>9365</th>\n",
       "      <td>Zimbabwe</td>\n",
       "      <td>Population using at least basic sanitation ser...</td>\n",
       "      <td>2000</td>\n",
       "      <td>Total</td>\n",
       "      <td>45.93</td>\n",
       "    </tr>\n",
       "    <tr>\n",
       "      <th>9366</th>\n",
       "      <td>Zimbabwe</td>\n",
       "      <td>Population using at least basic sanitation ser...</td>\n",
       "      <td>2000</td>\n",
       "      <td>Urban</td>\n",
       "      <td>65.05</td>\n",
       "    </tr>\n",
       "    <tr>\n",
       "      <th>9367</th>\n",
       "      <td>Zimbabwe</td>\n",
       "      <td>Population using at least basic sanitation ser...</td>\n",
       "      <td>2000</td>\n",
       "      <td>Rural</td>\n",
       "      <td>36.19</td>\n",
       "    </tr>\n",
       "  </tbody>\n",
       "</table>\n",
       "<p>9368 rows × 5 columns</p>\n",
       "</div>"
      ],
      "text/plain": [
       "         Location                                          Indicator  Period  \\\n",
       "0     Afghanistan  Population using at least basic sanitation ser...    2017   \n",
       "1     Afghanistan  Population using at least basic sanitation ser...    2017   \n",
       "2     Afghanistan  Population using at least basic sanitation ser...    2017   \n",
       "3     Afghanistan  Population using at least basic sanitation ser...    2016   \n",
       "4     Afghanistan  Population using at least basic sanitation ser...    2016   \n",
       "...           ...                                                ...     ...   \n",
       "9363     Zimbabwe  Population using at least basic sanitation ser...    2001   \n",
       "9364     Zimbabwe  Population using at least basic sanitation ser...    2001   \n",
       "9365     Zimbabwe  Population using at least basic sanitation ser...    2000   \n",
       "9366     Zimbabwe  Population using at least basic sanitation ser...    2000   \n",
       "9367     Zimbabwe  Population using at least basic sanitation ser...    2000   \n",
       "\n",
       "       Dim1  First Tooltip  \n",
       "0     Total          43.42  \n",
       "1     Urban          62.26  \n",
       "2     Rural          37.05  \n",
       "3     Total          42.05  \n",
       "4     Urban          59.92  \n",
       "...     ...            ...  \n",
       "9363  Urban          65.05  \n",
       "9364  Rural          36.19  \n",
       "9365  Total          45.93  \n",
       "9366  Urban          65.05  \n",
       "9367  Rural          36.19  \n",
       "\n",
       "[9368 rows x 5 columns]"
      ]
     },
     "execution_count": 63,
     "metadata": {},
     "output_type": "execute_result"
    }
   ],
   "source": [
    "sani_data = pd.read_csv(WHS_path/'atLeastBasicSanitizationServices.csv')\n",
    "sani_data"
   ]
  },
  {
   "cell_type": "code",
   "execution_count": 67,
   "metadata": {},
   "outputs": [
    {
     "data": {
      "text/plain": [
       "Location         9368\n",
       "Indicator        9368\n",
       "Period           9368\n",
       "Dim1             9368\n",
       "First Tooltip    9368\n",
       "dtype: int64"
      ]
     },
     "execution_count": 67,
     "metadata": {},
     "output_type": "execute_result"
    }
   ],
   "source": [
    "sani_data.isnull().count()"
   ]
  },
  {
   "cell_type": "markdown",
   "metadata": {},
   "source": [
    "The years 2013, 2012, and 2011 are slightly better than 2015 and 2016."
   ]
  },
  {
   "cell_type": "code",
   "execution_count": 66,
   "metadata": {},
   "outputs": [
    {
     "data": {
      "text/plain": [
       "array([2017, 2016, 2015, 2014, 2013, 2012, 2011, 2010, 2009, 2008, 2007,\n",
       "       2006, 2005, 2004, 2003, 2002, 2001, 2000])"
      ]
     },
     "execution_count": 66,
     "metadata": {},
     "output_type": "execute_result"
    }
   ],
   "source": [
    "sani_data['Period'].unique()"
   ]
  },
  {
   "cell_type": "code",
   "execution_count": 69,
   "metadata": {},
   "outputs": [
    {
     "data": {
      "text/plain": [
       "Location         516\n",
       "Indicator        516\n",
       "Period           516\n",
       "Dim1             516\n",
       "First Tooltip    516\n",
       "dtype: int64"
      ]
     },
     "execution_count": 69,
     "metadata": {},
     "output_type": "execute_result"
    }
   ],
   "source": [
    "sani_data[sani_data['Period'] == 2017].count()"
   ]
  },
  {
   "cell_type": "code",
   "execution_count": 70,
   "metadata": {},
   "outputs": [
    {
     "data": {
      "text/plain": [
       "Location         524\n",
       "Indicator        524\n",
       "Period           524\n",
       "Dim1             524\n",
       "First Tooltip    524\n",
       "dtype: int64"
      ]
     },
     "execution_count": 70,
     "metadata": {},
     "output_type": "execute_result"
    }
   ],
   "source": [
    "sani_data[sani_data['Period'] == 2016].count()"
   ]
  },
  {
   "cell_type": "code",
   "execution_count": 71,
   "metadata": {},
   "outputs": [
    {
     "data": {
      "text/plain": [
       "Location         526\n",
       "Indicator        526\n",
       "Period           526\n",
       "Dim1             526\n",
       "First Tooltip    526\n",
       "dtype: int64"
      ]
     },
     "execution_count": 71,
     "metadata": {},
     "output_type": "execute_result"
    }
   ],
   "source": [
    "sani_data[sani_data['Period'] == 2015].count()"
   ]
  },
  {
   "cell_type": "code",
   "execution_count": 72,
   "metadata": {},
   "outputs": [
    {
     "data": {
      "text/plain": [
       "Location         526\n",
       "Indicator        526\n",
       "Period           526\n",
       "Dim1             526\n",
       "First Tooltip    526\n",
       "dtype: int64"
      ]
     },
     "execution_count": 72,
     "metadata": {},
     "output_type": "execute_result"
    }
   ],
   "source": [
    "sani_data[sani_data['Period'] == 2014].count()"
   ]
  },
  {
   "cell_type": "code",
   "execution_count": 73,
   "metadata": {},
   "outputs": [
    {
     "data": {
      "text/plain": [
       "Location         527\n",
       "Indicator        527\n",
       "Period           527\n",
       "Dim1             527\n",
       "First Tooltip    527\n",
       "dtype: int64"
      ]
     },
     "execution_count": 73,
     "metadata": {},
     "output_type": "execute_result"
    }
   ],
   "source": [
    "sani_data[sani_data['Period'] == 2013].count()"
   ]
  },
  {
   "cell_type": "code",
   "execution_count": 74,
   "metadata": {},
   "outputs": [
    {
     "data": {
      "text/plain": [
       "Location         527\n",
       "Indicator        527\n",
       "Period           527\n",
       "Dim1             527\n",
       "First Tooltip    527\n",
       "dtype: int64"
      ]
     },
     "execution_count": 74,
     "metadata": {},
     "output_type": "execute_result"
    }
   ],
   "source": [
    "sani_data[sani_data['Period'] == 2012].count()"
   ]
  },
  {
   "cell_type": "code",
   "execution_count": 75,
   "metadata": {},
   "outputs": [
    {
     "data": {
      "text/plain": [
       "Location         527\n",
       "Indicator        527\n",
       "Period           527\n",
       "Dim1             527\n",
       "First Tooltip    527\n",
       "dtype: int64"
      ]
     },
     "execution_count": 75,
     "metadata": {},
     "output_type": "execute_result"
    }
   ],
   "source": [
    "sani_data[sani_data['Period'] == 2011].count()"
   ]
  },
  {
   "cell_type": "code",
   "execution_count": 76,
   "metadata": {},
   "outputs": [
    {
     "data": {
      "text/plain": [
       "Location         524\n",
       "Indicator        524\n",
       "Period           524\n",
       "Dim1             524\n",
       "First Tooltip    524\n",
       "dtype: int64"
      ]
     },
     "execution_count": 76,
     "metadata": {},
     "output_type": "execute_result"
    }
   ],
   "source": [
    "sani_data[sani_data['Period'] == 2010].count()"
   ]
  },
  {
   "cell_type": "code",
   "execution_count": 77,
   "metadata": {},
   "outputs": [
    {
     "data": {
      "text/plain": [
       "Location         524\n",
       "Indicator        524\n",
       "Period           524\n",
       "Dim1             524\n",
       "First Tooltip    524\n",
       "dtype: int64"
      ]
     },
     "execution_count": 77,
     "metadata": {},
     "output_type": "execute_result"
    }
   ],
   "source": [
    "sani_data[sani_data['Period'] == 2009].count()"
   ]
  },
  {
   "cell_type": "code",
   "execution_count": 78,
   "metadata": {},
   "outputs": [
    {
     "data": {
      "text/plain": [
       "Location         524\n",
       "Indicator        524\n",
       "Period           524\n",
       "Dim1             524\n",
       "First Tooltip    524\n",
       "dtype: int64"
      ]
     },
     "execution_count": 78,
     "metadata": {},
     "output_type": "execute_result"
    }
   ],
   "source": [
    "sani_data[sani_data['Period'] == 2008].count()"
   ]
  },
  {
   "cell_type": "code",
   "execution_count": 79,
   "metadata": {},
   "outputs": [
    {
     "data": {
      "text/plain": [
       "Location         524\n",
       "Indicator        524\n",
       "Period           524\n",
       "Dim1             524\n",
       "First Tooltip    524\n",
       "dtype: int64"
      ]
     },
     "execution_count": 79,
     "metadata": {},
     "output_type": "execute_result"
    }
   ],
   "source": [
    "sani_data[sani_data['Period'] == 2007].count()"
   ]
  },
  {
   "cell_type": "code",
   "execution_count": 80,
   "metadata": {},
   "outputs": [
    {
     "data": {
      "text/plain": [
       "Location         523\n",
       "Indicator        523\n",
       "Period           523\n",
       "Dim1             523\n",
       "First Tooltip    523\n",
       "dtype: int64"
      ]
     },
     "execution_count": 80,
     "metadata": {},
     "output_type": "execute_result"
    }
   ],
   "source": [
    "sani_data[sani_data['Period'] == 2006].count()"
   ]
  },
  {
   "cell_type": "code",
   "execution_count": 81,
   "metadata": {},
   "outputs": [
    {
     "data": {
      "text/plain": [
       "Location         517\n",
       "Indicator        517\n",
       "Period           517\n",
       "Dim1             517\n",
       "First Tooltip    517\n",
       "dtype: int64"
      ]
     },
     "execution_count": 81,
     "metadata": {},
     "output_type": "execute_result"
    }
   ],
   "source": [
    "sani_data[sani_data['Period'] == 2005].count()"
   ]
  },
  {
   "cell_type": "code",
   "execution_count": 82,
   "metadata": {},
   "outputs": [
    {
     "data": {
      "text/plain": [
       "Location         516\n",
       "Indicator        516\n",
       "Period           516\n",
       "Dim1             516\n",
       "First Tooltip    516\n",
       "dtype: int64"
      ]
     },
     "execution_count": 82,
     "metadata": {},
     "output_type": "execute_result"
    }
   ],
   "source": [
    "sani_data[sani_data['Period'] == 2004].count()"
   ]
  },
  {
   "cell_type": "code",
   "execution_count": 83,
   "metadata": {},
   "outputs": [
    {
     "data": {
      "text/plain": [
       "Location         516\n",
       "Indicator        516\n",
       "Period           516\n",
       "Dim1             516\n",
       "First Tooltip    516\n",
       "dtype: int64"
      ]
     },
     "execution_count": 83,
     "metadata": {},
     "output_type": "execute_result"
    }
   ],
   "source": [
    "sani_data[sani_data['Period'] == 2003].count()"
   ]
  },
  {
   "cell_type": "code",
   "execution_count": 84,
   "metadata": {},
   "outputs": [
    {
     "data": {
      "text/plain": [
       "Location         516\n",
       "Indicator        516\n",
       "Period           516\n",
       "Dim1             516\n",
       "First Tooltip    516\n",
       "dtype: int64"
      ]
     },
     "execution_count": 84,
     "metadata": {},
     "output_type": "execute_result"
    }
   ],
   "source": [
    "sani_data[sani_data['Period'] == 2002].count()"
   ]
  },
  {
   "cell_type": "code",
   "execution_count": 85,
   "metadata": {},
   "outputs": [
    {
     "data": {
      "text/plain": [
       "Location         510\n",
       "Indicator        510\n",
       "Period           510\n",
       "Dim1             510\n",
       "First Tooltip    510\n",
       "dtype: int64"
      ]
     },
     "execution_count": 85,
     "metadata": {},
     "output_type": "execute_result"
    }
   ],
   "source": [
    "sani_data[sani_data['Period'] == 2001].count()"
   ]
  },
  {
   "cell_type": "code",
   "execution_count": 86,
   "metadata": {},
   "outputs": [
    {
     "data": {
      "text/plain": [
       "Location         501\n",
       "Indicator        501\n",
       "Period           501\n",
       "Dim1             501\n",
       "First Tooltip    501\n",
       "dtype: int64"
      ]
     },
     "execution_count": 86,
     "metadata": {},
     "output_type": "execute_result"
    }
   ],
   "source": [
    "sani_data[sani_data['Period'] == 2000].count()"
   ]
  },
  {
   "cell_type": "code",
   "execution_count": 89,
   "metadata": {},
   "outputs": [
    {
     "data": {
      "text/plain": [
       "array(['Population using at least basic sanitation services (%)'],\n",
       "      dtype=object)"
      ]
     },
     "execution_count": 89,
     "metadata": {},
     "output_type": "execute_result"
    }
   ],
   "source": [
    "sani_data['Indicator'].unique()"
   ]
  },
  {
   "cell_type": "code",
   "execution_count": 90,
   "metadata": {},
   "outputs": [
    {
     "data": {
      "text/html": [
       "<div>\n",
       "<style scoped>\n",
       "    .dataframe tbody tr th:only-of-type {\n",
       "        vertical-align: middle;\n",
       "    }\n",
       "\n",
       "    .dataframe tbody tr th {\n",
       "        vertical-align: top;\n",
       "    }\n",
       "\n",
       "    .dataframe thead th {\n",
       "        text-align: right;\n",
       "    }\n",
       "</style>\n",
       "<table border=\"1\" class=\"dataframe\">\n",
       "  <thead>\n",
       "    <tr style=\"text-align: right;\">\n",
       "      <th></th>\n",
       "      <th>Location</th>\n",
       "      <th>Indicator</th>\n",
       "      <th>Period</th>\n",
       "      <th>Dim1</th>\n",
       "      <th>First Tooltip</th>\n",
       "    </tr>\n",
       "  </thead>\n",
       "  <tbody>\n",
       "    <tr>\n",
       "      <th>0</th>\n",
       "      <td>Afghanistan</td>\n",
       "      <td>Population using at least basic sanitation ser...</td>\n",
       "      <td>2017</td>\n",
       "      <td>Total</td>\n",
       "      <td>43.42</td>\n",
       "    </tr>\n",
       "    <tr>\n",
       "      <th>3</th>\n",
       "      <td>Afghanistan</td>\n",
       "      <td>Population using at least basic sanitation ser...</td>\n",
       "      <td>2016</td>\n",
       "      <td>Total</td>\n",
       "      <td>42.05</td>\n",
       "    </tr>\n",
       "    <tr>\n",
       "      <th>6</th>\n",
       "      <td>Afghanistan</td>\n",
       "      <td>Population using at least basic sanitation ser...</td>\n",
       "      <td>2015</td>\n",
       "      <td>Total</td>\n",
       "      <td>40.71</td>\n",
       "    </tr>\n",
       "    <tr>\n",
       "      <th>9</th>\n",
       "      <td>Afghanistan</td>\n",
       "      <td>Population using at least basic sanitation ser...</td>\n",
       "      <td>2014</td>\n",
       "      <td>Total</td>\n",
       "      <td>39.37</td>\n",
       "    </tr>\n",
       "    <tr>\n",
       "      <th>12</th>\n",
       "      <td>Afghanistan</td>\n",
       "      <td>Population using at least basic sanitation ser...</td>\n",
       "      <td>2013</td>\n",
       "      <td>Total</td>\n",
       "      <td>38.06</td>\n",
       "    </tr>\n",
       "    <tr>\n",
       "      <th>...</th>\n",
       "      <td>...</td>\n",
       "      <td>...</td>\n",
       "      <td>...</td>\n",
       "      <td>...</td>\n",
       "      <td>...</td>\n",
       "    </tr>\n",
       "    <tr>\n",
       "      <th>9353</th>\n",
       "      <td>Zimbabwe</td>\n",
       "      <td>Population using at least basic sanitation ser...</td>\n",
       "      <td>2004</td>\n",
       "      <td>Total</td>\n",
       "      <td>45.37</td>\n",
       "    </tr>\n",
       "    <tr>\n",
       "      <th>9356</th>\n",
       "      <td>Zimbabwe</td>\n",
       "      <td>Population using at least basic sanitation ser...</td>\n",
       "      <td>2003</td>\n",
       "      <td>Total</td>\n",
       "      <td>46.11</td>\n",
       "    </tr>\n",
       "    <tr>\n",
       "      <th>9359</th>\n",
       "      <td>Zimbabwe</td>\n",
       "      <td>Population using at least basic sanitation ser...</td>\n",
       "      <td>2002</td>\n",
       "      <td>Total</td>\n",
       "      <td>46.15</td>\n",
       "    </tr>\n",
       "    <tr>\n",
       "      <th>9362</th>\n",
       "      <td>Zimbabwe</td>\n",
       "      <td>Population using at least basic sanitation ser...</td>\n",
       "      <td>2001</td>\n",
       "      <td>Total</td>\n",
       "      <td>46.05</td>\n",
       "    </tr>\n",
       "    <tr>\n",
       "      <th>9365</th>\n",
       "      <td>Zimbabwe</td>\n",
       "      <td>Population using at least basic sanitation ser...</td>\n",
       "      <td>2000</td>\n",
       "      <td>Total</td>\n",
       "      <td>45.93</td>\n",
       "    </tr>\n",
       "  </tbody>\n",
       "</table>\n",
       "<p>3439 rows × 5 columns</p>\n",
       "</div>"
      ],
      "text/plain": [
       "         Location                                          Indicator  Period  \\\n",
       "0     Afghanistan  Population using at least basic sanitation ser...    2017   \n",
       "3     Afghanistan  Population using at least basic sanitation ser...    2016   \n",
       "6     Afghanistan  Population using at least basic sanitation ser...    2015   \n",
       "9     Afghanistan  Population using at least basic sanitation ser...    2014   \n",
       "12    Afghanistan  Population using at least basic sanitation ser...    2013   \n",
       "...           ...                                                ...     ...   \n",
       "9353     Zimbabwe  Population using at least basic sanitation ser...    2004   \n",
       "9356     Zimbabwe  Population using at least basic sanitation ser...    2003   \n",
       "9359     Zimbabwe  Population using at least basic sanitation ser...    2002   \n",
       "9362     Zimbabwe  Population using at least basic sanitation ser...    2001   \n",
       "9365     Zimbabwe  Population using at least basic sanitation ser...    2000   \n",
       "\n",
       "       Dim1  First Tooltip  \n",
       "0     Total          43.42  \n",
       "3     Total          42.05  \n",
       "6     Total          40.71  \n",
       "9     Total          39.37  \n",
       "12    Total          38.06  \n",
       "...     ...            ...  \n",
       "9353  Total          45.37  \n",
       "9356  Total          46.11  \n",
       "9359  Total          46.15  \n",
       "9362  Total          46.05  \n",
       "9365  Total          45.93  \n",
       "\n",
       "[3439 rows x 5 columns]"
      ]
     },
     "execution_count": 90,
     "metadata": {},
     "output_type": "execute_result"
    }
   ],
   "source": [
    "sani_data_tot = sani_data[sani_data['Dim1'] == \"Total\"]\n",
    "sani_data_tot"
   ]
  },
  {
   "cell_type": "markdown",
   "metadata": {},
   "source": [
    "## Dataset to export"
   ]
  },
  {
   "cell_type": "code",
   "execution_count": 93,
   "metadata": {},
   "outputs": [
    {
     "data": {
      "text/html": [
       "<div>\n",
       "<style scoped>\n",
       "    .dataframe tbody tr th:only-of-type {\n",
       "        vertical-align: middle;\n",
       "    }\n",
       "\n",
       "    .dataframe tbody tr th {\n",
       "        vertical-align: top;\n",
       "    }\n",
       "\n",
       "    .dataframe thead th {\n",
       "        text-align: right;\n",
       "    }\n",
       "</style>\n",
       "<table border=\"1\" class=\"dataframe\">\n",
       "  <thead>\n",
       "    <tr style=\"text-align: right;\">\n",
       "      <th></th>\n",
       "      <th>Location</th>\n",
       "      <th>Indicator</th>\n",
       "      <th>Period</th>\n",
       "      <th>Dim1</th>\n",
       "      <th>First Tooltip</th>\n",
       "    </tr>\n",
       "  </thead>\n",
       "  <tbody>\n",
       "    <tr>\n",
       "      <th>12</th>\n",
       "      <td>Afghanistan</td>\n",
       "      <td>Population using at least basic sanitation ser...</td>\n",
       "      <td>2013</td>\n",
       "      <td>Total</td>\n",
       "      <td>38.06</td>\n",
       "    </tr>\n",
       "    <tr>\n",
       "      <th>66</th>\n",
       "      <td>Albania</td>\n",
       "      <td>Population using at least basic sanitation ser...</td>\n",
       "      <td>2013</td>\n",
       "      <td>Total</td>\n",
       "      <td>97.31</td>\n",
       "    </tr>\n",
       "    <tr>\n",
       "      <th>120</th>\n",
       "      <td>Algeria</td>\n",
       "      <td>Population using at least basic sanitation ser...</td>\n",
       "      <td>2013</td>\n",
       "      <td>Total</td>\n",
       "      <td>87.16</td>\n",
       "    </tr>\n",
       "    <tr>\n",
       "      <th>174</th>\n",
       "      <td>Andorra</td>\n",
       "      <td>Population using at least basic sanitation ser...</td>\n",
       "      <td>2013</td>\n",
       "      <td>Total</td>\n",
       "      <td>100.00</td>\n",
       "    </tr>\n",
       "    <tr>\n",
       "      <th>228</th>\n",
       "      <td>Angola</td>\n",
       "      <td>Population using at least basic sanitation ser...</td>\n",
       "      <td>2013</td>\n",
       "      <td>Total</td>\n",
       "      <td>44.85</td>\n",
       "    </tr>\n",
       "    <tr>\n",
       "      <th>...</th>\n",
       "      <td>...</td>\n",
       "      <td>...</td>\n",
       "      <td>...</td>\n",
       "      <td>...</td>\n",
       "      <td>...</td>\n",
       "    </tr>\n",
       "    <tr>\n",
       "      <th>9143</th>\n",
       "      <td>Venezuela (Bolivarian Republic of)</td>\n",
       "      <td>Population using at least basic sanitation ser...</td>\n",
       "      <td>2013</td>\n",
       "      <td>Total</td>\n",
       "      <td>93.94</td>\n",
       "    </tr>\n",
       "    <tr>\n",
       "      <th>9164</th>\n",
       "      <td>Viet Nam</td>\n",
       "      <td>Population using at least basic sanitation ser...</td>\n",
       "      <td>2013</td>\n",
       "      <td>Total</td>\n",
       "      <td>76.49</td>\n",
       "    </tr>\n",
       "    <tr>\n",
       "      <th>9218</th>\n",
       "      <td>Yemen</td>\n",
       "      <td>Population using at least basic sanitation ser...</td>\n",
       "      <td>2013</td>\n",
       "      <td>Total</td>\n",
       "      <td>56.31</td>\n",
       "    </tr>\n",
       "    <tr>\n",
       "      <th>9272</th>\n",
       "      <td>Zambia</td>\n",
       "      <td>Population using at least basic sanitation ser...</td>\n",
       "      <td>2013</td>\n",
       "      <td>Total</td>\n",
       "      <td>25.74</td>\n",
       "    </tr>\n",
       "    <tr>\n",
       "      <th>9326</th>\n",
       "      <td>Zimbabwe</td>\n",
       "      <td>Population using at least basic sanitation ser...</td>\n",
       "      <td>2013</td>\n",
       "      <td>Total</td>\n",
       "      <td>38.94</td>\n",
       "    </tr>\n",
       "  </tbody>\n",
       "</table>\n",
       "<p>194 rows × 5 columns</p>\n",
       "</div>"
      ],
      "text/plain": [
       "                                Location  \\\n",
       "12                           Afghanistan   \n",
       "66                               Albania   \n",
       "120                              Algeria   \n",
       "174                              Andorra   \n",
       "228                               Angola   \n",
       "...                                  ...   \n",
       "9143  Venezuela (Bolivarian Republic of)   \n",
       "9164                            Viet Nam   \n",
       "9218                               Yemen   \n",
       "9272                              Zambia   \n",
       "9326                            Zimbabwe   \n",
       "\n",
       "                                              Indicator  Period   Dim1  \\\n",
       "12    Population using at least basic sanitation ser...    2013  Total   \n",
       "66    Population using at least basic sanitation ser...    2013  Total   \n",
       "120   Population using at least basic sanitation ser...    2013  Total   \n",
       "174   Population using at least basic sanitation ser...    2013  Total   \n",
       "228   Population using at least basic sanitation ser...    2013  Total   \n",
       "...                                                 ...     ...    ...   \n",
       "9143  Population using at least basic sanitation ser...    2013  Total   \n",
       "9164  Population using at least basic sanitation ser...    2013  Total   \n",
       "9218  Population using at least basic sanitation ser...    2013  Total   \n",
       "9272  Population using at least basic sanitation ser...    2013  Total   \n",
       "9326  Population using at least basic sanitation ser...    2013  Total   \n",
       "\n",
       "      First Tooltip  \n",
       "12            38.06  \n",
       "66            97.31  \n",
       "120           87.16  \n",
       "174          100.00  \n",
       "228           44.85  \n",
       "...             ...  \n",
       "9143          93.94  \n",
       "9164          76.49  \n",
       "9218          56.31  \n",
       "9272          25.74  \n",
       "9326          38.94  \n",
       "\n",
       "[194 rows x 5 columns]"
      ]
     },
     "execution_count": 93,
     "metadata": {},
     "output_type": "execute_result"
    }
   ],
   "source": [
    "sani_data_2013 = sani_data_tot[sani_data_tot['Period'] == 2013]\n",
    "sani_data_2013"
   ]
  },
  {
   "cell_type": "markdown",
   "metadata": {},
   "source": [
    "## Dataset to export"
   ]
  },
  {
   "cell_type": "code",
   "execution_count": 94,
   "metadata": {},
   "outputs": [
    {
     "data": {
      "text/html": [
       "<div>\n",
       "<style scoped>\n",
       "    .dataframe tbody tr th:only-of-type {\n",
       "        vertical-align: middle;\n",
       "    }\n",
       "\n",
       "    .dataframe tbody tr th {\n",
       "        vertical-align: top;\n",
       "    }\n",
       "\n",
       "    .dataframe thead th {\n",
       "        text-align: right;\n",
       "    }\n",
       "</style>\n",
       "<table border=\"1\" class=\"dataframe\">\n",
       "  <thead>\n",
       "    <tr style=\"text-align: right;\">\n",
       "      <th></th>\n",
       "      <th>Location</th>\n",
       "      <th>Indicator</th>\n",
       "      <th>Period</th>\n",
       "      <th>Dim1</th>\n",
       "      <th>First Tooltip</th>\n",
       "    </tr>\n",
       "  </thead>\n",
       "  <tbody>\n",
       "    <tr>\n",
       "      <th>15</th>\n",
       "      <td>Afghanistan</td>\n",
       "      <td>Population using at least basic sanitation ser...</td>\n",
       "      <td>2012</td>\n",
       "      <td>Total</td>\n",
       "      <td>36.75</td>\n",
       "    </tr>\n",
       "    <tr>\n",
       "      <th>69</th>\n",
       "      <td>Albania</td>\n",
       "      <td>Population using at least basic sanitation ser...</td>\n",
       "      <td>2012</td>\n",
       "      <td>Total</td>\n",
       "      <td>96.78</td>\n",
       "    </tr>\n",
       "    <tr>\n",
       "      <th>123</th>\n",
       "      <td>Algeria</td>\n",
       "      <td>Population using at least basic sanitation ser...</td>\n",
       "      <td>2012</td>\n",
       "      <td>Total</td>\n",
       "      <td>86.97</td>\n",
       "    </tr>\n",
       "    <tr>\n",
       "      <th>177</th>\n",
       "      <td>Andorra</td>\n",
       "      <td>Population using at least basic sanitation ser...</td>\n",
       "      <td>2012</td>\n",
       "      <td>Total</td>\n",
       "      <td>100.00</td>\n",
       "    </tr>\n",
       "    <tr>\n",
       "      <th>231</th>\n",
       "      <td>Angola</td>\n",
       "      <td>Population using at least basic sanitation ser...</td>\n",
       "      <td>2012</td>\n",
       "      <td>Total</td>\n",
       "      <td>43.59</td>\n",
       "    </tr>\n",
       "    <tr>\n",
       "      <th>...</th>\n",
       "      <td>...</td>\n",
       "      <td>...</td>\n",
       "      <td>...</td>\n",
       "      <td>...</td>\n",
       "      <td>...</td>\n",
       "    </tr>\n",
       "    <tr>\n",
       "      <th>9144</th>\n",
       "      <td>Venezuela (Bolivarian Republic of)</td>\n",
       "      <td>Population using at least basic sanitation ser...</td>\n",
       "      <td>2012</td>\n",
       "      <td>Total</td>\n",
       "      <td>93.94</td>\n",
       "    </tr>\n",
       "    <tr>\n",
       "      <th>9167</th>\n",
       "      <td>Viet Nam</td>\n",
       "      <td>Population using at least basic sanitation ser...</td>\n",
       "      <td>2012</td>\n",
       "      <td>Total</td>\n",
       "      <td>74.68</td>\n",
       "    </tr>\n",
       "    <tr>\n",
       "      <th>9221</th>\n",
       "      <td>Yemen</td>\n",
       "      <td>Population using at least basic sanitation ser...</td>\n",
       "      <td>2012</td>\n",
       "      <td>Total</td>\n",
       "      <td>55.19</td>\n",
       "    </tr>\n",
       "    <tr>\n",
       "      <th>9275</th>\n",
       "      <td>Zambia</td>\n",
       "      <td>Population using at least basic sanitation ser...</td>\n",
       "      <td>2012</td>\n",
       "      <td>Total</td>\n",
       "      <td>25.61</td>\n",
       "    </tr>\n",
       "    <tr>\n",
       "      <th>9329</th>\n",
       "      <td>Zimbabwe</td>\n",
       "      <td>Population using at least basic sanitation ser...</td>\n",
       "      <td>2012</td>\n",
       "      <td>Total</td>\n",
       "      <td>39.64</td>\n",
       "    </tr>\n",
       "  </tbody>\n",
       "</table>\n",
       "<p>194 rows × 5 columns</p>\n",
       "</div>"
      ],
      "text/plain": [
       "                                Location  \\\n",
       "15                           Afghanistan   \n",
       "69                               Albania   \n",
       "123                              Algeria   \n",
       "177                              Andorra   \n",
       "231                               Angola   \n",
       "...                                  ...   \n",
       "9144  Venezuela (Bolivarian Republic of)   \n",
       "9167                            Viet Nam   \n",
       "9221                               Yemen   \n",
       "9275                              Zambia   \n",
       "9329                            Zimbabwe   \n",
       "\n",
       "                                              Indicator  Period   Dim1  \\\n",
       "15    Population using at least basic sanitation ser...    2012  Total   \n",
       "69    Population using at least basic sanitation ser...    2012  Total   \n",
       "123   Population using at least basic sanitation ser...    2012  Total   \n",
       "177   Population using at least basic sanitation ser...    2012  Total   \n",
       "231   Population using at least basic sanitation ser...    2012  Total   \n",
       "...                                                 ...     ...    ...   \n",
       "9144  Population using at least basic sanitation ser...    2012  Total   \n",
       "9167  Population using at least basic sanitation ser...    2012  Total   \n",
       "9221  Population using at least basic sanitation ser...    2012  Total   \n",
       "9275  Population using at least basic sanitation ser...    2012  Total   \n",
       "9329  Population using at least basic sanitation ser...    2012  Total   \n",
       "\n",
       "      First Tooltip  \n",
       "15            36.75  \n",
       "69            96.78  \n",
       "123           86.97  \n",
       "177          100.00  \n",
       "231           43.59  \n",
       "...             ...  \n",
       "9144          93.94  \n",
       "9167          74.68  \n",
       "9221          55.19  \n",
       "9275          25.61  \n",
       "9329          39.64  \n",
       "\n",
       "[194 rows x 5 columns]"
      ]
     },
     "execution_count": 94,
     "metadata": {},
     "output_type": "execute_result"
    }
   ],
   "source": [
    "sani_data_2012 = sani_data_tot[sani_data_tot['Period'] == 2012]\n",
    "sani_data_2012"
   ]
  },
  {
   "cell_type": "code",
   "execution_count": null,
   "metadata": {},
   "outputs": [],
   "source": []
  },
  {
   "cell_type": "markdown",
   "metadata": {},
   "source": [
    "## Basic Drinking Water Services"
   ]
  },
  {
   "cell_type": "code",
   "execution_count": 95,
   "metadata": {},
   "outputs": [
    {
     "data": {
      "text/html": [
       "<div>\n",
       "<style scoped>\n",
       "    .dataframe tbody tr th:only-of-type {\n",
       "        vertical-align: middle;\n",
       "    }\n",
       "\n",
       "    .dataframe tbody tr th {\n",
       "        vertical-align: top;\n",
       "    }\n",
       "\n",
       "    .dataframe thead th {\n",
       "        text-align: right;\n",
       "    }\n",
       "</style>\n",
       "<table border=\"1\" class=\"dataframe\">\n",
       "  <thead>\n",
       "    <tr style=\"text-align: right;\">\n",
       "      <th></th>\n",
       "      <th>Location</th>\n",
       "      <th>Period</th>\n",
       "      <th>Indicator</th>\n",
       "      <th>First Tooltip</th>\n",
       "    </tr>\n",
       "  </thead>\n",
       "  <tbody>\n",
       "    <tr>\n",
       "      <th>0</th>\n",
       "      <td>Afghanistan</td>\n",
       "      <td>2017</td>\n",
       "      <td>Population using at least basic drinking-water...</td>\n",
       "      <td>57.32</td>\n",
       "    </tr>\n",
       "    <tr>\n",
       "      <th>1</th>\n",
       "      <td>Afghanistan</td>\n",
       "      <td>2016</td>\n",
       "      <td>Population using at least basic drinking-water...</td>\n",
       "      <td>54.84</td>\n",
       "    </tr>\n",
       "    <tr>\n",
       "      <th>2</th>\n",
       "      <td>Afghanistan</td>\n",
       "      <td>2015</td>\n",
       "      <td>Population using at least basic drinking-water...</td>\n",
       "      <td>52.39</td>\n",
       "    </tr>\n",
       "    <tr>\n",
       "      <th>3</th>\n",
       "      <td>Afghanistan</td>\n",
       "      <td>2014</td>\n",
       "      <td>Population using at least basic drinking-water...</td>\n",
       "      <td>49.96</td>\n",
       "    </tr>\n",
       "    <tr>\n",
       "      <th>4</th>\n",
       "      <td>Afghanistan</td>\n",
       "      <td>2013</td>\n",
       "      <td>Population using at least basic drinking-water...</td>\n",
       "      <td>47.56</td>\n",
       "    </tr>\n",
       "    <tr>\n",
       "      <th>...</th>\n",
       "      <td>...</td>\n",
       "      <td>...</td>\n",
       "      <td>...</td>\n",
       "      <td>...</td>\n",
       "    </tr>\n",
       "    <tr>\n",
       "      <th>3450</th>\n",
       "      <td>Zimbabwe</td>\n",
       "      <td>2004</td>\n",
       "      <td>Population using at least basic drinking-water...</td>\n",
       "      <td>57.94</td>\n",
       "    </tr>\n",
       "    <tr>\n",
       "      <th>3451</th>\n",
       "      <td>Zimbabwe</td>\n",
       "      <td>2003</td>\n",
       "      <td>Population using at least basic drinking-water...</td>\n",
       "      <td>58.59</td>\n",
       "    </tr>\n",
       "    <tr>\n",
       "      <th>3452</th>\n",
       "      <td>Zimbabwe</td>\n",
       "      <td>2002</td>\n",
       "      <td>Population using at least basic drinking-water...</td>\n",
       "      <td>59.23</td>\n",
       "    </tr>\n",
       "    <tr>\n",
       "      <th>3453</th>\n",
       "      <td>Zimbabwe</td>\n",
       "      <td>2001</td>\n",
       "      <td>Population using at least basic drinking-water...</td>\n",
       "      <td>59.88</td>\n",
       "    </tr>\n",
       "    <tr>\n",
       "      <th>3454</th>\n",
       "      <td>Zimbabwe</td>\n",
       "      <td>2000</td>\n",
       "      <td>Population using at least basic drinking-water...</td>\n",
       "      <td>59.88</td>\n",
       "    </tr>\n",
       "  </tbody>\n",
       "</table>\n",
       "<p>3455 rows × 4 columns</p>\n",
       "</div>"
      ],
      "text/plain": [
       "         Location  Period                                          Indicator  \\\n",
       "0     Afghanistan    2017  Population using at least basic drinking-water...   \n",
       "1     Afghanistan    2016  Population using at least basic drinking-water...   \n",
       "2     Afghanistan    2015  Population using at least basic drinking-water...   \n",
       "3     Afghanistan    2014  Population using at least basic drinking-water...   \n",
       "4     Afghanistan    2013  Population using at least basic drinking-water...   \n",
       "...           ...     ...                                                ...   \n",
       "3450     Zimbabwe    2004  Population using at least basic drinking-water...   \n",
       "3451     Zimbabwe    2003  Population using at least basic drinking-water...   \n",
       "3452     Zimbabwe    2002  Population using at least basic drinking-water...   \n",
       "3453     Zimbabwe    2001  Population using at least basic drinking-water...   \n",
       "3454     Zimbabwe    2000  Population using at least basic drinking-water...   \n",
       "\n",
       "      First Tooltip  \n",
       "0             57.32  \n",
       "1             54.84  \n",
       "2             52.39  \n",
       "3             49.96  \n",
       "4             47.56  \n",
       "...             ...  \n",
       "3450          57.94  \n",
       "3451          58.59  \n",
       "3452          59.23  \n",
       "3453          59.88  \n",
       "3454          59.88  \n",
       "\n",
       "[3455 rows x 4 columns]"
      ]
     },
     "execution_count": 95,
     "metadata": {},
     "output_type": "execute_result"
    }
   ],
   "source": [
    "water_data = pd.read_csv(WHS_path/'basicDrinkingWaterServices.csv')\n",
    "water_data"
   ]
  },
  {
   "cell_type": "code",
   "execution_count": 96,
   "metadata": {},
   "outputs": [
    {
     "data": {
      "text/plain": [
       "Location         3455\n",
       "Period           3455\n",
       "Indicator        3455\n",
       "First Tooltip    3455\n",
       "dtype: int64"
      ]
     },
     "execution_count": 96,
     "metadata": {},
     "output_type": "execute_result"
    }
   ],
   "source": [
    "water_data.isnull().count()"
   ]
  },
  {
   "cell_type": "markdown",
   "metadata": {},
   "source": [
    "Year 2013 and 2012 are slightly better than 2015 and 2016"
   ]
  },
  {
   "cell_type": "code",
   "execution_count": 97,
   "metadata": {},
   "outputs": [
    {
     "data": {
      "text/plain": [
       "array([2017, 2016, 2015, 2014, 2013, 2012, 2011, 2010, 2009, 2008, 2007,\n",
       "       2006, 2005, 2004, 2003, 2002, 2001, 2000])"
      ]
     },
     "execution_count": 97,
     "metadata": {},
     "output_type": "execute_result"
    }
   ],
   "source": [
    "water_data['Period'].unique()"
   ]
  },
  {
   "cell_type": "code",
   "execution_count": 99,
   "metadata": {},
   "outputs": [
    {
     "data": {
      "text/plain": [
       "Location         190\n",
       "Period           190\n",
       "Indicator        190\n",
       "First Tooltip    190\n",
       "dtype: int64"
      ]
     },
     "execution_count": 99,
     "metadata": {},
     "output_type": "execute_result"
    }
   ],
   "source": [
    "water_data[water_data['Period'] == 2017].count()"
   ]
  },
  {
   "cell_type": "code",
   "execution_count": 100,
   "metadata": {},
   "outputs": [
    {
     "data": {
      "text/plain": [
       "Location         192\n",
       "Period           192\n",
       "Indicator        192\n",
       "First Tooltip    192\n",
       "dtype: int64"
      ]
     },
     "execution_count": 100,
     "metadata": {},
     "output_type": "execute_result"
    }
   ],
   "source": [
    "water_data[water_data['Period'] == 2016].count()"
   ]
  },
  {
   "cell_type": "code",
   "execution_count": 101,
   "metadata": {},
   "outputs": [
    {
     "data": {
      "text/plain": [
       "Location         193\n",
       "Period           193\n",
       "Indicator        193\n",
       "First Tooltip    193\n",
       "dtype: int64"
      ]
     },
     "execution_count": 101,
     "metadata": {},
     "output_type": "execute_result"
    }
   ],
   "source": [
    "water_data[water_data['Period'] == 2015].count()"
   ]
  },
  {
   "cell_type": "code",
   "execution_count": 102,
   "metadata": {},
   "outputs": [
    {
     "data": {
      "text/plain": [
       "Location         193\n",
       "Period           193\n",
       "Indicator        193\n",
       "First Tooltip    193\n",
       "dtype: int64"
      ]
     },
     "execution_count": 102,
     "metadata": {},
     "output_type": "execute_result"
    }
   ],
   "source": [
    "water_data[water_data['Period'] == 2014].count()"
   ]
  },
  {
   "cell_type": "code",
   "execution_count": 103,
   "metadata": {},
   "outputs": [
    {
     "data": {
      "text/plain": [
       "Location         194\n",
       "Period           194\n",
       "Indicator        194\n",
       "First Tooltip    194\n",
       "dtype: int64"
      ]
     },
     "execution_count": 103,
     "metadata": {},
     "output_type": "execute_result"
    }
   ],
   "source": [
    "water_data[water_data['Period'] == 2013].count()"
   ]
  },
  {
   "cell_type": "code",
   "execution_count": 104,
   "metadata": {},
   "outputs": [
    {
     "data": {
      "text/plain": [
       "Location         194\n",
       "Period           194\n",
       "Indicator        194\n",
       "First Tooltip    194\n",
       "dtype: int64"
      ]
     },
     "execution_count": 104,
     "metadata": {},
     "output_type": "execute_result"
    }
   ],
   "source": [
    "water_data[water_data['Period'] == 2012].count()"
   ]
  },
  {
   "cell_type": "code",
   "execution_count": 105,
   "metadata": {},
   "outputs": [
    {
     "data": {
      "text/plain": [
       "Location         194\n",
       "Period           194\n",
       "Indicator        194\n",
       "First Tooltip    194\n",
       "dtype: int64"
      ]
     },
     "execution_count": 105,
     "metadata": {},
     "output_type": "execute_result"
    }
   ],
   "source": [
    "water_data[water_data['Period'] == 2011].count()"
   ]
  },
  {
   "cell_type": "code",
   "execution_count": 106,
   "metadata": {},
   "outputs": [
    {
     "data": {
      "text/plain": [
       "Location         193\n",
       "Period           193\n",
       "Indicator        193\n",
       "First Tooltip    193\n",
       "dtype: int64"
      ]
     },
     "execution_count": 106,
     "metadata": {},
     "output_type": "execute_result"
    }
   ],
   "source": [
    "water_data[water_data['Period'] == 2010].count()"
   ]
  },
  {
   "cell_type": "code",
   "execution_count": 107,
   "metadata": {},
   "outputs": [
    {
     "data": {
      "text/plain": [
       "Location         193\n",
       "Period           193\n",
       "Indicator        193\n",
       "First Tooltip    193\n",
       "dtype: int64"
      ]
     },
     "execution_count": 107,
     "metadata": {},
     "output_type": "execute_result"
    }
   ],
   "source": [
    "water_data[water_data['Period'] == 2009].count()"
   ]
  },
  {
   "cell_type": "code",
   "execution_count": 108,
   "metadata": {},
   "outputs": [
    {
     "data": {
      "text/plain": [
       "Location         193\n",
       "Period           193\n",
       "Indicator        193\n",
       "First Tooltip    193\n",
       "dtype: int64"
      ]
     },
     "execution_count": 108,
     "metadata": {},
     "output_type": "execute_result"
    }
   ],
   "source": [
    "water_data[water_data['Period'] == 2008].count()"
   ]
  },
  {
   "cell_type": "code",
   "execution_count": 109,
   "metadata": {},
   "outputs": [
    {
     "data": {
      "text/plain": [
       "Location         193\n",
       "Period           193\n",
       "Indicator        193\n",
       "First Tooltip    193\n",
       "dtype: int64"
      ]
     },
     "execution_count": 109,
     "metadata": {},
     "output_type": "execute_result"
    }
   ],
   "source": [
    "water_data[water_data['Period'] == 2007].count()"
   ]
  },
  {
   "cell_type": "code",
   "execution_count": 110,
   "metadata": {},
   "outputs": [
    {
     "data": {
      "text/plain": [
       "Location         193\n",
       "Period           193\n",
       "Indicator        193\n",
       "First Tooltip    193\n",
       "dtype: int64"
      ]
     },
     "execution_count": 110,
     "metadata": {},
     "output_type": "execute_result"
    }
   ],
   "source": [
    "water_data[water_data['Period'] == 2006].count()"
   ]
  },
  {
   "cell_type": "code",
   "execution_count": 111,
   "metadata": {},
   "outputs": [
    {
     "data": {
      "text/plain": [
       "Location         192\n",
       "Period           192\n",
       "Indicator        192\n",
       "First Tooltip    192\n",
       "dtype: int64"
      ]
     },
     "execution_count": 111,
     "metadata": {},
     "output_type": "execute_result"
    }
   ],
   "source": [
    "water_data[water_data['Period'] == 2005].count()"
   ]
  },
  {
   "cell_type": "code",
   "execution_count": 112,
   "metadata": {},
   "outputs": [
    {
     "data": {
      "text/plain": [
       "Location         191\n",
       "Period           191\n",
       "Indicator        191\n",
       "First Tooltip    191\n",
       "dtype: int64"
      ]
     },
     "execution_count": 112,
     "metadata": {},
     "output_type": "execute_result"
    }
   ],
   "source": [
    "water_data[water_data['Period'] == 2004].count()"
   ]
  },
  {
   "cell_type": "code",
   "execution_count": 113,
   "metadata": {},
   "outputs": [
    {
     "data": {
      "text/plain": [
       "Location         191\n",
       "Period           191\n",
       "Indicator        191\n",
       "First Tooltip    191\n",
       "dtype: int64"
      ]
     },
     "execution_count": 113,
     "metadata": {},
     "output_type": "execute_result"
    }
   ],
   "source": [
    "water_data[water_data['Period'] == 2003].count()"
   ]
  },
  {
   "cell_type": "code",
   "execution_count": 114,
   "metadata": {},
   "outputs": [
    {
     "data": {
      "text/plain": [
       "Location         191\n",
       "Period           191\n",
       "Indicator        191\n",
       "First Tooltip    191\n",
       "dtype: int64"
      ]
     },
     "execution_count": 114,
     "metadata": {},
     "output_type": "execute_result"
    }
   ],
   "source": [
    "water_data[water_data['Period'] == 2002].count()"
   ]
  },
  {
   "cell_type": "code",
   "execution_count": 115,
   "metadata": {},
   "outputs": [
    {
     "data": {
      "text/plain": [
       "Location         189\n",
       "Period           189\n",
       "Indicator        189\n",
       "First Tooltip    189\n",
       "dtype: int64"
      ]
     },
     "execution_count": 115,
     "metadata": {},
     "output_type": "execute_result"
    }
   ],
   "source": [
    "water_data[water_data['Period'] == 2001].count()"
   ]
  },
  {
   "cell_type": "code",
   "execution_count": 116,
   "metadata": {},
   "outputs": [
    {
     "data": {
      "text/plain": [
       "Location         186\n",
       "Period           186\n",
       "Indicator        186\n",
       "First Tooltip    186\n",
       "dtype: int64"
      ]
     },
     "execution_count": 116,
     "metadata": {},
     "output_type": "execute_result"
    }
   ],
   "source": [
    "water_data[water_data['Period'] == 2000].count()"
   ]
  },
  {
   "cell_type": "code",
   "execution_count": 117,
   "metadata": {},
   "outputs": [
    {
     "data": {
      "text/plain": [
       "array(['Population using at least basic drinking-water services (%)'],\n",
       "      dtype=object)"
      ]
     },
     "execution_count": 117,
     "metadata": {},
     "output_type": "execute_result"
    }
   ],
   "source": [
    "water_data['Indicator'].unique()"
   ]
  },
  {
   "cell_type": "markdown",
   "metadata": {},
   "source": [
    "## Dataset to export"
   ]
  },
  {
   "cell_type": "code",
   "execution_count": 118,
   "metadata": {},
   "outputs": [
    {
     "data": {
      "text/html": [
       "<div>\n",
       "<style scoped>\n",
       "    .dataframe tbody tr th:only-of-type {\n",
       "        vertical-align: middle;\n",
       "    }\n",
       "\n",
       "    .dataframe tbody tr th {\n",
       "        vertical-align: top;\n",
       "    }\n",
       "\n",
       "    .dataframe thead th {\n",
       "        text-align: right;\n",
       "    }\n",
       "</style>\n",
       "<table border=\"1\" class=\"dataframe\">\n",
       "  <thead>\n",
       "    <tr style=\"text-align: right;\">\n",
       "      <th></th>\n",
       "      <th>Location</th>\n",
       "      <th>Period</th>\n",
       "      <th>Indicator</th>\n",
       "      <th>First Tooltip</th>\n",
       "    </tr>\n",
       "  </thead>\n",
       "  <tbody>\n",
       "    <tr>\n",
       "      <th>4</th>\n",
       "      <td>Afghanistan</td>\n",
       "      <td>2013</td>\n",
       "      <td>Population using at least basic drinking-water...</td>\n",
       "      <td>47.56</td>\n",
       "    </tr>\n",
       "    <tr>\n",
       "      <th>22</th>\n",
       "      <td>Albania</td>\n",
       "      <td>2013</td>\n",
       "      <td>Population using at least basic drinking-water...</td>\n",
       "      <td>86.23</td>\n",
       "    </tr>\n",
       "    <tr>\n",
       "      <th>40</th>\n",
       "      <td>Algeria</td>\n",
       "      <td>2013</td>\n",
       "      <td>Population using at least basic drinking-water...</td>\n",
       "      <td>87.98</td>\n",
       "    </tr>\n",
       "    <tr>\n",
       "      <th>58</th>\n",
       "      <td>Andorra</td>\n",
       "      <td>2013</td>\n",
       "      <td>Population using at least basic drinking-water...</td>\n",
       "      <td>100.00</td>\n",
       "    </tr>\n",
       "    <tr>\n",
       "      <th>76</th>\n",
       "      <td>Angola</td>\n",
       "      <td>2013</td>\n",
       "      <td>Population using at least basic drinking-water...</td>\n",
       "      <td>25.98</td>\n",
       "    </tr>\n",
       "    <tr>\n",
       "      <th>...</th>\n",
       "      <td>...</td>\n",
       "      <td>...</td>\n",
       "      <td>...</td>\n",
       "      <td>...</td>\n",
       "    </tr>\n",
       "    <tr>\n",
       "      <th>3369</th>\n",
       "      <td>Venezuela (Bolivarian Republic of)</td>\n",
       "      <td>2013</td>\n",
       "      <td>Population using at least basic drinking-water...</td>\n",
       "      <td>95.94</td>\n",
       "    </tr>\n",
       "    <tr>\n",
       "      <th>3387</th>\n",
       "      <td>Viet Nam</td>\n",
       "      <td>2013</td>\n",
       "      <td>Population using at least basic drinking-water...</td>\n",
       "      <td>88.29</td>\n",
       "    </tr>\n",
       "    <tr>\n",
       "      <th>3405</th>\n",
       "      <td>Yemen</td>\n",
       "      <td>2013</td>\n",
       "      <td>Population using at least basic drinking-water...</td>\n",
       "      <td>50.23</td>\n",
       "    </tr>\n",
       "    <tr>\n",
       "      <th>3423</th>\n",
       "      <td>Zambia</td>\n",
       "      <td>2013</td>\n",
       "      <td>Population using at least basic drinking-water...</td>\n",
       "      <td>39.39</td>\n",
       "    </tr>\n",
       "    <tr>\n",
       "      <th>3441</th>\n",
       "      <td>Zimbabwe</td>\n",
       "      <td>2013</td>\n",
       "      <td>Population using at least basic drinking-water...</td>\n",
       "      <td>52.27</td>\n",
       "    </tr>\n",
       "  </tbody>\n",
       "</table>\n",
       "<p>194 rows × 4 columns</p>\n",
       "</div>"
      ],
      "text/plain": [
       "                                Location  Period  \\\n",
       "4                            Afghanistan    2013   \n",
       "22                               Albania    2013   \n",
       "40                               Algeria    2013   \n",
       "58                               Andorra    2013   \n",
       "76                                Angola    2013   \n",
       "...                                  ...     ...   \n",
       "3369  Venezuela (Bolivarian Republic of)    2013   \n",
       "3387                            Viet Nam    2013   \n",
       "3405                               Yemen    2013   \n",
       "3423                              Zambia    2013   \n",
       "3441                            Zimbabwe    2013   \n",
       "\n",
       "                                              Indicator  First Tooltip  \n",
       "4     Population using at least basic drinking-water...          47.56  \n",
       "22    Population using at least basic drinking-water...          86.23  \n",
       "40    Population using at least basic drinking-water...          87.98  \n",
       "58    Population using at least basic drinking-water...         100.00  \n",
       "76    Population using at least basic drinking-water...          25.98  \n",
       "...                                                 ...            ...  \n",
       "3369  Population using at least basic drinking-water...          95.94  \n",
       "3387  Population using at least basic drinking-water...          88.29  \n",
       "3405  Population using at least basic drinking-water...          50.23  \n",
       "3423  Population using at least basic drinking-water...          39.39  \n",
       "3441  Population using at least basic drinking-water...          52.27  \n",
       "\n",
       "[194 rows x 4 columns]"
      ]
     },
     "execution_count": 118,
     "metadata": {},
     "output_type": "execute_result"
    }
   ],
   "source": [
    "water_data_2013 = water_data[water_data['Period'] == 2013]\n",
    "water_data_2013"
   ]
  },
  {
   "cell_type": "markdown",
   "metadata": {},
   "source": [
    "## Dataset to export"
   ]
  },
  {
   "cell_type": "code",
   "execution_count": 119,
   "metadata": {},
   "outputs": [
    {
     "data": {
      "text/html": [
       "<div>\n",
       "<style scoped>\n",
       "    .dataframe tbody tr th:only-of-type {\n",
       "        vertical-align: middle;\n",
       "    }\n",
       "\n",
       "    .dataframe tbody tr th {\n",
       "        vertical-align: top;\n",
       "    }\n",
       "\n",
       "    .dataframe thead th {\n",
       "        text-align: right;\n",
       "    }\n",
       "</style>\n",
       "<table border=\"1\" class=\"dataframe\">\n",
       "  <thead>\n",
       "    <tr style=\"text-align: right;\">\n",
       "      <th></th>\n",
       "      <th>Location</th>\n",
       "      <th>Period</th>\n",
       "      <th>Indicator</th>\n",
       "      <th>First Tooltip</th>\n",
       "    </tr>\n",
       "  </thead>\n",
       "  <tbody>\n",
       "    <tr>\n",
       "      <th>5</th>\n",
       "      <td>Afghanistan</td>\n",
       "      <td>2012</td>\n",
       "      <td>Population using at least basic drinking-water...</td>\n",
       "      <td>45.19</td>\n",
       "    </tr>\n",
       "    <tr>\n",
       "      <th>23</th>\n",
       "      <td>Albania</td>\n",
       "      <td>2012</td>\n",
       "      <td>Population using at least basic drinking-water...</td>\n",
       "      <td>82.59</td>\n",
       "    </tr>\n",
       "    <tr>\n",
       "      <th>41</th>\n",
       "      <td>Algeria</td>\n",
       "      <td>2012</td>\n",
       "      <td>Population using at least basic drinking-water...</td>\n",
       "      <td>87.62</td>\n",
       "    </tr>\n",
       "    <tr>\n",
       "      <th>59</th>\n",
       "      <td>Andorra</td>\n",
       "      <td>2012</td>\n",
       "      <td>Population using at least basic drinking-water...</td>\n",
       "      <td>100.00</td>\n",
       "    </tr>\n",
       "    <tr>\n",
       "      <th>77</th>\n",
       "      <td>Angola</td>\n",
       "      <td>2012</td>\n",
       "      <td>Population using at least basic drinking-water...</td>\n",
       "      <td>25.61</td>\n",
       "    </tr>\n",
       "    <tr>\n",
       "      <th>...</th>\n",
       "      <td>...</td>\n",
       "      <td>...</td>\n",
       "      <td>...</td>\n",
       "      <td>...</td>\n",
       "    </tr>\n",
       "    <tr>\n",
       "      <th>3370</th>\n",
       "      <td>Venezuela (Bolivarian Republic of)</td>\n",
       "      <td>2012</td>\n",
       "      <td>Population using at least basic drinking-water...</td>\n",
       "      <td>96.00</td>\n",
       "    </tr>\n",
       "    <tr>\n",
       "      <th>3388</th>\n",
       "      <td>Viet Nam</td>\n",
       "      <td>2012</td>\n",
       "      <td>Population using at least basic drinking-water...</td>\n",
       "      <td>87.30</td>\n",
       "    </tr>\n",
       "    <tr>\n",
       "      <th>3406</th>\n",
       "      <td>Yemen</td>\n",
       "      <td>2012</td>\n",
       "      <td>Population using at least basic drinking-water...</td>\n",
       "      <td>48.00</td>\n",
       "    </tr>\n",
       "    <tr>\n",
       "      <th>3424</th>\n",
       "      <td>Zambia</td>\n",
       "      <td>2012</td>\n",
       "      <td>Population using at least basic drinking-water...</td>\n",
       "      <td>38.78</td>\n",
       "    </tr>\n",
       "    <tr>\n",
       "      <th>3442</th>\n",
       "      <td>Zimbabwe</td>\n",
       "      <td>2012</td>\n",
       "      <td>Population using at least basic drinking-water...</td>\n",
       "      <td>52.89</td>\n",
       "    </tr>\n",
       "  </tbody>\n",
       "</table>\n",
       "<p>194 rows × 4 columns</p>\n",
       "</div>"
      ],
      "text/plain": [
       "                                Location  Period  \\\n",
       "5                            Afghanistan    2012   \n",
       "23                               Albania    2012   \n",
       "41                               Algeria    2012   \n",
       "59                               Andorra    2012   \n",
       "77                                Angola    2012   \n",
       "...                                  ...     ...   \n",
       "3370  Venezuela (Bolivarian Republic of)    2012   \n",
       "3388                            Viet Nam    2012   \n",
       "3406                               Yemen    2012   \n",
       "3424                              Zambia    2012   \n",
       "3442                            Zimbabwe    2012   \n",
       "\n",
       "                                              Indicator  First Tooltip  \n",
       "5     Population using at least basic drinking-water...          45.19  \n",
       "23    Population using at least basic drinking-water...          82.59  \n",
       "41    Population using at least basic drinking-water...          87.62  \n",
       "59    Population using at least basic drinking-water...         100.00  \n",
       "77    Population using at least basic drinking-water...          25.61  \n",
       "...                                                 ...            ...  \n",
       "3370  Population using at least basic drinking-water...          96.00  \n",
       "3388  Population using at least basic drinking-water...          87.30  \n",
       "3406  Population using at least basic drinking-water...          48.00  \n",
       "3424  Population using at least basic drinking-water...          38.78  \n",
       "3442  Population using at least basic drinking-water...          52.89  \n",
       "\n",
       "[194 rows x 4 columns]"
      ]
     },
     "execution_count": 119,
     "metadata": {},
     "output_type": "execute_result"
    }
   ],
   "source": [
    "water_data_2012 = water_data[water_data['Period'] == 2012]\n",
    "water_data_2012"
   ]
  },
  {
   "cell_type": "code",
   "execution_count": null,
   "metadata": {},
   "outputs": [],
   "source": []
  },
  {
   "cell_type": "markdown",
   "metadata": {},
   "source": [
    "## Basic Hand Washing"
   ]
  },
  {
   "cell_type": "code",
   "execution_count": 120,
   "metadata": {},
   "outputs": [
    {
     "data": {
      "text/html": [
       "<div>\n",
       "<style scoped>\n",
       "    .dataframe tbody tr th:only-of-type {\n",
       "        vertical-align: middle;\n",
       "    }\n",
       "\n",
       "    .dataframe tbody tr th {\n",
       "        vertical-align: top;\n",
       "    }\n",
       "\n",
       "    .dataframe thead th {\n",
       "        text-align: right;\n",
       "    }\n",
       "</style>\n",
       "<table border=\"1\" class=\"dataframe\">\n",
       "  <thead>\n",
       "    <tr style=\"text-align: right;\">\n",
       "      <th></th>\n",
       "      <th>Location</th>\n",
       "      <th>Indicator</th>\n",
       "      <th>Period</th>\n",
       "      <th>Dim1</th>\n",
       "      <th>First Tooltip</th>\n",
       "    </tr>\n",
       "  </thead>\n",
       "  <tbody>\n",
       "    <tr>\n",
       "      <th>0</th>\n",
       "      <td>Afghanistan</td>\n",
       "      <td>Population with basic handwashing facilities a...</td>\n",
       "      <td>2017</td>\n",
       "      <td>Total</td>\n",
       "      <td>37.75</td>\n",
       "    </tr>\n",
       "    <tr>\n",
       "      <th>1</th>\n",
       "      <td>Afghanistan</td>\n",
       "      <td>Population with basic handwashing facilities a...</td>\n",
       "      <td>2017</td>\n",
       "      <td>Urban</td>\n",
       "      <td>63.58</td>\n",
       "    </tr>\n",
       "    <tr>\n",
       "      <th>2</th>\n",
       "      <td>Afghanistan</td>\n",
       "      <td>Population with basic handwashing facilities a...</td>\n",
       "      <td>2017</td>\n",
       "      <td>Rural</td>\n",
       "      <td>29.02</td>\n",
       "    </tr>\n",
       "    <tr>\n",
       "      <th>3</th>\n",
       "      <td>Afghanistan</td>\n",
       "      <td>Population with basic handwashing facilities a...</td>\n",
       "      <td>2016</td>\n",
       "      <td>Total</td>\n",
       "      <td>37.67</td>\n",
       "    </tr>\n",
       "    <tr>\n",
       "      <th>4</th>\n",
       "      <td>Afghanistan</td>\n",
       "      <td>Population with basic handwashing facilities a...</td>\n",
       "      <td>2016</td>\n",
       "      <td>Urban</td>\n",
       "      <td>63.58</td>\n",
       "    </tr>\n",
       "    <tr>\n",
       "      <th>...</th>\n",
       "      <td>...</td>\n",
       "      <td>...</td>\n",
       "      <td>...</td>\n",
       "      <td>...</td>\n",
       "      <td>...</td>\n",
       "    </tr>\n",
       "    <tr>\n",
       "      <th>2721</th>\n",
       "      <td>Zimbabwe</td>\n",
       "      <td>Population with basic handwashing facilities a...</td>\n",
       "      <td>2012</td>\n",
       "      <td>Urban</td>\n",
       "      <td>48.54</td>\n",
       "    </tr>\n",
       "    <tr>\n",
       "      <th>2722</th>\n",
       "      <td>Zimbabwe</td>\n",
       "      <td>Population with basic handwashing facilities a...</td>\n",
       "      <td>2012</td>\n",
       "      <td>Rural</td>\n",
       "      <td>31.20</td>\n",
       "    </tr>\n",
       "    <tr>\n",
       "      <th>2723</th>\n",
       "      <td>Zimbabwe</td>\n",
       "      <td>Population with basic handwashing facilities a...</td>\n",
       "      <td>2011</td>\n",
       "      <td>Total</td>\n",
       "      <td>36.93</td>\n",
       "    </tr>\n",
       "    <tr>\n",
       "      <th>2724</th>\n",
       "      <td>Zimbabwe</td>\n",
       "      <td>Population with basic handwashing facilities a...</td>\n",
       "      <td>2011</td>\n",
       "      <td>Urban</td>\n",
       "      <td>48.54</td>\n",
       "    </tr>\n",
       "    <tr>\n",
       "      <th>2725</th>\n",
       "      <td>Zimbabwe</td>\n",
       "      <td>Population with basic handwashing facilities a...</td>\n",
       "      <td>2011</td>\n",
       "      <td>Rural</td>\n",
       "      <td>31.20</td>\n",
       "    </tr>\n",
       "  </tbody>\n",
       "</table>\n",
       "<p>2726 rows × 5 columns</p>\n",
       "</div>"
      ],
      "text/plain": [
       "         Location                                          Indicator  Period  \\\n",
       "0     Afghanistan  Population with basic handwashing facilities a...    2017   \n",
       "1     Afghanistan  Population with basic handwashing facilities a...    2017   \n",
       "2     Afghanistan  Population with basic handwashing facilities a...    2017   \n",
       "3     Afghanistan  Population with basic handwashing facilities a...    2016   \n",
       "4     Afghanistan  Population with basic handwashing facilities a...    2016   \n",
       "...           ...                                                ...     ...   \n",
       "2721     Zimbabwe  Population with basic handwashing facilities a...    2012   \n",
       "2722     Zimbabwe  Population with basic handwashing facilities a...    2012   \n",
       "2723     Zimbabwe  Population with basic handwashing facilities a...    2011   \n",
       "2724     Zimbabwe  Population with basic handwashing facilities a...    2011   \n",
       "2725     Zimbabwe  Population with basic handwashing facilities a...    2011   \n",
       "\n",
       "       Dim1  First Tooltip  \n",
       "0     Total          37.75  \n",
       "1     Urban          63.58  \n",
       "2     Rural          29.02  \n",
       "3     Total          37.67  \n",
       "4     Urban          63.58  \n",
       "...     ...            ...  \n",
       "2721  Urban          48.54  \n",
       "2722  Rural          31.20  \n",
       "2723  Total          36.93  \n",
       "2724  Urban          48.54  \n",
       "2725  Rural          31.20  \n",
       "\n",
       "[2726 rows x 5 columns]"
      ]
     },
     "execution_count": 120,
     "metadata": {},
     "output_type": "execute_result"
    }
   ],
   "source": [
    "hand_data = pd.read_csv(WHS_path/'basicHandWashing.csv')\n",
    "hand_data"
   ]
  },
  {
   "cell_type": "code",
   "execution_count": 121,
   "metadata": {},
   "outputs": [
    {
     "data": {
      "text/plain": [
       "Location         2726\n",
       "Indicator        2726\n",
       "Period           2726\n",
       "Dim1             2726\n",
       "First Tooltip    2726\n",
       "dtype: int64"
      ]
     },
     "execution_count": 121,
     "metadata": {},
     "output_type": "execute_result"
    }
   ],
   "source": [
    "hand_data.isnull().count()"
   ]
  },
  {
   "cell_type": "markdown",
   "metadata": {},
   "source": [
    "Year 2014 and 2013 are looking the best. Better than 2016 and 2015."
   ]
  },
  {
   "cell_type": "code",
   "execution_count": 122,
   "metadata": {},
   "outputs": [
    {
     "data": {
      "text/plain": [
       "array([2017, 2016, 2015, 2014, 2013, 2012, 2011, 2010, 2009, 2008, 2007,\n",
       "       2006, 2005, 2004, 2003, 2002, 2001, 2000])"
      ]
     },
     "execution_count": 122,
     "metadata": {},
     "output_type": "execute_result"
    }
   ],
   "source": [
    "hand_data['Period'].unique()"
   ]
  },
  {
   "cell_type": "code",
   "execution_count": 124,
   "metadata": {},
   "outputs": [
    {
     "data": {
      "text/plain": [
       "Location         231\n",
       "Indicator        231\n",
       "Period           231\n",
       "Dim1             231\n",
       "First Tooltip    231\n",
       "dtype: int64"
      ]
     },
     "execution_count": 124,
     "metadata": {},
     "output_type": "execute_result"
    }
   ],
   "source": [
    "hand_data[hand_data['Period'] == 2017].count()"
   ]
  },
  {
   "cell_type": "code",
   "execution_count": 125,
   "metadata": {},
   "outputs": [
    {
     "data": {
      "text/plain": [
       "Location         247\n",
       "Indicator        247\n",
       "Period           247\n",
       "Dim1             247\n",
       "First Tooltip    247\n",
       "dtype: int64"
      ]
     },
     "execution_count": 125,
     "metadata": {},
     "output_type": "execute_result"
    }
   ],
   "source": [
    "hand_data[hand_data['Period'] == 2016].count()"
   ]
  },
  {
   "cell_type": "code",
   "execution_count": 126,
   "metadata": {},
   "outputs": [
    {
     "data": {
      "text/plain": [
       "Location         265\n",
       "Indicator        265\n",
       "Period           265\n",
       "Dim1             265\n",
       "First Tooltip    265\n",
       "dtype: int64"
      ]
     },
     "execution_count": 126,
     "metadata": {},
     "output_type": "execute_result"
    }
   ],
   "source": [
    "hand_data[hand_data['Period'] == 2015].count()"
   ]
  },
  {
   "cell_type": "code",
   "execution_count": 127,
   "metadata": {},
   "outputs": [
    {
     "data": {
      "text/plain": [
       "Location         277\n",
       "Indicator        277\n",
       "Period           277\n",
       "Dim1             277\n",
       "First Tooltip    277\n",
       "dtype: int64"
      ]
     },
     "execution_count": 127,
     "metadata": {},
     "output_type": "execute_result"
    }
   ],
   "source": [
    "hand_data[hand_data['Period'] == 2014].count()"
   ]
  },
  {
   "cell_type": "code",
   "execution_count": 128,
   "metadata": {},
   "outputs": [
    {
     "data": {
      "text/plain": [
       "Location         274\n",
       "Indicator        274\n",
       "Period           274\n",
       "Dim1             274\n",
       "First Tooltip    274\n",
       "dtype: int64"
      ]
     },
     "execution_count": 128,
     "metadata": {},
     "output_type": "execute_result"
    }
   ],
   "source": [
    "hand_data[hand_data['Period'] == 2013].count()"
   ]
  },
  {
   "cell_type": "code",
   "execution_count": 129,
   "metadata": {},
   "outputs": [
    {
     "data": {
      "text/plain": [
       "Location         252\n",
       "Indicator        252\n",
       "Period           252\n",
       "Dim1             252\n",
       "First Tooltip    252\n",
       "dtype: int64"
      ]
     },
     "execution_count": 129,
     "metadata": {},
     "output_type": "execute_result"
    }
   ],
   "source": [
    "hand_data[hand_data['Period'] == 2012].count()"
   ]
  },
  {
   "cell_type": "code",
   "execution_count": 130,
   "metadata": {},
   "outputs": [
    {
     "data": {
      "text/plain": [
       "Location         225\n",
       "Indicator        225\n",
       "Period           225\n",
       "Dim1             225\n",
       "First Tooltip    225\n",
       "dtype: int64"
      ]
     },
     "execution_count": 130,
     "metadata": {},
     "output_type": "execute_result"
    }
   ],
   "source": [
    "hand_data[hand_data['Period'] == 2011].count()"
   ]
  },
  {
   "cell_type": "code",
   "execution_count": 131,
   "metadata": {},
   "outputs": [
    {
     "data": {
      "text/plain": [
       "Location         192\n",
       "Indicator        192\n",
       "Period           192\n",
       "Dim1             192\n",
       "First Tooltip    192\n",
       "dtype: int64"
      ]
     },
     "execution_count": 131,
     "metadata": {},
     "output_type": "execute_result"
    }
   ],
   "source": [
    "hand_data[hand_data['Period'] == 2010].count()"
   ]
  },
  {
   "cell_type": "code",
   "execution_count": 132,
   "metadata": {},
   "outputs": [
    {
     "data": {
      "text/plain": [
       "Location         159\n",
       "Indicator        159\n",
       "Period           159\n",
       "Dim1             159\n",
       "First Tooltip    159\n",
       "dtype: int64"
      ]
     },
     "execution_count": 132,
     "metadata": {},
     "output_type": "execute_result"
    }
   ],
   "source": [
    "hand_data[hand_data['Period'] == 2009].count()"
   ]
  },
  {
   "cell_type": "code",
   "execution_count": 133,
   "metadata": {},
   "outputs": [
    {
     "data": {
      "text/plain": [
       "Location         139\n",
       "Indicator        139\n",
       "Period           139\n",
       "Dim1             139\n",
       "First Tooltip    139\n",
       "dtype: int64"
      ]
     },
     "execution_count": 133,
     "metadata": {},
     "output_type": "execute_result"
    }
   ],
   "source": [
    "hand_data[hand_data['Period'] == 2008].count()"
   ]
  },
  {
   "cell_type": "code",
   "execution_count": 134,
   "metadata": {},
   "outputs": [
    {
     "data": {
      "text/plain": [
       "Location         120\n",
       "Indicator        120\n",
       "Period           120\n",
       "Dim1             120\n",
       "First Tooltip    120\n",
       "dtype: int64"
      ]
     },
     "execution_count": 134,
     "metadata": {},
     "output_type": "execute_result"
    }
   ],
   "source": [
    "hand_data[hand_data['Period'] == 2007].count()"
   ]
  },
  {
   "cell_type": "code",
   "execution_count": 135,
   "metadata": {},
   "outputs": [
    {
     "data": {
      "text/plain": [
       "Location         105\n",
       "Indicator        105\n",
       "Period           105\n",
       "Dim1             105\n",
       "First Tooltip    105\n",
       "dtype: int64"
      ]
     },
     "execution_count": 135,
     "metadata": {},
     "output_type": "execute_result"
    }
   ],
   "source": [
    "hand_data[hand_data['Period'] == 2006].count()"
   ]
  },
  {
   "cell_type": "code",
   "execution_count": 136,
   "metadata": {},
   "outputs": [
    {
     "data": {
      "text/plain": [
       "Location         72\n",
       "Indicator        72\n",
       "Period           72\n",
       "Dim1             72\n",
       "First Tooltip    72\n",
       "dtype: int64"
      ]
     },
     "execution_count": 136,
     "metadata": {},
     "output_type": "execute_result"
    }
   ],
   "source": [
    "hand_data[hand_data['Period'] == 2005].count()"
   ]
  },
  {
   "cell_type": "code",
   "execution_count": 137,
   "metadata": {},
   "outputs": [
    {
     "data": {
      "text/plain": [
       "Location         54\n",
       "Indicator        54\n",
       "Period           54\n",
       "Dim1             54\n",
       "First Tooltip    54\n",
       "dtype: int64"
      ]
     },
     "execution_count": 137,
     "metadata": {},
     "output_type": "execute_result"
    }
   ],
   "source": [
    "hand_data[hand_data['Period'] == 2004].count()"
   ]
  },
  {
   "cell_type": "code",
   "execution_count": 138,
   "metadata": {},
   "outputs": [
    {
     "data": {
      "text/plain": [
       "Location         30\n",
       "Indicator        30\n",
       "Period           30\n",
       "Dim1             30\n",
       "First Tooltip    30\n",
       "dtype: int64"
      ]
     },
     "execution_count": 138,
     "metadata": {},
     "output_type": "execute_result"
    }
   ],
   "source": [
    "hand_data[hand_data['Period'] == 2003].count()"
   ]
  },
  {
   "cell_type": "code",
   "execution_count": 139,
   "metadata": {},
   "outputs": [
    {
     "data": {
      "text/plain": [
       "Location         30\n",
       "Indicator        30\n",
       "Period           30\n",
       "Dim1             30\n",
       "First Tooltip    30\n",
       "dtype: int64"
      ]
     },
     "execution_count": 139,
     "metadata": {},
     "output_type": "execute_result"
    }
   ],
   "source": [
    "hand_data[hand_data['Period'] == 2002].count()"
   ]
  },
  {
   "cell_type": "code",
   "execution_count": 140,
   "metadata": {},
   "outputs": [
    {
     "data": {
      "text/plain": [
       "Location         27\n",
       "Indicator        27\n",
       "Period           27\n",
       "Dim1             27\n",
       "First Tooltip    27\n",
       "dtype: int64"
      ]
     },
     "execution_count": 140,
     "metadata": {},
     "output_type": "execute_result"
    }
   ],
   "source": [
    "hand_data[hand_data['Period'] == 2001].count()"
   ]
  },
  {
   "cell_type": "code",
   "execution_count": 141,
   "metadata": {},
   "outputs": [
    {
     "data": {
      "text/plain": [
       "Location         27\n",
       "Indicator        27\n",
       "Period           27\n",
       "Dim1             27\n",
       "First Tooltip    27\n",
       "dtype: int64"
      ]
     },
     "execution_count": 141,
     "metadata": {},
     "output_type": "execute_result"
    }
   ],
   "source": [
    "hand_data[hand_data['Period'] == 2000].count()"
   ]
  },
  {
   "cell_type": "code",
   "execution_count": 142,
   "metadata": {},
   "outputs": [
    {
     "data": {
      "text/plain": [
       "array(['Population with basic handwashing facilities at home (%)'],\n",
       "      dtype=object)"
      ]
     },
     "execution_count": 142,
     "metadata": {},
     "output_type": "execute_result"
    }
   ],
   "source": [
    "hand_data['Indicator'].unique()"
   ]
  },
  {
   "cell_type": "code",
   "execution_count": 143,
   "metadata": {},
   "outputs": [
    {
     "data": {
      "text/plain": [
       "array(['Total', 'Urban', 'Rural'], dtype=object)"
      ]
     },
     "execution_count": 143,
     "metadata": {},
     "output_type": "execute_result"
    }
   ],
   "source": [
    "hand_data['Dim1'].unique()"
   ]
  },
  {
   "cell_type": "code",
   "execution_count": 145,
   "metadata": {},
   "outputs": [
    {
     "data": {
      "text/html": [
       "<div>\n",
       "<style scoped>\n",
       "    .dataframe tbody tr th:only-of-type {\n",
       "        vertical-align: middle;\n",
       "    }\n",
       "\n",
       "    .dataframe tbody tr th {\n",
       "        vertical-align: top;\n",
       "    }\n",
       "\n",
       "    .dataframe thead th {\n",
       "        text-align: right;\n",
       "    }\n",
       "</style>\n",
       "<table border=\"1\" class=\"dataframe\">\n",
       "  <thead>\n",
       "    <tr style=\"text-align: right;\">\n",
       "      <th></th>\n",
       "      <th>Location</th>\n",
       "      <th>Indicator</th>\n",
       "      <th>Period</th>\n",
       "      <th>Dim1</th>\n",
       "      <th>First Tooltip</th>\n",
       "    </tr>\n",
       "  </thead>\n",
       "  <tbody>\n",
       "    <tr>\n",
       "      <th>0</th>\n",
       "      <td>Afghanistan</td>\n",
       "      <td>Population with basic handwashing facilities a...</td>\n",
       "      <td>2017</td>\n",
       "      <td>Total</td>\n",
       "      <td>37.75</td>\n",
       "    </tr>\n",
       "    <tr>\n",
       "      <th>3</th>\n",
       "      <td>Afghanistan</td>\n",
       "      <td>Population with basic handwashing facilities a...</td>\n",
       "      <td>2016</td>\n",
       "      <td>Total</td>\n",
       "      <td>37.67</td>\n",
       "    </tr>\n",
       "    <tr>\n",
       "      <th>6</th>\n",
       "      <td>Afghanistan</td>\n",
       "      <td>Population with basic handwashing facilities a...</td>\n",
       "      <td>2015</td>\n",
       "      <td>Total</td>\n",
       "      <td>37.59</td>\n",
       "    </tr>\n",
       "    <tr>\n",
       "      <th>9</th>\n",
       "      <td>Afghanistan</td>\n",
       "      <td>Population with basic handwashing facilities a...</td>\n",
       "      <td>2014</td>\n",
       "      <td>Total</td>\n",
       "      <td>37.52</td>\n",
       "    </tr>\n",
       "    <tr>\n",
       "      <th>12</th>\n",
       "      <td>Afghanistan</td>\n",
       "      <td>Population with basic handwashing facilities a...</td>\n",
       "      <td>2013</td>\n",
       "      <td>Total</td>\n",
       "      <td>37.44</td>\n",
       "    </tr>\n",
       "    <tr>\n",
       "      <th>...</th>\n",
       "      <td>...</td>\n",
       "      <td>...</td>\n",
       "      <td>...</td>\n",
       "      <td>...</td>\n",
       "      <td>...</td>\n",
       "    </tr>\n",
       "    <tr>\n",
       "      <th>2711</th>\n",
       "      <td>Zimbabwe</td>\n",
       "      <td>Population with basic handwashing facilities a...</td>\n",
       "      <td>2015</td>\n",
       "      <td>Total</td>\n",
       "      <td>36.82</td>\n",
       "    </tr>\n",
       "    <tr>\n",
       "      <th>2714</th>\n",
       "      <td>Zimbabwe</td>\n",
       "      <td>Population with basic handwashing facilities a...</td>\n",
       "      <td>2014</td>\n",
       "      <td>Total</td>\n",
       "      <td>36.84</td>\n",
       "    </tr>\n",
       "    <tr>\n",
       "      <th>2717</th>\n",
       "      <td>Zimbabwe</td>\n",
       "      <td>Population with basic handwashing facilities a...</td>\n",
       "      <td>2013</td>\n",
       "      <td>Total</td>\n",
       "      <td>36.86</td>\n",
       "    </tr>\n",
       "    <tr>\n",
       "      <th>2720</th>\n",
       "      <td>Zimbabwe</td>\n",
       "      <td>Population with basic handwashing facilities a...</td>\n",
       "      <td>2012</td>\n",
       "      <td>Total</td>\n",
       "      <td>36.89</td>\n",
       "    </tr>\n",
       "    <tr>\n",
       "      <th>2723</th>\n",
       "      <td>Zimbabwe</td>\n",
       "      <td>Population with basic handwashing facilities a...</td>\n",
       "      <td>2011</td>\n",
       "      <td>Total</td>\n",
       "      <td>36.93</td>\n",
       "    </tr>\n",
       "  </tbody>\n",
       "</table>\n",
       "<p>921 rows × 5 columns</p>\n",
       "</div>"
      ],
      "text/plain": [
       "         Location                                          Indicator  Period  \\\n",
       "0     Afghanistan  Population with basic handwashing facilities a...    2017   \n",
       "3     Afghanistan  Population with basic handwashing facilities a...    2016   \n",
       "6     Afghanistan  Population with basic handwashing facilities a...    2015   \n",
       "9     Afghanistan  Population with basic handwashing facilities a...    2014   \n",
       "12    Afghanistan  Population with basic handwashing facilities a...    2013   \n",
       "...           ...                                                ...     ...   \n",
       "2711     Zimbabwe  Population with basic handwashing facilities a...    2015   \n",
       "2714     Zimbabwe  Population with basic handwashing facilities a...    2014   \n",
       "2717     Zimbabwe  Population with basic handwashing facilities a...    2013   \n",
       "2720     Zimbabwe  Population with basic handwashing facilities a...    2012   \n",
       "2723     Zimbabwe  Population with basic handwashing facilities a...    2011   \n",
       "\n",
       "       Dim1  First Tooltip  \n",
       "0     Total          37.75  \n",
       "3     Total          37.67  \n",
       "6     Total          37.59  \n",
       "9     Total          37.52  \n",
       "12    Total          37.44  \n",
       "...     ...            ...  \n",
       "2711  Total          36.82  \n",
       "2714  Total          36.84  \n",
       "2717  Total          36.86  \n",
       "2720  Total          36.89  \n",
       "2723  Total          36.93  \n",
       "\n",
       "[921 rows x 5 columns]"
      ]
     },
     "execution_count": 145,
     "metadata": {},
     "output_type": "execute_result"
    }
   ],
   "source": [
    "hand_data_tot = hand_data[hand_data['Dim1'] == 'Total']\n",
    "hand_data_tot"
   ]
  },
  {
   "cell_type": "code",
   "execution_count": 149,
   "metadata": {},
   "outputs": [
    {
     "data": {
      "text/plain": [
       "Location         78\n",
       "Indicator        78\n",
       "Period           78\n",
       "Dim1             78\n",
       "First Tooltip    78\n",
       "dtype: int64"
      ]
     },
     "execution_count": 149,
     "metadata": {},
     "output_type": "execute_result"
    }
   ],
   "source": [
    "hand_data_tot[hand_data_tot['Period'] == 2017].count()"
   ]
  },
  {
   "cell_type": "code",
   "execution_count": 150,
   "metadata": {},
   "outputs": [
    {
     "data": {
      "text/plain": [
       "Location         84\n",
       "Indicator        84\n",
       "Period           84\n",
       "Dim1             84\n",
       "First Tooltip    84\n",
       "dtype: int64"
      ]
     },
     "execution_count": 150,
     "metadata": {},
     "output_type": "execute_result"
    }
   ],
   "source": [
    "hand_data_tot[hand_data_tot['Period'] == 2016].count()"
   ]
  },
  {
   "cell_type": "code",
   "execution_count": 151,
   "metadata": {},
   "outputs": [
    {
     "data": {
      "text/plain": [
       "Location         90\n",
       "Indicator        90\n",
       "Period           90\n",
       "Dim1             90\n",
       "First Tooltip    90\n",
       "dtype: int64"
      ]
     },
     "execution_count": 151,
     "metadata": {},
     "output_type": "execute_result"
    }
   ],
   "source": [
    "hand_data_tot[hand_data_tot['Period'] == 2015].count()"
   ]
  },
  {
   "cell_type": "code",
   "execution_count": 152,
   "metadata": {},
   "outputs": [
    {
     "data": {
      "text/plain": [
       "Location         94\n",
       "Indicator        94\n",
       "Period           94\n",
       "Dim1             94\n",
       "First Tooltip    94\n",
       "dtype: int64"
      ]
     },
     "execution_count": 152,
     "metadata": {},
     "output_type": "execute_result"
    }
   ],
   "source": [
    "hand_data_tot[hand_data_tot['Period'] == 2014].count()"
   ]
  },
  {
   "cell_type": "code",
   "execution_count": 153,
   "metadata": {},
   "outputs": [
    {
     "data": {
      "text/plain": [
       "Location         93\n",
       "Indicator        93\n",
       "Period           93\n",
       "Dim1             93\n",
       "First Tooltip    93\n",
       "dtype: int64"
      ]
     },
     "execution_count": 153,
     "metadata": {},
     "output_type": "execute_result"
    }
   ],
   "source": [
    "hand_data_tot[hand_data_tot['Period'] == 2013].count()"
   ]
  },
  {
   "cell_type": "code",
   "execution_count": 154,
   "metadata": {},
   "outputs": [
    {
     "data": {
      "text/plain": [
       "Location         85\n",
       "Indicator        85\n",
       "Period           85\n",
       "Dim1             85\n",
       "First Tooltip    85\n",
       "dtype: int64"
      ]
     },
     "execution_count": 154,
     "metadata": {},
     "output_type": "execute_result"
    }
   ],
   "source": [
    "hand_data_tot[hand_data_tot['Period'] == 2012].count()"
   ]
  },
  {
   "cell_type": "markdown",
   "metadata": {},
   "source": [
    "## Dataset to export"
   ]
  },
  {
   "cell_type": "code",
   "execution_count": 147,
   "metadata": {},
   "outputs": [
    {
     "data": {
      "text/html": [
       "<div>\n",
       "<style scoped>\n",
       "    .dataframe tbody tr th:only-of-type {\n",
       "        vertical-align: middle;\n",
       "    }\n",
       "\n",
       "    .dataframe tbody tr th {\n",
       "        vertical-align: top;\n",
       "    }\n",
       "\n",
       "    .dataframe thead th {\n",
       "        text-align: right;\n",
       "    }\n",
       "</style>\n",
       "<table border=\"1\" class=\"dataframe\">\n",
       "  <thead>\n",
       "    <tr style=\"text-align: right;\">\n",
       "      <th></th>\n",
       "      <th>Location</th>\n",
       "      <th>Indicator</th>\n",
       "      <th>Period</th>\n",
       "      <th>Dim1</th>\n",
       "      <th>First Tooltip</th>\n",
       "    </tr>\n",
       "  </thead>\n",
       "  <tbody>\n",
       "    <tr>\n",
       "      <th>9</th>\n",
       "      <td>Afghanistan</td>\n",
       "      <td>Population with basic handwashing facilities a...</td>\n",
       "      <td>2014</td>\n",
       "      <td>Total</td>\n",
       "      <td>37.52</td>\n",
       "    </tr>\n",
       "    <tr>\n",
       "      <th>48</th>\n",
       "      <td>Algeria</td>\n",
       "      <td>Population with basic handwashing facilities a...</td>\n",
       "      <td>2014</td>\n",
       "      <td>Total</td>\n",
       "      <td>83.47</td>\n",
       "    </tr>\n",
       "    <tr>\n",
       "      <th>75</th>\n",
       "      <td>Angola</td>\n",
       "      <td>Population with basic handwashing facilities a...</td>\n",
       "      <td>2014</td>\n",
       "      <td>Total</td>\n",
       "      <td>26.23</td>\n",
       "    </tr>\n",
       "    <tr>\n",
       "      <th>93</th>\n",
       "      <td>Armenia</td>\n",
       "      <td>Population with basic handwashing facilities a...</td>\n",
       "      <td>2014</td>\n",
       "      <td>Total</td>\n",
       "      <td>92.06</td>\n",
       "    </tr>\n",
       "    <tr>\n",
       "      <th>141</th>\n",
       "      <td>Azerbaijan</td>\n",
       "      <td>Population with basic handwashing facilities a...</td>\n",
       "      <td>2014</td>\n",
       "      <td>Total</td>\n",
       "      <td>83.24</td>\n",
       "    </tr>\n",
       "    <tr>\n",
       "      <th>...</th>\n",
       "      <td>...</td>\n",
       "      <td>...</td>\n",
       "      <td>...</td>\n",
       "      <td>...</td>\n",
       "      <td>...</td>\n",
       "    </tr>\n",
       "    <tr>\n",
       "      <th>2597</th>\n",
       "      <td>Vanuatu</td>\n",
       "      <td>Population with basic handwashing facilities a...</td>\n",
       "      <td>2014</td>\n",
       "      <td>Total</td>\n",
       "      <td>25.12</td>\n",
       "    </tr>\n",
       "    <tr>\n",
       "      <th>2624</th>\n",
       "      <td>Viet Nam</td>\n",
       "      <td>Population with basic handwashing facilities a...</td>\n",
       "      <td>2014</td>\n",
       "      <td>Total</td>\n",
       "      <td>85.63</td>\n",
       "    </tr>\n",
       "    <tr>\n",
       "      <th>2663</th>\n",
       "      <td>Yemen</td>\n",
       "      <td>Population with basic handwashing facilities a...</td>\n",
       "      <td>2014</td>\n",
       "      <td>Total</td>\n",
       "      <td>48.93</td>\n",
       "    </tr>\n",
       "    <tr>\n",
       "      <th>2690</th>\n",
       "      <td>Zambia</td>\n",
       "      <td>Population with basic handwashing facilities a...</td>\n",
       "      <td>2014</td>\n",
       "      <td>Total</td>\n",
       "      <td>13.61</td>\n",
       "    </tr>\n",
       "    <tr>\n",
       "      <th>2714</th>\n",
       "      <td>Zimbabwe</td>\n",
       "      <td>Population with basic handwashing facilities a...</td>\n",
       "      <td>2014</td>\n",
       "      <td>Total</td>\n",
       "      <td>36.84</td>\n",
       "    </tr>\n",
       "  </tbody>\n",
       "</table>\n",
       "<p>94 rows × 5 columns</p>\n",
       "</div>"
      ],
      "text/plain": [
       "         Location                                          Indicator  Period  \\\n",
       "9     Afghanistan  Population with basic handwashing facilities a...    2014   \n",
       "48        Algeria  Population with basic handwashing facilities a...    2014   \n",
       "75         Angola  Population with basic handwashing facilities a...    2014   \n",
       "93        Armenia  Population with basic handwashing facilities a...    2014   \n",
       "141    Azerbaijan  Population with basic handwashing facilities a...    2014   \n",
       "...           ...                                                ...     ...   \n",
       "2597      Vanuatu  Population with basic handwashing facilities a...    2014   \n",
       "2624     Viet Nam  Population with basic handwashing facilities a...    2014   \n",
       "2663        Yemen  Population with basic handwashing facilities a...    2014   \n",
       "2690       Zambia  Population with basic handwashing facilities a...    2014   \n",
       "2714     Zimbabwe  Population with basic handwashing facilities a...    2014   \n",
       "\n",
       "       Dim1  First Tooltip  \n",
       "9     Total          37.52  \n",
       "48    Total          83.47  \n",
       "75    Total          26.23  \n",
       "93    Total          92.06  \n",
       "141   Total          83.24  \n",
       "...     ...            ...  \n",
       "2597  Total          25.12  \n",
       "2624  Total          85.63  \n",
       "2663  Total          48.93  \n",
       "2690  Total          13.61  \n",
       "2714  Total          36.84  \n",
       "\n",
       "[94 rows x 5 columns]"
      ]
     },
     "execution_count": 147,
     "metadata": {},
     "output_type": "execute_result"
    }
   ],
   "source": [
    "hand_data_2014 = hand_data_tot[hand_data_tot['Period'] == 2014]\n",
    "hand_data_2014"
   ]
  },
  {
   "cell_type": "markdown",
   "metadata": {},
   "source": [
    "## Dataset to export"
   ]
  },
  {
   "cell_type": "code",
   "execution_count": 148,
   "metadata": {},
   "outputs": [
    {
     "data": {
      "text/html": [
       "<div>\n",
       "<style scoped>\n",
       "    .dataframe tbody tr th:only-of-type {\n",
       "        vertical-align: middle;\n",
       "    }\n",
       "\n",
       "    .dataframe tbody tr th {\n",
       "        vertical-align: top;\n",
       "    }\n",
       "\n",
       "    .dataframe thead th {\n",
       "        text-align: right;\n",
       "    }\n",
       "</style>\n",
       "<table border=\"1\" class=\"dataframe\">\n",
       "  <thead>\n",
       "    <tr style=\"text-align: right;\">\n",
       "      <th></th>\n",
       "      <th>Location</th>\n",
       "      <th>Indicator</th>\n",
       "      <th>Period</th>\n",
       "      <th>Dim1</th>\n",
       "      <th>First Tooltip</th>\n",
       "    </tr>\n",
       "  </thead>\n",
       "  <tbody>\n",
       "    <tr>\n",
       "      <th>12</th>\n",
       "      <td>Afghanistan</td>\n",
       "      <td>Population with basic handwashing facilities a...</td>\n",
       "      <td>2013</td>\n",
       "      <td>Total</td>\n",
       "      <td>37.44</td>\n",
       "    </tr>\n",
       "    <tr>\n",
       "      <th>51</th>\n",
       "      <td>Algeria</td>\n",
       "      <td>Population with basic handwashing facilities a...</td>\n",
       "      <td>2013</td>\n",
       "      <td>Total</td>\n",
       "      <td>83.37</td>\n",
       "    </tr>\n",
       "    <tr>\n",
       "      <th>78</th>\n",
       "      <td>Angola</td>\n",
       "      <td>Population with basic handwashing facilities a...</td>\n",
       "      <td>2013</td>\n",
       "      <td>Total</td>\n",
       "      <td>26.08</td>\n",
       "    </tr>\n",
       "    <tr>\n",
       "      <th>96</th>\n",
       "      <td>Armenia</td>\n",
       "      <td>Population with basic handwashing facilities a...</td>\n",
       "      <td>2013</td>\n",
       "      <td>Total</td>\n",
       "      <td>91.41</td>\n",
       "    </tr>\n",
       "    <tr>\n",
       "      <th>142</th>\n",
       "      <td>Azerbaijan</td>\n",
       "      <td>Population with basic handwashing facilities a...</td>\n",
       "      <td>2013</td>\n",
       "      <td>Total</td>\n",
       "      <td>83.24</td>\n",
       "    </tr>\n",
       "    <tr>\n",
       "      <th>...</th>\n",
       "      <td>...</td>\n",
       "      <td>...</td>\n",
       "      <td>...</td>\n",
       "      <td>...</td>\n",
       "      <td>...</td>\n",
       "    </tr>\n",
       "    <tr>\n",
       "      <th>2600</th>\n",
       "      <td>Vanuatu</td>\n",
       "      <td>Population with basic handwashing facilities a...</td>\n",
       "      <td>2013</td>\n",
       "      <td>Total</td>\n",
       "      <td>25.09</td>\n",
       "    </tr>\n",
       "    <tr>\n",
       "      <th>2627</th>\n",
       "      <td>Viet Nam</td>\n",
       "      <td>Population with basic handwashing facilities a...</td>\n",
       "      <td>2013</td>\n",
       "      <td>Total</td>\n",
       "      <td>85.56</td>\n",
       "    </tr>\n",
       "    <tr>\n",
       "      <th>2666</th>\n",
       "      <td>Yemen</td>\n",
       "      <td>Population with basic handwashing facilities a...</td>\n",
       "      <td>2013</td>\n",
       "      <td>Total</td>\n",
       "      <td>48.72</td>\n",
       "    </tr>\n",
       "    <tr>\n",
       "      <th>2693</th>\n",
       "      <td>Zambia</td>\n",
       "      <td>Population with basic handwashing facilities a...</td>\n",
       "      <td>2013</td>\n",
       "      <td>Total</td>\n",
       "      <td>13.51</td>\n",
       "    </tr>\n",
       "    <tr>\n",
       "      <th>2717</th>\n",
       "      <td>Zimbabwe</td>\n",
       "      <td>Population with basic handwashing facilities a...</td>\n",
       "      <td>2013</td>\n",
       "      <td>Total</td>\n",
       "      <td>36.86</td>\n",
       "    </tr>\n",
       "  </tbody>\n",
       "</table>\n",
       "<p>93 rows × 5 columns</p>\n",
       "</div>"
      ],
      "text/plain": [
       "         Location                                          Indicator  Period  \\\n",
       "12    Afghanistan  Population with basic handwashing facilities a...    2013   \n",
       "51        Algeria  Population with basic handwashing facilities a...    2013   \n",
       "78         Angola  Population with basic handwashing facilities a...    2013   \n",
       "96        Armenia  Population with basic handwashing facilities a...    2013   \n",
       "142    Azerbaijan  Population with basic handwashing facilities a...    2013   \n",
       "...           ...                                                ...     ...   \n",
       "2600      Vanuatu  Population with basic handwashing facilities a...    2013   \n",
       "2627     Viet Nam  Population with basic handwashing facilities a...    2013   \n",
       "2666        Yemen  Population with basic handwashing facilities a...    2013   \n",
       "2693       Zambia  Population with basic handwashing facilities a...    2013   \n",
       "2717     Zimbabwe  Population with basic handwashing facilities a...    2013   \n",
       "\n",
       "       Dim1  First Tooltip  \n",
       "12    Total          37.44  \n",
       "51    Total          83.37  \n",
       "78    Total          26.08  \n",
       "96    Total          91.41  \n",
       "142   Total          83.24  \n",
       "...     ...            ...  \n",
       "2600  Total          25.09  \n",
       "2627  Total          85.56  \n",
       "2666  Total          48.72  \n",
       "2693  Total          13.51  \n",
       "2717  Total          36.86  \n",
       "\n",
       "[93 rows x 5 columns]"
      ]
     },
     "execution_count": 148,
     "metadata": {},
     "output_type": "execute_result"
    }
   ],
   "source": [
    "hand_data_2013 = hand_data_tot[hand_data_tot['Period'] == 2013]\n",
    "hand_data_2013"
   ]
  },
  {
   "cell_type": "code",
   "execution_count": null,
   "metadata": {},
   "outputs": [],
   "source": []
  },
  {
   "cell_type": "markdown",
   "metadata": {},
   "source": [
    "## Birth Attended by Skilled Personnel"
   ]
  },
  {
   "cell_type": "code",
   "execution_count": 155,
   "metadata": {},
   "outputs": [
    {
     "data": {
      "text/html": [
       "<div>\n",
       "<style scoped>\n",
       "    .dataframe tbody tr th:only-of-type {\n",
       "        vertical-align: middle;\n",
       "    }\n",
       "\n",
       "    .dataframe tbody tr th {\n",
       "        vertical-align: top;\n",
       "    }\n",
       "\n",
       "    .dataframe thead th {\n",
       "        text-align: right;\n",
       "    }\n",
       "</style>\n",
       "<table border=\"1\" class=\"dataframe\">\n",
       "  <thead>\n",
       "    <tr style=\"text-align: right;\">\n",
       "      <th></th>\n",
       "      <th>Location</th>\n",
       "      <th>Period</th>\n",
       "      <th>Indicator</th>\n",
       "      <th>First Tooltip</th>\n",
       "    </tr>\n",
       "  </thead>\n",
       "  <tbody>\n",
       "    <tr>\n",
       "      <th>0</th>\n",
       "      <td>Afghanistan</td>\n",
       "      <td>2018</td>\n",
       "      <td>Births attended by skilled health personnel (%)</td>\n",
       "      <td>58.8</td>\n",
       "    </tr>\n",
       "    <tr>\n",
       "      <th>1</th>\n",
       "      <td>Afghanistan</td>\n",
       "      <td>2017</td>\n",
       "      <td>Births attended by skilled health personnel (%)</td>\n",
       "      <td>53.4</td>\n",
       "    </tr>\n",
       "    <tr>\n",
       "      <th>2</th>\n",
       "      <td>Afghanistan</td>\n",
       "      <td>2015</td>\n",
       "      <td>Births attended by skilled health personnel (%)</td>\n",
       "      <td>50.5</td>\n",
       "    </tr>\n",
       "    <tr>\n",
       "      <th>3</th>\n",
       "      <td>Afghanistan</td>\n",
       "      <td>2014</td>\n",
       "      <td>Births attended by skilled health personnel (%)</td>\n",
       "      <td>45.2</td>\n",
       "    </tr>\n",
       "    <tr>\n",
       "      <th>4</th>\n",
       "      <td>Afghanistan</td>\n",
       "      <td>2012</td>\n",
       "      <td>Births attended by skilled health personnel (%)</td>\n",
       "      <td>39.9</td>\n",
       "    </tr>\n",
       "    <tr>\n",
       "      <th>...</th>\n",
       "      <td>...</td>\n",
       "      <td>...</td>\n",
       "      <td>...</td>\n",
       "      <td>...</td>\n",
       "    </tr>\n",
       "    <tr>\n",
       "      <th>1750</th>\n",
       "      <td>Zimbabwe</td>\n",
       "      <td>2015</td>\n",
       "      <td>Births attended by skilled health personnel (%)</td>\n",
       "      <td>78.1</td>\n",
       "    </tr>\n",
       "    <tr>\n",
       "      <th>1751</th>\n",
       "      <td>Zimbabwe</td>\n",
       "      <td>2014</td>\n",
       "      <td>Births attended by skilled health personnel (%)</td>\n",
       "      <td>80.0</td>\n",
       "    </tr>\n",
       "    <tr>\n",
       "      <th>1752</th>\n",
       "      <td>Zimbabwe</td>\n",
       "      <td>2011</td>\n",
       "      <td>Births attended by skilled health personnel (%)</td>\n",
       "      <td>66.2</td>\n",
       "    </tr>\n",
       "    <tr>\n",
       "      <th>1753</th>\n",
       "      <td>Zimbabwe</td>\n",
       "      <td>2009</td>\n",
       "      <td>Births attended by skilled health personnel (%)</td>\n",
       "      <td>60.2</td>\n",
       "    </tr>\n",
       "    <tr>\n",
       "      <th>1754</th>\n",
       "      <td>Zimbabwe</td>\n",
       "      <td>2006</td>\n",
       "      <td>Births attended by skilled health personnel (%)</td>\n",
       "      <td>68.5</td>\n",
       "    </tr>\n",
       "  </tbody>\n",
       "</table>\n",
       "<p>1755 rows × 4 columns</p>\n",
       "</div>"
      ],
      "text/plain": [
       "         Location  Period                                        Indicator  \\\n",
       "0     Afghanistan    2018  Births attended by skilled health personnel (%)   \n",
       "1     Afghanistan    2017  Births attended by skilled health personnel (%)   \n",
       "2     Afghanistan    2015  Births attended by skilled health personnel (%)   \n",
       "3     Afghanistan    2014  Births attended by skilled health personnel (%)   \n",
       "4     Afghanistan    2012  Births attended by skilled health personnel (%)   \n",
       "...           ...     ...                                              ...   \n",
       "1750     Zimbabwe    2015  Births attended by skilled health personnel (%)   \n",
       "1751     Zimbabwe    2014  Births attended by skilled health personnel (%)   \n",
       "1752     Zimbabwe    2011  Births attended by skilled health personnel (%)   \n",
       "1753     Zimbabwe    2009  Births attended by skilled health personnel (%)   \n",
       "1754     Zimbabwe    2006  Births attended by skilled health personnel (%)   \n",
       "\n",
       "      First Tooltip  \n",
       "0              58.8  \n",
       "1              53.4  \n",
       "2              50.5  \n",
       "3              45.2  \n",
       "4              39.9  \n",
       "...             ...  \n",
       "1750           78.1  \n",
       "1751           80.0  \n",
       "1752           66.2  \n",
       "1753           60.2  \n",
       "1754           68.5  \n",
       "\n",
       "[1755 rows x 4 columns]"
      ]
     },
     "execution_count": 155,
     "metadata": {},
     "output_type": "execute_result"
    }
   ],
   "source": [
    "basp_data = pd.read_csv(WHS_path/'birthAttendedBySkilledPersonal.csv')\n",
    "basp_data"
   ]
  },
  {
   "cell_type": "code",
   "execution_count": 156,
   "metadata": {},
   "outputs": [
    {
     "data": {
      "text/plain": [
       "Location         1755\n",
       "Period           1755\n",
       "Indicator        1755\n",
       "First Tooltip    1755\n",
       "dtype: int64"
      ]
     },
     "execution_count": 156,
     "metadata": {},
     "output_type": "execute_result"
    }
   ],
   "source": [
    "basp_data.isnull().count()"
   ]
  },
  {
   "cell_type": "code",
   "execution_count": 157,
   "metadata": {},
   "outputs": [
    {
     "data": {
      "text/plain": [
       "array(['Births attended by skilled health personnel (%)'], dtype=object)"
      ]
     },
     "execution_count": 157,
     "metadata": {},
     "output_type": "execute_result"
    }
   ],
   "source": [
    "basp_data['Indicator'].unique()"
   ]
  },
  {
   "cell_type": "code",
   "execution_count": 184,
   "metadata": {},
   "outputs": [
    {
     "data": {
      "text/plain": [
       "Location         0\n",
       "Period           0\n",
       "Indicator        0\n",
       "First Tooltip    0\n",
       "dtype: int64"
      ]
     },
     "execution_count": 184,
     "metadata": {},
     "output_type": "execute_result"
    }
   ],
   "source": [
    "basp_data[basp_data['First Tooltip'] == 0.0].count()"
   ]
  },
  {
   "cell_type": "markdown",
   "metadata": {},
   "source": [
    "The best aren't next to each other. They are 2014, 2010, and 2006. Of those next to each other, 2006 and 2007 are the winners."
   ]
  },
  {
   "cell_type": "code",
   "execution_count": 160,
   "metadata": {},
   "outputs": [
    {
     "data": {
      "text/plain": [
       "array([2018, 2017, 2015, 2014, 2012, 2011, 2010, 2003, 2009, 2005, 2013,\n",
       "       2006, 2016, 2007, 2008, 2004, 2001, 2000, 2002, 2019])"
      ]
     },
     "execution_count": 160,
     "metadata": {},
     "output_type": "execute_result"
    }
   ],
   "source": [
    "basp_data['Period'].unique()"
   ]
  },
  {
   "cell_type": "code",
   "execution_count": 161,
   "metadata": {},
   "outputs": [
    {
     "data": {
      "text/plain": [
       "Location         6\n",
       "Period           6\n",
       "Indicator        6\n",
       "First Tooltip    6\n",
       "dtype: int64"
      ]
     },
     "execution_count": 161,
     "metadata": {},
     "output_type": "execute_result"
    }
   ],
   "source": [
    "basp_data[basp_data['Period'] == 2019].count()"
   ]
  },
  {
   "cell_type": "code",
   "execution_count": 162,
   "metadata": {},
   "outputs": [
    {
     "data": {
      "text/plain": [
       "Location         60\n",
       "Period           60\n",
       "Indicator        60\n",
       "First Tooltip    60\n",
       "dtype: int64"
      ]
     },
     "execution_count": 162,
     "metadata": {},
     "output_type": "execute_result"
    }
   ],
   "source": [
    "basp_data[basp_data['Period'] == 2018].count()"
   ]
  },
  {
   "cell_type": "code",
   "execution_count": 163,
   "metadata": {},
   "outputs": [
    {
     "data": {
      "text/plain": [
       "Location         81\n",
       "Period           81\n",
       "Indicator        81\n",
       "First Tooltip    81\n",
       "dtype: int64"
      ]
     },
     "execution_count": 163,
     "metadata": {},
     "output_type": "execute_result"
    }
   ],
   "source": [
    "basp_data[basp_data['Period'] == 2017].count()"
   ]
  },
  {
   "cell_type": "code",
   "execution_count": 164,
   "metadata": {},
   "outputs": [
    {
     "data": {
      "text/plain": [
       "Location         90\n",
       "Period           90\n",
       "Indicator        90\n",
       "First Tooltip    90\n",
       "dtype: int64"
      ]
     },
     "execution_count": 164,
     "metadata": {},
     "output_type": "execute_result"
    }
   ],
   "source": [
    "basp_data[basp_data['Period'] == 2016].count()"
   ]
  },
  {
   "cell_type": "code",
   "execution_count": 165,
   "metadata": {},
   "outputs": [
    {
     "data": {
      "text/plain": [
       "Location         94\n",
       "Period           94\n",
       "Indicator        94\n",
       "First Tooltip    94\n",
       "dtype: int64"
      ]
     },
     "execution_count": 165,
     "metadata": {},
     "output_type": "execute_result"
    }
   ],
   "source": [
    "basp_data[basp_data['Period'] == 2015].count()"
   ]
  },
  {
   "cell_type": "code",
   "execution_count": 166,
   "metadata": {},
   "outputs": [
    {
     "data": {
      "text/plain": [
       "Location         112\n",
       "Period           112\n",
       "Indicator        112\n",
       "First Tooltip    112\n",
       "dtype: int64"
      ]
     },
     "execution_count": 166,
     "metadata": {},
     "output_type": "execute_result"
    }
   ],
   "source": [
    "basp_data[basp_data['Period'] == 2014].count()"
   ]
  },
  {
   "cell_type": "code",
   "execution_count": 167,
   "metadata": {},
   "outputs": [
    {
     "data": {
      "text/plain": [
       "Location         98\n",
       "Period           98\n",
       "Indicator        98\n",
       "First Tooltip    98\n",
       "dtype: int64"
      ]
     },
     "execution_count": 167,
     "metadata": {},
     "output_type": "execute_result"
    }
   ],
   "source": [
    "basp_data[basp_data['Period'] == 2013].count()"
   ]
  },
  {
   "cell_type": "code",
   "execution_count": 168,
   "metadata": {},
   "outputs": [
    {
     "data": {
      "text/plain": [
       "Location         104\n",
       "Period           104\n",
       "Indicator        104\n",
       "First Tooltip    104\n",
       "dtype: int64"
      ]
     },
     "execution_count": 168,
     "metadata": {},
     "output_type": "execute_result"
    }
   ],
   "source": [
    "basp_data[basp_data['Period'] == 2012].count()"
   ]
  },
  {
   "cell_type": "code",
   "execution_count": 169,
   "metadata": {},
   "outputs": [
    {
     "data": {
      "text/plain": [
       "Location         103\n",
       "Period           103\n",
       "Indicator        103\n",
       "First Tooltip    103\n",
       "dtype: int64"
      ]
     },
     "execution_count": 169,
     "metadata": {},
     "output_type": "execute_result"
    }
   ],
   "source": [
    "basp_data[basp_data['Period'] == 2011].count()"
   ]
  },
  {
   "cell_type": "code",
   "execution_count": 170,
   "metadata": {},
   "outputs": [
    {
     "data": {
      "text/plain": [
       "Location         113\n",
       "Period           113\n",
       "Indicator        113\n",
       "First Tooltip    113\n",
       "dtype: int64"
      ]
     },
     "execution_count": 170,
     "metadata": {},
     "output_type": "execute_result"
    }
   ],
   "source": [
    "basp_data[basp_data['Period'] == 2010].count()"
   ]
  },
  {
   "cell_type": "code",
   "execution_count": 171,
   "metadata": {},
   "outputs": [
    {
     "data": {
      "text/plain": [
       "Location         102\n",
       "Period           102\n",
       "Indicator        102\n",
       "First Tooltip    102\n",
       "dtype: int64"
      ]
     },
     "execution_count": 171,
     "metadata": {},
     "output_type": "execute_result"
    }
   ],
   "source": [
    "basp_data[basp_data['Period'] == 2009].count()"
   ]
  },
  {
   "cell_type": "code",
   "execution_count": 172,
   "metadata": {},
   "outputs": [
    {
     "data": {
      "text/plain": [
       "Location         99\n",
       "Period           99\n",
       "Indicator        99\n",
       "First Tooltip    99\n",
       "dtype: int64"
      ]
     },
     "execution_count": 172,
     "metadata": {},
     "output_type": "execute_result"
    }
   ],
   "source": [
    "basp_data[basp_data['Period'] == 2008].count()"
   ]
  },
  {
   "cell_type": "code",
   "execution_count": 173,
   "metadata": {},
   "outputs": [
    {
     "data": {
      "text/plain": [
       "Location         107\n",
       "Period           107\n",
       "Indicator        107\n",
       "First Tooltip    107\n",
       "dtype: int64"
      ]
     },
     "execution_count": 173,
     "metadata": {},
     "output_type": "execute_result"
    }
   ],
   "source": [
    "basp_data[basp_data['Period'] == 2007].count()"
   ]
  },
  {
   "cell_type": "code",
   "execution_count": 174,
   "metadata": {},
   "outputs": [
    {
     "data": {
      "text/plain": [
       "Location         118\n",
       "Period           118\n",
       "Indicator        118\n",
       "First Tooltip    118\n",
       "dtype: int64"
      ]
     },
     "execution_count": 174,
     "metadata": {},
     "output_type": "execute_result"
    }
   ],
   "source": [
    "basp_data[basp_data['Period'] == 2006].count()"
   ]
  },
  {
   "cell_type": "code",
   "execution_count": 175,
   "metadata": {},
   "outputs": [
    {
     "data": {
      "text/plain": [
       "Location         99\n",
       "Period           99\n",
       "Indicator        99\n",
       "First Tooltip    99\n",
       "dtype: int64"
      ]
     },
     "execution_count": 175,
     "metadata": {},
     "output_type": "execute_result"
    }
   ],
   "source": [
    "basp_data[basp_data['Period'] == 2005].count()"
   ]
  },
  {
   "cell_type": "code",
   "execution_count": 176,
   "metadata": {},
   "outputs": [
    {
     "data": {
      "text/plain": [
       "Location         78\n",
       "Period           78\n",
       "Indicator        78\n",
       "First Tooltip    78\n",
       "dtype: int64"
      ]
     },
     "execution_count": 176,
     "metadata": {},
     "output_type": "execute_result"
    }
   ],
   "source": [
    "basp_data[basp_data['Period'] == 2004].count()"
   ]
  },
  {
   "cell_type": "code",
   "execution_count": 177,
   "metadata": {},
   "outputs": [
    {
     "data": {
      "text/plain": [
       "Location         77\n",
       "Period           77\n",
       "Indicator        77\n",
       "First Tooltip    77\n",
       "dtype: int64"
      ]
     },
     "execution_count": 177,
     "metadata": {},
     "output_type": "execute_result"
    }
   ],
   "source": [
    "basp_data[basp_data['Period'] == 2003].count()"
   ]
  },
  {
   "cell_type": "code",
   "execution_count": 178,
   "metadata": {},
   "outputs": [
    {
     "data": {
      "text/plain": [
       "Location         75\n",
       "Period           75\n",
       "Indicator        75\n",
       "First Tooltip    75\n",
       "dtype: int64"
      ]
     },
     "execution_count": 178,
     "metadata": {},
     "output_type": "execute_result"
    }
   ],
   "source": [
    "basp_data[basp_data['Period'] == 2002].count()"
   ]
  },
  {
   "cell_type": "code",
   "execution_count": 179,
   "metadata": {},
   "outputs": [
    {
     "data": {
      "text/plain": [
       "Location         63\n",
       "Period           63\n",
       "Indicator        63\n",
       "First Tooltip    63\n",
       "dtype: int64"
      ]
     },
     "execution_count": 179,
     "metadata": {},
     "output_type": "execute_result"
    }
   ],
   "source": [
    "basp_data[basp_data['Period'] == 2001].count()"
   ]
  },
  {
   "cell_type": "code",
   "execution_count": 180,
   "metadata": {},
   "outputs": [
    {
     "data": {
      "text/plain": [
       "Location         76\n",
       "Period           76\n",
       "Indicator        76\n",
       "First Tooltip    76\n",
       "dtype: int64"
      ]
     },
     "execution_count": 180,
     "metadata": {},
     "output_type": "execute_result"
    }
   ],
   "source": [
    "basp_data[basp_data['Period'] == 2000].count()"
   ]
  },
  {
   "cell_type": "markdown",
   "metadata": {},
   "source": [
    "## Dataset to export"
   ]
  },
  {
   "cell_type": "code",
   "execution_count": 197,
   "metadata": {},
   "outputs": [
    {
     "data": {
      "text/html": [
       "<div>\n",
       "<style scoped>\n",
       "    .dataframe tbody tr th:only-of-type {\n",
       "        vertical-align: middle;\n",
       "    }\n",
       "\n",
       "    .dataframe tbody tr th {\n",
       "        vertical-align: top;\n",
       "    }\n",
       "\n",
       "    .dataframe thead th {\n",
       "        text-align: right;\n",
       "    }\n",
       "</style>\n",
       "<table border=\"1\" class=\"dataframe\">\n",
       "  <thead>\n",
       "    <tr style=\"text-align: right;\">\n",
       "      <th></th>\n",
       "      <th>Location</th>\n",
       "      <th>Period</th>\n",
       "      <th>Indicator</th>\n",
       "      <th>First Tooltip</th>\n",
       "    </tr>\n",
       "  </thead>\n",
       "  <tbody>\n",
       "    <tr>\n",
       "      <th>17</th>\n",
       "      <td>Angola</td>\n",
       "      <td>2007</td>\n",
       "      <td>Births attended by skilled health personnel (%)</td>\n",
       "      <td>47.3</td>\n",
       "    </tr>\n",
       "    <tr>\n",
       "      <th>26</th>\n",
       "      <td>Antigua and Barbuda</td>\n",
       "      <td>2007</td>\n",
       "      <td>Births attended by skilled health personnel (%)</td>\n",
       "      <td>100.0</td>\n",
       "    </tr>\n",
       "    <tr>\n",
       "      <th>43</th>\n",
       "      <td>Argentina</td>\n",
       "      <td>2007</td>\n",
       "      <td>Births attended by skilled health personnel (%)</td>\n",
       "      <td>99.4</td>\n",
       "    </tr>\n",
       "    <tr>\n",
       "      <th>59</th>\n",
       "      <td>Armenia</td>\n",
       "      <td>2007</td>\n",
       "      <td>Births attended by skilled health personnel (%)</td>\n",
       "      <td>99.9</td>\n",
       "    </tr>\n",
       "    <tr>\n",
       "      <th>76</th>\n",
       "      <td>Australia</td>\n",
       "      <td>2007</td>\n",
       "      <td>Births attended by skilled health personnel (%)</td>\n",
       "      <td>99.2</td>\n",
       "    </tr>\n",
       "    <tr>\n",
       "      <th>...</th>\n",
       "      <td>...</td>\n",
       "      <td>...</td>\n",
       "      <td>...</td>\n",
       "      <td>...</td>\n",
       "    </tr>\n",
       "    <tr>\n",
       "      <th>1684</th>\n",
       "      <td>United States of America</td>\n",
       "      <td>2007</td>\n",
       "      <td>Births attended by skilled health personnel (%)</td>\n",
       "      <td>99.3</td>\n",
       "    </tr>\n",
       "    <tr>\n",
       "      <th>1702</th>\n",
       "      <td>Uruguay</td>\n",
       "      <td>2007</td>\n",
       "      <td>Births attended by skilled health personnel (%)</td>\n",
       "      <td>98.6</td>\n",
       "    </tr>\n",
       "    <tr>\n",
       "      <th>1721</th>\n",
       "      <td>Uzbekistan</td>\n",
       "      <td>2007</td>\n",
       "      <td>Births attended by skilled health personnel (%)</td>\n",
       "      <td>100.0</td>\n",
       "    </tr>\n",
       "    <tr>\n",
       "      <th>1729</th>\n",
       "      <td>Vanuatu</td>\n",
       "      <td>2007</td>\n",
       "      <td>Births attended by skilled health personnel (%)</td>\n",
       "      <td>74.0</td>\n",
       "    </tr>\n",
       "    <tr>\n",
       "      <th>1748</th>\n",
       "      <td>Zambia</td>\n",
       "      <td>2007</td>\n",
       "      <td>Births attended by skilled health personnel (%)</td>\n",
       "      <td>45.2</td>\n",
       "    </tr>\n",
       "  </tbody>\n",
       "</table>\n",
       "<p>107 rows × 4 columns</p>\n",
       "</div>"
      ],
      "text/plain": [
       "                      Location  Period  \\\n",
       "17                      Angola    2007   \n",
       "26         Antigua and Barbuda    2007   \n",
       "43                   Argentina    2007   \n",
       "59                     Armenia    2007   \n",
       "76                   Australia    2007   \n",
       "...                        ...     ...   \n",
       "1684  United States of America    2007   \n",
       "1702                   Uruguay    2007   \n",
       "1721                Uzbekistan    2007   \n",
       "1729                   Vanuatu    2007   \n",
       "1748                    Zambia    2007   \n",
       "\n",
       "                                            Indicator  First Tooltip  \n",
       "17    Births attended by skilled health personnel (%)           47.3  \n",
       "26    Births attended by skilled health personnel (%)          100.0  \n",
       "43    Births attended by skilled health personnel (%)           99.4  \n",
       "59    Births attended by skilled health personnel (%)           99.9  \n",
       "76    Births attended by skilled health personnel (%)           99.2  \n",
       "...                                               ...            ...  \n",
       "1684  Births attended by skilled health personnel (%)           99.3  \n",
       "1702  Births attended by skilled health personnel (%)           98.6  \n",
       "1721  Births attended by skilled health personnel (%)          100.0  \n",
       "1729  Births attended by skilled health personnel (%)           74.0  \n",
       "1748  Births attended by skilled health personnel (%)           45.2  \n",
       "\n",
       "[107 rows x 4 columns]"
      ]
     },
     "execution_count": 197,
     "metadata": {},
     "output_type": "execute_result"
    }
   ],
   "source": [
    "basp_data_2007 = basp_data[basp_data['Period'] == 2007]\n",
    "basp_data_2007"
   ]
  },
  {
   "cell_type": "markdown",
   "metadata": {},
   "source": [
    "## Dataset to export"
   ]
  },
  {
   "cell_type": "code",
   "execution_count": 198,
   "metadata": {},
   "outputs": [
    {
     "data": {
      "text/html": [
       "<div>\n",
       "<style scoped>\n",
       "    .dataframe tbody tr th:only-of-type {\n",
       "        vertical-align: middle;\n",
       "    }\n",
       "\n",
       "    .dataframe tbody tr th {\n",
       "        vertical-align: top;\n",
       "    }\n",
       "\n",
       "    .dataframe thead th {\n",
       "        text-align: right;\n",
       "    }\n",
       "</style>\n",
       "<table border=\"1\" class=\"dataframe\">\n",
       "  <thead>\n",
       "    <tr style=\"text-align: right;\">\n",
       "      <th></th>\n",
       "      <th>Location</th>\n",
       "      <th>Period</th>\n",
       "      <th>Indicator</th>\n",
       "      <th>First Tooltip</th>\n",
       "    </tr>\n",
       "  </thead>\n",
       "  <tbody>\n",
       "    <tr>\n",
       "      <th>12</th>\n",
       "      <td>Algeria</td>\n",
       "      <td>2006</td>\n",
       "      <td>Births attended by skilled health personnel (%)</td>\n",
       "      <td>95.2</td>\n",
       "    </tr>\n",
       "    <tr>\n",
       "      <th>27</th>\n",
       "      <td>Antigua and Barbuda</td>\n",
       "      <td>2006</td>\n",
       "      <td>Births attended by skilled health personnel (%)</td>\n",
       "      <td>99.9</td>\n",
       "    </tr>\n",
       "    <tr>\n",
       "      <th>44</th>\n",
       "      <td>Argentina</td>\n",
       "      <td>2006</td>\n",
       "      <td>Births attended by skilled health personnel (%)</td>\n",
       "      <td>99.4</td>\n",
       "    </tr>\n",
       "    <tr>\n",
       "      <th>60</th>\n",
       "      <td>Armenia</td>\n",
       "      <td>2006</td>\n",
       "      <td>Births attended by skilled health personnel (%)</td>\n",
       "      <td>99.7</td>\n",
       "    </tr>\n",
       "    <tr>\n",
       "      <th>77</th>\n",
       "      <td>Australia</td>\n",
       "      <td>2006</td>\n",
       "      <td>Births attended by skilled health personnel (%)</td>\n",
       "      <td>99.3</td>\n",
       "    </tr>\n",
       "    <tr>\n",
       "      <th>...</th>\n",
       "      <td>...</td>\n",
       "      <td>...</td>\n",
       "      <td>...</td>\n",
       "      <td>...</td>\n",
       "    </tr>\n",
       "    <tr>\n",
       "      <th>1722</th>\n",
       "      <td>Uzbekistan</td>\n",
       "      <td>2006</td>\n",
       "      <td>Births attended by skilled health personnel (%)</td>\n",
       "      <td>99.6</td>\n",
       "    </tr>\n",
       "    <tr>\n",
       "      <th>1730</th>\n",
       "      <td>Vanuatu</td>\n",
       "      <td>2006</td>\n",
       "      <td>Births attended by skilled health personnel (%)</td>\n",
       "      <td>92.9</td>\n",
       "    </tr>\n",
       "    <tr>\n",
       "      <th>1743</th>\n",
       "      <td>Viet Nam</td>\n",
       "      <td>2006</td>\n",
       "      <td>Births attended by skilled health personnel (%)</td>\n",
       "      <td>83.8</td>\n",
       "    </tr>\n",
       "    <tr>\n",
       "      <th>1746</th>\n",
       "      <td>Yemen</td>\n",
       "      <td>2006</td>\n",
       "      <td>Births attended by skilled health personnel (%)</td>\n",
       "      <td>35.7</td>\n",
       "    </tr>\n",
       "    <tr>\n",
       "      <th>1754</th>\n",
       "      <td>Zimbabwe</td>\n",
       "      <td>2006</td>\n",
       "      <td>Births attended by skilled health personnel (%)</td>\n",
       "      <td>68.5</td>\n",
       "    </tr>\n",
       "  </tbody>\n",
       "</table>\n",
       "<p>118 rows × 4 columns</p>\n",
       "</div>"
      ],
      "text/plain": [
       "                 Location  Period  \\\n",
       "12                Algeria    2006   \n",
       "27    Antigua and Barbuda    2006   \n",
       "44              Argentina    2006   \n",
       "60                Armenia    2006   \n",
       "77              Australia    2006   \n",
       "...                   ...     ...   \n",
       "1722           Uzbekistan    2006   \n",
       "1730              Vanuatu    2006   \n",
       "1743             Viet Nam    2006   \n",
       "1746                Yemen    2006   \n",
       "1754             Zimbabwe    2006   \n",
       "\n",
       "                                            Indicator  First Tooltip  \n",
       "12    Births attended by skilled health personnel (%)           95.2  \n",
       "27    Births attended by skilled health personnel (%)           99.9  \n",
       "44    Births attended by skilled health personnel (%)           99.4  \n",
       "60    Births attended by skilled health personnel (%)           99.7  \n",
       "77    Births attended by skilled health personnel (%)           99.3  \n",
       "...                                               ...            ...  \n",
       "1722  Births attended by skilled health personnel (%)           99.6  \n",
       "1730  Births attended by skilled health personnel (%)           92.9  \n",
       "1743  Births attended by skilled health personnel (%)           83.8  \n",
       "1746  Births attended by skilled health personnel (%)           35.7  \n",
       "1754  Births attended by skilled health personnel (%)           68.5  \n",
       "\n",
       "[118 rows x 4 columns]"
      ]
     },
     "execution_count": 198,
     "metadata": {},
     "output_type": "execute_result"
    }
   ],
   "source": [
    "basp_data_2006= basp_data[basp_data['Period'] == 2006]\n",
    "basp_data_2006"
   ]
  },
  {
   "cell_type": "code",
   "execution_count": null,
   "metadata": {},
   "outputs": [],
   "source": []
  },
  {
   "cell_type": "markdown",
   "metadata": {},
   "source": [
    "## Clean Fuel and Tech - IGNORE"
   ]
  },
  {
   "cell_type": "code",
   "execution_count": null,
   "metadata": {},
   "outputs": [],
   "source": []
  },
  {
   "cell_type": "markdown",
   "metadata": {},
   "source": [
    "## Crude Suicide Rates - IGNORE"
   ]
  },
  {
   "cell_type": "code",
   "execution_count": null,
   "metadata": {},
   "outputs": [],
   "source": []
  },
  {
   "cell_type": "markdown",
   "metadata": {},
   "source": [
    "## Data Availability for UHC - IGNORE"
   ]
  },
  {
   "cell_type": "code",
   "execution_count": null,
   "metadata": {},
   "outputs": [],
   "source": []
  },
  {
   "cell_type": "markdown",
   "metadata": {},
   "source": [
    "## Dentists"
   ]
  },
  {
   "cell_type": "code",
   "execution_count": 200,
   "metadata": {},
   "outputs": [
    {
     "data": {
      "text/html": [
       "<div>\n",
       "<style scoped>\n",
       "    .dataframe tbody tr th:only-of-type {\n",
       "        vertical-align: middle;\n",
       "    }\n",
       "\n",
       "    .dataframe tbody tr th {\n",
       "        vertical-align: top;\n",
       "    }\n",
       "\n",
       "    .dataframe thead th {\n",
       "        text-align: right;\n",
       "    }\n",
       "</style>\n",
       "<table border=\"1\" class=\"dataframe\">\n",
       "  <thead>\n",
       "    <tr style=\"text-align: right;\">\n",
       "      <th></th>\n",
       "      <th>Location</th>\n",
       "      <th>Period</th>\n",
       "      <th>Indicator</th>\n",
       "      <th>First Tooltip</th>\n",
       "    </tr>\n",
       "  </thead>\n",
       "  <tbody>\n",
       "    <tr>\n",
       "      <th>0</th>\n",
       "      <td>Afghanistan</td>\n",
       "      <td>2016</td>\n",
       "      <td>Dentists (per 10,000)</td>\n",
       "      <td>0.034</td>\n",
       "    </tr>\n",
       "    <tr>\n",
       "      <th>1</th>\n",
       "      <td>Afghanistan</td>\n",
       "      <td>2015</td>\n",
       "      <td>Dentists (per 10,000)</td>\n",
       "      <td>0.036</td>\n",
       "    </tr>\n",
       "    <tr>\n",
       "      <th>2</th>\n",
       "      <td>Afghanistan</td>\n",
       "      <td>2014</td>\n",
       "      <td>Dentists (per 10,000)</td>\n",
       "      <td>0.033</td>\n",
       "    </tr>\n",
       "    <tr>\n",
       "      <th>3</th>\n",
       "      <td>Afghanistan</td>\n",
       "      <td>2008</td>\n",
       "      <td>Dentists (per 10,000)</td>\n",
       "      <td>0.140</td>\n",
       "    </tr>\n",
       "    <tr>\n",
       "      <th>4</th>\n",
       "      <td>Afghanistan</td>\n",
       "      <td>2007</td>\n",
       "      <td>Dentists (per 10,000)</td>\n",
       "      <td>0.120</td>\n",
       "    </tr>\n",
       "    <tr>\n",
       "      <th>...</th>\n",
       "      <td>...</td>\n",
       "      <td>...</td>\n",
       "      <td>...</td>\n",
       "      <td>...</td>\n",
       "    </tr>\n",
       "    <tr>\n",
       "      <th>2129</th>\n",
       "      <td>Zimbabwe</td>\n",
       "      <td>2009</td>\n",
       "      <td>Dentists (per 10,000)</td>\n",
       "      <td>0.150</td>\n",
       "    </tr>\n",
       "    <tr>\n",
       "      <th>2130</th>\n",
       "      <td>Zimbabwe</td>\n",
       "      <td>2008</td>\n",
       "      <td>Dentists (per 10,000)</td>\n",
       "      <td>0.150</td>\n",
       "    </tr>\n",
       "    <tr>\n",
       "      <th>2131</th>\n",
       "      <td>Zimbabwe</td>\n",
       "      <td>2007</td>\n",
       "      <td>Dentists (per 10,000)</td>\n",
       "      <td>0.160</td>\n",
       "    </tr>\n",
       "    <tr>\n",
       "      <th>2132</th>\n",
       "      <td>Zimbabwe</td>\n",
       "      <td>1995</td>\n",
       "      <td>Dentists (per 10,000)</td>\n",
       "      <td>0.130</td>\n",
       "    </tr>\n",
       "    <tr>\n",
       "      <th>2133</th>\n",
       "      <td>Zimbabwe</td>\n",
       "      <td>1990</td>\n",
       "      <td>Dentists (per 10,000)</td>\n",
       "      <td>0.130</td>\n",
       "    </tr>\n",
       "  </tbody>\n",
       "</table>\n",
       "<p>2134 rows × 4 columns</p>\n",
       "</div>"
      ],
      "text/plain": [
       "         Location  Period              Indicator  First Tooltip\n",
       "0     Afghanistan    2016  Dentists (per 10,000)          0.034\n",
       "1     Afghanistan    2015  Dentists (per 10,000)          0.036\n",
       "2     Afghanistan    2014  Dentists (per 10,000)          0.033\n",
       "3     Afghanistan    2008  Dentists (per 10,000)          0.140\n",
       "4     Afghanistan    2007  Dentists (per 10,000)          0.120\n",
       "...           ...     ...                    ...            ...\n",
       "2129     Zimbabwe    2009  Dentists (per 10,000)          0.150\n",
       "2130     Zimbabwe    2008  Dentists (per 10,000)          0.150\n",
       "2131     Zimbabwe    2007  Dentists (per 10,000)          0.160\n",
       "2132     Zimbabwe    1995  Dentists (per 10,000)          0.130\n",
       "2133     Zimbabwe    1990  Dentists (per 10,000)          0.130\n",
       "\n",
       "[2134 rows x 4 columns]"
      ]
     },
     "execution_count": 200,
     "metadata": {},
     "output_type": "execute_result"
    }
   ],
   "source": [
    "dentist_data = pd.read_csv(WHS_path/'dentists.csv')\n",
    "dentist_data"
   ]
  },
  {
   "cell_type": "code",
   "execution_count": 202,
   "metadata": {},
   "outputs": [
    {
     "data": {
      "text/plain": [
       "Location         2134\n",
       "Period           2134\n",
       "Indicator        2134\n",
       "First Tooltip    2134\n",
       "dtype: int64"
      ]
     },
     "execution_count": 202,
     "metadata": {},
     "output_type": "execute_result"
    }
   ],
   "source": [
    "dentist_data.isnull().count()"
   ]
  },
  {
   "cell_type": "code",
   "execution_count": 255,
   "metadata": {},
   "outputs": [
    {
     "data": {
      "text/html": [
       "<div>\n",
       "<style scoped>\n",
       "    .dataframe tbody tr th:only-of-type {\n",
       "        vertical-align: middle;\n",
       "    }\n",
       "\n",
       "    .dataframe tbody tr th {\n",
       "        vertical-align: top;\n",
       "    }\n",
       "\n",
       "    .dataframe thead th {\n",
       "        text-align: right;\n",
       "    }\n",
       "</style>\n",
       "<table border=\"1\" class=\"dataframe\">\n",
       "  <thead>\n",
       "    <tr style=\"text-align: right;\">\n",
       "      <th></th>\n",
       "      <th>Location</th>\n",
       "      <th>Period</th>\n",
       "      <th>Indicator</th>\n",
       "      <th>First Tooltip</th>\n",
       "    </tr>\n",
       "  </thead>\n",
       "  <tbody>\n",
       "  </tbody>\n",
       "</table>\n",
       "</div>"
      ],
      "text/plain": [
       "Empty DataFrame\n",
       "Columns: [Location, Period, Indicator, First Tooltip]\n",
       "Index: []"
      ]
     },
     "execution_count": 255,
     "metadata": {},
     "output_type": "execute_result"
    }
   ],
   "source": [
    "dentist_data[dentist_data['First Tooltip'] == 0.0]"
   ]
  },
  {
   "cell_type": "code",
   "execution_count": 201,
   "metadata": {},
   "outputs": [
    {
     "data": {
      "text/plain": [
       "array(['Dentists (per 10,000)'], dtype=object)"
      ]
     },
     "execution_count": 201,
     "metadata": {},
     "output_type": "execute_result"
    }
   ],
   "source": [
    "dentist_data['Indicator'].unique()"
   ]
  },
  {
   "cell_type": "markdown",
   "metadata": {},
   "source": [
    "I ignored the data from the 90s because I don't have time for that. Best consecutive datasets are 2009 and 2010."
   ]
  },
  {
   "cell_type": "code",
   "execution_count": 204,
   "metadata": {},
   "outputs": [
    {
     "data": {
      "text/plain": [
       "array([2016, 2015, 2014, 2008, 2007, 2006, 2003, 2002, 2001, 2000, 1999,\n",
       "       1998, 1997, 1996, 1995, 1994, 1993, 1992, 1991, 1990, 2018, 2005,\n",
       "       2009, 2004, 2017, 2013, 2012, 2011, 2010, 2019])"
      ]
     },
     "execution_count": 204,
     "metadata": {},
     "output_type": "execute_result"
    }
   ],
   "source": [
    "dentist_data['Period'].unique()"
   ]
  },
  {
   "cell_type": "code",
   "execution_count": 206,
   "metadata": {},
   "outputs": [
    {
     "data": {
      "text/plain": [
       "Location         32\n",
       "Period           32\n",
       "Indicator        32\n",
       "First Tooltip    32\n",
       "dtype: int64"
      ]
     },
     "execution_count": 206,
     "metadata": {},
     "output_type": "execute_result"
    }
   ],
   "source": [
    "dentist_data[dentist_data['Period'] == 2019].count()"
   ]
  },
  {
   "cell_type": "code",
   "execution_count": 207,
   "metadata": {},
   "outputs": [
    {
     "data": {
      "text/plain": [
       "Location         63\n",
       "Period           63\n",
       "Indicator        63\n",
       "First Tooltip    63\n",
       "dtype: int64"
      ]
     },
     "execution_count": 207,
     "metadata": {},
     "output_type": "execute_result"
    }
   ],
   "source": [
    "dentist_data[dentist_data['Period'] == 2018].count()"
   ]
  },
  {
   "cell_type": "code",
   "execution_count": 208,
   "metadata": {},
   "outputs": [
    {
     "data": {
      "text/plain": [
       "Location         80\n",
       "Period           80\n",
       "Indicator        80\n",
       "First Tooltip    80\n",
       "dtype: int64"
      ]
     },
     "execution_count": 208,
     "metadata": {},
     "output_type": "execute_result"
    }
   ],
   "source": [
    "dentist_data[dentist_data['Period'] == 2017].count()"
   ]
  },
  {
   "cell_type": "code",
   "execution_count": 210,
   "metadata": {},
   "outputs": [
    {
     "data": {
      "text/plain": [
       "Location         83\n",
       "Period           83\n",
       "Indicator        83\n",
       "First Tooltip    83\n",
       "dtype: int64"
      ]
     },
     "execution_count": 210,
     "metadata": {},
     "output_type": "execute_result"
    }
   ],
   "source": [
    "dentist_data[dentist_data['Period'] == 2016].count()"
   ]
  },
  {
   "cell_type": "code",
   "execution_count": 211,
   "metadata": {},
   "outputs": [
    {
     "data": {
      "text/plain": [
       "Location         87\n",
       "Period           87\n",
       "Indicator        87\n",
       "First Tooltip    87\n",
       "dtype: int64"
      ]
     },
     "execution_count": 211,
     "metadata": {},
     "output_type": "execute_result"
    }
   ],
   "source": [
    "dentist_data[dentist_data['Period'] == 2015].count()"
   ]
  },
  {
   "cell_type": "code",
   "execution_count": 212,
   "metadata": {},
   "outputs": [
    {
     "data": {
      "text/plain": [
       "Location         92\n",
       "Period           92\n",
       "Indicator        92\n",
       "First Tooltip    92\n",
       "dtype: int64"
      ]
     },
     "execution_count": 212,
     "metadata": {},
     "output_type": "execute_result"
    }
   ],
   "source": [
    "dentist_data[dentist_data['Period'] == 2014].count()"
   ]
  },
  {
   "cell_type": "code",
   "execution_count": 213,
   "metadata": {},
   "outputs": [
    {
     "data": {
      "text/plain": [
       "Location         85\n",
       "Period           85\n",
       "Indicator        85\n",
       "First Tooltip    85\n",
       "dtype: int64"
      ]
     },
     "execution_count": 213,
     "metadata": {},
     "output_type": "execute_result"
    }
   ],
   "source": [
    "dentist_data[dentist_data['Period'] == 2013].count()"
   ]
  },
  {
   "cell_type": "code",
   "execution_count": 214,
   "metadata": {},
   "outputs": [
    {
     "data": {
      "text/plain": [
       "Location         93\n",
       "Period           93\n",
       "Indicator        93\n",
       "First Tooltip    93\n",
       "dtype: int64"
      ]
     },
     "execution_count": 214,
     "metadata": {},
     "output_type": "execute_result"
    }
   ],
   "source": [
    "dentist_data[dentist_data['Period'] == 2012].count()"
   ]
  },
  {
   "cell_type": "code",
   "execution_count": 215,
   "metadata": {},
   "outputs": [
    {
     "data": {
      "text/plain": [
       "Location         97\n",
       "Period           97\n",
       "Indicator        97\n",
       "First Tooltip    97\n",
       "dtype: int64"
      ]
     },
     "execution_count": 215,
     "metadata": {},
     "output_type": "execute_result"
    }
   ],
   "source": [
    "dentist_data[dentist_data['Period'] == 2011].count()"
   ]
  },
  {
   "cell_type": "code",
   "execution_count": 216,
   "metadata": {},
   "outputs": [
    {
     "data": {
      "text/plain": [
       "Location         108\n",
       "Period           108\n",
       "Indicator        108\n",
       "First Tooltip    108\n",
       "dtype: int64"
      ]
     },
     "execution_count": 216,
     "metadata": {},
     "output_type": "execute_result"
    }
   ],
   "source": [
    "dentist_data[dentist_data['Period'] == 2010].count()"
   ]
  },
  {
   "cell_type": "code",
   "execution_count": 217,
   "metadata": {},
   "outputs": [
    {
     "data": {
      "text/plain": [
       "Location         114\n",
       "Period           114\n",
       "Indicator        114\n",
       "First Tooltip    114\n",
       "dtype: int64"
      ]
     },
     "execution_count": 217,
     "metadata": {},
     "output_type": "execute_result"
    }
   ],
   "source": [
    "dentist_data[dentist_data['Period'] == 2009].count()"
   ]
  },
  {
   "cell_type": "code",
   "execution_count": 218,
   "metadata": {},
   "outputs": [
    {
     "data": {
      "text/plain": [
       "Location         110\n",
       "Period           110\n",
       "Indicator        110\n",
       "First Tooltip    110\n",
       "dtype: int64"
      ]
     },
     "execution_count": 218,
     "metadata": {},
     "output_type": "execute_result"
    }
   ],
   "source": [
    "dentist_data[dentist_data['Period'] == 2008].count()"
   ]
  },
  {
   "cell_type": "code",
   "execution_count": 219,
   "metadata": {},
   "outputs": [
    {
     "data": {
      "text/plain": [
       "Location         88\n",
       "Period           88\n",
       "Indicator        88\n",
       "First Tooltip    88\n",
       "dtype: int64"
      ]
     },
     "execution_count": 219,
     "metadata": {},
     "output_type": "execute_result"
    }
   ],
   "source": [
    "dentist_data[dentist_data['Period'] == 2007].count()"
   ]
  },
  {
   "cell_type": "code",
   "execution_count": 220,
   "metadata": {},
   "outputs": [
    {
     "data": {
      "text/plain": [
       "Location         80\n",
       "Period           80\n",
       "Indicator        80\n",
       "First Tooltip    80\n",
       "dtype: int64"
      ]
     },
     "execution_count": 220,
     "metadata": {},
     "output_type": "execute_result"
    }
   ],
   "source": [
    "dentist_data[dentist_data['Period'] == 2006].count()"
   ]
  },
  {
   "cell_type": "code",
   "execution_count": 221,
   "metadata": {},
   "outputs": [
    {
     "data": {
      "text/plain": [
       "Location         82\n",
       "Period           82\n",
       "Indicator        82\n",
       "First Tooltip    82\n",
       "dtype: int64"
      ]
     },
     "execution_count": 221,
     "metadata": {},
     "output_type": "execute_result"
    }
   ],
   "source": [
    "dentist_data[dentist_data['Period'] == 2005].count()"
   ]
  },
  {
   "cell_type": "code",
   "execution_count": 222,
   "metadata": {},
   "outputs": [
    {
     "data": {
      "text/plain": [
       "Location         113\n",
       "Period           113\n",
       "Indicator        113\n",
       "First Tooltip    113\n",
       "dtype: int64"
      ]
     },
     "execution_count": 222,
     "metadata": {},
     "output_type": "execute_result"
    }
   ],
   "source": [
    "dentist_data[dentist_data['Period'] == 2004].count()"
   ]
  },
  {
   "cell_type": "code",
   "execution_count": 223,
   "metadata": {},
   "outputs": [
    {
     "data": {
      "text/plain": [
       "Location         70\n",
       "Period           70\n",
       "Indicator        70\n",
       "First Tooltip    70\n",
       "dtype: int64"
      ]
     },
     "execution_count": 223,
     "metadata": {},
     "output_type": "execute_result"
    }
   ],
   "source": [
    "dentist_data[dentist_data['Period'] == 2003].count()"
   ]
  },
  {
   "cell_type": "code",
   "execution_count": 224,
   "metadata": {},
   "outputs": [
    {
     "data": {
      "text/plain": [
       "Location         73\n",
       "Period           73\n",
       "Indicator        73\n",
       "First Tooltip    73\n",
       "dtype: int64"
      ]
     },
     "execution_count": 224,
     "metadata": {},
     "output_type": "execute_result"
    }
   ],
   "source": [
    "dentist_data[dentist_data['Period'] == 2002].count()"
   ]
  },
  {
   "cell_type": "code",
   "execution_count": 225,
   "metadata": {},
   "outputs": [
    {
     "data": {
      "text/plain": [
       "Location         70\n",
       "Period           70\n",
       "Indicator        70\n",
       "First Tooltip    70\n",
       "dtype: int64"
      ]
     },
     "execution_count": 225,
     "metadata": {},
     "output_type": "execute_result"
    }
   ],
   "source": [
    "dentist_data[dentist_data['Period'] == 2001].count()"
   ]
  },
  {
   "cell_type": "code",
   "execution_count": 226,
   "metadata": {},
   "outputs": [
    {
     "data": {
      "text/plain": [
       "Location         74\n",
       "Period           74\n",
       "Indicator        74\n",
       "First Tooltip    74\n",
       "dtype: int64"
      ]
     },
     "execution_count": 226,
     "metadata": {},
     "output_type": "execute_result"
    }
   ],
   "source": [
    "dentist_data[dentist_data['Period'] == 2000].count()"
   ]
  },
  {
   "cell_type": "markdown",
   "metadata": {},
   "source": [
    "## Dataset to export"
   ]
  },
  {
   "cell_type": "code",
   "execution_count": 227,
   "metadata": {},
   "outputs": [
    {
     "data": {
      "text/html": [
       "<div>\n",
       "<style scoped>\n",
       "    .dataframe tbody tr th:only-of-type {\n",
       "        vertical-align: middle;\n",
       "    }\n",
       "\n",
       "    .dataframe tbody tr th {\n",
       "        vertical-align: top;\n",
       "    }\n",
       "\n",
       "    .dataframe thead th {\n",
       "        text-align: right;\n",
       "    }\n",
       "</style>\n",
       "<table border=\"1\" class=\"dataframe\">\n",
       "  <thead>\n",
       "    <tr style=\"text-align: right;\">\n",
       "      <th></th>\n",
       "      <th>Location</th>\n",
       "      <th>Period</th>\n",
       "      <th>Indicator</th>\n",
       "      <th>First Tooltip</th>\n",
       "    </tr>\n",
       "  </thead>\n",
       "  <tbody>\n",
       "    <tr>\n",
       "      <th>53</th>\n",
       "      <td>Armenia</td>\n",
       "      <td>2010</td>\n",
       "      <td>Dentists (per 10,000)</td>\n",
       "      <td>4.370</td>\n",
       "    </tr>\n",
       "    <tr>\n",
       "      <th>71</th>\n",
       "      <td>Australia</td>\n",
       "      <td>2010</td>\n",
       "      <td>Dentists (per 10,000)</td>\n",
       "      <td>5.180</td>\n",
       "    </tr>\n",
       "    <tr>\n",
       "      <th>84</th>\n",
       "      <td>Austria</td>\n",
       "      <td>2010</td>\n",
       "      <td>Dentists (per 10,000)</td>\n",
       "      <td>5.570</td>\n",
       "    </tr>\n",
       "    <tr>\n",
       "      <th>109</th>\n",
       "      <td>Azerbaijan</td>\n",
       "      <td>2010</td>\n",
       "      <td>Dentists (per 10,000)</td>\n",
       "      <td>2.730</td>\n",
       "    </tr>\n",
       "    <tr>\n",
       "      <th>138</th>\n",
       "      <td>Bahrain</td>\n",
       "      <td>2010</td>\n",
       "      <td>Dentists (per 10,000)</td>\n",
       "      <td>0.980</td>\n",
       "    </tr>\n",
       "    <tr>\n",
       "      <th>...</th>\n",
       "      <td>...</td>\n",
       "      <td>...</td>\n",
       "      <td>...</td>\n",
       "      <td>...</td>\n",
       "    </tr>\n",
       "    <tr>\n",
       "      <th>2080</th>\n",
       "      <td>United States of America</td>\n",
       "      <td>2010</td>\n",
       "      <td>Dentists (per 10,000)</td>\n",
       "      <td>5.780</td>\n",
       "    </tr>\n",
       "    <tr>\n",
       "      <th>2091</th>\n",
       "      <td>Uzbekistan</td>\n",
       "      <td>2010</td>\n",
       "      <td>Dentists (per 10,000)</td>\n",
       "      <td>1.650</td>\n",
       "    </tr>\n",
       "    <tr>\n",
       "      <th>2110</th>\n",
       "      <td>Yemen</td>\n",
       "      <td>2010</td>\n",
       "      <td>Dentists (per 10,000)</td>\n",
       "      <td>0.250</td>\n",
       "    </tr>\n",
       "    <tr>\n",
       "      <th>2117</th>\n",
       "      <td>Zambia</td>\n",
       "      <td>2010</td>\n",
       "      <td>Dentists (per 10,000)</td>\n",
       "      <td>0.180</td>\n",
       "    </tr>\n",
       "    <tr>\n",
       "      <th>2128</th>\n",
       "      <td>Zimbabwe</td>\n",
       "      <td>2010</td>\n",
       "      <td>Dentists (per 10,000)</td>\n",
       "      <td>0.035</td>\n",
       "    </tr>\n",
       "  </tbody>\n",
       "</table>\n",
       "<p>108 rows × 4 columns</p>\n",
       "</div>"
      ],
      "text/plain": [
       "                      Location  Period              Indicator  First Tooltip\n",
       "53                     Armenia    2010  Dentists (per 10,000)          4.370\n",
       "71                   Australia    2010  Dentists (per 10,000)          5.180\n",
       "84                     Austria    2010  Dentists (per 10,000)          5.570\n",
       "109                 Azerbaijan    2010  Dentists (per 10,000)          2.730\n",
       "138                    Bahrain    2010  Dentists (per 10,000)          0.980\n",
       "...                        ...     ...                    ...            ...\n",
       "2080  United States of America    2010  Dentists (per 10,000)          5.780\n",
       "2091                Uzbekistan    2010  Dentists (per 10,000)          1.650\n",
       "2110                     Yemen    2010  Dentists (per 10,000)          0.250\n",
       "2117                    Zambia    2010  Dentists (per 10,000)          0.180\n",
       "2128                  Zimbabwe    2010  Dentists (per 10,000)          0.035\n",
       "\n",
       "[108 rows x 4 columns]"
      ]
     },
     "execution_count": 227,
     "metadata": {},
     "output_type": "execute_result"
    }
   ],
   "source": [
    "d_data_2010 = dentist_data[dentist_data['Period'] == 2010]\n",
    "d_data_2010"
   ]
  },
  {
   "cell_type": "markdown",
   "metadata": {},
   "source": [
    "## Dataset to export"
   ]
  },
  {
   "cell_type": "code",
   "execution_count": 228,
   "metadata": {},
   "outputs": [
    {
     "data": {
      "text/html": [
       "<div>\n",
       "<style scoped>\n",
       "    .dataframe tbody tr th:only-of-type {\n",
       "        vertical-align: middle;\n",
       "    }\n",
       "\n",
       "    .dataframe tbody tr th {\n",
       "        vertical-align: top;\n",
       "    }\n",
       "\n",
       "    .dataframe thead th {\n",
       "        text-align: right;\n",
       "    }\n",
       "</style>\n",
       "<table border=\"1\" class=\"dataframe\">\n",
       "  <thead>\n",
       "    <tr style=\"text-align: right;\">\n",
       "      <th></th>\n",
       "      <th>Location</th>\n",
       "      <th>Period</th>\n",
       "      <th>Indicator</th>\n",
       "      <th>First Tooltip</th>\n",
       "    </tr>\n",
       "  </thead>\n",
       "  <tbody>\n",
       "    <tr>\n",
       "      <th>26</th>\n",
       "      <td>Andorra</td>\n",
       "      <td>2009</td>\n",
       "      <td>Dentists (per 10,000)</td>\n",
       "      <td>6.04</td>\n",
       "    </tr>\n",
       "    <tr>\n",
       "      <th>54</th>\n",
       "      <td>Armenia</td>\n",
       "      <td>2009</td>\n",
       "      <td>Dentists (per 10,000)</td>\n",
       "      <td>4.31</td>\n",
       "    </tr>\n",
       "    <tr>\n",
       "      <th>72</th>\n",
       "      <td>Australia</td>\n",
       "      <td>2009</td>\n",
       "      <td>Dentists (per 10,000)</td>\n",
       "      <td>5.27</td>\n",
       "    </tr>\n",
       "    <tr>\n",
       "      <th>85</th>\n",
       "      <td>Austria</td>\n",
       "      <td>2009</td>\n",
       "      <td>Dentists (per 10,000)</td>\n",
       "      <td>5.52</td>\n",
       "    </tr>\n",
       "    <tr>\n",
       "      <th>110</th>\n",
       "      <td>Azerbaijan</td>\n",
       "      <td>2009</td>\n",
       "      <td>Dentists (per 10,000)</td>\n",
       "      <td>2.75</td>\n",
       "    </tr>\n",
       "    <tr>\n",
       "      <th>...</th>\n",
       "      <td>...</td>\n",
       "      <td>...</td>\n",
       "      <td>...</td>\n",
       "      <td>...</td>\n",
       "    </tr>\n",
       "    <tr>\n",
       "      <th>2052</th>\n",
       "      <td>United Arab Emirates</td>\n",
       "      <td>2009</td>\n",
       "      <td>Dentists (per 10,000)</td>\n",
       "      <td>3.63</td>\n",
       "    </tr>\n",
       "    <tr>\n",
       "      <th>2071</th>\n",
       "      <td>United Kingdom of Great Britain and Northern I...</td>\n",
       "      <td>2009</td>\n",
       "      <td>Dentists (per 10,000)</td>\n",
       "      <td>5.00</td>\n",
       "    </tr>\n",
       "    <tr>\n",
       "      <th>2092</th>\n",
       "      <td>Uzbekistan</td>\n",
       "      <td>2009</td>\n",
       "      <td>Dentists (per 10,000)</td>\n",
       "      <td>1.59</td>\n",
       "    </tr>\n",
       "    <tr>\n",
       "      <th>2118</th>\n",
       "      <td>Zambia</td>\n",
       "      <td>2009</td>\n",
       "      <td>Dentists (per 10,000)</td>\n",
       "      <td>0.18</td>\n",
       "    </tr>\n",
       "    <tr>\n",
       "      <th>2129</th>\n",
       "      <td>Zimbabwe</td>\n",
       "      <td>2009</td>\n",
       "      <td>Dentists (per 10,000)</td>\n",
       "      <td>0.15</td>\n",
       "    </tr>\n",
       "  </tbody>\n",
       "</table>\n",
       "<p>114 rows × 4 columns</p>\n",
       "</div>"
      ],
      "text/plain": [
       "                                               Location  Period  \\\n",
       "26                                              Andorra    2009   \n",
       "54                                              Armenia    2009   \n",
       "72                                            Australia    2009   \n",
       "85                                              Austria    2009   \n",
       "110                                          Azerbaijan    2009   \n",
       "...                                                 ...     ...   \n",
       "2052                               United Arab Emirates    2009   \n",
       "2071  United Kingdom of Great Britain and Northern I...    2009   \n",
       "2092                                         Uzbekistan    2009   \n",
       "2118                                             Zambia    2009   \n",
       "2129                                           Zimbabwe    2009   \n",
       "\n",
       "                  Indicator  First Tooltip  \n",
       "26    Dentists (per 10,000)           6.04  \n",
       "54    Dentists (per 10,000)           4.31  \n",
       "72    Dentists (per 10,000)           5.27  \n",
       "85    Dentists (per 10,000)           5.52  \n",
       "110   Dentists (per 10,000)           2.75  \n",
       "...                     ...            ...  \n",
       "2052  Dentists (per 10,000)           3.63  \n",
       "2071  Dentists (per 10,000)           5.00  \n",
       "2092  Dentists (per 10,000)           1.59  \n",
       "2118  Dentists (per 10,000)           0.18  \n",
       "2129  Dentists (per 10,000)           0.15  \n",
       "\n",
       "[114 rows x 4 columns]"
      ]
     },
     "execution_count": 228,
     "metadata": {},
     "output_type": "execute_result"
    }
   ],
   "source": [
    "d_data_2009 = dentist_data[dentist_data['Period'] == 2009]\n",
    "d_data_2009"
   ]
  },
  {
   "cell_type": "code",
   "execution_count": null,
   "metadata": {},
   "outputs": [],
   "source": []
  },
  {
   "cell_type": "markdown",
   "metadata": {},
   "source": [
    "## Violence Against Women - IGNORE"
   ]
  },
  {
   "cell_type": "code",
   "execution_count": null,
   "metadata": {},
   "outputs": [],
   "source": []
  },
  {
   "cell_type": "markdown",
   "metadata": {},
   "source": [
    "## Healthy Life Expectancy at Birth"
   ]
  },
  {
   "cell_type": "code",
   "execution_count": 231,
   "metadata": {},
   "outputs": [
    {
     "data": {
      "text/html": [
       "<div>\n",
       "<style scoped>\n",
       "    .dataframe tbody tr th:only-of-type {\n",
       "        vertical-align: middle;\n",
       "    }\n",
       "\n",
       "    .dataframe tbody tr th {\n",
       "        vertical-align: top;\n",
       "    }\n",
       "\n",
       "    .dataframe thead th {\n",
       "        text-align: right;\n",
       "    }\n",
       "</style>\n",
       "<table border=\"1\" class=\"dataframe\">\n",
       "  <thead>\n",
       "    <tr style=\"text-align: right;\">\n",
       "      <th></th>\n",
       "      <th>Location</th>\n",
       "      <th>Period</th>\n",
       "      <th>Indicator</th>\n",
       "      <th>Dim1</th>\n",
       "      <th>First Tooltip</th>\n",
       "    </tr>\n",
       "  </thead>\n",
       "  <tbody>\n",
       "    <tr>\n",
       "      <th>0</th>\n",
       "      <td>Afghanistan</td>\n",
       "      <td>2019</td>\n",
       "      <td>Healthy life expectancy (HALE) at birth (years)</td>\n",
       "      <td>Both sexes</td>\n",
       "      <td>53.95</td>\n",
       "    </tr>\n",
       "    <tr>\n",
       "      <th>1</th>\n",
       "      <td>Afghanistan</td>\n",
       "      <td>2019</td>\n",
       "      <td>Healthy life expectancy (HALE) at birth (years)</td>\n",
       "      <td>Male</td>\n",
       "      <td>54.73</td>\n",
       "    </tr>\n",
       "    <tr>\n",
       "      <th>2</th>\n",
       "      <td>Afghanistan</td>\n",
       "      <td>2019</td>\n",
       "      <td>Healthy life expectancy (HALE) at birth (years)</td>\n",
       "      <td>Female</td>\n",
       "      <td>53.15</td>\n",
       "    </tr>\n",
       "    <tr>\n",
       "      <th>3</th>\n",
       "      <td>Afghanistan</td>\n",
       "      <td>2015</td>\n",
       "      <td>Healthy life expectancy (HALE) at birth (years)</td>\n",
       "      <td>Both sexes</td>\n",
       "      <td>52.60</td>\n",
       "    </tr>\n",
       "    <tr>\n",
       "      <th>4</th>\n",
       "      <td>Afghanistan</td>\n",
       "      <td>2015</td>\n",
       "      <td>Healthy life expectancy (HALE) at birth (years)</td>\n",
       "      <td>Male</td>\n",
       "      <td>52.78</td>\n",
       "    </tr>\n",
       "    <tr>\n",
       "      <th>...</th>\n",
       "      <td>...</td>\n",
       "      <td>...</td>\n",
       "      <td>...</td>\n",
       "      <td>...</td>\n",
       "      <td>...</td>\n",
       "    </tr>\n",
       "    <tr>\n",
       "      <th>2191</th>\n",
       "      <td>Zimbabwe</td>\n",
       "      <td>2010</td>\n",
       "      <td>Healthy life expectancy (HALE) at birth (years)</td>\n",
       "      <td>Male</td>\n",
       "      <td>44.25</td>\n",
       "    </tr>\n",
       "    <tr>\n",
       "      <th>2192</th>\n",
       "      <td>Zimbabwe</td>\n",
       "      <td>2010</td>\n",
       "      <td>Healthy life expectancy (HALE) at birth (years)</td>\n",
       "      <td>Female</td>\n",
       "      <td>46.12</td>\n",
       "    </tr>\n",
       "    <tr>\n",
       "      <th>2193</th>\n",
       "      <td>Zimbabwe</td>\n",
       "      <td>2000</td>\n",
       "      <td>Healthy life expectancy (HALE) at birth (years)</td>\n",
       "      <td>Both sexes</td>\n",
       "      <td>41.03</td>\n",
       "    </tr>\n",
       "    <tr>\n",
       "      <th>2194</th>\n",
       "      <td>Zimbabwe</td>\n",
       "      <td>2000</td>\n",
       "      <td>Healthy life expectancy (HALE) at birth (years)</td>\n",
       "      <td>Male</td>\n",
       "      <td>40.39</td>\n",
       "    </tr>\n",
       "    <tr>\n",
       "      <th>2195</th>\n",
       "      <td>Zimbabwe</td>\n",
       "      <td>2000</td>\n",
       "      <td>Healthy life expectancy (HALE) at birth (years)</td>\n",
       "      <td>Female</td>\n",
       "      <td>41.77</td>\n",
       "    </tr>\n",
       "  </tbody>\n",
       "</table>\n",
       "<p>2196 rows × 5 columns</p>\n",
       "</div>"
      ],
      "text/plain": [
       "         Location  Period                                        Indicator  \\\n",
       "0     Afghanistan    2019  Healthy life expectancy (HALE) at birth (years)   \n",
       "1     Afghanistan    2019  Healthy life expectancy (HALE) at birth (years)   \n",
       "2     Afghanistan    2019  Healthy life expectancy (HALE) at birth (years)   \n",
       "3     Afghanistan    2015  Healthy life expectancy (HALE) at birth (years)   \n",
       "4     Afghanistan    2015  Healthy life expectancy (HALE) at birth (years)   \n",
       "...           ...     ...                                              ...   \n",
       "2191     Zimbabwe    2010  Healthy life expectancy (HALE) at birth (years)   \n",
       "2192     Zimbabwe    2010  Healthy life expectancy (HALE) at birth (years)   \n",
       "2193     Zimbabwe    2000  Healthy life expectancy (HALE) at birth (years)   \n",
       "2194     Zimbabwe    2000  Healthy life expectancy (HALE) at birth (years)   \n",
       "2195     Zimbabwe    2000  Healthy life expectancy (HALE) at birth (years)   \n",
       "\n",
       "            Dim1  First Tooltip  \n",
       "0     Both sexes          53.95  \n",
       "1           Male          54.73  \n",
       "2         Female          53.15  \n",
       "3     Both sexes          52.60  \n",
       "4           Male          52.78  \n",
       "...          ...            ...  \n",
       "2191        Male          44.25  \n",
       "2192      Female          46.12  \n",
       "2193  Both sexes          41.03  \n",
       "2194        Male          40.39  \n",
       "2195      Female          41.77  \n",
       "\n",
       "[2196 rows x 5 columns]"
      ]
     },
     "execution_count": 231,
     "metadata": {},
     "output_type": "execute_result"
    }
   ],
   "source": [
    "hleb_data = pd.read_csv(WHS_path/'HALElifeExpectancyAtBirth.csv')\n",
    "hleb_data"
   ]
  },
  {
   "cell_type": "code",
   "execution_count": 232,
   "metadata": {},
   "outputs": [
    {
     "data": {
      "text/plain": [
       "Location         2196\n",
       "Period           2196\n",
       "Indicator        2196\n",
       "Dim1             2196\n",
       "First Tooltip    2196\n",
       "dtype: int64"
      ]
     },
     "execution_count": 232,
     "metadata": {},
     "output_type": "execute_result"
    }
   ],
   "source": [
    "hleb_data.isnull().count()"
   ]
  },
  {
   "cell_type": "code",
   "execution_count": 233,
   "metadata": {},
   "outputs": [
    {
     "data": {
      "text/html": [
       "<div>\n",
       "<style scoped>\n",
       "    .dataframe tbody tr th:only-of-type {\n",
       "        vertical-align: middle;\n",
       "    }\n",
       "\n",
       "    .dataframe tbody tr th {\n",
       "        vertical-align: top;\n",
       "    }\n",
       "\n",
       "    .dataframe thead th {\n",
       "        text-align: right;\n",
       "    }\n",
       "</style>\n",
       "<table border=\"1\" class=\"dataframe\">\n",
       "  <thead>\n",
       "    <tr style=\"text-align: right;\">\n",
       "      <th></th>\n",
       "      <th>Location</th>\n",
       "      <th>Period</th>\n",
       "      <th>Indicator</th>\n",
       "      <th>Dim1</th>\n",
       "      <th>First Tooltip</th>\n",
       "    </tr>\n",
       "  </thead>\n",
       "  <tbody>\n",
       "  </tbody>\n",
       "</table>\n",
       "</div>"
      ],
      "text/plain": [
       "Empty DataFrame\n",
       "Columns: [Location, Period, Indicator, Dim1, First Tooltip]\n",
       "Index: []"
      ]
     },
     "execution_count": 233,
     "metadata": {},
     "output_type": "execute_result"
    }
   ],
   "source": [
    "hleb_data[hleb_data['First Tooltip'] == 0.0]"
   ]
  },
  {
   "cell_type": "code",
   "execution_count": 234,
   "metadata": {},
   "outputs": [
    {
     "data": {
      "text/plain": [
       "array(['Healthy life expectancy (HALE) at birth (years)'], dtype=object)"
      ]
     },
     "execution_count": 234,
     "metadata": {},
     "output_type": "execute_result"
    }
   ],
   "source": [
    "hleb_data['Indicator'].unique()"
   ]
  },
  {
   "cell_type": "code",
   "execution_count": 238,
   "metadata": {},
   "outputs": [
    {
     "data": {
      "text/html": [
       "<div>\n",
       "<style scoped>\n",
       "    .dataframe tbody tr th:only-of-type {\n",
       "        vertical-align: middle;\n",
       "    }\n",
       "\n",
       "    .dataframe tbody tr th {\n",
       "        vertical-align: top;\n",
       "    }\n",
       "\n",
       "    .dataframe thead th {\n",
       "        text-align: right;\n",
       "    }\n",
       "</style>\n",
       "<table border=\"1\" class=\"dataframe\">\n",
       "  <thead>\n",
       "    <tr style=\"text-align: right;\">\n",
       "      <th></th>\n",
       "      <th>Location</th>\n",
       "      <th>Period</th>\n",
       "      <th>Indicator</th>\n",
       "      <th>Dim1</th>\n",
       "      <th>First Tooltip</th>\n",
       "    </tr>\n",
       "  </thead>\n",
       "  <tbody>\n",
       "    <tr>\n",
       "      <th>0</th>\n",
       "      <td>Afghanistan</td>\n",
       "      <td>2019</td>\n",
       "      <td>Healthy life expectancy (HALE) at birth (years)</td>\n",
       "      <td>Both sexes</td>\n",
       "      <td>53.95</td>\n",
       "    </tr>\n",
       "    <tr>\n",
       "      <th>3</th>\n",
       "      <td>Afghanistan</td>\n",
       "      <td>2015</td>\n",
       "      <td>Healthy life expectancy (HALE) at birth (years)</td>\n",
       "      <td>Both sexes</td>\n",
       "      <td>52.60</td>\n",
       "    </tr>\n",
       "    <tr>\n",
       "      <th>6</th>\n",
       "      <td>Afghanistan</td>\n",
       "      <td>2010</td>\n",
       "      <td>Healthy life expectancy (HALE) at birth (years)</td>\n",
       "      <td>Both sexes</td>\n",
       "      <td>51.13</td>\n",
       "    </tr>\n",
       "    <tr>\n",
       "      <th>9</th>\n",
       "      <td>Afghanistan</td>\n",
       "      <td>2000</td>\n",
       "      <td>Healthy life expectancy (HALE) at birth (years)</td>\n",
       "      <td>Both sexes</td>\n",
       "      <td>46.76</td>\n",
       "    </tr>\n",
       "    <tr>\n",
       "      <th>12</th>\n",
       "      <td>Albania</td>\n",
       "      <td>2019</td>\n",
       "      <td>Healthy life expectancy (HALE) at birth (years)</td>\n",
       "      <td>Both sexes</td>\n",
       "      <td>69.08</td>\n",
       "    </tr>\n",
       "    <tr>\n",
       "      <th>...</th>\n",
       "      <td>...</td>\n",
       "      <td>...</td>\n",
       "      <td>...</td>\n",
       "      <td>...</td>\n",
       "      <td>...</td>\n",
       "    </tr>\n",
       "    <tr>\n",
       "      <th>2181</th>\n",
       "      <td>Zambia</td>\n",
       "      <td>2000</td>\n",
       "      <td>Healthy life expectancy (HALE) at birth (years)</td>\n",
       "      <td>Both sexes</td>\n",
       "      <td>38.95</td>\n",
       "    </tr>\n",
       "    <tr>\n",
       "      <th>2184</th>\n",
       "      <td>Zimbabwe</td>\n",
       "      <td>2019</td>\n",
       "      <td>Healthy life expectancy (HALE) at birth (years)</td>\n",
       "      <td>Both sexes</td>\n",
       "      <td>53.07</td>\n",
       "    </tr>\n",
       "    <tr>\n",
       "      <th>2187</th>\n",
       "      <td>Zimbabwe</td>\n",
       "      <td>2015</td>\n",
       "      <td>Healthy life expectancy (HALE) at birth (years)</td>\n",
       "      <td>Both sexes</td>\n",
       "      <td>51.17</td>\n",
       "    </tr>\n",
       "    <tr>\n",
       "      <th>2190</th>\n",
       "      <td>Zimbabwe</td>\n",
       "      <td>2010</td>\n",
       "      <td>Healthy life expectancy (HALE) at birth (years)</td>\n",
       "      <td>Both sexes</td>\n",
       "      <td>45.22</td>\n",
       "    </tr>\n",
       "    <tr>\n",
       "      <th>2193</th>\n",
       "      <td>Zimbabwe</td>\n",
       "      <td>2000</td>\n",
       "      <td>Healthy life expectancy (HALE) at birth (years)</td>\n",
       "      <td>Both sexes</td>\n",
       "      <td>41.03</td>\n",
       "    </tr>\n",
       "  </tbody>\n",
       "</table>\n",
       "<p>732 rows × 5 columns</p>\n",
       "</div>"
      ],
      "text/plain": [
       "         Location  Period                                        Indicator  \\\n",
       "0     Afghanistan    2019  Healthy life expectancy (HALE) at birth (years)   \n",
       "3     Afghanistan    2015  Healthy life expectancy (HALE) at birth (years)   \n",
       "6     Afghanistan    2010  Healthy life expectancy (HALE) at birth (years)   \n",
       "9     Afghanistan    2000  Healthy life expectancy (HALE) at birth (years)   \n",
       "12        Albania    2019  Healthy life expectancy (HALE) at birth (years)   \n",
       "...           ...     ...                                              ...   \n",
       "2181       Zambia    2000  Healthy life expectancy (HALE) at birth (years)   \n",
       "2184     Zimbabwe    2019  Healthy life expectancy (HALE) at birth (years)   \n",
       "2187     Zimbabwe    2015  Healthy life expectancy (HALE) at birth (years)   \n",
       "2190     Zimbabwe    2010  Healthy life expectancy (HALE) at birth (years)   \n",
       "2193     Zimbabwe    2000  Healthy life expectancy (HALE) at birth (years)   \n",
       "\n",
       "            Dim1  First Tooltip  \n",
       "0     Both sexes          53.95  \n",
       "3     Both sexes          52.60  \n",
       "6     Both sexes          51.13  \n",
       "9     Both sexes          46.76  \n",
       "12    Both sexes          69.08  \n",
       "...          ...            ...  \n",
       "2181  Both sexes          38.95  \n",
       "2184  Both sexes          53.07  \n",
       "2187  Both sexes          51.17  \n",
       "2190  Both sexes          45.22  \n",
       "2193  Both sexes          41.03  \n",
       "\n",
       "[732 rows x 5 columns]"
      ]
     },
     "execution_count": 238,
     "metadata": {},
     "output_type": "execute_result"
    }
   ],
   "source": [
    "hleb_bs = hleb_data[hleb_data['Dim1'] == \"Both sexes\"]\n",
    "hleb_bs"
   ]
  },
  {
   "cell_type": "markdown",
   "metadata": {},
   "source": [
    "All years have the same number! A great number too. For that reason, I'll select the most recent: 2019 and 2015."
   ]
  },
  {
   "cell_type": "code",
   "execution_count": 239,
   "metadata": {},
   "outputs": [
    {
     "data": {
      "text/plain": [
       "array([2019, 2015, 2010, 2000])"
      ]
     },
     "execution_count": 239,
     "metadata": {},
     "output_type": "execute_result"
    }
   ],
   "source": [
    "hleb_bs['Period'].unique()"
   ]
  },
  {
   "cell_type": "code",
   "execution_count": 240,
   "metadata": {},
   "outputs": [
    {
     "data": {
      "text/plain": [
       "Location         183\n",
       "Period           183\n",
       "Indicator        183\n",
       "Dim1             183\n",
       "First Tooltip    183\n",
       "dtype: int64"
      ]
     },
     "execution_count": 240,
     "metadata": {},
     "output_type": "execute_result"
    }
   ],
   "source": [
    "hleb_bs[hleb_bs['Period'] == 2019].count()"
   ]
  },
  {
   "cell_type": "code",
   "execution_count": 241,
   "metadata": {},
   "outputs": [
    {
     "data": {
      "text/plain": [
       "Location         183\n",
       "Period           183\n",
       "Indicator        183\n",
       "Dim1             183\n",
       "First Tooltip    183\n",
       "dtype: int64"
      ]
     },
     "execution_count": 241,
     "metadata": {},
     "output_type": "execute_result"
    }
   ],
   "source": [
    "hleb_bs[hleb_bs['Period'] == 2015].count()"
   ]
  },
  {
   "cell_type": "code",
   "execution_count": 242,
   "metadata": {},
   "outputs": [
    {
     "data": {
      "text/plain": [
       "Location         183\n",
       "Period           183\n",
       "Indicator        183\n",
       "Dim1             183\n",
       "First Tooltip    183\n",
       "dtype: int64"
      ]
     },
     "execution_count": 242,
     "metadata": {},
     "output_type": "execute_result"
    }
   ],
   "source": [
    "hleb_bs[hleb_bs['Period'] == 2010].count()"
   ]
  },
  {
   "cell_type": "code",
   "execution_count": 243,
   "metadata": {},
   "outputs": [
    {
     "data": {
      "text/plain": [
       "Location         183\n",
       "Period           183\n",
       "Indicator        183\n",
       "Dim1             183\n",
       "First Tooltip    183\n",
       "dtype: int64"
      ]
     },
     "execution_count": 243,
     "metadata": {},
     "output_type": "execute_result"
    }
   ],
   "source": [
    "hleb_bs[hleb_bs['Period'] == 2000].count()"
   ]
  },
  {
   "cell_type": "markdown",
   "metadata": {},
   "source": [
    "## Dataset to export"
   ]
  },
  {
   "cell_type": "code",
   "execution_count": 244,
   "metadata": {},
   "outputs": [
    {
     "data": {
      "text/html": [
       "<div>\n",
       "<style scoped>\n",
       "    .dataframe tbody tr th:only-of-type {\n",
       "        vertical-align: middle;\n",
       "    }\n",
       "\n",
       "    .dataframe tbody tr th {\n",
       "        vertical-align: top;\n",
       "    }\n",
       "\n",
       "    .dataframe thead th {\n",
       "        text-align: right;\n",
       "    }\n",
       "</style>\n",
       "<table border=\"1\" class=\"dataframe\">\n",
       "  <thead>\n",
       "    <tr style=\"text-align: right;\">\n",
       "      <th></th>\n",
       "      <th>Location</th>\n",
       "      <th>Period</th>\n",
       "      <th>Indicator</th>\n",
       "      <th>Dim1</th>\n",
       "      <th>First Tooltip</th>\n",
       "    </tr>\n",
       "  </thead>\n",
       "  <tbody>\n",
       "    <tr>\n",
       "      <th>0</th>\n",
       "      <td>Afghanistan</td>\n",
       "      <td>2019</td>\n",
       "      <td>Healthy life expectancy (HALE) at birth (years)</td>\n",
       "      <td>Both sexes</td>\n",
       "      <td>53.95</td>\n",
       "    </tr>\n",
       "    <tr>\n",
       "      <th>12</th>\n",
       "      <td>Albania</td>\n",
       "      <td>2019</td>\n",
       "      <td>Healthy life expectancy (HALE) at birth (years)</td>\n",
       "      <td>Both sexes</td>\n",
       "      <td>69.08</td>\n",
       "    </tr>\n",
       "    <tr>\n",
       "      <th>24</th>\n",
       "      <td>Algeria</td>\n",
       "      <td>2019</td>\n",
       "      <td>Healthy life expectancy (HALE) at birth (years)</td>\n",
       "      <td>Both sexes</td>\n",
       "      <td>66.39</td>\n",
       "    </tr>\n",
       "    <tr>\n",
       "      <th>36</th>\n",
       "      <td>Angola</td>\n",
       "      <td>2019</td>\n",
       "      <td>Healthy life expectancy (HALE) at birth (years)</td>\n",
       "      <td>Both sexes</td>\n",
       "      <td>54.84</td>\n",
       "    </tr>\n",
       "    <tr>\n",
       "      <th>48</th>\n",
       "      <td>Antigua and Barbuda</td>\n",
       "      <td>2019</td>\n",
       "      <td>Healthy life expectancy (HALE) at birth (years)</td>\n",
       "      <td>Both sexes</td>\n",
       "      <td>66.97</td>\n",
       "    </tr>\n",
       "    <tr>\n",
       "      <th>...</th>\n",
       "      <td>...</td>\n",
       "      <td>...</td>\n",
       "      <td>...</td>\n",
       "      <td>...</td>\n",
       "      <td>...</td>\n",
       "    </tr>\n",
       "    <tr>\n",
       "      <th>2136</th>\n",
       "      <td>Venezuela (Bolivarian Republic of)</td>\n",
       "      <td>2019</td>\n",
       "      <td>Healthy life expectancy (HALE) at birth (years)</td>\n",
       "      <td>Both sexes</td>\n",
       "      <td>64.44</td>\n",
       "    </tr>\n",
       "    <tr>\n",
       "      <th>2148</th>\n",
       "      <td>Viet Nam</td>\n",
       "      <td>2019</td>\n",
       "      <td>Healthy life expectancy (HALE) at birth (years)</td>\n",
       "      <td>Both sexes</td>\n",
       "      <td>65.30</td>\n",
       "    </tr>\n",
       "    <tr>\n",
       "      <th>2160</th>\n",
       "      <td>Yemen</td>\n",
       "      <td>2019</td>\n",
       "      <td>Healthy life expectancy (HALE) at birth (years)</td>\n",
       "      <td>Both sexes</td>\n",
       "      <td>57.53</td>\n",
       "    </tr>\n",
       "    <tr>\n",
       "      <th>2172</th>\n",
       "      <td>Zambia</td>\n",
       "      <td>2019</td>\n",
       "      <td>Healthy life expectancy (HALE) at birth (years)</td>\n",
       "      <td>Both sexes</td>\n",
       "      <td>54.40</td>\n",
       "    </tr>\n",
       "    <tr>\n",
       "      <th>2184</th>\n",
       "      <td>Zimbabwe</td>\n",
       "      <td>2019</td>\n",
       "      <td>Healthy life expectancy (HALE) at birth (years)</td>\n",
       "      <td>Both sexes</td>\n",
       "      <td>53.07</td>\n",
       "    </tr>\n",
       "  </tbody>\n",
       "</table>\n",
       "<p>183 rows × 5 columns</p>\n",
       "</div>"
      ],
      "text/plain": [
       "                                Location  Period  \\\n",
       "0                            Afghanistan    2019   \n",
       "12                               Albania    2019   \n",
       "24                               Algeria    2019   \n",
       "36                                Angola    2019   \n",
       "48                   Antigua and Barbuda    2019   \n",
       "...                                  ...     ...   \n",
       "2136  Venezuela (Bolivarian Republic of)    2019   \n",
       "2148                            Viet Nam    2019   \n",
       "2160                               Yemen    2019   \n",
       "2172                              Zambia    2019   \n",
       "2184                            Zimbabwe    2019   \n",
       "\n",
       "                                            Indicator        Dim1  \\\n",
       "0     Healthy life expectancy (HALE) at birth (years)  Both sexes   \n",
       "12    Healthy life expectancy (HALE) at birth (years)  Both sexes   \n",
       "24    Healthy life expectancy (HALE) at birth (years)  Both sexes   \n",
       "36    Healthy life expectancy (HALE) at birth (years)  Both sexes   \n",
       "48    Healthy life expectancy (HALE) at birth (years)  Both sexes   \n",
       "...                                               ...         ...   \n",
       "2136  Healthy life expectancy (HALE) at birth (years)  Both sexes   \n",
       "2148  Healthy life expectancy (HALE) at birth (years)  Both sexes   \n",
       "2160  Healthy life expectancy (HALE) at birth (years)  Both sexes   \n",
       "2172  Healthy life expectancy (HALE) at birth (years)  Both sexes   \n",
       "2184  Healthy life expectancy (HALE) at birth (years)  Both sexes   \n",
       "\n",
       "      First Tooltip  \n",
       "0             53.95  \n",
       "12            69.08  \n",
       "24            66.39  \n",
       "36            54.84  \n",
       "48            66.97  \n",
       "...             ...  \n",
       "2136          64.44  \n",
       "2148          65.30  \n",
       "2160          57.53  \n",
       "2172          54.40  \n",
       "2184          53.07  \n",
       "\n",
       "[183 rows x 5 columns]"
      ]
     },
     "execution_count": 244,
     "metadata": {},
     "output_type": "execute_result"
    }
   ],
   "source": [
    "hleb_2019 = hleb_bs[hleb_bs['Period'] == 2019]\n",
    "hleb_2019"
   ]
  },
  {
   "cell_type": "markdown",
   "metadata": {},
   "source": [
    "## Dataset to export"
   ]
  },
  {
   "cell_type": "code",
   "execution_count": 245,
   "metadata": {},
   "outputs": [
    {
     "data": {
      "text/html": [
       "<div>\n",
       "<style scoped>\n",
       "    .dataframe tbody tr th:only-of-type {\n",
       "        vertical-align: middle;\n",
       "    }\n",
       "\n",
       "    .dataframe tbody tr th {\n",
       "        vertical-align: top;\n",
       "    }\n",
       "\n",
       "    .dataframe thead th {\n",
       "        text-align: right;\n",
       "    }\n",
       "</style>\n",
       "<table border=\"1\" class=\"dataframe\">\n",
       "  <thead>\n",
       "    <tr style=\"text-align: right;\">\n",
       "      <th></th>\n",
       "      <th>Location</th>\n",
       "      <th>Period</th>\n",
       "      <th>Indicator</th>\n",
       "      <th>Dim1</th>\n",
       "      <th>First Tooltip</th>\n",
       "    </tr>\n",
       "  </thead>\n",
       "  <tbody>\n",
       "    <tr>\n",
       "      <th>3</th>\n",
       "      <td>Afghanistan</td>\n",
       "      <td>2015</td>\n",
       "      <td>Healthy life expectancy (HALE) at birth (years)</td>\n",
       "      <td>Both sexes</td>\n",
       "      <td>52.60</td>\n",
       "    </tr>\n",
       "    <tr>\n",
       "      <th>15</th>\n",
       "      <td>Albania</td>\n",
       "      <td>2015</td>\n",
       "      <td>Healthy life expectancy (HALE) at birth (years)</td>\n",
       "      <td>Both sexes</td>\n",
       "      <td>69.03</td>\n",
       "    </tr>\n",
       "    <tr>\n",
       "      <th>27</th>\n",
       "      <td>Algeria</td>\n",
       "      <td>2015</td>\n",
       "      <td>Healthy life expectancy (HALE) at birth (years)</td>\n",
       "      <td>Both sexes</td>\n",
       "      <td>65.99</td>\n",
       "    </tr>\n",
       "    <tr>\n",
       "      <th>39</th>\n",
       "      <td>Angola</td>\n",
       "      <td>2015</td>\n",
       "      <td>Healthy life expectancy (HALE) at birth (years)</td>\n",
       "      <td>Both sexes</td>\n",
       "      <td>53.66</td>\n",
       "    </tr>\n",
       "    <tr>\n",
       "      <th>51</th>\n",
       "      <td>Antigua and Barbuda</td>\n",
       "      <td>2015</td>\n",
       "      <td>Healthy life expectancy (HALE) at birth (years)</td>\n",
       "      <td>Both sexes</td>\n",
       "      <td>66.81</td>\n",
       "    </tr>\n",
       "    <tr>\n",
       "      <th>...</th>\n",
       "      <td>...</td>\n",
       "      <td>...</td>\n",
       "      <td>...</td>\n",
       "      <td>...</td>\n",
       "      <td>...</td>\n",
       "    </tr>\n",
       "    <tr>\n",
       "      <th>2139</th>\n",
       "      <td>Venezuela (Bolivarian Republic of)</td>\n",
       "      <td>2015</td>\n",
       "      <td>Healthy life expectancy (HALE) at birth (years)</td>\n",
       "      <td>Both sexes</td>\n",
       "      <td>65.10</td>\n",
       "    </tr>\n",
       "    <tr>\n",
       "      <th>2151</th>\n",
       "      <td>Viet Nam</td>\n",
       "      <td>2015</td>\n",
       "      <td>Healthy life expectancy (HALE) at birth (years)</td>\n",
       "      <td>Both sexes</td>\n",
       "      <td>64.89</td>\n",
       "    </tr>\n",
       "    <tr>\n",
       "      <th>2163</th>\n",
       "      <td>Yemen</td>\n",
       "      <td>2015</td>\n",
       "      <td>Healthy life expectancy (HALE) at birth (years)</td>\n",
       "      <td>Both sexes</td>\n",
       "      <td>58.38</td>\n",
       "    </tr>\n",
       "    <tr>\n",
       "      <th>2175</th>\n",
       "      <td>Zambia</td>\n",
       "      <td>2015</td>\n",
       "      <td>Healthy life expectancy (HALE) at birth (years)</td>\n",
       "      <td>Both sexes</td>\n",
       "      <td>52.71</td>\n",
       "    </tr>\n",
       "    <tr>\n",
       "      <th>2187</th>\n",
       "      <td>Zimbabwe</td>\n",
       "      <td>2015</td>\n",
       "      <td>Healthy life expectancy (HALE) at birth (years)</td>\n",
       "      <td>Both sexes</td>\n",
       "      <td>51.17</td>\n",
       "    </tr>\n",
       "  </tbody>\n",
       "</table>\n",
       "<p>183 rows × 5 columns</p>\n",
       "</div>"
      ],
      "text/plain": [
       "                                Location  Period  \\\n",
       "3                            Afghanistan    2015   \n",
       "15                               Albania    2015   \n",
       "27                               Algeria    2015   \n",
       "39                                Angola    2015   \n",
       "51                   Antigua and Barbuda    2015   \n",
       "...                                  ...     ...   \n",
       "2139  Venezuela (Bolivarian Republic of)    2015   \n",
       "2151                            Viet Nam    2015   \n",
       "2163                               Yemen    2015   \n",
       "2175                              Zambia    2015   \n",
       "2187                            Zimbabwe    2015   \n",
       "\n",
       "                                            Indicator        Dim1  \\\n",
       "3     Healthy life expectancy (HALE) at birth (years)  Both sexes   \n",
       "15    Healthy life expectancy (HALE) at birth (years)  Both sexes   \n",
       "27    Healthy life expectancy (HALE) at birth (years)  Both sexes   \n",
       "39    Healthy life expectancy (HALE) at birth (years)  Both sexes   \n",
       "51    Healthy life expectancy (HALE) at birth (years)  Both sexes   \n",
       "...                                               ...         ...   \n",
       "2139  Healthy life expectancy (HALE) at birth (years)  Both sexes   \n",
       "2151  Healthy life expectancy (HALE) at birth (years)  Both sexes   \n",
       "2163  Healthy life expectancy (HALE) at birth (years)  Both sexes   \n",
       "2175  Healthy life expectancy (HALE) at birth (years)  Both sexes   \n",
       "2187  Healthy life expectancy (HALE) at birth (years)  Both sexes   \n",
       "\n",
       "      First Tooltip  \n",
       "3             52.60  \n",
       "15            69.03  \n",
       "27            65.99  \n",
       "39            53.66  \n",
       "51            66.81  \n",
       "...             ...  \n",
       "2139          65.10  \n",
       "2151          64.89  \n",
       "2163          58.38  \n",
       "2175          52.71  \n",
       "2187          51.17  \n",
       "\n",
       "[183 rows x 5 columns]"
      ]
     },
     "execution_count": 245,
     "metadata": {},
     "output_type": "execute_result"
    }
   ],
   "source": [
    "hleb_2015 = hleb_bs[hleb_bs['Period'] == 2015]\n",
    "hleb_2015"
   ]
  },
  {
   "cell_type": "code",
   "execution_count": null,
   "metadata": {},
   "outputs": [],
   "source": []
  },
  {
   "cell_type": "markdown",
   "metadata": {},
   "source": [
    "## Healthy Life Expectancy at Birth WHO Region - IGNORE"
   ]
  },
  {
   "cell_type": "code",
   "execution_count": null,
   "metadata": {},
   "outputs": [],
   "source": []
  },
  {
   "cell_type": "markdown",
   "metadata": {},
   "source": [
    "## Hepatitis B Surface Antigen"
   ]
  },
  {
   "cell_type": "code",
   "execution_count": 247,
   "metadata": {},
   "outputs": [
    {
     "data": {
      "text/html": [
       "<div>\n",
       "<style scoped>\n",
       "    .dataframe tbody tr th:only-of-type {\n",
       "        vertical-align: middle;\n",
       "    }\n",
       "\n",
       "    .dataframe tbody tr th {\n",
       "        vertical-align: top;\n",
       "    }\n",
       "\n",
       "    .dataframe thead th {\n",
       "        text-align: right;\n",
       "    }\n",
       "</style>\n",
       "<table border=\"1\" class=\"dataframe\">\n",
       "  <thead>\n",
       "    <tr style=\"text-align: right;\">\n",
       "      <th></th>\n",
       "      <th>Location</th>\n",
       "      <th>Indicator</th>\n",
       "      <th>Period</th>\n",
       "      <th>First Tooltip</th>\n",
       "    </tr>\n",
       "  </thead>\n",
       "  <tbody>\n",
       "    <tr>\n",
       "      <th>0</th>\n",
       "      <td>Afghanistan</td>\n",
       "      <td>Hepatitis B surface antigen (HBsAg) prevalence...</td>\n",
       "      <td>2015</td>\n",
       "      <td>0.5 [0.29-0.78]</td>\n",
       "    </tr>\n",
       "    <tr>\n",
       "      <th>1</th>\n",
       "      <td>Albania</td>\n",
       "      <td>Hepatitis B surface antigen (HBsAg) prevalence...</td>\n",
       "      <td>2015</td>\n",
       "      <td>1.29 [0.83-1.91]</td>\n",
       "    </tr>\n",
       "    <tr>\n",
       "      <th>2</th>\n",
       "      <td>Algeria</td>\n",
       "      <td>Hepatitis B surface antigen (HBsAg) prevalence...</td>\n",
       "      <td>2015</td>\n",
       "      <td>0.22 [0.12-0.34]</td>\n",
       "    </tr>\n",
       "    <tr>\n",
       "      <th>3</th>\n",
       "      <td>Andorra</td>\n",
       "      <td>Hepatitis B surface antigen (HBsAg) prevalence...</td>\n",
       "      <td>2015</td>\n",
       "      <td>0.08 [0-1.65]</td>\n",
       "    </tr>\n",
       "    <tr>\n",
       "      <th>4</th>\n",
       "      <td>Angola</td>\n",
       "      <td>Hepatitis B surface antigen (HBsAg) prevalence...</td>\n",
       "      <td>2015</td>\n",
       "      <td>4.85 [3.29-6.81]</td>\n",
       "    </tr>\n",
       "    <tr>\n",
       "      <th>...</th>\n",
       "      <td>...</td>\n",
       "      <td>...</td>\n",
       "      <td>...</td>\n",
       "      <td>...</td>\n",
       "    </tr>\n",
       "    <tr>\n",
       "      <th>189</th>\n",
       "      <td>Venezuela (Bolivarian Republic of)</td>\n",
       "      <td>Hepatitis B surface antigen (HBsAg) prevalence...</td>\n",
       "      <td>2015</td>\n",
       "      <td>0.62 [0.41-0.91]</td>\n",
       "    </tr>\n",
       "    <tr>\n",
       "      <th>190</th>\n",
       "      <td>Viet Nam</td>\n",
       "      <td>Hepatitis B surface antigen (HBsAg) prevalence...</td>\n",
       "      <td>2015</td>\n",
       "      <td>1.2 [0.84-1.62]</td>\n",
       "    </tr>\n",
       "    <tr>\n",
       "      <th>191</th>\n",
       "      <td>Yemen</td>\n",
       "      <td>Hepatitis B surface antigen (HBsAg) prevalence...</td>\n",
       "      <td>2015</td>\n",
       "      <td>2.54 [1.82-3.54]</td>\n",
       "    </tr>\n",
       "    <tr>\n",
       "      <th>192</th>\n",
       "      <td>Zambia</td>\n",
       "      <td>Hepatitis B surface antigen (HBsAg) prevalence...</td>\n",
       "      <td>2015</td>\n",
       "      <td>1.84 [1.17-2.76]</td>\n",
       "    </tr>\n",
       "    <tr>\n",
       "      <th>193</th>\n",
       "      <td>Zimbabwe</td>\n",
       "      <td>Hepatitis B surface antigen (HBsAg) prevalence...</td>\n",
       "      <td>2015</td>\n",
       "      <td>4.38 [2.92-6.33]</td>\n",
       "    </tr>\n",
       "  </tbody>\n",
       "</table>\n",
       "<p>194 rows × 4 columns</p>\n",
       "</div>"
      ],
      "text/plain": [
       "                               Location  \\\n",
       "0                           Afghanistan   \n",
       "1                               Albania   \n",
       "2                               Algeria   \n",
       "3                               Andorra   \n",
       "4                                Angola   \n",
       "..                                  ...   \n",
       "189  Venezuela (Bolivarian Republic of)   \n",
       "190                            Viet Nam   \n",
       "191                               Yemen   \n",
       "192                              Zambia   \n",
       "193                            Zimbabwe   \n",
       "\n",
       "                                             Indicator  Period  \\\n",
       "0    Hepatitis B surface antigen (HBsAg) prevalence...    2015   \n",
       "1    Hepatitis B surface antigen (HBsAg) prevalence...    2015   \n",
       "2    Hepatitis B surface antigen (HBsAg) prevalence...    2015   \n",
       "3    Hepatitis B surface antigen (HBsAg) prevalence...    2015   \n",
       "4    Hepatitis B surface antigen (HBsAg) prevalence...    2015   \n",
       "..                                                 ...     ...   \n",
       "189  Hepatitis B surface antigen (HBsAg) prevalence...    2015   \n",
       "190  Hepatitis B surface antigen (HBsAg) prevalence...    2015   \n",
       "191  Hepatitis B surface antigen (HBsAg) prevalence...    2015   \n",
       "192  Hepatitis B surface antigen (HBsAg) prevalence...    2015   \n",
       "193  Hepatitis B surface antigen (HBsAg) prevalence...    2015   \n",
       "\n",
       "        First Tooltip  \n",
       "0     0.5 [0.29-0.78]  \n",
       "1    1.29 [0.83-1.91]  \n",
       "2    0.22 [0.12-0.34]  \n",
       "3       0.08 [0-1.65]  \n",
       "4    4.85 [3.29-6.81]  \n",
       "..                ...  \n",
       "189  0.62 [0.41-0.91]  \n",
       "190   1.2 [0.84-1.62]  \n",
       "191  2.54 [1.82-3.54]  \n",
       "192  1.84 [1.17-2.76]  \n",
       "193  4.38 [2.92-6.33]  \n",
       "\n",
       "[194 rows x 4 columns]"
      ]
     },
     "execution_count": 247,
     "metadata": {},
     "output_type": "execute_result"
    }
   ],
   "source": [
    "hepb_data = pd.read_csv(WHS_path/'hepatitusBsurfaceAntigen.csv')\n",
    "hepb_data"
   ]
  },
  {
   "cell_type": "code",
   "execution_count": 248,
   "metadata": {},
   "outputs": [
    {
     "data": {
      "text/plain": [
       "Location         194\n",
       "Indicator        194\n",
       "Period           194\n",
       "First Tooltip    194\n",
       "dtype: int64"
      ]
     },
     "execution_count": 248,
     "metadata": {},
     "output_type": "execute_result"
    }
   ],
   "source": [
    "hepb_data.isnull().count()"
   ]
  },
  {
   "cell_type": "code",
   "execution_count": 249,
   "metadata": {},
   "outputs": [
    {
     "data": {
      "text/html": [
       "<div>\n",
       "<style scoped>\n",
       "    .dataframe tbody tr th:only-of-type {\n",
       "        vertical-align: middle;\n",
       "    }\n",
       "\n",
       "    .dataframe tbody tr th {\n",
       "        vertical-align: top;\n",
       "    }\n",
       "\n",
       "    .dataframe thead th {\n",
       "        text-align: right;\n",
       "    }\n",
       "</style>\n",
       "<table border=\"1\" class=\"dataframe\">\n",
       "  <thead>\n",
       "    <tr style=\"text-align: right;\">\n",
       "      <th></th>\n",
       "      <th>Location</th>\n",
       "      <th>Indicator</th>\n",
       "      <th>Period</th>\n",
       "      <th>First Tooltip</th>\n",
       "    </tr>\n",
       "  </thead>\n",
       "  <tbody>\n",
       "  </tbody>\n",
       "</table>\n",
       "</div>"
      ],
      "text/plain": [
       "Empty DataFrame\n",
       "Columns: [Location, Indicator, Period, First Tooltip]\n",
       "Index: []"
      ]
     },
     "execution_count": 249,
     "metadata": {},
     "output_type": "execute_result"
    }
   ],
   "source": [
    "hepb_data[hepb_data['First Tooltip'] == 0.0]"
   ]
  },
  {
   "cell_type": "code",
   "execution_count": 250,
   "metadata": {},
   "outputs": [
    {
     "data": {
      "text/plain": [
       "array(['Hepatitis B surface antigen (HBsAg) prevalence among children under 5 years (%)'],\n",
       "      dtype=object)"
      ]
     },
     "execution_count": 250,
     "metadata": {},
     "output_type": "execute_result"
    }
   ],
   "source": [
    "hepb_data['Indicator'].unique()"
   ]
  },
  {
   "cell_type": "markdown",
   "metadata": {},
   "source": [
    "The only year is in 2015"
   ]
  },
  {
   "cell_type": "code",
   "execution_count": 251,
   "metadata": {},
   "outputs": [
    {
     "data": {
      "text/plain": [
       "array([2015])"
      ]
     },
     "execution_count": 251,
     "metadata": {},
     "output_type": "execute_result"
    }
   ],
   "source": [
    "hepb_data['Period'].unique()"
   ]
  },
  {
   "cell_type": "markdown",
   "metadata": {},
   "source": [
    "## HepB data only has 1 year. May be best to ignore."
   ]
  },
  {
   "cell_type": "code",
   "execution_count": null,
   "metadata": {},
   "outputs": [],
   "source": []
  },
  {
   "cell_type": "markdown",
   "metadata": {},
   "source": [
    "## Malaria"
   ]
  },
  {
   "cell_type": "code",
   "execution_count": 256,
   "metadata": {},
   "outputs": [
    {
     "data": {
      "text/html": [
       "<div>\n",
       "<style scoped>\n",
       "    .dataframe tbody tr th:only-of-type {\n",
       "        vertical-align: middle;\n",
       "    }\n",
       "\n",
       "    .dataframe tbody tr th {\n",
       "        vertical-align: top;\n",
       "    }\n",
       "\n",
       "    .dataframe thead th {\n",
       "        text-align: right;\n",
       "    }\n",
       "</style>\n",
       "<table border=\"1\" class=\"dataframe\">\n",
       "  <thead>\n",
       "    <tr style=\"text-align: right;\">\n",
       "      <th></th>\n",
       "      <th>Location</th>\n",
       "      <th>Indicator</th>\n",
       "      <th>Period</th>\n",
       "      <th>First Tooltip</th>\n",
       "    </tr>\n",
       "  </thead>\n",
       "  <tbody>\n",
       "    <tr>\n",
       "      <th>0</th>\n",
       "      <td>Afghanistan</td>\n",
       "      <td>Malaria incidence (per 1 000 population at risk)</td>\n",
       "      <td>2018</td>\n",
       "      <td>29.01</td>\n",
       "    </tr>\n",
       "    <tr>\n",
       "      <th>1</th>\n",
       "      <td>Afghanistan</td>\n",
       "      <td>Malaria incidence (per 1 000 population at risk)</td>\n",
       "      <td>2017</td>\n",
       "      <td>27.07</td>\n",
       "    </tr>\n",
       "    <tr>\n",
       "      <th>2</th>\n",
       "      <td>Afghanistan</td>\n",
       "      <td>Malaria incidence (per 1 000 population at risk)</td>\n",
       "      <td>2016</td>\n",
       "      <td>26.11</td>\n",
       "    </tr>\n",
       "    <tr>\n",
       "      <th>3</th>\n",
       "      <td>Afghanistan</td>\n",
       "      <td>Malaria incidence (per 1 000 population at risk)</td>\n",
       "      <td>2015</td>\n",
       "      <td>14.91</td>\n",
       "    </tr>\n",
       "    <tr>\n",
       "      <th>4</th>\n",
       "      <td>Afghanistan</td>\n",
       "      <td>Malaria incidence (per 1 000 population at risk)</td>\n",
       "      <td>2014</td>\n",
       "      <td>12.67</td>\n",
       "    </tr>\n",
       "    <tr>\n",
       "      <th>...</th>\n",
       "      <td>...</td>\n",
       "      <td>...</td>\n",
       "      <td>...</td>\n",
       "      <td>...</td>\n",
       "    </tr>\n",
       "    <tr>\n",
       "      <th>2028</th>\n",
       "      <td>Zimbabwe</td>\n",
       "      <td>Malaria incidence (per 1 000 population at risk)</td>\n",
       "      <td>2004</td>\n",
       "      <td>120.20</td>\n",
       "    </tr>\n",
       "    <tr>\n",
       "      <th>2029</th>\n",
       "      <td>Zimbabwe</td>\n",
       "      <td>Malaria incidence (per 1 000 population at risk)</td>\n",
       "      <td>2003</td>\n",
       "      <td>120.90</td>\n",
       "    </tr>\n",
       "    <tr>\n",
       "      <th>2030</th>\n",
       "      <td>Zimbabwe</td>\n",
       "      <td>Malaria incidence (per 1 000 population at risk)</td>\n",
       "      <td>2002</td>\n",
       "      <td>121.50</td>\n",
       "    </tr>\n",
       "    <tr>\n",
       "      <th>2031</th>\n",
       "      <td>Zimbabwe</td>\n",
       "      <td>Malaria incidence (per 1 000 population at risk)</td>\n",
       "      <td>2001</td>\n",
       "      <td>122.10</td>\n",
       "    </tr>\n",
       "    <tr>\n",
       "      <th>2032</th>\n",
       "      <td>Zimbabwe</td>\n",
       "      <td>Malaria incidence (per 1 000 population at risk)</td>\n",
       "      <td>2000</td>\n",
       "      <td>123.00</td>\n",
       "    </tr>\n",
       "  </tbody>\n",
       "</table>\n",
       "<p>2033 rows × 4 columns</p>\n",
       "</div>"
      ],
      "text/plain": [
       "         Location                                         Indicator  Period  \\\n",
       "0     Afghanistan  Malaria incidence (per 1 000 population at risk)    2018   \n",
       "1     Afghanistan  Malaria incidence (per 1 000 population at risk)    2017   \n",
       "2     Afghanistan  Malaria incidence (per 1 000 population at risk)    2016   \n",
       "3     Afghanistan  Malaria incidence (per 1 000 population at risk)    2015   \n",
       "4     Afghanistan  Malaria incidence (per 1 000 population at risk)    2014   \n",
       "...           ...                                               ...     ...   \n",
       "2028     Zimbabwe  Malaria incidence (per 1 000 population at risk)    2004   \n",
       "2029     Zimbabwe  Malaria incidence (per 1 000 population at risk)    2003   \n",
       "2030     Zimbabwe  Malaria incidence (per 1 000 population at risk)    2002   \n",
       "2031     Zimbabwe  Malaria incidence (per 1 000 population at risk)    2001   \n",
       "2032     Zimbabwe  Malaria incidence (per 1 000 population at risk)    2000   \n",
       "\n",
       "      First Tooltip  \n",
       "0             29.01  \n",
       "1             27.07  \n",
       "2             26.11  \n",
       "3             14.91  \n",
       "4             12.67  \n",
       "...             ...  \n",
       "2028         120.20  \n",
       "2029         120.90  \n",
       "2030         121.50  \n",
       "2031         122.10  \n",
       "2032         123.00  \n",
       "\n",
       "[2033 rows x 4 columns]"
      ]
     },
     "execution_count": 256,
     "metadata": {},
     "output_type": "execute_result"
    }
   ],
   "source": [
    "malaria_data = pd.read_csv(WHS_path/'incedenceOfMalaria.csv')\n",
    "malaria_data"
   ]
  },
  {
   "cell_type": "code",
   "execution_count": 257,
   "metadata": {},
   "outputs": [
    {
     "data": {
      "text/plain": [
       "Location         2033\n",
       "Indicator        2033\n",
       "Period           2033\n",
       "First Tooltip    2033\n",
       "dtype: int64"
      ]
     },
     "execution_count": 257,
     "metadata": {},
     "output_type": "execute_result"
    }
   ],
   "source": [
    "malaria_data.isnull().count()"
   ]
  },
  {
   "cell_type": "markdown",
   "metadata": {},
   "source": [
    "This dataset has a high number of zeros. The data has a chance of being accurrate or inaccurate. I guess it depends if mosquitos can be found in that country."
   ]
  },
  {
   "cell_type": "code",
   "execution_count": 261,
   "metadata": {},
   "outputs": [
    {
     "data": {
      "text/html": [
       "<div>\n",
       "<style scoped>\n",
       "    .dataframe tbody tr th:only-of-type {\n",
       "        vertical-align: middle;\n",
       "    }\n",
       "\n",
       "    .dataframe tbody tr th {\n",
       "        vertical-align: top;\n",
       "    }\n",
       "\n",
       "    .dataframe thead th {\n",
       "        text-align: right;\n",
       "    }\n",
       "</style>\n",
       "<table border=\"1\" class=\"dataframe\">\n",
       "  <thead>\n",
       "    <tr style=\"text-align: right;\">\n",
       "      <th></th>\n",
       "      <th>Location</th>\n",
       "      <th>Indicator</th>\n",
       "      <th>Period</th>\n",
       "      <th>First Tooltip</th>\n",
       "    </tr>\n",
       "  </thead>\n",
       "  <tbody>\n",
       "    <tr>\n",
       "      <th>19</th>\n",
       "      <td>Algeria</td>\n",
       "      <td>Malaria incidence (per 1 000 population at risk)</td>\n",
       "      <td>2018</td>\n",
       "      <td>0.0</td>\n",
       "    </tr>\n",
       "    <tr>\n",
       "      <th>20</th>\n",
       "      <td>Algeria</td>\n",
       "      <td>Malaria incidence (per 1 000 population at risk)</td>\n",
       "      <td>2017</td>\n",
       "      <td>0.0</td>\n",
       "    </tr>\n",
       "    <tr>\n",
       "      <th>21</th>\n",
       "      <td>Algeria</td>\n",
       "      <td>Malaria incidence (per 1 000 population at risk)</td>\n",
       "      <td>2016</td>\n",
       "      <td>0.0</td>\n",
       "    </tr>\n",
       "    <tr>\n",
       "      <th>22</th>\n",
       "      <td>Algeria</td>\n",
       "      <td>Malaria incidence (per 1 000 population at risk)</td>\n",
       "      <td>2015</td>\n",
       "      <td>0.0</td>\n",
       "    </tr>\n",
       "    <tr>\n",
       "      <th>23</th>\n",
       "      <td>Algeria</td>\n",
       "      <td>Malaria incidence (per 1 000 population at risk)</td>\n",
       "      <td>2014</td>\n",
       "      <td>0.0</td>\n",
       "    </tr>\n",
       "    <tr>\n",
       "      <th>...</th>\n",
       "      <td>...</td>\n",
       "      <td>...</td>\n",
       "      <td>...</td>\n",
       "      <td>...</td>\n",
       "    </tr>\n",
       "    <tr>\n",
       "      <th>1904</th>\n",
       "      <td>Uzbekistan</td>\n",
       "      <td>Malaria incidence (per 1 000 population at risk)</td>\n",
       "      <td>2014</td>\n",
       "      <td>0.0</td>\n",
       "    </tr>\n",
       "    <tr>\n",
       "      <th>1905</th>\n",
       "      <td>Uzbekistan</td>\n",
       "      <td>Malaria incidence (per 1 000 population at risk)</td>\n",
       "      <td>2013</td>\n",
       "      <td>0.0</td>\n",
       "    </tr>\n",
       "    <tr>\n",
       "      <th>1906</th>\n",
       "      <td>Uzbekistan</td>\n",
       "      <td>Malaria incidence (per 1 000 population at risk)</td>\n",
       "      <td>2012</td>\n",
       "      <td>0.0</td>\n",
       "    </tr>\n",
       "    <tr>\n",
       "      <th>1907</th>\n",
       "      <td>Uzbekistan</td>\n",
       "      <td>Malaria incidence (per 1 000 population at risk)</td>\n",
       "      <td>2011</td>\n",
       "      <td>0.0</td>\n",
       "    </tr>\n",
       "    <tr>\n",
       "      <th>1909</th>\n",
       "      <td>Uzbekistan</td>\n",
       "      <td>Malaria incidence (per 1 000 population at risk)</td>\n",
       "      <td>2009</td>\n",
       "      <td>0.0</td>\n",
       "    </tr>\n",
       "  </tbody>\n",
       "</table>\n",
       "<p>221 rows × 4 columns</p>\n",
       "</div>"
      ],
      "text/plain": [
       "        Location                                         Indicator  Period  \\\n",
       "19       Algeria  Malaria incidence (per 1 000 population at risk)    2018   \n",
       "20       Algeria  Malaria incidence (per 1 000 population at risk)    2017   \n",
       "21       Algeria  Malaria incidence (per 1 000 population at risk)    2016   \n",
       "22       Algeria  Malaria incidence (per 1 000 population at risk)    2015   \n",
       "23       Algeria  Malaria incidence (per 1 000 population at risk)    2014   \n",
       "...          ...                                               ...     ...   \n",
       "1904  Uzbekistan  Malaria incidence (per 1 000 population at risk)    2014   \n",
       "1905  Uzbekistan  Malaria incidence (per 1 000 population at risk)    2013   \n",
       "1906  Uzbekistan  Malaria incidence (per 1 000 population at risk)    2012   \n",
       "1907  Uzbekistan  Malaria incidence (per 1 000 population at risk)    2011   \n",
       "1909  Uzbekistan  Malaria incidence (per 1 000 population at risk)    2009   \n",
       "\n",
       "      First Tooltip  \n",
       "19              0.0  \n",
       "20              0.0  \n",
       "21              0.0  \n",
       "22              0.0  \n",
       "23              0.0  \n",
       "...             ...  \n",
       "1904            0.0  \n",
       "1905            0.0  \n",
       "1906            0.0  \n",
       "1907            0.0  \n",
       "1909            0.0  \n",
       "\n",
       "[221 rows x 4 columns]"
      ]
     },
     "execution_count": 261,
     "metadata": {},
     "output_type": "execute_result"
    }
   ],
   "source": [
    "malaria_data[malaria_data['First Tooltip'] == 0.0]"
   ]
  },
  {
   "cell_type": "code",
   "execution_count": 262,
   "metadata": {},
   "outputs": [
    {
     "data": {
      "text/plain": [
       "array(['Malaria incidence (per 1 000 population at risk)'], dtype=object)"
      ]
     },
     "execution_count": 262,
     "metadata": {},
     "output_type": "execute_result"
    }
   ],
   "source": [
    "malaria_data['Indicator'].unique()"
   ]
  },
  {
   "cell_type": "markdown",
   "metadata": {},
   "source": [
    "All years have the exact same number at 107! For that reason, I'm just selecting 2015 and 2016."
   ]
  },
  {
   "cell_type": "code",
   "execution_count": 263,
   "metadata": {},
   "outputs": [
    {
     "data": {
      "text/plain": [
       "array([2018, 2017, 2016, 2015, 2014, 2013, 2012, 2011, 2010, 2009, 2008,\n",
       "       2007, 2006, 2005, 2004, 2003, 2002, 2001, 2000])"
      ]
     },
     "execution_count": 263,
     "metadata": {},
     "output_type": "execute_result"
    }
   ],
   "source": [
    "malaria_data['Period'].unique()"
   ]
  },
  {
   "cell_type": "code",
   "execution_count": 265,
   "metadata": {},
   "outputs": [
    {
     "data": {
      "text/plain": [
       "Location         107\n",
       "Indicator        107\n",
       "Period           107\n",
       "First Tooltip    107\n",
       "dtype: int64"
      ]
     },
     "execution_count": 265,
     "metadata": {},
     "output_type": "execute_result"
    }
   ],
   "source": [
    "malaria_data[malaria_data['Period'] == 2018].count()"
   ]
  },
  {
   "cell_type": "code",
   "execution_count": 266,
   "metadata": {},
   "outputs": [
    {
     "data": {
      "text/plain": [
       "Location         107\n",
       "Indicator        107\n",
       "Period           107\n",
       "First Tooltip    107\n",
       "dtype: int64"
      ]
     },
     "execution_count": 266,
     "metadata": {},
     "output_type": "execute_result"
    }
   ],
   "source": [
    "malaria_data[malaria_data['Period'] == 2017].count()"
   ]
  },
  {
   "cell_type": "code",
   "execution_count": 267,
   "metadata": {},
   "outputs": [
    {
     "data": {
      "text/plain": [
       "Location         107\n",
       "Indicator        107\n",
       "Period           107\n",
       "First Tooltip    107\n",
       "dtype: int64"
      ]
     },
     "execution_count": 267,
     "metadata": {},
     "output_type": "execute_result"
    }
   ],
   "source": [
    "malaria_data[malaria_data['Period'] == 2016].count()"
   ]
  },
  {
   "cell_type": "code",
   "execution_count": 268,
   "metadata": {},
   "outputs": [
    {
     "data": {
      "text/plain": [
       "Location         107\n",
       "Indicator        107\n",
       "Period           107\n",
       "First Tooltip    107\n",
       "dtype: int64"
      ]
     },
     "execution_count": 268,
     "metadata": {},
     "output_type": "execute_result"
    }
   ],
   "source": [
    "malaria_data[malaria_data['Period'] == 2015].count()"
   ]
  },
  {
   "cell_type": "code",
   "execution_count": 269,
   "metadata": {},
   "outputs": [
    {
     "data": {
      "text/plain": [
       "Location         107\n",
       "Indicator        107\n",
       "Period           107\n",
       "First Tooltip    107\n",
       "dtype: int64"
      ]
     },
     "execution_count": 269,
     "metadata": {},
     "output_type": "execute_result"
    }
   ],
   "source": [
    "malaria_data[malaria_data['Period'] == 2014].count()"
   ]
  },
  {
   "cell_type": "code",
   "execution_count": 270,
   "metadata": {},
   "outputs": [
    {
     "data": {
      "text/plain": [
       "Location         107\n",
       "Indicator        107\n",
       "Period           107\n",
       "First Tooltip    107\n",
       "dtype: int64"
      ]
     },
     "execution_count": 270,
     "metadata": {},
     "output_type": "execute_result"
    }
   ],
   "source": [
    "malaria_data[malaria_data['Period'] == 2013].count()"
   ]
  },
  {
   "cell_type": "code",
   "execution_count": 271,
   "metadata": {},
   "outputs": [
    {
     "data": {
      "text/plain": [
       "Location         107\n",
       "Indicator        107\n",
       "Period           107\n",
       "First Tooltip    107\n",
       "dtype: int64"
      ]
     },
     "execution_count": 271,
     "metadata": {},
     "output_type": "execute_result"
    }
   ],
   "source": [
    "malaria_data[malaria_data['Period'] == 2012].count()"
   ]
  },
  {
   "cell_type": "code",
   "execution_count": 272,
   "metadata": {},
   "outputs": [
    {
     "data": {
      "text/plain": [
       "Location         107\n",
       "Indicator        107\n",
       "Period           107\n",
       "First Tooltip    107\n",
       "dtype: int64"
      ]
     },
     "execution_count": 272,
     "metadata": {},
     "output_type": "execute_result"
    }
   ],
   "source": [
    "malaria_data[malaria_data['Period'] == 2011].count()"
   ]
  },
  {
   "cell_type": "code",
   "execution_count": 273,
   "metadata": {},
   "outputs": [
    {
     "data": {
      "text/plain": [
       "Location         107\n",
       "Indicator        107\n",
       "Period           107\n",
       "First Tooltip    107\n",
       "dtype: int64"
      ]
     },
     "execution_count": 273,
     "metadata": {},
     "output_type": "execute_result"
    }
   ],
   "source": [
    "malaria_data[malaria_data['Period'] == 2010].count()"
   ]
  },
  {
   "cell_type": "code",
   "execution_count": 274,
   "metadata": {},
   "outputs": [
    {
     "data": {
      "text/plain": [
       "Location         107\n",
       "Indicator        107\n",
       "Period           107\n",
       "First Tooltip    107\n",
       "dtype: int64"
      ]
     },
     "execution_count": 274,
     "metadata": {},
     "output_type": "execute_result"
    }
   ],
   "source": [
    "malaria_data[malaria_data['Period'] == 2009].count()"
   ]
  },
  {
   "cell_type": "code",
   "execution_count": 275,
   "metadata": {},
   "outputs": [
    {
     "data": {
      "text/plain": [
       "Location         107\n",
       "Indicator        107\n",
       "Period           107\n",
       "First Tooltip    107\n",
       "dtype: int64"
      ]
     },
     "execution_count": 275,
     "metadata": {},
     "output_type": "execute_result"
    }
   ],
   "source": [
    "malaria_data[malaria_data['Period'] == 2008].count()"
   ]
  },
  {
   "cell_type": "code",
   "execution_count": 276,
   "metadata": {},
   "outputs": [
    {
     "data": {
      "text/plain": [
       "Location         107\n",
       "Indicator        107\n",
       "Period           107\n",
       "First Tooltip    107\n",
       "dtype: int64"
      ]
     },
     "execution_count": 276,
     "metadata": {},
     "output_type": "execute_result"
    }
   ],
   "source": [
    "malaria_data[malaria_data['Period'] == 2007].count()"
   ]
  },
  {
   "cell_type": "code",
   "execution_count": 277,
   "metadata": {},
   "outputs": [
    {
     "data": {
      "text/plain": [
       "Location         107\n",
       "Indicator        107\n",
       "Period           107\n",
       "First Tooltip    107\n",
       "dtype: int64"
      ]
     },
     "execution_count": 277,
     "metadata": {},
     "output_type": "execute_result"
    }
   ],
   "source": [
    "malaria_data[malaria_data['Period'] == 2006].count()"
   ]
  },
  {
   "cell_type": "code",
   "execution_count": 278,
   "metadata": {},
   "outputs": [
    {
     "data": {
      "text/plain": [
       "Location         107\n",
       "Indicator        107\n",
       "Period           107\n",
       "First Tooltip    107\n",
       "dtype: int64"
      ]
     },
     "execution_count": 278,
     "metadata": {},
     "output_type": "execute_result"
    }
   ],
   "source": [
    "malaria_data[malaria_data['Period'] == 2005].count()"
   ]
  },
  {
   "cell_type": "code",
   "execution_count": 279,
   "metadata": {},
   "outputs": [
    {
     "data": {
      "text/plain": [
       "Location         107\n",
       "Indicator        107\n",
       "Period           107\n",
       "First Tooltip    107\n",
       "dtype: int64"
      ]
     },
     "execution_count": 279,
     "metadata": {},
     "output_type": "execute_result"
    }
   ],
   "source": [
    "malaria_data[malaria_data['Period'] == 2004].count()"
   ]
  },
  {
   "cell_type": "code",
   "execution_count": 280,
   "metadata": {},
   "outputs": [
    {
     "data": {
      "text/plain": [
       "Location         107\n",
       "Indicator        107\n",
       "Period           107\n",
       "First Tooltip    107\n",
       "dtype: int64"
      ]
     },
     "execution_count": 280,
     "metadata": {},
     "output_type": "execute_result"
    }
   ],
   "source": [
    "malaria_data[malaria_data['Period'] == 2003].count()"
   ]
  },
  {
   "cell_type": "code",
   "execution_count": 281,
   "metadata": {},
   "outputs": [
    {
     "data": {
      "text/plain": [
       "Location         107\n",
       "Indicator        107\n",
       "Period           107\n",
       "First Tooltip    107\n",
       "dtype: int64"
      ]
     },
     "execution_count": 281,
     "metadata": {},
     "output_type": "execute_result"
    }
   ],
   "source": [
    "malaria_data[malaria_data['Period'] == 2002].count()"
   ]
  },
  {
   "cell_type": "code",
   "execution_count": 282,
   "metadata": {},
   "outputs": [
    {
     "data": {
      "text/plain": [
       "Location         107\n",
       "Indicator        107\n",
       "Period           107\n",
       "First Tooltip    107\n",
       "dtype: int64"
      ]
     },
     "execution_count": 282,
     "metadata": {},
     "output_type": "execute_result"
    }
   ],
   "source": [
    "malaria_data[malaria_data['Period'] == 2001].count()"
   ]
  },
  {
   "cell_type": "code",
   "execution_count": 283,
   "metadata": {},
   "outputs": [
    {
     "data": {
      "text/plain": [
       "Location         107\n",
       "Indicator        107\n",
       "Period           107\n",
       "First Tooltip    107\n",
       "dtype: int64"
      ]
     },
     "execution_count": 283,
     "metadata": {},
     "output_type": "execute_result"
    }
   ],
   "source": [
    "malaria_data[malaria_data['Period'] == 2000].count()"
   ]
  },
  {
   "cell_type": "code",
   "execution_count": null,
   "metadata": {},
   "outputs": [],
   "source": []
  }
 ],
 "metadata": {
  "kernelspec": {
   "display_name": "Python 3",
   "language": "python",
   "name": "python3"
  },
  "language_info": {
   "codemirror_mode": {
    "name": "ipython",
    "version": 3
   },
   "file_extension": ".py",
   "mimetype": "text/x-python",
   "name": "python",
   "nbconvert_exporter": "python",
   "pygments_lexer": "ipython3",
   "version": "3.8.5"
  }
 },
 "nbformat": 4,
 "nbformat_minor": 4
}
