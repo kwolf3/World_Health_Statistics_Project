{
 "cells": [
  {
   "cell_type": "code",
   "execution_count": 1,
   "metadata": {},
   "outputs": [],
   "source": [
    "import pandas as pd\n",
    "import pathlib"
   ]
  },
  {
   "cell_type": "code",
   "execution_count": 2,
   "metadata": {},
   "outputs": [],
   "source": [
    "dataset_path = pathlib.Path.cwd()/'Datasets'\n",
    "WHS_path = dataset_path/'World_Health_Statistics_archive'"
   ]
  },
  {
   "cell_type": "markdown",
   "metadata": {},
   "source": [
    "## Cancer"
   ]
  },
  {
   "cell_type": "code",
   "execution_count": 3,
   "metadata": {},
   "outputs": [],
   "source": [
    "cancer_data = pd.read_csv(WHS_path/'30-70cancerChdEtc.csv')"
   ]
  },
  {
   "cell_type": "code",
   "execution_count": 4,
   "metadata": {},
   "outputs": [
    {
     "data": {
      "text/html": [
       "<div>\n",
       "<style scoped>\n",
       "    .dataframe tbody tr th:only-of-type {\n",
       "        vertical-align: middle;\n",
       "    }\n",
       "\n",
       "    .dataframe tbody tr th {\n",
       "        vertical-align: top;\n",
       "    }\n",
       "\n",
       "    .dataframe thead th {\n",
       "        text-align: right;\n",
       "    }\n",
       "</style>\n",
       "<table border=\"1\" class=\"dataframe\">\n",
       "  <thead>\n",
       "    <tr style=\"text-align: right;\">\n",
       "      <th></th>\n",
       "      <th>Location</th>\n",
       "      <th>Period</th>\n",
       "      <th>Indicator</th>\n",
       "      <th>Dim1</th>\n",
       "      <th>First Tooltip</th>\n",
       "    </tr>\n",
       "  </thead>\n",
       "  <tbody>\n",
       "    <tr>\n",
       "      <th>0</th>\n",
       "      <td>Afghanistan</td>\n",
       "      <td>2016</td>\n",
       "      <td>Probability (%) of dying between age 30 and ex...</td>\n",
       "      <td>Both sexes</td>\n",
       "      <td>29.8</td>\n",
       "    </tr>\n",
       "    <tr>\n",
       "      <th>1</th>\n",
       "      <td>Afghanistan</td>\n",
       "      <td>2016</td>\n",
       "      <td>Probability (%) of dying between age 30 and ex...</td>\n",
       "      <td>Male</td>\n",
       "      <td>31.8</td>\n",
       "    </tr>\n",
       "    <tr>\n",
       "      <th>2</th>\n",
       "      <td>Afghanistan</td>\n",
       "      <td>2016</td>\n",
       "      <td>Probability (%) of dying between age 30 and ex...</td>\n",
       "      <td>Female</td>\n",
       "      <td>27.7</td>\n",
       "    </tr>\n",
       "    <tr>\n",
       "      <th>3</th>\n",
       "      <td>Afghanistan</td>\n",
       "      <td>2015</td>\n",
       "      <td>Probability (%) of dying between age 30 and ex...</td>\n",
       "      <td>Both sexes</td>\n",
       "      <td>29.8</td>\n",
       "    </tr>\n",
       "    <tr>\n",
       "      <th>4</th>\n",
       "      <td>Afghanistan</td>\n",
       "      <td>2015</td>\n",
       "      <td>Probability (%) of dying between age 30 and ex...</td>\n",
       "      <td>Male</td>\n",
       "      <td>31.9</td>\n",
       "    </tr>\n",
       "    <tr>\n",
       "      <th>...</th>\n",
       "      <td>...</td>\n",
       "      <td>...</td>\n",
       "      <td>...</td>\n",
       "      <td>...</td>\n",
       "      <td>...</td>\n",
       "    </tr>\n",
       "    <tr>\n",
       "      <th>2740</th>\n",
       "      <td>Zimbabwe</td>\n",
       "      <td>2005</td>\n",
       "      <td>Probability (%) of dying between age 30 and ex...</td>\n",
       "      <td>Male</td>\n",
       "      <td>22.1</td>\n",
       "    </tr>\n",
       "    <tr>\n",
       "      <th>2741</th>\n",
       "      <td>Zimbabwe</td>\n",
       "      <td>2005</td>\n",
       "      <td>Probability (%) of dying between age 30 and ex...</td>\n",
       "      <td>Female</td>\n",
       "      <td>22.9</td>\n",
       "    </tr>\n",
       "    <tr>\n",
       "      <th>2742</th>\n",
       "      <td>Zimbabwe</td>\n",
       "      <td>2000</td>\n",
       "      <td>Probability (%) of dying between age 30 and ex...</td>\n",
       "      <td>Both sexes</td>\n",
       "      <td>21.6</td>\n",
       "    </tr>\n",
       "    <tr>\n",
       "      <th>2743</th>\n",
       "      <td>Zimbabwe</td>\n",
       "      <td>2000</td>\n",
       "      <td>Probability (%) of dying between age 30 and ex...</td>\n",
       "      <td>Male</td>\n",
       "      <td>21.6</td>\n",
       "    </tr>\n",
       "    <tr>\n",
       "      <th>2744</th>\n",
       "      <td>Zimbabwe</td>\n",
       "      <td>2000</td>\n",
       "      <td>Probability (%) of dying between age 30 and ex...</td>\n",
       "      <td>Female</td>\n",
       "      <td>21.7</td>\n",
       "    </tr>\n",
       "  </tbody>\n",
       "</table>\n",
       "<p>2745 rows × 5 columns</p>\n",
       "</div>"
      ],
      "text/plain": [
       "         Location  Period                                          Indicator  \\\n",
       "0     Afghanistan    2016  Probability (%) of dying between age 30 and ex...   \n",
       "1     Afghanistan    2016  Probability (%) of dying between age 30 and ex...   \n",
       "2     Afghanistan    2016  Probability (%) of dying between age 30 and ex...   \n",
       "3     Afghanistan    2015  Probability (%) of dying between age 30 and ex...   \n",
       "4     Afghanistan    2015  Probability (%) of dying between age 30 and ex...   \n",
       "...           ...     ...                                                ...   \n",
       "2740     Zimbabwe    2005  Probability (%) of dying between age 30 and ex...   \n",
       "2741     Zimbabwe    2005  Probability (%) of dying between age 30 and ex...   \n",
       "2742     Zimbabwe    2000  Probability (%) of dying between age 30 and ex...   \n",
       "2743     Zimbabwe    2000  Probability (%) of dying between age 30 and ex...   \n",
       "2744     Zimbabwe    2000  Probability (%) of dying between age 30 and ex...   \n",
       "\n",
       "            Dim1  First Tooltip  \n",
       "0     Both sexes           29.8  \n",
       "1           Male           31.8  \n",
       "2         Female           27.7  \n",
       "3     Both sexes           29.8  \n",
       "4           Male           31.9  \n",
       "...          ...            ...  \n",
       "2740        Male           22.1  \n",
       "2741      Female           22.9  \n",
       "2742  Both sexes           21.6  \n",
       "2743        Male           21.6  \n",
       "2744      Female           21.7  \n",
       "\n",
       "[2745 rows x 5 columns]"
      ]
     },
     "execution_count": 4,
     "metadata": {},
     "output_type": "execute_result"
    }
   ],
   "source": [
    "cancer_data"
   ]
  },
  {
   "cell_type": "markdown",
   "metadata": {},
   "source": [
    "There is no nulls in this dataset"
   ]
  },
  {
   "cell_type": "code",
   "execution_count": 5,
   "metadata": {},
   "outputs": [
    {
     "data": {
      "text/plain": [
       "Location         2745\n",
       "Period           2745\n",
       "Indicator        2745\n",
       "Dim1             2745\n",
       "First Tooltip    2745\n",
       "dtype: int64"
      ]
     },
     "execution_count": 5,
     "metadata": {},
     "output_type": "execute_result"
    }
   ],
   "source": [
    "cancer_data.isnull().count()"
   ]
  },
  {
   "cell_type": "markdown",
   "metadata": {},
   "source": [
    "The years in this dataset are 2000, 2005, 2010, 2015, and 2016. It appears to be every 5 years except in regards to 2016."
   ]
  },
  {
   "cell_type": "code",
   "execution_count": 6,
   "metadata": {},
   "outputs": [
    {
     "data": {
      "text/plain": [
       "array([2016, 2015, 2010, 2005, 2000])"
      ]
     },
     "execution_count": 6,
     "metadata": {},
     "output_type": "execute_result"
    }
   ],
   "source": [
    "cancer_data['Period'].unique()"
   ]
  },
  {
   "cell_type": "markdown",
   "metadata": {},
   "source": [
    "All counts are the same for each year, so any year is a great choice."
   ]
  },
  {
   "cell_type": "code",
   "execution_count": 7,
   "metadata": {},
   "outputs": [
    {
     "data": {
      "text/plain": [
       "Location         549\n",
       "Period           549\n",
       "Indicator        549\n",
       "Dim1             549\n",
       "First Tooltip    549\n",
       "dtype: int64"
      ]
     },
     "execution_count": 7,
     "metadata": {},
     "output_type": "execute_result"
    }
   ],
   "source": [
    "cancer_data[cancer_data['Period'] == 2016].count()"
   ]
  },
  {
   "cell_type": "code",
   "execution_count": 8,
   "metadata": {},
   "outputs": [
    {
     "data": {
      "text/plain": [
       "Location         549\n",
       "Period           549\n",
       "Indicator        549\n",
       "Dim1             549\n",
       "First Tooltip    549\n",
       "dtype: int64"
      ]
     },
     "execution_count": 8,
     "metadata": {},
     "output_type": "execute_result"
    }
   ],
   "source": [
    "cancer_data[cancer_data['Period'] == 2015].count()"
   ]
  },
  {
   "cell_type": "code",
   "execution_count": 9,
   "metadata": {},
   "outputs": [
    {
     "data": {
      "text/plain": [
       "Location         549\n",
       "Period           549\n",
       "Indicator        549\n",
       "Dim1             549\n",
       "First Tooltip    549\n",
       "dtype: int64"
      ]
     },
     "execution_count": 9,
     "metadata": {},
     "output_type": "execute_result"
    }
   ],
   "source": [
    "cancer_data[cancer_data['Period'] == 2010].count()"
   ]
  },
  {
   "cell_type": "code",
   "execution_count": 10,
   "metadata": {},
   "outputs": [
    {
     "data": {
      "text/plain": [
       "Location         549\n",
       "Period           549\n",
       "Indicator        549\n",
       "Dim1             549\n",
       "First Tooltip    549\n",
       "dtype: int64"
      ]
     },
     "execution_count": 10,
     "metadata": {},
     "output_type": "execute_result"
    }
   ],
   "source": [
    "cancer_data[cancer_data['Period'] == 2005].count()"
   ]
  },
  {
   "cell_type": "code",
   "execution_count": 11,
   "metadata": {},
   "outputs": [
    {
     "data": {
      "text/plain": [
       "Location         549\n",
       "Period           549\n",
       "Indicator        549\n",
       "Dim1             549\n",
       "First Tooltip    549\n",
       "dtype: int64"
      ]
     },
     "execution_count": 11,
     "metadata": {},
     "output_type": "execute_result"
    }
   ],
   "source": [
    "cancer_data[cancer_data['Period'] == 2000].count()"
   ]
  },
  {
   "cell_type": "markdown",
   "metadata": {},
   "source": [
    "All data is about dying between the age 30 and 70 from cardiovascular disease, cancer, diabetes, or a chronic respiratory disease."
   ]
  },
  {
   "cell_type": "code",
   "execution_count": 12,
   "metadata": {},
   "outputs": [
    {
     "data": {
      "text/plain": [
       "array(['Probability (%) of dying between age 30 and exact age 70 from any of cardiovascular disease, cancer, diabetes, or chronic respiratory disease'],\n",
       "      dtype=object)"
      ]
     },
     "execution_count": 12,
     "metadata": {},
     "output_type": "execute_result"
    }
   ],
   "source": [
    "cancer_data['Indicator'].unique()"
   ]
  },
  {
   "cell_type": "code",
   "execution_count": 13,
   "metadata": {},
   "outputs": [],
   "source": [
    "#cancer_data['Dim1'].str.contains(\"Both Sexes\").count()"
   ]
  },
  {
   "cell_type": "code",
   "execution_count": 14,
   "metadata": {
    "scrolled": true
   },
   "outputs": [],
   "source": [
    "#cancer_data.iloc[[0]]"
   ]
  },
  {
   "cell_type": "code",
   "execution_count": 15,
   "metadata": {},
   "outputs": [
    {
     "data": {
      "text/html": [
       "<div>\n",
       "<style scoped>\n",
       "    .dataframe tbody tr th:only-of-type {\n",
       "        vertical-align: middle;\n",
       "    }\n",
       "\n",
       "    .dataframe tbody tr th {\n",
       "        vertical-align: top;\n",
       "    }\n",
       "\n",
       "    .dataframe thead th {\n",
       "        text-align: right;\n",
       "    }\n",
       "</style>\n",
       "<table border=\"1\" class=\"dataframe\">\n",
       "  <thead>\n",
       "    <tr style=\"text-align: right;\">\n",
       "      <th></th>\n",
       "      <th>Location</th>\n",
       "      <th>Period</th>\n",
       "      <th>Indicator</th>\n",
       "      <th>Dim1</th>\n",
       "      <th>First Tooltip</th>\n",
       "    </tr>\n",
       "  </thead>\n",
       "  <tbody>\n",
       "    <tr>\n",
       "      <th>0</th>\n",
       "      <td>Afghanistan</td>\n",
       "      <td>2016</td>\n",
       "      <td>Probability (%) of dying between age 30 and ex...</td>\n",
       "      <td>Both sexes</td>\n",
       "      <td>29.8</td>\n",
       "    </tr>\n",
       "    <tr>\n",
       "      <th>3</th>\n",
       "      <td>Afghanistan</td>\n",
       "      <td>2015</td>\n",
       "      <td>Probability (%) of dying between age 30 and ex...</td>\n",
       "      <td>Both sexes</td>\n",
       "      <td>29.8</td>\n",
       "    </tr>\n",
       "    <tr>\n",
       "      <th>6</th>\n",
       "      <td>Afghanistan</td>\n",
       "      <td>2010</td>\n",
       "      <td>Probability (%) of dying between age 30 and ex...</td>\n",
       "      <td>Both sexes</td>\n",
       "      <td>31.7</td>\n",
       "    </tr>\n",
       "    <tr>\n",
       "      <th>9</th>\n",
       "      <td>Afghanistan</td>\n",
       "      <td>2005</td>\n",
       "      <td>Probability (%) of dying between age 30 and ex...</td>\n",
       "      <td>Both sexes</td>\n",
       "      <td>34.1</td>\n",
       "    </tr>\n",
       "    <tr>\n",
       "      <th>12</th>\n",
       "      <td>Afghanistan</td>\n",
       "      <td>2000</td>\n",
       "      <td>Probability (%) of dying between age 30 and ex...</td>\n",
       "      <td>Both sexes</td>\n",
       "      <td>34.4</td>\n",
       "    </tr>\n",
       "    <tr>\n",
       "      <th>...</th>\n",
       "      <td>...</td>\n",
       "      <td>...</td>\n",
       "      <td>...</td>\n",
       "      <td>...</td>\n",
       "      <td>...</td>\n",
       "    </tr>\n",
       "    <tr>\n",
       "      <th>2730</th>\n",
       "      <td>Zimbabwe</td>\n",
       "      <td>2016</td>\n",
       "      <td>Probability (%) of dying between age 30 and ex...</td>\n",
       "      <td>Both sexes</td>\n",
       "      <td>19.3</td>\n",
       "    </tr>\n",
       "    <tr>\n",
       "      <th>2733</th>\n",
       "      <td>Zimbabwe</td>\n",
       "      <td>2015</td>\n",
       "      <td>Probability (%) of dying between age 30 and ex...</td>\n",
       "      <td>Both sexes</td>\n",
       "      <td>19.4</td>\n",
       "    </tr>\n",
       "    <tr>\n",
       "      <th>2736</th>\n",
       "      <td>Zimbabwe</td>\n",
       "      <td>2010</td>\n",
       "      <td>Probability (%) of dying between age 30 and ex...</td>\n",
       "      <td>Both sexes</td>\n",
       "      <td>21.1</td>\n",
       "    </tr>\n",
       "    <tr>\n",
       "      <th>2739</th>\n",
       "      <td>Zimbabwe</td>\n",
       "      <td>2005</td>\n",
       "      <td>Probability (%) of dying between age 30 and ex...</td>\n",
       "      <td>Both sexes</td>\n",
       "      <td>22.5</td>\n",
       "    </tr>\n",
       "    <tr>\n",
       "      <th>2742</th>\n",
       "      <td>Zimbabwe</td>\n",
       "      <td>2000</td>\n",
       "      <td>Probability (%) of dying between age 30 and ex...</td>\n",
       "      <td>Both sexes</td>\n",
       "      <td>21.6</td>\n",
       "    </tr>\n",
       "  </tbody>\n",
       "</table>\n",
       "<p>915 rows × 5 columns</p>\n",
       "</div>"
      ],
      "text/plain": [
       "         Location  Period                                          Indicator  \\\n",
       "0     Afghanistan    2016  Probability (%) of dying between age 30 and ex...   \n",
       "3     Afghanistan    2015  Probability (%) of dying between age 30 and ex...   \n",
       "6     Afghanistan    2010  Probability (%) of dying between age 30 and ex...   \n",
       "9     Afghanistan    2005  Probability (%) of dying between age 30 and ex...   \n",
       "12    Afghanistan    2000  Probability (%) of dying between age 30 and ex...   \n",
       "...           ...     ...                                                ...   \n",
       "2730     Zimbabwe    2016  Probability (%) of dying between age 30 and ex...   \n",
       "2733     Zimbabwe    2015  Probability (%) of dying between age 30 and ex...   \n",
       "2736     Zimbabwe    2010  Probability (%) of dying between age 30 and ex...   \n",
       "2739     Zimbabwe    2005  Probability (%) of dying between age 30 and ex...   \n",
       "2742     Zimbabwe    2000  Probability (%) of dying between age 30 and ex...   \n",
       "\n",
       "            Dim1  First Tooltip  \n",
       "0     Both sexes           29.8  \n",
       "3     Both sexes           29.8  \n",
       "6     Both sexes           31.7  \n",
       "9     Both sexes           34.1  \n",
       "12    Both sexes           34.4  \n",
       "...          ...            ...  \n",
       "2730  Both sexes           19.3  \n",
       "2733  Both sexes           19.4  \n",
       "2736  Both sexes           21.1  \n",
       "2739  Both sexes           22.5  \n",
       "2742  Both sexes           21.6  \n",
       "\n",
       "[915 rows x 5 columns]"
      ]
     },
     "execution_count": 15,
     "metadata": {},
     "output_type": "execute_result"
    }
   ],
   "source": [
    "cancer_both_sex = cancer_data[cancer_data['Dim1'] == 'Both sexes']\n",
    "cancer_both_sex"
   ]
  },
  {
   "cell_type": "markdown",
   "metadata": {},
   "source": [
    "## This dataframe will need to be exported."
   ]
  },
  {
   "cell_type": "code",
   "execution_count": 16,
   "metadata": {},
   "outputs": [
    {
     "data": {
      "text/html": [
       "<div>\n",
       "<style scoped>\n",
       "    .dataframe tbody tr th:only-of-type {\n",
       "        vertical-align: middle;\n",
       "    }\n",
       "\n",
       "    .dataframe tbody tr th {\n",
       "        vertical-align: top;\n",
       "    }\n",
       "\n",
       "    .dataframe thead th {\n",
       "        text-align: right;\n",
       "    }\n",
       "</style>\n",
       "<table border=\"1\" class=\"dataframe\">\n",
       "  <thead>\n",
       "    <tr style=\"text-align: right;\">\n",
       "      <th></th>\n",
       "      <th>Location</th>\n",
       "      <th>Period</th>\n",
       "      <th>Indicator</th>\n",
       "      <th>Dim1</th>\n",
       "      <th>First Tooltip</th>\n",
       "    </tr>\n",
       "  </thead>\n",
       "  <tbody>\n",
       "    <tr>\n",
       "      <th>0</th>\n",
       "      <td>Afghanistan</td>\n",
       "      <td>2016</td>\n",
       "      <td>Probability (%) of dying between age 30 and ex...</td>\n",
       "      <td>Both sexes</td>\n",
       "      <td>29.8</td>\n",
       "    </tr>\n",
       "    <tr>\n",
       "      <th>15</th>\n",
       "      <td>Albania</td>\n",
       "      <td>2016</td>\n",
       "      <td>Probability (%) of dying between age 30 and ex...</td>\n",
       "      <td>Both sexes</td>\n",
       "      <td>17.0</td>\n",
       "    </tr>\n",
       "    <tr>\n",
       "      <th>30</th>\n",
       "      <td>Algeria</td>\n",
       "      <td>2016</td>\n",
       "      <td>Probability (%) of dying between age 30 and ex...</td>\n",
       "      <td>Both sexes</td>\n",
       "      <td>14.2</td>\n",
       "    </tr>\n",
       "    <tr>\n",
       "      <th>45</th>\n",
       "      <td>Angola</td>\n",
       "      <td>2016</td>\n",
       "      <td>Probability (%) of dying between age 30 and ex...</td>\n",
       "      <td>Both sexes</td>\n",
       "      <td>16.5</td>\n",
       "    </tr>\n",
       "    <tr>\n",
       "      <th>60</th>\n",
       "      <td>Antigua and Barbuda</td>\n",
       "      <td>2016</td>\n",
       "      <td>Probability (%) of dying between age 30 and ex...</td>\n",
       "      <td>Both sexes</td>\n",
       "      <td>22.6</td>\n",
       "    </tr>\n",
       "    <tr>\n",
       "      <th>...</th>\n",
       "      <td>...</td>\n",
       "      <td>...</td>\n",
       "      <td>...</td>\n",
       "      <td>...</td>\n",
       "      <td>...</td>\n",
       "    </tr>\n",
       "    <tr>\n",
       "      <th>2670</th>\n",
       "      <td>Venezuela (Bolivarian Republic of)</td>\n",
       "      <td>2016</td>\n",
       "      <td>Probability (%) of dying between age 30 and ex...</td>\n",
       "      <td>Both sexes</td>\n",
       "      <td>18.1</td>\n",
       "    </tr>\n",
       "    <tr>\n",
       "      <th>2685</th>\n",
       "      <td>Viet Nam</td>\n",
       "      <td>2016</td>\n",
       "      <td>Probability (%) of dying between age 30 and ex...</td>\n",
       "      <td>Both sexes</td>\n",
       "      <td>17.1</td>\n",
       "    </tr>\n",
       "    <tr>\n",
       "      <th>2700</th>\n",
       "      <td>Yemen</td>\n",
       "      <td>2016</td>\n",
       "      <td>Probability (%) of dying between age 30 and ex...</td>\n",
       "      <td>Both sexes</td>\n",
       "      <td>30.6</td>\n",
       "    </tr>\n",
       "    <tr>\n",
       "      <th>2715</th>\n",
       "      <td>Zambia</td>\n",
       "      <td>2016</td>\n",
       "      <td>Probability (%) of dying between age 30 and ex...</td>\n",
       "      <td>Both sexes</td>\n",
       "      <td>17.9</td>\n",
       "    </tr>\n",
       "    <tr>\n",
       "      <th>2730</th>\n",
       "      <td>Zimbabwe</td>\n",
       "      <td>2016</td>\n",
       "      <td>Probability (%) of dying between age 30 and ex...</td>\n",
       "      <td>Both sexes</td>\n",
       "      <td>19.3</td>\n",
       "    </tr>\n",
       "  </tbody>\n",
       "</table>\n",
       "<p>183 rows × 5 columns</p>\n",
       "</div>"
      ],
      "text/plain": [
       "                                Location  Period  \\\n",
       "0                            Afghanistan    2016   \n",
       "15                               Albania    2016   \n",
       "30                               Algeria    2016   \n",
       "45                                Angola    2016   \n",
       "60                   Antigua and Barbuda    2016   \n",
       "...                                  ...     ...   \n",
       "2670  Venezuela (Bolivarian Republic of)    2016   \n",
       "2685                            Viet Nam    2016   \n",
       "2700                               Yemen    2016   \n",
       "2715                              Zambia    2016   \n",
       "2730                            Zimbabwe    2016   \n",
       "\n",
       "                                              Indicator        Dim1  \\\n",
       "0     Probability (%) of dying between age 30 and ex...  Both sexes   \n",
       "15    Probability (%) of dying between age 30 and ex...  Both sexes   \n",
       "30    Probability (%) of dying between age 30 and ex...  Both sexes   \n",
       "45    Probability (%) of dying between age 30 and ex...  Both sexes   \n",
       "60    Probability (%) of dying between age 30 and ex...  Both sexes   \n",
       "...                                                 ...         ...   \n",
       "2670  Probability (%) of dying between age 30 and ex...  Both sexes   \n",
       "2685  Probability (%) of dying between age 30 and ex...  Both sexes   \n",
       "2700  Probability (%) of dying between age 30 and ex...  Both sexes   \n",
       "2715  Probability (%) of dying between age 30 and ex...  Both sexes   \n",
       "2730  Probability (%) of dying between age 30 and ex...  Both sexes   \n",
       "\n",
       "      First Tooltip  \n",
       "0              29.8  \n",
       "15             17.0  \n",
       "30             14.2  \n",
       "45             16.5  \n",
       "60             22.6  \n",
       "...             ...  \n",
       "2670           18.1  \n",
       "2685           17.1  \n",
       "2700           30.6  \n",
       "2715           17.9  \n",
       "2730           19.3  \n",
       "\n",
       "[183 rows x 5 columns]"
      ]
     },
     "execution_count": 16,
     "metadata": {},
     "output_type": "execute_result"
    }
   ],
   "source": [
    "cancer_both_sex_2016 = cancer_both_sex[cancer_both_sex['Period'] == 2016]\n",
    "cancer_both_sex_2016"
   ]
  },
  {
   "cell_type": "markdown",
   "metadata": {},
   "source": [
    "## This dataframe will need to be exported."
   ]
  },
  {
   "cell_type": "code",
   "execution_count": 17,
   "metadata": {},
   "outputs": [
    {
     "data": {
      "text/html": [
       "<div>\n",
       "<style scoped>\n",
       "    .dataframe tbody tr th:only-of-type {\n",
       "        vertical-align: middle;\n",
       "    }\n",
       "\n",
       "    .dataframe tbody tr th {\n",
       "        vertical-align: top;\n",
       "    }\n",
       "\n",
       "    .dataframe thead th {\n",
       "        text-align: right;\n",
       "    }\n",
       "</style>\n",
       "<table border=\"1\" class=\"dataframe\">\n",
       "  <thead>\n",
       "    <tr style=\"text-align: right;\">\n",
       "      <th></th>\n",
       "      <th>Location</th>\n",
       "      <th>Period</th>\n",
       "      <th>Indicator</th>\n",
       "      <th>Dim1</th>\n",
       "      <th>First Tooltip</th>\n",
       "    </tr>\n",
       "  </thead>\n",
       "  <tbody>\n",
       "    <tr>\n",
       "      <th>3</th>\n",
       "      <td>Afghanistan</td>\n",
       "      <td>2015</td>\n",
       "      <td>Probability (%) of dying between age 30 and ex...</td>\n",
       "      <td>Both sexes</td>\n",
       "      <td>29.8</td>\n",
       "    </tr>\n",
       "    <tr>\n",
       "      <th>18</th>\n",
       "      <td>Albania</td>\n",
       "      <td>2015</td>\n",
       "      <td>Probability (%) of dying between age 30 and ex...</td>\n",
       "      <td>Both sexes</td>\n",
       "      <td>17.4</td>\n",
       "    </tr>\n",
       "    <tr>\n",
       "      <th>33</th>\n",
       "      <td>Algeria</td>\n",
       "      <td>2015</td>\n",
       "      <td>Probability (%) of dying between age 30 and ex...</td>\n",
       "      <td>Both sexes</td>\n",
       "      <td>14.4</td>\n",
       "    </tr>\n",
       "    <tr>\n",
       "      <th>48</th>\n",
       "      <td>Angola</td>\n",
       "      <td>2015</td>\n",
       "      <td>Probability (%) of dying between age 30 and ex...</td>\n",
       "      <td>Both sexes</td>\n",
       "      <td>16.9</td>\n",
       "    </tr>\n",
       "    <tr>\n",
       "      <th>63</th>\n",
       "      <td>Antigua and Barbuda</td>\n",
       "      <td>2015</td>\n",
       "      <td>Probability (%) of dying between age 30 and ex...</td>\n",
       "      <td>Both sexes</td>\n",
       "      <td>22.6</td>\n",
       "    </tr>\n",
       "    <tr>\n",
       "      <th>...</th>\n",
       "      <td>...</td>\n",
       "      <td>...</td>\n",
       "      <td>...</td>\n",
       "      <td>...</td>\n",
       "      <td>...</td>\n",
       "    </tr>\n",
       "    <tr>\n",
       "      <th>2673</th>\n",
       "      <td>Venezuela (Bolivarian Republic of)</td>\n",
       "      <td>2015</td>\n",
       "      <td>Probability (%) of dying between age 30 and ex...</td>\n",
       "      <td>Both sexes</td>\n",
       "      <td>18.2</td>\n",
       "    </tr>\n",
       "    <tr>\n",
       "      <th>2688</th>\n",
       "      <td>Viet Nam</td>\n",
       "      <td>2015</td>\n",
       "      <td>Probability (%) of dying between age 30 and ex...</td>\n",
       "      <td>Both sexes</td>\n",
       "      <td>17.3</td>\n",
       "    </tr>\n",
       "    <tr>\n",
       "      <th>2703</th>\n",
       "      <td>Yemen</td>\n",
       "      <td>2015</td>\n",
       "      <td>Probability (%) of dying between age 30 and ex...</td>\n",
       "      <td>Both sexes</td>\n",
       "      <td>30.7</td>\n",
       "    </tr>\n",
       "    <tr>\n",
       "      <th>2718</th>\n",
       "      <td>Zambia</td>\n",
       "      <td>2015</td>\n",
       "      <td>Probability (%) of dying between age 30 and ex...</td>\n",
       "      <td>Both sexes</td>\n",
       "      <td>18.0</td>\n",
       "    </tr>\n",
       "    <tr>\n",
       "      <th>2733</th>\n",
       "      <td>Zimbabwe</td>\n",
       "      <td>2015</td>\n",
       "      <td>Probability (%) of dying between age 30 and ex...</td>\n",
       "      <td>Both sexes</td>\n",
       "      <td>19.4</td>\n",
       "    </tr>\n",
       "  </tbody>\n",
       "</table>\n",
       "<p>183 rows × 5 columns</p>\n",
       "</div>"
      ],
      "text/plain": [
       "                                Location  Period  \\\n",
       "3                            Afghanistan    2015   \n",
       "18                               Albania    2015   \n",
       "33                               Algeria    2015   \n",
       "48                                Angola    2015   \n",
       "63                   Antigua and Barbuda    2015   \n",
       "...                                  ...     ...   \n",
       "2673  Venezuela (Bolivarian Republic of)    2015   \n",
       "2688                            Viet Nam    2015   \n",
       "2703                               Yemen    2015   \n",
       "2718                              Zambia    2015   \n",
       "2733                            Zimbabwe    2015   \n",
       "\n",
       "                                              Indicator        Dim1  \\\n",
       "3     Probability (%) of dying between age 30 and ex...  Both sexes   \n",
       "18    Probability (%) of dying between age 30 and ex...  Both sexes   \n",
       "33    Probability (%) of dying between age 30 and ex...  Both sexes   \n",
       "48    Probability (%) of dying between age 30 and ex...  Both sexes   \n",
       "63    Probability (%) of dying between age 30 and ex...  Both sexes   \n",
       "...                                                 ...         ...   \n",
       "2673  Probability (%) of dying between age 30 and ex...  Both sexes   \n",
       "2688  Probability (%) of dying between age 30 and ex...  Both sexes   \n",
       "2703  Probability (%) of dying between age 30 and ex...  Both sexes   \n",
       "2718  Probability (%) of dying between age 30 and ex...  Both sexes   \n",
       "2733  Probability (%) of dying between age 30 and ex...  Both sexes   \n",
       "\n",
       "      First Tooltip  \n",
       "3              29.8  \n",
       "18             17.4  \n",
       "33             14.4  \n",
       "48             16.9  \n",
       "63             22.6  \n",
       "...             ...  \n",
       "2673           18.2  \n",
       "2688           17.3  \n",
       "2703           30.7  \n",
       "2718           18.0  \n",
       "2733           19.4  \n",
       "\n",
       "[183 rows x 5 columns]"
      ]
     },
     "execution_count": 17,
     "metadata": {},
     "output_type": "execute_result"
    }
   ],
   "source": [
    "cancer_both_sex_2015 = cancer_both_sex[cancer_both_sex['Period'] == 2015]\n",
    "cancer_both_sex_2015"
   ]
  },
  {
   "cell_type": "code",
   "execution_count": null,
   "metadata": {},
   "outputs": [],
   "source": []
  },
  {
   "cell_type": "markdown",
   "metadata": {},
   "source": [
    "## Adolescent Birth Rate"
   ]
  },
  {
   "cell_type": "code",
   "execution_count": 18,
   "metadata": {},
   "outputs": [
    {
     "data": {
      "text/html": [
       "<div>\n",
       "<style scoped>\n",
       "    .dataframe tbody tr th:only-of-type {\n",
       "        vertical-align: middle;\n",
       "    }\n",
       "\n",
       "    .dataframe tbody tr th {\n",
       "        vertical-align: top;\n",
       "    }\n",
       "\n",
       "    .dataframe thead th {\n",
       "        text-align: right;\n",
       "    }\n",
       "</style>\n",
       "<table border=\"1\" class=\"dataframe\">\n",
       "  <thead>\n",
       "    <tr style=\"text-align: right;\">\n",
       "      <th></th>\n",
       "      <th>Location</th>\n",
       "      <th>Period</th>\n",
       "      <th>Indicator</th>\n",
       "      <th>First Tooltip</th>\n",
       "    </tr>\n",
       "  </thead>\n",
       "  <tbody>\n",
       "    <tr>\n",
       "      <th>0</th>\n",
       "      <td>Afghanistan</td>\n",
       "      <td>2017</td>\n",
       "      <td>Adolescent birth rate (per 1000 women aged 15-...</td>\n",
       "      <td>62.0</td>\n",
       "    </tr>\n",
       "    <tr>\n",
       "      <th>1</th>\n",
       "      <td>Afghanistan</td>\n",
       "      <td>2014</td>\n",
       "      <td>Adolescent birth rate (per 1000 women aged 15-...</td>\n",
       "      <td>77.2</td>\n",
       "    </tr>\n",
       "    <tr>\n",
       "      <th>2</th>\n",
       "      <td>Afghanistan</td>\n",
       "      <td>2013</td>\n",
       "      <td>Adolescent birth rate (per 1000 women aged 15-...</td>\n",
       "      <td>87.0</td>\n",
       "    </tr>\n",
       "    <tr>\n",
       "      <th>3</th>\n",
       "      <td>Afghanistan</td>\n",
       "      <td>2011</td>\n",
       "      <td>Adolescent birth rate (per 1000 women aged 15-...</td>\n",
       "      <td>125.7</td>\n",
       "    </tr>\n",
       "    <tr>\n",
       "      <th>4</th>\n",
       "      <td>Afghanistan</td>\n",
       "      <td>2009</td>\n",
       "      <td>Adolescent birth rate (per 1000 women aged 15-...</td>\n",
       "      <td>80.0</td>\n",
       "    </tr>\n",
       "    <tr>\n",
       "      <th>...</th>\n",
       "      <td>...</td>\n",
       "      <td>...</td>\n",
       "      <td>...</td>\n",
       "      <td>...</td>\n",
       "    </tr>\n",
       "    <tr>\n",
       "      <th>2184</th>\n",
       "      <td>Zimbabwe</td>\n",
       "      <td>2008</td>\n",
       "      <td>Adolescent birth rate (per 1000 women aged 15-...</td>\n",
       "      <td>112.0</td>\n",
       "    </tr>\n",
       "    <tr>\n",
       "      <th>2185</th>\n",
       "      <td>Zimbabwe</td>\n",
       "      <td>2007</td>\n",
       "      <td>Adolescent birth rate (per 1000 women aged 15-...</td>\n",
       "      <td>102.6</td>\n",
       "    </tr>\n",
       "    <tr>\n",
       "      <th>2186</th>\n",
       "      <td>Zimbabwe</td>\n",
       "      <td>2004</td>\n",
       "      <td>Adolescent birth rate (per 1000 women aged 15-...</td>\n",
       "      <td>98.7</td>\n",
       "    </tr>\n",
       "    <tr>\n",
       "      <th>2187</th>\n",
       "      <td>Zimbabwe</td>\n",
       "      <td>2003</td>\n",
       "      <td>Adolescent birth rate (per 1000 women aged 15-...</td>\n",
       "      <td>101.0</td>\n",
       "    </tr>\n",
       "    <tr>\n",
       "      <th>2188</th>\n",
       "      <td>Zimbabwe</td>\n",
       "      <td>2002</td>\n",
       "      <td>Adolescent birth rate (per 1000 women aged 15-...</td>\n",
       "      <td>102.6</td>\n",
       "    </tr>\n",
       "  </tbody>\n",
       "</table>\n",
       "<p>2189 rows × 4 columns</p>\n",
       "</div>"
      ],
      "text/plain": [
       "         Location  Period                                          Indicator  \\\n",
       "0     Afghanistan    2017  Adolescent birth rate (per 1000 women aged 15-...   \n",
       "1     Afghanistan    2014  Adolescent birth rate (per 1000 women aged 15-...   \n",
       "2     Afghanistan    2013  Adolescent birth rate (per 1000 women aged 15-...   \n",
       "3     Afghanistan    2011  Adolescent birth rate (per 1000 women aged 15-...   \n",
       "4     Afghanistan    2009  Adolescent birth rate (per 1000 women aged 15-...   \n",
       "...           ...     ...                                                ...   \n",
       "2184     Zimbabwe    2008  Adolescent birth rate (per 1000 women aged 15-...   \n",
       "2185     Zimbabwe    2007  Adolescent birth rate (per 1000 women aged 15-...   \n",
       "2186     Zimbabwe    2004  Adolescent birth rate (per 1000 women aged 15-...   \n",
       "2187     Zimbabwe    2003  Adolescent birth rate (per 1000 women aged 15-...   \n",
       "2188     Zimbabwe    2002  Adolescent birth rate (per 1000 women aged 15-...   \n",
       "\n",
       "      First Tooltip  \n",
       "0              62.0  \n",
       "1              77.2  \n",
       "2              87.0  \n",
       "3             125.7  \n",
       "4              80.0  \n",
       "...             ...  \n",
       "2184          112.0  \n",
       "2185          102.6  \n",
       "2186           98.7  \n",
       "2187          101.0  \n",
       "2188          102.6  \n",
       "\n",
       "[2189 rows x 4 columns]"
      ]
     },
     "execution_count": 18,
     "metadata": {},
     "output_type": "execute_result"
    }
   ],
   "source": [
    "ad_br_data = pd.read_csv(WHS_path/'adolescentBirthRate.csv')\n",
    "ad_br_data"
   ]
  },
  {
   "cell_type": "code",
   "execution_count": 19,
   "metadata": {},
   "outputs": [
    {
     "data": {
      "text/plain": [
       "Location         2189\n",
       "Period           2189\n",
       "Indicator        2189\n",
       "First Tooltip    2189\n",
       "dtype: int64"
      ]
     },
     "execution_count": 19,
     "metadata": {},
     "output_type": "execute_result"
    }
   ],
   "source": [
    "ad_br_data.isnull().count()"
   ]
  },
  {
   "cell_type": "code",
   "execution_count": 20,
   "metadata": {},
   "outputs": [
    {
     "data": {
      "text/plain": [
       "array([2017, 2014, 2013, 2011, 2009, 2008, 2007, 2006, 2005, 2003, 2000,\n",
       "       2016, 2015, 2012, 2010, 2004, 2002, 2001, 2018])"
      ]
     },
     "execution_count": 20,
     "metadata": {},
     "output_type": "execute_result"
    }
   ],
   "source": [
    "ad_br_data['Period'].unique()"
   ]
  },
  {
   "cell_type": "markdown",
   "metadata": {},
   "source": [
    "Data counts are all different for each year. This will need to be evaluated further since 2015 and 2016 might not be the best options."
   ]
  },
  {
   "cell_type": "code",
   "execution_count": 21,
   "metadata": {},
   "outputs": [
    {
     "data": {
      "text/plain": [
       "Location         22\n",
       "Period           22\n",
       "Indicator        22\n",
       "First Tooltip    22\n",
       "dtype: int64"
      ]
     },
     "execution_count": 21,
     "metadata": {},
     "output_type": "execute_result"
    }
   ],
   "source": [
    "ad_br_data[ad_br_data['Period'] == 2018].count()"
   ]
  },
  {
   "cell_type": "code",
   "execution_count": 22,
   "metadata": {},
   "outputs": [
    {
     "data": {
      "text/plain": [
       "Location         99\n",
       "Period           99\n",
       "Indicator        99\n",
       "First Tooltip    99\n",
       "dtype: int64"
      ]
     },
     "execution_count": 22,
     "metadata": {},
     "output_type": "execute_result"
    }
   ],
   "source": [
    "ad_br_data[ad_br_data['Period'] == 2017].count()"
   ]
  },
  {
   "cell_type": "code",
   "execution_count": 23,
   "metadata": {},
   "outputs": [
    {
     "data": {
      "text/plain": [
       "Location         108\n",
       "Period           108\n",
       "Indicator        108\n",
       "First Tooltip    108\n",
       "dtype: int64"
      ]
     },
     "execution_count": 23,
     "metadata": {},
     "output_type": "execute_result"
    }
   ],
   "source": [
    "ad_br_data[ad_br_data['Period'] == 2016].count()"
   ]
  },
  {
   "cell_type": "code",
   "execution_count": 24,
   "metadata": {},
   "outputs": [
    {
     "data": {
      "text/plain": [
       "Location         106\n",
       "Period           106\n",
       "Indicator        106\n",
       "First Tooltip    106\n",
       "dtype: int64"
      ]
     },
     "execution_count": 24,
     "metadata": {},
     "output_type": "execute_result"
    }
   ],
   "source": [
    "ad_br_data[ad_br_data['Period'] == 2015].count()"
   ]
  },
  {
   "cell_type": "code",
   "execution_count": 25,
   "metadata": {},
   "outputs": [
    {
     "data": {
      "text/plain": [
       "Location         115\n",
       "Period           115\n",
       "Indicator        115\n",
       "First Tooltip    115\n",
       "dtype: int64"
      ]
     },
     "execution_count": 25,
     "metadata": {},
     "output_type": "execute_result"
    }
   ],
   "source": [
    "ad_br_data[ad_br_data['Period'] == 2014].count()"
   ]
  },
  {
   "cell_type": "code",
   "execution_count": 26,
   "metadata": {},
   "outputs": [
    {
     "data": {
      "text/plain": [
       "Location         116\n",
       "Period           116\n",
       "Indicator        116\n",
       "First Tooltip    116\n",
       "dtype: int64"
      ]
     },
     "execution_count": 26,
     "metadata": {},
     "output_type": "execute_result"
    }
   ],
   "source": [
    "ad_br_data[ad_br_data['Period'] == 2013].count()"
   ]
  },
  {
   "cell_type": "code",
   "execution_count": 27,
   "metadata": {},
   "outputs": [
    {
     "data": {
      "text/plain": [
       "Location         113\n",
       "Period           113\n",
       "Indicator        113\n",
       "First Tooltip    113\n",
       "dtype: int64"
      ]
     },
     "execution_count": 27,
     "metadata": {},
     "output_type": "execute_result"
    }
   ],
   "source": [
    "ad_br_data[ad_br_data['Period'] == 2012].count()"
   ]
  },
  {
   "cell_type": "code",
   "execution_count": 28,
   "metadata": {},
   "outputs": [
    {
     "data": {
      "text/plain": [
       "Location         117\n",
       "Period           117\n",
       "Indicator        117\n",
       "First Tooltip    117\n",
       "dtype: int64"
      ]
     },
     "execution_count": 28,
     "metadata": {},
     "output_type": "execute_result"
    }
   ],
   "source": [
    "ad_br_data[ad_br_data['Period'] == 2011].count()"
   ]
  },
  {
   "cell_type": "code",
   "execution_count": 29,
   "metadata": {},
   "outputs": [
    {
     "data": {
      "text/plain": [
       "Location         120\n",
       "Period           120\n",
       "Indicator        120\n",
       "First Tooltip    120\n",
       "dtype: int64"
      ]
     },
     "execution_count": 29,
     "metadata": {},
     "output_type": "execute_result"
    }
   ],
   "source": [
    "ad_br_data[ad_br_data['Period'] == 2010].count()"
   ]
  },
  {
   "cell_type": "code",
   "execution_count": 30,
   "metadata": {},
   "outputs": [
    {
     "data": {
      "text/plain": [
       "Location         133\n",
       "Period           133\n",
       "Indicator        133\n",
       "First Tooltip    133\n",
       "dtype: int64"
      ]
     },
     "execution_count": 30,
     "metadata": {},
     "output_type": "execute_result"
    }
   ],
   "source": [
    "ad_br_data[ad_br_data['Period'] == 2009].count()"
   ]
  },
  {
   "cell_type": "code",
   "execution_count": 31,
   "metadata": {},
   "outputs": [
    {
     "data": {
      "text/plain": [
       "Location         116\n",
       "Period           116\n",
       "Indicator        116\n",
       "First Tooltip    116\n",
       "dtype: int64"
      ]
     },
     "execution_count": 31,
     "metadata": {},
     "output_type": "execute_result"
    }
   ],
   "source": [
    "ad_br_data[ad_br_data['Period'] == 2008].count()"
   ]
  },
  {
   "cell_type": "code",
   "execution_count": 32,
   "metadata": {},
   "outputs": [
    {
     "data": {
      "text/plain": [
       "Location         121\n",
       "Period           121\n",
       "Indicator        121\n",
       "First Tooltip    121\n",
       "dtype: int64"
      ]
     },
     "execution_count": 32,
     "metadata": {},
     "output_type": "execute_result"
    }
   ],
   "source": [
    "ad_br_data[ad_br_data['Period'] == 2007].count()"
   ]
  },
  {
   "cell_type": "code",
   "execution_count": 33,
   "metadata": {},
   "outputs": [
    {
     "data": {
      "text/plain": [
       "Location         120\n",
       "Period           120\n",
       "Indicator        120\n",
       "First Tooltip    120\n",
       "dtype: int64"
      ]
     },
     "execution_count": 33,
     "metadata": {},
     "output_type": "execute_result"
    }
   ],
   "source": [
    "ad_br_data[ad_br_data['Period'] == 2006].count()"
   ]
  },
  {
   "cell_type": "code",
   "execution_count": 34,
   "metadata": {},
   "outputs": [
    {
     "data": {
      "text/plain": [
       "Location         130\n",
       "Period           130\n",
       "Indicator        130\n",
       "First Tooltip    130\n",
       "dtype: int64"
      ]
     },
     "execution_count": 34,
     "metadata": {},
     "output_type": "execute_result"
    }
   ],
   "source": [
    "ad_br_data[ad_br_data['Period'] == 2005].count()"
   ]
  },
  {
   "cell_type": "code",
   "execution_count": 35,
   "metadata": {},
   "outputs": [
    {
     "data": {
      "text/plain": [
       "Location         124\n",
       "Period           124\n",
       "Indicator        124\n",
       "First Tooltip    124\n",
       "dtype: int64"
      ]
     },
     "execution_count": 35,
     "metadata": {},
     "output_type": "execute_result"
    }
   ],
   "source": [
    "ad_br_data[ad_br_data['Period'] == 2004].count()"
   ]
  },
  {
   "cell_type": "code",
   "execution_count": 36,
   "metadata": {},
   "outputs": [
    {
     "data": {
      "text/plain": [
       "Location         120\n",
       "Period           120\n",
       "Indicator        120\n",
       "First Tooltip    120\n",
       "dtype: int64"
      ]
     },
     "execution_count": 36,
     "metadata": {},
     "output_type": "execute_result"
    }
   ],
   "source": [
    "ad_br_data[ad_br_data['Period'] == 2003].count()"
   ]
  },
  {
   "cell_type": "code",
   "execution_count": 37,
   "metadata": {},
   "outputs": [
    {
     "data": {
      "text/plain": [
       "Location         134\n",
       "Period           134\n",
       "Indicator        134\n",
       "First Tooltip    134\n",
       "dtype: int64"
      ]
     },
     "execution_count": 37,
     "metadata": {},
     "output_type": "execute_result"
    }
   ],
   "source": [
    "ad_br_data[ad_br_data['Period'] == 2002].count()"
   ]
  },
  {
   "cell_type": "code",
   "execution_count": 38,
   "metadata": {},
   "outputs": [
    {
     "data": {
      "text/plain": [
       "Location         133\n",
       "Period           133\n",
       "Indicator        133\n",
       "First Tooltip    133\n",
       "dtype: int64"
      ]
     },
     "execution_count": 38,
     "metadata": {},
     "output_type": "execute_result"
    }
   ],
   "source": [
    "ad_br_data[ad_br_data['Period'] == 2001].count()"
   ]
  },
  {
   "cell_type": "code",
   "execution_count": 39,
   "metadata": {},
   "outputs": [
    {
     "data": {
      "text/plain": [
       "Location         142\n",
       "Period           142\n",
       "Indicator        142\n",
       "First Tooltip    142\n",
       "dtype: int64"
      ]
     },
     "execution_count": 39,
     "metadata": {},
     "output_type": "execute_result"
    }
   ],
   "source": [
    "ad_br_data[ad_br_data['Period'] == 2000].count()"
   ]
  },
  {
   "cell_type": "code",
   "execution_count": 40,
   "metadata": {},
   "outputs": [
    {
     "data": {
      "text/plain": [
       "array(['Adolescent birth rate (per 1000 women aged 15-19 years)'],\n",
       "      dtype=object)"
      ]
     },
     "execution_count": 40,
     "metadata": {},
     "output_type": "execute_result"
    }
   ],
   "source": [
    "ad_br_data['Indicator'].unique()"
   ]
  },
  {
   "cell_type": "markdown",
   "metadata": {},
   "source": [
    "## Check if use this year"
   ]
  },
  {
   "cell_type": "markdown",
   "metadata": {},
   "source": [
    "This year only has 108 rows"
   ]
  },
  {
   "cell_type": "code",
   "execution_count": 41,
   "metadata": {
    "scrolled": true
   },
   "outputs": [
    {
     "data": {
      "text/html": [
       "<div>\n",
       "<style scoped>\n",
       "    .dataframe tbody tr th:only-of-type {\n",
       "        vertical-align: middle;\n",
       "    }\n",
       "\n",
       "    .dataframe tbody tr th {\n",
       "        vertical-align: top;\n",
       "    }\n",
       "\n",
       "    .dataframe thead th {\n",
       "        text-align: right;\n",
       "    }\n",
       "</style>\n",
       "<table border=\"1\" class=\"dataframe\">\n",
       "  <thead>\n",
       "    <tr style=\"text-align: right;\">\n",
       "      <th></th>\n",
       "      <th>Location</th>\n",
       "      <th>Period</th>\n",
       "      <th>Indicator</th>\n",
       "      <th>First Tooltip</th>\n",
       "    </tr>\n",
       "  </thead>\n",
       "  <tbody>\n",
       "    <tr>\n",
       "      <th>12</th>\n",
       "      <td>Albania</td>\n",
       "      <td>2016</td>\n",
       "      <td>Adolescent birth rate (per 1000 women aged 15-...</td>\n",
       "      <td>17.3</td>\n",
       "    </tr>\n",
       "    <tr>\n",
       "      <th>41</th>\n",
       "      <td>Andorra</td>\n",
       "      <td>2016</td>\n",
       "      <td>Adolescent birth rate (per 1000 women aged 15-...</td>\n",
       "      <td>2.6</td>\n",
       "    </tr>\n",
       "    <tr>\n",
       "      <th>66</th>\n",
       "      <td>Antigua and Barbuda</td>\n",
       "      <td>2016</td>\n",
       "      <td>Adolescent birth rate (per 1000 women aged 15-...</td>\n",
       "      <td>31.1</td>\n",
       "    </tr>\n",
       "    <tr>\n",
       "      <th>96</th>\n",
       "      <td>Armenia</td>\n",
       "      <td>2016</td>\n",
       "      <td>Adolescent birth rate (per 1000 women aged 15-...</td>\n",
       "      <td>24.5</td>\n",
       "    </tr>\n",
       "    <tr>\n",
       "      <th>114</th>\n",
       "      <td>Australia</td>\n",
       "      <td>2016</td>\n",
       "      <td>Adolescent birth rate (per 1000 women aged 15-...</td>\n",
       "      <td>10.3</td>\n",
       "    </tr>\n",
       "    <tr>\n",
       "      <th>...</th>\n",
       "      <td>...</td>\n",
       "      <td>...</td>\n",
       "      <td>...</td>\n",
       "      <td>...</td>\n",
       "    </tr>\n",
       "    <tr>\n",
       "      <th>2065</th>\n",
       "      <td>United Kingdom of Great Britain and Northern I...</td>\n",
       "      <td>2016</td>\n",
       "      <td>Adolescent birth rate (per 1000 women aged 15-...</td>\n",
       "      <td>13.7</td>\n",
       "    </tr>\n",
       "    <tr>\n",
       "      <th>2082</th>\n",
       "      <td>United Republic of Tanzania</td>\n",
       "      <td>2016</td>\n",
       "      <td>Adolescent birth rate (per 1000 women aged 15-...</td>\n",
       "      <td>138.9</td>\n",
       "    </tr>\n",
       "    <tr>\n",
       "      <th>2092</th>\n",
       "      <td>United States of America</td>\n",
       "      <td>2016</td>\n",
       "      <td>Adolescent birth rate (per 1000 women aged 15-...</td>\n",
       "      <td>20.3</td>\n",
       "    </tr>\n",
       "    <tr>\n",
       "      <th>2111</th>\n",
       "      <td>Uruguay</td>\n",
       "      <td>2016</td>\n",
       "      <td>Adolescent birth rate (per 1000 women aged 15-...</td>\n",
       "      <td>50.3</td>\n",
       "    </tr>\n",
       "    <tr>\n",
       "      <th>2129</th>\n",
       "      <td>Uzbekistan</td>\n",
       "      <td>2016</td>\n",
       "      <td>Adolescent birth rate (per 1000 women aged 15-...</td>\n",
       "      <td>20.9</td>\n",
       "    </tr>\n",
       "  </tbody>\n",
       "</table>\n",
       "<p>108 rows × 4 columns</p>\n",
       "</div>"
      ],
      "text/plain": [
       "                                               Location  Period  \\\n",
       "12                                              Albania    2016   \n",
       "41                                              Andorra    2016   \n",
       "66                                  Antigua and Barbuda    2016   \n",
       "96                                              Armenia    2016   \n",
       "114                                           Australia    2016   \n",
       "...                                                 ...     ...   \n",
       "2065  United Kingdom of Great Britain and Northern I...    2016   \n",
       "2082                        United Republic of Tanzania    2016   \n",
       "2092                           United States of America    2016   \n",
       "2111                                            Uruguay    2016   \n",
       "2129                                         Uzbekistan    2016   \n",
       "\n",
       "                                              Indicator  First Tooltip  \n",
       "12    Adolescent birth rate (per 1000 women aged 15-...           17.3  \n",
       "41    Adolescent birth rate (per 1000 women aged 15-...            2.6  \n",
       "66    Adolescent birth rate (per 1000 women aged 15-...           31.1  \n",
       "96    Adolescent birth rate (per 1000 women aged 15-...           24.5  \n",
       "114   Adolescent birth rate (per 1000 women aged 15-...           10.3  \n",
       "...                                                 ...            ...  \n",
       "2065  Adolescent birth rate (per 1000 women aged 15-...           13.7  \n",
       "2082  Adolescent birth rate (per 1000 women aged 15-...          138.9  \n",
       "2092  Adolescent birth rate (per 1000 women aged 15-...           20.3  \n",
       "2111  Adolescent birth rate (per 1000 women aged 15-...           50.3  \n",
       "2129  Adolescent birth rate (per 1000 women aged 15-...           20.9  \n",
       "\n",
       "[108 rows x 4 columns]"
      ]
     },
     "execution_count": 41,
     "metadata": {},
     "output_type": "execute_result"
    }
   ],
   "source": [
    "ad_br_2016 = ad_br_data[ad_br_data['Period'] == 2016]\n",
    "ad_br_2016"
   ]
  },
  {
   "cell_type": "markdown",
   "metadata": {},
   "source": [
    "## Check if use this year"
   ]
  },
  {
   "cell_type": "markdown",
   "metadata": {},
   "source": [
    "This row has only 106 rows"
   ]
  },
  {
   "cell_type": "code",
   "execution_count": 42,
   "metadata": {},
   "outputs": [
    {
     "data": {
      "text/html": [
       "<div>\n",
       "<style scoped>\n",
       "    .dataframe tbody tr th:only-of-type {\n",
       "        vertical-align: middle;\n",
       "    }\n",
       "\n",
       "    .dataframe tbody tr th {\n",
       "        vertical-align: top;\n",
       "    }\n",
       "\n",
       "    .dataframe thead th {\n",
       "        text-align: right;\n",
       "    }\n",
       "</style>\n",
       "<table border=\"1\" class=\"dataframe\">\n",
       "  <thead>\n",
       "    <tr style=\"text-align: right;\">\n",
       "      <th></th>\n",
       "      <th>Location</th>\n",
       "      <th>Period</th>\n",
       "      <th>Indicator</th>\n",
       "      <th>First Tooltip</th>\n",
       "    </tr>\n",
       "  </thead>\n",
       "  <tbody>\n",
       "    <tr>\n",
       "      <th>13</th>\n",
       "      <td>Albania</td>\n",
       "      <td>2015</td>\n",
       "      <td>Adolescent birth rate (per 1000 women aged 15-...</td>\n",
       "      <td>20.2</td>\n",
       "    </tr>\n",
       "    <tr>\n",
       "      <th>28</th>\n",
       "      <td>Algeria</td>\n",
       "      <td>2015</td>\n",
       "      <td>Adolescent birth rate (per 1000 women aged 15-...</td>\n",
       "      <td>9.7</td>\n",
       "    </tr>\n",
       "    <tr>\n",
       "      <th>42</th>\n",
       "      <td>Andorra</td>\n",
       "      <td>2015</td>\n",
       "      <td>Adolescent birth rate (per 1000 women aged 15-...</td>\n",
       "      <td>3.1</td>\n",
       "    </tr>\n",
       "    <tr>\n",
       "      <th>67</th>\n",
       "      <td>Antigua and Barbuda</td>\n",
       "      <td>2015</td>\n",
       "      <td>Adolescent birth rate (per 1000 women aged 15-...</td>\n",
       "      <td>37.7</td>\n",
       "    </tr>\n",
       "    <tr>\n",
       "      <th>79</th>\n",
       "      <td>Argentina</td>\n",
       "      <td>2015</td>\n",
       "      <td>Adolescent birth rate (per 1000 women aged 15-...</td>\n",
       "      <td>65.1</td>\n",
       "    </tr>\n",
       "    <tr>\n",
       "      <th>...</th>\n",
       "      <td>...</td>\n",
       "      <td>...</td>\n",
       "      <td>...</td>\n",
       "      <td>...</td>\n",
       "    </tr>\n",
       "    <tr>\n",
       "      <th>2000</th>\n",
       "      <td>Turkey</td>\n",
       "      <td>2015</td>\n",
       "      <td>Adolescent birth rate (per 1000 women aged 15-...</td>\n",
       "      <td>24.9</td>\n",
       "    </tr>\n",
       "    <tr>\n",
       "      <th>2027</th>\n",
       "      <td>Uganda</td>\n",
       "      <td>2015</td>\n",
       "      <td>Adolescent birth rate (per 1000 women aged 15-...</td>\n",
       "      <td>131.5</td>\n",
       "    </tr>\n",
       "    <tr>\n",
       "      <th>2066</th>\n",
       "      <td>United Kingdom of Great Britain and Northern I...</td>\n",
       "      <td>2015</td>\n",
       "      <td>Adolescent birth rate (per 1000 women aged 15-...</td>\n",
       "      <td>14.4</td>\n",
       "    </tr>\n",
       "    <tr>\n",
       "      <th>2093</th>\n",
       "      <td>United States of America</td>\n",
       "      <td>2015</td>\n",
       "      <td>Adolescent birth rate (per 1000 women aged 15-...</td>\n",
       "      <td>22.3</td>\n",
       "    </tr>\n",
       "    <tr>\n",
       "      <th>2112</th>\n",
       "      <td>Uruguay</td>\n",
       "      <td>2015</td>\n",
       "      <td>Adolescent birth rate (per 1000 women aged 15-...</td>\n",
       "      <td>55.6</td>\n",
       "    </tr>\n",
       "  </tbody>\n",
       "</table>\n",
       "<p>106 rows × 4 columns</p>\n",
       "</div>"
      ],
      "text/plain": [
       "                                               Location  Period  \\\n",
       "13                                              Albania    2015   \n",
       "28                                              Algeria    2015   \n",
       "42                                              Andorra    2015   \n",
       "67                                  Antigua and Barbuda    2015   \n",
       "79                                            Argentina    2015   \n",
       "...                                                 ...     ...   \n",
       "2000                                             Turkey    2015   \n",
       "2027                                             Uganda    2015   \n",
       "2066  United Kingdom of Great Britain and Northern I...    2015   \n",
       "2093                           United States of America    2015   \n",
       "2112                                            Uruguay    2015   \n",
       "\n",
       "                                              Indicator  First Tooltip  \n",
       "13    Adolescent birth rate (per 1000 women aged 15-...           20.2  \n",
       "28    Adolescent birth rate (per 1000 women aged 15-...            9.7  \n",
       "42    Adolescent birth rate (per 1000 women aged 15-...            3.1  \n",
       "67    Adolescent birth rate (per 1000 women aged 15-...           37.7  \n",
       "79    Adolescent birth rate (per 1000 women aged 15-...           65.1  \n",
       "...                                                 ...            ...  \n",
       "2000  Adolescent birth rate (per 1000 women aged 15-...           24.9  \n",
       "2027  Adolescent birth rate (per 1000 women aged 15-...          131.5  \n",
       "2066  Adolescent birth rate (per 1000 women aged 15-...           14.4  \n",
       "2093  Adolescent birth rate (per 1000 women aged 15-...           22.3  \n",
       "2112  Adolescent birth rate (per 1000 women aged 15-...           55.6  \n",
       "\n",
       "[106 rows x 4 columns]"
      ]
     },
     "execution_count": 42,
     "metadata": {},
     "output_type": "execute_result"
    }
   ],
   "source": [
    "ad_br_2015 = ad_br_data[ad_br_data['Period'] == 2015]\n",
    "ad_br_2015"
   ]
  },
  {
   "cell_type": "code",
   "execution_count": null,
   "metadata": {},
   "outputs": [],
   "source": []
  },
  {
   "cell_type": "markdown",
   "metadata": {},
   "source": [
    "## Air Pollution Deaths"
   ]
  },
  {
   "cell_type": "code",
   "execution_count": 43,
   "metadata": {},
   "outputs": [
    {
     "data": {
      "text/html": [
       "<div>\n",
       "<style scoped>\n",
       "    .dataframe tbody tr th:only-of-type {\n",
       "        vertical-align: middle;\n",
       "    }\n",
       "\n",
       "    .dataframe tbody tr th {\n",
       "        vertical-align: top;\n",
       "    }\n",
       "\n",
       "    .dataframe thead th {\n",
       "        text-align: right;\n",
       "    }\n",
       "</style>\n",
       "<table border=\"1\" class=\"dataframe\">\n",
       "  <thead>\n",
       "    <tr style=\"text-align: right;\">\n",
       "      <th></th>\n",
       "      <th>Location</th>\n",
       "      <th>Dim2</th>\n",
       "      <th>Indicator</th>\n",
       "      <th>Period</th>\n",
       "      <th>Dim1</th>\n",
       "      <th>First Tooltip</th>\n",
       "    </tr>\n",
       "  </thead>\n",
       "  <tbody>\n",
       "    <tr>\n",
       "      <th>0</th>\n",
       "      <td>Afghanistan</td>\n",
       "      <td>Total</td>\n",
       "      <td>Ambient and household air pollution attributab...</td>\n",
       "      <td>2016</td>\n",
       "      <td>Both sexes</td>\n",
       "      <td>95.12 [85.12-104.3]</td>\n",
       "    </tr>\n",
       "    <tr>\n",
       "      <th>1</th>\n",
       "      <td>Afghanistan</td>\n",
       "      <td>Total</td>\n",
       "      <td>Ambient and household air pollution attributab...</td>\n",
       "      <td>2016</td>\n",
       "      <td>Male</td>\n",
       "      <td>95.58 [85.5-106]</td>\n",
       "    </tr>\n",
       "    <tr>\n",
       "      <th>2</th>\n",
       "      <td>Afghanistan</td>\n",
       "      <td>Total</td>\n",
       "      <td>Ambient and household air pollution attributab...</td>\n",
       "      <td>2016</td>\n",
       "      <td>Female</td>\n",
       "      <td>94.63 [84.55-103.9]</td>\n",
       "    </tr>\n",
       "    <tr>\n",
       "      <th>3</th>\n",
       "      <td>Afghanistan</td>\n",
       "      <td>Total</td>\n",
       "      <td>Ambient and household air pollution attributab...</td>\n",
       "      <td>2016</td>\n",
       "      <td>Both sexes</td>\n",
       "      <td>211.1 [188.9-231.3]</td>\n",
       "    </tr>\n",
       "    <tr>\n",
       "      <th>4</th>\n",
       "      <td>Afghanistan</td>\n",
       "      <td>Total</td>\n",
       "      <td>Ambient and household air pollution attributab...</td>\n",
       "      <td>2016</td>\n",
       "      <td>Male</td>\n",
       "      <td>228.7 [204.6-253.6]</td>\n",
       "    </tr>\n",
       "    <tr>\n",
       "      <th>...</th>\n",
       "      <td>...</td>\n",
       "      <td>...</td>\n",
       "      <td>...</td>\n",
       "      <td>...</td>\n",
       "      <td>...</td>\n",
       "      <td>...</td>\n",
       "    </tr>\n",
       "    <tr>\n",
       "      <th>6583</th>\n",
       "      <td>Zimbabwe</td>\n",
       "      <td>Chronic obstructive pulmonary disease</td>\n",
       "      <td>Ambient and household air pollution attributab...</td>\n",
       "      <td>2016</td>\n",
       "      <td>Male</td>\n",
       "      <td>5.54 [2.74-7.66]</td>\n",
       "    </tr>\n",
       "    <tr>\n",
       "      <th>6584</th>\n",
       "      <td>Zimbabwe</td>\n",
       "      <td>Chronic obstructive pulmonary disease</td>\n",
       "      <td>Ambient and household air pollution attributab...</td>\n",
       "      <td>2016</td>\n",
       "      <td>Female</td>\n",
       "      <td>6.19 [4.73-7.3]</td>\n",
       "    </tr>\n",
       "    <tr>\n",
       "      <th>6585</th>\n",
       "      <td>Zimbabwe</td>\n",
       "      <td>Chronic obstructive pulmonary disease</td>\n",
       "      <td>Ambient and household air pollution attributab...</td>\n",
       "      <td>2016</td>\n",
       "      <td>Both sexes</td>\n",
       "      <td>16.09 [11.67-19.89]</td>\n",
       "    </tr>\n",
       "    <tr>\n",
       "      <th>6586</th>\n",
       "      <td>Zimbabwe</td>\n",
       "      <td>Chronic obstructive pulmonary disease</td>\n",
       "      <td>Ambient and household air pollution attributab...</td>\n",
       "      <td>2016</td>\n",
       "      <td>Male</td>\n",
       "      <td>17.72 [8.75-24.51]</td>\n",
       "    </tr>\n",
       "    <tr>\n",
       "      <th>6587</th>\n",
       "      <td>Zimbabwe</td>\n",
       "      <td>Chronic obstructive pulmonary disease</td>\n",
       "      <td>Ambient and household air pollution attributab...</td>\n",
       "      <td>2016</td>\n",
       "      <td>Female</td>\n",
       "      <td>14.95 [11.43-17.62]</td>\n",
       "    </tr>\n",
       "  </tbody>\n",
       "</table>\n",
       "<p>6588 rows × 6 columns</p>\n",
       "</div>"
      ],
      "text/plain": [
       "         Location                                   Dim2  \\\n",
       "0     Afghanistan                                  Total   \n",
       "1     Afghanistan                                  Total   \n",
       "2     Afghanistan                                  Total   \n",
       "3     Afghanistan                                  Total   \n",
       "4     Afghanistan                                  Total   \n",
       "...           ...                                    ...   \n",
       "6583     Zimbabwe  Chronic obstructive pulmonary disease   \n",
       "6584     Zimbabwe  Chronic obstructive pulmonary disease   \n",
       "6585     Zimbabwe  Chronic obstructive pulmonary disease   \n",
       "6586     Zimbabwe  Chronic obstructive pulmonary disease   \n",
       "6587     Zimbabwe  Chronic obstructive pulmonary disease   \n",
       "\n",
       "                                              Indicator  Period        Dim1  \\\n",
       "0     Ambient and household air pollution attributab...    2016  Both sexes   \n",
       "1     Ambient and household air pollution attributab...    2016        Male   \n",
       "2     Ambient and household air pollution attributab...    2016      Female   \n",
       "3     Ambient and household air pollution attributab...    2016  Both sexes   \n",
       "4     Ambient and household air pollution attributab...    2016        Male   \n",
       "...                                                 ...     ...         ...   \n",
       "6583  Ambient and household air pollution attributab...    2016        Male   \n",
       "6584  Ambient and household air pollution attributab...    2016      Female   \n",
       "6585  Ambient and household air pollution attributab...    2016  Both sexes   \n",
       "6586  Ambient and household air pollution attributab...    2016        Male   \n",
       "6587  Ambient and household air pollution attributab...    2016      Female   \n",
       "\n",
       "            First Tooltip  \n",
       "0     95.12 [85.12-104.3]  \n",
       "1        95.58 [85.5-106]  \n",
       "2     94.63 [84.55-103.9]  \n",
       "3     211.1 [188.9-231.3]  \n",
       "4     228.7 [204.6-253.6]  \n",
       "...                   ...  \n",
       "6583     5.54 [2.74-7.66]  \n",
       "6584      6.19 [4.73-7.3]  \n",
       "6585  16.09 [11.67-19.89]  \n",
       "6586   17.72 [8.75-24.51]  \n",
       "6587  14.95 [11.43-17.62]  \n",
       "\n",
       "[6588 rows x 6 columns]"
      ]
     },
     "execution_count": 43,
     "metadata": {},
     "output_type": "execute_result"
    }
   ],
   "source": [
    "ap_data = pd.read_csv(WHS_path/'airPollutionDeathRate.csv')\n",
    "ap_data"
   ]
  },
  {
   "cell_type": "code",
   "execution_count": 44,
   "metadata": {},
   "outputs": [
    {
     "data": {
      "text/plain": [
       "Location         6588\n",
       "Dim2             6588\n",
       "Indicator        6588\n",
       "Period           6588\n",
       "Dim1             6588\n",
       "First Tooltip    6588\n",
       "dtype: int64"
      ]
     },
     "execution_count": 44,
     "metadata": {},
     "output_type": "execute_result"
    }
   ],
   "source": [
    "ap_data.isnull().count()"
   ]
  },
  {
   "cell_type": "code",
   "execution_count": 45,
   "metadata": {},
   "outputs": [
    {
     "data": {
      "text/plain": [
       "array([2016])"
      ]
     },
     "execution_count": 45,
     "metadata": {},
     "output_type": "execute_result"
    }
   ],
   "source": [
    "ap_data['Period'].unique()"
   ]
  },
  {
   "cell_type": "code",
   "execution_count": 46,
   "metadata": {},
   "outputs": [
    {
     "data": {
      "text/plain": [
       "array(['Total', 'Lower respiratory infections',\n",
       "       'Trachea, bronchus, lung cancers', 'Ischaemic heart disease',\n",
       "       'Stroke', 'Chronic obstructive pulmonary disease'], dtype=object)"
      ]
     },
     "execution_count": 46,
     "metadata": {},
     "output_type": "execute_result"
    }
   ],
   "source": [
    "ap_data['Dim2'].unique()"
   ]
  },
  {
   "cell_type": "code",
   "execution_count": 47,
   "metadata": {},
   "outputs": [
    {
     "data": {
      "text/plain": [
       "array(['Ambient and household air pollution attributable death rate (per 100 000 population)',\n",
       "       'Ambient and household air pollution attributable death rate (per 100 000 population, age-standardized)'],\n",
       "      dtype=object)"
      ]
     },
     "execution_count": 47,
     "metadata": {},
     "output_type": "execute_result"
    }
   ],
   "source": [
    "ap_data['Indicator'].unique()"
   ]
  },
  {
   "cell_type": "markdown",
   "metadata": {},
   "source": [
    "I think it would be best to make each unique value in Dim2 as a column. That way we would have a single row for each country instead of a bunch of rows per country. Maybe see if the original dataset was set up like this."
   ]
  },
  {
   "cell_type": "code",
   "execution_count": 48,
   "metadata": {},
   "outputs": [
    {
     "data": {
      "text/html": [
       "<div>\n",
       "<style scoped>\n",
       "    .dataframe tbody tr th:only-of-type {\n",
       "        vertical-align: middle;\n",
       "    }\n",
       "\n",
       "    .dataframe tbody tr th {\n",
       "        vertical-align: top;\n",
       "    }\n",
       "\n",
       "    .dataframe thead th {\n",
       "        text-align: right;\n",
       "    }\n",
       "</style>\n",
       "<table border=\"1\" class=\"dataframe\">\n",
       "  <thead>\n",
       "    <tr style=\"text-align: right;\">\n",
       "      <th></th>\n",
       "      <th>Location</th>\n",
       "      <th>Dim2</th>\n",
       "      <th>Indicator</th>\n",
       "      <th>Period</th>\n",
       "      <th>Dim1</th>\n",
       "      <th>First Tooltip</th>\n",
       "    </tr>\n",
       "  </thead>\n",
       "  <tbody>\n",
       "    <tr>\n",
       "      <th>0</th>\n",
       "      <td>Afghanistan</td>\n",
       "      <td>Total</td>\n",
       "      <td>Ambient and household air pollution attributab...</td>\n",
       "      <td>2016</td>\n",
       "      <td>Both sexes</td>\n",
       "      <td>95.12 [85.12-104.3]</td>\n",
       "    </tr>\n",
       "    <tr>\n",
       "      <th>3</th>\n",
       "      <td>Afghanistan</td>\n",
       "      <td>Total</td>\n",
       "      <td>Ambient and household air pollution attributab...</td>\n",
       "      <td>2016</td>\n",
       "      <td>Both sexes</td>\n",
       "      <td>211.1 [188.9-231.3]</td>\n",
       "    </tr>\n",
       "    <tr>\n",
       "      <th>6</th>\n",
       "      <td>Afghanistan</td>\n",
       "      <td>Lower respiratory infections</td>\n",
       "      <td>Ambient and household air pollution attributab...</td>\n",
       "      <td>2016</td>\n",
       "      <td>Both sexes</td>\n",
       "      <td>31.26 [25.66-35.67]</td>\n",
       "    </tr>\n",
       "    <tr>\n",
       "      <th>9</th>\n",
       "      <td>Afghanistan</td>\n",
       "      <td>Lower respiratory infections</td>\n",
       "      <td>Ambient and household air pollution attributab...</td>\n",
       "      <td>2016</td>\n",
       "      <td>Both sexes</td>\n",
       "      <td>31.68 [26.01-36.15]</td>\n",
       "    </tr>\n",
       "    <tr>\n",
       "      <th>12</th>\n",
       "      <td>Afghanistan</td>\n",
       "      <td>Trachea, bronchus, lung cancers</td>\n",
       "      <td>Ambient and household air pollution attributab...</td>\n",
       "      <td>2016</td>\n",
       "      <td>Both sexes</td>\n",
       "      <td>1.61 [1.21-1.96]</td>\n",
       "    </tr>\n",
       "    <tr>\n",
       "      <th>...</th>\n",
       "      <td>...</td>\n",
       "      <td>...</td>\n",
       "      <td>...</td>\n",
       "      <td>...</td>\n",
       "      <td>...</td>\n",
       "      <td>...</td>\n",
       "    </tr>\n",
       "    <tr>\n",
       "      <th>6573</th>\n",
       "      <td>Zimbabwe</td>\n",
       "      <td>Ischaemic heart disease</td>\n",
       "      <td>Ambient and household air pollution attributab...</td>\n",
       "      <td>2016</td>\n",
       "      <td>Both sexes</td>\n",
       "      <td>33.24 [28.49-38.1]</td>\n",
       "    </tr>\n",
       "    <tr>\n",
       "      <th>6576</th>\n",
       "      <td>Zimbabwe</td>\n",
       "      <td>Stroke</td>\n",
       "      <td>Ambient and household air pollution attributab...</td>\n",
       "      <td>2016</td>\n",
       "      <td>Both sexes</td>\n",
       "      <td>8.27 [7.07-9.64]</td>\n",
       "    </tr>\n",
       "    <tr>\n",
       "      <th>6579</th>\n",
       "      <td>Zimbabwe</td>\n",
       "      <td>Stroke</td>\n",
       "      <td>Ambient and household air pollution attributab...</td>\n",
       "      <td>2016</td>\n",
       "      <td>Both sexes</td>\n",
       "      <td>20.08 [17.15-23.4]</td>\n",
       "    </tr>\n",
       "    <tr>\n",
       "      <th>6582</th>\n",
       "      <td>Zimbabwe</td>\n",
       "      <td>Chronic obstructive pulmonary disease</td>\n",
       "      <td>Ambient and household air pollution attributab...</td>\n",
       "      <td>2016</td>\n",
       "      <td>Both sexes</td>\n",
       "      <td>5.88 [4.26-7.26]</td>\n",
       "    </tr>\n",
       "    <tr>\n",
       "      <th>6585</th>\n",
       "      <td>Zimbabwe</td>\n",
       "      <td>Chronic obstructive pulmonary disease</td>\n",
       "      <td>Ambient and household air pollution attributab...</td>\n",
       "      <td>2016</td>\n",
       "      <td>Both sexes</td>\n",
       "      <td>16.09 [11.67-19.89]</td>\n",
       "    </tr>\n",
       "  </tbody>\n",
       "</table>\n",
       "<p>2196 rows × 6 columns</p>\n",
       "</div>"
      ],
      "text/plain": [
       "         Location                                   Dim2  \\\n",
       "0     Afghanistan                                  Total   \n",
       "3     Afghanistan                                  Total   \n",
       "6     Afghanistan           Lower respiratory infections   \n",
       "9     Afghanistan           Lower respiratory infections   \n",
       "12    Afghanistan        Trachea, bronchus, lung cancers   \n",
       "...           ...                                    ...   \n",
       "6573     Zimbabwe                Ischaemic heart disease   \n",
       "6576     Zimbabwe                                 Stroke   \n",
       "6579     Zimbabwe                                 Stroke   \n",
       "6582     Zimbabwe  Chronic obstructive pulmonary disease   \n",
       "6585     Zimbabwe  Chronic obstructive pulmonary disease   \n",
       "\n",
       "                                              Indicator  Period        Dim1  \\\n",
       "0     Ambient and household air pollution attributab...    2016  Both sexes   \n",
       "3     Ambient and household air pollution attributab...    2016  Both sexes   \n",
       "6     Ambient and household air pollution attributab...    2016  Both sexes   \n",
       "9     Ambient and household air pollution attributab...    2016  Both sexes   \n",
       "12    Ambient and household air pollution attributab...    2016  Both sexes   \n",
       "...                                                 ...     ...         ...   \n",
       "6573  Ambient and household air pollution attributab...    2016  Both sexes   \n",
       "6576  Ambient and household air pollution attributab...    2016  Both sexes   \n",
       "6579  Ambient and household air pollution attributab...    2016  Both sexes   \n",
       "6582  Ambient and household air pollution attributab...    2016  Both sexes   \n",
       "6585  Ambient and household air pollution attributab...    2016  Both sexes   \n",
       "\n",
       "            First Tooltip  \n",
       "0     95.12 [85.12-104.3]  \n",
       "3     211.1 [188.9-231.3]  \n",
       "6     31.26 [25.66-35.67]  \n",
       "9     31.68 [26.01-36.15]  \n",
       "12       1.61 [1.21-1.96]  \n",
       "...                   ...  \n",
       "6573   33.24 [28.49-38.1]  \n",
       "6576     8.27 [7.07-9.64]  \n",
       "6579   20.08 [17.15-23.4]  \n",
       "6582     5.88 [4.26-7.26]  \n",
       "6585  16.09 [11.67-19.89]  \n",
       "\n",
       "[2196 rows x 6 columns]"
      ]
     },
     "execution_count": 48,
     "metadata": {},
     "output_type": "execute_result"
    }
   ],
   "source": [
    "ap_bs_data = ap_data[ap_data['Dim1'] == 'Both sexes']\n",
    "ap_bs_data"
   ]
  },
  {
   "cell_type": "code",
   "execution_count": 49,
   "metadata": {},
   "outputs": [
    {
     "data": {
      "text/html": [
       "<div>\n",
       "<style scoped>\n",
       "    .dataframe tbody tr th:only-of-type {\n",
       "        vertical-align: middle;\n",
       "    }\n",
       "\n",
       "    .dataframe tbody tr th {\n",
       "        vertical-align: top;\n",
       "    }\n",
       "\n",
       "    .dataframe thead th {\n",
       "        text-align: right;\n",
       "    }\n",
       "</style>\n",
       "<table border=\"1\" class=\"dataframe\">\n",
       "  <thead>\n",
       "    <tr style=\"text-align: right;\">\n",
       "      <th></th>\n",
       "      <th>Location</th>\n",
       "      <th>Dim2</th>\n",
       "      <th>Indicator</th>\n",
       "      <th>Period</th>\n",
       "      <th>Dim1</th>\n",
       "      <th>First Tooltip</th>\n",
       "    </tr>\n",
       "  </thead>\n",
       "  <tbody>\n",
       "    <tr>\n",
       "      <th>3</th>\n",
       "      <td>Afghanistan</td>\n",
       "      <td>Total</td>\n",
       "      <td>Ambient and household air pollution attributab...</td>\n",
       "      <td>2016</td>\n",
       "      <td>Both sexes</td>\n",
       "      <td>211.1 [188.9-231.3]</td>\n",
       "    </tr>\n",
       "    <tr>\n",
       "      <th>9</th>\n",
       "      <td>Afghanistan</td>\n",
       "      <td>Lower respiratory infections</td>\n",
       "      <td>Ambient and household air pollution attributab...</td>\n",
       "      <td>2016</td>\n",
       "      <td>Both sexes</td>\n",
       "      <td>31.68 [26.01-36.15]</td>\n",
       "    </tr>\n",
       "    <tr>\n",
       "      <th>15</th>\n",
       "      <td>Afghanistan</td>\n",
       "      <td>Trachea, bronchus, lung cancers</td>\n",
       "      <td>Ambient and household air pollution attributab...</td>\n",
       "      <td>2016</td>\n",
       "      <td>Both sexes</td>\n",
       "      <td>4.05 [3.03-4.92]</td>\n",
       "    </tr>\n",
       "    <tr>\n",
       "      <th>21</th>\n",
       "      <td>Afghanistan</td>\n",
       "      <td>Ischaemic heart disease</td>\n",
       "      <td>Ambient and household air pollution attributab...</td>\n",
       "      <td>2016</td>\n",
       "      <td>Both sexes</td>\n",
       "      <td>106.9 [91.91-121.1]</td>\n",
       "    </tr>\n",
       "    <tr>\n",
       "      <th>27</th>\n",
       "      <td>Afghanistan</td>\n",
       "      <td>Stroke</td>\n",
       "      <td>Ambient and household air pollution attributab...</td>\n",
       "      <td>2016</td>\n",
       "      <td>Both sexes</td>\n",
       "      <td>45.1 [38.59-51.65]</td>\n",
       "    </tr>\n",
       "    <tr>\n",
       "      <th>...</th>\n",
       "      <td>...</td>\n",
       "      <td>...</td>\n",
       "      <td>...</td>\n",
       "      <td>...</td>\n",
       "      <td>...</td>\n",
       "      <td>...</td>\n",
       "    </tr>\n",
       "    <tr>\n",
       "      <th>6561</th>\n",
       "      <td>Zimbabwe</td>\n",
       "      <td>Lower respiratory infections</td>\n",
       "      <td>Ambient and household air pollution attributab...</td>\n",
       "      <td>2016</td>\n",
       "      <td>Both sexes</td>\n",
       "      <td>61.68 [51.05-71.05]</td>\n",
       "    </tr>\n",
       "    <tr>\n",
       "      <th>6567</th>\n",
       "      <td>Zimbabwe</td>\n",
       "      <td>Trachea, bronchus, lung cancers</td>\n",
       "      <td>Ambient and household air pollution attributab...</td>\n",
       "      <td>2016</td>\n",
       "      <td>Both sexes</td>\n",
       "      <td>1.89 [1.42-2.33]</td>\n",
       "    </tr>\n",
       "    <tr>\n",
       "      <th>6573</th>\n",
       "      <td>Zimbabwe</td>\n",
       "      <td>Ischaemic heart disease</td>\n",
       "      <td>Ambient and household air pollution attributab...</td>\n",
       "      <td>2016</td>\n",
       "      <td>Both sexes</td>\n",
       "      <td>33.24 [28.49-38.1]</td>\n",
       "    </tr>\n",
       "    <tr>\n",
       "      <th>6579</th>\n",
       "      <td>Zimbabwe</td>\n",
       "      <td>Stroke</td>\n",
       "      <td>Ambient and household air pollution attributab...</td>\n",
       "      <td>2016</td>\n",
       "      <td>Both sexes</td>\n",
       "      <td>20.08 [17.15-23.4]</td>\n",
       "    </tr>\n",
       "    <tr>\n",
       "      <th>6585</th>\n",
       "      <td>Zimbabwe</td>\n",
       "      <td>Chronic obstructive pulmonary disease</td>\n",
       "      <td>Ambient and household air pollution attributab...</td>\n",
       "      <td>2016</td>\n",
       "      <td>Both sexes</td>\n",
       "      <td>16.09 [11.67-19.89]</td>\n",
       "    </tr>\n",
       "  </tbody>\n",
       "</table>\n",
       "<p>1098 rows × 6 columns</p>\n",
       "</div>"
      ],
      "text/plain": [
       "         Location                                   Dim2  \\\n",
       "3     Afghanistan                                  Total   \n",
       "9     Afghanistan           Lower respiratory infections   \n",
       "15    Afghanistan        Trachea, bronchus, lung cancers   \n",
       "21    Afghanistan                Ischaemic heart disease   \n",
       "27    Afghanistan                                 Stroke   \n",
       "...           ...                                    ...   \n",
       "6561     Zimbabwe           Lower respiratory infections   \n",
       "6567     Zimbabwe        Trachea, bronchus, lung cancers   \n",
       "6573     Zimbabwe                Ischaemic heart disease   \n",
       "6579     Zimbabwe                                 Stroke   \n",
       "6585     Zimbabwe  Chronic obstructive pulmonary disease   \n",
       "\n",
       "                                              Indicator  Period        Dim1  \\\n",
       "3     Ambient and household air pollution attributab...    2016  Both sexes   \n",
       "9     Ambient and household air pollution attributab...    2016  Both sexes   \n",
       "15    Ambient and household air pollution attributab...    2016  Both sexes   \n",
       "21    Ambient and household air pollution attributab...    2016  Both sexes   \n",
       "27    Ambient and household air pollution attributab...    2016  Both sexes   \n",
       "...                                                 ...     ...         ...   \n",
       "6561  Ambient and household air pollution attributab...    2016  Both sexes   \n",
       "6567  Ambient and household air pollution attributab...    2016  Both sexes   \n",
       "6573  Ambient and household air pollution attributab...    2016  Both sexes   \n",
       "6579  Ambient and household air pollution attributab...    2016  Both sexes   \n",
       "6585  Ambient and household air pollution attributab...    2016  Both sexes   \n",
       "\n",
       "            First Tooltip  \n",
       "3     211.1 [188.9-231.3]  \n",
       "9     31.68 [26.01-36.15]  \n",
       "15       4.05 [3.03-4.92]  \n",
       "21    106.9 [91.91-121.1]  \n",
       "27     45.1 [38.59-51.65]  \n",
       "...                   ...  \n",
       "6561  61.68 [51.05-71.05]  \n",
       "6567     1.89 [1.42-2.33]  \n",
       "6573   33.24 [28.49-38.1]  \n",
       "6579   20.08 [17.15-23.4]  \n",
       "6585  16.09 [11.67-19.89]  \n",
       "\n",
       "[1098 rows x 6 columns]"
      ]
     },
     "execution_count": 49,
     "metadata": {},
     "output_type": "execute_result"
    }
   ],
   "source": [
    "ap_bs_standardized = ap_bs_data[ap_bs_data['Indicator'] == 'Ambient and household air pollution attributable death rate (per 100 000 population, age-standardized)']\n",
    "ap_bs_standardized"
   ]
  },
  {
   "cell_type": "code",
   "execution_count": 50,
   "metadata": {},
   "outputs": [
    {
     "data": {
      "text/plain": [
       "array(['Ambient and household air pollution attributable death rate (per 100 000 population, age-standardized)'],\n",
       "      dtype=object)"
      ]
     },
     "execution_count": 50,
     "metadata": {},
     "output_type": "execute_result"
    }
   ],
   "source": [
    "ap_bs_standardized['Indicator'].unique()"
   ]
  },
  {
   "cell_type": "code",
   "execution_count": null,
   "metadata": {},
   "outputs": [],
   "source": []
  },
  {
   "cell_type": "markdown",
   "metadata": {},
   "source": [
    "## Alcohol Substance Abuse"
   ]
  },
  {
   "cell_type": "code",
   "execution_count": 51,
   "metadata": {},
   "outputs": [
    {
     "data": {
      "text/html": [
       "<div>\n",
       "<style scoped>\n",
       "    .dataframe tbody tr th:only-of-type {\n",
       "        vertical-align: middle;\n",
       "    }\n",
       "\n",
       "    .dataframe tbody tr th {\n",
       "        vertical-align: top;\n",
       "    }\n",
       "\n",
       "    .dataframe thead th {\n",
       "        text-align: right;\n",
       "    }\n",
       "</style>\n",
       "<table border=\"1\" class=\"dataframe\">\n",
       "  <thead>\n",
       "    <tr style=\"text-align: right;\">\n",
       "      <th></th>\n",
       "      <th>Location</th>\n",
       "      <th>Period</th>\n",
       "      <th>Indicator</th>\n",
       "      <th>Dim1</th>\n",
       "      <th>First Tooltip</th>\n",
       "    </tr>\n",
       "  </thead>\n",
       "  <tbody>\n",
       "    <tr>\n",
       "      <th>0</th>\n",
       "      <td>Afghanistan</td>\n",
       "      <td>2018</td>\n",
       "      <td>Total (recorded+unrecorded) alcohol per capita...</td>\n",
       "      <td>Both sexes</td>\n",
       "      <td>0.210</td>\n",
       "    </tr>\n",
       "    <tr>\n",
       "      <th>1</th>\n",
       "      <td>Afghanistan</td>\n",
       "      <td>2018</td>\n",
       "      <td>Total (recorded+unrecorded) alcohol per capita...</td>\n",
       "      <td>Male</td>\n",
       "      <td>0.360</td>\n",
       "    </tr>\n",
       "    <tr>\n",
       "      <th>2</th>\n",
       "      <td>Afghanistan</td>\n",
       "      <td>2018</td>\n",
       "      <td>Total (recorded+unrecorded) alcohol per capita...</td>\n",
       "      <td>Female</td>\n",
       "      <td>0.055</td>\n",
       "    </tr>\n",
       "    <tr>\n",
       "      <th>3</th>\n",
       "      <td>Afghanistan</td>\n",
       "      <td>2015</td>\n",
       "      <td>Total (recorded+unrecorded) alcohol per capita...</td>\n",
       "      <td>Both sexes</td>\n",
       "      <td>0.210</td>\n",
       "    </tr>\n",
       "    <tr>\n",
       "      <th>4</th>\n",
       "      <td>Afghanistan</td>\n",
       "      <td>2015</td>\n",
       "      <td>Total (recorded+unrecorded) alcohol per capita...</td>\n",
       "      <td>Male</td>\n",
       "      <td>0.350</td>\n",
       "    </tr>\n",
       "    <tr>\n",
       "      <th>...</th>\n",
       "      <td>...</td>\n",
       "      <td>...</td>\n",
       "      <td>...</td>\n",
       "      <td>...</td>\n",
       "      <td>...</td>\n",
       "    </tr>\n",
       "    <tr>\n",
       "      <th>2782</th>\n",
       "      <td>Zimbabwe</td>\n",
       "      <td>2005</td>\n",
       "      <td>Total (recorded+unrecorded) alcohol per capita...</td>\n",
       "      <td>Male</td>\n",
       "      <td>4.720</td>\n",
       "    </tr>\n",
       "    <tr>\n",
       "      <th>2783</th>\n",
       "      <td>Zimbabwe</td>\n",
       "      <td>2005</td>\n",
       "      <td>Total (recorded+unrecorded) alcohol per capita...</td>\n",
       "      <td>Female</td>\n",
       "      <td>0.990</td>\n",
       "    </tr>\n",
       "    <tr>\n",
       "      <th>2784</th>\n",
       "      <td>Zimbabwe</td>\n",
       "      <td>2000</td>\n",
       "      <td>Total (recorded+unrecorded) alcohol per capita...</td>\n",
       "      <td>Both sexes</td>\n",
       "      <td>2.460</td>\n",
       "    </tr>\n",
       "    <tr>\n",
       "      <th>2785</th>\n",
       "      <td>Zimbabwe</td>\n",
       "      <td>2000</td>\n",
       "      <td>Total (recorded+unrecorded) alcohol per capita...</td>\n",
       "      <td>Male</td>\n",
       "      <td>4.160</td>\n",
       "    </tr>\n",
       "    <tr>\n",
       "      <th>2786</th>\n",
       "      <td>Zimbabwe</td>\n",
       "      <td>2000</td>\n",
       "      <td>Total (recorded+unrecorded) alcohol per capita...</td>\n",
       "      <td>Female</td>\n",
       "      <td>0.880</td>\n",
       "    </tr>\n",
       "  </tbody>\n",
       "</table>\n",
       "<p>2787 rows × 5 columns</p>\n",
       "</div>"
      ],
      "text/plain": [
       "         Location  Period                                          Indicator  \\\n",
       "0     Afghanistan    2018  Total (recorded+unrecorded) alcohol per capita...   \n",
       "1     Afghanistan    2018  Total (recorded+unrecorded) alcohol per capita...   \n",
       "2     Afghanistan    2018  Total (recorded+unrecorded) alcohol per capita...   \n",
       "3     Afghanistan    2015  Total (recorded+unrecorded) alcohol per capita...   \n",
       "4     Afghanistan    2015  Total (recorded+unrecorded) alcohol per capita...   \n",
       "...           ...     ...                                                ...   \n",
       "2782     Zimbabwe    2005  Total (recorded+unrecorded) alcohol per capita...   \n",
       "2783     Zimbabwe    2005  Total (recorded+unrecorded) alcohol per capita...   \n",
       "2784     Zimbabwe    2000  Total (recorded+unrecorded) alcohol per capita...   \n",
       "2785     Zimbabwe    2000  Total (recorded+unrecorded) alcohol per capita...   \n",
       "2786     Zimbabwe    2000  Total (recorded+unrecorded) alcohol per capita...   \n",
       "\n",
       "            Dim1  First Tooltip  \n",
       "0     Both sexes          0.210  \n",
       "1           Male          0.360  \n",
       "2         Female          0.055  \n",
       "3     Both sexes          0.210  \n",
       "4           Male          0.350  \n",
       "...          ...            ...  \n",
       "2782        Male          4.720  \n",
       "2783      Female          0.990  \n",
       "2784  Both sexes          2.460  \n",
       "2785        Male          4.160  \n",
       "2786      Female          0.880  \n",
       "\n",
       "[2787 rows x 5 columns]"
      ]
     },
     "execution_count": 51,
     "metadata": {},
     "output_type": "execute_result"
    }
   ],
   "source": [
    "alcohol_data = pd.read_csv(WHS_path/'alcoholSubstanceAbuse.csv')\n",
    "alcohol_data"
   ]
  },
  {
   "cell_type": "code",
   "execution_count": 52,
   "metadata": {},
   "outputs": [
    {
     "data": {
      "text/plain": [
       "Location         2787\n",
       "Period           2787\n",
       "Indicator        2787\n",
       "Dim1             2787\n",
       "First Tooltip    2787\n",
       "dtype: int64"
      ]
     },
     "execution_count": 52,
     "metadata": {},
     "output_type": "execute_result"
    }
   ],
   "source": [
    "alcohol_data.isnull().count()"
   ]
  },
  {
   "cell_type": "code",
   "execution_count": 53,
   "metadata": {},
   "outputs": [
    {
     "data": {
      "text/plain": [
       "array([2018, 2015, 2010, 2005, 2000])"
      ]
     },
     "execution_count": 53,
     "metadata": {},
     "output_type": "execute_result"
    }
   ],
   "source": [
    "alcohol_data['Period'].unique()"
   ]
  },
  {
   "cell_type": "markdown",
   "metadata": {},
   "source": [
    "The years to use are 2018 and 2015."
   ]
  },
  {
   "cell_type": "code",
   "execution_count": 54,
   "metadata": {},
   "outputs": [
    {
     "data": {
      "text/plain": [
       "Location         564\n",
       "Period           564\n",
       "Indicator        564\n",
       "Dim1             564\n",
       "First Tooltip    564\n",
       "dtype: int64"
      ]
     },
     "execution_count": 54,
     "metadata": {},
     "output_type": "execute_result"
    }
   ],
   "source": [
    "alcohol_data[alcohol_data['Period'] == 2018].count()"
   ]
  },
  {
   "cell_type": "code",
   "execution_count": 55,
   "metadata": {},
   "outputs": [
    {
     "data": {
      "text/plain": [
       "Location         564\n",
       "Period           564\n",
       "Indicator        564\n",
       "Dim1             564\n",
       "First Tooltip    564\n",
       "dtype: int64"
      ]
     },
     "execution_count": 55,
     "metadata": {},
     "output_type": "execute_result"
    }
   ],
   "source": [
    "alcohol_data[alcohol_data['Period'] == 2015].count()"
   ]
  },
  {
   "cell_type": "code",
   "execution_count": 56,
   "metadata": {},
   "outputs": [
    {
     "data": {
      "text/plain": [
       "Location         561\n",
       "Period           561\n",
       "Indicator        561\n",
       "Dim1             561\n",
       "First Tooltip    561\n",
       "dtype: int64"
      ]
     },
     "execution_count": 56,
     "metadata": {},
     "output_type": "execute_result"
    }
   ],
   "source": [
    "alcohol_data[alcohol_data['Period'] == 2010].count()"
   ]
  },
  {
   "cell_type": "code",
   "execution_count": 57,
   "metadata": {},
   "outputs": [
    {
     "data": {
      "text/plain": [
       "Location         549\n",
       "Period           549\n",
       "Indicator        549\n",
       "Dim1             549\n",
       "First Tooltip    549\n",
       "dtype: int64"
      ]
     },
     "execution_count": 57,
     "metadata": {},
     "output_type": "execute_result"
    }
   ],
   "source": [
    "alcohol_data[alcohol_data['Period'] == 2005].count()"
   ]
  },
  {
   "cell_type": "code",
   "execution_count": 58,
   "metadata": {},
   "outputs": [
    {
     "data": {
      "text/plain": [
       "Location         549\n",
       "Period           549\n",
       "Indicator        549\n",
       "Dim1             549\n",
       "First Tooltip    549\n",
       "dtype: int64"
      ]
     },
     "execution_count": 58,
     "metadata": {},
     "output_type": "execute_result"
    }
   ],
   "source": [
    "alcohol_data[alcohol_data['Period'] == 2000].count()"
   ]
  },
  {
   "cell_type": "code",
   "execution_count": 59,
   "metadata": {},
   "outputs": [
    {
     "data": {
      "text/plain": [
       "array(['Total (recorded+unrecorded) alcohol per capita (15+) consumption'],\n",
       "      dtype=object)"
      ]
     },
     "execution_count": 59,
     "metadata": {},
     "output_type": "execute_result"
    }
   ],
   "source": [
    "alcohol_data['Indicator'].unique()"
   ]
  },
  {
   "cell_type": "code",
   "execution_count": 60,
   "metadata": {},
   "outputs": [
    {
     "data": {
      "text/html": [
       "<div>\n",
       "<style scoped>\n",
       "    .dataframe tbody tr th:only-of-type {\n",
       "        vertical-align: middle;\n",
       "    }\n",
       "\n",
       "    .dataframe tbody tr th {\n",
       "        vertical-align: top;\n",
       "    }\n",
       "\n",
       "    .dataframe thead th {\n",
       "        text-align: right;\n",
       "    }\n",
       "</style>\n",
       "<table border=\"1\" class=\"dataframe\">\n",
       "  <thead>\n",
       "    <tr style=\"text-align: right;\">\n",
       "      <th></th>\n",
       "      <th>Location</th>\n",
       "      <th>Period</th>\n",
       "      <th>Indicator</th>\n",
       "      <th>Dim1</th>\n",
       "      <th>First Tooltip</th>\n",
       "    </tr>\n",
       "  </thead>\n",
       "  <tbody>\n",
       "    <tr>\n",
       "      <th>0</th>\n",
       "      <td>Afghanistan</td>\n",
       "      <td>2018</td>\n",
       "      <td>Total (recorded+unrecorded) alcohol per capita...</td>\n",
       "      <td>Both sexes</td>\n",
       "      <td>0.21</td>\n",
       "    </tr>\n",
       "    <tr>\n",
       "      <th>3</th>\n",
       "      <td>Afghanistan</td>\n",
       "      <td>2015</td>\n",
       "      <td>Total (recorded+unrecorded) alcohol per capita...</td>\n",
       "      <td>Both sexes</td>\n",
       "      <td>0.21</td>\n",
       "    </tr>\n",
       "    <tr>\n",
       "      <th>6</th>\n",
       "      <td>Afghanistan</td>\n",
       "      <td>2010</td>\n",
       "      <td>Total (recorded+unrecorded) alcohol per capita...</td>\n",
       "      <td>Both sexes</td>\n",
       "      <td>0.21</td>\n",
       "    </tr>\n",
       "    <tr>\n",
       "      <th>9</th>\n",
       "      <td>Albania</td>\n",
       "      <td>2018</td>\n",
       "      <td>Total (recorded+unrecorded) alcohol per capita...</td>\n",
       "      <td>Both sexes</td>\n",
       "      <td>7.17</td>\n",
       "    </tr>\n",
       "    <tr>\n",
       "      <th>12</th>\n",
       "      <td>Albania</td>\n",
       "      <td>2015</td>\n",
       "      <td>Total (recorded+unrecorded) alcohol per capita...</td>\n",
       "      <td>Both sexes</td>\n",
       "      <td>6.74</td>\n",
       "    </tr>\n",
       "    <tr>\n",
       "      <th>...</th>\n",
       "      <td>...</td>\n",
       "      <td>...</td>\n",
       "      <td>...</td>\n",
       "      <td>...</td>\n",
       "      <td>...</td>\n",
       "    </tr>\n",
       "    <tr>\n",
       "      <th>2772</th>\n",
       "      <td>Zimbabwe</td>\n",
       "      <td>2018</td>\n",
       "      <td>Total (recorded+unrecorded) alcohol per capita...</td>\n",
       "      <td>Both sexes</td>\n",
       "      <td>4.67</td>\n",
       "    </tr>\n",
       "    <tr>\n",
       "      <th>2775</th>\n",
       "      <td>Zimbabwe</td>\n",
       "      <td>2015</td>\n",
       "      <td>Total (recorded+unrecorded) alcohol per capita...</td>\n",
       "      <td>Both sexes</td>\n",
       "      <td>4.92</td>\n",
       "    </tr>\n",
       "    <tr>\n",
       "      <th>2778</th>\n",
       "      <td>Zimbabwe</td>\n",
       "      <td>2010</td>\n",
       "      <td>Total (recorded+unrecorded) alcohol per capita...</td>\n",
       "      <td>Both sexes</td>\n",
       "      <td>3.93</td>\n",
       "    </tr>\n",
       "    <tr>\n",
       "      <th>2781</th>\n",
       "      <td>Zimbabwe</td>\n",
       "      <td>2005</td>\n",
       "      <td>Total (recorded+unrecorded) alcohol per capita...</td>\n",
       "      <td>Both sexes</td>\n",
       "      <td>2.77</td>\n",
       "    </tr>\n",
       "    <tr>\n",
       "      <th>2784</th>\n",
       "      <td>Zimbabwe</td>\n",
       "      <td>2000</td>\n",
       "      <td>Total (recorded+unrecorded) alcohol per capita...</td>\n",
       "      <td>Both sexes</td>\n",
       "      <td>2.46</td>\n",
       "    </tr>\n",
       "  </tbody>\n",
       "</table>\n",
       "<p>929 rows × 5 columns</p>\n",
       "</div>"
      ],
      "text/plain": [
       "         Location  Period                                          Indicator  \\\n",
       "0     Afghanistan    2018  Total (recorded+unrecorded) alcohol per capita...   \n",
       "3     Afghanistan    2015  Total (recorded+unrecorded) alcohol per capita...   \n",
       "6     Afghanistan    2010  Total (recorded+unrecorded) alcohol per capita...   \n",
       "9         Albania    2018  Total (recorded+unrecorded) alcohol per capita...   \n",
       "12        Albania    2015  Total (recorded+unrecorded) alcohol per capita...   \n",
       "...           ...     ...                                                ...   \n",
       "2772     Zimbabwe    2018  Total (recorded+unrecorded) alcohol per capita...   \n",
       "2775     Zimbabwe    2015  Total (recorded+unrecorded) alcohol per capita...   \n",
       "2778     Zimbabwe    2010  Total (recorded+unrecorded) alcohol per capita...   \n",
       "2781     Zimbabwe    2005  Total (recorded+unrecorded) alcohol per capita...   \n",
       "2784     Zimbabwe    2000  Total (recorded+unrecorded) alcohol per capita...   \n",
       "\n",
       "            Dim1  First Tooltip  \n",
       "0     Both sexes           0.21  \n",
       "3     Both sexes           0.21  \n",
       "6     Both sexes           0.21  \n",
       "9     Both sexes           7.17  \n",
       "12    Both sexes           6.74  \n",
       "...          ...            ...  \n",
       "2772  Both sexes           4.67  \n",
       "2775  Both sexes           4.92  \n",
       "2778  Both sexes           3.93  \n",
       "2781  Both sexes           2.77  \n",
       "2784  Both sexes           2.46  \n",
       "\n",
       "[929 rows x 5 columns]"
      ]
     },
     "execution_count": 60,
     "metadata": {},
     "output_type": "execute_result"
    }
   ],
   "source": [
    "alcohol_both_sex = alcohol_data[alcohol_data['Dim1'] == 'Both sexes']\n",
    "alcohol_both_sex"
   ]
  },
  {
   "cell_type": "markdown",
   "metadata": {},
   "source": [
    "## Dataset to export"
   ]
  },
  {
   "cell_type": "code",
   "execution_count": 61,
   "metadata": {},
   "outputs": [
    {
     "data": {
      "text/html": [
       "<div>\n",
       "<style scoped>\n",
       "    .dataframe tbody tr th:only-of-type {\n",
       "        vertical-align: middle;\n",
       "    }\n",
       "\n",
       "    .dataframe tbody tr th {\n",
       "        vertical-align: top;\n",
       "    }\n",
       "\n",
       "    .dataframe thead th {\n",
       "        text-align: right;\n",
       "    }\n",
       "</style>\n",
       "<table border=\"1\" class=\"dataframe\">\n",
       "  <thead>\n",
       "    <tr style=\"text-align: right;\">\n",
       "      <th></th>\n",
       "      <th>Location</th>\n",
       "      <th>Period</th>\n",
       "      <th>Indicator</th>\n",
       "      <th>Dim1</th>\n",
       "      <th>First Tooltip</th>\n",
       "    </tr>\n",
       "  </thead>\n",
       "  <tbody>\n",
       "    <tr>\n",
       "      <th>0</th>\n",
       "      <td>Afghanistan</td>\n",
       "      <td>2018</td>\n",
       "      <td>Total (recorded+unrecorded) alcohol per capita...</td>\n",
       "      <td>Both sexes</td>\n",
       "      <td>0.210</td>\n",
       "    </tr>\n",
       "    <tr>\n",
       "      <th>9</th>\n",
       "      <td>Albania</td>\n",
       "      <td>2018</td>\n",
       "      <td>Total (recorded+unrecorded) alcohol per capita...</td>\n",
       "      <td>Both sexes</td>\n",
       "      <td>7.170</td>\n",
       "    </tr>\n",
       "    <tr>\n",
       "      <th>24</th>\n",
       "      <td>Algeria</td>\n",
       "      <td>2018</td>\n",
       "      <td>Total (recorded+unrecorded) alcohol per capita...</td>\n",
       "      <td>Both sexes</td>\n",
       "      <td>0.950</td>\n",
       "    </tr>\n",
       "    <tr>\n",
       "      <th>39</th>\n",
       "      <td>Andorra</td>\n",
       "      <td>2018</td>\n",
       "      <td>Total (recorded+unrecorded) alcohol per capita...</td>\n",
       "      <td>Both sexes</td>\n",
       "      <td>11.020</td>\n",
       "    </tr>\n",
       "    <tr>\n",
       "      <th>54</th>\n",
       "      <td>Angola</td>\n",
       "      <td>2018</td>\n",
       "      <td>Total (recorded+unrecorded) alcohol per capita...</td>\n",
       "      <td>Both sexes</td>\n",
       "      <td>6.940</td>\n",
       "    </tr>\n",
       "    <tr>\n",
       "      <th>...</th>\n",
       "      <td>...</td>\n",
       "      <td>...</td>\n",
       "      <td>...</td>\n",
       "      <td>...</td>\n",
       "      <td>...</td>\n",
       "    </tr>\n",
       "    <tr>\n",
       "      <th>2712</th>\n",
       "      <td>Venezuela (Bolivarian Republic of)</td>\n",
       "      <td>2018</td>\n",
       "      <td>Total (recorded+unrecorded) alcohol per capita...</td>\n",
       "      <td>Both sexes</td>\n",
       "      <td>4.140</td>\n",
       "    </tr>\n",
       "    <tr>\n",
       "      <th>2727</th>\n",
       "      <td>Viet Nam</td>\n",
       "      <td>2018</td>\n",
       "      <td>Total (recorded+unrecorded) alcohol per capita...</td>\n",
       "      <td>Both sexes</td>\n",
       "      <td>8.660</td>\n",
       "    </tr>\n",
       "    <tr>\n",
       "      <th>2742</th>\n",
       "      <td>Yemen</td>\n",
       "      <td>2018</td>\n",
       "      <td>Total (recorded+unrecorded) alcohol per capita...</td>\n",
       "      <td>Both sexes</td>\n",
       "      <td>0.051</td>\n",
       "    </tr>\n",
       "    <tr>\n",
       "      <th>2757</th>\n",
       "      <td>Zambia</td>\n",
       "      <td>2018</td>\n",
       "      <td>Total (recorded+unrecorded) alcohol per capita...</td>\n",
       "      <td>Both sexes</td>\n",
       "      <td>6.540</td>\n",
       "    </tr>\n",
       "    <tr>\n",
       "      <th>2772</th>\n",
       "      <td>Zimbabwe</td>\n",
       "      <td>2018</td>\n",
       "      <td>Total (recorded+unrecorded) alcohol per capita...</td>\n",
       "      <td>Both sexes</td>\n",
       "      <td>4.670</td>\n",
       "    </tr>\n",
       "  </tbody>\n",
       "</table>\n",
       "<p>188 rows × 5 columns</p>\n",
       "</div>"
      ],
      "text/plain": [
       "                                Location  Period  \\\n",
       "0                            Afghanistan    2018   \n",
       "9                                Albania    2018   \n",
       "24                               Algeria    2018   \n",
       "39                               Andorra    2018   \n",
       "54                                Angola    2018   \n",
       "...                                  ...     ...   \n",
       "2712  Venezuela (Bolivarian Republic of)    2018   \n",
       "2727                            Viet Nam    2018   \n",
       "2742                               Yemen    2018   \n",
       "2757                              Zambia    2018   \n",
       "2772                            Zimbabwe    2018   \n",
       "\n",
       "                                              Indicator        Dim1  \\\n",
       "0     Total (recorded+unrecorded) alcohol per capita...  Both sexes   \n",
       "9     Total (recorded+unrecorded) alcohol per capita...  Both sexes   \n",
       "24    Total (recorded+unrecorded) alcohol per capita...  Both sexes   \n",
       "39    Total (recorded+unrecorded) alcohol per capita...  Both sexes   \n",
       "54    Total (recorded+unrecorded) alcohol per capita...  Both sexes   \n",
       "...                                                 ...         ...   \n",
       "2712  Total (recorded+unrecorded) alcohol per capita...  Both sexes   \n",
       "2727  Total (recorded+unrecorded) alcohol per capita...  Both sexes   \n",
       "2742  Total (recorded+unrecorded) alcohol per capita...  Both sexes   \n",
       "2757  Total (recorded+unrecorded) alcohol per capita...  Both sexes   \n",
       "2772  Total (recorded+unrecorded) alcohol per capita...  Both sexes   \n",
       "\n",
       "      First Tooltip  \n",
       "0             0.210  \n",
       "9             7.170  \n",
       "24            0.950  \n",
       "39           11.020  \n",
       "54            6.940  \n",
       "...             ...  \n",
       "2712          4.140  \n",
       "2727          8.660  \n",
       "2742          0.051  \n",
       "2757          6.540  \n",
       "2772          4.670  \n",
       "\n",
       "[188 rows x 5 columns]"
      ]
     },
     "execution_count": 61,
     "metadata": {},
     "output_type": "execute_result"
    }
   ],
   "source": [
    "alcohol_both_sex_2018 = alcohol_both_sex[alcohol_both_sex['Period'] == 2018]\n",
    "alcohol_both_sex_2018"
   ]
  },
  {
   "cell_type": "markdown",
   "metadata": {},
   "source": [
    "## Dataset to export"
   ]
  },
  {
   "cell_type": "code",
   "execution_count": 62,
   "metadata": {},
   "outputs": [
    {
     "data": {
      "text/html": [
       "<div>\n",
       "<style scoped>\n",
       "    .dataframe tbody tr th:only-of-type {\n",
       "        vertical-align: middle;\n",
       "    }\n",
       "\n",
       "    .dataframe tbody tr th {\n",
       "        vertical-align: top;\n",
       "    }\n",
       "\n",
       "    .dataframe thead th {\n",
       "        text-align: right;\n",
       "    }\n",
       "</style>\n",
       "<table border=\"1\" class=\"dataframe\">\n",
       "  <thead>\n",
       "    <tr style=\"text-align: right;\">\n",
       "      <th></th>\n",
       "      <th>Location</th>\n",
       "      <th>Period</th>\n",
       "      <th>Indicator</th>\n",
       "      <th>Dim1</th>\n",
       "      <th>First Tooltip</th>\n",
       "    </tr>\n",
       "  </thead>\n",
       "  <tbody>\n",
       "    <tr>\n",
       "      <th>3</th>\n",
       "      <td>Afghanistan</td>\n",
       "      <td>2015</td>\n",
       "      <td>Total (recorded+unrecorded) alcohol per capita...</td>\n",
       "      <td>Both sexes</td>\n",
       "      <td>0.210</td>\n",
       "    </tr>\n",
       "    <tr>\n",
       "      <th>12</th>\n",
       "      <td>Albania</td>\n",
       "      <td>2015</td>\n",
       "      <td>Total (recorded+unrecorded) alcohol per capita...</td>\n",
       "      <td>Both sexes</td>\n",
       "      <td>6.740</td>\n",
       "    </tr>\n",
       "    <tr>\n",
       "      <th>27</th>\n",
       "      <td>Algeria</td>\n",
       "      <td>2015</td>\n",
       "      <td>Total (recorded+unrecorded) alcohol per capita...</td>\n",
       "      <td>Both sexes</td>\n",
       "      <td>0.930</td>\n",
       "    </tr>\n",
       "    <tr>\n",
       "      <th>42</th>\n",
       "      <td>Andorra</td>\n",
       "      <td>2015</td>\n",
       "      <td>Total (recorded+unrecorded) alcohol per capita...</td>\n",
       "      <td>Both sexes</td>\n",
       "      <td>11.010</td>\n",
       "    </tr>\n",
       "    <tr>\n",
       "      <th>57</th>\n",
       "      <td>Angola</td>\n",
       "      <td>2015</td>\n",
       "      <td>Total (recorded+unrecorded) alcohol per capita...</td>\n",
       "      <td>Both sexes</td>\n",
       "      <td>7.960</td>\n",
       "    </tr>\n",
       "    <tr>\n",
       "      <th>...</th>\n",
       "      <td>...</td>\n",
       "      <td>...</td>\n",
       "      <td>...</td>\n",
       "      <td>...</td>\n",
       "      <td>...</td>\n",
       "    </tr>\n",
       "    <tr>\n",
       "      <th>2715</th>\n",
       "      <td>Venezuela (Bolivarian Republic of)</td>\n",
       "      <td>2015</td>\n",
       "      <td>Total (recorded+unrecorded) alcohol per capita...</td>\n",
       "      <td>Both sexes</td>\n",
       "      <td>6.820</td>\n",
       "    </tr>\n",
       "    <tr>\n",
       "      <th>2730</th>\n",
       "      <td>Viet Nam</td>\n",
       "      <td>2015</td>\n",
       "      <td>Total (recorded+unrecorded) alcohol per capita...</td>\n",
       "      <td>Both sexes</td>\n",
       "      <td>7.860</td>\n",
       "    </tr>\n",
       "    <tr>\n",
       "      <th>2745</th>\n",
       "      <td>Yemen</td>\n",
       "      <td>2015</td>\n",
       "      <td>Total (recorded+unrecorded) alcohol per capita...</td>\n",
       "      <td>Both sexes</td>\n",
       "      <td>0.055</td>\n",
       "    </tr>\n",
       "    <tr>\n",
       "      <th>2760</th>\n",
       "      <td>Zambia</td>\n",
       "      <td>2015</td>\n",
       "      <td>Total (recorded+unrecorded) alcohol per capita...</td>\n",
       "      <td>Both sexes</td>\n",
       "      <td>6.890</td>\n",
       "    </tr>\n",
       "    <tr>\n",
       "      <th>2775</th>\n",
       "      <td>Zimbabwe</td>\n",
       "      <td>2015</td>\n",
       "      <td>Total (recorded+unrecorded) alcohol per capita...</td>\n",
       "      <td>Both sexes</td>\n",
       "      <td>4.920</td>\n",
       "    </tr>\n",
       "  </tbody>\n",
       "</table>\n",
       "<p>188 rows × 5 columns</p>\n",
       "</div>"
      ],
      "text/plain": [
       "                                Location  Period  \\\n",
       "3                            Afghanistan    2015   \n",
       "12                               Albania    2015   \n",
       "27                               Algeria    2015   \n",
       "42                               Andorra    2015   \n",
       "57                                Angola    2015   \n",
       "...                                  ...     ...   \n",
       "2715  Venezuela (Bolivarian Republic of)    2015   \n",
       "2730                            Viet Nam    2015   \n",
       "2745                               Yemen    2015   \n",
       "2760                              Zambia    2015   \n",
       "2775                            Zimbabwe    2015   \n",
       "\n",
       "                                              Indicator        Dim1  \\\n",
       "3     Total (recorded+unrecorded) alcohol per capita...  Both sexes   \n",
       "12    Total (recorded+unrecorded) alcohol per capita...  Both sexes   \n",
       "27    Total (recorded+unrecorded) alcohol per capita...  Both sexes   \n",
       "42    Total (recorded+unrecorded) alcohol per capita...  Both sexes   \n",
       "57    Total (recorded+unrecorded) alcohol per capita...  Both sexes   \n",
       "...                                                 ...         ...   \n",
       "2715  Total (recorded+unrecorded) alcohol per capita...  Both sexes   \n",
       "2730  Total (recorded+unrecorded) alcohol per capita...  Both sexes   \n",
       "2745  Total (recorded+unrecorded) alcohol per capita...  Both sexes   \n",
       "2760  Total (recorded+unrecorded) alcohol per capita...  Both sexes   \n",
       "2775  Total (recorded+unrecorded) alcohol per capita...  Both sexes   \n",
       "\n",
       "      First Tooltip  \n",
       "3             0.210  \n",
       "12            6.740  \n",
       "27            0.930  \n",
       "42           11.010  \n",
       "57            7.960  \n",
       "...             ...  \n",
       "2715          6.820  \n",
       "2730          7.860  \n",
       "2745          0.055  \n",
       "2760          6.890  \n",
       "2775          4.920  \n",
       "\n",
       "[188 rows x 5 columns]"
      ]
     },
     "execution_count": 62,
     "metadata": {},
     "output_type": "execute_result"
    }
   ],
   "source": [
    "alcohol_both_sex_2015 = alcohol_both_sex[alcohol_both_sex['Period'] == 2015]\n",
    "alcohol_both_sex_2015"
   ]
  },
  {
   "cell_type": "code",
   "execution_count": null,
   "metadata": {},
   "outputs": [],
   "source": []
  },
  {
   "cell_type": "markdown",
   "metadata": {},
   "source": [
    "## Basic Sanitization"
   ]
  },
  {
   "cell_type": "code",
   "execution_count": 63,
   "metadata": {},
   "outputs": [
    {
     "data": {
      "text/html": [
       "<div>\n",
       "<style scoped>\n",
       "    .dataframe tbody tr th:only-of-type {\n",
       "        vertical-align: middle;\n",
       "    }\n",
       "\n",
       "    .dataframe tbody tr th {\n",
       "        vertical-align: top;\n",
       "    }\n",
       "\n",
       "    .dataframe thead th {\n",
       "        text-align: right;\n",
       "    }\n",
       "</style>\n",
       "<table border=\"1\" class=\"dataframe\">\n",
       "  <thead>\n",
       "    <tr style=\"text-align: right;\">\n",
       "      <th></th>\n",
       "      <th>Location</th>\n",
       "      <th>Indicator</th>\n",
       "      <th>Period</th>\n",
       "      <th>Dim1</th>\n",
       "      <th>First Tooltip</th>\n",
       "    </tr>\n",
       "  </thead>\n",
       "  <tbody>\n",
       "    <tr>\n",
       "      <th>0</th>\n",
       "      <td>Afghanistan</td>\n",
       "      <td>Population using at least basic sanitation ser...</td>\n",
       "      <td>2017</td>\n",
       "      <td>Total</td>\n",
       "      <td>43.42</td>\n",
       "    </tr>\n",
       "    <tr>\n",
       "      <th>1</th>\n",
       "      <td>Afghanistan</td>\n",
       "      <td>Population using at least basic sanitation ser...</td>\n",
       "      <td>2017</td>\n",
       "      <td>Urban</td>\n",
       "      <td>62.26</td>\n",
       "    </tr>\n",
       "    <tr>\n",
       "      <th>2</th>\n",
       "      <td>Afghanistan</td>\n",
       "      <td>Population using at least basic sanitation ser...</td>\n",
       "      <td>2017</td>\n",
       "      <td>Rural</td>\n",
       "      <td>37.05</td>\n",
       "    </tr>\n",
       "    <tr>\n",
       "      <th>3</th>\n",
       "      <td>Afghanistan</td>\n",
       "      <td>Population using at least basic sanitation ser...</td>\n",
       "      <td>2016</td>\n",
       "      <td>Total</td>\n",
       "      <td>42.05</td>\n",
       "    </tr>\n",
       "    <tr>\n",
       "      <th>4</th>\n",
       "      <td>Afghanistan</td>\n",
       "      <td>Population using at least basic sanitation ser...</td>\n",
       "      <td>2016</td>\n",
       "      <td>Urban</td>\n",
       "      <td>59.92</td>\n",
       "    </tr>\n",
       "    <tr>\n",
       "      <th>...</th>\n",
       "      <td>...</td>\n",
       "      <td>...</td>\n",
       "      <td>...</td>\n",
       "      <td>...</td>\n",
       "      <td>...</td>\n",
       "    </tr>\n",
       "    <tr>\n",
       "      <th>9363</th>\n",
       "      <td>Zimbabwe</td>\n",
       "      <td>Population using at least basic sanitation ser...</td>\n",
       "      <td>2001</td>\n",
       "      <td>Urban</td>\n",
       "      <td>65.05</td>\n",
       "    </tr>\n",
       "    <tr>\n",
       "      <th>9364</th>\n",
       "      <td>Zimbabwe</td>\n",
       "      <td>Population using at least basic sanitation ser...</td>\n",
       "      <td>2001</td>\n",
       "      <td>Rural</td>\n",
       "      <td>36.19</td>\n",
       "    </tr>\n",
       "    <tr>\n",
       "      <th>9365</th>\n",
       "      <td>Zimbabwe</td>\n",
       "      <td>Population using at least basic sanitation ser...</td>\n",
       "      <td>2000</td>\n",
       "      <td>Total</td>\n",
       "      <td>45.93</td>\n",
       "    </tr>\n",
       "    <tr>\n",
       "      <th>9366</th>\n",
       "      <td>Zimbabwe</td>\n",
       "      <td>Population using at least basic sanitation ser...</td>\n",
       "      <td>2000</td>\n",
       "      <td>Urban</td>\n",
       "      <td>65.05</td>\n",
       "    </tr>\n",
       "    <tr>\n",
       "      <th>9367</th>\n",
       "      <td>Zimbabwe</td>\n",
       "      <td>Population using at least basic sanitation ser...</td>\n",
       "      <td>2000</td>\n",
       "      <td>Rural</td>\n",
       "      <td>36.19</td>\n",
       "    </tr>\n",
       "  </tbody>\n",
       "</table>\n",
       "<p>9368 rows × 5 columns</p>\n",
       "</div>"
      ],
      "text/plain": [
       "         Location                                          Indicator  Period  \\\n",
       "0     Afghanistan  Population using at least basic sanitation ser...    2017   \n",
       "1     Afghanistan  Population using at least basic sanitation ser...    2017   \n",
       "2     Afghanistan  Population using at least basic sanitation ser...    2017   \n",
       "3     Afghanistan  Population using at least basic sanitation ser...    2016   \n",
       "4     Afghanistan  Population using at least basic sanitation ser...    2016   \n",
       "...           ...                                                ...     ...   \n",
       "9363     Zimbabwe  Population using at least basic sanitation ser...    2001   \n",
       "9364     Zimbabwe  Population using at least basic sanitation ser...    2001   \n",
       "9365     Zimbabwe  Population using at least basic sanitation ser...    2000   \n",
       "9366     Zimbabwe  Population using at least basic sanitation ser...    2000   \n",
       "9367     Zimbabwe  Population using at least basic sanitation ser...    2000   \n",
       "\n",
       "       Dim1  First Tooltip  \n",
       "0     Total          43.42  \n",
       "1     Urban          62.26  \n",
       "2     Rural          37.05  \n",
       "3     Total          42.05  \n",
       "4     Urban          59.92  \n",
       "...     ...            ...  \n",
       "9363  Urban          65.05  \n",
       "9364  Rural          36.19  \n",
       "9365  Total          45.93  \n",
       "9366  Urban          65.05  \n",
       "9367  Rural          36.19  \n",
       "\n",
       "[9368 rows x 5 columns]"
      ]
     },
     "execution_count": 63,
     "metadata": {},
     "output_type": "execute_result"
    }
   ],
   "source": [
    "sani_data = pd.read_csv(WHS_path/'atLeastBasicSanitizationServices.csv')\n",
    "sani_data"
   ]
  },
  {
   "cell_type": "code",
   "execution_count": 67,
   "metadata": {},
   "outputs": [
    {
     "data": {
      "text/plain": [
       "Location         9368\n",
       "Indicator        9368\n",
       "Period           9368\n",
       "Dim1             9368\n",
       "First Tooltip    9368\n",
       "dtype: int64"
      ]
     },
     "execution_count": 67,
     "metadata": {},
     "output_type": "execute_result"
    }
   ],
   "source": [
    "sani_data.isnull().count()"
   ]
  },
  {
   "cell_type": "markdown",
   "metadata": {},
   "source": [
    "The years 2013, 2012, and 2011 are slightly better than 2015 and 2016."
   ]
  },
  {
   "cell_type": "code",
   "execution_count": 66,
   "metadata": {},
   "outputs": [
    {
     "data": {
      "text/plain": [
       "array([2017, 2016, 2015, 2014, 2013, 2012, 2011, 2010, 2009, 2008, 2007,\n",
       "       2006, 2005, 2004, 2003, 2002, 2001, 2000])"
      ]
     },
     "execution_count": 66,
     "metadata": {},
     "output_type": "execute_result"
    }
   ],
   "source": [
    "sani_data['Period'].unique()"
   ]
  },
  {
   "cell_type": "code",
   "execution_count": 69,
   "metadata": {},
   "outputs": [
    {
     "data": {
      "text/plain": [
       "Location         516\n",
       "Indicator        516\n",
       "Period           516\n",
       "Dim1             516\n",
       "First Tooltip    516\n",
       "dtype: int64"
      ]
     },
     "execution_count": 69,
     "metadata": {},
     "output_type": "execute_result"
    }
   ],
   "source": [
    "sani_data[sani_data['Period'] == 2017].count()"
   ]
  },
  {
   "cell_type": "code",
   "execution_count": 70,
   "metadata": {},
   "outputs": [
    {
     "data": {
      "text/plain": [
       "Location         524\n",
       "Indicator        524\n",
       "Period           524\n",
       "Dim1             524\n",
       "First Tooltip    524\n",
       "dtype: int64"
      ]
     },
     "execution_count": 70,
     "metadata": {},
     "output_type": "execute_result"
    }
   ],
   "source": [
    "sani_data[sani_data['Period'] == 2016].count()"
   ]
  },
  {
   "cell_type": "code",
   "execution_count": 71,
   "metadata": {},
   "outputs": [
    {
     "data": {
      "text/plain": [
       "Location         526\n",
       "Indicator        526\n",
       "Period           526\n",
       "Dim1             526\n",
       "First Tooltip    526\n",
       "dtype: int64"
      ]
     },
     "execution_count": 71,
     "metadata": {},
     "output_type": "execute_result"
    }
   ],
   "source": [
    "sani_data[sani_data['Period'] == 2015].count()"
   ]
  },
  {
   "cell_type": "code",
   "execution_count": 72,
   "metadata": {},
   "outputs": [
    {
     "data": {
      "text/plain": [
       "Location         526\n",
       "Indicator        526\n",
       "Period           526\n",
       "Dim1             526\n",
       "First Tooltip    526\n",
       "dtype: int64"
      ]
     },
     "execution_count": 72,
     "metadata": {},
     "output_type": "execute_result"
    }
   ],
   "source": [
    "sani_data[sani_data['Period'] == 2014].count()"
   ]
  },
  {
   "cell_type": "code",
   "execution_count": 73,
   "metadata": {},
   "outputs": [
    {
     "data": {
      "text/plain": [
       "Location         527\n",
       "Indicator        527\n",
       "Period           527\n",
       "Dim1             527\n",
       "First Tooltip    527\n",
       "dtype: int64"
      ]
     },
     "execution_count": 73,
     "metadata": {},
     "output_type": "execute_result"
    }
   ],
   "source": [
    "sani_data[sani_data['Period'] == 2013].count()"
   ]
  },
  {
   "cell_type": "code",
   "execution_count": 74,
   "metadata": {},
   "outputs": [
    {
     "data": {
      "text/plain": [
       "Location         527\n",
       "Indicator        527\n",
       "Period           527\n",
       "Dim1             527\n",
       "First Tooltip    527\n",
       "dtype: int64"
      ]
     },
     "execution_count": 74,
     "metadata": {},
     "output_type": "execute_result"
    }
   ],
   "source": [
    "sani_data[sani_data['Period'] == 2012].count()"
   ]
  },
  {
   "cell_type": "code",
   "execution_count": 75,
   "metadata": {},
   "outputs": [
    {
     "data": {
      "text/plain": [
       "Location         527\n",
       "Indicator        527\n",
       "Period           527\n",
       "Dim1             527\n",
       "First Tooltip    527\n",
       "dtype: int64"
      ]
     },
     "execution_count": 75,
     "metadata": {},
     "output_type": "execute_result"
    }
   ],
   "source": [
    "sani_data[sani_data['Period'] == 2011].count()"
   ]
  },
  {
   "cell_type": "code",
   "execution_count": 76,
   "metadata": {},
   "outputs": [
    {
     "data": {
      "text/plain": [
       "Location         524\n",
       "Indicator        524\n",
       "Period           524\n",
       "Dim1             524\n",
       "First Tooltip    524\n",
       "dtype: int64"
      ]
     },
     "execution_count": 76,
     "metadata": {},
     "output_type": "execute_result"
    }
   ],
   "source": [
    "sani_data[sani_data['Period'] == 2010].count()"
   ]
  },
  {
   "cell_type": "code",
   "execution_count": 77,
   "metadata": {},
   "outputs": [
    {
     "data": {
      "text/plain": [
       "Location         524\n",
       "Indicator        524\n",
       "Period           524\n",
       "Dim1             524\n",
       "First Tooltip    524\n",
       "dtype: int64"
      ]
     },
     "execution_count": 77,
     "metadata": {},
     "output_type": "execute_result"
    }
   ],
   "source": [
    "sani_data[sani_data['Period'] == 2009].count()"
   ]
  },
  {
   "cell_type": "code",
   "execution_count": 78,
   "metadata": {},
   "outputs": [
    {
     "data": {
      "text/plain": [
       "Location         524\n",
       "Indicator        524\n",
       "Period           524\n",
       "Dim1             524\n",
       "First Tooltip    524\n",
       "dtype: int64"
      ]
     },
     "execution_count": 78,
     "metadata": {},
     "output_type": "execute_result"
    }
   ],
   "source": [
    "sani_data[sani_data['Period'] == 2008].count()"
   ]
  },
  {
   "cell_type": "code",
   "execution_count": 79,
   "metadata": {},
   "outputs": [
    {
     "data": {
      "text/plain": [
       "Location         524\n",
       "Indicator        524\n",
       "Period           524\n",
       "Dim1             524\n",
       "First Tooltip    524\n",
       "dtype: int64"
      ]
     },
     "execution_count": 79,
     "metadata": {},
     "output_type": "execute_result"
    }
   ],
   "source": [
    "sani_data[sani_data['Period'] == 2007].count()"
   ]
  },
  {
   "cell_type": "code",
   "execution_count": 80,
   "metadata": {},
   "outputs": [
    {
     "data": {
      "text/plain": [
       "Location         523\n",
       "Indicator        523\n",
       "Period           523\n",
       "Dim1             523\n",
       "First Tooltip    523\n",
       "dtype: int64"
      ]
     },
     "execution_count": 80,
     "metadata": {},
     "output_type": "execute_result"
    }
   ],
   "source": [
    "sani_data[sani_data['Period'] == 2006].count()"
   ]
  },
  {
   "cell_type": "code",
   "execution_count": 81,
   "metadata": {},
   "outputs": [
    {
     "data": {
      "text/plain": [
       "Location         517\n",
       "Indicator        517\n",
       "Period           517\n",
       "Dim1             517\n",
       "First Tooltip    517\n",
       "dtype: int64"
      ]
     },
     "execution_count": 81,
     "metadata": {},
     "output_type": "execute_result"
    }
   ],
   "source": [
    "sani_data[sani_data['Period'] == 2005].count()"
   ]
  },
  {
   "cell_type": "code",
   "execution_count": 82,
   "metadata": {},
   "outputs": [
    {
     "data": {
      "text/plain": [
       "Location         516\n",
       "Indicator        516\n",
       "Period           516\n",
       "Dim1             516\n",
       "First Tooltip    516\n",
       "dtype: int64"
      ]
     },
     "execution_count": 82,
     "metadata": {},
     "output_type": "execute_result"
    }
   ],
   "source": [
    "sani_data[sani_data['Period'] == 2004].count()"
   ]
  },
  {
   "cell_type": "code",
   "execution_count": 83,
   "metadata": {},
   "outputs": [
    {
     "data": {
      "text/plain": [
       "Location         516\n",
       "Indicator        516\n",
       "Period           516\n",
       "Dim1             516\n",
       "First Tooltip    516\n",
       "dtype: int64"
      ]
     },
     "execution_count": 83,
     "metadata": {},
     "output_type": "execute_result"
    }
   ],
   "source": [
    "sani_data[sani_data['Period'] == 2003].count()"
   ]
  },
  {
   "cell_type": "code",
   "execution_count": 84,
   "metadata": {},
   "outputs": [
    {
     "data": {
      "text/plain": [
       "Location         516\n",
       "Indicator        516\n",
       "Period           516\n",
       "Dim1             516\n",
       "First Tooltip    516\n",
       "dtype: int64"
      ]
     },
     "execution_count": 84,
     "metadata": {},
     "output_type": "execute_result"
    }
   ],
   "source": [
    "sani_data[sani_data['Period'] == 2002].count()"
   ]
  },
  {
   "cell_type": "code",
   "execution_count": 85,
   "metadata": {},
   "outputs": [
    {
     "data": {
      "text/plain": [
       "Location         510\n",
       "Indicator        510\n",
       "Period           510\n",
       "Dim1             510\n",
       "First Tooltip    510\n",
       "dtype: int64"
      ]
     },
     "execution_count": 85,
     "metadata": {},
     "output_type": "execute_result"
    }
   ],
   "source": [
    "sani_data[sani_data['Period'] == 2001].count()"
   ]
  },
  {
   "cell_type": "code",
   "execution_count": 86,
   "metadata": {},
   "outputs": [
    {
     "data": {
      "text/plain": [
       "Location         501\n",
       "Indicator        501\n",
       "Period           501\n",
       "Dim1             501\n",
       "First Tooltip    501\n",
       "dtype: int64"
      ]
     },
     "execution_count": 86,
     "metadata": {},
     "output_type": "execute_result"
    }
   ],
   "source": [
    "sani_data[sani_data['Period'] == 2000].count()"
   ]
  },
  {
   "cell_type": "code",
   "execution_count": 89,
   "metadata": {},
   "outputs": [
    {
     "data": {
      "text/plain": [
       "array(['Population using at least basic sanitation services (%)'],\n",
       "      dtype=object)"
      ]
     },
     "execution_count": 89,
     "metadata": {},
     "output_type": "execute_result"
    }
   ],
   "source": [
    "sani_data['Indicator'].unique()"
   ]
  },
  {
   "cell_type": "code",
   "execution_count": 90,
   "metadata": {},
   "outputs": [
    {
     "data": {
      "text/html": [
       "<div>\n",
       "<style scoped>\n",
       "    .dataframe tbody tr th:only-of-type {\n",
       "        vertical-align: middle;\n",
       "    }\n",
       "\n",
       "    .dataframe tbody tr th {\n",
       "        vertical-align: top;\n",
       "    }\n",
       "\n",
       "    .dataframe thead th {\n",
       "        text-align: right;\n",
       "    }\n",
       "</style>\n",
       "<table border=\"1\" class=\"dataframe\">\n",
       "  <thead>\n",
       "    <tr style=\"text-align: right;\">\n",
       "      <th></th>\n",
       "      <th>Location</th>\n",
       "      <th>Indicator</th>\n",
       "      <th>Period</th>\n",
       "      <th>Dim1</th>\n",
       "      <th>First Tooltip</th>\n",
       "    </tr>\n",
       "  </thead>\n",
       "  <tbody>\n",
       "    <tr>\n",
       "      <th>0</th>\n",
       "      <td>Afghanistan</td>\n",
       "      <td>Population using at least basic sanitation ser...</td>\n",
       "      <td>2017</td>\n",
       "      <td>Total</td>\n",
       "      <td>43.42</td>\n",
       "    </tr>\n",
       "    <tr>\n",
       "      <th>3</th>\n",
       "      <td>Afghanistan</td>\n",
       "      <td>Population using at least basic sanitation ser...</td>\n",
       "      <td>2016</td>\n",
       "      <td>Total</td>\n",
       "      <td>42.05</td>\n",
       "    </tr>\n",
       "    <tr>\n",
       "      <th>6</th>\n",
       "      <td>Afghanistan</td>\n",
       "      <td>Population using at least basic sanitation ser...</td>\n",
       "      <td>2015</td>\n",
       "      <td>Total</td>\n",
       "      <td>40.71</td>\n",
       "    </tr>\n",
       "    <tr>\n",
       "      <th>9</th>\n",
       "      <td>Afghanistan</td>\n",
       "      <td>Population using at least basic sanitation ser...</td>\n",
       "      <td>2014</td>\n",
       "      <td>Total</td>\n",
       "      <td>39.37</td>\n",
       "    </tr>\n",
       "    <tr>\n",
       "      <th>12</th>\n",
       "      <td>Afghanistan</td>\n",
       "      <td>Population using at least basic sanitation ser...</td>\n",
       "      <td>2013</td>\n",
       "      <td>Total</td>\n",
       "      <td>38.06</td>\n",
       "    </tr>\n",
       "    <tr>\n",
       "      <th>...</th>\n",
       "      <td>...</td>\n",
       "      <td>...</td>\n",
       "      <td>...</td>\n",
       "      <td>...</td>\n",
       "      <td>...</td>\n",
       "    </tr>\n",
       "    <tr>\n",
       "      <th>9353</th>\n",
       "      <td>Zimbabwe</td>\n",
       "      <td>Population using at least basic sanitation ser...</td>\n",
       "      <td>2004</td>\n",
       "      <td>Total</td>\n",
       "      <td>45.37</td>\n",
       "    </tr>\n",
       "    <tr>\n",
       "      <th>9356</th>\n",
       "      <td>Zimbabwe</td>\n",
       "      <td>Population using at least basic sanitation ser...</td>\n",
       "      <td>2003</td>\n",
       "      <td>Total</td>\n",
       "      <td>46.11</td>\n",
       "    </tr>\n",
       "    <tr>\n",
       "      <th>9359</th>\n",
       "      <td>Zimbabwe</td>\n",
       "      <td>Population using at least basic sanitation ser...</td>\n",
       "      <td>2002</td>\n",
       "      <td>Total</td>\n",
       "      <td>46.15</td>\n",
       "    </tr>\n",
       "    <tr>\n",
       "      <th>9362</th>\n",
       "      <td>Zimbabwe</td>\n",
       "      <td>Population using at least basic sanitation ser...</td>\n",
       "      <td>2001</td>\n",
       "      <td>Total</td>\n",
       "      <td>46.05</td>\n",
       "    </tr>\n",
       "    <tr>\n",
       "      <th>9365</th>\n",
       "      <td>Zimbabwe</td>\n",
       "      <td>Population using at least basic sanitation ser...</td>\n",
       "      <td>2000</td>\n",
       "      <td>Total</td>\n",
       "      <td>45.93</td>\n",
       "    </tr>\n",
       "  </tbody>\n",
       "</table>\n",
       "<p>3439 rows × 5 columns</p>\n",
       "</div>"
      ],
      "text/plain": [
       "         Location                                          Indicator  Period  \\\n",
       "0     Afghanistan  Population using at least basic sanitation ser...    2017   \n",
       "3     Afghanistan  Population using at least basic sanitation ser...    2016   \n",
       "6     Afghanistan  Population using at least basic sanitation ser...    2015   \n",
       "9     Afghanistan  Population using at least basic sanitation ser...    2014   \n",
       "12    Afghanistan  Population using at least basic sanitation ser...    2013   \n",
       "...           ...                                                ...     ...   \n",
       "9353     Zimbabwe  Population using at least basic sanitation ser...    2004   \n",
       "9356     Zimbabwe  Population using at least basic sanitation ser...    2003   \n",
       "9359     Zimbabwe  Population using at least basic sanitation ser...    2002   \n",
       "9362     Zimbabwe  Population using at least basic sanitation ser...    2001   \n",
       "9365     Zimbabwe  Population using at least basic sanitation ser...    2000   \n",
       "\n",
       "       Dim1  First Tooltip  \n",
       "0     Total          43.42  \n",
       "3     Total          42.05  \n",
       "6     Total          40.71  \n",
       "9     Total          39.37  \n",
       "12    Total          38.06  \n",
       "...     ...            ...  \n",
       "9353  Total          45.37  \n",
       "9356  Total          46.11  \n",
       "9359  Total          46.15  \n",
       "9362  Total          46.05  \n",
       "9365  Total          45.93  \n",
       "\n",
       "[3439 rows x 5 columns]"
      ]
     },
     "execution_count": 90,
     "metadata": {},
     "output_type": "execute_result"
    }
   ],
   "source": [
    "sani_data_tot = sani_data[sani_data['Dim1'] == \"Total\"]\n",
    "sani_data_tot"
   ]
  },
  {
   "cell_type": "markdown",
   "metadata": {},
   "source": [
    "## Dataset to export"
   ]
  },
  {
   "cell_type": "code",
   "execution_count": 93,
   "metadata": {},
   "outputs": [
    {
     "data": {
      "text/html": [
       "<div>\n",
       "<style scoped>\n",
       "    .dataframe tbody tr th:only-of-type {\n",
       "        vertical-align: middle;\n",
       "    }\n",
       "\n",
       "    .dataframe tbody tr th {\n",
       "        vertical-align: top;\n",
       "    }\n",
       "\n",
       "    .dataframe thead th {\n",
       "        text-align: right;\n",
       "    }\n",
       "</style>\n",
       "<table border=\"1\" class=\"dataframe\">\n",
       "  <thead>\n",
       "    <tr style=\"text-align: right;\">\n",
       "      <th></th>\n",
       "      <th>Location</th>\n",
       "      <th>Indicator</th>\n",
       "      <th>Period</th>\n",
       "      <th>Dim1</th>\n",
       "      <th>First Tooltip</th>\n",
       "    </tr>\n",
       "  </thead>\n",
       "  <tbody>\n",
       "    <tr>\n",
       "      <th>12</th>\n",
       "      <td>Afghanistan</td>\n",
       "      <td>Population using at least basic sanitation ser...</td>\n",
       "      <td>2013</td>\n",
       "      <td>Total</td>\n",
       "      <td>38.06</td>\n",
       "    </tr>\n",
       "    <tr>\n",
       "      <th>66</th>\n",
       "      <td>Albania</td>\n",
       "      <td>Population using at least basic sanitation ser...</td>\n",
       "      <td>2013</td>\n",
       "      <td>Total</td>\n",
       "      <td>97.31</td>\n",
       "    </tr>\n",
       "    <tr>\n",
       "      <th>120</th>\n",
       "      <td>Algeria</td>\n",
       "      <td>Population using at least basic sanitation ser...</td>\n",
       "      <td>2013</td>\n",
       "      <td>Total</td>\n",
       "      <td>87.16</td>\n",
       "    </tr>\n",
       "    <tr>\n",
       "      <th>174</th>\n",
       "      <td>Andorra</td>\n",
       "      <td>Population using at least basic sanitation ser...</td>\n",
       "      <td>2013</td>\n",
       "      <td>Total</td>\n",
       "      <td>100.00</td>\n",
       "    </tr>\n",
       "    <tr>\n",
       "      <th>228</th>\n",
       "      <td>Angola</td>\n",
       "      <td>Population using at least basic sanitation ser...</td>\n",
       "      <td>2013</td>\n",
       "      <td>Total</td>\n",
       "      <td>44.85</td>\n",
       "    </tr>\n",
       "    <tr>\n",
       "      <th>...</th>\n",
       "      <td>...</td>\n",
       "      <td>...</td>\n",
       "      <td>...</td>\n",
       "      <td>...</td>\n",
       "      <td>...</td>\n",
       "    </tr>\n",
       "    <tr>\n",
       "      <th>9143</th>\n",
       "      <td>Venezuela (Bolivarian Republic of)</td>\n",
       "      <td>Population using at least basic sanitation ser...</td>\n",
       "      <td>2013</td>\n",
       "      <td>Total</td>\n",
       "      <td>93.94</td>\n",
       "    </tr>\n",
       "    <tr>\n",
       "      <th>9164</th>\n",
       "      <td>Viet Nam</td>\n",
       "      <td>Population using at least basic sanitation ser...</td>\n",
       "      <td>2013</td>\n",
       "      <td>Total</td>\n",
       "      <td>76.49</td>\n",
       "    </tr>\n",
       "    <tr>\n",
       "      <th>9218</th>\n",
       "      <td>Yemen</td>\n",
       "      <td>Population using at least basic sanitation ser...</td>\n",
       "      <td>2013</td>\n",
       "      <td>Total</td>\n",
       "      <td>56.31</td>\n",
       "    </tr>\n",
       "    <tr>\n",
       "      <th>9272</th>\n",
       "      <td>Zambia</td>\n",
       "      <td>Population using at least basic sanitation ser...</td>\n",
       "      <td>2013</td>\n",
       "      <td>Total</td>\n",
       "      <td>25.74</td>\n",
       "    </tr>\n",
       "    <tr>\n",
       "      <th>9326</th>\n",
       "      <td>Zimbabwe</td>\n",
       "      <td>Population using at least basic sanitation ser...</td>\n",
       "      <td>2013</td>\n",
       "      <td>Total</td>\n",
       "      <td>38.94</td>\n",
       "    </tr>\n",
       "  </tbody>\n",
       "</table>\n",
       "<p>194 rows × 5 columns</p>\n",
       "</div>"
      ],
      "text/plain": [
       "                                Location  \\\n",
       "12                           Afghanistan   \n",
       "66                               Albania   \n",
       "120                              Algeria   \n",
       "174                              Andorra   \n",
       "228                               Angola   \n",
       "...                                  ...   \n",
       "9143  Venezuela (Bolivarian Republic of)   \n",
       "9164                            Viet Nam   \n",
       "9218                               Yemen   \n",
       "9272                              Zambia   \n",
       "9326                            Zimbabwe   \n",
       "\n",
       "                                              Indicator  Period   Dim1  \\\n",
       "12    Population using at least basic sanitation ser...    2013  Total   \n",
       "66    Population using at least basic sanitation ser...    2013  Total   \n",
       "120   Population using at least basic sanitation ser...    2013  Total   \n",
       "174   Population using at least basic sanitation ser...    2013  Total   \n",
       "228   Population using at least basic sanitation ser...    2013  Total   \n",
       "...                                                 ...     ...    ...   \n",
       "9143  Population using at least basic sanitation ser...    2013  Total   \n",
       "9164  Population using at least basic sanitation ser...    2013  Total   \n",
       "9218  Population using at least basic sanitation ser...    2013  Total   \n",
       "9272  Population using at least basic sanitation ser...    2013  Total   \n",
       "9326  Population using at least basic sanitation ser...    2013  Total   \n",
       "\n",
       "      First Tooltip  \n",
       "12            38.06  \n",
       "66            97.31  \n",
       "120           87.16  \n",
       "174          100.00  \n",
       "228           44.85  \n",
       "...             ...  \n",
       "9143          93.94  \n",
       "9164          76.49  \n",
       "9218          56.31  \n",
       "9272          25.74  \n",
       "9326          38.94  \n",
       "\n",
       "[194 rows x 5 columns]"
      ]
     },
     "execution_count": 93,
     "metadata": {},
     "output_type": "execute_result"
    }
   ],
   "source": [
    "sani_data_2013 = sani_data_tot[sani_data_tot['Period'] == 2013]\n",
    "sani_data_2013"
   ]
  },
  {
   "cell_type": "markdown",
   "metadata": {},
   "source": [
    "## Dataset to export"
   ]
  },
  {
   "cell_type": "code",
   "execution_count": 94,
   "metadata": {},
   "outputs": [
    {
     "data": {
      "text/html": [
       "<div>\n",
       "<style scoped>\n",
       "    .dataframe tbody tr th:only-of-type {\n",
       "        vertical-align: middle;\n",
       "    }\n",
       "\n",
       "    .dataframe tbody tr th {\n",
       "        vertical-align: top;\n",
       "    }\n",
       "\n",
       "    .dataframe thead th {\n",
       "        text-align: right;\n",
       "    }\n",
       "</style>\n",
       "<table border=\"1\" class=\"dataframe\">\n",
       "  <thead>\n",
       "    <tr style=\"text-align: right;\">\n",
       "      <th></th>\n",
       "      <th>Location</th>\n",
       "      <th>Indicator</th>\n",
       "      <th>Period</th>\n",
       "      <th>Dim1</th>\n",
       "      <th>First Tooltip</th>\n",
       "    </tr>\n",
       "  </thead>\n",
       "  <tbody>\n",
       "    <tr>\n",
       "      <th>15</th>\n",
       "      <td>Afghanistan</td>\n",
       "      <td>Population using at least basic sanitation ser...</td>\n",
       "      <td>2012</td>\n",
       "      <td>Total</td>\n",
       "      <td>36.75</td>\n",
       "    </tr>\n",
       "    <tr>\n",
       "      <th>69</th>\n",
       "      <td>Albania</td>\n",
       "      <td>Population using at least basic sanitation ser...</td>\n",
       "      <td>2012</td>\n",
       "      <td>Total</td>\n",
       "      <td>96.78</td>\n",
       "    </tr>\n",
       "    <tr>\n",
       "      <th>123</th>\n",
       "      <td>Algeria</td>\n",
       "      <td>Population using at least basic sanitation ser...</td>\n",
       "      <td>2012</td>\n",
       "      <td>Total</td>\n",
       "      <td>86.97</td>\n",
       "    </tr>\n",
       "    <tr>\n",
       "      <th>177</th>\n",
       "      <td>Andorra</td>\n",
       "      <td>Population using at least basic sanitation ser...</td>\n",
       "      <td>2012</td>\n",
       "      <td>Total</td>\n",
       "      <td>100.00</td>\n",
       "    </tr>\n",
       "    <tr>\n",
       "      <th>231</th>\n",
       "      <td>Angola</td>\n",
       "      <td>Population using at least basic sanitation ser...</td>\n",
       "      <td>2012</td>\n",
       "      <td>Total</td>\n",
       "      <td>43.59</td>\n",
       "    </tr>\n",
       "    <tr>\n",
       "      <th>...</th>\n",
       "      <td>...</td>\n",
       "      <td>...</td>\n",
       "      <td>...</td>\n",
       "      <td>...</td>\n",
       "      <td>...</td>\n",
       "    </tr>\n",
       "    <tr>\n",
       "      <th>9144</th>\n",
       "      <td>Venezuela (Bolivarian Republic of)</td>\n",
       "      <td>Population using at least basic sanitation ser...</td>\n",
       "      <td>2012</td>\n",
       "      <td>Total</td>\n",
       "      <td>93.94</td>\n",
       "    </tr>\n",
       "    <tr>\n",
       "      <th>9167</th>\n",
       "      <td>Viet Nam</td>\n",
       "      <td>Population using at least basic sanitation ser...</td>\n",
       "      <td>2012</td>\n",
       "      <td>Total</td>\n",
       "      <td>74.68</td>\n",
       "    </tr>\n",
       "    <tr>\n",
       "      <th>9221</th>\n",
       "      <td>Yemen</td>\n",
       "      <td>Population using at least basic sanitation ser...</td>\n",
       "      <td>2012</td>\n",
       "      <td>Total</td>\n",
       "      <td>55.19</td>\n",
       "    </tr>\n",
       "    <tr>\n",
       "      <th>9275</th>\n",
       "      <td>Zambia</td>\n",
       "      <td>Population using at least basic sanitation ser...</td>\n",
       "      <td>2012</td>\n",
       "      <td>Total</td>\n",
       "      <td>25.61</td>\n",
       "    </tr>\n",
       "    <tr>\n",
       "      <th>9329</th>\n",
       "      <td>Zimbabwe</td>\n",
       "      <td>Population using at least basic sanitation ser...</td>\n",
       "      <td>2012</td>\n",
       "      <td>Total</td>\n",
       "      <td>39.64</td>\n",
       "    </tr>\n",
       "  </tbody>\n",
       "</table>\n",
       "<p>194 rows × 5 columns</p>\n",
       "</div>"
      ],
      "text/plain": [
       "                                Location  \\\n",
       "15                           Afghanistan   \n",
       "69                               Albania   \n",
       "123                              Algeria   \n",
       "177                              Andorra   \n",
       "231                               Angola   \n",
       "...                                  ...   \n",
       "9144  Venezuela (Bolivarian Republic of)   \n",
       "9167                            Viet Nam   \n",
       "9221                               Yemen   \n",
       "9275                              Zambia   \n",
       "9329                            Zimbabwe   \n",
       "\n",
       "                                              Indicator  Period   Dim1  \\\n",
       "15    Population using at least basic sanitation ser...    2012  Total   \n",
       "69    Population using at least basic sanitation ser...    2012  Total   \n",
       "123   Population using at least basic sanitation ser...    2012  Total   \n",
       "177   Population using at least basic sanitation ser...    2012  Total   \n",
       "231   Population using at least basic sanitation ser...    2012  Total   \n",
       "...                                                 ...     ...    ...   \n",
       "9144  Population using at least basic sanitation ser...    2012  Total   \n",
       "9167  Population using at least basic sanitation ser...    2012  Total   \n",
       "9221  Population using at least basic sanitation ser...    2012  Total   \n",
       "9275  Population using at least basic sanitation ser...    2012  Total   \n",
       "9329  Population using at least basic sanitation ser...    2012  Total   \n",
       "\n",
       "      First Tooltip  \n",
       "15            36.75  \n",
       "69            96.78  \n",
       "123           86.97  \n",
       "177          100.00  \n",
       "231           43.59  \n",
       "...             ...  \n",
       "9144          93.94  \n",
       "9167          74.68  \n",
       "9221          55.19  \n",
       "9275          25.61  \n",
       "9329          39.64  \n",
       "\n",
       "[194 rows x 5 columns]"
      ]
     },
     "execution_count": 94,
     "metadata": {},
     "output_type": "execute_result"
    }
   ],
   "source": [
    "sani_data_2012 = sani_data_tot[sani_data_tot['Period'] == 2012]\n",
    "sani_data_2012"
   ]
  },
  {
   "cell_type": "code",
   "execution_count": null,
   "metadata": {},
   "outputs": [],
   "source": []
  },
  {
   "cell_type": "code",
   "execution_count": null,
   "metadata": {},
   "outputs": [],
   "source": []
  }
 ],
 "metadata": {
  "kernelspec": {
   "display_name": "Python 3",
   "language": "python",
   "name": "python3"
  },
  "language_info": {
   "codemirror_mode": {
    "name": "ipython",
    "version": 3
   },
   "file_extension": ".py",
   "mimetype": "text/x-python",
   "name": "python",
   "nbconvert_exporter": "python",
   "pygments_lexer": "ipython3",
   "version": "3.8.5"
  }
 },
 "nbformat": 4,
 "nbformat_minor": 4
}
