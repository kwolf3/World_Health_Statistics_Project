{
 "cells": [
  {
   "cell_type": "code",
   "execution_count": 1,
   "metadata": {},
   "outputs": [],
   "source": [
    "import pandas as pd\n",
    "import pathlib"
   ]
  },
  {
   "cell_type": "code",
   "execution_count": 2,
   "metadata": {},
   "outputs": [],
   "source": [
    "dataset_path = pathlib.Path.cwd()/'Datasets'\n",
    "WHS_path = dataset_path/'World_Health_Statistics_archive'\n",
    "new_data_path = pathlib.Path.cwd()/'New Data'"
   ]
  },
  {
   "cell_type": "code",
   "execution_count": 3,
   "metadata": {},
   "outputs": [
    {
     "data": {
      "text/html": [
       "<div>\n",
       "<style scoped>\n",
       "    .dataframe tbody tr th:only-of-type {\n",
       "        vertical-align: middle;\n",
       "    }\n",
       "\n",
       "    .dataframe tbody tr th {\n",
       "        vertical-align: top;\n",
       "    }\n",
       "\n",
       "    .dataframe thead th {\n",
       "        text-align: right;\n",
       "    }\n",
       "</style>\n",
       "<table border=\"1\" class=\"dataframe\">\n",
       "  <thead>\n",
       "    <tr style=\"text-align: right;\">\n",
       "      <th></th>\n",
       "      <th>Location</th>\n",
       "      <th>Indicator</th>\n",
       "      <th>Period</th>\n",
       "      <th>First Tooltip</th>\n",
       "    </tr>\n",
       "  </thead>\n",
       "  <tbody>\n",
       "    <tr>\n",
       "      <th>0</th>\n",
       "      <td>Afghanistan</td>\n",
       "      <td>Proportion of population with primary reliance...</td>\n",
       "      <td>2018</td>\n",
       "      <td>37</td>\n",
       "    </tr>\n",
       "    <tr>\n",
       "      <th>1</th>\n",
       "      <td>Afghanistan</td>\n",
       "      <td>Proportion of population with primary reliance...</td>\n",
       "      <td>2017</td>\n",
       "      <td>34</td>\n",
       "    </tr>\n",
       "    <tr>\n",
       "      <th>2</th>\n",
       "      <td>Afghanistan</td>\n",
       "      <td>Proportion of population with primary reliance...</td>\n",
       "      <td>2016</td>\n",
       "      <td>31</td>\n",
       "    </tr>\n",
       "    <tr>\n",
       "      <th>3</th>\n",
       "      <td>Afghanistan</td>\n",
       "      <td>Proportion of population with primary reliance...</td>\n",
       "      <td>2015</td>\n",
       "      <td>29</td>\n",
       "    </tr>\n",
       "    <tr>\n",
       "      <th>4</th>\n",
       "      <td>Afghanistan</td>\n",
       "      <td>Proportion of population with primary reliance...</td>\n",
       "      <td>2014</td>\n",
       "      <td>27</td>\n",
       "    </tr>\n",
       "    <tr>\n",
       "      <th>...</th>\n",
       "      <td>...</td>\n",
       "      <td>...</td>\n",
       "      <td>...</td>\n",
       "      <td>...</td>\n",
       "    </tr>\n",
       "    <tr>\n",
       "      <th>3605</th>\n",
       "      <td>Zimbabwe</td>\n",
       "      <td>Proportion of population with primary reliance...</td>\n",
       "      <td>2004</td>\n",
       "      <td>33</td>\n",
       "    </tr>\n",
       "    <tr>\n",
       "      <th>3606</th>\n",
       "      <td>Zimbabwe</td>\n",
       "      <td>Proportion of population with primary reliance...</td>\n",
       "      <td>2003</td>\n",
       "      <td>33</td>\n",
       "    </tr>\n",
       "    <tr>\n",
       "      <th>3607</th>\n",
       "      <td>Zimbabwe</td>\n",
       "      <td>Proportion of population with primary reliance...</td>\n",
       "      <td>2002</td>\n",
       "      <td>34</td>\n",
       "    </tr>\n",
       "    <tr>\n",
       "      <th>3608</th>\n",
       "      <td>Zimbabwe</td>\n",
       "      <td>Proportion of population with primary reliance...</td>\n",
       "      <td>2001</td>\n",
       "      <td>34</td>\n",
       "    </tr>\n",
       "    <tr>\n",
       "      <th>3609</th>\n",
       "      <td>Zimbabwe</td>\n",
       "      <td>Proportion of population with primary reliance...</td>\n",
       "      <td>2000</td>\n",
       "      <td>34</td>\n",
       "    </tr>\n",
       "  </tbody>\n",
       "</table>\n",
       "<p>3610 rows × 4 columns</p>\n",
       "</div>"
      ],
      "text/plain": [
       "         Location                                          Indicator  Period  \\\n",
       "0     Afghanistan  Proportion of population with primary reliance...    2018   \n",
       "1     Afghanistan  Proportion of population with primary reliance...    2017   \n",
       "2     Afghanistan  Proportion of population with primary reliance...    2016   \n",
       "3     Afghanistan  Proportion of population with primary reliance...    2015   \n",
       "4     Afghanistan  Proportion of population with primary reliance...    2014   \n",
       "...           ...                                                ...     ...   \n",
       "3605     Zimbabwe  Proportion of population with primary reliance...    2004   \n",
       "3606     Zimbabwe  Proportion of population with primary reliance...    2003   \n",
       "3607     Zimbabwe  Proportion of population with primary reliance...    2002   \n",
       "3608     Zimbabwe  Proportion of population with primary reliance...    2001   \n",
       "3609     Zimbabwe  Proportion of population with primary reliance...    2000   \n",
       "\n",
       "      First Tooltip  \n",
       "0                37  \n",
       "1                34  \n",
       "2                31  \n",
       "3                29  \n",
       "4                27  \n",
       "...             ...  \n",
       "3605             33  \n",
       "3606             33  \n",
       "3607             34  \n",
       "3608             34  \n",
       "3609             34  \n",
       "\n",
       "[3610 rows x 4 columns]"
      ]
     },
     "execution_count": 3,
     "metadata": {},
     "output_type": "execute_result"
    }
   ],
   "source": [
    "TechFuel = pd.read_csv(WHS_path/'cleanFuelAndTech.csv')\n",
    "TechFuel"
   ]
  },
  {
   "cell_type": "code",
   "execution_count": 5,
   "metadata": {},
   "outputs": [
    {
     "data": {
      "text/plain": [
       "Location         3610\n",
       "Indicator        3610\n",
       "Period           3610\n",
       "First Tooltip    3610\n",
       "dtype: int64"
      ]
     },
     "execution_count": 5,
     "metadata": {},
     "output_type": "execute_result"
    }
   ],
   "source": [
    "TechFuel.isnull().count()"
   ]
  },
  {
   "cell_type": "code",
   "execution_count": 6,
   "metadata": {},
   "outputs": [
    {
     "data": {
      "text/plain": [
       "Location         0\n",
       "Indicator        0\n",
       "Period           0\n",
       "First Tooltip    0\n",
       "dtype: int64"
      ]
     },
     "execution_count": 6,
     "metadata": {},
     "output_type": "execute_result"
    }
   ],
   "source": [
    "TechFuel[TechFuel['First Tooltip'] == 0].count()"
   ]
  },
  {
   "cell_type": "code",
   "execution_count": 7,
   "metadata": {},
   "outputs": [
    {
     "data": {
      "text/plain": [
       "array(['Proportion of population with primary reliance on clean fuels and technologies (%)'],\n",
       "      dtype=object)"
      ]
     },
     "execution_count": 7,
     "metadata": {},
     "output_type": "execute_result"
    }
   ],
   "source": [
    "TechFuel['Indicator'].unique()"
   ]
  },
  {
   "cell_type": "code",
   "execution_count": 8,
   "metadata": {},
   "outputs": [
    {
     "data": {
      "text/plain": [
       "array([2018, 2017, 2016, 2015, 2014, 2013, 2012, 2011, 2010, 2009, 2008,\n",
       "       2007, 2006, 2005, 2004, 2003, 2002, 2001, 2000])"
      ]
     },
     "execution_count": 8,
     "metadata": {},
     "output_type": "execute_result"
    }
   ],
   "source": [
    "TechFuel['Period'].unique()"
   ]
  },
  {
   "cell_type": "code",
   "execution_count": 9,
   "metadata": {},
   "outputs": [
    {
     "data": {
      "text/plain": [
       "Location         190\n",
       "Indicator        190\n",
       "Period           190\n",
       "First Tooltip    190\n",
       "dtype: int64"
      ]
     },
     "execution_count": 9,
     "metadata": {},
     "output_type": "execute_result"
    }
   ],
   "source": [
    "TechFuel[TechFuel['Period'] == 2018].count()"
   ]
  },
  {
   "cell_type": "code",
   "execution_count": 10,
   "metadata": {},
   "outputs": [
    {
     "data": {
      "text/plain": [
       "Location         190\n",
       "Indicator        190\n",
       "Period           190\n",
       "First Tooltip    190\n",
       "dtype: int64"
      ]
     },
     "execution_count": 10,
     "metadata": {},
     "output_type": "execute_result"
    }
   ],
   "source": [
    "TechFuel[TechFuel['Period'] == 2017].count()"
   ]
  },
  {
   "cell_type": "code",
   "execution_count": 11,
   "metadata": {},
   "outputs": [
    {
     "data": {
      "text/plain": [
       "Location         190\n",
       "Indicator        190\n",
       "Period           190\n",
       "First Tooltip    190\n",
       "dtype: int64"
      ]
     },
     "execution_count": 11,
     "metadata": {},
     "output_type": "execute_result"
    }
   ],
   "source": [
    "TechFuel[TechFuel['Period'] == 2016].count()"
   ]
  },
  {
   "cell_type": "code",
   "execution_count": 12,
   "metadata": {},
   "outputs": [
    {
     "data": {
      "text/plain": [
       "Location         190\n",
       "Indicator        190\n",
       "Period           190\n",
       "First Tooltip    190\n",
       "dtype: int64"
      ]
     },
     "execution_count": 12,
     "metadata": {},
     "output_type": "execute_result"
    }
   ],
   "source": [
    "TechFuel[TechFuel['Period'] == 2015].count()"
   ]
  },
  {
   "cell_type": "code",
   "execution_count": 13,
   "metadata": {},
   "outputs": [
    {
     "data": {
      "text/plain": [
       "Location         190\n",
       "Indicator        190\n",
       "Period           190\n",
       "First Tooltip    190\n",
       "dtype: int64"
      ]
     },
     "execution_count": 13,
     "metadata": {},
     "output_type": "execute_result"
    }
   ],
   "source": [
    "TechFuel[TechFuel['Period'] == 2014].count()"
   ]
  },
  {
   "cell_type": "code",
   "execution_count": 14,
   "metadata": {},
   "outputs": [
    {
     "data": {
      "text/plain": [
       "Location         190\n",
       "Indicator        190\n",
       "Period           190\n",
       "First Tooltip    190\n",
       "dtype: int64"
      ]
     },
     "execution_count": 14,
     "metadata": {},
     "output_type": "execute_result"
    }
   ],
   "source": [
    "TechFuel[TechFuel['Period'] == 2013].count()"
   ]
  },
  {
   "cell_type": "code",
   "execution_count": 16,
   "metadata": {},
   "outputs": [
    {
     "data": {
      "text/plain": [
       "Location         190\n",
       "Indicator        190\n",
       "Period           190\n",
       "First Tooltip    190\n",
       "dtype: int64"
      ]
     },
     "execution_count": 16,
     "metadata": {},
     "output_type": "execute_result"
    }
   ],
   "source": [
    "TechFuel[TechFuel['Period'] == 2012].count()"
   ]
  },
  {
   "cell_type": "code",
   "execution_count": 17,
   "metadata": {},
   "outputs": [
    {
     "data": {
      "text/plain": [
       "Location         190\n",
       "Indicator        190\n",
       "Period           190\n",
       "First Tooltip    190\n",
       "dtype: int64"
      ]
     },
     "execution_count": 17,
     "metadata": {},
     "output_type": "execute_result"
    }
   ],
   "source": [
    "TechFuel[TechFuel['Period'] == 2011].count()"
   ]
  },
  {
   "cell_type": "code",
   "execution_count": 18,
   "metadata": {},
   "outputs": [
    {
     "data": {
      "text/plain": [
       "Location         190\n",
       "Indicator        190\n",
       "Period           190\n",
       "First Tooltip    190\n",
       "dtype: int64"
      ]
     },
     "execution_count": 18,
     "metadata": {},
     "output_type": "execute_result"
    }
   ],
   "source": [
    "TechFuel[TechFuel['Period'] == 2010].count()"
   ]
  },
  {
   "cell_type": "code",
   "execution_count": 19,
   "metadata": {},
   "outputs": [
    {
     "data": {
      "text/html": [
       "<div>\n",
       "<style scoped>\n",
       "    .dataframe tbody tr th:only-of-type {\n",
       "        vertical-align: middle;\n",
       "    }\n",
       "\n",
       "    .dataframe tbody tr th {\n",
       "        vertical-align: top;\n",
       "    }\n",
       "\n",
       "    .dataframe thead th {\n",
       "        text-align: right;\n",
       "    }\n",
       "</style>\n",
       "<table border=\"1\" class=\"dataframe\">\n",
       "  <thead>\n",
       "    <tr style=\"text-align: right;\">\n",
       "      <th></th>\n",
       "      <th>Location</th>\n",
       "      <th>Indicator</th>\n",
       "      <th>Period</th>\n",
       "      <th>First Tooltip</th>\n",
       "    </tr>\n",
       "  </thead>\n",
       "  <tbody>\n",
       "    <tr>\n",
       "      <th>2</th>\n",
       "      <td>Afghanistan</td>\n",
       "      <td>Proportion of population with primary reliance...</td>\n",
       "      <td>2016</td>\n",
       "      <td>31</td>\n",
       "    </tr>\n",
       "    <tr>\n",
       "      <th>21</th>\n",
       "      <td>Albania</td>\n",
       "      <td>Proportion of population with primary reliance...</td>\n",
       "      <td>2016</td>\n",
       "      <td>77</td>\n",
       "    </tr>\n",
       "    <tr>\n",
       "      <th>40</th>\n",
       "      <td>Algeria</td>\n",
       "      <td>Proportion of population with primary reliance...</td>\n",
       "      <td>2016</td>\n",
       "      <td>95</td>\n",
       "    </tr>\n",
       "    <tr>\n",
       "      <th>59</th>\n",
       "      <td>Andorra</td>\n",
       "      <td>Proportion of population with primary reliance...</td>\n",
       "      <td>2016</td>\n",
       "      <td>95</td>\n",
       "    </tr>\n",
       "    <tr>\n",
       "      <th>78</th>\n",
       "      <td>Angola</td>\n",
       "      <td>Proportion of population with primary reliance...</td>\n",
       "      <td>2016</td>\n",
       "      <td>48</td>\n",
       "    </tr>\n",
       "    <tr>\n",
       "      <th>...</th>\n",
       "      <td>...</td>\n",
       "      <td>...</td>\n",
       "      <td>...</td>\n",
       "      <td>...</td>\n",
       "    </tr>\n",
       "    <tr>\n",
       "      <th>3517</th>\n",
       "      <td>Venezuela (Bolivarian Republic of)</td>\n",
       "      <td>Proportion of population with primary reliance...</td>\n",
       "      <td>2016</td>\n",
       "      <td>95</td>\n",
       "    </tr>\n",
       "    <tr>\n",
       "      <th>3536</th>\n",
       "      <td>Viet Nam</td>\n",
       "      <td>Proportion of population with primary reliance...</td>\n",
       "      <td>2016</td>\n",
       "      <td>61</td>\n",
       "    </tr>\n",
       "    <tr>\n",
       "      <th>3555</th>\n",
       "      <td>Yemen</td>\n",
       "      <td>Proportion of population with primary reliance...</td>\n",
       "      <td>2016</td>\n",
       "      <td>61</td>\n",
       "    </tr>\n",
       "    <tr>\n",
       "      <th>3574</th>\n",
       "      <td>Zambia</td>\n",
       "      <td>Proportion of population with primary reliance...</td>\n",
       "      <td>2016</td>\n",
       "      <td>14</td>\n",
       "    </tr>\n",
       "    <tr>\n",
       "      <th>3593</th>\n",
       "      <td>Zimbabwe</td>\n",
       "      <td>Proportion of population with primary reliance...</td>\n",
       "      <td>2016</td>\n",
       "      <td>29</td>\n",
       "    </tr>\n",
       "  </tbody>\n",
       "</table>\n",
       "<p>190 rows × 4 columns</p>\n",
       "</div>"
      ],
      "text/plain": [
       "                                Location  \\\n",
       "2                            Afghanistan   \n",
       "21                               Albania   \n",
       "40                               Algeria   \n",
       "59                               Andorra   \n",
       "78                                Angola   \n",
       "...                                  ...   \n",
       "3517  Venezuela (Bolivarian Republic of)   \n",
       "3536                            Viet Nam   \n",
       "3555                               Yemen   \n",
       "3574                              Zambia   \n",
       "3593                            Zimbabwe   \n",
       "\n",
       "                                              Indicator  Period  First Tooltip  \n",
       "2     Proportion of population with primary reliance...    2016             31  \n",
       "21    Proportion of population with primary reliance...    2016             77  \n",
       "40    Proportion of population with primary reliance...    2016             95  \n",
       "59    Proportion of population with primary reliance...    2016             95  \n",
       "78    Proportion of population with primary reliance...    2016             48  \n",
       "...                                                 ...     ...            ...  \n",
       "3517  Proportion of population with primary reliance...    2016             95  \n",
       "3536  Proportion of population with primary reliance...    2016             61  \n",
       "3555  Proportion of population with primary reliance...    2016             61  \n",
       "3574  Proportion of population with primary reliance...    2016             14  \n",
       "3593  Proportion of population with primary reliance...    2016             29  \n",
       "\n",
       "[190 rows x 4 columns]"
      ]
     },
     "execution_count": 19,
     "metadata": {},
     "output_type": "execute_result"
    }
   ],
   "source": [
    "TechFuel_2016 = TechFuel[TechFuel['Period'] == 2016]\n",
    "TechFuel_2016"
   ]
  },
  {
   "cell_type": "code",
   "execution_count": null,
   "metadata": {},
   "outputs": [],
   "source": [
    "TechFuel_2016.to_csv(new_data_path/'TechFu_2016.csv', index = False)"
   ]
  },
  {
   "cell_type": "code",
   "execution_count": 20,
   "metadata": {},
   "outputs": [
    {
     "data": {
      "text/html": [
       "<div>\n",
       "<style scoped>\n",
       "    .dataframe tbody tr th:only-of-type {\n",
       "        vertical-align: middle;\n",
       "    }\n",
       "\n",
       "    .dataframe tbody tr th {\n",
       "        vertical-align: top;\n",
       "    }\n",
       "\n",
       "    .dataframe thead th {\n",
       "        text-align: right;\n",
       "    }\n",
       "</style>\n",
       "<table border=\"1\" class=\"dataframe\">\n",
       "  <thead>\n",
       "    <tr style=\"text-align: right;\">\n",
       "      <th></th>\n",
       "      <th>Location</th>\n",
       "      <th>Indicator</th>\n",
       "      <th>Period</th>\n",
       "      <th>First Tooltip</th>\n",
       "    </tr>\n",
       "  </thead>\n",
       "  <tbody>\n",
       "    <tr>\n",
       "      <th>3</th>\n",
       "      <td>Afghanistan</td>\n",
       "      <td>Proportion of population with primary reliance...</td>\n",
       "      <td>2015</td>\n",
       "      <td>29</td>\n",
       "    </tr>\n",
       "    <tr>\n",
       "      <th>22</th>\n",
       "      <td>Albania</td>\n",
       "      <td>Proportion of population with primary reliance...</td>\n",
       "      <td>2015</td>\n",
       "      <td>76</td>\n",
       "    </tr>\n",
       "    <tr>\n",
       "      <th>41</th>\n",
       "      <td>Algeria</td>\n",
       "      <td>Proportion of population with primary reliance...</td>\n",
       "      <td>2015</td>\n",
       "      <td>95</td>\n",
       "    </tr>\n",
       "    <tr>\n",
       "      <th>60</th>\n",
       "      <td>Andorra</td>\n",
       "      <td>Proportion of population with primary reliance...</td>\n",
       "      <td>2015</td>\n",
       "      <td>95</td>\n",
       "    </tr>\n",
       "    <tr>\n",
       "      <th>79</th>\n",
       "      <td>Angola</td>\n",
       "      <td>Proportion of population with primary reliance...</td>\n",
       "      <td>2015</td>\n",
       "      <td>48</td>\n",
       "    </tr>\n",
       "    <tr>\n",
       "      <th>...</th>\n",
       "      <td>...</td>\n",
       "      <td>...</td>\n",
       "      <td>...</td>\n",
       "      <td>...</td>\n",
       "    </tr>\n",
       "    <tr>\n",
       "      <th>3518</th>\n",
       "      <td>Venezuela (Bolivarian Republic of)</td>\n",
       "      <td>Proportion of population with primary reliance...</td>\n",
       "      <td>2015</td>\n",
       "      <td>95</td>\n",
       "    </tr>\n",
       "    <tr>\n",
       "      <th>3537</th>\n",
       "      <td>Viet Nam</td>\n",
       "      <td>Proportion of population with primary reliance...</td>\n",
       "      <td>2015</td>\n",
       "      <td>59</td>\n",
       "    </tr>\n",
       "    <tr>\n",
       "      <th>3556</th>\n",
       "      <td>Yemen</td>\n",
       "      <td>Proportion of population with primary reliance...</td>\n",
       "      <td>2015</td>\n",
       "      <td>60</td>\n",
       "    </tr>\n",
       "    <tr>\n",
       "      <th>3575</th>\n",
       "      <td>Zambia</td>\n",
       "      <td>Proportion of population with primary reliance...</td>\n",
       "      <td>2015</td>\n",
       "      <td>15</td>\n",
       "    </tr>\n",
       "    <tr>\n",
       "      <th>3594</th>\n",
       "      <td>Zimbabwe</td>\n",
       "      <td>Proportion of population with primary reliance...</td>\n",
       "      <td>2015</td>\n",
       "      <td>29</td>\n",
       "    </tr>\n",
       "  </tbody>\n",
       "</table>\n",
       "<p>190 rows × 4 columns</p>\n",
       "</div>"
      ],
      "text/plain": [
       "                                Location  \\\n",
       "3                            Afghanistan   \n",
       "22                               Albania   \n",
       "41                               Algeria   \n",
       "60                               Andorra   \n",
       "79                                Angola   \n",
       "...                                  ...   \n",
       "3518  Venezuela (Bolivarian Republic of)   \n",
       "3537                            Viet Nam   \n",
       "3556                               Yemen   \n",
       "3575                              Zambia   \n",
       "3594                            Zimbabwe   \n",
       "\n",
       "                                              Indicator  Period  First Tooltip  \n",
       "3     Proportion of population with primary reliance...    2015             29  \n",
       "22    Proportion of population with primary reliance...    2015             76  \n",
       "41    Proportion of population with primary reliance...    2015             95  \n",
       "60    Proportion of population with primary reliance...    2015             95  \n",
       "79    Proportion of population with primary reliance...    2015             48  \n",
       "...                                                 ...     ...            ...  \n",
       "3518  Proportion of population with primary reliance...    2015             95  \n",
       "3537  Proportion of population with primary reliance...    2015             59  \n",
       "3556  Proportion of population with primary reliance...    2015             60  \n",
       "3575  Proportion of population with primary reliance...    2015             15  \n",
       "3594  Proportion of population with primary reliance...    2015             29  \n",
       "\n",
       "[190 rows x 4 columns]"
      ]
     },
     "execution_count": 20,
     "metadata": {},
     "output_type": "execute_result"
    }
   ],
   "source": [
    "TechFuel_2015 = TechFuel[TechFuel['Period'] == 2015]\n",
    "TechFuel_2015"
   ]
  },
  {
   "cell_type": "code",
   "execution_count": null,
   "metadata": {},
   "outputs": [],
   "source": []
  }
 ],
 "metadata": {
  "kernelspec": {
   "display_name": "Python 3",
   "language": "python",
   "name": "python3"
  },
  "language_info": {
   "codemirror_mode": {
    "name": "ipython",
    "version": 3
   },
   "file_extension": ".py",
   "mimetype": "text/x-python",
   "name": "python",
   "nbconvert_exporter": "python",
   "pygments_lexer": "ipython3",
   "version": "3.8.5"
  }
 },
 "nbformat": 4,
 "nbformat_minor": 4
}
